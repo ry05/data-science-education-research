{
 "cells": [
  {
   "cell_type": "code",
   "execution_count": null,
   "source": [
    "import os\r\n",
    "\r\n",
    "import pandas as pd\r\n",
    "import numpy as np\r\n",
    "from collections import Counter\r\n",
    "\r\n",
    "import matplotlib.pyplot as plt\r\n",
    "import seaborn as sns"
   ],
   "outputs": [],
   "metadata": {
    "tags": [],
    "cell_id": "00000-eed59189-3cbe-4892-a01d-009ddcc9e37f",
    "deepnote_to_be_reexecuted": false,
    "source_hash": "622f2438",
    "execution_start": 1625915969130,
    "execution_millis": 1130,
    "deepnote_cell_type": "code"
   }
  },
  {
   "cell_type": "code",
   "execution_count": 14,
   "source": [
    "labelled_words = pd.read_csv('labelled_words.csv')\r\n",
    "data_path = \"../../data_collection/data/processed\"\r\n",
    "curr_india = pd.read_csv(os.path.join(data_path, \"india_curr.csv\"))\r\n",
    "curr_usa = pd.read_csv(os.path.join(data_path, \"usa_curr.csv\"))"
   ],
   "outputs": [],
   "metadata": {
    "tags": [],
    "cell_id": "00001-313ddd87-ad20-4aa7-bb35-6e98ccaef81b",
    "deepnote_to_be_reexecuted": false,
    "source_hash": "4649d3e8",
    "execution_start": 1625917413267,
    "execution_millis": 24,
    "deepnote_cell_type": "code"
   }
  },
  {
   "cell_type": "code",
   "execution_count": null,
   "source": [
    "curr_data = curr_usa.fillna(\"Not inferred\")"
   ],
   "outputs": [],
   "metadata": {
    "tags": [],
    "cell_id": "00002-863826dd-9fcc-4e29-a555-e509ae9651ff",
    "deepnote_to_be_reexecuted": false,
    "source_hash": "67f15b76",
    "execution_start": 1625917414370,
    "execution_millis": 1,
    "deepnote_cell_type": "code"
   }
  },
  {
   "cell_type": "code",
   "execution_count": null,
   "source": [
    "def get_gds_labels(x):\r\n",
    "\r\n",
    "    labels = \"\"\r\n",
    "\r\n",
    "    if x == 'Not inferred':\r\n",
    "        return x\r\n",
    "    x = x.lower()\r\n",
    "    for word, label in zip(list(labelled_words['word']), list(labelled_words['labels'])):\r\n",
    "        if word in x:\r\n",
    "            labels = labels + \";\" + label\r\n",
    "\r\n",
    "    return labels"
   ],
   "outputs": [],
   "metadata": {
    "tags": [],
    "cell_id": "00004-65462bdb-c12b-46d8-82b7-1d3cd3e847a7",
    "deepnote_to_be_reexecuted": false,
    "source_hash": "5d3ab603",
    "execution_start": 1625917415410,
    "execution_millis": 1,
    "deepnote_cell_type": "code"
   }
  },
  {
   "cell_type": "code",
   "execution_count": null,
   "source": [
    "curr_data['gds_labels'] = curr_data['compulsory course'].apply(get_gds_labels)\r\n"
   ],
   "outputs": [],
   "metadata": {
    "tags": [],
    "cell_id": "00002-f6470f81-4b4d-4278-ab9c-7d125f413120",
    "deepnote_to_be_reexecuted": false,
    "source_hash": "84e68cb0",
    "execution_start": 1625917416413,
    "execution_millis": 105,
    "deepnote_cell_type": "code"
   }
  },
  {
   "cell_type": "code",
   "execution_count": null,
   "source": [
    "def gds_labels_to_list(x):\r\n",
    "\r\n",
    "    temp = x.split(\";\")\r\n",
    "    temp = [element.strip() for element in temp if len(element) != 0]\r\n",
    "    gds_labels = list(set(temp))\r\n",
    "\r\n",
    "    if len(gds_labels) != 0:\r\n",
    "        if 'Not determinable' in gds_labels:\r\n",
    "            gds_labels.remove('Not determinable')\r\n",
    "\r\n",
    "    return gds_labels\r\n",
    "\r\n",
    "def compute_gds_label_proportion(x):\r\n",
    "\r\n",
    "    x = gds_labels_to_list(x)\r\n",
    "    \r\n",
    "    counter_dictionary = Counter(x)\r\n",
    "\r\n",
    "    return counter_dictionary\r\n",
    "\r\n",
    "def extract_proportions(proportions_dict, label):\r\n",
    "    try:\r\n",
    "        p = proportions_dict[label]\r\n",
    "    except:\r\n",
    "        p = 0\r\n",
    "    return p"
   ],
   "outputs": [],
   "metadata": {
    "tags": [],
    "cell_id": "00007-6ce7a797-57f5-44ef-98c5-91887fe8ab77",
    "deepnote_to_be_reexecuted": false,
    "source_hash": "5c02f9eb",
    "execution_start": 1625917417291,
    "execution_millis": 3,
    "deepnote_cell_type": "code"
   }
  },
  {
   "cell_type": "code",
   "execution_count": null,
   "source": [
    "curr_data['gds_label_proportions'] = curr_data['gds_labels'].apply(compute_gds_label_proportion)\r\n",
    "\r\n",
    "curr_data.head()"
   ],
   "outputs": [
    {
     "output_type": "execute_result",
     "data": {
      "text/plain": [
       "                                                 url  \\\n",
       "0  https://www.seas.harvard.edu/applied-computati...   \n",
       "1  https://www.seas.harvard.edu/applied-computati...   \n",
       "2  https://www.seas.harvard.edu/applied-computati...   \n",
       "3  https://www.seas.harvard.edu/applied-computati...   \n",
       "4  https://www.seas.harvard.edu/applied-computati...   \n",
       "\n",
       "                                   compulsory course  \\\n",
       "0      Systems Development for Computational Science   \n",
       "1                       Introduction to Data Science   \n",
       "2                    Advanced Topics in Data Science   \n",
       "3                  Critical Thinking in Data Science   \n",
       "4  Advanced Scientific Computing: Stochastic Meth...   \n",
       "\n",
       "                          course outcome or overview topics covered  \\\n",
       "0  This is a project-based course emphasizing des...   Not inferred   \n",
       "1  Data Science 1 is the first half of a one-year...   Not inferred   \n",
       "2  Data Science 2 is the second half of a one-yea...   Not inferred   \n",
       "3  This course examines the wide-ranging impact d...   Not inferred   \n",
       "4                                       Not inferred   Not inferred   \n",
       "\n",
       "     Unnamed: 4    Unnamed: 5  \\\n",
       "0  Not inferred  Not inferred   \n",
       "1  Not inferred  Not inferred   \n",
       "2  Not inferred  Not inferred   \n",
       "3  Not inferred  Not inferred   \n",
       "4  Not inferred  Not inferred   \n",
       "\n",
       "                                          gds_labels  \\\n",
       "0  ;Computing with Data;Computing with Data;Compu...   \n",
       "1  ;Not determinable;Computing with Data;Data Gat...   \n",
       "2  ;Computing with Data;Data Gathering, Preparati...   \n",
       "3  ;Computing with Data;Data Gathering, Preparati...   \n",
       "4  ;Not determinable;Computing with Data;Data Gat...   \n",
       "\n",
       "                               gds_label_proportions  \n",
       "0                         {'Computing with Data': 1}  \n",
       "1  {'Data Gathering, Preparation and Exploration'...  \n",
       "2  {'Data Gathering, Preparation and Exploration'...  \n",
       "3  {'Data Gathering, Preparation and Exploration'...  \n",
       "4  {'Data Gathering, Preparation and Exploration'...  "
      ],
      "text/html": [
       "<div>\n",
       "<style scoped>\n",
       "    .dataframe tbody tr th:only-of-type {\n",
       "        vertical-align: middle;\n",
       "    }\n",
       "\n",
       "    .dataframe tbody tr th {\n",
       "        vertical-align: top;\n",
       "    }\n",
       "\n",
       "    .dataframe thead th {\n",
       "        text-align: right;\n",
       "    }\n",
       "</style>\n",
       "<table border=\"1\" class=\"dataframe\">\n",
       "  <thead>\n",
       "    <tr style=\"text-align: right;\">\n",
       "      <th></th>\n",
       "      <th>url</th>\n",
       "      <th>compulsory course</th>\n",
       "      <th>course outcome or overview</th>\n",
       "      <th>topics covered</th>\n",
       "      <th>Unnamed: 4</th>\n",
       "      <th>Unnamed: 5</th>\n",
       "      <th>gds_labels</th>\n",
       "      <th>gds_label_proportions</th>\n",
       "    </tr>\n",
       "  </thead>\n",
       "  <tbody>\n",
       "    <tr>\n",
       "      <th>0</th>\n",
       "      <td>https://www.seas.harvard.edu/applied-computati...</td>\n",
       "      <td>Systems Development for Computational Science</td>\n",
       "      <td>This is a project-based course emphasizing des...</td>\n",
       "      <td>Not inferred</td>\n",
       "      <td>Not inferred</td>\n",
       "      <td>Not inferred</td>\n",
       "      <td>;Computing with Data;Computing with Data;Compu...</td>\n",
       "      <td>{'Computing with Data': 1}</td>\n",
       "    </tr>\n",
       "    <tr>\n",
       "      <th>1</th>\n",
       "      <td>https://www.seas.harvard.edu/applied-computati...</td>\n",
       "      <td>Introduction to Data Science</td>\n",
       "      <td>Data Science 1 is the first half of a one-year...</td>\n",
       "      <td>Not inferred</td>\n",
       "      <td>Not inferred</td>\n",
       "      <td>Not inferred</td>\n",
       "      <td>;Not determinable;Computing with Data;Data Gat...</td>\n",
       "      <td>{'Data Gathering, Preparation and Exploration'...</td>\n",
       "    </tr>\n",
       "    <tr>\n",
       "      <th>2</th>\n",
       "      <td>https://www.seas.harvard.edu/applied-computati...</td>\n",
       "      <td>Advanced Topics in Data Science</td>\n",
       "      <td>Data Science 2 is the second half of a one-yea...</td>\n",
       "      <td>Not inferred</td>\n",
       "      <td>Not inferred</td>\n",
       "      <td>Not inferred</td>\n",
       "      <td>;Computing with Data;Data Gathering, Preparati...</td>\n",
       "      <td>{'Data Gathering, Preparation and Exploration'...</td>\n",
       "    </tr>\n",
       "    <tr>\n",
       "      <th>3</th>\n",
       "      <td>https://www.seas.harvard.edu/applied-computati...</td>\n",
       "      <td>Critical Thinking in Data Science</td>\n",
       "      <td>This course examines the wide-ranging impact d...</td>\n",
       "      <td>Not inferred</td>\n",
       "      <td>Not inferred</td>\n",
       "      <td>Not inferred</td>\n",
       "      <td>;Computing with Data;Data Gathering, Preparati...</td>\n",
       "      <td>{'Data Gathering, Preparation and Exploration'...</td>\n",
       "    </tr>\n",
       "    <tr>\n",
       "      <th>4</th>\n",
       "      <td>https://www.seas.harvard.edu/applied-computati...</td>\n",
       "      <td>Advanced Scientific Computing: Stochastic Meth...</td>\n",
       "      <td>Not inferred</td>\n",
       "      <td>Not inferred</td>\n",
       "      <td>Not inferred</td>\n",
       "      <td>Not inferred</td>\n",
       "      <td>;Not determinable;Computing with Data;Data Gat...</td>\n",
       "      <td>{'Data Gathering, Preparation and Exploration'...</td>\n",
       "    </tr>\n",
       "  </tbody>\n",
       "</table>\n",
       "</div>"
      ],
      "application/vnd.deepnote.dataframe.v2+json": {
       "row_count": 5,
       "column_count": 8,
       "columns": [
        {
         "name": "url",
         "dtype": "object",
         "stats": {
          "unique_count": 1,
          "nan_count": 0,
          "categories": [
           {
            "name": "https://www.seas.harvard.edu/applied-computation/graduate-programs/masters-data-science",
            "count": 5
           }
          ]
         }
        },
        {
         "name": "compulsory course",
         "dtype": "object",
         "stats": {
          "unique_count": 5,
          "nan_count": 0,
          "categories": [
           {
            "name": "Systems Development for Computational Science",
            "count": 1
           },
           {
            "name": "Introduction to Data Science",
            "count": 1
           },
           {
            "name": "3 others",
            "count": 3
           }
          ]
         }
        },
        {
         "name": "course outcome or overview",
         "dtype": "object",
         "stats": {
          "unique_count": 5,
          "nan_count": 0,
          "categories": [
           {
            "name": "This is a project-based course emphasizing designing, building, testing, maintaining and modifying software for scientific computing. Students will work in groups on a number of projects, ranging from small data-transformation utilities to large-scale systems. Students will learn to use a variety of tools and languages, as well as various techniques for organizing teams. Most important, students will learn to fit tools and approaches to the problem being solved.",
            "count": 1
           },
           {
            "name": "Data Science 1 is the first half of a one-year introduction to data science. The course will focus on the analysis of messy, real life data to perform predictions using statistical and machine learning methods. Material covered will integrate the five key facets of an investigation using data: (1) data collection - data wrangling, cleaning, and sampling to get a suitable data set;  (2) data management - accessing data quickly and reliably; (3) exploratory data analysis – generating hypotheses and building intuition; (4) prediction or statistical learning; and (5) communication – summarizing results through visualization, stories, and interpretable summaries. Part one of a two part series. The curriculum for this course builds throughout the academic year. Students are strongly encouraged to enroll in both the fall and spring course within the same academic year. Part one of a two part series.",
            "count": 1
           },
           {
            "name": "3 others",
            "count": 3
           }
          ]
         }
        },
        {
         "name": "topics covered",
         "dtype": "object",
         "stats": {
          "unique_count": 1,
          "nan_count": 0,
          "categories": [
           {
            "name": "Not inferred",
            "count": 5
           }
          ]
         }
        },
        {
         "name": "Unnamed: 4",
         "dtype": "object",
         "stats": {
          "unique_count": 1,
          "nan_count": 0,
          "categories": [
           {
            "name": "Not inferred",
            "count": 5
           }
          ]
         }
        },
        {
         "name": "Unnamed: 5",
         "dtype": "object",
         "stats": {
          "unique_count": 1,
          "nan_count": 0,
          "categories": [
           {
            "name": "Not inferred",
            "count": 5
           }
          ]
         }
        },
        {
         "name": "gds_labels",
         "dtype": "object",
         "stats": {
          "unique_count": 5,
          "nan_count": 0,
          "categories": [
           {
            "name": ";Computing with Data;Computing with Data;Computing with Data;Not determinable;Not determinable;Not determinable;Computing with Data;Computing with Data",
            "count": 1
           },
           {
            "name": ";Not determinable;Computing with Data;Data Gathering, Preparation and Exploration; Data Representation and Transformation; Computing with Data; Data Modeling; Data Visualization and Presentation;Computing with Data;Not determinable;Not determinable",
            "count": 1
           },
           {
            "name": "3 others",
            "count": 3
           }
          ]
         }
        },
        {
         "name": "gds_label_proportions",
         "dtype": "object",
         "stats": {
          "unique_count": 5,
          "nan_count": 0,
          "categories": [
           {
            "name": "Counter({'Data Gathering, Preparation and Exploration': 1, 'Data Visualization and Presentation': 1, 'Data Representation and Transformation': 1, 'Computing with Data': 1, 'Data Modeling': 1})",
            "count": 3
           },
           {
            "name": "Counter({'Computing with Data': 1})",
            "count": 1
           },
           {
            "name": "Counter({'Data Gathering, Preparation and Exploration': 1, 'Data Visualization and Presentation': 1, 'Data Representation and Transformation': 1, 'Computing with Data': 1, 'Science about Data Science': 1, 'Data Modeling': 1})",
            "count": 1
           }
          ]
         }
        },
        {
         "name": "_deepnote_index_column",
         "dtype": "int64"
        }
       ],
       "rows_top": [
        {
         "url": "https://www.seas.harvard.edu/applied-computation/graduate-programs/masters-data-science",
         "compulsory course": "Systems Development for Computational Science",
         "course outcome or overview": "This is a project-based course emphasizing designing, building, testing, maintaining and modifying …",
         "topics covered": "Not inferred",
         "Unnamed: 4": "Not inferred",
         "Unnamed: 5": "Not inferred",
         "gds_labels": ";Computing with Data;Computing with Data;Computing with Data;Not determinable;Not determinable;Not …",
         "gds_label_proportions": "Counter({'Computing with Data': 1})",
         "_deepnote_index_column": 0
        },
        {
         "url": "https://www.seas.harvard.edu/applied-computation/graduate-programs/masters-data-science",
         "compulsory course": "Introduction to Data Science",
         "course outcome or overview": "Data Science 1 is the first half of a one-year introduction to data science. The course will focus …",
         "topics covered": "Not inferred",
         "Unnamed: 4": "Not inferred",
         "Unnamed: 5": "Not inferred",
         "gds_labels": ";Not determinable;Computing with Data;Data Gathering, Preparation and Exploration; Data Representat…",
         "gds_label_proportions": "Counter({'Data Gathering, Preparation and Exploration': 1, 'Data Visualization and Presentation': 1…",
         "_deepnote_index_column": 1
        },
        {
         "url": "https://www.seas.harvard.edu/applied-computation/graduate-programs/masters-data-science",
         "compulsory course": "Advanced Topics in Data Science",
         "course outcome or overview": "Data Science 2 is the second half of a one-year introduction to data science. Building upon the mat…",
         "topics covered": "Not inferred",
         "Unnamed: 4": "Not inferred",
         "Unnamed: 5": "Not inferred",
         "gds_labels": ";Computing with Data;Data Gathering, Preparation and Exploration; Data Representation and Transform…",
         "gds_label_proportions": "Counter({'Data Gathering, Preparation and Exploration': 1, 'Data Visualization and Presentation': 1…",
         "_deepnote_index_column": 2
        },
        {
         "url": "https://www.seas.harvard.edu/applied-computation/graduate-programs/masters-data-science",
         "compulsory course": "Critical Thinking in Data Science",
         "course outcome or overview": "This course examines the wide-ranging impact data science has on the world and how to think critica…",
         "topics covered": "Not inferred",
         "Unnamed: 4": "Not inferred",
         "Unnamed: 5": "Not inferred",
         "gds_labels": ";Computing with Data;Data Gathering, Preparation and Exploration; Data Representation and Transform…",
         "gds_label_proportions": "Counter({'Data Gathering, Preparation and Exploration': 1, 'Data Visualization and Presentation': 1…",
         "_deepnote_index_column": 3
        },
        {
         "url": "https://www.seas.harvard.edu/applied-computation/graduate-programs/masters-data-science",
         "compulsory course": "Advanced Scientific Computing: Stochastic Methods for Data Analysis, Inference, and Optimization",
         "course outcome or overview": "Not inferred",
         "topics covered": "Not inferred",
         "Unnamed: 4": "Not inferred",
         "Unnamed: 5": "Not inferred",
         "gds_labels": ";Not determinable;Computing with Data;Data Gathering, Preparation and Exploration; Data Representat…",
         "gds_label_proportions": "Counter({'Data Gathering, Preparation and Exploration': 1, 'Data Visualization and Presentation': 1…",
         "_deepnote_index_column": 4
        }
       ],
       "rows_bottom": null
      }
     },
     "metadata": {},
     "execution_count": 37
    }
   ],
   "metadata": {
    "tags": [],
    "cell_id": "00008-2c1500f6-8cb9-49e1-bcb3-983b59906b83",
    "deepnote_to_be_reexecuted": false,
    "source_hash": "38e3b04",
    "execution_start": 1625917418254,
    "execution_millis": 40,
    "deepnote_cell_type": "code"
   }
  },
  {
   "cell_type": "code",
   "execution_count": null,
   "source": [
    "labels = [\r\n",
    "    \"Data Gathering, Preparation and Exploration\",\r\n",
    "    \"Data Representation and Transformation\",\r\n",
    "    \"Computing with Data\",\r\n",
    "    \"Data Modeling\",\r\n",
    "    \"Data Visualization and Presentation\",\r\n",
    "    \"Science about Data Science\",\r\n",
    "    \"Not determinable\",\r\n",
    "]\r\n",
    "\r\n",
    "for label in labels:\r\n",
    "    curr_data[label] = np.nan\r\n",
    "\r\n",
    "for label in labels:\r\n",
    "    curr_data[label] = curr_data.gds_label_proportions.apply(lambda x: extract_proportions(x, label))\r\n",
    "\r\n",
    "curr_data.head()"
   ],
   "outputs": [
    {
     "output_type": "execute_result",
     "data": {
      "text/plain": [
       "                                                 url  \\\n",
       "0  https://www.seas.harvard.edu/applied-computati...   \n",
       "1  https://www.seas.harvard.edu/applied-computati...   \n",
       "2  https://www.seas.harvard.edu/applied-computati...   \n",
       "3  https://www.seas.harvard.edu/applied-computati...   \n",
       "4  https://www.seas.harvard.edu/applied-computati...   \n",
       "\n",
       "                                   compulsory course  \\\n",
       "0      Systems Development for Computational Science   \n",
       "1                       Introduction to Data Science   \n",
       "2                    Advanced Topics in Data Science   \n",
       "3                  Critical Thinking in Data Science   \n",
       "4  Advanced Scientific Computing: Stochastic Meth...   \n",
       "\n",
       "                          course outcome or overview topics covered  \\\n",
       "0  This is a project-based course emphasizing des...   Not inferred   \n",
       "1  Data Science 1 is the first half of a one-year...   Not inferred   \n",
       "2  Data Science 2 is the second half of a one-yea...   Not inferred   \n",
       "3  This course examines the wide-ranging impact d...   Not inferred   \n",
       "4                                       Not inferred   Not inferred   \n",
       "\n",
       "     Unnamed: 4    Unnamed: 5  \\\n",
       "0  Not inferred  Not inferred   \n",
       "1  Not inferred  Not inferred   \n",
       "2  Not inferred  Not inferred   \n",
       "3  Not inferred  Not inferred   \n",
       "4  Not inferred  Not inferred   \n",
       "\n",
       "                                          gds_labels  \\\n",
       "0  ;Computing with Data;Computing with Data;Compu...   \n",
       "1  ;Not determinable;Computing with Data;Data Gat...   \n",
       "2  ;Computing with Data;Data Gathering, Preparati...   \n",
       "3  ;Computing with Data;Data Gathering, Preparati...   \n",
       "4  ;Not determinable;Computing with Data;Data Gat...   \n",
       "\n",
       "                               gds_label_proportions  \\\n",
       "0                         {'Computing with Data': 1}   \n",
       "1  {'Data Gathering, Preparation and Exploration'...   \n",
       "2  {'Data Gathering, Preparation and Exploration'...   \n",
       "3  {'Data Gathering, Preparation and Exploration'...   \n",
       "4  {'Data Gathering, Preparation and Exploration'...   \n",
       "\n",
       "   Data Gathering, Preparation and Exploration  \\\n",
       "0                                            0   \n",
       "1                                            1   \n",
       "2                                            1   \n",
       "3                                            1   \n",
       "4                                            1   \n",
       "\n",
       "   Data Representation and Transformation  Computing with Data  Data Modeling  \\\n",
       "0                                       0                    1              0   \n",
       "1                                       1                    1              1   \n",
       "2                                       1                    1              1   \n",
       "3                                       1                    1              1   \n",
       "4                                       1                    1              1   \n",
       "\n",
       "   Data Visualization and Presentation  Science about Data Science  \\\n",
       "0                                    0                           0   \n",
       "1                                    1                           0   \n",
       "2                                    1                           0   \n",
       "3                                    1                           1   \n",
       "4                                    1                           0   \n",
       "\n",
       "   Not determinable  \n",
       "0                 0  \n",
       "1                 0  \n",
       "2                 0  \n",
       "3                 0  \n",
       "4                 0  "
      ],
      "text/html": [
       "<div>\n",
       "<style scoped>\n",
       "    .dataframe tbody tr th:only-of-type {\n",
       "        vertical-align: middle;\n",
       "    }\n",
       "\n",
       "    .dataframe tbody tr th {\n",
       "        vertical-align: top;\n",
       "    }\n",
       "\n",
       "    .dataframe thead th {\n",
       "        text-align: right;\n",
       "    }\n",
       "</style>\n",
       "<table border=\"1\" class=\"dataframe\">\n",
       "  <thead>\n",
       "    <tr style=\"text-align: right;\">\n",
       "      <th></th>\n",
       "      <th>url</th>\n",
       "      <th>compulsory course</th>\n",
       "      <th>course outcome or overview</th>\n",
       "      <th>topics covered</th>\n",
       "      <th>Unnamed: 4</th>\n",
       "      <th>Unnamed: 5</th>\n",
       "      <th>gds_labels</th>\n",
       "      <th>gds_label_proportions</th>\n",
       "      <th>Data Gathering, Preparation and Exploration</th>\n",
       "      <th>Data Representation and Transformation</th>\n",
       "      <th>Computing with Data</th>\n",
       "      <th>Data Modeling</th>\n",
       "      <th>Data Visualization and Presentation</th>\n",
       "      <th>Science about Data Science</th>\n",
       "      <th>Not determinable</th>\n",
       "    </tr>\n",
       "  </thead>\n",
       "  <tbody>\n",
       "    <tr>\n",
       "      <th>0</th>\n",
       "      <td>https://www.seas.harvard.edu/applied-computati...</td>\n",
       "      <td>Systems Development for Computational Science</td>\n",
       "      <td>This is a project-based course emphasizing des...</td>\n",
       "      <td>Not inferred</td>\n",
       "      <td>Not inferred</td>\n",
       "      <td>Not inferred</td>\n",
       "      <td>;Computing with Data;Computing with Data;Compu...</td>\n",
       "      <td>{'Computing with Data': 1}</td>\n",
       "      <td>0</td>\n",
       "      <td>0</td>\n",
       "      <td>1</td>\n",
       "      <td>0</td>\n",
       "      <td>0</td>\n",
       "      <td>0</td>\n",
       "      <td>0</td>\n",
       "    </tr>\n",
       "    <tr>\n",
       "      <th>1</th>\n",
       "      <td>https://www.seas.harvard.edu/applied-computati...</td>\n",
       "      <td>Introduction to Data Science</td>\n",
       "      <td>Data Science 1 is the first half of a one-year...</td>\n",
       "      <td>Not inferred</td>\n",
       "      <td>Not inferred</td>\n",
       "      <td>Not inferred</td>\n",
       "      <td>;Not determinable;Computing with Data;Data Gat...</td>\n",
       "      <td>{'Data Gathering, Preparation and Exploration'...</td>\n",
       "      <td>1</td>\n",
       "      <td>1</td>\n",
       "      <td>1</td>\n",
       "      <td>1</td>\n",
       "      <td>1</td>\n",
       "      <td>0</td>\n",
       "      <td>0</td>\n",
       "    </tr>\n",
       "    <tr>\n",
       "      <th>2</th>\n",
       "      <td>https://www.seas.harvard.edu/applied-computati...</td>\n",
       "      <td>Advanced Topics in Data Science</td>\n",
       "      <td>Data Science 2 is the second half of a one-yea...</td>\n",
       "      <td>Not inferred</td>\n",
       "      <td>Not inferred</td>\n",
       "      <td>Not inferred</td>\n",
       "      <td>;Computing with Data;Data Gathering, Preparati...</td>\n",
       "      <td>{'Data Gathering, Preparation and Exploration'...</td>\n",
       "      <td>1</td>\n",
       "      <td>1</td>\n",
       "      <td>1</td>\n",
       "      <td>1</td>\n",
       "      <td>1</td>\n",
       "      <td>0</td>\n",
       "      <td>0</td>\n",
       "    </tr>\n",
       "    <tr>\n",
       "      <th>3</th>\n",
       "      <td>https://www.seas.harvard.edu/applied-computati...</td>\n",
       "      <td>Critical Thinking in Data Science</td>\n",
       "      <td>This course examines the wide-ranging impact d...</td>\n",
       "      <td>Not inferred</td>\n",
       "      <td>Not inferred</td>\n",
       "      <td>Not inferred</td>\n",
       "      <td>;Computing with Data;Data Gathering, Preparati...</td>\n",
       "      <td>{'Data Gathering, Preparation and Exploration'...</td>\n",
       "      <td>1</td>\n",
       "      <td>1</td>\n",
       "      <td>1</td>\n",
       "      <td>1</td>\n",
       "      <td>1</td>\n",
       "      <td>1</td>\n",
       "      <td>0</td>\n",
       "    </tr>\n",
       "    <tr>\n",
       "      <th>4</th>\n",
       "      <td>https://www.seas.harvard.edu/applied-computati...</td>\n",
       "      <td>Advanced Scientific Computing: Stochastic Meth...</td>\n",
       "      <td>Not inferred</td>\n",
       "      <td>Not inferred</td>\n",
       "      <td>Not inferred</td>\n",
       "      <td>Not inferred</td>\n",
       "      <td>;Not determinable;Computing with Data;Data Gat...</td>\n",
       "      <td>{'Data Gathering, Preparation and Exploration'...</td>\n",
       "      <td>1</td>\n",
       "      <td>1</td>\n",
       "      <td>1</td>\n",
       "      <td>1</td>\n",
       "      <td>1</td>\n",
       "      <td>0</td>\n",
       "      <td>0</td>\n",
       "    </tr>\n",
       "  </tbody>\n",
       "</table>\n",
       "</div>"
      ],
      "application/vnd.deepnote.dataframe.v2+json": {
       "row_count": 5,
       "column_count": 15,
       "columns": [
        {
         "name": "url",
         "dtype": "object",
         "stats": {
          "unique_count": 1,
          "nan_count": 0,
          "categories": [
           {
            "name": "https://www.seas.harvard.edu/applied-computation/graduate-programs/masters-data-science",
            "count": 5
           }
          ]
         }
        },
        {
         "name": "compulsory course",
         "dtype": "object",
         "stats": {
          "unique_count": 5,
          "nan_count": 0,
          "categories": [
           {
            "name": "Systems Development for Computational Science",
            "count": 1
           },
           {
            "name": "Introduction to Data Science",
            "count": 1
           },
           {
            "name": "3 others",
            "count": 3
           }
          ]
         }
        },
        {
         "name": "course outcome or overview",
         "dtype": "object",
         "stats": {
          "unique_count": 5,
          "nan_count": 0,
          "categories": [
           {
            "name": "This is a project-based course emphasizing designing, building, testing, maintaining and modifying software for scientific computing. Students will work in groups on a number of projects, ranging from small data-transformation utilities to large-scale systems. Students will learn to use a variety of tools and languages, as well as various techniques for organizing teams. Most important, students will learn to fit tools and approaches to the problem being solved.",
            "count": 1
           },
           {
            "name": "Data Science 1 is the first half of a one-year introduction to data science. The course will focus on the analysis of messy, real life data to perform predictions using statistical and machine learning methods. Material covered will integrate the five key facets of an investigation using data: (1) data collection - data wrangling, cleaning, and sampling to get a suitable data set;  (2) data management - accessing data quickly and reliably; (3) exploratory data analysis – generating hypotheses and building intuition; (4) prediction or statistical learning; and (5) communication – summarizing results through visualization, stories, and interpretable summaries. Part one of a two part series. The curriculum for this course builds throughout the academic year. Students are strongly encouraged to enroll in both the fall and spring course within the same academic year. Part one of a two part series.",
            "count": 1
           },
           {
            "name": "3 others",
            "count": 3
           }
          ]
         }
        },
        {
         "name": "topics covered",
         "dtype": "object",
         "stats": {
          "unique_count": 1,
          "nan_count": 0,
          "categories": [
           {
            "name": "Not inferred",
            "count": 5
           }
          ]
         }
        },
        {
         "name": "Unnamed: 4",
         "dtype": "object",
         "stats": {
          "unique_count": 1,
          "nan_count": 0,
          "categories": [
           {
            "name": "Not inferred",
            "count": 5
           }
          ]
         }
        },
        {
         "name": "Unnamed: 5",
         "dtype": "object",
         "stats": {
          "unique_count": 1,
          "nan_count": 0,
          "categories": [
           {
            "name": "Not inferred",
            "count": 5
           }
          ]
         }
        },
        {
         "name": "gds_labels",
         "dtype": "object",
         "stats": {
          "unique_count": 5,
          "nan_count": 0,
          "categories": [
           {
            "name": ";Computing with Data;Computing with Data;Computing with Data;Not determinable;Not determinable;Not determinable;Computing with Data;Computing with Data",
            "count": 1
           },
           {
            "name": ";Not determinable;Computing with Data;Data Gathering, Preparation and Exploration; Data Representation and Transformation; Computing with Data; Data Modeling; Data Visualization and Presentation;Computing with Data;Not determinable;Not determinable",
            "count": 1
           },
           {
            "name": "3 others",
            "count": 3
           }
          ]
         }
        },
        {
         "name": "gds_label_proportions",
         "dtype": "object",
         "stats": {
          "unique_count": 5,
          "nan_count": 0,
          "categories": [
           {
            "name": "Counter({'Data Gathering, Preparation and Exploration': 1, 'Data Visualization and Presentation': 1, 'Data Representation and Transformation': 1, 'Computing with Data': 1, 'Data Modeling': 1})",
            "count": 3
           },
           {
            "name": "Counter({'Computing with Data': 1})",
            "count": 1
           },
           {
            "name": "Counter({'Data Gathering, Preparation and Exploration': 1, 'Data Visualization and Presentation': 1, 'Data Representation and Transformation': 1, 'Computing with Data': 1, 'Science about Data Science': 1, 'Data Modeling': 1})",
            "count": 1
           }
          ]
         }
        },
        {
         "name": "Data Gathering, Preparation and Exploration",
         "dtype": "int64",
         "stats": {
          "unique_count": 2,
          "nan_count": 0,
          "min": "0",
          "max": "1",
          "histogram": [
           {
            "bin_start": 0,
            "bin_end": 0.1,
            "count": 1
           },
           {
            "bin_start": 0.1,
            "bin_end": 0.2,
            "count": 0
           },
           {
            "bin_start": 0.2,
            "bin_end": 0.30000000000000004,
            "count": 0
           },
           {
            "bin_start": 0.30000000000000004,
            "bin_end": 0.4,
            "count": 0
           },
           {
            "bin_start": 0.4,
            "bin_end": 0.5,
            "count": 0
           },
           {
            "bin_start": 0.5,
            "bin_end": 0.6000000000000001,
            "count": 0
           },
           {
            "bin_start": 0.6000000000000001,
            "bin_end": 0.7000000000000001,
            "count": 0
           },
           {
            "bin_start": 0.7000000000000001,
            "bin_end": 0.8,
            "count": 0
           },
           {
            "bin_start": 0.8,
            "bin_end": 0.9,
            "count": 0
           },
           {
            "bin_start": 0.9,
            "bin_end": 1,
            "count": 4
           }
          ]
         }
        },
        {
         "name": "Data Representation and Transformation",
         "dtype": "int64",
         "stats": {
          "unique_count": 2,
          "nan_count": 0,
          "min": "0",
          "max": "1",
          "histogram": [
           {
            "bin_start": 0,
            "bin_end": 0.1,
            "count": 1
           },
           {
            "bin_start": 0.1,
            "bin_end": 0.2,
            "count": 0
           },
           {
            "bin_start": 0.2,
            "bin_end": 0.30000000000000004,
            "count": 0
           },
           {
            "bin_start": 0.30000000000000004,
            "bin_end": 0.4,
            "count": 0
           },
           {
            "bin_start": 0.4,
            "bin_end": 0.5,
            "count": 0
           },
           {
            "bin_start": 0.5,
            "bin_end": 0.6000000000000001,
            "count": 0
           },
           {
            "bin_start": 0.6000000000000001,
            "bin_end": 0.7000000000000001,
            "count": 0
           },
           {
            "bin_start": 0.7000000000000001,
            "bin_end": 0.8,
            "count": 0
           },
           {
            "bin_start": 0.8,
            "bin_end": 0.9,
            "count": 0
           },
           {
            "bin_start": 0.9,
            "bin_end": 1,
            "count": 4
           }
          ]
         }
        },
        {
         "name": "Computing with Data",
         "dtype": "int64",
         "stats": {
          "unique_count": 1,
          "nan_count": 0,
          "min": "1",
          "max": "1",
          "histogram": [
           {
            "bin_start": 0.5,
            "bin_end": 0.6,
            "count": 0
           },
           {
            "bin_start": 0.6,
            "bin_end": 0.7,
            "count": 0
           },
           {
            "bin_start": 0.7,
            "bin_end": 0.8,
            "count": 0
           },
           {
            "bin_start": 0.8,
            "bin_end": 0.9,
            "count": 0
           },
           {
            "bin_start": 0.9,
            "bin_end": 1,
            "count": 0
           },
           {
            "bin_start": 1,
            "bin_end": 1.1,
            "count": 5
           },
           {
            "bin_start": 1.1,
            "bin_end": 1.2000000000000002,
            "count": 0
           },
           {
            "bin_start": 1.2000000000000002,
            "bin_end": 1.3,
            "count": 0
           },
           {
            "bin_start": 1.3,
            "bin_end": 1.4,
            "count": 0
           },
           {
            "bin_start": 1.4,
            "bin_end": 1.5,
            "count": 0
           }
          ]
         }
        },
        {
         "name": "Data Modeling",
         "dtype": "int64",
         "stats": {
          "unique_count": 2,
          "nan_count": 0,
          "min": "0",
          "max": "1",
          "histogram": [
           {
            "bin_start": 0,
            "bin_end": 0.1,
            "count": 1
           },
           {
            "bin_start": 0.1,
            "bin_end": 0.2,
            "count": 0
           },
           {
            "bin_start": 0.2,
            "bin_end": 0.30000000000000004,
            "count": 0
           },
           {
            "bin_start": 0.30000000000000004,
            "bin_end": 0.4,
            "count": 0
           },
           {
            "bin_start": 0.4,
            "bin_end": 0.5,
            "count": 0
           },
           {
            "bin_start": 0.5,
            "bin_end": 0.6000000000000001,
            "count": 0
           },
           {
            "bin_start": 0.6000000000000001,
            "bin_end": 0.7000000000000001,
            "count": 0
           },
           {
            "bin_start": 0.7000000000000001,
            "bin_end": 0.8,
            "count": 0
           },
           {
            "bin_start": 0.8,
            "bin_end": 0.9,
            "count": 0
           },
           {
            "bin_start": 0.9,
            "bin_end": 1,
            "count": 4
           }
          ]
         }
        },
        {
         "name": "Data Visualization and Presentation",
         "dtype": "int64",
         "stats": {
          "unique_count": 2,
          "nan_count": 0,
          "min": "0",
          "max": "1",
          "histogram": [
           {
            "bin_start": 0,
            "bin_end": 0.1,
            "count": 1
           },
           {
            "bin_start": 0.1,
            "bin_end": 0.2,
            "count": 0
           },
           {
            "bin_start": 0.2,
            "bin_end": 0.30000000000000004,
            "count": 0
           },
           {
            "bin_start": 0.30000000000000004,
            "bin_end": 0.4,
            "count": 0
           },
           {
            "bin_start": 0.4,
            "bin_end": 0.5,
            "count": 0
           },
           {
            "bin_start": 0.5,
            "bin_end": 0.6000000000000001,
            "count": 0
           },
           {
            "bin_start": 0.6000000000000001,
            "bin_end": 0.7000000000000001,
            "count": 0
           },
           {
            "bin_start": 0.7000000000000001,
            "bin_end": 0.8,
            "count": 0
           },
           {
            "bin_start": 0.8,
            "bin_end": 0.9,
            "count": 0
           },
           {
            "bin_start": 0.9,
            "bin_end": 1,
            "count": 4
           }
          ]
         }
        },
        {
         "name": "Science about Data Science",
         "dtype": "int64",
         "stats": {
          "unique_count": 2,
          "nan_count": 0,
          "min": "0",
          "max": "1",
          "histogram": [
           {
            "bin_start": 0,
            "bin_end": 0.1,
            "count": 4
           },
           {
            "bin_start": 0.1,
            "bin_end": 0.2,
            "count": 0
           },
           {
            "bin_start": 0.2,
            "bin_end": 0.30000000000000004,
            "count": 0
           },
           {
            "bin_start": 0.30000000000000004,
            "bin_end": 0.4,
            "count": 0
           },
           {
            "bin_start": 0.4,
            "bin_end": 0.5,
            "count": 0
           },
           {
            "bin_start": 0.5,
            "bin_end": 0.6000000000000001,
            "count": 0
           },
           {
            "bin_start": 0.6000000000000001,
            "bin_end": 0.7000000000000001,
            "count": 0
           },
           {
            "bin_start": 0.7000000000000001,
            "bin_end": 0.8,
            "count": 0
           },
           {
            "bin_start": 0.8,
            "bin_end": 0.9,
            "count": 0
           },
           {
            "bin_start": 0.9,
            "bin_end": 1,
            "count": 1
           }
          ]
         }
        },
        {
         "name": "Not determinable",
         "dtype": "int64",
         "stats": {
          "unique_count": 1,
          "nan_count": 0,
          "min": "0",
          "max": "0",
          "histogram": [
           {
            "bin_start": -0.5,
            "bin_end": -0.4,
            "count": 0
           },
           {
            "bin_start": -0.4,
            "bin_end": -0.3,
            "count": 0
           },
           {
            "bin_start": -0.3,
            "bin_end": -0.19999999999999996,
            "count": 0
           },
           {
            "bin_start": -0.19999999999999996,
            "bin_end": -0.09999999999999998,
            "count": 0
           },
           {
            "bin_start": -0.09999999999999998,
            "bin_end": 0,
            "count": 0
           },
           {
            "bin_start": 0,
            "bin_end": 0.10000000000000009,
            "count": 5
           },
           {
            "bin_start": 0.10000000000000009,
            "bin_end": 0.20000000000000007,
            "count": 0
           },
           {
            "bin_start": 0.20000000000000007,
            "bin_end": 0.30000000000000004,
            "count": 0
           },
           {
            "bin_start": 0.30000000000000004,
            "bin_end": 0.4,
            "count": 0
           },
           {
            "bin_start": 0.4,
            "bin_end": 0.5,
            "count": 0
           }
          ]
         }
        },
        {
         "name": "_deepnote_index_column",
         "dtype": "int64"
        }
       ],
       "rows_top": [
        {
         "url": "https://www.seas.harvard.edu/applied-computation/graduate-programs/masters-data-science",
         "compulsory course": "Systems Development for Computational Science",
         "course outcome or overview": "This is a project-based course emphasizing designing, building, testing, maintaining and modifying …",
         "topics covered": "Not inferred",
         "Unnamed: 4": "Not inferred",
         "Unnamed: 5": "Not inferred",
         "gds_labels": ";Computing with Data;Computing with Data;Computing with Data;Not determinable;Not determinable;Not …",
         "gds_label_proportions": "Counter({'Computing with Data': 1})",
         "Data Gathering, Preparation and Exploration": 0,
         "Data Representation and Transformation": 0,
         "Computing with Data": 1,
         "Data Modeling": 0,
         "Data Visualization and Presentation": 0,
         "Science about Data Science": 0,
         "Not determinable": 0,
         "_deepnote_index_column": 0
        },
        {
         "url": "https://www.seas.harvard.edu/applied-computation/graduate-programs/masters-data-science",
         "compulsory course": "Introduction to Data Science",
         "course outcome or overview": "Data Science 1 is the first half of a one-year introduction to data science. The course will focus …",
         "topics covered": "Not inferred",
         "Unnamed: 4": "Not inferred",
         "Unnamed: 5": "Not inferred",
         "gds_labels": ";Not determinable;Computing with Data;Data Gathering, Preparation and Exploration; Data Representat…",
         "gds_label_proportions": "Counter({'Data Gathering, Preparation and Exploration': 1, 'Data Visualization and Presentation': 1…",
         "Data Gathering, Preparation and Exploration": 1,
         "Data Representation and Transformation": 1,
         "Computing with Data": 1,
         "Data Modeling": 1,
         "Data Visualization and Presentation": 1,
         "Science about Data Science": 0,
         "Not determinable": 0,
         "_deepnote_index_column": 1
        },
        {
         "url": "https://www.seas.harvard.edu/applied-computation/graduate-programs/masters-data-science",
         "compulsory course": "Advanced Topics in Data Science",
         "course outcome or overview": "Data Science 2 is the second half of a one-year introduction to data science. Building upon the mat…",
         "topics covered": "Not inferred",
         "Unnamed: 4": "Not inferred",
         "Unnamed: 5": "Not inferred",
         "gds_labels": ";Computing with Data;Data Gathering, Preparation and Exploration; Data Representation and Transform…",
         "gds_label_proportions": "Counter({'Data Gathering, Preparation and Exploration': 1, 'Data Visualization and Presentation': 1…",
         "Data Gathering, Preparation and Exploration": 1,
         "Data Representation and Transformation": 1,
         "Computing with Data": 1,
         "Data Modeling": 1,
         "Data Visualization and Presentation": 1,
         "Science about Data Science": 0,
         "Not determinable": 0,
         "_deepnote_index_column": 2
        },
        {
         "url": "https://www.seas.harvard.edu/applied-computation/graduate-programs/masters-data-science",
         "compulsory course": "Critical Thinking in Data Science",
         "course outcome or overview": "This course examines the wide-ranging impact data science has on the world and how to think critica…",
         "topics covered": "Not inferred",
         "Unnamed: 4": "Not inferred",
         "Unnamed: 5": "Not inferred",
         "gds_labels": ";Computing with Data;Data Gathering, Preparation and Exploration; Data Representation and Transform…",
         "gds_label_proportions": "Counter({'Data Gathering, Preparation and Exploration': 1, 'Data Visualization and Presentation': 1…",
         "Data Gathering, Preparation and Exploration": 1,
         "Data Representation and Transformation": 1,
         "Computing with Data": 1,
         "Data Modeling": 1,
         "Data Visualization and Presentation": 1,
         "Science about Data Science": 1,
         "Not determinable": 0,
         "_deepnote_index_column": 3
        },
        {
         "url": "https://www.seas.harvard.edu/applied-computation/graduate-programs/masters-data-science",
         "compulsory course": "Advanced Scientific Computing: Stochastic Methods for Data Analysis, Inference, and Optimization",
         "course outcome or overview": "Not inferred",
         "topics covered": "Not inferred",
         "Unnamed: 4": "Not inferred",
         "Unnamed: 5": "Not inferred",
         "gds_labels": ";Not determinable;Computing with Data;Data Gathering, Preparation and Exploration; Data Representat…",
         "gds_label_proportions": "Counter({'Data Gathering, Preparation and Exploration': 1, 'Data Visualization and Presentation': 1…",
         "Data Gathering, Preparation and Exploration": 1,
         "Data Representation and Transformation": 1,
         "Computing with Data": 1,
         "Data Modeling": 1,
         "Data Visualization and Presentation": 1,
         "Science about Data Science": 0,
         "Not determinable": 0,
         "_deepnote_index_column": 4
        }
       ],
       "rows_bottom": null
      }
     },
     "metadata": {},
     "execution_count": 38
    }
   ],
   "metadata": {
    "tags": [],
    "cell_id": "00009-7df257e8-5fb8-4570-97be-05574b701f04",
    "deepnote_to_be_reexecuted": false,
    "source_hash": "c1528762",
    "execution_start": 1625917419478,
    "execution_millis": 57,
    "deepnote_cell_type": "code"
   }
  },
  {
   "cell_type": "code",
   "execution_count": null,
   "source": [
    "# check\r\n",
    "temp = curr_data[labels]\r\n",
    "temp.sum(axis=1).unique()"
   ],
   "outputs": [
    {
     "output_type": "execute_result",
     "data": {
      "text/plain": [
       "array([1, 5, 6, 3, 2, 4, 0])"
      ]
     },
     "metadata": {},
     "execution_count": 39
    }
   ],
   "metadata": {
    "tags": [],
    "cell_id": "00005-637efc80-2bdf-49b2-82ff-1cee1438878c",
    "deepnote_to_be_reexecuted": false,
    "source_hash": "9d3db151",
    "execution_start": 1625917420934,
    "execution_millis": 13,
    "deepnote_cell_type": "code"
   }
  },
  {
   "cell_type": "code",
   "execution_count": null,
   "source": [
    "curr_data_sub = pd.concat([curr_data[['compulsory course', 'url']], temp], axis=1)\r\n",
    "curr_data_sub.head()"
   ],
   "outputs": [
    {
     "output_type": "execute_result",
     "data": {
      "text/plain": [
       "                                   compulsory course  \\\n",
       "0      Systems Development for Computational Science   \n",
       "1                       Introduction to Data Science   \n",
       "2                    Advanced Topics in Data Science   \n",
       "3                  Critical Thinking in Data Science   \n",
       "4  Advanced Scientific Computing: Stochastic Meth...   \n",
       "\n",
       "                                                 url  \\\n",
       "0  https://www.seas.harvard.edu/applied-computati...   \n",
       "1  https://www.seas.harvard.edu/applied-computati...   \n",
       "2  https://www.seas.harvard.edu/applied-computati...   \n",
       "3  https://www.seas.harvard.edu/applied-computati...   \n",
       "4  https://www.seas.harvard.edu/applied-computati...   \n",
       "\n",
       "   Data Gathering, Preparation and Exploration  \\\n",
       "0                                            0   \n",
       "1                                            1   \n",
       "2                                            1   \n",
       "3                                            1   \n",
       "4                                            1   \n",
       "\n",
       "   Data Representation and Transformation  Computing with Data  Data Modeling  \\\n",
       "0                                       0                    1              0   \n",
       "1                                       1                    1              1   \n",
       "2                                       1                    1              1   \n",
       "3                                       1                    1              1   \n",
       "4                                       1                    1              1   \n",
       "\n",
       "   Data Visualization and Presentation  Science about Data Science  \\\n",
       "0                                    0                           0   \n",
       "1                                    1                           0   \n",
       "2                                    1                           0   \n",
       "3                                    1                           1   \n",
       "4                                    1                           0   \n",
       "\n",
       "   Not determinable  \n",
       "0                 0  \n",
       "1                 0  \n",
       "2                 0  \n",
       "3                 0  \n",
       "4                 0  "
      ],
      "text/html": [
       "<div>\n",
       "<style scoped>\n",
       "    .dataframe tbody tr th:only-of-type {\n",
       "        vertical-align: middle;\n",
       "    }\n",
       "\n",
       "    .dataframe tbody tr th {\n",
       "        vertical-align: top;\n",
       "    }\n",
       "\n",
       "    .dataframe thead th {\n",
       "        text-align: right;\n",
       "    }\n",
       "</style>\n",
       "<table border=\"1\" class=\"dataframe\">\n",
       "  <thead>\n",
       "    <tr style=\"text-align: right;\">\n",
       "      <th></th>\n",
       "      <th>compulsory course</th>\n",
       "      <th>url</th>\n",
       "      <th>Data Gathering, Preparation and Exploration</th>\n",
       "      <th>Data Representation and Transformation</th>\n",
       "      <th>Computing with Data</th>\n",
       "      <th>Data Modeling</th>\n",
       "      <th>Data Visualization and Presentation</th>\n",
       "      <th>Science about Data Science</th>\n",
       "      <th>Not determinable</th>\n",
       "    </tr>\n",
       "  </thead>\n",
       "  <tbody>\n",
       "    <tr>\n",
       "      <th>0</th>\n",
       "      <td>Systems Development for Computational Science</td>\n",
       "      <td>https://www.seas.harvard.edu/applied-computati...</td>\n",
       "      <td>0</td>\n",
       "      <td>0</td>\n",
       "      <td>1</td>\n",
       "      <td>0</td>\n",
       "      <td>0</td>\n",
       "      <td>0</td>\n",
       "      <td>0</td>\n",
       "    </tr>\n",
       "    <tr>\n",
       "      <th>1</th>\n",
       "      <td>Introduction to Data Science</td>\n",
       "      <td>https://www.seas.harvard.edu/applied-computati...</td>\n",
       "      <td>1</td>\n",
       "      <td>1</td>\n",
       "      <td>1</td>\n",
       "      <td>1</td>\n",
       "      <td>1</td>\n",
       "      <td>0</td>\n",
       "      <td>0</td>\n",
       "    </tr>\n",
       "    <tr>\n",
       "      <th>2</th>\n",
       "      <td>Advanced Topics in Data Science</td>\n",
       "      <td>https://www.seas.harvard.edu/applied-computati...</td>\n",
       "      <td>1</td>\n",
       "      <td>1</td>\n",
       "      <td>1</td>\n",
       "      <td>1</td>\n",
       "      <td>1</td>\n",
       "      <td>0</td>\n",
       "      <td>0</td>\n",
       "    </tr>\n",
       "    <tr>\n",
       "      <th>3</th>\n",
       "      <td>Critical Thinking in Data Science</td>\n",
       "      <td>https://www.seas.harvard.edu/applied-computati...</td>\n",
       "      <td>1</td>\n",
       "      <td>1</td>\n",
       "      <td>1</td>\n",
       "      <td>1</td>\n",
       "      <td>1</td>\n",
       "      <td>1</td>\n",
       "      <td>0</td>\n",
       "    </tr>\n",
       "    <tr>\n",
       "      <th>4</th>\n",
       "      <td>Advanced Scientific Computing: Stochastic Meth...</td>\n",
       "      <td>https://www.seas.harvard.edu/applied-computati...</td>\n",
       "      <td>1</td>\n",
       "      <td>1</td>\n",
       "      <td>1</td>\n",
       "      <td>1</td>\n",
       "      <td>1</td>\n",
       "      <td>0</td>\n",
       "      <td>0</td>\n",
       "    </tr>\n",
       "  </tbody>\n",
       "</table>\n",
       "</div>"
      ],
      "application/vnd.deepnote.dataframe.v2+json": {
       "row_count": 5,
       "column_count": 9,
       "columns": [
        {
         "name": "compulsory course",
         "dtype": "object",
         "stats": {
          "unique_count": 5,
          "nan_count": 0,
          "categories": [
           {
            "name": "Systems Development for Computational Science",
            "count": 1
           },
           {
            "name": "Introduction to Data Science",
            "count": 1
           },
           {
            "name": "3 others",
            "count": 3
           }
          ]
         }
        },
        {
         "name": "url",
         "dtype": "object",
         "stats": {
          "unique_count": 1,
          "nan_count": 0,
          "categories": [
           {
            "name": "https://www.seas.harvard.edu/applied-computation/graduate-programs/masters-data-science",
            "count": 5
           }
          ]
         }
        },
        {
         "name": "Data Gathering, Preparation and Exploration",
         "dtype": "int64",
         "stats": {
          "unique_count": 2,
          "nan_count": 0,
          "min": "0",
          "max": "1",
          "histogram": [
           {
            "bin_start": 0,
            "bin_end": 0.1,
            "count": 1
           },
           {
            "bin_start": 0.1,
            "bin_end": 0.2,
            "count": 0
           },
           {
            "bin_start": 0.2,
            "bin_end": 0.30000000000000004,
            "count": 0
           },
           {
            "bin_start": 0.30000000000000004,
            "bin_end": 0.4,
            "count": 0
           },
           {
            "bin_start": 0.4,
            "bin_end": 0.5,
            "count": 0
           },
           {
            "bin_start": 0.5,
            "bin_end": 0.6000000000000001,
            "count": 0
           },
           {
            "bin_start": 0.6000000000000001,
            "bin_end": 0.7000000000000001,
            "count": 0
           },
           {
            "bin_start": 0.7000000000000001,
            "bin_end": 0.8,
            "count": 0
           },
           {
            "bin_start": 0.8,
            "bin_end": 0.9,
            "count": 0
           },
           {
            "bin_start": 0.9,
            "bin_end": 1,
            "count": 4
           }
          ]
         }
        },
        {
         "name": "Data Representation and Transformation",
         "dtype": "int64",
         "stats": {
          "unique_count": 2,
          "nan_count": 0,
          "min": "0",
          "max": "1",
          "histogram": [
           {
            "bin_start": 0,
            "bin_end": 0.1,
            "count": 1
           },
           {
            "bin_start": 0.1,
            "bin_end": 0.2,
            "count": 0
           },
           {
            "bin_start": 0.2,
            "bin_end": 0.30000000000000004,
            "count": 0
           },
           {
            "bin_start": 0.30000000000000004,
            "bin_end": 0.4,
            "count": 0
           },
           {
            "bin_start": 0.4,
            "bin_end": 0.5,
            "count": 0
           },
           {
            "bin_start": 0.5,
            "bin_end": 0.6000000000000001,
            "count": 0
           },
           {
            "bin_start": 0.6000000000000001,
            "bin_end": 0.7000000000000001,
            "count": 0
           },
           {
            "bin_start": 0.7000000000000001,
            "bin_end": 0.8,
            "count": 0
           },
           {
            "bin_start": 0.8,
            "bin_end": 0.9,
            "count": 0
           },
           {
            "bin_start": 0.9,
            "bin_end": 1,
            "count": 4
           }
          ]
         }
        },
        {
         "name": "Computing with Data",
         "dtype": "int64",
         "stats": {
          "unique_count": 1,
          "nan_count": 0,
          "min": "1",
          "max": "1",
          "histogram": [
           {
            "bin_start": 0.5,
            "bin_end": 0.6,
            "count": 0
           },
           {
            "bin_start": 0.6,
            "bin_end": 0.7,
            "count": 0
           },
           {
            "bin_start": 0.7,
            "bin_end": 0.8,
            "count": 0
           },
           {
            "bin_start": 0.8,
            "bin_end": 0.9,
            "count": 0
           },
           {
            "bin_start": 0.9,
            "bin_end": 1,
            "count": 0
           },
           {
            "bin_start": 1,
            "bin_end": 1.1,
            "count": 5
           },
           {
            "bin_start": 1.1,
            "bin_end": 1.2000000000000002,
            "count": 0
           },
           {
            "bin_start": 1.2000000000000002,
            "bin_end": 1.3,
            "count": 0
           },
           {
            "bin_start": 1.3,
            "bin_end": 1.4,
            "count": 0
           },
           {
            "bin_start": 1.4,
            "bin_end": 1.5,
            "count": 0
           }
          ]
         }
        },
        {
         "name": "Data Modeling",
         "dtype": "int64",
         "stats": {
          "unique_count": 2,
          "nan_count": 0,
          "min": "0",
          "max": "1",
          "histogram": [
           {
            "bin_start": 0,
            "bin_end": 0.1,
            "count": 1
           },
           {
            "bin_start": 0.1,
            "bin_end": 0.2,
            "count": 0
           },
           {
            "bin_start": 0.2,
            "bin_end": 0.30000000000000004,
            "count": 0
           },
           {
            "bin_start": 0.30000000000000004,
            "bin_end": 0.4,
            "count": 0
           },
           {
            "bin_start": 0.4,
            "bin_end": 0.5,
            "count": 0
           },
           {
            "bin_start": 0.5,
            "bin_end": 0.6000000000000001,
            "count": 0
           },
           {
            "bin_start": 0.6000000000000001,
            "bin_end": 0.7000000000000001,
            "count": 0
           },
           {
            "bin_start": 0.7000000000000001,
            "bin_end": 0.8,
            "count": 0
           },
           {
            "bin_start": 0.8,
            "bin_end": 0.9,
            "count": 0
           },
           {
            "bin_start": 0.9,
            "bin_end": 1,
            "count": 4
           }
          ]
         }
        },
        {
         "name": "Data Visualization and Presentation",
         "dtype": "int64",
         "stats": {
          "unique_count": 2,
          "nan_count": 0,
          "min": "0",
          "max": "1",
          "histogram": [
           {
            "bin_start": 0,
            "bin_end": 0.1,
            "count": 1
           },
           {
            "bin_start": 0.1,
            "bin_end": 0.2,
            "count": 0
           },
           {
            "bin_start": 0.2,
            "bin_end": 0.30000000000000004,
            "count": 0
           },
           {
            "bin_start": 0.30000000000000004,
            "bin_end": 0.4,
            "count": 0
           },
           {
            "bin_start": 0.4,
            "bin_end": 0.5,
            "count": 0
           },
           {
            "bin_start": 0.5,
            "bin_end": 0.6000000000000001,
            "count": 0
           },
           {
            "bin_start": 0.6000000000000001,
            "bin_end": 0.7000000000000001,
            "count": 0
           },
           {
            "bin_start": 0.7000000000000001,
            "bin_end": 0.8,
            "count": 0
           },
           {
            "bin_start": 0.8,
            "bin_end": 0.9,
            "count": 0
           },
           {
            "bin_start": 0.9,
            "bin_end": 1,
            "count": 4
           }
          ]
         }
        },
        {
         "name": "Science about Data Science",
         "dtype": "int64",
         "stats": {
          "unique_count": 2,
          "nan_count": 0,
          "min": "0",
          "max": "1",
          "histogram": [
           {
            "bin_start": 0,
            "bin_end": 0.1,
            "count": 4
           },
           {
            "bin_start": 0.1,
            "bin_end": 0.2,
            "count": 0
           },
           {
            "bin_start": 0.2,
            "bin_end": 0.30000000000000004,
            "count": 0
           },
           {
            "bin_start": 0.30000000000000004,
            "bin_end": 0.4,
            "count": 0
           },
           {
            "bin_start": 0.4,
            "bin_end": 0.5,
            "count": 0
           },
           {
            "bin_start": 0.5,
            "bin_end": 0.6000000000000001,
            "count": 0
           },
           {
            "bin_start": 0.6000000000000001,
            "bin_end": 0.7000000000000001,
            "count": 0
           },
           {
            "bin_start": 0.7000000000000001,
            "bin_end": 0.8,
            "count": 0
           },
           {
            "bin_start": 0.8,
            "bin_end": 0.9,
            "count": 0
           },
           {
            "bin_start": 0.9,
            "bin_end": 1,
            "count": 1
           }
          ]
         }
        },
        {
         "name": "Not determinable",
         "dtype": "int64",
         "stats": {
          "unique_count": 1,
          "nan_count": 0,
          "min": "0",
          "max": "0",
          "histogram": [
           {
            "bin_start": -0.5,
            "bin_end": -0.4,
            "count": 0
           },
           {
            "bin_start": -0.4,
            "bin_end": -0.3,
            "count": 0
           },
           {
            "bin_start": -0.3,
            "bin_end": -0.19999999999999996,
            "count": 0
           },
           {
            "bin_start": -0.19999999999999996,
            "bin_end": -0.09999999999999998,
            "count": 0
           },
           {
            "bin_start": -0.09999999999999998,
            "bin_end": 0,
            "count": 0
           },
           {
            "bin_start": 0,
            "bin_end": 0.10000000000000009,
            "count": 5
           },
           {
            "bin_start": 0.10000000000000009,
            "bin_end": 0.20000000000000007,
            "count": 0
           },
           {
            "bin_start": 0.20000000000000007,
            "bin_end": 0.30000000000000004,
            "count": 0
           },
           {
            "bin_start": 0.30000000000000004,
            "bin_end": 0.4,
            "count": 0
           },
           {
            "bin_start": 0.4,
            "bin_end": 0.5,
            "count": 0
           }
          ]
         }
        },
        {
         "name": "_deepnote_index_column",
         "dtype": "int64"
        }
       ],
       "rows_top": [
        {
         "compulsory course": "Systems Development for Computational Science",
         "url": "https://www.seas.harvard.edu/applied-computation/graduate-programs/masters-data-science",
         "Data Gathering, Preparation and Exploration": 0,
         "Data Representation and Transformation": 0,
         "Computing with Data": 1,
         "Data Modeling": 0,
         "Data Visualization and Presentation": 0,
         "Science about Data Science": 0,
         "Not determinable": 0,
         "_deepnote_index_column": 0
        },
        {
         "compulsory course": "Introduction to Data Science",
         "url": "https://www.seas.harvard.edu/applied-computation/graduate-programs/masters-data-science",
         "Data Gathering, Preparation and Exploration": 1,
         "Data Representation and Transformation": 1,
         "Computing with Data": 1,
         "Data Modeling": 1,
         "Data Visualization and Presentation": 1,
         "Science about Data Science": 0,
         "Not determinable": 0,
         "_deepnote_index_column": 1
        },
        {
         "compulsory course": "Advanced Topics in Data Science",
         "url": "https://www.seas.harvard.edu/applied-computation/graduate-programs/masters-data-science",
         "Data Gathering, Preparation and Exploration": 1,
         "Data Representation and Transformation": 1,
         "Computing with Data": 1,
         "Data Modeling": 1,
         "Data Visualization and Presentation": 1,
         "Science about Data Science": 0,
         "Not determinable": 0,
         "_deepnote_index_column": 2
        },
        {
         "compulsory course": "Critical Thinking in Data Science",
         "url": "https://www.seas.harvard.edu/applied-computation/graduate-programs/masters-data-science",
         "Data Gathering, Preparation and Exploration": 1,
         "Data Representation and Transformation": 1,
         "Computing with Data": 1,
         "Data Modeling": 1,
         "Data Visualization and Presentation": 1,
         "Science about Data Science": 1,
         "Not determinable": 0,
         "_deepnote_index_column": 3
        },
        {
         "compulsory course": "Advanced Scientific Computing: Stochastic Methods for Data Analysis, Inference, and Optimization",
         "url": "https://www.seas.harvard.edu/applied-computation/graduate-programs/masters-data-science",
         "Data Gathering, Preparation and Exploration": 1,
         "Data Representation and Transformation": 1,
         "Computing with Data": 1,
         "Data Modeling": 1,
         "Data Visualization and Presentation": 1,
         "Science about Data Science": 0,
         "Not determinable": 0,
         "_deepnote_index_column": 4
        }
       ],
       "rows_bottom": null
      }
     },
     "metadata": {},
     "execution_count": 40
    }
   ],
   "metadata": {
    "tags": [],
    "cell_id": "00008-02655e83-e29e-4322-be60-6a1e6ecc6f9c",
    "deepnote_to_be_reexecuted": false,
    "source_hash": "e7cf2b92",
    "execution_start": 1625917422219,
    "execution_millis": 23,
    "deepnote_cell_type": "code"
   }
  },
  {
   "cell_type": "code",
   "execution_count": null,
   "source": [
    "curr_data_sub_grouped_by_url = curr_data_sub.groupby(['url'], as_index=False).agg({\r\n",
    "    'Data Gathering, Preparation and Exploration': 'sum',\r\n",
    "    'Data Representation and Transformation': 'sum',\r\n",
    "    'Computing with Data': 'sum',\r\n",
    "    'Data Modeling': 'sum',\r\n",
    "    'Data Visualization and Presentation': 'sum',\r\n",
    "    'Science about Data Science': 'sum',\r\n",
    "    'Not determinable': 'sum',\r\n",
    "})\r\n",
    "\r\n",
    "curr_data_sub_grouped_by_url.head()"
   ],
   "outputs": [
    {
     "output_type": "execute_result",
     "data": {
      "text/plain": [
       "                                                 url  \\\n",
       "0           http://www.bu.edu/cs/masters/program/ai/   \n",
       "1  http://www.bu.edu/questrom/ms-in-business-anal...   \n",
       "2  http://www.buffalo.edu/grad/programs/business-...   \n",
       "3  http://www.buffalo.edu/grad/programs/data-anal...   \n",
       "4                    https://ai.meng.duke.edu/degree   \n",
       "\n",
       "   Data Gathering, Preparation and Exploration  \\\n",
       "0                                            3   \n",
       "1                                            7   \n",
       "2                                            6   \n",
       "3                                            1   \n",
       "4                                            2   \n",
       "\n",
       "   Data Representation and Transformation  Computing with Data  Data Modeling  \\\n",
       "0                                       1                    4              2   \n",
       "1                                       5                    8              8   \n",
       "2                                       6                    6              6   \n",
       "3                                       2                    4              2   \n",
       "4                                       3                   10              7   \n",
       "\n",
       "   Data Visualization and Presentation  Science about Data Science  \\\n",
       "0                                    0                           1   \n",
       "1                                    5                           2   \n",
       "2                                    5                           0   \n",
       "3                                    1                           0   \n",
       "4                                    2                           2   \n",
       "\n",
       "   Not determinable  \n",
       "0                 0  \n",
       "1                 0  \n",
       "2                 0  \n",
       "3                 0  \n",
       "4                 0  "
      ],
      "text/html": [
       "<div>\n",
       "<style scoped>\n",
       "    .dataframe tbody tr th:only-of-type {\n",
       "        vertical-align: middle;\n",
       "    }\n",
       "\n",
       "    .dataframe tbody tr th {\n",
       "        vertical-align: top;\n",
       "    }\n",
       "\n",
       "    .dataframe thead th {\n",
       "        text-align: right;\n",
       "    }\n",
       "</style>\n",
       "<table border=\"1\" class=\"dataframe\">\n",
       "  <thead>\n",
       "    <tr style=\"text-align: right;\">\n",
       "      <th></th>\n",
       "      <th>url</th>\n",
       "      <th>Data Gathering, Preparation and Exploration</th>\n",
       "      <th>Data Representation and Transformation</th>\n",
       "      <th>Computing with Data</th>\n",
       "      <th>Data Modeling</th>\n",
       "      <th>Data Visualization and Presentation</th>\n",
       "      <th>Science about Data Science</th>\n",
       "      <th>Not determinable</th>\n",
       "    </tr>\n",
       "  </thead>\n",
       "  <tbody>\n",
       "    <tr>\n",
       "      <th>0</th>\n",
       "      <td>http://www.bu.edu/cs/masters/program/ai/</td>\n",
       "      <td>3</td>\n",
       "      <td>1</td>\n",
       "      <td>4</td>\n",
       "      <td>2</td>\n",
       "      <td>0</td>\n",
       "      <td>1</td>\n",
       "      <td>0</td>\n",
       "    </tr>\n",
       "    <tr>\n",
       "      <th>1</th>\n",
       "      <td>http://www.bu.edu/questrom/ms-in-business-anal...</td>\n",
       "      <td>7</td>\n",
       "      <td>5</td>\n",
       "      <td>8</td>\n",
       "      <td>8</td>\n",
       "      <td>5</td>\n",
       "      <td>2</td>\n",
       "      <td>0</td>\n",
       "    </tr>\n",
       "    <tr>\n",
       "      <th>2</th>\n",
       "      <td>http://www.buffalo.edu/grad/programs/business-...</td>\n",
       "      <td>6</td>\n",
       "      <td>6</td>\n",
       "      <td>6</td>\n",
       "      <td>6</td>\n",
       "      <td>5</td>\n",
       "      <td>0</td>\n",
       "      <td>0</td>\n",
       "    </tr>\n",
       "    <tr>\n",
       "      <th>3</th>\n",
       "      <td>http://www.buffalo.edu/grad/programs/data-anal...</td>\n",
       "      <td>1</td>\n",
       "      <td>2</td>\n",
       "      <td>4</td>\n",
       "      <td>2</td>\n",
       "      <td>1</td>\n",
       "      <td>0</td>\n",
       "      <td>0</td>\n",
       "    </tr>\n",
       "    <tr>\n",
       "      <th>4</th>\n",
       "      <td>https://ai.meng.duke.edu/degree</td>\n",
       "      <td>2</td>\n",
       "      <td>3</td>\n",
       "      <td>10</td>\n",
       "      <td>7</td>\n",
       "      <td>2</td>\n",
       "      <td>2</td>\n",
       "      <td>0</td>\n",
       "    </tr>\n",
       "  </tbody>\n",
       "</table>\n",
       "</div>"
      ],
      "application/vnd.deepnote.dataframe.v2+json": {
       "row_count": 5,
       "column_count": 8,
       "columns": [
        {
         "name": "url",
         "dtype": "object",
         "stats": {
          "unique_count": 5,
          "nan_count": 0,
          "categories": [
           {
            "name": "http://www.bu.edu/cs/masters/program/ai/",
            "count": 1
           },
           {
            "name": "http://www.bu.edu/questrom/ms-in-business-analytics/",
            "count": 1
           },
           {
            "name": "3 others",
            "count": 3
           }
          ]
         }
        },
        {
         "name": "Data Gathering, Preparation and Exploration",
         "dtype": "int64",
         "stats": {
          "unique_count": 5,
          "nan_count": 0,
          "min": "1",
          "max": "7",
          "histogram": [
           {
            "bin_start": 1,
            "bin_end": 1.6,
            "count": 1
           },
           {
            "bin_start": 1.6,
            "bin_end": 2.2,
            "count": 1
           },
           {
            "bin_start": 2.2,
            "bin_end": 2.8,
            "count": 0
           },
           {
            "bin_start": 2.8,
            "bin_end": 3.4,
            "count": 1
           },
           {
            "bin_start": 3.4,
            "bin_end": 4,
            "count": 0
           },
           {
            "bin_start": 4,
            "bin_end": 4.6,
            "count": 0
           },
           {
            "bin_start": 4.6,
            "bin_end": 5.2,
            "count": 0
           },
           {
            "bin_start": 5.2,
            "bin_end": 5.8,
            "count": 0
           },
           {
            "bin_start": 5.8,
            "bin_end": 6.3999999999999995,
            "count": 1
           },
           {
            "bin_start": 6.3999999999999995,
            "bin_end": 7,
            "count": 1
           }
          ]
         }
        },
        {
         "name": "Data Representation and Transformation",
         "dtype": "int64",
         "stats": {
          "unique_count": 5,
          "nan_count": 0,
          "min": "1",
          "max": "6",
          "histogram": [
           {
            "bin_start": 1,
            "bin_end": 1.5,
            "count": 1
           },
           {
            "bin_start": 1.5,
            "bin_end": 2,
            "count": 0
           },
           {
            "bin_start": 2,
            "bin_end": 2.5,
            "count": 1
           },
           {
            "bin_start": 2.5,
            "bin_end": 3,
            "count": 0
           },
           {
            "bin_start": 3,
            "bin_end": 3.5,
            "count": 1
           },
           {
            "bin_start": 3.5,
            "bin_end": 4,
            "count": 0
           },
           {
            "bin_start": 4,
            "bin_end": 4.5,
            "count": 0
           },
           {
            "bin_start": 4.5,
            "bin_end": 5,
            "count": 0
           },
           {
            "bin_start": 5,
            "bin_end": 5.5,
            "count": 1
           },
           {
            "bin_start": 5.5,
            "bin_end": 6,
            "count": 1
           }
          ]
         }
        },
        {
         "name": "Computing with Data",
         "dtype": "int64",
         "stats": {
          "unique_count": 4,
          "nan_count": 0,
          "min": "4",
          "max": "10",
          "histogram": [
           {
            "bin_start": 4,
            "bin_end": 4.6,
            "count": 2
           },
           {
            "bin_start": 4.6,
            "bin_end": 5.2,
            "count": 0
           },
           {
            "bin_start": 5.2,
            "bin_end": 5.8,
            "count": 0
           },
           {
            "bin_start": 5.8,
            "bin_end": 6.4,
            "count": 1
           },
           {
            "bin_start": 6.4,
            "bin_end": 7,
            "count": 0
           },
           {
            "bin_start": 7,
            "bin_end": 7.6,
            "count": 0
           },
           {
            "bin_start": 7.6,
            "bin_end": 8.2,
            "count": 1
           },
           {
            "bin_start": 8.2,
            "bin_end": 8.8,
            "count": 0
           },
           {
            "bin_start": 8.8,
            "bin_end": 9.399999999999999,
            "count": 0
           },
           {
            "bin_start": 9.399999999999999,
            "bin_end": 10,
            "count": 1
           }
          ]
         }
        },
        {
         "name": "Data Modeling",
         "dtype": "int64",
         "stats": {
          "unique_count": 4,
          "nan_count": 0,
          "min": "2",
          "max": "8",
          "histogram": [
           {
            "bin_start": 2,
            "bin_end": 2.6,
            "count": 2
           },
           {
            "bin_start": 2.6,
            "bin_end": 3.2,
            "count": 0
           },
           {
            "bin_start": 3.2,
            "bin_end": 3.8,
            "count": 0
           },
           {
            "bin_start": 3.8,
            "bin_end": 4.4,
            "count": 0
           },
           {
            "bin_start": 4.4,
            "bin_end": 5,
            "count": 0
           },
           {
            "bin_start": 5,
            "bin_end": 5.6,
            "count": 0
           },
           {
            "bin_start": 5.6,
            "bin_end": 6.2,
            "count": 1
           },
           {
            "bin_start": 6.2,
            "bin_end": 6.8,
            "count": 0
           },
           {
            "bin_start": 6.8,
            "bin_end": 7.3999999999999995,
            "count": 1
           },
           {
            "bin_start": 7.3999999999999995,
            "bin_end": 8,
            "count": 1
           }
          ]
         }
        },
        {
         "name": "Data Visualization and Presentation",
         "dtype": "int64",
         "stats": {
          "unique_count": 4,
          "nan_count": 0,
          "min": "0",
          "max": "5",
          "histogram": [
           {
            "bin_start": 0,
            "bin_end": 0.5,
            "count": 1
           },
           {
            "bin_start": 0.5,
            "bin_end": 1,
            "count": 0
           },
           {
            "bin_start": 1,
            "bin_end": 1.5,
            "count": 1
           },
           {
            "bin_start": 1.5,
            "bin_end": 2,
            "count": 0
           },
           {
            "bin_start": 2,
            "bin_end": 2.5,
            "count": 1
           },
           {
            "bin_start": 2.5,
            "bin_end": 3,
            "count": 0
           },
           {
            "bin_start": 3,
            "bin_end": 3.5,
            "count": 0
           },
           {
            "bin_start": 3.5,
            "bin_end": 4,
            "count": 0
           },
           {
            "bin_start": 4,
            "bin_end": 4.5,
            "count": 0
           },
           {
            "bin_start": 4.5,
            "bin_end": 5,
            "count": 2
           }
          ]
         }
        },
        {
         "name": "Science about Data Science",
         "dtype": "int64",
         "stats": {
          "unique_count": 3,
          "nan_count": 0,
          "min": "0",
          "max": "2",
          "histogram": [
           {
            "bin_start": 0,
            "bin_end": 0.2,
            "count": 2
           },
           {
            "bin_start": 0.2,
            "bin_end": 0.4,
            "count": 0
           },
           {
            "bin_start": 0.4,
            "bin_end": 0.6000000000000001,
            "count": 0
           },
           {
            "bin_start": 0.6000000000000001,
            "bin_end": 0.8,
            "count": 0
           },
           {
            "bin_start": 0.8,
            "bin_end": 1,
            "count": 0
           },
           {
            "bin_start": 1,
            "bin_end": 1.2000000000000002,
            "count": 1
           },
           {
            "bin_start": 1.2000000000000002,
            "bin_end": 1.4000000000000001,
            "count": 0
           },
           {
            "bin_start": 1.4000000000000001,
            "bin_end": 1.6,
            "count": 0
           },
           {
            "bin_start": 1.6,
            "bin_end": 1.8,
            "count": 0
           },
           {
            "bin_start": 1.8,
            "bin_end": 2,
            "count": 2
           }
          ]
         }
        },
        {
         "name": "Not determinable",
         "dtype": "int64",
         "stats": {
          "unique_count": 1,
          "nan_count": 0,
          "min": "0",
          "max": "0",
          "histogram": [
           {
            "bin_start": -0.5,
            "bin_end": -0.4,
            "count": 0
           },
           {
            "bin_start": -0.4,
            "bin_end": -0.3,
            "count": 0
           },
           {
            "bin_start": -0.3,
            "bin_end": -0.19999999999999996,
            "count": 0
           },
           {
            "bin_start": -0.19999999999999996,
            "bin_end": -0.09999999999999998,
            "count": 0
           },
           {
            "bin_start": -0.09999999999999998,
            "bin_end": 0,
            "count": 0
           },
           {
            "bin_start": 0,
            "bin_end": 0.10000000000000009,
            "count": 5
           },
           {
            "bin_start": 0.10000000000000009,
            "bin_end": 0.20000000000000007,
            "count": 0
           },
           {
            "bin_start": 0.20000000000000007,
            "bin_end": 0.30000000000000004,
            "count": 0
           },
           {
            "bin_start": 0.30000000000000004,
            "bin_end": 0.4,
            "count": 0
           },
           {
            "bin_start": 0.4,
            "bin_end": 0.5,
            "count": 0
           }
          ]
         }
        },
        {
         "name": "_deepnote_index_column",
         "dtype": "int64"
        }
       ],
       "rows_top": [
        {
         "url": "http://www.bu.edu/cs/masters/program/ai/",
         "Data Gathering, Preparation and Exploration": 3,
         "Data Representation and Transformation": 1,
         "Computing with Data": 4,
         "Data Modeling": 2,
         "Data Visualization and Presentation": 0,
         "Science about Data Science": 1,
         "Not determinable": 0,
         "_deepnote_index_column": 0
        },
        {
         "url": "http://www.bu.edu/questrom/ms-in-business-analytics/",
         "Data Gathering, Preparation and Exploration": 7,
         "Data Representation and Transformation": 5,
         "Computing with Data": 8,
         "Data Modeling": 8,
         "Data Visualization and Presentation": 5,
         "Science about Data Science": 2,
         "Not determinable": 0,
         "_deepnote_index_column": 1
        },
        {
         "url": "http://www.buffalo.edu/grad/programs/business-analytics-ms.html",
         "Data Gathering, Preparation and Exploration": 6,
         "Data Representation and Transformation": 6,
         "Computing with Data": 6,
         "Data Modeling": 6,
         "Data Visualization and Presentation": 5,
         "Science about Data Science": 0,
         "Not determinable": 0,
         "_deepnote_index_column": 2
        },
        {
         "url": "http://www.buffalo.edu/grad/programs/data-analysis-in-the-social-sciences-ms.html",
         "Data Gathering, Preparation and Exploration": 1,
         "Data Representation and Transformation": 2,
         "Computing with Data": 4,
         "Data Modeling": 2,
         "Data Visualization and Presentation": 1,
         "Science about Data Science": 0,
         "Not determinable": 0,
         "_deepnote_index_column": 3
        },
        {
         "url": "https://ai.meng.duke.edu/degree",
         "Data Gathering, Preparation and Exploration": 2,
         "Data Representation and Transformation": 3,
         "Computing with Data": 10,
         "Data Modeling": 7,
         "Data Visualization and Presentation": 2,
         "Science about Data Science": 2,
         "Not determinable": 0,
         "_deepnote_index_column": 4
        }
       ],
       "rows_bottom": null
      }
     },
     "metadata": {},
     "execution_count": 41
    }
   ],
   "metadata": {
    "tags": [],
    "cell_id": "00013-b3f7a2e3-a943-4b72-931b-973225fc8356",
    "deepnote_to_be_reexecuted": false,
    "source_hash": "27772cdd",
    "execution_start": 1625917424610,
    "execution_millis": 31,
    "deepnote_cell_type": "code"
   }
  },
  {
   "cell_type": "code",
   "execution_count": null,
   "source": [
    "# normalize now (just checking)\r\n",
    "curr_data_sub_grouped_by_url.drop('url', axis=1).div(curr_data_sub_grouped_by_url.sum(axis=1), axis=0).fillna(0)"
   ],
   "outputs": [
    {
     "output_type": "execute_result",
     "data": {
      "text/plain": [
       "    Data Gathering, Preparation and Exploration  \\\n",
       "0                                      0.272727   \n",
       "1                                      0.200000   \n",
       "2                                      0.206897   \n",
       "3                                      0.100000   \n",
       "4                                      0.076923   \n",
       "..                                          ...   \n",
       "76                                     0.162791   \n",
       "77                                     0.181818   \n",
       "78                                     0.176471   \n",
       "79                                     0.180000   \n",
       "80                                     0.190476   \n",
       "\n",
       "    Data Representation and Transformation  Computing with Data  \\\n",
       "0                                 0.090909             0.363636   \n",
       "1                                 0.142857             0.228571   \n",
       "2                                 0.206897             0.206897   \n",
       "3                                 0.200000             0.400000   \n",
       "4                                 0.115385             0.384615   \n",
       "..                                     ...                  ...   \n",
       "76                                0.186047             0.255814   \n",
       "77                                0.181818             0.227273   \n",
       "78                                0.117647             0.411765   \n",
       "79                                0.200000             0.220000   \n",
       "80                                0.214286             0.214286   \n",
       "\n",
       "    Data Modeling  Data Visualization and Presentation  \\\n",
       "0        0.181818                             0.000000   \n",
       "1        0.228571                             0.142857   \n",
       "2        0.206897                             0.172414   \n",
       "3        0.200000                             0.100000   \n",
       "4        0.269231                             0.076923   \n",
       "..            ...                                  ...   \n",
       "76       0.186047                             0.186047   \n",
       "77       0.181818                             0.181818   \n",
       "78       0.176471                             0.117647   \n",
       "79       0.200000                             0.160000   \n",
       "80       0.214286                             0.166667   \n",
       "\n",
       "    Science about Data Science  Not determinable  \n",
       "0                     0.090909               0.0  \n",
       "1                     0.057143               0.0  \n",
       "2                     0.000000               0.0  \n",
       "3                     0.000000               0.0  \n",
       "4                     0.076923               0.0  \n",
       "..                         ...               ...  \n",
       "76                    0.023256               0.0  \n",
       "77                    0.045455               0.0  \n",
       "78                    0.000000               0.0  \n",
       "79                    0.040000               0.0  \n",
       "80                    0.000000               0.0  \n",
       "\n",
       "[81 rows x 7 columns]"
      ],
      "text/html": [
       "<div>\n",
       "<style scoped>\n",
       "    .dataframe tbody tr th:only-of-type {\n",
       "        vertical-align: middle;\n",
       "    }\n",
       "\n",
       "    .dataframe tbody tr th {\n",
       "        vertical-align: top;\n",
       "    }\n",
       "\n",
       "    .dataframe thead th {\n",
       "        text-align: right;\n",
       "    }\n",
       "</style>\n",
       "<table border=\"1\" class=\"dataframe\">\n",
       "  <thead>\n",
       "    <tr style=\"text-align: right;\">\n",
       "      <th></th>\n",
       "      <th>Data Gathering, Preparation and Exploration</th>\n",
       "      <th>Data Representation and Transformation</th>\n",
       "      <th>Computing with Data</th>\n",
       "      <th>Data Modeling</th>\n",
       "      <th>Data Visualization and Presentation</th>\n",
       "      <th>Science about Data Science</th>\n",
       "      <th>Not determinable</th>\n",
       "    </tr>\n",
       "  </thead>\n",
       "  <tbody>\n",
       "    <tr>\n",
       "      <th>0</th>\n",
       "      <td>0.272727</td>\n",
       "      <td>0.090909</td>\n",
       "      <td>0.363636</td>\n",
       "      <td>0.181818</td>\n",
       "      <td>0.000000</td>\n",
       "      <td>0.090909</td>\n",
       "      <td>0.0</td>\n",
       "    </tr>\n",
       "    <tr>\n",
       "      <th>1</th>\n",
       "      <td>0.200000</td>\n",
       "      <td>0.142857</td>\n",
       "      <td>0.228571</td>\n",
       "      <td>0.228571</td>\n",
       "      <td>0.142857</td>\n",
       "      <td>0.057143</td>\n",
       "      <td>0.0</td>\n",
       "    </tr>\n",
       "    <tr>\n",
       "      <th>2</th>\n",
       "      <td>0.206897</td>\n",
       "      <td>0.206897</td>\n",
       "      <td>0.206897</td>\n",
       "      <td>0.206897</td>\n",
       "      <td>0.172414</td>\n",
       "      <td>0.000000</td>\n",
       "      <td>0.0</td>\n",
       "    </tr>\n",
       "    <tr>\n",
       "      <th>3</th>\n",
       "      <td>0.100000</td>\n",
       "      <td>0.200000</td>\n",
       "      <td>0.400000</td>\n",
       "      <td>0.200000</td>\n",
       "      <td>0.100000</td>\n",
       "      <td>0.000000</td>\n",
       "      <td>0.0</td>\n",
       "    </tr>\n",
       "    <tr>\n",
       "      <th>4</th>\n",
       "      <td>0.076923</td>\n",
       "      <td>0.115385</td>\n",
       "      <td>0.384615</td>\n",
       "      <td>0.269231</td>\n",
       "      <td>0.076923</td>\n",
       "      <td>0.076923</td>\n",
       "      <td>0.0</td>\n",
       "    </tr>\n",
       "    <tr>\n",
       "      <th>...</th>\n",
       "      <td>...</td>\n",
       "      <td>...</td>\n",
       "      <td>...</td>\n",
       "      <td>...</td>\n",
       "      <td>...</td>\n",
       "      <td>...</td>\n",
       "      <td>...</td>\n",
       "    </tr>\n",
       "    <tr>\n",
       "      <th>76</th>\n",
       "      <td>0.162791</td>\n",
       "      <td>0.186047</td>\n",
       "      <td>0.255814</td>\n",
       "      <td>0.186047</td>\n",
       "      <td>0.186047</td>\n",
       "      <td>0.023256</td>\n",
       "      <td>0.0</td>\n",
       "    </tr>\n",
       "    <tr>\n",
       "      <th>77</th>\n",
       "      <td>0.181818</td>\n",
       "      <td>0.181818</td>\n",
       "      <td>0.227273</td>\n",
       "      <td>0.181818</td>\n",
       "      <td>0.181818</td>\n",
       "      <td>0.045455</td>\n",
       "      <td>0.0</td>\n",
       "    </tr>\n",
       "    <tr>\n",
       "      <th>78</th>\n",
       "      <td>0.176471</td>\n",
       "      <td>0.117647</td>\n",
       "      <td>0.411765</td>\n",
       "      <td>0.176471</td>\n",
       "      <td>0.117647</td>\n",
       "      <td>0.000000</td>\n",
       "      <td>0.0</td>\n",
       "    </tr>\n",
       "    <tr>\n",
       "      <th>79</th>\n",
       "      <td>0.180000</td>\n",
       "      <td>0.200000</td>\n",
       "      <td>0.220000</td>\n",
       "      <td>0.200000</td>\n",
       "      <td>0.160000</td>\n",
       "      <td>0.040000</td>\n",
       "      <td>0.0</td>\n",
       "    </tr>\n",
       "    <tr>\n",
       "      <th>80</th>\n",
       "      <td>0.190476</td>\n",
       "      <td>0.214286</td>\n",
       "      <td>0.214286</td>\n",
       "      <td>0.214286</td>\n",
       "      <td>0.166667</td>\n",
       "      <td>0.000000</td>\n",
       "      <td>0.0</td>\n",
       "    </tr>\n",
       "  </tbody>\n",
       "</table>\n",
       "<p>81 rows × 7 columns</p>\n",
       "</div>"
      ],
      "application/vnd.deepnote.dataframe.v2+json": {
       "row_count": 81,
       "column_count": 7,
       "columns": [
        {
         "name": "Data Gathering, Preparation and Exploration",
         "dtype": "float64",
         "stats": {
          "unique_count": 47,
          "nan_count": 0,
          "min": "0.07407407407407407",
          "max": "0.2727272727272727",
          "histogram": [
           {
            "bin_start": 0.07407407407407407,
            "bin_end": 0.09393939393939393,
            "count": 2
           },
           {
            "bin_start": 0.09393939393939393,
            "bin_end": 0.1138047138047138,
            "count": 4
           },
           {
            "bin_start": 0.1138047138047138,
            "bin_end": 0.13367003367003366,
            "count": 7
           },
           {
            "bin_start": 0.13367003367003366,
            "bin_end": 0.15353535353535352,
            "count": 5
           },
           {
            "bin_start": 0.15353535353535352,
            "bin_end": 0.1734006734006734,
            "count": 20
           },
           {
            "bin_start": 0.1734006734006734,
            "bin_end": 0.19326599326599325,
            "count": 22
           },
           {
            "bin_start": 0.19326599326599325,
            "bin_end": 0.21313131313131312,
            "count": 18
           },
           {
            "bin_start": 0.21313131313131312,
            "bin_end": 0.23299663299663298,
            "count": 2
           },
           {
            "bin_start": 0.23299663299663298,
            "bin_end": 0.25286195286195284,
            "count": 0
           },
           {
            "bin_start": 0.25286195286195284,
            "bin_end": 0.2727272727272727,
            "count": 1
           }
          ]
         }
        },
        {
         "name": "Data Representation and Transformation",
         "dtype": "float64",
         "stats": {
          "unique_count": 47,
          "nan_count": 0,
          "min": "0.0",
          "max": "0.26666666666666666",
          "histogram": [
           {
            "bin_start": 0,
            "bin_end": 0.026666666666666665,
            "count": 1
           },
           {
            "bin_start": 0.026666666666666665,
            "bin_end": 0.05333333333333333,
            "count": 3
           },
           {
            "bin_start": 0.05333333333333333,
            "bin_end": 0.07999999999999999,
            "count": 0
           },
           {
            "bin_start": 0.07999999999999999,
            "bin_end": 0.10666666666666666,
            "count": 1
           },
           {
            "bin_start": 0.10666666666666666,
            "bin_end": 0.13333333333333333,
            "count": 3
           },
           {
            "bin_start": 0.13333333333333333,
            "bin_end": 0.15999999999999998,
            "count": 6
           },
           {
            "bin_start": 0.15999999999999998,
            "bin_end": 0.18666666666666665,
            "count": 23
           },
           {
            "bin_start": 0.18666666666666665,
            "bin_end": 0.21333333333333332,
            "count": 29
           },
           {
            "bin_start": 0.21333333333333332,
            "bin_end": 0.24,
            "count": 10
           },
           {
            "bin_start": 0.24,
            "bin_end": 0.26666666666666666,
            "count": 5
           }
          ]
         }
        },
        {
         "name": "Computing with Data",
         "dtype": "float64",
         "stats": {
          "unique_count": 51,
          "nan_count": 0,
          "min": "0.2",
          "max": "0.42857142857142855",
          "histogram": [
           {
            "bin_start": 0.2,
            "bin_end": 0.22285714285714286,
            "count": 21
           },
           {
            "bin_start": 0.22285714285714286,
            "bin_end": 0.24571428571428572,
            "count": 20
           },
           {
            "bin_start": 0.24571428571428572,
            "bin_end": 0.26857142857142857,
            "count": 10
           },
           {
            "bin_start": 0.26857142857142857,
            "bin_end": 0.2914285714285714,
            "count": 4
           },
           {
            "bin_start": 0.2914285714285714,
            "bin_end": 0.3142857142857143,
            "count": 6
           },
           {
            "bin_start": 0.3142857142857143,
            "bin_end": 0.33714285714285713,
            "count": 5
           },
           {
            "bin_start": 0.33714285714285713,
            "bin_end": 0.36,
            "count": 5
           },
           {
            "bin_start": 0.36,
            "bin_end": 0.38285714285714284,
            "count": 4
           },
           {
            "bin_start": 0.38285714285714284,
            "bin_end": 0.4057142857142857,
            "count": 4
           },
           {
            "bin_start": 0.4057142857142857,
            "bin_end": 0.42857142857142855,
            "count": 2
           }
          ]
         }
        },
        {
         "name": "Data Modeling",
         "dtype": "float64",
         "stats": {
          "unique_count": 44,
          "nan_count": 0,
          "min": "0.12121212121212122",
          "max": "0.4",
          "histogram": [
           {
            "bin_start": 0.12121212121212122,
            "bin_end": 0.1490909090909091,
            "count": 2
           },
           {
            "bin_start": 0.1490909090909091,
            "bin_end": 0.17696969696969697,
            "count": 10
           },
           {
            "bin_start": 0.17696969696969697,
            "bin_end": 0.20484848484848486,
            "count": 35
           },
           {
            "bin_start": 0.20484848484848486,
            "bin_end": 0.23272727272727273,
            "count": 22
           },
           {
            "bin_start": 0.23272727272727273,
            "bin_end": 0.2606060606060606,
            "count": 5
           },
           {
            "bin_start": 0.2606060606060606,
            "bin_end": 0.2884848484848485,
            "count": 2
           },
           {
            "bin_start": 0.2884848484848485,
            "bin_end": 0.3163636363636364,
            "count": 4
           },
           {
            "bin_start": 0.3163636363636364,
            "bin_end": 0.34424242424242424,
            "count": 0
           },
           {
            "bin_start": 0.34424242424242424,
            "bin_end": 0.37212121212121213,
            "count": 0
           },
           {
            "bin_start": 0.37212121212121213,
            "bin_end": 0.4,
            "count": 1
           }
          ]
         }
        },
        {
         "name": "Data Visualization and Presentation",
         "dtype": "float64",
         "stats": {
          "unique_count": 47,
          "nan_count": 0,
          "min": "0.0",
          "max": "0.20689655172413793",
          "histogram": [
           {
            "bin_start": 0,
            "bin_end": 0.020689655172413793,
            "count": 2
           },
           {
            "bin_start": 0.020689655172413793,
            "bin_end": 0.041379310344827586,
            "count": 2
           },
           {
            "bin_start": 0.041379310344827586,
            "bin_end": 0.06206896551724138,
            "count": 3
           },
           {
            "bin_start": 0.06206896551724138,
            "bin_end": 0.08275862068965517,
            "count": 3
           },
           {
            "bin_start": 0.08275862068965517,
            "bin_end": 0.10344827586206896,
            "count": 4
           },
           {
            "bin_start": 0.10344827586206896,
            "bin_end": 0.12413793103448276,
            "count": 5
           },
           {
            "bin_start": 0.12413793103448276,
            "bin_end": 0.14482758620689656,
            "count": 11
           },
           {
            "bin_start": 0.14482758620689656,
            "bin_end": 0.16551724137931034,
            "count": 13
           },
           {
            "bin_start": 0.16551724137931034,
            "bin_end": 0.18620689655172412,
            "count": 20
           },
           {
            "bin_start": 0.18620689655172412,
            "bin_end": 0.20689655172413793,
            "count": 18
           }
          ]
         }
        },
        {
         "name": "Science about Data Science",
         "dtype": "float64",
         "stats": {
          "unique_count": 27,
          "nan_count": 0,
          "min": "0.0",
          "max": "0.12",
          "histogram": [
           {
            "bin_start": 0,
            "bin_end": 0.012,
            "count": 49
           },
           {
            "bin_start": 0.012,
            "bin_end": 0.024,
            "count": 4
           },
           {
            "bin_start": 0.024,
            "bin_end": 0.036000000000000004,
            "count": 8
           },
           {
            "bin_start": 0.036000000000000004,
            "bin_end": 0.048,
            "count": 6
           },
           {
            "bin_start": 0.048,
            "bin_end": 0.06,
            "count": 4
           },
           {
            "bin_start": 0.06,
            "bin_end": 0.07200000000000001,
            "count": 2
           },
           {
            "bin_start": 0.07200000000000001,
            "bin_end": 0.084,
            "count": 3
           },
           {
            "bin_start": 0.084,
            "bin_end": 0.096,
            "count": 1
           },
           {
            "bin_start": 0.096,
            "bin_end": 0.108,
            "count": 2
           },
           {
            "bin_start": 0.108,
            "bin_end": 0.12,
            "count": 2
           }
          ]
         }
        },
        {
         "name": "Not determinable",
         "dtype": "float64",
         "stats": {
          "unique_count": 1,
          "nan_count": 0,
          "min": "0.0",
          "max": "0.0",
          "histogram": [
           {
            "bin_start": -0.5,
            "bin_end": -0.4,
            "count": 0
           },
           {
            "bin_start": -0.4,
            "bin_end": -0.3,
            "count": 0
           },
           {
            "bin_start": -0.3,
            "bin_end": -0.19999999999999996,
            "count": 0
           },
           {
            "bin_start": -0.19999999999999996,
            "bin_end": -0.09999999999999998,
            "count": 0
           },
           {
            "bin_start": -0.09999999999999998,
            "bin_end": 0,
            "count": 0
           },
           {
            "bin_start": 0,
            "bin_end": 0.10000000000000009,
            "count": 81
           },
           {
            "bin_start": 0.10000000000000009,
            "bin_end": 0.20000000000000007,
            "count": 0
           },
           {
            "bin_start": 0.20000000000000007,
            "bin_end": 0.30000000000000004,
            "count": 0
           },
           {
            "bin_start": 0.30000000000000004,
            "bin_end": 0.4,
            "count": 0
           },
           {
            "bin_start": 0.4,
            "bin_end": 0.5,
            "count": 0
           }
          ]
         }
        },
        {
         "name": "_deepnote_index_column",
         "dtype": "int64"
        }
       ],
       "rows_top": [
        {
         "Data Gathering, Preparation and Exploration": 0.2727272727272727,
         "Data Representation and Transformation": 0.09090909090909091,
         "Computing with Data": 0.36363636363636365,
         "Data Modeling": 0.18181818181818182,
         "Data Visualization and Presentation": 0,
         "Science about Data Science": 0.09090909090909091,
         "Not determinable": 0,
         "_deepnote_index_column": 0
        },
        {
         "Data Gathering, Preparation and Exploration": 0.2,
         "Data Representation and Transformation": 0.14285714285714285,
         "Computing with Data": 0.22857142857142856,
         "Data Modeling": 0.22857142857142856,
         "Data Visualization and Presentation": 0.14285714285714285,
         "Science about Data Science": 0.05714285714285714,
         "Not determinable": 0,
         "_deepnote_index_column": 1
        },
        {
         "Data Gathering, Preparation and Exploration": 0.20689655172413793,
         "Data Representation and Transformation": 0.20689655172413793,
         "Computing with Data": 0.20689655172413793,
         "Data Modeling": 0.20689655172413793,
         "Data Visualization and Presentation": 0.1724137931034483,
         "Science about Data Science": 0,
         "Not determinable": 0,
         "_deepnote_index_column": 2
        },
        {
         "Data Gathering, Preparation and Exploration": 0.1,
         "Data Representation and Transformation": 0.2,
         "Computing with Data": 0.4,
         "Data Modeling": 0.2,
         "Data Visualization and Presentation": 0.1,
         "Science about Data Science": 0,
         "Not determinable": 0,
         "_deepnote_index_column": 3
        },
        {
         "Data Gathering, Preparation and Exploration": 0.07692307692307693,
         "Data Representation and Transformation": 0.11538461538461539,
         "Computing with Data": 0.38461538461538464,
         "Data Modeling": 0.2692307692307692,
         "Data Visualization and Presentation": 0.07692307692307693,
         "Science about Data Science": 0.07692307692307693,
         "Not determinable": 0,
         "_deepnote_index_column": 4
        },
        {
         "Data Gathering, Preparation and Exploration": 0.13636363636363635,
         "Data Representation and Transformation": 0.22727272727272727,
         "Computing with Data": 0.2727272727272727,
         "Data Modeling": 0.22727272727272727,
         "Data Visualization and Presentation": 0.13636363636363635,
         "Science about Data Science": 0,
         "Not determinable": 0,
         "_deepnote_index_column": 5
        },
        {
         "Data Gathering, Preparation and Exploration": 0.19444444444444445,
         "Data Representation and Transformation": 0.19444444444444445,
         "Computing with Data": 0.2222222222222222,
         "Data Modeling": 0.19444444444444445,
         "Data Visualization and Presentation": 0.19444444444444445,
         "Science about Data Science": 0,
         "Not determinable": 0,
         "_deepnote_index_column": 6
        },
        {
         "Data Gathering, Preparation and Exploration": 0.2,
         "Data Representation and Transformation": 0.2,
         "Computing with Data": 0.2,
         "Data Modeling": 0.2,
         "Data Visualization and Presentation": 0.2,
         "Science about Data Science": 0,
         "Not determinable": 0,
         "_deepnote_index_column": 7
        },
        {
         "Data Gathering, Preparation and Exploration": 0.1836734693877551,
         "Data Representation and Transformation": 0.1836734693877551,
         "Computing with Data": 0.22448979591836735,
         "Data Modeling": 0.22448979591836735,
         "Data Visualization and Presentation": 0.1836734693877551,
         "Science about Data Science": 0,
         "Not determinable": 0,
         "_deepnote_index_column": 8
        },
        {
         "Data Gathering, Preparation and Exploration": 0.17777777777777778,
         "Data Representation and Transformation": 0.2222222222222222,
         "Computing with Data": 0.2222222222222222,
         "Data Modeling": 0.2,
         "Data Visualization and Presentation": 0.17777777777777778,
         "Science about Data Science": 0,
         "Not determinable": 0,
         "_deepnote_index_column": 9
        },
        {
         "Data Gathering, Preparation and Exploration": 0.2,
         "Data Representation and Transformation": 0.2,
         "Computing with Data": 0.2,
         "Data Modeling": 0.2,
         "Data Visualization and Presentation": 0.2,
         "Science about Data Science": 0,
         "Not determinable": 0,
         "_deepnote_index_column": 10
        },
        {
         "Data Gathering, Preparation and Exploration": 0.15625,
         "Data Representation and Transformation": 0.15625,
         "Computing with Data": 0.3125,
         "Data Modeling": 0.15625,
         "Data Visualization and Presentation": 0.15625,
         "Science about Data Science": 0.0625,
         "Not determinable": 0,
         "_deepnote_index_column": 11
        },
        {
         "Data Gathering, Preparation and Exploration": 0.16129032258064516,
         "Data Representation and Transformation": 0.16129032258064516,
         "Computing with Data": 0.3225806451612903,
         "Data Modeling": 0.1935483870967742,
         "Data Visualization and Presentation": 0.12903225806451613,
         "Science about Data Science": 0.03225806451612903,
         "Not determinable": 0,
         "_deepnote_index_column": 12
        },
        {
         "Data Gathering, Preparation and Exploration": 0.2222222222222222,
         "Data Representation and Transformation": 0.16666666666666666,
         "Computing with Data": 0.2222222222222222,
         "Data Modeling": 0.2222222222222222,
         "Data Visualization and Presentation": 0.16666666666666666,
         "Science about Data Science": 0,
         "Not determinable": 0,
         "_deepnote_index_column": 13
        },
        {
         "Data Gathering, Preparation and Exploration": 0.21052631578947367,
         "Data Representation and Transformation": 0.15789473684210525,
         "Computing with Data": 0.2631578947368421,
         "Data Modeling": 0.21052631578947367,
         "Data Visualization and Presentation": 0.15789473684210525,
         "Science about Data Science": 0,
         "Not determinable": 0,
         "_deepnote_index_column": 14
        },
        {
         "Data Gathering, Preparation and Exploration": 0.2,
         "Data Representation and Transformation": 0.2,
         "Computing with Data": 0.2,
         "Data Modeling": 0.2,
         "Data Visualization and Presentation": 0.2,
         "Science about Data Science": 0,
         "Not determinable": 0,
         "_deepnote_index_column": 15
        },
        {
         "Data Gathering, Preparation and Exploration": 0.17857142857142858,
         "Data Representation and Transformation": 0.21428571428571427,
         "Computing with Data": 0.21428571428571427,
         "Data Modeling": 0.21428571428571427,
         "Data Visualization and Presentation": 0.17857142857142858,
         "Science about Data Science": 0,
         "Not determinable": 0,
         "_deepnote_index_column": 16
        },
        {
         "Data Gathering, Preparation and Exploration": 0.21052631578947367,
         "Data Representation and Transformation": 0.15789473684210525,
         "Computing with Data": 0.23684210526315788,
         "Data Modeling": 0.18421052631578946,
         "Data Visualization and Presentation": 0.15789473684210525,
         "Science about Data Science": 0.05263157894736842,
         "Not determinable": 0,
         "_deepnote_index_column": 17
        },
        {
         "Data Gathering, Preparation and Exploration": 0.15789473684210525,
         "Data Representation and Transformation": 0.19298245614035087,
         "Computing with Data": 0.24561403508771928,
         "Data Modeling": 0.21052631578947367,
         "Data Visualization and Presentation": 0.15789473684210525,
         "Science about Data Science": 0.03508771929824561,
         "Not determinable": 0,
         "_deepnote_index_column": 18
        },
        {
         "Data Gathering, Preparation and Exploration": 0.15789473684210525,
         "Data Representation and Transformation": 0.21052631578947367,
         "Computing with Data": 0.2631578947368421,
         "Data Modeling": 0.21052631578947367,
         "Data Visualization and Presentation": 0.15789473684210525,
         "Science about Data Science": 0,
         "Not determinable": 0,
         "_deepnote_index_column": 19
        },
        {
         "Data Gathering, Preparation and Exploration": 0.12121212121212122,
         "Data Representation and Transformation": 0.18181818181818182,
         "Computing with Data": 0.36363636363636365,
         "Data Modeling": 0.12121212121212122,
         "Data Visualization and Presentation": 0.18181818181818182,
         "Science about Data Science": 0.030303030303030304,
         "Not determinable": 0,
         "_deepnote_index_column": 20
        },
        {
         "Data Gathering, Preparation and Exploration": 0.1,
         "Data Representation and Transformation": 0,
         "Computing with Data": 0.4,
         "Data Modeling": 0.4,
         "Data Visualization and Presentation": 0,
         "Science about Data Science": 0.1,
         "Not determinable": 0,
         "_deepnote_index_column": 21
        },
        {
         "Data Gathering, Preparation and Exploration": 0.18181818181818182,
         "Data Representation and Transformation": 0.18181818181818182,
         "Computing with Data": 0.22727272727272727,
         "Data Modeling": 0.22727272727272727,
         "Data Visualization and Presentation": 0.13636363636363635,
         "Science about Data Science": 0.045454545454545456,
         "Not determinable": 0,
         "_deepnote_index_column": 22
        },
        {
         "Data Gathering, Preparation and Exploration": 0.15384615384615385,
         "Data Representation and Transformation": 0.23076923076923078,
         "Computing with Data": 0.3076923076923077,
         "Data Modeling": 0.23076923076923078,
         "Data Visualization and Presentation": 0.07692307692307693,
         "Science about Data Science": 0,
         "Not determinable": 0,
         "_deepnote_index_column": 23
        },
        {
         "Data Gathering, Preparation and Exploration": 0.16326530612244897,
         "Data Representation and Transformation": 0.1836734693877551,
         "Computing with Data": 0.32653061224489793,
         "Data Modeling": 0.20408163265306123,
         "Data Visualization and Presentation": 0.12244897959183673,
         "Science about Data Science": 0,
         "Not determinable": 0,
         "_deepnote_index_column": 24
        },
        {
         "Data Gathering, Preparation and Exploration": 0.2,
         "Data Representation and Transformation": 0.2,
         "Computing with Data": 0.2,
         "Data Modeling": 0.2,
         "Data Visualization and Presentation": 0.2,
         "Science about Data Science": 0,
         "Not determinable": 0,
         "_deepnote_index_column": 25
        },
        {
         "Data Gathering, Preparation and Exploration": 0.1951219512195122,
         "Data Representation and Transformation": 0.1951219512195122,
         "Computing with Data": 0.21951219512195122,
         "Data Modeling": 0.21951219512195122,
         "Data Visualization and Presentation": 0.17073170731707318,
         "Science about Data Science": 0,
         "Not determinable": 0,
         "_deepnote_index_column": 26
        },
        {
         "Data Gathering, Preparation and Exploration": 0.2,
         "Data Representation and Transformation": 0.2,
         "Computing with Data": 0.2,
         "Data Modeling": 0.2,
         "Data Visualization and Presentation": 0.2,
         "Science about Data Science": 0,
         "Not determinable": 0,
         "_deepnote_index_column": 27
        },
        {
         "Data Gathering, Preparation and Exploration": 0.18333333333333332,
         "Data Representation and Transformation": 0.18333333333333332,
         "Computing with Data": 0.23333333333333334,
         "Data Modeling": 0.21666666666666667,
         "Data Visualization and Presentation": 0.16666666666666666,
         "Science about Data Science": 0.016666666666666666,
         "Not determinable": 0,
         "_deepnote_index_column": 28
        },
        {
         "Data Gathering, Preparation and Exploration": 0.0967741935483871,
         "Data Representation and Transformation": 0.1935483870967742,
         "Computing with Data": 0.3548387096774194,
         "Data Modeling": 0.22580645161290322,
         "Data Visualization and Presentation": 0.0967741935483871,
         "Science about Data Science": 0.03225806451612903,
         "Not determinable": 0,
         "_deepnote_index_column": 29
        },
        {
         "Data Gathering, Preparation and Exploration": 0.17391304347826086,
         "Data Representation and Transformation": 0.17391304347826086,
         "Computing with Data": 0.34782608695652173,
         "Data Modeling": 0.17391304347826086,
         "Data Visualization and Presentation": 0.13043478260869565,
         "Science about Data Science": 0,
         "Not determinable": 0,
         "_deepnote_index_column": 30
        },
        {
         "Data Gathering, Preparation and Exploration": 0.14814814814814814,
         "Data Representation and Transformation": 0.18518518518518517,
         "Computing with Data": 0.25925925925925924,
         "Data Modeling": 0.2222222222222222,
         "Data Visualization and Presentation": 0.18518518518518517,
         "Science about Data Science": 0,
         "Not determinable": 0,
         "_deepnote_index_column": 31
        },
        {
         "Data Gathering, Preparation and Exploration": 0.14285714285714285,
         "Data Representation and Transformation": 0.21428571428571427,
         "Computing with Data": 0.32142857142857145,
         "Data Modeling": 0.21428571428571427,
         "Data Visualization and Presentation": 0.10714285714285714,
         "Science about Data Science": 0,
         "Not determinable": 0,
         "_deepnote_index_column": 32
        },
        {
         "Data Gathering, Preparation and Exploration": 0.19047619047619047,
         "Data Representation and Transformation": 0.19047619047619047,
         "Computing with Data": 0.23809523809523808,
         "Data Modeling": 0.19047619047619047,
         "Data Visualization and Presentation": 0.19047619047619047,
         "Science about Data Science": 0,
         "Not determinable": 0,
         "_deepnote_index_column": 33
        },
        {
         "Data Gathering, Preparation and Exploration": 0.16279069767441862,
         "Data Representation and Transformation": 0.18604651162790697,
         "Computing with Data": 0.2558139534883721,
         "Data Modeling": 0.18604651162790697,
         "Data Visualization and Presentation": 0.16279069767441862,
         "Science about Data Science": 0.046511627906976744,
         "Not determinable": 0,
         "_deepnote_index_column": 34
        },
        {
         "Data Gathering, Preparation and Exploration": 0.2,
         "Data Representation and Transformation": 0.17777777777777778,
         "Computing with Data": 0.24444444444444444,
         "Data Modeling": 0.2,
         "Data Visualization and Presentation": 0.17777777777777778,
         "Science about Data Science": 0,
         "Not determinable": 0,
         "_deepnote_index_column": 35
        },
        {
         "Data Gathering, Preparation and Exploration": 0.12903225806451613,
         "Data Representation and Transformation": 0.1935483870967742,
         "Computing with Data": 0.2903225806451613,
         "Data Modeling": 0.25806451612903225,
         "Data Visualization and Presentation": 0.12903225806451613,
         "Science about Data Science": 0,
         "Not determinable": 0,
         "_deepnote_index_column": 36
        },
        {
         "Data Gathering, Preparation and Exploration": 0.1864406779661017,
         "Data Representation and Transformation": 0.2033898305084746,
         "Computing with Data": 0.22033898305084745,
         "Data Modeling": 0.2033898305084746,
         "Data Visualization and Presentation": 0.1694915254237288,
         "Science about Data Science": 0.01694915254237288,
         "Not determinable": 0,
         "_deepnote_index_column": 37
        },
        {
         "Data Gathering, Preparation and Exploration": 0.1935483870967742,
         "Data Representation and Transformation": 0.1935483870967742,
         "Computing with Data": 0.22580645161290322,
         "Data Modeling": 0.1935483870967742,
         "Data Visualization and Presentation": 0.1935483870967742,
         "Science about Data Science": 0,
         "Not determinable": 0,
         "_deepnote_index_column": 38
        },
        {
         "Data Gathering, Preparation and Exploration": 0.1724137931034483,
         "Data Representation and Transformation": 0.20689655172413793,
         "Computing with Data": 0.20689655172413793,
         "Data Modeling": 0.1724137931034483,
         "Data Visualization and Presentation": 0.20689655172413793,
         "Science about Data Science": 0.034482758620689655,
         "Not determinable": 0,
         "_deepnote_index_column": 39
        },
        {
         "Data Gathering, Preparation and Exploration": 0.14285714285714285,
         "Data Representation and Transformation": 0.047619047619047616,
         "Computing with Data": 0.42857142857142855,
         "Data Modeling": 0.2857142857142857,
         "Data Visualization and Presentation": 0.047619047619047616,
         "Science about Data Science": 0.047619047619047616,
         "Not determinable": 0,
         "_deepnote_index_column": 40
        },
        {
         "Data Gathering, Preparation and Exploration": 0.17647058823529413,
         "Data Representation and Transformation": 0.17647058823529413,
         "Computing with Data": 0.29411764705882354,
         "Data Modeling": 0.23529411764705882,
         "Data Visualization and Presentation": 0.11764705882352941,
         "Science about Data Science": 0,
         "Not determinable": 0,
         "_deepnote_index_column": 41
        },
        {
         "Data Gathering, Preparation and Exploration": 0.17073170731707318,
         "Data Representation and Transformation": 0.17073170731707318,
         "Computing with Data": 0.24390243902439024,
         "Data Modeling": 0.21951219512195122,
         "Data Visualization and Presentation": 0.14634146341463414,
         "Science about Data Science": 0.04878048780487805,
         "Not determinable": 0,
         "_deepnote_index_column": 42
        },
        {
         "Data Gathering, Preparation and Exploration": 0.16666666666666666,
         "Data Representation and Transformation": 0.19444444444444445,
         "Computing with Data": 0.2222222222222222,
         "Data Modeling": 0.19444444444444445,
         "Data Visualization and Presentation": 0.19444444444444445,
         "Science about Data Science": 0.027777777777777776,
         "Not determinable": 0,
         "_deepnote_index_column": 43
        },
        {
         "Data Gathering, Preparation and Exploration": 0.19047619047619047,
         "Data Representation and Transformation": 0.19047619047619047,
         "Computing with Data": 0.23809523809523808,
         "Data Modeling": 0.19047619047619047,
         "Data Visualization and Presentation": 0.19047619047619047,
         "Science about Data Science": 0,
         "Not determinable": 0,
         "_deepnote_index_column": 44
        },
        {
         "Data Gathering, Preparation and Exploration": 0.125,
         "Data Representation and Transformation": 0.25,
         "Computing with Data": 0.25,
         "Data Modeling": 0.25,
         "Data Visualization and Presentation": 0.125,
         "Science about Data Science": 0,
         "Not determinable": 0,
         "_deepnote_index_column": 45
        },
        {
         "Data Gathering, Preparation and Exploration": 0.18421052631578946,
         "Data Representation and Transformation": 0.18421052631578946,
         "Computing with Data": 0.21052631578947367,
         "Data Modeling": 0.18421052631578946,
         "Data Visualization and Presentation": 0.18421052631578946,
         "Science about Data Science": 0.05263157894736842,
         "Not determinable": 0,
         "_deepnote_index_column": 46
        },
        {
         "Data Gathering, Preparation and Exploration": 0.1,
         "Data Representation and Transformation": 0.25,
         "Computing with Data": 0.3,
         "Data Modeling": 0.25,
         "Data Visualization and Presentation": 0.1,
         "Science about Data Science": 0,
         "Not determinable": 0,
         "_deepnote_index_column": 47
        },
        {
         "Data Gathering, Preparation and Exploration": 0.07407407407407407,
         "Data Representation and Transformation": 0.25925925925925924,
         "Computing with Data": 0.3333333333333333,
         "Data Modeling": 0.2962962962962963,
         "Data Visualization and Presentation": 0.037037037037037035,
         "Science about Data Science": 0,
         "Not determinable": 0,
         "_deepnote_index_column": 48
        },
        {
         "Data Gathering, Preparation and Exploration": 0.125,
         "Data Representation and Transformation": 0.25,
         "Computing with Data": 0.3125,
         "Data Modeling": 0.1875,
         "Data Visualization and Presentation": 0.125,
         "Science about Data Science": 0,
         "Not determinable": 0,
         "_deepnote_index_column": 49
        },
        {
         "Data Gathering, Preparation and Exploration": 0.18181818181818182,
         "Data Representation and Transformation": 0.18181818181818182,
         "Computing with Data": 0.30303030303030304,
         "Data Modeling": 0.21212121212121213,
         "Data Visualization and Presentation": 0.12121212121212122,
         "Science about Data Science": 0,
         "Not determinable": 0,
         "_deepnote_index_column": 50
        },
        {
         "Data Gathering, Preparation and Exploration": 0.16666666666666666,
         "Data Representation and Transformation": 0.2222222222222222,
         "Computing with Data": 0.2777777777777778,
         "Data Modeling": 0.16666666666666666,
         "Data Visualization and Presentation": 0.16666666666666666,
         "Science about Data Science": 0,
         "Not determinable": 0,
         "_deepnote_index_column": 51
        },
        {
         "Data Gathering, Preparation and Exploration": 0.21739130434782608,
         "Data Representation and Transformation": 0.043478260869565216,
         "Computing with Data": 0.34782608695652173,
         "Data Modeling": 0.30434782608695654,
         "Data Visualization and Presentation": 0.043478260869565216,
         "Science about Data Science": 0.043478260869565216,
         "Not determinable": 0,
         "_deepnote_index_column": 52
        },
        {
         "Data Gathering, Preparation and Exploration": 0.18181818181818182,
         "Data Representation and Transformation": 0.18181818181818182,
         "Computing with Data": 0.22727272727272727,
         "Data Modeling": 0.22727272727272727,
         "Data Visualization and Presentation": 0.18181818181818182,
         "Science about Data Science": 0,
         "Not determinable": 0,
         "_deepnote_index_column": 53
        },
        {
         "Data Gathering, Preparation and Exploration": 0.15384615384615385,
         "Data Representation and Transformation": 0.15384615384615385,
         "Computing with Data": 0.2692307692307692,
         "Data Modeling": 0.15384615384615385,
         "Data Visualization and Presentation": 0.19230769230769232,
         "Science about Data Science": 0.07692307692307693,
         "Not determinable": 0,
         "_deepnote_index_column": 54
        },
        {
         "Data Gathering, Preparation and Exploration": 0.2,
         "Data Representation and Transformation": 0.2,
         "Computing with Data": 0.2,
         "Data Modeling": 0.2,
         "Data Visualization and Presentation": 0.2,
         "Science about Data Science": 0,
         "Not determinable": 0,
         "_deepnote_index_column": 55
        },
        {
         "Data Gathering, Preparation and Exploration": 0.16,
         "Data Representation and Transformation": 0.16,
         "Computing with Data": 0.24,
         "Data Modeling": 0.16,
         "Data Visualization and Presentation": 0.16,
         "Science about Data Science": 0.12,
         "Not determinable": 0,
         "_deepnote_index_column": 56
        },
        {
         "Data Gathering, Preparation and Exploration": 0.15789473684210525,
         "Data Representation and Transformation": 0.15789473684210525,
         "Computing with Data": 0.2631578947368421,
         "Data Modeling": 0.15789473684210525,
         "Data Visualization and Presentation": 0.15789473684210525,
         "Science about Data Science": 0.10526315789473684,
         "Not determinable": 0,
         "_deepnote_index_column": 57
        },
        {
         "Data Gathering, Preparation and Exploration": 0.16,
         "Data Representation and Transformation": 0.16,
         "Computing with Data": 0.24,
         "Data Modeling": 0.16,
         "Data Visualization and Presentation": 0.16,
         "Science about Data Science": 0.12,
         "Not determinable": 0,
         "_deepnote_index_column": 58
        },
        {
         "Data Gathering, Preparation and Exploration": 0.13333333333333333,
         "Data Representation and Transformation": 0.26666666666666666,
         "Computing with Data": 0.3333333333333333,
         "Data Modeling": 0.13333333333333333,
         "Data Visualization and Presentation": 0.06666666666666667,
         "Science about Data Science": 0.06666666666666667,
         "Not determinable": 0,
         "_deepnote_index_column": 59
        },
        {
         "Data Gathering, Preparation and Exploration": 0.2,
         "Data Representation and Transformation": 0.2,
         "Computing with Data": 0.2,
         "Data Modeling": 0.2,
         "Data Visualization and Presentation": 0.2,
         "Science about Data Science": 0,
         "Not determinable": 0,
         "_deepnote_index_column": 60
        },
        {
         "Data Gathering, Preparation and Exploration": 0.16666666666666666,
         "Data Representation and Transformation": 0.23333333333333334,
         "Computing with Data": 0.23333333333333334,
         "Data Modeling": 0.2,
         "Data Visualization and Presentation": 0.16666666666666666,
         "Science about Data Science": 0,
         "Not determinable": 0,
         "_deepnote_index_column": 61
        },
        {
         "Data Gathering, Preparation and Exploration": 0.19148936170212766,
         "Data Representation and Transformation": 0.19148936170212766,
         "Computing with Data": 0.2553191489361702,
         "Data Modeling": 0.19148936170212766,
         "Data Visualization and Presentation": 0.1702127659574468,
         "Science about Data Science": 0,
         "Not determinable": 0,
         "_deepnote_index_column": 62
        },
        {
         "Data Gathering, Preparation and Exploration": 0.18518518518518517,
         "Data Representation and Transformation": 0.2222222222222222,
         "Computing with Data": 0.2222222222222222,
         "Data Modeling": 0.2222222222222222,
         "Data Visualization and Presentation": 0.14814814814814814,
         "Science about Data Science": 0,
         "Not determinable": 0,
         "_deepnote_index_column": 63
        },
        {
         "Data Gathering, Preparation and Exploration": 0.2,
         "Data Representation and Transformation": 0.2,
         "Computing with Data": 0.26666666666666666,
         "Data Modeling": 0.2,
         "Data Visualization and Presentation": 0.13333333333333333,
         "Science about Data Science": 0,
         "Not determinable": 0,
         "_deepnote_index_column": 64
        },
        {
         "Data Gathering, Preparation and Exploration": 0.18181818181818182,
         "Data Representation and Transformation": 0.18181818181818182,
         "Computing with Data": 0.36363636363636365,
         "Data Modeling": 0.18181818181818182,
         "Data Visualization and Presentation": 0.09090909090909091,
         "Science about Data Science": 0,
         "Not determinable": 0,
         "_deepnote_index_column": 65
        },
        {
         "Data Gathering, Preparation and Exploration": 0.15625,
         "Data Representation and Transformation": 0.21875,
         "Computing with Data": 0.25,
         "Data Modeling": 0.1875,
         "Data Visualization and Presentation": 0.15625,
         "Science about Data Science": 0.03125,
         "Not determinable": 0,
         "_deepnote_index_column": 66
        },
        {
         "Data Gathering, Preparation and Exploration": 0.2,
         "Data Representation and Transformation": 0.2,
         "Computing with Data": 0.2,
         "Data Modeling": 0.2,
         "Data Visualization and Presentation": 0.2,
         "Science about Data Science": 0,
         "Not determinable": 0,
         "_deepnote_index_column": 67
        },
        {
         "Data Gathering, Preparation and Exploration": 0.2,
         "Data Representation and Transformation": 0.16666666666666666,
         "Computing with Data": 0.23333333333333334,
         "Data Modeling": 0.2,
         "Data Visualization and Presentation": 0.16666666666666666,
         "Science about Data Science": 0.03333333333333333,
         "Not determinable": 0,
         "_deepnote_index_column": 68
        },
        {
         "Data Gathering, Preparation and Exploration": 0.125,
         "Data Representation and Transformation": 0.1875,
         "Computing with Data": 0.375,
         "Data Modeling": 0.1875,
         "Data Visualization and Presentation": 0.125,
         "Science about Data Science": 0,
         "Not determinable": 0,
         "_deepnote_index_column": 69
        },
        {
         "Data Gathering, Preparation and Exploration": 0.14285714285714285,
         "Data Representation and Transformation": 0.10714285714285714,
         "Computing with Data": 0.35714285714285715,
         "Data Modeling": 0.25,
         "Data Visualization and Presentation": 0.14285714285714285,
         "Science about Data Science": 0,
         "Not determinable": 0,
         "_deepnote_index_column": 70
        },
        {
         "Data Gathering, Preparation and Exploration": 0.175,
         "Data Representation and Transformation": 0.2,
         "Computing with Data": 0.225,
         "Data Modeling": 0.2,
         "Data Visualization and Presentation": 0.2,
         "Science about Data Science": 0,
         "Not determinable": 0,
         "_deepnote_index_column": 71
        },
        {
         "Data Gathering, Preparation and Exploration": 0.1896551724137931,
         "Data Representation and Transformation": 0.1896551724137931,
         "Computing with Data": 0.22413793103448276,
         "Data Modeling": 0.20689655172413793,
         "Data Visualization and Presentation": 0.1896551724137931,
         "Science about Data Science": 0,
         "Not determinable": 0,
         "_deepnote_index_column": 72
        },
        {
         "Data Gathering, Preparation and Exploration": 0.15384615384615385,
         "Data Representation and Transformation": 0.038461538461538464,
         "Computing with Data": 0.38461538461538464,
         "Data Modeling": 0.3076923076923077,
         "Data Visualization and Presentation": 0.038461538461538464,
         "Science about Data Science": 0.07692307692307693,
         "Not determinable": 0,
         "_deepnote_index_column": 73
        },
        {
         "Data Gathering, Preparation and Exploration": 0.11764705882352941,
         "Data Representation and Transformation": 0.17647058823529413,
         "Computing with Data": 0.35294117647058826,
         "Data Modeling": 0.29411764705882354,
         "Data Visualization and Presentation": 0.058823529411764705,
         "Science about Data Science": 0,
         "Not determinable": 0,
         "_deepnote_index_column": 74
        },
        {
         "Data Gathering, Preparation and Exploration": 0.1702127659574468,
         "Data Representation and Transformation": 0.2127659574468085,
         "Computing with Data": 0.23404255319148937,
         "Data Modeling": 0.1702127659574468,
         "Data Visualization and Presentation": 0.19148936170212766,
         "Science about Data Science": 0.02127659574468085,
         "Not determinable": 0,
         "_deepnote_index_column": 75
        },
        {
         "Data Gathering, Preparation and Exploration": 0.16279069767441862,
         "Data Representation and Transformation": 0.18604651162790697,
         "Computing with Data": 0.2558139534883721,
         "Data Modeling": 0.18604651162790697,
         "Data Visualization and Presentation": 0.18604651162790697,
         "Science about Data Science": 0.023255813953488372,
         "Not determinable": 0,
         "_deepnote_index_column": 76
        },
        {
         "Data Gathering, Preparation and Exploration": 0.18181818181818182,
         "Data Representation and Transformation": 0.18181818181818182,
         "Computing with Data": 0.22727272727272727,
         "Data Modeling": 0.18181818181818182,
         "Data Visualization and Presentation": 0.18181818181818182,
         "Science about Data Science": 0.045454545454545456,
         "Not determinable": 0,
         "_deepnote_index_column": 77
        },
        {
         "Data Gathering, Preparation and Exploration": 0.17647058823529413,
         "Data Representation and Transformation": 0.11764705882352941,
         "Computing with Data": 0.4117647058823529,
         "Data Modeling": 0.17647058823529413,
         "Data Visualization and Presentation": 0.11764705882352941,
         "Science about Data Science": 0,
         "Not determinable": 0,
         "_deepnote_index_column": 78
        },
        {
         "Data Gathering, Preparation and Exploration": 0.18,
         "Data Representation and Transformation": 0.2,
         "Computing with Data": 0.22,
         "Data Modeling": 0.2,
         "Data Visualization and Presentation": 0.16,
         "Science about Data Science": 0.04,
         "Not determinable": 0,
         "_deepnote_index_column": 79
        },
        {
         "Data Gathering, Preparation and Exploration": 0.19047619047619047,
         "Data Representation and Transformation": 0.21428571428571427,
         "Computing with Data": 0.21428571428571427,
         "Data Modeling": 0.21428571428571427,
         "Data Visualization and Presentation": 0.16666666666666666,
         "Science about Data Science": 0,
         "Not determinable": 0,
         "_deepnote_index_column": 80
        }
       ],
       "rows_bottom": null
      }
     },
     "metadata": {},
     "execution_count": 42
    }
   ],
   "metadata": {
    "tags": [],
    "cell_id": "00014-ed806704-290e-4c7d-8e60-e908b0186dd7",
    "deepnote_to_be_reexecuted": false,
    "source_hash": "b5e98a16",
    "execution_start": 1625917426554,
    "execution_millis": 36,
    "deepnote_cell_type": "code"
   }
  },
  {
   "cell_type": "code",
   "execution_count": null,
   "source": [
    "curr_data_sub_grouped_by_url['sno'] = [str(ele+1) for ele in range(curr_data_sub_grouped_by_url.shape[0])]\r\n",
    "\r\n",
    "normalized_curr_data_sub_grouped_by_url = pd.concat([curr_data_sub_grouped_by_url[['url', 'sno']], curr_data_sub_grouped_by_url.drop(['url', 'sno'], axis=1).div(curr_data_sub_grouped_by_url.sum(axis=1), axis=0).fillna(0)], axis=1)\r\n",
    "normalized_curr_data_sub_grouped_by_url.index = normalized_curr_data_sub_grouped_by_url.sno\r\n",
    "normalized_curr_data_sub_grouped_by_url = normalized_curr_data_sub_grouped_by_url.drop('sno', axis=1)\r\n",
    "normalized_curr_data_sub_grouped_by_url.head()"
   ],
   "outputs": [
    {
     "output_type": "execute_result",
     "data": {
      "text/plain": [
       "                                                   url  \\\n",
       "sno                                                      \n",
       "1             http://www.bu.edu/cs/masters/program/ai/   \n",
       "2    http://www.bu.edu/questrom/ms-in-business-anal...   \n",
       "3    http://www.buffalo.edu/grad/programs/business-...   \n",
       "4    http://www.buffalo.edu/grad/programs/data-anal...   \n",
       "5                      https://ai.meng.duke.edu/degree   \n",
       "\n",
       "     Data Gathering, Preparation and Exploration  \\\n",
       "sno                                                \n",
       "1                                       0.272727   \n",
       "2                                       0.200000   \n",
       "3                                       0.206897   \n",
       "4                                       0.100000   \n",
       "5                                       0.076923   \n",
       "\n",
       "     Data Representation and Transformation  Computing with Data  \\\n",
       "sno                                                                \n",
       "1                                  0.090909             0.363636   \n",
       "2                                  0.142857             0.228571   \n",
       "3                                  0.206897             0.206897   \n",
       "4                                  0.200000             0.400000   \n",
       "5                                  0.115385             0.384615   \n",
       "\n",
       "     Data Modeling  Data Visualization and Presentation  \\\n",
       "sno                                                       \n",
       "1         0.181818                             0.000000   \n",
       "2         0.228571                             0.142857   \n",
       "3         0.206897                             0.172414   \n",
       "4         0.200000                             0.100000   \n",
       "5         0.269231                             0.076923   \n",
       "\n",
       "     Science about Data Science  Not determinable  \n",
       "sno                                                \n",
       "1                      0.090909               0.0  \n",
       "2                      0.057143               0.0  \n",
       "3                      0.000000               0.0  \n",
       "4                      0.000000               0.0  \n",
       "5                      0.076923               0.0  "
      ],
      "text/html": [
       "<div>\n",
       "<style scoped>\n",
       "    .dataframe tbody tr th:only-of-type {\n",
       "        vertical-align: middle;\n",
       "    }\n",
       "\n",
       "    .dataframe tbody tr th {\n",
       "        vertical-align: top;\n",
       "    }\n",
       "\n",
       "    .dataframe thead th {\n",
       "        text-align: right;\n",
       "    }\n",
       "</style>\n",
       "<table border=\"1\" class=\"dataframe\">\n",
       "  <thead>\n",
       "    <tr style=\"text-align: right;\">\n",
       "      <th></th>\n",
       "      <th>url</th>\n",
       "      <th>Data Gathering, Preparation and Exploration</th>\n",
       "      <th>Data Representation and Transformation</th>\n",
       "      <th>Computing with Data</th>\n",
       "      <th>Data Modeling</th>\n",
       "      <th>Data Visualization and Presentation</th>\n",
       "      <th>Science about Data Science</th>\n",
       "      <th>Not determinable</th>\n",
       "    </tr>\n",
       "    <tr>\n",
       "      <th>sno</th>\n",
       "      <th></th>\n",
       "      <th></th>\n",
       "      <th></th>\n",
       "      <th></th>\n",
       "      <th></th>\n",
       "      <th></th>\n",
       "      <th></th>\n",
       "      <th></th>\n",
       "    </tr>\n",
       "  </thead>\n",
       "  <tbody>\n",
       "    <tr>\n",
       "      <th>1</th>\n",
       "      <td>http://www.bu.edu/cs/masters/program/ai/</td>\n",
       "      <td>0.272727</td>\n",
       "      <td>0.090909</td>\n",
       "      <td>0.363636</td>\n",
       "      <td>0.181818</td>\n",
       "      <td>0.000000</td>\n",
       "      <td>0.090909</td>\n",
       "      <td>0.0</td>\n",
       "    </tr>\n",
       "    <tr>\n",
       "      <th>2</th>\n",
       "      <td>http://www.bu.edu/questrom/ms-in-business-anal...</td>\n",
       "      <td>0.200000</td>\n",
       "      <td>0.142857</td>\n",
       "      <td>0.228571</td>\n",
       "      <td>0.228571</td>\n",
       "      <td>0.142857</td>\n",
       "      <td>0.057143</td>\n",
       "      <td>0.0</td>\n",
       "    </tr>\n",
       "    <tr>\n",
       "      <th>3</th>\n",
       "      <td>http://www.buffalo.edu/grad/programs/business-...</td>\n",
       "      <td>0.206897</td>\n",
       "      <td>0.206897</td>\n",
       "      <td>0.206897</td>\n",
       "      <td>0.206897</td>\n",
       "      <td>0.172414</td>\n",
       "      <td>0.000000</td>\n",
       "      <td>0.0</td>\n",
       "    </tr>\n",
       "    <tr>\n",
       "      <th>4</th>\n",
       "      <td>http://www.buffalo.edu/grad/programs/data-anal...</td>\n",
       "      <td>0.100000</td>\n",
       "      <td>0.200000</td>\n",
       "      <td>0.400000</td>\n",
       "      <td>0.200000</td>\n",
       "      <td>0.100000</td>\n",
       "      <td>0.000000</td>\n",
       "      <td>0.0</td>\n",
       "    </tr>\n",
       "    <tr>\n",
       "      <th>5</th>\n",
       "      <td>https://ai.meng.duke.edu/degree</td>\n",
       "      <td>0.076923</td>\n",
       "      <td>0.115385</td>\n",
       "      <td>0.384615</td>\n",
       "      <td>0.269231</td>\n",
       "      <td>0.076923</td>\n",
       "      <td>0.076923</td>\n",
       "      <td>0.0</td>\n",
       "    </tr>\n",
       "  </tbody>\n",
       "</table>\n",
       "</div>"
      ],
      "application/vnd.deepnote.dataframe.v2+json": {
       "row_count": 5,
       "column_count": 8,
       "columns": [
        {
         "name": "url",
         "dtype": "object",
         "stats": {
          "unique_count": 5,
          "nan_count": 0,
          "categories": [
           {
            "name": "http://www.bu.edu/cs/masters/program/ai/",
            "count": 1
           },
           {
            "name": "http://www.bu.edu/questrom/ms-in-business-analytics/",
            "count": 1
           },
           {
            "name": "3 others",
            "count": 3
           }
          ]
         }
        },
        {
         "name": "Data Gathering, Preparation and Exploration",
         "dtype": "float64",
         "stats": {
          "unique_count": 5,
          "nan_count": 0,
          "min": "0.07692307692307693",
          "max": "0.2727272727272727",
          "histogram": [
           {
            "bin_start": 0.07692307692307693,
            "bin_end": 0.0965034965034965,
            "count": 1
           },
           {
            "bin_start": 0.0965034965034965,
            "bin_end": 0.11608391608391608,
            "count": 1
           },
           {
            "bin_start": 0.11608391608391608,
            "bin_end": 0.13566433566433567,
            "count": 0
           },
           {
            "bin_start": 0.13566433566433567,
            "bin_end": 0.15524475524475523,
            "count": 0
           },
           {
            "bin_start": 0.15524475524475523,
            "bin_end": 0.17482517482517482,
            "count": 0
           },
           {
            "bin_start": 0.17482517482517482,
            "bin_end": 0.1944055944055944,
            "count": 0
           },
           {
            "bin_start": 0.1944055944055944,
            "bin_end": 0.21398601398601397,
            "count": 2
           },
           {
            "bin_start": 0.21398601398601397,
            "bin_end": 0.23356643356643356,
            "count": 0
           },
           {
            "bin_start": 0.23356643356643356,
            "bin_end": 0.25314685314685315,
            "count": 0
           },
           {
            "bin_start": 0.25314685314685315,
            "bin_end": 0.2727272727272727,
            "count": 1
           }
          ]
         }
        },
        {
         "name": "Data Representation and Transformation",
         "dtype": "float64",
         "stats": {
          "unique_count": 5,
          "nan_count": 0,
          "min": "0.09090909090909091",
          "max": "0.20689655172413793",
          "histogram": [
           {
            "bin_start": 0.09090909090909091,
            "bin_end": 0.10250783699059561,
            "count": 1
           },
           {
            "bin_start": 0.10250783699059561,
            "bin_end": 0.11410658307210031,
            "count": 0
           },
           {
            "bin_start": 0.11410658307210031,
            "bin_end": 0.12570532915360502,
            "count": 1
           },
           {
            "bin_start": 0.12570532915360502,
            "bin_end": 0.13730407523510973,
            "count": 0
           },
           {
            "bin_start": 0.13730407523510973,
            "bin_end": 0.14890282131661442,
            "count": 1
           },
           {
            "bin_start": 0.14890282131661442,
            "bin_end": 0.16050156739811913,
            "count": 0
           },
           {
            "bin_start": 0.16050156739811913,
            "bin_end": 0.17210031347962385,
            "count": 0
           },
           {
            "bin_start": 0.17210031347962385,
            "bin_end": 0.18369905956112853,
            "count": 0
           },
           {
            "bin_start": 0.18369905956112853,
            "bin_end": 0.19529780564263322,
            "count": 0
           },
           {
            "bin_start": 0.19529780564263322,
            "bin_end": 0.20689655172413793,
            "count": 2
           }
          ]
         }
        },
        {
         "name": "Computing with Data",
         "dtype": "float64",
         "stats": {
          "unique_count": 5,
          "nan_count": 0,
          "min": "0.20689655172413793",
          "max": "0.4",
          "histogram": [
           {
            "bin_start": 0.20689655172413793,
            "bin_end": 0.22620689655172413,
            "count": 1
           },
           {
            "bin_start": 0.22620689655172413,
            "bin_end": 0.24551724137931036,
            "count": 1
           },
           {
            "bin_start": 0.24551724137931036,
            "bin_end": 0.26482758620689656,
            "count": 0
           },
           {
            "bin_start": 0.26482758620689656,
            "bin_end": 0.28413793103448276,
            "count": 0
           },
           {
            "bin_start": 0.28413793103448276,
            "bin_end": 0.30344827586206896,
            "count": 0
           },
           {
            "bin_start": 0.30344827586206896,
            "bin_end": 0.32275862068965516,
            "count": 0
           },
           {
            "bin_start": 0.32275862068965516,
            "bin_end": 0.3420689655172414,
            "count": 0
           },
           {
            "bin_start": 0.3420689655172414,
            "bin_end": 0.3613793103448276,
            "count": 0
           },
           {
            "bin_start": 0.3613793103448276,
            "bin_end": 0.3806896551724138,
            "count": 1
           },
           {
            "bin_start": 0.3806896551724138,
            "bin_end": 0.4,
            "count": 2
           }
          ]
         }
        },
        {
         "name": "Data Modeling",
         "dtype": "float64",
         "stats": {
          "unique_count": 5,
          "nan_count": 0,
          "min": "0.18181818181818182",
          "max": "0.2692307692307692",
          "histogram": [
           {
            "bin_start": 0.18181818181818182,
            "bin_end": 0.19055944055944057,
            "count": 1
           },
           {
            "bin_start": 0.19055944055944057,
            "bin_end": 0.1993006993006993,
            "count": 0
           },
           {
            "bin_start": 0.1993006993006993,
            "bin_end": 0.20804195804195805,
            "count": 2
           },
           {
            "bin_start": 0.20804195804195805,
            "bin_end": 0.21678321678321677,
            "count": 0
           },
           {
            "bin_start": 0.21678321678321677,
            "bin_end": 0.22552447552447552,
            "count": 0
           },
           {
            "bin_start": 0.22552447552447552,
            "bin_end": 0.23426573426573427,
            "count": 1
           },
           {
            "bin_start": 0.23426573426573427,
            "bin_end": 0.24300699300699302,
            "count": 0
           },
           {
            "bin_start": 0.24300699300699302,
            "bin_end": 0.2517482517482518,
            "count": 0
           },
           {
            "bin_start": 0.2517482517482518,
            "bin_end": 0.26048951048951047,
            "count": 0
           },
           {
            "bin_start": 0.26048951048951047,
            "bin_end": 0.2692307692307692,
            "count": 1
           }
          ]
         }
        },
        {
         "name": "Data Visualization and Presentation",
         "dtype": "float64",
         "stats": {
          "unique_count": 5,
          "nan_count": 0,
          "min": "0.0",
          "max": "0.1724137931034483",
          "histogram": [
           {
            "bin_start": 0,
            "bin_end": 0.017241379310344827,
            "count": 1
           },
           {
            "bin_start": 0.017241379310344827,
            "bin_end": 0.034482758620689655,
            "count": 0
           },
           {
            "bin_start": 0.034482758620689655,
            "bin_end": 0.05172413793103448,
            "count": 0
           },
           {
            "bin_start": 0.05172413793103448,
            "bin_end": 0.06896551724137931,
            "count": 0
           },
           {
            "bin_start": 0.06896551724137931,
            "bin_end": 0.08620689655172414,
            "count": 1
           },
           {
            "bin_start": 0.08620689655172414,
            "bin_end": 0.10344827586206896,
            "count": 1
           },
           {
            "bin_start": 0.10344827586206896,
            "bin_end": 0.12068965517241378,
            "count": 0
           },
           {
            "bin_start": 0.12068965517241378,
            "bin_end": 0.13793103448275862,
            "count": 0
           },
           {
            "bin_start": 0.13793103448275862,
            "bin_end": 0.15517241379310345,
            "count": 1
           },
           {
            "bin_start": 0.15517241379310345,
            "bin_end": 0.1724137931034483,
            "count": 1
           }
          ]
         }
        },
        {
         "name": "Science about Data Science",
         "dtype": "float64",
         "stats": {
          "unique_count": 4,
          "nan_count": 0,
          "min": "0.0",
          "max": "0.09090909090909091",
          "histogram": [
           {
            "bin_start": 0,
            "bin_end": 0.00909090909090909,
            "count": 2
           },
           {
            "bin_start": 0.00909090909090909,
            "bin_end": 0.01818181818181818,
            "count": 0
           },
           {
            "bin_start": 0.01818181818181818,
            "bin_end": 0.02727272727272727,
            "count": 0
           },
           {
            "bin_start": 0.02727272727272727,
            "bin_end": 0.03636363636363636,
            "count": 0
           },
           {
            "bin_start": 0.03636363636363636,
            "bin_end": 0.045454545454545456,
            "count": 0
           },
           {
            "bin_start": 0.045454545454545456,
            "bin_end": 0.05454545454545454,
            "count": 0
           },
           {
            "bin_start": 0.05454545454545454,
            "bin_end": 0.06363636363636363,
            "count": 1
           },
           {
            "bin_start": 0.06363636363636363,
            "bin_end": 0.07272727272727272,
            "count": 0
           },
           {
            "bin_start": 0.07272727272727272,
            "bin_end": 0.08181818181818182,
            "count": 1
           },
           {
            "bin_start": 0.08181818181818182,
            "bin_end": 0.09090909090909091,
            "count": 1
           }
          ]
         }
        },
        {
         "name": "Not determinable",
         "dtype": "float64",
         "stats": {
          "unique_count": 1,
          "nan_count": 0,
          "min": "0.0",
          "max": "0.0",
          "histogram": [
           {
            "bin_start": -0.5,
            "bin_end": -0.4,
            "count": 0
           },
           {
            "bin_start": -0.4,
            "bin_end": -0.3,
            "count": 0
           },
           {
            "bin_start": -0.3,
            "bin_end": -0.19999999999999996,
            "count": 0
           },
           {
            "bin_start": -0.19999999999999996,
            "bin_end": -0.09999999999999998,
            "count": 0
           },
           {
            "bin_start": -0.09999999999999998,
            "bin_end": 0,
            "count": 0
           },
           {
            "bin_start": 0,
            "bin_end": 0.10000000000000009,
            "count": 5
           },
           {
            "bin_start": 0.10000000000000009,
            "bin_end": 0.20000000000000007,
            "count": 0
           },
           {
            "bin_start": 0.20000000000000007,
            "bin_end": 0.30000000000000004,
            "count": 0
           },
           {
            "bin_start": 0.30000000000000004,
            "bin_end": 0.4,
            "count": 0
           },
           {
            "bin_start": 0.4,
            "bin_end": 0.5,
            "count": 0
           }
          ]
         }
        },
        {
         "name": "_deepnote_index_column",
         "dtype": "object"
        }
       ],
       "rows_top": [
        {
         "url": "http://www.bu.edu/cs/masters/program/ai/",
         "Data Gathering, Preparation and Exploration": 0.2727272727272727,
         "Data Representation and Transformation": 0.09090909090909091,
         "Computing with Data": 0.36363636363636365,
         "Data Modeling": 0.18181818181818182,
         "Data Visualization and Presentation": 0,
         "Science about Data Science": 0.09090909090909091,
         "Not determinable": 0,
         "_deepnote_index_column": "1"
        },
        {
         "url": "http://www.bu.edu/questrom/ms-in-business-analytics/",
         "Data Gathering, Preparation and Exploration": 0.2,
         "Data Representation and Transformation": 0.14285714285714285,
         "Computing with Data": 0.22857142857142856,
         "Data Modeling": 0.22857142857142856,
         "Data Visualization and Presentation": 0.14285714285714285,
         "Science about Data Science": 0.05714285714285714,
         "Not determinable": 0,
         "_deepnote_index_column": "2"
        },
        {
         "url": "http://www.buffalo.edu/grad/programs/business-analytics-ms.html",
         "Data Gathering, Preparation and Exploration": 0.20689655172413793,
         "Data Representation and Transformation": 0.20689655172413793,
         "Computing with Data": 0.20689655172413793,
         "Data Modeling": 0.20689655172413793,
         "Data Visualization and Presentation": 0.1724137931034483,
         "Science about Data Science": 0,
         "Not determinable": 0,
         "_deepnote_index_column": "3"
        },
        {
         "url": "http://www.buffalo.edu/grad/programs/data-analysis-in-the-social-sciences-ms.html",
         "Data Gathering, Preparation and Exploration": 0.1,
         "Data Representation and Transformation": 0.2,
         "Computing with Data": 0.4,
         "Data Modeling": 0.2,
         "Data Visualization and Presentation": 0.1,
         "Science about Data Science": 0,
         "Not determinable": 0,
         "_deepnote_index_column": "4"
        },
        {
         "url": "https://ai.meng.duke.edu/degree",
         "Data Gathering, Preparation and Exploration": 0.07692307692307693,
         "Data Representation and Transformation": 0.11538461538461539,
         "Computing with Data": 0.38461538461538464,
         "Data Modeling": 0.2692307692307692,
         "Data Visualization and Presentation": 0.07692307692307693,
         "Science about Data Science": 0.07692307692307693,
         "Not determinable": 0,
         "_deepnote_index_column": "5"
        }
       ],
       "rows_bottom": null
      }
     },
     "metadata": {},
     "execution_count": 43
    }
   ],
   "metadata": {
    "tags": [],
    "cell_id": "00016-5bf54880-48f6-4a7c-ba20-14c4119bedae",
    "deepnote_to_be_reexecuted": false,
    "source_hash": "2d3a582e",
    "execution_start": 1625917427810,
    "execution_millis": 50,
    "deepnote_cell_type": "code"
   }
  },
  {
   "cell_type": "code",
   "execution_count": null,
   "source": [
    "# basic stacked plot\r\n",
    "\r\n",
    "plt.figure(figsize=(15,8))\r\n",
    "normalized_curr_data_sub_grouped_by_url.drop(['url', 'Not determinable'], axis=1).plot.bar(stacked=True, colormap='Set1')\r\n",
    "plt.legend(bbox_to_anchor=(1.04,1), loc=\"upper left\")\r\n",
    "plt.title('Composition of Programs')\r\n",
    "plt.xlabel('Serial number of program')\r\n",
    "plt.ylabel('Proportion of GDS')\r\n",
    "plt.show()"
   ],
   "outputs": [
    {
     "output_type": "display_data",
     "data": {
      "text/plain": [
       "<Figure size 1080x576 with 0 Axes>"
      ]
     },
     "metadata": {}
    },
    {
     "output_type": "display_data",
     "data": {
      "text/plain": [
       "<Figure size 432x288 with 1 Axes>"
      ],
      "image/png": "[encoded data removed]"
     },
     "metadata": {
      "needs_background": "light",
      "image/png": {
       "width": 663,
       "height": 281
      }
     }
    }
   ],
   "metadata": {
    "tags": [],
    "cell_id": "00017-61afee97-e381-434f-a627-e89864dbd3ac",
    "deepnote_to_be_reexecuted": false,
    "source_hash": "94b9f563",
    "execution_start": 1625917429136,
    "execution_millis": 1990,
    "deepnote_cell_type": "code"
   }
  },
  {
   "cell_type": "code",
   "execution_count": 15,
   "source": [
    "import pandas as pd\r\n",
    "f = pd.read_csv('../../data_collection/data/labelled/academic_data.csv')\r\n",
    "f.head()"
   ],
   "outputs": [
    {
     "output_type": "execute_result",
     "data": {
      "text/plain": [
       "                                uni_name  \\\n",
       "0  Indian Institute of Science Bangalore   \n",
       "1  Indian Institute of Science Bangalore   \n",
       "2                University of Hyderabad   \n",
       "3                University of Hyderabad   \n",
       "4                           IIT Guwahati   \n",
       "\n",
       "                                 pgm_name dur_yrs    type  national_rank_qs  \\\n",
       "0  M.Tech. Computational and Data Science       2  Public                 2   \n",
       "1         M.Tech. Artificial Intelligence       2  Public                 2   \n",
       "2                  MBA Business Analytics       2  Public                 8   \n",
       "3         M.Tech. Artificial Intelligence       2  Public                 8   \n",
       "4                     M.Tech Data Science       2  Public                10   \n",
       "\n",
       "                                       dept_involved   location  \\\n",
       "0      Department of Computational and Data Sciences  Karnataka   \n",
       "1  Departments of Computer Science and Automation...  Karnataka   \n",
       "2                       School of Management Studies  Telangana   \n",
       "3        School of Computer and Information Sciences  Telangana   \n",
       "4  Departments of Computer Science and Engineerin...      Assam   \n",
       "\n",
       "                                                 url  \\\n",
       "0   http://cds.iisc.ac.in/admissions/course-degrees/   \n",
       "1                   https://eecs.iisc.ac.in/mtechai/   \n",
       "2   https://smsuoh.ac.in/mba/mba-business-analytics/   \n",
       "3  https://scis.uohyd.ac.in/Academic/Programmes/m...   \n",
       "4                         https://www.iitg.ac.in/ds/   \n",
       "\n",
       "                                               descr          header_tag  ...  \\\n",
       "0  Computational Science and Data Science are int...  ['h1', 'h2', 'h3']  ...   \n",
       "1    Artificial Intelligence has captured the ima...        ['h1', 'h2']  ...   \n",
       "2   The School has launched a two year MBA in Bus...        ['h2', 'h4']  ...   \n",
       "3   M.Tech Artificial Intelligence is also a four...              ['h2']  ...   \n",
       "4   Data Science is gaining prominence in academi...        Not inferred  ...   \n",
       "\n",
       "  Data Gathering, Preparation and Exploration  \\\n",
       "0                                    0.083333   \n",
       "1                                    0.125000   \n",
       "2                                    0.166667   \n",
       "3                                    0.076923   \n",
       "4                                    0.162791   \n",
       "\n",
       "  Data Representation and Transformation Computing with Data Data Modeling  \\\n",
       "0                               0.250000            0.416667      0.166667   \n",
       "1                               0.208333            0.333333      0.250000   \n",
       "2                               0.177778            0.300000      0.177778   \n",
       "3                               0.153846            0.538462      0.076923   \n",
       "4                               0.209302            0.325581      0.186047   \n",
       "\n",
       "  Data Visualization and Presentation Science about Data Science Soft Skills  \\\n",
       "0                            0.083333                   0.000000         0.0   \n",
       "1                            0.041667                   0.041667         0.0   \n",
       "2                            0.155556                   0.022222         0.0   \n",
       "3                            0.153846                   0.000000         0.0   \n",
       "4                            0.116279                   0.000000         0.0   \n",
       "\n",
       "   Domain Specific  Not determinable  country  \n",
       "0              0.0               0.0    India  \n",
       "1              0.0               0.0    India  \n",
       "2              0.0               0.0    India  \n",
       "3              0.0               0.0    India  \n",
       "4              0.0               0.0    India  \n",
       "\n",
       "[5 rows x 27 columns]"
      ],
      "text/html": [
       "<div>\n",
       "<style scoped>\n",
       "    .dataframe tbody tr th:only-of-type {\n",
       "        vertical-align: middle;\n",
       "    }\n",
       "\n",
       "    .dataframe tbody tr th {\n",
       "        vertical-align: top;\n",
       "    }\n",
       "\n",
       "    .dataframe thead th {\n",
       "        text-align: right;\n",
       "    }\n",
       "</style>\n",
       "<table border=\"1\" class=\"dataframe\">\n",
       "  <thead>\n",
       "    <tr style=\"text-align: right;\">\n",
       "      <th></th>\n",
       "      <th>uni_name</th>\n",
       "      <th>pgm_name</th>\n",
       "      <th>dur_yrs</th>\n",
       "      <th>type</th>\n",
       "      <th>national_rank_qs</th>\n",
       "      <th>dept_involved</th>\n",
       "      <th>location</th>\n",
       "      <th>url</th>\n",
       "      <th>descr</th>\n",
       "      <th>header_tag</th>\n",
       "      <th>...</th>\n",
       "      <th>Data Gathering, Preparation and Exploration</th>\n",
       "      <th>Data Representation and Transformation</th>\n",
       "      <th>Computing with Data</th>\n",
       "      <th>Data Modeling</th>\n",
       "      <th>Data Visualization and Presentation</th>\n",
       "      <th>Science about Data Science</th>\n",
       "      <th>Soft Skills</th>\n",
       "      <th>Domain Specific</th>\n",
       "      <th>Not determinable</th>\n",
       "      <th>country</th>\n",
       "    </tr>\n",
       "  </thead>\n",
       "  <tbody>\n",
       "    <tr>\n",
       "      <th>0</th>\n",
       "      <td>Indian Institute of Science Bangalore</td>\n",
       "      <td>M.Tech. Computational and Data Science</td>\n",
       "      <td>2</td>\n",
       "      <td>Public</td>\n",
       "      <td>2</td>\n",
       "      <td>Department of Computational and Data Sciences</td>\n",
       "      <td>Karnataka</td>\n",
       "      <td>http://cds.iisc.ac.in/admissions/course-degrees/</td>\n",
       "      <td>Computational Science and Data Science are int...</td>\n",
       "      <td>['h1', 'h2', 'h3']</td>\n",
       "      <td>...</td>\n",
       "      <td>0.083333</td>\n",
       "      <td>0.250000</td>\n",
       "      <td>0.416667</td>\n",
       "      <td>0.166667</td>\n",
       "      <td>0.083333</td>\n",
       "      <td>0.000000</td>\n",
       "      <td>0.0</td>\n",
       "      <td>0.0</td>\n",
       "      <td>0.0</td>\n",
       "      <td>India</td>\n",
       "    </tr>\n",
       "    <tr>\n",
       "      <th>1</th>\n",
       "      <td>Indian Institute of Science Bangalore</td>\n",
       "      <td>M.Tech. Artificial Intelligence</td>\n",
       "      <td>2</td>\n",
       "      <td>Public</td>\n",
       "      <td>2</td>\n",
       "      <td>Departments of Computer Science and Automation...</td>\n",
       "      <td>Karnataka</td>\n",
       "      <td>https://eecs.iisc.ac.in/mtechai/</td>\n",
       "      <td>Artificial Intelligence has captured the ima...</td>\n",
       "      <td>['h1', 'h2']</td>\n",
       "      <td>...</td>\n",
       "      <td>0.125000</td>\n",
       "      <td>0.208333</td>\n",
       "      <td>0.333333</td>\n",
       "      <td>0.250000</td>\n",
       "      <td>0.041667</td>\n",
       "      <td>0.041667</td>\n",
       "      <td>0.0</td>\n",
       "      <td>0.0</td>\n",
       "      <td>0.0</td>\n",
       "      <td>India</td>\n",
       "    </tr>\n",
       "    <tr>\n",
       "      <th>2</th>\n",
       "      <td>University of Hyderabad</td>\n",
       "      <td>MBA Business Analytics</td>\n",
       "      <td>2</td>\n",
       "      <td>Public</td>\n",
       "      <td>8</td>\n",
       "      <td>School of Management Studies</td>\n",
       "      <td>Telangana</td>\n",
       "      <td>https://smsuoh.ac.in/mba/mba-business-analytics/</td>\n",
       "      <td>The School has launched a two year MBA in Bus...</td>\n",
       "      <td>['h2', 'h4']</td>\n",
       "      <td>...</td>\n",
       "      <td>0.166667</td>\n",
       "      <td>0.177778</td>\n",
       "      <td>0.300000</td>\n",
       "      <td>0.177778</td>\n",
       "      <td>0.155556</td>\n",
       "      <td>0.022222</td>\n",
       "      <td>0.0</td>\n",
       "      <td>0.0</td>\n",
       "      <td>0.0</td>\n",
       "      <td>India</td>\n",
       "    </tr>\n",
       "    <tr>\n",
       "      <th>3</th>\n",
       "      <td>University of Hyderabad</td>\n",
       "      <td>M.Tech. Artificial Intelligence</td>\n",
       "      <td>2</td>\n",
       "      <td>Public</td>\n",
       "      <td>8</td>\n",
       "      <td>School of Computer and Information Sciences</td>\n",
       "      <td>Telangana</td>\n",
       "      <td>https://scis.uohyd.ac.in/Academic/Programmes/m...</td>\n",
       "      <td>M.Tech Artificial Intelligence is also a four...</td>\n",
       "      <td>['h2']</td>\n",
       "      <td>...</td>\n",
       "      <td>0.076923</td>\n",
       "      <td>0.153846</td>\n",
       "      <td>0.538462</td>\n",
       "      <td>0.076923</td>\n",
       "      <td>0.153846</td>\n",
       "      <td>0.000000</td>\n",
       "      <td>0.0</td>\n",
       "      <td>0.0</td>\n",
       "      <td>0.0</td>\n",
       "      <td>India</td>\n",
       "    </tr>\n",
       "    <tr>\n",
       "      <th>4</th>\n",
       "      <td>IIT Guwahati</td>\n",
       "      <td>M.Tech Data Science</td>\n",
       "      <td>2</td>\n",
       "      <td>Public</td>\n",
       "      <td>10</td>\n",
       "      <td>Departments of Computer Science and Engineerin...</td>\n",
       "      <td>Assam</td>\n",
       "      <td>https://www.iitg.ac.in/ds/</td>\n",
       "      <td>Data Science is gaining prominence in academi...</td>\n",
       "      <td>Not inferred</td>\n",
       "      <td>...</td>\n",
       "      <td>0.162791</td>\n",
       "      <td>0.209302</td>\n",
       "      <td>0.325581</td>\n",
       "      <td>0.186047</td>\n",
       "      <td>0.116279</td>\n",
       "      <td>0.000000</td>\n",
       "      <td>0.0</td>\n",
       "      <td>0.0</td>\n",
       "      <td>0.0</td>\n",
       "      <td>India</td>\n",
       "    </tr>\n",
       "  </tbody>\n",
       "</table>\n",
       "<p>5 rows × 27 columns</p>\n",
       "</div>"
      ]
     },
     "metadata": {},
     "execution_count": 15
    }
   ],
   "metadata": {}
  },
  {
   "cell_type": "code",
   "execution_count": 16,
   "source": [
    "f.shape"
   ],
   "outputs": [
    {
     "output_type": "execute_result",
     "data": {
      "text/plain": [
       "(114, 27)"
      ]
     },
     "metadata": {},
     "execution_count": 16
    }
   ],
   "metadata": {}
  },
  {
   "cell_type": "code",
   "execution_count": 17,
   "source": [
    "f.info()"
   ],
   "outputs": [
    {
     "output_type": "stream",
     "name": "stdout",
     "text": [
      "<class 'pandas.core.frame.DataFrame'>\n",
      "RangeIndex: 114 entries, 0 to 113\n",
      "Data columns (total 27 columns):\n",
      " #   Column                                       Non-Null Count  Dtype  \n",
      "---  ------                                       --------------  -----  \n",
      " 0   uni_name                                     114 non-null    object \n",
      " 1   pgm_name                                     114 non-null    object \n",
      " 2   dur_yrs                                      114 non-null    object \n",
      " 3   type                                         114 non-null    object \n",
      " 4   national_rank_qs                             114 non-null    int64  \n",
      " 5   dept_involved                                114 non-null    object \n",
      " 6   location                                     114 non-null    object \n",
      " 7   url                                          114 non-null    object \n",
      " 8   descr                                        114 non-null    object \n",
      " 9   header_tag                                   114 non-null    object \n",
      " 10  header_names                                 114 non-null    object \n",
      " 11  links                                        114 non-null    object \n",
      " 12  date_pub                                     114 non-null    object \n",
      " 13  date_last_mod                                114 non-null    object \n",
      " 14  html_tags                                    114 non-null    object \n",
      " 15  html_tag_freq                                114 non-null    object \n",
      " 16  html_emphasized_elements                     114 non-null    object \n",
      " 17  Data Gathering, Preparation and Exploration  114 non-null    float64\n",
      " 18  Data Representation and Transformation       114 non-null    float64\n",
      " 19  Computing with Data                          114 non-null    float64\n",
      " 20  Data Modeling                                114 non-null    float64\n",
      " 21  Data Visualization and Presentation          114 non-null    float64\n",
      " 22  Science about Data Science                   114 non-null    float64\n",
      " 23  Soft Skills                                  114 non-null    float64\n",
      " 24  Domain Specific                              114 non-null    float64\n",
      " 25  Not determinable                             114 non-null    float64\n",
      " 26  country                                      114 non-null    object \n",
      "dtypes: float64(9), int64(1), object(17)\n",
      "memory usage: 24.2+ KB\n"
     ]
    }
   ],
   "metadata": {}
  }
 ],
 "nbformat": 4,
 "nbformat_minor": 2,
 "metadata": {
  "orig_nbformat": 2,
  "deepnote": {
   "is_reactive": false
  },
  "deepnote_notebook_id": "38c72f12-51c6-4f86-bf86-a9410b3ce066",
  "deepnote_execution_queue": [],
  "language_info": {
   "name": "python"
  }
 }
}