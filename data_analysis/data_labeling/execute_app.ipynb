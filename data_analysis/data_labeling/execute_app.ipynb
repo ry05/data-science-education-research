{
 "cells": [
  {
   "cell_type": "code",
   "metadata": {
    "tags": [],
    "cell_id": "00000-3ae52753-df51-461c-91d9-9a94711286f7",
    "deepnote_to_be_reexecuted": false,
    "source_hash": "3e8db379",
    "execution_start": 1625881456078,
    "execution_millis": 6118,
    "deepnote_cell_type": "code"
   },
   "source": "import os\nimport app\n\nfrom preprocess import CourseNamesProcessor\n\nimport streamlit\nimport pandas as pd",
   "outputs": [
    {
     "name": "stderr",
     "text": "2021-07-10 01:44:17.141023: W tensorflow/stream_executor/platform/default/dso_loader.cc:60] Could not load dynamic library 'libcudart.so.11.0'; dlerror: libcudart.so.11.0: cannot open shared object file: No such file or directory\n2021-07-10 01:44:17.141064: I tensorflow/stream_executor/cuda/cudart_stub.cc:29] Ignore above cudart dlerror if you do not have a GPU set up on your machine.\n",
     "output_type": "stream"
    }
   ],
   "execution_count": null
  },
  {
   "cell_type": "code",
   "metadata": {
    "tags": [],
    "cell_id": "00001-f8f02efc-d53d-402e-81e4-e60b401d26f7",
    "deepnote_to_be_reexecuted": false,
    "source_hash": "478108f4",
    "execution_start": 1625881466767,
    "execution_millis": 11,
    "deepnote_cell_type": "code"
   },
   "source": "# create the csv file with all words\n\ntry:\n    df = pd.read_csv(\"labelled_words.csv\")\nexcept FileNotFoundError:\n    # load all necessary files\n    data_path = \"../../data_collection/data/processed\"\n    pgm_india = pd.read_csv(os.path.join(data_path, \"india_pgms.csv\"))\n    pgm_usa = pd.read_csv(os.path.join(data_path, \"usa_pgms.csv\"))\n    curr_india = pd.read_csv(os.path.join(data_path, \"india_curr.csv\"))\n    curr_usa = pd.read_csv(os.path.join(data_path, \"usa_curr.csv\"))\n\n    # aggregate names of compulosry courses\n    compulsory_courses_india = curr_india['compulsory course'].fillna('')\n    compulsory_courses_usa = curr_usa['compulsory course'].fillna('')\n    aggregated_compulsory_courses = list(compulsory_courses_india) + list(compulsory_courses_usa)\n\n    # process course names\n    c = CourseNamesProcessor(aggregated_compulsory_courses)\n    processed_course_names = c.get_courses()\n\n    # extract unique words from course names\n    processed_course_names_as_string = \" \".join(processed_course_names)\n    unique_words_in_course_names = list(set(processed_course_names_as_string.split()))\n\n    # make dataframe\n    df = pd.DataFrame(columns = ['word', 'labels'])\n    df['word'] = unique_words_in_course_names\n    df.to_csv(\"labelled_words.csv\", index=False)",
   "outputs": [],
   "execution_count": null
  },
  {
   "cell_type": "code",
   "metadata": {
    "tags": [],
    "cell_id": "00001-edb3c71e-247c-4c81-9fc4-fd62943852fa",
    "deepnote_to_be_reexecuted": false,
    "source_hash": "7ff9b0",
    "execution_start": 1625881468897,
    "execution_millis": 7,
    "deepnote_cell_type": "code"
   },
   "source": "\"\"\"\n!wget https://bin.equinox.io/c/4VmDzA7iaHb/ngrok-stable-linux-amd64.zip\n!unzip ngrok-stable-linux-amd64.zip\n\"\"\"",
   "outputs": [
    {
     "output_type": "execute_result",
     "execution_count": 3,
     "data": {
      "text/plain": "'\\n!wget https://bin.equinox.io/c/4VmDzA7iaHb/ngrok-stable-linux-amd64.zip\\n!unzip ngrok-stable-linux-amd64.zip\\n'"
     },
     "metadata": {}
    }
   ],
   "execution_count": null
  },
  {
   "cell_type": "code",
   "metadata": {
    "tags": [],
    "cell_id": "00001-7e687bde-f743-41ef-9781-46a36e27ad49",
    "deepnote_to_be_reexecuted": false,
    "source_hash": "ccfb794d",
    "execution_start": 1625881469665,
    "execution_millis": 15,
    "deepnote_cell_type": "code"
   },
   "source": "get_ipython().system_raw('./ngrok http 8501 &')",
   "outputs": [],
   "execution_count": null
  },
  {
   "cell_type": "code",
   "metadata": {
    "tags": [],
    "cell_id": "00002-cf116732-76ea-4e6e-84bc-f2f151325399",
    "deepnote_to_be_reexecuted": false,
    "source_hash": "b1bd4793",
    "execution_start": 1625881470367,
    "execution_millis": 736,
    "deepnote_cell_type": "code"
   },
   "source": "!curl -s http://localhost:4040/api/tunnels | python3 -c \\\n    \"import sys, json; print(json.load(sys.stdin)['tunnels'][0]['public_url'])\"",
   "outputs": [
    {
     "name": "stdout",
     "text": "https://f46f30121ed0.ngrok.io\r\n",
     "output_type": "stream"
    }
   ],
   "execution_count": null
  },
  {
   "cell_type": "code",
   "metadata": {
    "tags": [],
    "cell_id": "00003-11a14753-6f59-4960-86ee-04f22baf266c",
    "deepnote_to_be_reexecuted": false,
    "source_hash": "fcbbed81",
    "execution_start": 1625881472002,
    "execution_millis": 3996618,
    "deepnote_cell_type": "code"
   },
   "source": "!streamlit run app.py",
   "outputs": [
    {
     "name": "stdout",
     "text": "\u001b[0m\n\u001b[34m\u001b[1m  You can now view your Streamlit app in your browser.\u001b[0m\n\u001b[0m\n\u001b[34m  Network URL: \u001b[0m\u001b[1mhttp://172.3.0.232:8501\u001b[0m\n\u001b[34m  External URL: \u001b[0m\u001b[1mhttp://54.84.238.98:8501\u001b[0m\n\u001b[0m\n2021-07-10 01:44:35.165308: W tensorflow/stream_executor/platform/default/dso_loader.cc:60] Could not load dynamic library 'libcudart.so.11.0'; dlerror: libcudart.so.11.0: cannot open shared object file: No such file or directory\n2021-07-10 01:44:35.165349: I tensorflow/stream_executor/cuda/cudart_stub.cc:29] Ignore above cudart dlerror if you do not have a GPU set up on your machine.\n^C\n\u001b[34m  Stopping...\u001b[0m\n",
     "output_type": "stream"
    }
   ],
   "execution_count": null
  },
  {
   "cell_type": "code",
   "source": "",
   "metadata": {
    "tags": [],
    "cell_id": "00006-d61c420a-07d0-45d7-bdba-e4443a813fc2",
    "deepnote_cell_type": "code"
   },
   "outputs": [],
   "execution_count": null
  },
  {
   "cell_type": "markdown",
   "source": "<a style='text-decoration:none;line-height:16px;display:flex;color:#5B5B62;padding:10px;justify-content:end;' href='https://deepnote.com?utm_source=created-in-deepnote-cell&projectId=596b9f0a-2431-4aa3-878c-95287ebfbe9a' target=\"_blank\">\n<img alt='Created in deepnote.com' style='display:inline;max-height:16px;margin:0px;margin-right:7.5px;' src='data:image/svg+xml;base64,PD94bWwgdmVyc2lvbj0iMS4wIiBlbmNvZGluZz0iVVRGLTgiPz4KPHN2ZyB3aWR0aD0iODBweCIgaGVpZ2h0PSI4MHB4IiB2aWV3Qm94PSIwIDAgODAgODAiIHZlcnNpb249IjEuMSIgeG1sbnM9Imh0dHA6Ly93d3cudzMub3JnLzIwMDAvc3ZnIiB4bWxuczp4bGluaz0iaHR0cDovL3d3dy53My5vcmcvMTk5OS94bGluayI+CiAgICA8IS0tIEdlbmVyYXRvcjogU2tldGNoIDU0LjEgKDc2NDkwKSAtIGh0dHBzOi8vc2tldGNoYXBwLmNvbSAtLT4KICAgIDx0aXRsZT5Hcm91cCAzPC90aXRsZT4KICAgIDxkZXNjPkNyZWF0ZWQgd2l0aCBTa2V0Y2guPC9kZXNjPgogICAgPGcgaWQ9IkxhbmRpbmciIHN0cm9rZT0ibm9uZSIgc3Ryb2tlLXdpZHRoPSIxIiBmaWxsPSJub25lIiBmaWxsLXJ1bGU9ImV2ZW5vZGQiPgogICAgICAgIDxnIGlkPSJBcnRib2FyZCIgdHJhbnNmb3JtPSJ0cmFuc2xhdGUoLTEyMzUuMDAwMDAwLCAtNzkuMDAwMDAwKSI+CiAgICAgICAgICAgIDxnIGlkPSJHcm91cC0zIiB0cmFuc2Zvcm09InRyYW5zbGF0ZSgxMjM1LjAwMDAwMCwgNzkuMDAwMDAwKSI+CiAgICAgICAgICAgICAgICA8cG9seWdvbiBpZD0iUGF0aC0yMCIgZmlsbD0iIzAyNjVCNCIgcG9pbnRzPSIyLjM3NjIzNzYyIDgwIDM4LjA0NzY2NjcgODAgNTcuODIxNzgyMiA3My44MDU3NTkyIDU3LjgyMTc4MjIgMzIuNzU5MjczOSAzOS4xNDAyMjc4IDMxLjY4MzE2ODMiPjwvcG9seWdvbj4KICAgICAgICAgICAgICAgIDxwYXRoIGQ9Ik0zNS4wMDc3MTgsODAgQzQyLjkwNjIwMDcsNzYuNDU0OTM1OCA0Ny41NjQ5MTY3LDcxLjU0MjI2NzEgNDguOTgzODY2LDY1LjI2MTk5MzkgQzUxLjExMjI4OTksNTUuODQxNTg0MiA0MS42NzcxNzk1LDQ5LjIxMjIyODQgMjUuNjIzOTg0Niw0OS4yMTIyMjg0IEMyNS40ODQ5Mjg5LDQ5LjEyNjg0NDggMjkuODI2MTI5Niw0My4yODM4MjQ4IDM4LjY0NzU4NjksMzEuNjgzMTY4MyBMNzIuODcxMjg3MSwzMi41NTQ0MjUgTDY1LjI4MDk3Myw2Ny42NzYzNDIxIEw1MS4xMTIyODk5LDc3LjM3NjE0NCBMMzUuMDA3NzE4LDgwIFoiIGlkPSJQYXRoLTIyIiBmaWxsPSIjMDAyODY4Ij48L3BhdGg+CiAgICAgICAgICAgICAgICA8cGF0aCBkPSJNMCwzNy43MzA0NDA1IEwyNy4xMTQ1MzcsMC4yNTcxMTE0MzYgQzYyLjM3MTUxMjMsLTEuOTkwNzE3MDEgODAsMTAuNTAwMzkyNyA4MCwzNy43MzA0NDA1IEM4MCw2NC45NjA0ODgyIDY0Ljc3NjUwMzgsNzkuMDUwMzQxNCAzNC4zMjk1MTEzLDgwIEM0Ny4wNTUzNDg5LDc3LjU2NzA4MDggNTMuNDE4MjY3Nyw3MC4zMTM2MTAzIDUzLjQxODI2NzcsNTguMjM5NTg4NSBDNTMuNDE4MjY3Nyw0MC4xMjg1NTU3IDM2LjMwMzk1NDQsMzcuNzMwNDQwNSAyNS4yMjc0MTcsMzcuNzMwNDQwNSBDMTcuODQzMDU4NiwzNy43MzA0NDA1IDkuNDMzOTE5NjYsMzcuNzMwNDQwNSAwLDM3LjczMDQ0MDUgWiIgaWQ9IlBhdGgtMTkiIGZpbGw9IiMzNzkzRUYiPjwvcGF0aD4KICAgICAgICAgICAgPC9nPgogICAgICAgIDwvZz4KICAgIDwvZz4KPC9zdmc+' > </img>\nCreated in <span style='font-weight:600;margin-left:4px;'>Deepnote</span></a>",
   "metadata": {
    "tags": [],
    "created_in_deepnote_cell": true,
    "deepnote_cell_type": "markdown"
   }
  }
 ],
 "nbformat": 4,
 "nbformat_minor": 2,
 "metadata": {
  "orig_nbformat": 2,
  "deepnote": {
   "is_reactive": false
  },
  "deepnote_notebook_id": "5776c3bc-8844-4e4c-896c-176484a017cc",
  "deepnote_execution_queue": []
 }
}