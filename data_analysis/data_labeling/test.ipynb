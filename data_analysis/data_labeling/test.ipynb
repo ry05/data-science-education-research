{
 "cells": [
  {
   "cell_type": "code",
   "metadata": {
    "tags": [],
    "cell_id": "00000-c5bceeb6-461d-49ef-a7a2-fd30d936e2f8",
    "deepnote_to_be_reexecuted": false,
    "source_hash": "7e3bf3b8",
    "execution_start": 1625805949822,
    "execution_millis": 4491,
    "deepnote_cell_type": "code"
   },
   "source": "import os\nimport string\nimport re\n\nimport pandas as pd\nimport spacy\nfrom spacy.lang.en.stop_words import STOP_WORDS\nnlp = spacy.load(\"en_core_web_md\")",
   "outputs": [
    {
     "name": "stderr",
     "text": "2021-07-09 04:45:50.620337: W tensorflow/stream_executor/platform/default/dso_loader.cc:60] Could not load dynamic library 'libcudart.so.11.0'; dlerror: libcudart.so.11.0: cannot open shared object file: No such file or directory\n2021-07-09 04:45:50.620374: I tensorflow/stream_executor/cuda/cudart_stub.cc:29] Ignore above cudart dlerror if you do not have a GPU set up on your machine.\n",
     "output_type": "stream"
    }
   ],
   "execution_count": null
  },
  {
   "cell_type": "code",
   "metadata": {
    "tags": [],
    "cell_id": "00000-56282e08-272f-4607-b59d-8866b7ef0b5e",
    "deepnote_to_be_reexecuted": false,
    "source_hash": "ce618866",
    "execution_start": 1625805954317,
    "execution_millis": 30,
    "deepnote_cell_type": "code"
   },
   "source": "data_path = \"../../data_collection/data/processed\"\npgm_india = pd.read_csv(os.path.join(data_path, \"india_pgms.csv\"))\npgm_usa = pd.read_csv(os.path.join(data_path, \"usa_pgms.csv\"))\n\ncurr_india = pd.read_csv(os.path.join(data_path, \"india_curr.csv\"))\ncurr_usa = pd.read_csv(os.path.join(data_path, \"usa_curr.csv\"))\ncurr_usa = curr_usa.drop(['Unnamed: 4', 'Unnamed: 5'], axis=1)",
   "outputs": [],
   "execution_count": null
  },
  {
   "cell_type": "code",
   "metadata": {
    "tags": [],
    "cell_id": "00002-8860b4b1-2c65-4b14-8326-56a0386e9ad8",
    "deepnote_to_be_reexecuted": false,
    "source_hash": "81596ceb",
    "execution_start": 1625805954390,
    "execution_millis": 22,
    "deepnote_cell_type": "code"
   },
   "source": "pgm_india.head(2)",
   "outputs": [
    {
     "output_type": "execute_result",
     "execution_count": 3,
     "data": {
      "application/vnd.deepnote.dataframe.v2+json": {
       "row_count": 2,
       "column_count": 17,
       "columns": [
        {
         "name": "uni_name",
         "dtype": "object",
         "stats": {
          "unique_count": 1,
          "nan_count": 0,
          "categories": [
           {
            "name": "Indian Institute of Science Bangalore",
            "count": 2
           }
          ]
         }
        },
        {
         "name": "pgm_name",
         "dtype": "object",
         "stats": {
          "unique_count": 2,
          "nan_count": 0,
          "categories": [
           {
            "name": "M.Tech. Computational and Data Science",
            "count": 1
           },
           {
            "name": "M.Tech. Artificial Intelligence",
            "count": 1
           }
          ]
         }
        },
        {
         "name": "dur_yrs",
         "dtype": "int64",
         "stats": {
          "unique_count": 1,
          "nan_count": 0,
          "min": "2",
          "max": "2",
          "histogram": [
           {
            "bin_start": 1.5,
            "bin_end": 1.6,
            "count": 0
           },
           {
            "bin_start": 1.6,
            "bin_end": 1.7,
            "count": 0
           },
           {
            "bin_start": 1.7,
            "bin_end": 1.8,
            "count": 0
           },
           {
            "bin_start": 1.8,
            "bin_end": 1.9,
            "count": 0
           },
           {
            "bin_start": 1.9,
            "bin_end": 2,
            "count": 0
           },
           {
            "bin_start": 2,
            "bin_end": 2.1,
            "count": 2
           },
           {
            "bin_start": 2.1,
            "bin_end": 2.2,
            "count": 0
           },
           {
            "bin_start": 2.2,
            "bin_end": 2.3,
            "count": 0
           },
           {
            "bin_start": 2.3,
            "bin_end": 2.4,
            "count": 0
           },
           {
            "bin_start": 2.4,
            "bin_end": 2.5,
            "count": 0
           }
          ]
         }
        },
        {
         "name": "type",
         "dtype": "object",
         "stats": {
          "unique_count": 1,
          "nan_count": 0,
          "categories": [
           {
            "name": "Public",
            "count": 2
           }
          ]
         }
        },
        {
         "name": "national_rank_qs",
         "dtype": "int64",
         "stats": {
          "unique_count": 1,
          "nan_count": 0,
          "min": "2",
          "max": "2",
          "histogram": [
           {
            "bin_start": 1.5,
            "bin_end": 1.6,
            "count": 0
           },
           {
            "bin_start": 1.6,
            "bin_end": 1.7,
            "count": 0
           },
           {
            "bin_start": 1.7,
            "bin_end": 1.8,
            "count": 0
           },
           {
            "bin_start": 1.8,
            "bin_end": 1.9,
            "count": 0
           },
           {
            "bin_start": 1.9,
            "bin_end": 2,
            "count": 0
           },
           {
            "bin_start": 2,
            "bin_end": 2.1,
            "count": 2
           },
           {
            "bin_start": 2.1,
            "bin_end": 2.2,
            "count": 0
           },
           {
            "bin_start": 2.2,
            "bin_end": 2.3,
            "count": 0
           },
           {
            "bin_start": 2.3,
            "bin_end": 2.4,
            "count": 0
           },
           {
            "bin_start": 2.4,
            "bin_end": 2.5,
            "count": 0
           }
          ]
         }
        },
        {
         "name": "dept_involved",
         "dtype": "object",
         "stats": {
          "unique_count": 2,
          "nan_count": 0,
          "categories": [
           {
            "name": "Department of Computational and Data Sciences",
            "count": 1
           },
           {
            "name": "Departments of Computer Science and Automation, Electrical Communication Engineering, Electrical Engineering and Electronic Systems Engineering",
            "count": 1
           }
          ]
         }
        },
        {
         "name": "location",
         "dtype": "object",
         "stats": {
          "unique_count": 1,
          "nan_count": 0,
          "categories": [
           {
            "name": "Karnataka",
            "count": 2
           }
          ]
         }
        },
        {
         "name": "url",
         "dtype": "object",
         "stats": {
          "unique_count": 2,
          "nan_count": 0,
          "categories": [
           {
            "name": "http://cds.iisc.ac.in/admissions/course-degrees/",
            "count": 1
           },
           {
            "name": "https://eecs.iisc.ac.in/mtechai/",
            "count": 1
           }
          ]
         }
        },
        {
         "name": "descr",
         "dtype": "object",
         "stats": {
          "unique_count": 2,
          "nan_count": 0,
          "categories": [
           {
            "name": "Computational Science and Data Science are interdisciplinary areas that bring together the domain specific knowledge of science and engineering with relevant areas of computing systems and formal foundations. While computational science investigates scientific computing applications that require mathematical techniques and parallel computing, data science explores data-intensive applications that use scalable statistical and machine learning methods with Big Data and Cloud platforms. These impart foundational and scalable systems skills for computational and data sciences, with advanced courses selected by students to allow specialization on methods, platforms, and applications.",
            "count": 1
           },
           {
            "name": "  Artificial Intelligence has captured the imagination of the entire world with its potential ability to solve complex societal problems of our times: universal access to healthcare and education, efficient transportation, increased efficiency in providing e-governance services to the public, etc. Focused national efforts are underway in many countries. The Government of India has initiated widespread discussion on how India should strive to be among the top nations in the world in the AI ecosystem. The two-year M.Tech. in Artificial Intelligence aims to fill the critical needs of the industry and to fill the gap in the availability of high-end AI scientists and engineers.�The vision of the M.Tech. (AI) program is to impart rigorous training in the foundations and deep technology of Artificial Intelligence to produce graduates who can become world leaders in AI and lead India's march towards leadership in this important area. Curriculum tailored to bring students to the forefront of AI research and development.\nProgramme designed and administered by more than 30 faculty members working in leading edge topics in AI (https://ai.iisc.ac.in/).\nOne year research and development project to make our students the creators of futuristic applications of AI.\nEmphasis on publications, patents, products, and software.\nState-of-the-art computational and experimental facilities at one of the top institutions in the country.\nExcellent placement opportunities in reputed companies and industrial research labs pursuing high end, deep technology aspects of AI.",
            "count": 1
           }
          ]
         }
        },
        {
         "name": "header_tag",
         "dtype": "object",
         "stats": {
          "unique_count": 2,
          "nan_count": 0,
          "categories": [
           {
            "name": "['h1', 'h2', 'h3']",
            "count": 1
           },
           {
            "name": "['h1', 'h2']",
            "count": 1
           }
          ]
         }
        },
        {
         "name": "header_names",
         "dtype": "object",
         "stats": {
          "unique_count": 2,
          "nan_count": 0,
          "categories": [
           {
            "name": "[['\\n\\t\\t\\tCourse Degree Admissions, 2021\\t\\t'], ['M.Tech. (Computational & Data Science) Admissions, 2021'], ['About the M.Tech. (CDS) Program', 'The M.Tech. (CDS) Admission Process']]",
            "count": 1
           },
           {
            "name": "[['MTech (AI) @ IISc'], ['Admissions 2021 – Application and deadline', 'Interview', 'Highlights of the programme', 'Further Details']]",
            "count": 1
           }
          ]
         }
        },
        {
         "name": "links",
         "dtype": "object",
         "stats": {
          "unique_count": 2,
          "nan_count": 0,
          "categories": [
           {
            "name": "['https://iisc.ac.in/admissions/m-tech-m-des/', 'https://admissions.iisc.ac.in/', 'http://cds.iisc.ac.in/admissions/admissions-faq/', 'http://cds.iisc.ac.in/wp-content/uploads/MTech_CDS_Brochure_final.pdf', 'http://cds.iisc.ac.in/resources/fellowships/', 'https://cds.iisc.ac.in/wp-content/uploads/MTech_Brochure-2021.pdf', 'http://www.iisc.ac.in/admissions/', 'http://cds.iisc.ac.in/academics/mtechcds/', 'https://iisc.ac.in/admissions/m-tech-m-des', 'https://cds.iisc.ac.in/wp-content/uploads/sample-he-post-online.pdf']",
            "count": 1
           },
           {
            "name": "['https://ai.iisc.ac.in', 'https://admissions-august.iisc.ac.in/web/selectugpg.aspx', 'https://www.iisc.ac.in/admissions/', 'https://oir.iisc.ac.in/index.php/m-tech-course-program-admission/', 'https://eecs.iisc.ac.in/wp-content/uploads/2021/04/instructions.pdf', 'https://eecs.iisc.ac.in/m-tech-ai-frequently-asked-questions/', 'mailto:mtechoffice.ai@iisc.ac.in', 'https://www.csa.iisc.ac.in/', 'https://ece.iisc.ac.in/', 'http://www.ee.iisc.ac.in/', 'https://dese.iisc.ac.in/', 'https://ai.iisc.ac.in/', 'https://eecs.iisc.ac.in/mtech-ai-2019-2021/', 'https://eecs.iisc.ac.in/mtech-ai-2020-2022/', 'https://eecs.iisc.ac.in/wp-content/uploads/2021/02/MTechAICurriculum18February2021.pdf', 'https://eecs.iisc.ac.in/wp-content/uploads/2020/02/AI-Poster.pdf', 'https://eecs.iisc.ac.in/wp-content/uploads/2020/02/OnePageFlyer.pdf']",
            "count": 1
           }
          ]
         }
        },
        {
         "name": "date_pub",
         "dtype": "object",
         "stats": {
          "unique_count": 1,
          "nan_count": 0,
          "categories": [
           {
            "name": "Not inferred",
            "count": 2
           }
          ]
         }
        },
        {
         "name": "date_last_mod",
         "dtype": "object",
         "stats": {
          "unique_count": 1,
          "nan_count": 0,
          "categories": [
           {
            "name": "Not inferred",
            "count": 2
           }
          ]
         }
        },
        {
         "name": "html_tags",
         "dtype": "object",
         "stats": {
          "unique_count": 2,
          "nan_count": 0,
          "categories": [
           {
            "name": "['header', 'h1', 'div', 'ul', 'li', 'span', 'strong', 'a', 'li', 'span', 'strong', 'a', 'li', 'span', 'strong', 'a', 'h2', 'p', 'strong', 'a', 'p', 'a', 'p', 'a', 'em', 'strong', 'p', 'strong', 'ul', 'li', 'a', 'li', 'span', 'a', 'li', 'span', 'ul', 'li', 'span', 'li', 'span', 'ul', 'li', 'li', 'b', 'b', 'strong', 'li', 'b', 'li', 'li', 'li', 'li', 'span', 'span', 'i', 'i', 'span', 'h3', 'p', 'p', 'a', 'h3', 'b', 'ul', 'li', 'a', 'li', 'li', 'a', 'li', 'i', 'li', 'li', 'li', 'li', 'ul', 'li', 'span', 'i', 'i', 'li', 'span', 'i', 'li', 'a', 'li', 'i', 'i', 'p', 'a', 'p', 'b', 'p', 'b', 'i', 'span']",
            "count": 1
           },
           {
            "name": "['h1', 'p', 'img', 'p', 'strong', 'a', 'p', 'h2', 'strong', 'p', 'a', 'p', 'p', 'strong', 'sup', 'p', 'strong', 'strong', 'strong', 'strong', 'a', 'p', 'strong', 'strong', 'a', 'h2', 'strong', 'p', 'strong', 'span', 'span', 'p', 'strong', 'p', 'strong', 'p', 'p', 'strong', 'a', 'p', 'span', 'img', 'p', 'strong', 'a', 'a', 'h2', 'ol', 'li', 'a', 'a', 'a', 'a', 'li', 'li', 'a', 'li', 'li', 'li', 'li', 'div', 'h2', 'p', 'a', 'p', 'a', 'p', 'a', 'a', 'a']",
            "count": 1
           }
          ]
         }
        },
        {
         "name": "html_tag_freq",
         "dtype": "object",
         "stats": {
          "unique_count": 2,
          "nan_count": 0,
          "categories": [
           {
            "name": "{'header': 1, 'h1': 1, 'div': 1, 'ul': 6, 'li': 27, 'span': 13, 'strong': 7, 'a': 13, 'h2': 1, 'p': 9, 'em': 1, 'b': 6, 'i': 9, 'h3': 2}",
            "count": 1
           },
           {
            "name": "{'h1': 1, 'p': 18, 'img': 2, 'strong': 15, 'a': 17, 'h2': 4, 'sup': 1, 'span': 3, 'ol': 1, 'li': 7, 'div': 1}",
            "count": 1
           }
          ]
         }
        },
        {
         "name": "html_emphasized_elements",
         "dtype": "object",
         "stats": {
          "unique_count": 2,
          "nan_count": 0,
          "categories": [
           {
            "name": "['the m.tech. (cds) admission process', 'download admissions brochure [pdf]', 'common offer acceptance portal (coap)', 'about the m.tech. (cds) program', 'programflyer', 'linear algebra/matrices, probability, and combinatorics', 'iisc online admissions application', 'iisc admissions website', 'course degree admissions, 2021', 'shortlist students', 'fluid/solid mechanics', '15 apr 2021', 'april 19-23, 2021', 'important dates:', '(https://coap.iitd.ac.in)', 'last updated on april 12, 2021', 'calculus and geometry', 'admissions faq', 'algorithms', 'data structures (arrays, matrices, etc.), and basic programming.', 'm.tech. (computational & data science) admissions, 2021', '2:30 pm – 4:00 pm', 'only with shortlisted candidates', 'for any queries/questions about admissions, please contact: chair.cds#iisc.ac.in (replace # with @)']",
            "count": 1
           },
           {
            "name": "['written test will be held online with remote login through a browser. more details:', 'n of india applicants:', 'date of written test: 15th april 2021', 'international applicants:', '23:59 ist on 31stmarch 2021', 'here', 'time: 9.00am to 10.30am', 'further details', 'e', 'mtech (ai) @ iisc', 'admissions 2021 – application and deadline', 'highlights of the programme', 'click here', 'if you have questions,please browse through thefaq to see if your question is already answered. if notplease send an email to', 'interview', 'indian and overseas citiz', 'due to the covid-19 pandemic, there will not be an interview for the candidates shortlisted based on the gate scores. instead, there will be an online test for m.tech. (artificial intelligence).the test will check the ability of the applicants.']",
            "count": 1
           }
          ]
         }
        },
        {
         "name": "_deepnote_index_column",
         "dtype": "int64"
        }
       ],
       "rows_top": [
        {
         "uni_name": "Indian Institute of Science Bangalore",
         "pgm_name": "M.Tech. Computational and Data Science",
         "dur_yrs": 2,
         "type": "Public",
         "national_rank_qs": 2,
         "dept_involved": "Department of Computational and Data Sciences",
         "location": "Karnataka",
         "url": "http://cds.iisc.ac.in/admissions/course-degrees/",
         "descr": "Computational Science and Data Science are interdisciplinary areas that bring together the domain s…",
         "header_tag": "['h1', 'h2', 'h3']",
         "header_names": "[['\\n\\t\\t\\tCourse Degree Admissions, 2021\\t\\t'], ['M.Tech. (Computational & Data Science) Admission…",
         "links": "['https://iisc.ac.in/admissions/m-tech-m-des/', 'https://admissions.iisc.ac.in/', 'http://cds.iisc.…",
         "date_pub": "Not inferred",
         "date_last_mod": "Not inferred",
         "html_tags": "['header', 'h1', 'div', 'ul', 'li', 'span', 'strong', 'a', 'li', 'span', 'strong', 'a', 'li', 'span…",
         "html_tag_freq": "{'header': 1, 'h1': 1, 'div': 1, 'ul': 6, 'li': 27, 'span': 13, 'strong': 7, 'a': 13, 'h2': 1, 'p':…",
         "html_emphasized_elements": "['the m.tech. (cds) admission process', 'download admissions brochure [pdf]', 'common offer accepta…",
         "_deepnote_index_column": 0
        },
        {
         "uni_name": "Indian Institute of Science Bangalore",
         "pgm_name": "M.Tech. Artificial Intelligence",
         "dur_yrs": 2,
         "type": "Public",
         "national_rank_qs": 2,
         "dept_involved": "Departments of Computer Science and Automation, Electrical Communication Engineering, Electrical En…",
         "location": "Karnataka",
         "url": "https://eecs.iisc.ac.in/mtechai/",
         "descr": "  Artificial Intelligence has captured the imagination of the entire world with its potential abili…",
         "header_tag": "['h1', 'h2']",
         "header_names": "[['MTech (AI) @ IISc'], ['Admissions 2021 – Application and deadline', 'Interview', 'Highlights of …",
         "links": "['https://ai.iisc.ac.in', 'https://admissions-august.iisc.ac.in/web/selectugpg.aspx', 'https://www.…",
         "date_pub": "Not inferred",
         "date_last_mod": "Not inferred",
         "html_tags": "['h1', 'p', 'img', 'p', 'strong', 'a', 'p', 'h2', 'strong', 'p', 'a', 'p', 'p', 'strong', 'sup', 'p…",
         "html_tag_freq": "{'h1': 1, 'p': 18, 'img': 2, 'strong': 15, 'a': 17, 'h2': 4, 'sup': 1, 'span': 3, 'ol': 1, 'li': 7,…",
         "html_emphasized_elements": "['written test will be held online with remote login through a browser. more details:', 'n of india…",
         "_deepnote_index_column": 1
        }
       ],
       "rows_bottom": null
      },
      "text/plain": "                                uni_name  \\\n0  Indian Institute of Science Bangalore   \n1  Indian Institute of Science Bangalore   \n\n                                 pgm_name  dur_yrs    type  national_rank_qs  \\\n0  M.Tech. Computational and Data Science        2  Public                 2   \n1         M.Tech. Artificial Intelligence        2  Public                 2   \n\n                                       dept_involved   location  \\\n0      Department of Computational and Data Sciences  Karnataka   \n1  Departments of Computer Science and Automation...  Karnataka   \n\n                                                url  \\\n0  http://cds.iisc.ac.in/admissions/course-degrees/   \n1                  https://eecs.iisc.ac.in/mtechai/   \n\n                                               descr          header_tag  \\\n0  Computational Science and Data Science are int...  ['h1', 'h2', 'h3']   \n1    Artificial Intelligence has captured the ima...        ['h1', 'h2']   \n\n                                        header_names  \\\n0  [['\\n\\t\\t\\tCourse Degree Admissions, 2021\\t\\t'...   \n1  [['MTech (AI) @ IISc'], ['Admissions 2021 – Ap...   \n\n                                               links      date_pub  \\\n0  ['https://iisc.ac.in/admissions/m-tech-m-des/'...  Not inferred   \n1  ['https://ai.iisc.ac.in', 'https://admissions-...  Not inferred   \n\n  date_last_mod                                          html_tags  \\\n0  Not inferred  ['header', 'h1', 'div', 'ul', 'li', 'span', 's...   \n1  Not inferred  ['h1', 'p', 'img', 'p', 'strong', 'a', 'p', 'h...   \n\n                                       html_tag_freq  \\\n0  {'header': 1, 'h1': 1, 'div': 1, 'ul': 6, 'li'...   \n1  {'h1': 1, 'p': 18, 'img': 2, 'strong': 15, 'a'...   \n\n                            html_emphasized_elements  \n0  ['the m.tech. (cds) admission process', 'downl...  \n1  ['written test will be held online with remote...  ",
      "text/html": "<div>\n<style scoped>\n    .dataframe tbody tr th:only-of-type {\n        vertical-align: middle;\n    }\n\n    .dataframe tbody tr th {\n        vertical-align: top;\n    }\n\n    .dataframe thead th {\n        text-align: right;\n    }\n</style>\n<table border=\"1\" class=\"dataframe\">\n  <thead>\n    <tr style=\"text-align: right;\">\n      <th></th>\n      <th>uni_name</th>\n      <th>pgm_name</th>\n      <th>dur_yrs</th>\n      <th>type</th>\n      <th>national_rank_qs</th>\n      <th>dept_involved</th>\n      <th>location</th>\n      <th>url</th>\n      <th>descr</th>\n      <th>header_tag</th>\n      <th>header_names</th>\n      <th>links</th>\n      <th>date_pub</th>\n      <th>date_last_mod</th>\n      <th>html_tags</th>\n      <th>html_tag_freq</th>\n      <th>html_emphasized_elements</th>\n    </tr>\n  </thead>\n  <tbody>\n    <tr>\n      <th>0</th>\n      <td>Indian Institute of Science Bangalore</td>\n      <td>M.Tech. Computational and Data Science</td>\n      <td>2</td>\n      <td>Public</td>\n      <td>2</td>\n      <td>Department of Computational and Data Sciences</td>\n      <td>Karnataka</td>\n      <td>http://cds.iisc.ac.in/admissions/course-degrees/</td>\n      <td>Computational Science and Data Science are int...</td>\n      <td>['h1', 'h2', 'h3']</td>\n      <td>[['\\n\\t\\t\\tCourse Degree Admissions, 2021\\t\\t'...</td>\n      <td>['https://iisc.ac.in/admissions/m-tech-m-des/'...</td>\n      <td>Not inferred</td>\n      <td>Not inferred</td>\n      <td>['header', 'h1', 'div', 'ul', 'li', 'span', 's...</td>\n      <td>{'header': 1, 'h1': 1, 'div': 1, 'ul': 6, 'li'...</td>\n      <td>['the m.tech. (cds) admission process', 'downl...</td>\n    </tr>\n    <tr>\n      <th>1</th>\n      <td>Indian Institute of Science Bangalore</td>\n      <td>M.Tech. Artificial Intelligence</td>\n      <td>2</td>\n      <td>Public</td>\n      <td>2</td>\n      <td>Departments of Computer Science and Automation...</td>\n      <td>Karnataka</td>\n      <td>https://eecs.iisc.ac.in/mtechai/</td>\n      <td>Artificial Intelligence has captured the ima...</td>\n      <td>['h1', 'h2']</td>\n      <td>[['MTech (AI) @ IISc'], ['Admissions 2021 – Ap...</td>\n      <td>['https://ai.iisc.ac.in', 'https://admissions-...</td>\n      <td>Not inferred</td>\n      <td>Not inferred</td>\n      <td>['h1', 'p', 'img', 'p', 'strong', 'a', 'p', 'h...</td>\n      <td>{'h1': 1, 'p': 18, 'img': 2, 'strong': 15, 'a'...</td>\n      <td>['written test will be held online with remote...</td>\n    </tr>\n  </tbody>\n</table>\n</div>"
     },
     "metadata": {}
    }
   ],
   "execution_count": null
  },
  {
   "cell_type": "code",
   "metadata": {
    "tags": [],
    "cell_id": "00003-efa13bb0-38cb-46be-a141-5d5bf0f38b54",
    "deepnote_to_be_reexecuted": false,
    "source_hash": "38996173",
    "execution_start": 1625805954414,
    "execution_millis": 23,
    "deepnote_cell_type": "code"
   },
   "source": "curr_india.head(2)",
   "outputs": [
    {
     "output_type": "execute_result",
     "execution_count": 4,
     "data": {
      "application/vnd.deepnote.dataframe.v2+json": {
       "row_count": 2,
       "column_count": 4,
       "columns": [
        {
         "name": "url",
         "dtype": "object",
         "stats": {
          "unique_count": 1,
          "nan_count": 0,
          "categories": [
           {
            "name": "http://cds.iisc.ac.in/admissions/course-degrees/",
            "count": 2
           }
          ]
         }
        },
        {
         "name": "compulsory course",
         "dtype": "object",
         "stats": {
          "unique_count": 2,
          "nan_count": 0,
          "categories": [
           {
            "name": "Introduction to Scalable Systems",
            "count": 1
           },
           {
            "name": "Numerical Linear Algebra",
            "count": 1
           }
          ]
         }
        },
        {
         "name": "course outcome or overview",
         "dtype": "object",
         "stats": {
          "unique_count": 1,
          "nan_count": 1,
          "categories": [
           {
            "name": "This course covers computer systems topics that are essential for students engaging in computational and data sciences. It introduces topics on architecture, OS and data structures that may be new to students without a degree in Computer Science. Then it moves to more advanced topics on tree/graph data structures, HPC/GPGPU programming and Big Data platforms.",
            "count": 1
           },
           {
            "name": "Missing",
            "count": 1
           }
          ]
         }
        },
        {
         "name": "topics covered",
         "dtype": "object",
         "stats": {
          "unique_count": 2,
          "nan_count": 0,
          "categories": [
           {
            "name": "Architecture: computer organization, single-core optimizations including exploiting cache hierarchy and vectorization, parallel architectures including multi-core, shared memory, distributed memory and GPU architectures; Algorithms and Data Structures: algorithmic analysis, overview of trees and graphs, algorithmic strategies, concurrent data structures; Parallelization Principles: motivation, challenges, metrics, parallelization steps, data distribution, PRAM model; Parallel Programming Models and Languages: OpenMP, MPI, CUDA; Distributed Computing: Commodity cluster and cloud computing; Distributed Programming: MapReduce/Hadoop model.",
            "count": 1
           },
           {
            "name": "Matrix and vector norms, floating points arithmetic, forward and backward stability of algorithms, conditioning of a problem, perturbation analysis, algorithmic efficiency, Structured matrices, Solving linear systems, Gaussian elimination, LU factorization, Pivoting, Cholesky decomposition, Iterative refinement, QR factorization, Gram-Schmidt orthogonalization, Projections, Householder reflectors, Givens rotation, Singular Value Decomposition, Rank and matrix approximations, image compression using SVD, Least squares and least norm solution of linear systems, pseudoinverse, normal equations, Eigenvalue problems, Gershgorin theorem, Similarity transform, Eigenvalue & eigenvector computations and sensitivity, Power method, Schur decomposition, Jordan canonical form, QR iteration with & without shifts, Hessenberg transformation, Rayleigh quotient, Symmetric eigenvalue problem, Jacobi method, Divide and Conquer, Computing the Singular Value Decomposition, Golub-Kahan-Reinsch algorithm, Chan SVD algorithm, Generalized SVD, Generalized and Quadratic eigenvalue problems, generalized Schur decomposition (QZ decomposition), Iterative methods for large linear systems: Jacobi, Gauss-Seidel and SOR, convergence of iterative algorithms, Krylov subspace methods: Lanczos, Arnoldi, MINRES, GMRES, Conjugate Gradient and QMR, Pre-conditioners, Approximating eigenvalues and eigenvectors.",
            "count": 1
           }
          ]
         }
        },
        {
         "name": "_deepnote_index_column",
         "dtype": "int64"
        }
       ],
       "rows_top": [
        {
         "url": "http://cds.iisc.ac.in/admissions/course-degrees/",
         "compulsory course": "Introduction to Scalable Systems",
         "course outcome or overview": "This course covers computer systems topics that are essential for students engaging in computationa…",
         "topics covered": "Architecture: computer organization, single-core optimizations including exploiting cache hierarchy…",
         "_deepnote_index_column": 0
        },
        {
         "url": "http://cds.iisc.ac.in/admissions/course-degrees/",
         "compulsory course": "Numerical Linear Algebra",
         "course outcome or overview": "nan",
         "topics covered": "Matrix and vector norms, floating points arithmetic, forward and backward stability of algorithms, …",
         "_deepnote_index_column": 1
        }
       ],
       "rows_bottom": null
      },
      "text/plain": "                                                url  \\\n0  http://cds.iisc.ac.in/admissions/course-degrees/   \n1  http://cds.iisc.ac.in/admissions/course-degrees/   \n\n                  compulsory course  \\\n0  Introduction to Scalable Systems   \n1          Numerical Linear Algebra   \n\n                          course outcome or overview  \\\n0  This course covers computer systems topics tha...   \n1                                                NaN   \n\n                                      topics covered  \n0  Architecture: computer organization, single-co...  \n1  Matrix and vector norms, floating points arith...  ",
      "text/html": "<div>\n<style scoped>\n    .dataframe tbody tr th:only-of-type {\n        vertical-align: middle;\n    }\n\n    .dataframe tbody tr th {\n        vertical-align: top;\n    }\n\n    .dataframe thead th {\n        text-align: right;\n    }\n</style>\n<table border=\"1\" class=\"dataframe\">\n  <thead>\n    <tr style=\"text-align: right;\">\n      <th></th>\n      <th>url</th>\n      <th>compulsory course</th>\n      <th>course outcome or overview</th>\n      <th>topics covered</th>\n    </tr>\n  </thead>\n  <tbody>\n    <tr>\n      <th>0</th>\n      <td>http://cds.iisc.ac.in/admissions/course-degrees/</td>\n      <td>Introduction to Scalable Systems</td>\n      <td>This course covers computer systems topics tha...</td>\n      <td>Architecture: computer organization, single-co...</td>\n    </tr>\n    <tr>\n      <th>1</th>\n      <td>http://cds.iisc.ac.in/admissions/course-degrees/</td>\n      <td>Numerical Linear Algebra</td>\n      <td>NaN</td>\n      <td>Matrix and vector norms, floating points arith...</td>\n    </tr>\n  </tbody>\n</table>\n</div>"
     },
     "metadata": {}
    }
   ],
   "execution_count": null
  },
  {
   "cell_type": "code",
   "metadata": {
    "tags": [],
    "cell_id": "00003-5247d9a3-c9fd-4bbf-a625-e696737d122b",
    "deepnote_to_be_reexecuted": false,
    "source_hash": "282785c",
    "execution_start": 1625805954433,
    "execution_millis": 9,
    "deepnote_cell_type": "code"
   },
   "source": "program_descriptions_india = pgm_india.descr.fillna('')\nprogram_descriptions_usa = pgm_usa.descr.fillna('')\naggregated_program_descriptions = ' '.join(program_descriptions_india) + ' '.join(program_descriptions_usa)",
   "outputs": [],
   "execution_count": null
  },
  {
   "cell_type": "code",
   "metadata": {
    "tags": [],
    "cell_id": "00004-7cca870e-f4b5-4e8d-98ad-a7c6b9612333",
    "deepnote_to_be_reexecuted": false,
    "source_hash": "3bea8a56",
    "execution_start": 1625805954445,
    "execution_millis": 16,
    "deepnote_cell_type": "code"
   },
   "source": "len(aggregated_program_descriptions)",
   "outputs": [
    {
     "output_type": "execute_result",
     "execution_count": 6,
     "data": {
      "text/plain": "145972"
     },
     "metadata": {}
    }
   ],
   "execution_count": null
  },
  {
   "cell_type": "code",
   "metadata": {
    "tags": [],
    "cell_id": "00006-b7b4aea9-3225-4ea9-b006-8d7c5a03e563",
    "deepnote_to_be_reexecuted": false,
    "source_hash": "9b0add64",
    "execution_start": 1625805954500,
    "execution_millis": 0,
    "deepnote_cell_type": "code"
   },
   "source": "compulsory_courses_india = curr_india['compulsory course'].fillna('')\ncompulsory_courses_usa = curr_usa['compulsory course'].fillna('')\naggregated_compulsory_courses = list(compulsory_courses_india) + list(compulsory_courses_usa)",
   "outputs": [],
   "execution_count": null
  },
  {
   "cell_type": "code",
   "metadata": {
    "tags": [],
    "cell_id": "00007-a9461857-0fa9-42bf-ab70-c98c53dc353f",
    "deepnote_to_be_reexecuted": false,
    "source_hash": "fd48d5e9",
    "execution_start": 1625805954500,
    "execution_millis": 9,
    "deepnote_cell_type": "code"
   },
   "source": "print(aggregated_compulsory_courses[:10])\nprint(len(aggregated_compulsory_courses))",
   "outputs": [
    {
     "name": "stdout",
     "text": "['Introduction to Scalable Systems', 'Numerical Linear Algebra', 'Numerical Methods', 'Data Analysis and Visualization', 'Research Methods - Softs Skills Course', 'Data Structures and Algorithms', 'Stochastic Models and Applications', 'Random Processes', 'Computational Linear Algebra', 'Computational Methods of Optimization']\n1002\n",
     "output_type": "stream"
    }
   ],
   "execution_count": null
  },
  {
   "cell_type": "markdown",
   "source": "- There are 1002 unique compulsory courses in the dataset (both years combined)\n- Run these through the labeller\n    - Ensure randomization to not be biased while labelling",
   "metadata": {
    "tags": [],
    "cell_id": "00008-81e0ac70-8c81-418a-96b3-cdf85d2b3edd",
    "deepnote_cell_type": "markdown"
   }
  },
  {
   "cell_type": "code",
   "metadata": {
    "tags": [],
    "cell_id": "00005-b94d94a1-61a9-45f5-bda2-28cce1928c3c",
    "deepnote_to_be_reexecuted": false,
    "source_hash": "c4db6eb7",
    "execution_start": 1625805954501,
    "execution_millis": 0,
    "deepnote_cell_type": "code"
   },
   "source": "class TextPreprocessor:\n\n    def __init__(self, text):\n        self.text = text\n\n    def make_lowercase(self):\n        self.text = self.text.lower()\n\n    def remove_numbers(self):\n        self.text = self.text.translate({ord(k): None for k in string.digits})\n\n    def remove_unnecessary_whitespace(self):\n        self.text = self.text.replace('\\t', '').replace('\\n', '')\n        self.text = re.sub(' +', ' ', self.text)\n        self.text = self.text.strip()\n\n    def remove_urls(self):\n        self.text = re.sub(r'http\\S+', '', self.text)\n\n    def remove_punctuations(self):\n        self.text = self.text.translate({ord(k): None for k in string.punctuation})\n\n    def remove_unicode_chars(self):\n        self.text = self.text.encode('ascii', 'ignore').decode('utf-8')\n\n    def preprocess_text(self):\n\n        self.make_lowercase()\n        self.remove_numbers()\n        self.remove_punctuations()\n        self.remove_urls()\n        self.remove_unicode_chars()\n        self.remove_unnecessary_whitespace()\n\n        return self.text",
   "outputs": [],
   "execution_count": null
  },
  {
   "cell_type": "markdown",
   "source": "- Some times, words that don't make sense such as 'di' and 'dames' are introduced post preprocessing",
   "metadata": {
    "tags": [],
    "cell_id": "00006-dacb313b-0c47-486e-8979-2c68811232e4",
    "deepnote_cell_type": "markdown"
   }
  },
  {
   "cell_type": "code",
   "metadata": {
    "tags": [],
    "cell_id": "00006-1a66b79b-22ca-4df5-a790-7d09d99ce169",
    "deepnote_to_be_reexecuted": false,
    "source_hash": "c873c9d1",
    "execution_start": 1625805954546,
    "execution_millis": 44,
    "deepnote_cell_type": "code"
   },
   "source": "p = TextPreprocessor(aggregated_program_descriptions)\npreprocessed_aggregated_program_descriptions = p.preprocess_text()",
   "outputs": [],
   "execution_count": null
  },
  {
   "cell_type": "code",
   "metadata": {
    "tags": [],
    "cell_id": "00007-0162bd94-ce72-428e-8c53-99ecde33f743",
    "deepnote_to_be_reexecuted": false,
    "source_hash": "a2d256b",
    "execution_start": 1625805954591,
    "execution_millis": 4,
    "deepnote_cell_type": "code"
   },
   "source": "len(preprocessed_aggregated_program_descriptions.split()) # all tokens",
   "outputs": [
    {
     "output_type": "execute_result",
     "execution_count": 11,
     "data": {
      "text/plain": "20669"
     },
     "metadata": {}
    }
   ],
   "execution_count": null
  },
  {
   "cell_type": "code",
   "metadata": {
    "tags": [],
    "cell_id": "00008-1802663a-3f18-40e3-98fc-d3f54b3784c6",
    "deepnote_to_be_reexecuted": false,
    "source_hash": "a2a1b0d6",
    "execution_start": 1625805954591,
    "execution_millis": 4473,
    "deepnote_cell_type": "code"
   },
   "source": "noun_chunks = []\ndoc = nlp(preprocessed_aggregated_program_descriptions)\nfor chunk in doc.noun_chunks:\n    noun_chunks.append(chunk.text)\nnoun_chunks = list(set(noun_chunks))",
   "outputs": [],
   "execution_count": null
  },
  {
   "cell_type": "code",
   "metadata": {
    "tags": [],
    "cell_id": "00009-bee332e5-9b6f-42a0-bc23-dc4f12c23e61",
    "deepnote_to_be_reexecuted": false,
    "source_hash": "bd5ceb39",
    "execution_start": 1625805959066,
    "execution_millis": 11,
    "deepnote_cell_type": "code"
   },
   "source": "print(noun_chunks[:10])\nprint(len(noun_chunks))",
   "outputs": [
    {
     "name": "stdout",
     "text": "['msba program trains', 'the potential', 'individual behaviors', 'an additional trained personnel', 'the option', 'office', 'a phd degree', 'operational decisions', 'human capital analytics and technology functions building', 'fundamental ways']\n3374\n",
     "output_type": "stream"
    }
   ],
   "execution_count": null
  },
  {
   "cell_type": "code",
   "metadata": {
    "tags": [],
    "cell_id": "00010-cdc58fa4-7832-4d8e-86ee-cb2185e68ad7",
    "deepnote_to_be_reexecuted": false,
    "source_hash": "dea78bcf",
    "execution_start": 1625805959138,
    "execution_millis": 3611,
    "deepnote_cell_type": "code"
   },
   "source": "nouns_verbs_propernouns = []\ndoc = nlp(preprocessed_aggregated_program_descriptions)\nfor token in doc:\n    token_text = token.text\n    token_pos = token.pos_\n    if token_pos in ['PROPN', 'NOUN', 'VERB']:\n        nouns_verbs_propernouns.append(token_text)\n\nnouns_verbs_propernouns = list(set(nouns_verbs_propernouns))",
   "outputs": [],
   "execution_count": null
  },
  {
   "cell_type": "code",
   "metadata": {
    "tags": [],
    "cell_id": "00011-ab8ef807-4887-4fae-860c-ef6e29a7bdb4",
    "deepnote_to_be_reexecuted": false,
    "source_hash": "b9de8e0b",
    "execution_start": 1625805962751,
    "execution_millis": 12,
    "deepnote_cell_type": "code"
   },
   "source": "print(nouns_verbs_propernouns[:10])\nprint(len(nouns_verbs_propernouns))",
   "outputs": [
    {
     "name": "stdout",
     "text": "['shaping', 'council', 'simulation', 'diagnose', 'levels', 'expectancy', 'potential', 'office', 'problemsanalytics', 'fulfills']\n2325\n",
     "output_type": "stream"
    }
   ],
   "execution_count": null
  },
  {
   "cell_type": "markdown",
   "source": "### Working with compulsory courses",
   "metadata": {
    "tags": [],
    "cell_id": "00017-67d72cef-95c2-4d7f-9e63-f9c1adff4631",
    "deepnote_cell_type": "markdown"
   }
  },
  {
   "cell_type": "code",
   "metadata": {
    "tags": [],
    "cell_id": "00013-2c9ff803-50b8-4c2a-b612-efe74355e4e4",
    "deepnote_to_be_reexecuted": false,
    "source_hash": "44b47262",
    "execution_start": 1625805962760,
    "execution_millis": 10,
    "deepnote_cell_type": "code"
   },
   "source": "print(len(aggregated_compulsory_courses))",
   "outputs": [
    {
     "name": "stdout",
     "text": "1002\n",
     "output_type": "stream"
    }
   ],
   "execution_count": null
  },
  {
   "cell_type": "code",
   "metadata": {
    "tags": [],
    "cell_id": "00019-8b642c7c-a3a7-40bd-98bb-03cb3435a3ad",
    "deepnote_to_be_reexecuted": false,
    "source_hash": "6ea9ecf3",
    "execution_start": 1625805962772,
    "execution_millis": 6,
    "deepnote_cell_type": "code"
   },
   "source": "class CourseNamesProcessor:\n\n    def __init__(self, course_list):\n        self.courses = course_list\n\n    def remove_duplicates(self):\n        self.courses =  list(set(self.courses))\n\n    def remove_punctuations(self, course):\n        return course.translate({ord(k): None for k in string.punctuation})\n\n    def remove_numbers(self, course):\n        return course.translate({ord(k): None for k in string.digits})\n\n    def preprocess_course_names(self):\n        self.courses = [course_name.lower().strip() for course_name in self.courses if len(course_name)!=0]\n        self.courses = [self.remove_numbers(course_name) for course_name in self.courses]\n        self.courses = [self.remove_punctuations(course_name) for course_name in self.courses]\n\n    def remove_stopwords_in_course_names(self):\n        stopword_free_courses = []\n        temp = \" <COURSE SEPARATOR> \".join(self.courses)\n        for word in temp.split():\n            if not(word in STOP_WORDS):\n                stopword_free_courses.append(word)\n\n        self.courses = \" \".join(stopword_free_courses).split(\" <COURSE SEPARATOR> \")\n\n    def process_course_names(self):\n\n        self.remove_duplicates()\n        self.preprocess_course_names()\n        self.remove_stopwords_in_course_names()\n        self.remove_duplicates()\n\n    def get_courses(self):\n\n        self.process_course_names()\n\n        return (self.courses)",
   "outputs": [],
   "execution_count": null
  },
  {
   "cell_type": "code",
   "metadata": {
    "tags": [],
    "cell_id": "00020-9a5beae1-3641-4c34-ad92-5688040a79ea",
    "deepnote_to_be_reexecuted": false,
    "source_hash": "8eb22660",
    "execution_start": 1625805962779,
    "execution_millis": 12,
    "deepnote_cell_type": "code"
   },
   "source": "c = CourseNamesProcessor(aggregated_compulsory_courses)\na = c.get_courses()",
   "outputs": [],
   "execution_count": null
  },
  {
   "cell_type": "code",
   "source": "len(a)",
   "metadata": {
    "tags": [],
    "cell_id": "00021-4c7df619-98b4-47da-8b0d-8a276b1b909a",
    "deepnote_to_be_reexecuted": false,
    "source_hash": "f64cd242",
    "execution_start": 1625806976359,
    "execution_millis": 12,
    "deepnote_cell_type": "code"
   },
   "outputs": [
    {
     "output_type": "execute_result",
     "execution_count": 33,
     "data": {
      "text/plain": "787"
     },
     "metadata": {}
    }
   ],
   "execution_count": null
  },
  {
   "cell_type": "code",
   "metadata": {
    "tags": [],
    "cell_id": "00021-588aeee6-302b-43a8-8579-4680f806809d",
    "deepnote_to_be_reexecuted": false,
    "source_hash": "e68c31e0",
    "execution_start": 1625807051548,
    "execution_millis": 9,
    "deepnote_cell_type": "code"
   },
   "source": "join_a = \" \".join(a)\njoin_a_words_unique = set(join_a.split())\nprint(join_a_words[:10])\nprint(len(join_a_words_unique))",
   "outputs": [
    {
     "name": "stdout",
     "text": "['relational', 'database', 'management', 'lab', 'management', 'action', 'social', 'economic', 'ethical', 'issues']\n498\n",
     "output_type": "stream"
    }
   ],
   "execution_count": null
  },
  {
   "cell_type": "code",
   "metadata": {
    "tags": [],
    "cell_id": "00027-9ae361ae-cbde-4113-a93f-58860412d75e",
    "deepnote_to_be_reexecuted": false,
    "source_hash": "4cbbd247",
    "execution_start": 1625805962801,
    "execution_millis": 10,
    "deepnote_cell_type": "code"
   },
   "source": "a[:20]",
   "outputs": [
    {
     "output_type": "execute_result",
     "execution_count": 20,
     "data": {
      "text/plain": "['relational database management lab',\n 'management action social economic ethical issues',\n 'public management',\n 'finance accounting',\n 'coding civic data applications',\n 'financial accounting reporting',\n 'business analytics skills workshops',\n 'statistical learning',\n 'building products deep learning',\n 'problem solving computer programming c',\n 'advanced statistical inference',\n 'advanced data structures',\n 'digital health applications',\n 'research tools techniques',\n 'introduction machine learning',\n 'stochastic models applications',\n 'pythonprogramming banking finance',\n 'programming spatial sciences',\n 'introduction data mining',\n 'nosql databases big data']"
     },
     "metadata": {}
    }
   ],
   "execution_count": null
  },
  {
   "cell_type": "code",
   "metadata": {
    "tags": [],
    "cell_id": "00023-11bd8422-21dc-422f-899e-d718dc6e6c71",
    "deepnote_to_be_reexecuted": false,
    "source_hash": "fe9ceb63",
    "execution_start": 1625805962809,
    "execution_millis": 46,
    "deepnote_cell_type": "code"
   },
   "source": "len(set(aggregated_compulsory_courses))",
   "outputs": [
    {
     "output_type": "execute_result",
     "execution_count": 21,
     "data": {
      "text/plain": "824"
     },
     "metadata": {}
    }
   ],
   "execution_count": null
  },
  {
   "cell_type": "code",
   "metadata": {
    "tags": [],
    "cell_id": "00024-4d31bfb0-b5ff-46e1-825f-172dc7741cd8",
    "deepnote_to_be_reexecuted": false,
    "source_hash": "7d8f8ec",
    "execution_start": 1625805962842,
    "execution_millis": 13,
    "deepnote_cell_type": "code"
   },
   "source": "list(set(aggregated_compulsory_courses))[:10]",
   "outputs": [
    {
     "output_type": "execute_result",
     "execution_count": 22,
     "data": {
      "text/plain": "['',\n 'Law and Governance of Artificial Intelligence',\n 'Spatial Computing',\n 'Exploratory Data Analysis and Visualization',\n 'Introduction to Modern AI',\n 'Database Management and SAS High Performance Computing with DBMS',\n 'Data and Visual Analytics',\n 'R-Programming in Banking and Finance-2',\n 'Applied Regression Analysis',\n 'HR analytics']"
     },
     "metadata": {}
    }
   ],
   "execution_count": null
  },
  {
   "cell_type": "markdown",
   "source": "## Different approach to GDS labeling",
   "metadata": {
    "tags": [],
    "cell_id": "00025-e14bc95e-499d-4731-9a54-c7b90554cb5a",
    "deepnote_cell_type": "markdown"
   }
  },
  {
   "cell_type": "code",
   "metadata": {
    "tags": [],
    "cell_id": "00025-efe381fe-6605-43eb-bf1d-6cd4f169b01e",
    "deepnote_to_be_reexecuted": false,
    "source_hash": "38996173",
    "execution_start": 1625805962843,
    "execution_millis": 12,
    "deepnote_cell_type": "code"
   },
   "source": "curr_india.head(2)",
   "outputs": [
    {
     "output_type": "execute_result",
     "execution_count": 23,
     "data": {
      "application/vnd.deepnote.dataframe.v2+json": {
       "row_count": 2,
       "column_count": 4,
       "columns": [
        {
         "name": "url",
         "dtype": "object",
         "stats": {
          "unique_count": 1,
          "nan_count": 0,
          "categories": [
           {
            "name": "http://cds.iisc.ac.in/admissions/course-degrees/",
            "count": 2
           }
          ]
         }
        },
        {
         "name": "compulsory course",
         "dtype": "object",
         "stats": {
          "unique_count": 2,
          "nan_count": 0,
          "categories": [
           {
            "name": "Introduction to Scalable Systems",
            "count": 1
           },
           {
            "name": "Numerical Linear Algebra",
            "count": 1
           }
          ]
         }
        },
        {
         "name": "course outcome or overview",
         "dtype": "object",
         "stats": {
          "unique_count": 1,
          "nan_count": 1,
          "categories": [
           {
            "name": "This course covers computer systems topics that are essential for students engaging in computational and data sciences. It introduces topics on architecture, OS and data structures that may be new to students without a degree in Computer Science. Then it moves to more advanced topics on tree/graph data structures, HPC/GPGPU programming and Big Data platforms.",
            "count": 1
           },
           {
            "name": "Missing",
            "count": 1
           }
          ]
         }
        },
        {
         "name": "topics covered",
         "dtype": "object",
         "stats": {
          "unique_count": 2,
          "nan_count": 0,
          "categories": [
           {
            "name": "Architecture: computer organization, single-core optimizations including exploiting cache hierarchy and vectorization, parallel architectures including multi-core, shared memory, distributed memory and GPU architectures; Algorithms and Data Structures: algorithmic analysis, overview of trees and graphs, algorithmic strategies, concurrent data structures; Parallelization Principles: motivation, challenges, metrics, parallelization steps, data distribution, PRAM model; Parallel Programming Models and Languages: OpenMP, MPI, CUDA; Distributed Computing: Commodity cluster and cloud computing; Distributed Programming: MapReduce/Hadoop model.",
            "count": 1
           },
           {
            "name": "Matrix and vector norms, floating points arithmetic, forward and backward stability of algorithms, conditioning of a problem, perturbation analysis, algorithmic efficiency, Structured matrices, Solving linear systems, Gaussian elimination, LU factorization, Pivoting, Cholesky decomposition, Iterative refinement, QR factorization, Gram-Schmidt orthogonalization, Projections, Householder reflectors, Givens rotation, Singular Value Decomposition, Rank and matrix approximations, image compression using SVD, Least squares and least norm solution of linear systems, pseudoinverse, normal equations, Eigenvalue problems, Gershgorin theorem, Similarity transform, Eigenvalue & eigenvector computations and sensitivity, Power method, Schur decomposition, Jordan canonical form, QR iteration with & without shifts, Hessenberg transformation, Rayleigh quotient, Symmetric eigenvalue problem, Jacobi method, Divide and Conquer, Computing the Singular Value Decomposition, Golub-Kahan-Reinsch algorithm, Chan SVD algorithm, Generalized SVD, Generalized and Quadratic eigenvalue problems, generalized Schur decomposition (QZ decomposition), Iterative methods for large linear systems: Jacobi, Gauss-Seidel and SOR, convergence of iterative algorithms, Krylov subspace methods: Lanczos, Arnoldi, MINRES, GMRES, Conjugate Gradient and QMR, Pre-conditioners, Approximating eigenvalues and eigenvectors.",
            "count": 1
           }
          ]
         }
        },
        {
         "name": "_deepnote_index_column",
         "dtype": "int64"
        }
       ],
       "rows_top": [
        {
         "url": "http://cds.iisc.ac.in/admissions/course-degrees/",
         "compulsory course": "Introduction to Scalable Systems",
         "course outcome or overview": "This course covers computer systems topics that are essential for students engaging in computationa…",
         "topics covered": "Architecture: computer organization, single-core optimizations including exploiting cache hierarchy…",
         "_deepnote_index_column": 0
        },
        {
         "url": "http://cds.iisc.ac.in/admissions/course-degrees/",
         "compulsory course": "Numerical Linear Algebra",
         "course outcome or overview": "nan",
         "topics covered": "Matrix and vector norms, floating points arithmetic, forward and backward stability of algorithms, …",
         "_deepnote_index_column": 1
        }
       ],
       "rows_bottom": null
      },
      "text/plain": "                                                url  \\\n0  http://cds.iisc.ac.in/admissions/course-degrees/   \n1  http://cds.iisc.ac.in/admissions/course-degrees/   \n\n                  compulsory course  \\\n0  Introduction to Scalable Systems   \n1          Numerical Linear Algebra   \n\n                          course outcome or overview  \\\n0  This course covers computer systems topics tha...   \n1                                                NaN   \n\n                                      topics covered  \n0  Architecture: computer organization, single-co...  \n1  Matrix and vector norms, floating points arith...  ",
      "text/html": "<div>\n<style scoped>\n    .dataframe tbody tr th:only-of-type {\n        vertical-align: middle;\n    }\n\n    .dataframe tbody tr th {\n        vertical-align: top;\n    }\n\n    .dataframe thead th {\n        text-align: right;\n    }\n</style>\n<table border=\"1\" class=\"dataframe\">\n  <thead>\n    <tr style=\"text-align: right;\">\n      <th></th>\n      <th>url</th>\n      <th>compulsory course</th>\n      <th>course outcome or overview</th>\n      <th>topics covered</th>\n    </tr>\n  </thead>\n  <tbody>\n    <tr>\n      <th>0</th>\n      <td>http://cds.iisc.ac.in/admissions/course-degrees/</td>\n      <td>Introduction to Scalable Systems</td>\n      <td>This course covers computer systems topics tha...</td>\n      <td>Architecture: computer organization, single-co...</td>\n    </tr>\n    <tr>\n      <th>1</th>\n      <td>http://cds.iisc.ac.in/admissions/course-degrees/</td>\n      <td>Numerical Linear Algebra</td>\n      <td>NaN</td>\n      <td>Matrix and vector norms, floating points arith...</td>\n    </tr>\n  </tbody>\n</table>\n</div>"
     },
     "metadata": {}
    }
   ],
   "execution_count": null
  },
  {
   "cell_type": "code",
   "metadata": {
    "tags": [],
    "cell_id": "00026-502ac597-a54e-4d29-a1b9-bd83a3a00094",
    "deepnote_to_be_reexecuted": false,
    "source_hash": "574ad58d",
    "execution_start": 1625805962852,
    "execution_millis": 18,
    "deepnote_cell_type": "code"
   },
   "source": "curr_usa.head(2)",
   "outputs": [
    {
     "output_type": "execute_result",
     "execution_count": 24,
     "data": {
      "application/vnd.deepnote.dataframe.v2+json": {
       "row_count": 2,
       "column_count": 4,
       "columns": [
        {
         "name": "url",
         "dtype": "object",
         "stats": {
          "unique_count": 1,
          "nan_count": 0,
          "categories": [
           {
            "name": "https://www.seas.harvard.edu/applied-computation/graduate-programs/masters-data-science",
            "count": 2
           }
          ]
         }
        },
        {
         "name": "compulsory course",
         "dtype": "object",
         "stats": {
          "unique_count": 2,
          "nan_count": 0,
          "categories": [
           {
            "name": "Systems Development for Computational Science",
            "count": 1
           },
           {
            "name": "Introduction to Data Science",
            "count": 1
           }
          ]
         }
        },
        {
         "name": "course outcome or overview",
         "dtype": "object",
         "stats": {
          "unique_count": 2,
          "nan_count": 0,
          "categories": [
           {
            "name": "This is a project-based course emphasizing designing, building, testing, maintaining and modifying software for scientific computing. Students will work in groups on a number of projects, ranging from small data-transformation utilities to large-scale systems. Students will learn to use a variety of tools and languages, as well as various techniques for organizing teams. Most important, students will learn to fit tools and approaches to the problem being solved.",
            "count": 1
           },
           {
            "name": "Data Science 1 is the first half of a one-year introduction to data science. The course will focus on the analysis of messy, real life data to perform predictions using statistical and machine learning methods. Material covered will integrate the five key facets of an investigation using data: (1) data collection - data wrangling, cleaning, and sampling to get a suitable data set;  (2) data management - accessing data quickly and reliably; (3) exploratory data analysis – generating hypotheses and building intuition; (4) prediction or statistical learning; and (5) communication – summarizing results through visualization, stories, and interpretable summaries. Part one of a two part series. The curriculum for this course builds throughout the academic year. Students are strongly encouraged to enroll in both the fall and spring course within the same academic year. Part one of a two part series.",
            "count": 1
           }
          ]
         }
        },
        {
         "name": "topics covered",
         "dtype": "object",
         "stats": {
          "unique_count": 0,
          "nan_count": 2,
          "categories": [
           {
            "name": "Missing",
            "count": 2
           }
          ]
         }
        },
        {
         "name": "_deepnote_index_column",
         "dtype": "int64"
        }
       ],
       "rows_top": [
        {
         "url": "https://www.seas.harvard.edu/applied-computation/graduate-programs/masters-data-science",
         "compulsory course": "Systems Development for Computational Science",
         "course outcome or overview": "This is a project-based course emphasizing designing, building, testing, maintaining and modifying …",
         "topics covered": "nan",
         "_deepnote_index_column": 0
        },
        {
         "url": "https://www.seas.harvard.edu/applied-computation/graduate-programs/masters-data-science",
         "compulsory course": "Introduction to Data Science",
         "course outcome or overview": "Data Science 1 is the first half of a one-year introduction to data science. The course will focus …",
         "topics covered": "nan",
         "_deepnote_index_column": 1
        }
       ],
       "rows_bottom": null
      },
      "text/plain": "                                                 url  \\\n0  https://www.seas.harvard.edu/applied-computati...   \n1  https://www.seas.harvard.edu/applied-computati...   \n\n                               compulsory course  \\\n0  Systems Development for Computational Science   \n1                   Introduction to Data Science   \n\n                          course outcome or overview topics covered  \n0  This is a project-based course emphasizing des...            NaN  \n1  Data Science 1 is the first half of a one-year...            NaN  ",
      "text/html": "<div>\n<style scoped>\n    .dataframe tbody tr th:only-of-type {\n        vertical-align: middle;\n    }\n\n    .dataframe tbody tr th {\n        vertical-align: top;\n    }\n\n    .dataframe thead th {\n        text-align: right;\n    }\n</style>\n<table border=\"1\" class=\"dataframe\">\n  <thead>\n    <tr style=\"text-align: right;\">\n      <th></th>\n      <th>url</th>\n      <th>compulsory course</th>\n      <th>course outcome or overview</th>\n      <th>topics covered</th>\n    </tr>\n  </thead>\n  <tbody>\n    <tr>\n      <th>0</th>\n      <td>https://www.seas.harvard.edu/applied-computati...</td>\n      <td>Systems Development for Computational Science</td>\n      <td>This is a project-based course emphasizing des...</td>\n      <td>NaN</td>\n    </tr>\n    <tr>\n      <th>1</th>\n      <td>https://www.seas.harvard.edu/applied-computati...</td>\n      <td>Introduction to Data Science</td>\n      <td>Data Science 1 is the first half of a one-year...</td>\n      <td>NaN</td>\n    </tr>\n  </tbody>\n</table>\n</div>"
     },
     "metadata": {}
    }
   ],
   "execution_count": null
  },
  {
   "cell_type": "code",
   "metadata": {
    "tags": [],
    "cell_id": "00028-8e409342-a1a7-4cff-9297-b931116500bd",
    "deepnote_to_be_reexecuted": false,
    "source_hash": "25827c9e",
    "execution_start": 1625805962872,
    "execution_millis": 3,
    "deepnote_cell_type": "code"
   },
   "source": "def preprocess_text(text):\n\n    # convert to lowercase\n    text = text.lower()\n\n    # remove digits\n    text = text.translate({ord(k): None for k in string.digits})\n\n    # remove punctuations\n    text = text.translate({ord(k): None for k in string.punctuation})\n\n    # remove URLs\n    text = re.sub(r'http\\S+', '', text)\n\n    # remove unicode characters\n    text = text.encode('ascii', 'ignore').decode('utf-8')\n\n    # remove unnecessary whitespace\n    text = text.replace('\\t', '').replace('\\n', '')\n    text = re.sub(' +', ' ', text)\n    text = text.strip()\n\n    return text",
   "outputs": [],
   "execution_count": null
  },
  {
   "cell_type": "code",
   "metadata": {
    "tags": [],
    "cell_id": "00028-530243ba-b761-4971-9fbe-2e8c5d51ffa7",
    "deepnote_to_be_reexecuted": false,
    "source_hash": "2a46c7f3",
    "execution_start": 1625805962922,
    "execution_millis": 49,
    "deepnote_cell_type": "code"
   },
   "source": "# combine compulsory courses from both countries\nall_compulsory_courses = pd.concat([curr_india, curr_usa])\n\n# clean data\nall_compulsory_courses = all_compulsory_courses.fillna('\\n')\nall_compulsory_courses['course outcome or overview'] = all_compulsory_courses['course outcome or overview'].apply(preprocess_text)\nall_compulsory_courses['compulsory course'] = all_compulsory_courses['compulsory course'].apply(preprocess_text)\n\n# create a new feature with course details\nall_compulsory_courses['course_details'] = all_compulsory_courses['course outcome or overview'] + all_compulsory_courses['topics covered']\n\n# anonymize the courses by removing details about which programs they are a part of\nall_compulsory_courses = all_compulsory_courses.drop(['url', 'course outcome or overview', 'topics covered'], axis=1)\n\n# shuffle the courses\nall_compulsory_courses = all_compulsory_courses.sample(frac=1)\n\nall_compulsory_courses.shape",
   "outputs": [
    {
     "output_type": "execute_result",
     "execution_count": 26,
     "data": {
      "text/plain": "(1002, 2)"
     },
     "metadata": {}
    }
   ],
   "execution_count": null
  },
  {
   "cell_type": "code",
   "metadata": {
    "tags": [],
    "cell_id": "00029-fbf2092a-7070-47e4-a5e6-1c856c82bbf8",
    "deepnote_to_be_reexecuted": false,
    "source_hash": "e67e5dca",
    "execution_start": 1625805962967,
    "execution_millis": 22,
    "deepnote_cell_type": "code"
   },
   "source": "all_compulsory_courses.head()",
   "outputs": [
    {
     "output_type": "execute_result",
     "execution_count": 27,
     "data": {
      "application/vnd.deepnote.dataframe.v2+json": {
       "row_count": 5,
       "column_count": 2,
       "columns": [
        {
         "name": "compulsory course",
         "dtype": "object",
         "stats": {
          "unique_count": 5,
          "nan_count": 0,
          "categories": [
           {
            "name": "data collection and cleaning",
            "count": 1
           },
           {
            "name": "legal aspects of business",
            "count": 1
           },
           {
            "name": "3 others",
            "count": 3
           }
          ]
         }
        },
        {
         "name": "course_details",
         "dtype": "object",
         "stats": {
          "unique_count": 4,
          "nan_count": 0,
          "categories": [
           {
            "name": "\n",
            "count": 2
           },
           {
            "name": "tools and techniques required for data collection and computational procedures to automatically or semiautomatically identify and eliminate errors in large datasets daan data collection and cleaning this course focuses on the tools and techniques required for collecting data and preparing them for further analysis the presence of incorrect and inconsistent data can significantly distort the results of the analysis often negating the potential benefits of informationdriven approaches as a result a variety of research over the last decades has focused on data cleansing computational procedures to automatically or semiautomatically identify and when possible correct errors in large data sets the goal of this course is to explore and discuss different data collection tools and techniques in addition to learning skills for retrieving data from existing databases to further enforce data quality and reliability this course will introduce techniques for error detection and data cleaning on large databases students will learn the available tools and techniques for data collection including automated data collection for databases retrieving data from available databases data preparation and cleansing techniques data quality and reliability and finally learn techniques to identify issues in data collection and how to clean the data\n",
            "count": 1
           },
           {
            "name": "2 others",
            "count": 2
           }
          ]
         }
        },
        {
         "name": "_deepnote_index_column",
         "dtype": "int64"
        }
       ],
       "rows_top": [
        {
         "compulsory course": "data collection and cleaning",
         "course_details": "tools and techniques required for data collection and computational procedures to automatically or …",
         "_deepnote_index_column": 562
        },
        {
         "compulsory course": "legal aspects of business",
         "course_details": "\n",
         "_deepnote_index_column": 348
        },
        {
         "compulsory course": "statistical learning",
         "course_details": "statistical learning is concerned with algorithms that use statistical techniques to find structure…",
         "_deepnote_index_column": 340
        },
        {
         "compulsory course": "business analytics lab",
         "course_details": "on successful completion of this course student should be able to solve statistical problems using …",
         "_deepnote_index_column": 361
        },
        {
         "compulsory course": "computer simulation",
         "course_details": "\n",
         "_deepnote_index_column": 599
        }
       ],
       "rows_bottom": null
      },
      "text/plain": "                compulsory course  \\\n562  data collection and cleaning   \n348     legal aspects of business   \n340          statistical learning   \n361        business analytics lab   \n599           computer simulation   \n\n                                        course_details  \n562  tools and techniques required for data collect...  \n348                                                 \\n  \n340  statistical learning is concerned with algorit...  \n361  on successful completion of this course studen...  \n599                                                 \\n  ",
      "text/html": "<div>\n<style scoped>\n    .dataframe tbody tr th:only-of-type {\n        vertical-align: middle;\n    }\n\n    .dataframe tbody tr th {\n        vertical-align: top;\n    }\n\n    .dataframe thead th {\n        text-align: right;\n    }\n</style>\n<table border=\"1\" class=\"dataframe\">\n  <thead>\n    <tr style=\"text-align: right;\">\n      <th></th>\n      <th>compulsory course</th>\n      <th>course_details</th>\n    </tr>\n  </thead>\n  <tbody>\n    <tr>\n      <th>562</th>\n      <td>data collection and cleaning</td>\n      <td>tools and techniques required for data collect...</td>\n    </tr>\n    <tr>\n      <th>348</th>\n      <td>legal aspects of business</td>\n      <td>\\n</td>\n    </tr>\n    <tr>\n      <th>340</th>\n      <td>statistical learning</td>\n      <td>statistical learning is concerned with algorit...</td>\n    </tr>\n    <tr>\n      <th>361</th>\n      <td>business analytics lab</td>\n      <td>on successful completion of this course studen...</td>\n    </tr>\n    <tr>\n      <th>599</th>\n      <td>computer simulation</td>\n      <td>\\n</td>\n    </tr>\n  </tbody>\n</table>\n</div>"
     },
     "metadata": {}
    }
   ],
   "execution_count": null
  },
  {
   "cell_type": "code",
   "metadata": {
    "tags": [],
    "cell_id": "00030-05648589-b226-47a5-ad5f-a6166f4b6ec2",
    "deepnote_to_be_reexecuted": false,
    "source_hash": "be6940f",
    "execution_start": 1625805962985,
    "execution_millis": 4,
    "deepnote_cell_type": "code"
   },
   "source": "len(all_compulsory_courses['compulsory course'].unique())",
   "outputs": [
    {
     "output_type": "execute_result",
     "execution_count": 28,
     "data": {
      "text/plain": "796"
     },
     "metadata": {}
    }
   ],
   "execution_count": null
  },
  {
   "cell_type": "code",
   "metadata": {
    "tags": [],
    "cell_id": "00032-737354b8-194b-4c04-9455-6f872da7fefe",
    "deepnote_to_be_reexecuted": false,
    "source_hash": "940844ff",
    "execution_start": 1625805962995,
    "execution_millis": 90,
    "deepnote_cell_type": "code"
   },
   "source": "z = all_compulsory_courses.groupby(['compulsory course'], as_index=False).agg({'course_details': 'sum'})",
   "outputs": [],
   "execution_count": null
  },
  {
   "cell_type": "code",
   "metadata": {
    "tags": [],
    "cell_id": "00033-4115db6d-056d-48b6-8a13-c3606488856e",
    "deepnote_to_be_reexecuted": false,
    "source_hash": "860ac4bd",
    "execution_start": 1625805963086,
    "execution_millis": 46,
    "deepnote_cell_type": "code"
   },
   "source": "z",
   "outputs": [
    {
     "output_type": "execute_result",
     "execution_count": 30,
     "data": {
      "application/vnd.deepnote.dataframe.v2+json": {
       "row_count": 796,
       "column_count": 2,
       "columns": [
        {
         "name": "compulsory course",
         "dtype": "object",
         "stats": {
          "unique_count": 796,
          "nan_count": 0,
          "categories": [
           {
            "name": "",
            "count": 1
           },
           {
            "name": "accelerated regression analysis for business",
            "count": 1
           },
           {
            "name": "794 others",
            "count": 794
           }
          ]
         }
        },
        {
         "name": "course_details",
         "dtype": "object",
         "stats": {
          "unique_count": 488,
          "nan_count": 0,
          "categories": [
           {
            "name": "\n",
            "count": 248
           },
           {
            "name": "group of courses to choose from\n",
            "count": 40
           },
           {
            "name": "486 others",
            "count": 508
           }
          ]
         }
        },
        {
         "name": "_deepnote_index_column",
         "dtype": "int64"
        }
       ],
       "rows_top": [
        {
         "compulsory course": "",
         "course_details": "\n\n\n",
         "_deepnote_index_column": 0
        },
        {
         "compulsory course": "accelerated regression analysis for business",
         "course_details": "this course is intended for students with recent practical knowledge of the use of regression analy…",
         "_deepnote_index_column": 1
        },
        {
         "compulsory course": "accelerated statistics for public policy",
         "course_details": "\n",
         "_deepnote_index_column": 2
        },
        {
         "compulsory course": "accounting and financial reporting",
         "course_details": "this course emphasizes the vocabulary methods and processes by which business transactions are comm…",
         "_deepnote_index_column": 3
        },
        {
         "compulsory course": "accounting for managers",
         "course_details": "\n\n\n",
         "_deepnote_index_column": 4
        },
        {
         "compulsory course": "advance programming",
         "course_details": "\n",
         "_deepnote_index_column": 5
        },
        {
         "compulsory course": "advance python programming for spatial analytics",
         "course_details": "\n",
         "_deepnote_index_column": 6
        },
        {
         "compulsory course": "advance statistical analysis for finance using pythonr",
         "course_details": "to introduce various statistical models to analyze financial data to understand and appreciate the …",
         "_deepnote_index_column": 7
        },
        {
         "compulsory course": "advanced business analytics",
         "course_details": "this course trains decision makers to function in the face of multidimensional uncertainty through …",
         "_deepnote_index_column": 8
        },
        {
         "compulsory course": "advanced data analysis",
         "course_details": "introduction to modern econometric and statistical techniques topics include standard ols regressio…",
         "_deepnote_index_column": 9
        },
        {
         "compulsory course": "advanced data structures",
         "course_details": "\n",
         "_deepnote_index_column": 10
        },
        {
         "compulsory course": "advanced data structures and algorithms",
         "course_details": "unit i understanding of asymptotic notations and basic mathematical preliminaries used in analyzing…",
         "_deepnote_index_column": 11
        },
        {
         "compulsory course": "advanced data structures and algorithms lab",
         "course_details": "students will learn how to implement different data structures and algorithms using c or c\n",
         "_deepnote_index_column": 12
        },
        {
         "compulsory course": "advanced data visualization",
         "course_details": "presenting quantitative information in visual form is an essential communication skill for data pro…",
         "_deepnote_index_column": 13
        },
        {
         "compulsory course": "advanced database management",
         "course_details": "data analysis for database design logical data modeling transaction modeling implementation models …",
         "_deepnote_index_column": 14
        },
        {
         "compulsory course": "advanced database management system",
         "course_details": "co know about the various data models understand the e r model and relational model apply normaliza…",
         "_deepnote_index_column": 15
        },
        {
         "compulsory course": "advanced database management system lab",
         "course_details": "students will learn how to use and design data base in data analytics\n",
         "_deepnote_index_column": 16
        },
        {
         "compulsory course": "advanced database management systems",
         "course_details": "unit i at the end of this unit students will be able to write complex data querries in sql on relat…",
         "_deepnote_index_column": 17
        },
        {
         "compulsory course": "advanced database management systems lab",
         "course_details": "students will learn how to use and design data base in data analytics\n",
         "_deepnote_index_column": 18
        },
        {
         "compulsory course": "advanced java programming",
         "course_details": "co learn the internet programming using java applets and create a full set of ui widgets using abst…",
         "_deepnote_index_column": 19
        },
        {
         "compulsory course": "advanced learning models",
         "course_details": "co explain about fuzzy systems and networks co use fuzzy set theory for solving problems co familia…",
         "_deepnote_index_column": 20
        },
        {
         "compulsory course": "advanced marketing analytics",
         "course_details": "this course deals with the analysis of marketing data needed for profitable marketing decisions it …",
         "_deepnote_index_column": 21
        },
        {
         "compulsory course": "advanced mathematics for scientific computing",
         "course_details": "formulate and find optimal solution in the real life optimizingallocationassignment problems involv…",
         "_deepnote_index_column": 22
        },
        {
         "compulsory course": "advanced multivariate analysis",
         "course_details": "students will learn about the application of multivariate analysis techniques in data analyticsOver…",
         "_deepnote_index_column": 23
        },
        {
         "compulsory course": "advanced multivariate methods for population analysis and behavioral modeling",
         "course_details": "group of courses to choose from\n",
         "_deepnote_index_column": 24
        },
        {
         "compulsory course": "advanced operating systems",
         "course_details": "Process States and System Call Interface; Life Cycle of a Process: Process Dynamics; Scheduler: wor…",
         "_deepnote_index_column": 25
        },
        {
         "compulsory course": "advanced problems in ai",
         "course_details": "\n",
         "_deepnote_index_column": 26
        },
        {
         "compulsory course": "advanced scientific computing stochastic methods for data analysis inference and optimization",
         "course_details": "\n",
         "_deepnote_index_column": 27
        },
        {
         "compulsory course": "advanced statistical inference",
         "course_details": "\n",
         "_deepnote_index_column": 28
        },
        {
         "compulsory course": "advanced statistical methods",
         "course_details": "understand the value of statistics as a discipline and its relevance forengineering analyze data us…",
         "_deepnote_index_column": 29
        },
        {
         "compulsory course": "advanced statistics",
         "course_details": "\n",
         "_deepnote_index_column": 30
        },
        {
         "compulsory course": "advanced topics in biomedical systems",
         "course_details": "advanced topics in selected biomedical systems cardiopulmonary neuromuscular renal and endocrine\n",
         "_deepnote_index_column": 31
        },
        {
         "compulsory course": "advanced topics in data science",
         "course_details": "data science is the second half of a oneyear introduction to data science building upon the materia…",
         "_deepnote_index_column": 32
        },
        {
         "compulsory course": "advanced topics in health informatics",
         "course_details": "this course provides a broad overview of health informatics and is designed for the health data sci…",
         "_deepnote_index_column": 33
        },
        {
         "compulsory course": "advanced web technology",
         "course_details": "co design a web page with web form fundamentals and web control classes co recognize the importance…",
         "_deepnote_index_column": 34
        },
        {
         "compulsory course": "advanced web technology lab",
         "course_details": "co develop to build a complete website using html co create web pages using dhtml and cascading sty…",
         "_deepnote_index_column": 35
        },
        {
         "compulsory course": "ai engineering",
         "course_details": "this course is devoted to building deep learning applications using tensorflow and python topics in…",
         "_deepnote_index_column": 36
        },
        {
         "compulsory course": "ai for health applications",
         "course_details": "this course will provide a handson opportunity to explore the current applications of artificial in…",
         "_deepnote_index_column": 37
        },
        {
         "compulsory course": "ai in practice",
         "course_details": "ai in practice will cover advanced topics in ai and will consist of two modules focused on optimiza…",
         "_deepnote_index_column": 38
        },
        {
         "compulsory course": "ai innovation",
         "course_details": "students learn how to build an enterprise either intrapreneurial or entrepreneurial by developing a…",
         "_deepnote_index_column": 39
        },
        {
         "compulsory course": "algorithms",
         "course_details": "\nappreciate inherent hardness of a problem and learn strategies available for problem solving desig…",
         "_deepnote_index_column": 40
        },
        {
         "compulsory course": "algorithms and structures for data science",
         "course_details": "\n",
         "_deepnote_index_column": 41
        },
        {
         "compulsory course": "algorithms complexity and optimization",
         "course_details": "co write the performance of algorithms in mathematical terms co analyze the performance of algorith…",
         "_deepnote_index_column": 42
        },
        {
         "compulsory course": "algorithms design and implementation",
         "course_details": "solve a problem using algorithms and design techniques solve complexities of problems in various do…",
         "_deepnote_index_column": 43
        },
        {
         "compulsory course": "algorithms for data science",
         "course_details": "Methods for organizing data, e.g. hashing, trees, queues, lists, priority queues. Streaming algorit…",
         "_deepnote_index_column": 44
        },
        {
         "compulsory course": "amrita values program",
         "course_details": "\n\n",
         "_deepnote_index_column": 45
        },
        {
         "compulsory course": "analysis of algorithms",
         "course_details": "explores fundamental techniques such as recursion fourier transform ordering dynamic programming fo…",
         "_deepnote_index_column": 46
        },
        {
         "compulsory course": "analysis of complex sample survey data",
         "course_details": "this introductory course on the analysis of data from complex sample designs covers the development…",
         "_deepnote_index_column": 47
        },
        {
         "compulsory course": "analysis of networks",
         "course_details": "expected learning outcomes include that students should be able to effectively and efficiently repr…",
         "_deepnote_index_column": 48
        },
        {
         "compulsory course": "analytic decision making",
         "course_details": "\n",
         "_deepnote_index_column": 49
        },
        {
         "compulsory course": "analytics and data science",
         "course_details": "co define data science its scope and applications co differentiate data science and data analytics …",
         "_deepnote_index_column": 50
        },
        {
         "compulsory course": "analytics and leading change",
         "course_details": "the successful implementation of analytics depends not only on developing good insights and good st…",
         "_deepnote_index_column": 51
        },
        {
         "compulsory course": "analytics concentration big data",
         "course_details": "group of courses to choose from\n",
         "_deepnote_index_column": 52
        },
        {
         "compulsory course": "analytics concentration machine learningstatistics",
         "course_details": "group of courses to choose from\n",
         "_deepnote_index_column": 53
        },
        {
         "compulsory course": "analytics concentration software systems",
         "course_details": "group of courses to choose from\n",
         "_deepnote_index_column": 54
        },
        {
         "compulsory course": "analytics edge",
         "course_details": "examines how data analytics is used to transform businesses and industries using examples and case …",
         "_deepnote_index_column": 55
        },
        {
         "compulsory course": "analytics for big data",
         "course_details": "this course covers a variety of topics and tools in big data most of the topics are about mapreduce…",
         "_deepnote_index_column": 56
        },
        {
         "compulsory course": "analytics for firm decisions",
         "course_details": "this course focuses on how firms can use data analytics to optimize their marketing mix decisions o…",
         "_deepnote_index_column": 57
        },
        {
         "compulsory course": "analytics foundations",
         "course_details": "\n",
         "_deepnote_index_column": 58
        },
        {
         "compulsory course": "analytics lab",
         "course_details": "student teams design and deliver a project based on the use of analytics machine learning large dat…",
         "_deepnote_index_column": 59
        },
        {
         "compulsory course": "analytics programming in python",
         "course_details": "this course will explore the development of analytics systems and the application of best practices…",
         "_deepnote_index_column": 60
        },
        {
         "compulsory course": "analytics research and problem framing",
         "course_details": "students in this course will explore the elements of the research process within quantitative quali…",
         "_deepnote_index_column": 61
        },
        {
         "compulsory course": "analytics strategy and practice",
         "course_details": "projects and case studies on how to apply analytic skills developed in the ms business analytics cu…",
         "_deepnote_index_column": 62
        },
        {
         "compulsory course": "analytics using python",
         "course_details": "\n",
         "_deepnote_index_column": 63
        },
        {
         "compulsory course": "analytics using r",
         "course_details": "\n",
         "_deepnote_index_column": 64
        },
        {
         "compulsory course": "analytics value chain",
         "course_details": "getting value from data science requires more than developing the perfect algorithm in fact analysi…",
         "_deepnote_index_column": 65
        },
        {
         "compulsory course": "ann and deep learning",
         "course_details": "\n",
         "_deepnote_index_column": 66
        },
        {
         "compulsory course": "application domains",
         "course_details": "\n",
         "_deepnote_index_column": 67
        },
        {
         "compulsory course": "applications of artificial intelligence in banking and finance",
         "course_details": "use various symbolic knowledge representations to specify domains and reasoning tasks of a situated…",
         "_deepnote_index_column": 68
        },
        {
         "compulsory course": "applications of disruptive technologies in business",
         "course_details": "\n",
         "_deepnote_index_column": 69
        },
        {
         "compulsory course": "applications of statistical modeling",
         "course_details": "applications of statistical modeling designed and required for students on all three tracks of the …",
         "_deepnote_index_column": 70
        },
        {
         "compulsory course": "applied analytics frameworks and methods i",
         "course_details": "the world is generating data at an ever faster pace including through business transactions online …",
         "_deepnote_index_column": 71
        },
        {
         "compulsory course": "applied analytics frameworks and methods ii",
         "course_details": "building upon the tools and foundational concepts from frameworks and methods i this course introdu…",
         "_deepnote_index_column": 72
        },
        {
         "compulsory course": "applied analytics in the organizational context",
         "course_details": "applied analytics is about the strategic use of data and analytics to inform decisions within an op…",
         "_deepnote_index_column": 73
        },
        {
         "compulsory course": "applied domain analytics",
         "course_details": "group of courses to choose from\n",
         "_deepnote_index_column": 74
        },
        {
         "compulsory course": "applied linear modeling",
         "course_details": "this course deals with the underlying assumptions and applications of the general linear model with…",
         "_deepnote_index_column": 75
        },
        {
         "compulsory course": "applied modern statistical learning methods",
         "course_details": "overview of highly computational modern statistical learning methods applications of logistic regre…",
         "_deepnote_index_column": 76
        },
        {
         "compulsory course": "applied multivariate analysis",
         "course_details": "explain the fundamental principles of multivariate normal distribution and sampling theory apply hy…",
         "_deepnote_index_column": 77
        },
        {
         "compulsory course": "applied multivariate data analysis",
         "course_details": "\n",
         "_deepnote_index_column": 78
        },
        {
         "compulsory course": "applied regression analysis",
         "course_details": "this course aims to familiarize the student with statistical prediction it covers simple and multip…",
         "_deepnote_index_column": 79
        },
        {
         "compulsory course": "applied sampling",
         "course_details": "methods of survey sampling is a moderately advanced course in applied statistics with an emphasis o…",
         "_deepnote_index_column": 80
        },
        {
         "compulsory course": "applied statistics",
         "course_details": "\n",
         "_deepnote_index_column": 81
        },
        {
         "compulsory course": "applied statistics experimental design",
         "course_details": "this course focuses on inferential statistical methods for discrete and continuous random variables…",
         "_deepnote_index_column": 82
        },
        {
         "compulsory course": "applied statistics i",
         "course_details": "Statistics of real valued responses. Review of multivariate normal distribution theory. Univariate …",
         "_deepnote_index_column": 83
        },
        {
         "compulsory course": "applied time series and business forecasting",
         "course_details": "explain the fundamental principles of different time series models identify suitable time series mo…",
         "_deepnote_index_column": 84
        },
        {
         "compulsory course": "artificial intelligence",
         "course_details": "\nthis is an introductory course in artificial intelligence this course introduces the students to v…",
         "_deepnote_index_column": 85
        },
        {
         "compulsory course": "artificial intelligence and daily life",
         "course_details": "co explain the fundamentals of artificial intelligence and cyber security understand co identify th…",
         "_deepnote_index_column": 86
        },
        {
         "compulsory course": "artificial intelligence and future markets",
         "course_details": "in this course students are divided into teams to survey the fieild of ai applications make present…",
         "_deepnote_index_column": 87
        },
        {
         "compulsory course": "artificial intelligence lab",
         "course_details": "co implement basic python programs co implement programs in problem solving and state space search …",
         "_deepnote_index_column": 88
        },
        {
         "compulsory course": "artificial intelligence principles and techniques",
         "course_details": "demonstrate fundamental understanding of the evaluation of artificial intelligence ai and its found…",
         "_deepnote_index_column": 89
        },
        {
         "compulsory course": "artificial intlelligence and machine learning",
         "course_details": "\n",
         "_deepnote_index_column": 90
        },
        {
         "compulsory course": "autonomous systems and knowledge representation",
         "course_details": "co discuss artificial intelligence including topics branches and applications co explain the signif…",
         "_deepnote_index_column": 91
        },
        {
         "compulsory course": "banking operations and mis implementation in digital era",
         "course_details": "the objective of the course is to build a pool of competent banking professionals who can sustain t…",
         "_deepnote_index_column": 92
        },
        {
         "compulsory course": "basics of financial management",
         "course_details": "\n",
         "_deepnote_index_column": 93
        },
        {
         "compulsory course": "basics of machine learning",
         "course_details": "\n",
         "_deepnote_index_column": 94
        },
        {
         "compulsory course": "bayesian data analysis",
         "course_details": "\n",
         "_deepnote_index_column": 95
        },
        {
         "compulsory course": "behavioral data science",
         "course_details": "behavioral data science provides students the opportunity to explore sources and types of behaviora…",
         "_deepnote_index_column": 96
        },
        {
         "compulsory course": "big data",
         "course_details": "\n\nthis class will introduce you to modern tools for working with large datasets specifically you wi…",
         "_deepnote_index_column": 97
        },
        {
         "compulsory course": "big data analytics",
         "course_details": "teaches students to answer questions about causal inferences and predictions learn to use scalable …",
         "_deepnote_index_column": 98
        },
        {
         "compulsory course": "big data and artificial intelligence for business",
         "course_details": "big data represents unprecedented opportunities for companies to generate insights and create wealt…",
         "_deepnote_index_column": 99
        },
        {
         "compulsory course": "big data and cloud computing",
         "course_details": "todays data scientists are commonly faced with huge data sets big data that may arrive at fantastic…",
         "_deepnote_index_column": 100
        },
        {
         "compulsory course": "big data and scaling",
         "course_details": "this course will address key challenges that arise when working with big data and parallel processi…",
         "_deepnote_index_column": 101
        },
        {
         "compulsory course": "big data computing lab",
         "course_details": "set up single and multinode hadoop clusters apply map reduce technique for various algorithms desig…",
         "_deepnote_index_column": 102
        },
        {
         "compulsory course": "big data for data science",
         "course_details": "\n",
         "_deepnote_index_column": 103
        },
        {
         "compulsory course": "big data framework for data science",
         "course_details": "\n",
         "_deepnote_index_column": 104
        },
        {
         "compulsory course": "big data frameworks",
         "course_details": "discuss the challenges and their solutions in big data understand and work on hadoop framework and …",
         "_deepnote_index_column": 105
        },
        {
         "compulsory course": "big data hadoop",
         "course_details": "\n",
         "_deepnote_index_column": 106
        },
        {
         "compulsory course": "big data management and analysis",
         "course_details": "\n",
         "_deepnote_index_column": 107
        },
        {
         "compulsory course": "big data management and data analytics lab",
         "course_details": "preparing for data summarization query and analysis applying data modelling techniques to large dat…",
         "_deepnote_index_column": 108
        },
        {
         "compulsory course": "big data mining and analytics",
         "course_details": "design algorithms by employing map reduce technique for solving big data problems identify similari…",
         "_deepnote_index_column": 109
        },
        {
         "compulsory course": "big data query lab",
         "course_details": "set up r packages and develop a program using r programming constructs solve big data problems usin…",
         "_deepnote_index_column": 110
        },
        {
         "compulsory course": "big data query languages",
         "course_details": "design applications using r hadoop design applications using rhadoop rhipe develop analytic applica…",
         "_deepnote_index_column": 111
        },
        {
         "compulsory course": "big data systems",
         "course_details": "an overview of data management systems for performing data science on large volumes of data includi…",
         "_deepnote_index_column": 112
        },
        {
         "compulsory course": "bigdata analytics",
         "course_details": "discuss the challenges and their solutions in big data and work on hadoop framework understand the …",
         "_deepnote_index_column": 113
        },
        {
         "compulsory course": "bridge to success",
         "course_details": "\n",
         "_deepnote_index_column": 114
        },
        {
         "compulsory course": "building products using deep learning",
         "course_details": "this course builds on the previous semesters core courses by bringing together the various aspects …",
         "_deepnote_index_column": 115
        },
        {
         "compulsory course": "business analytics",
         "course_details": "foundational knowledge forbusiness analytics including strategies methods and tools integrated with…",
         "_deepnote_index_column": 116
        },
        {
         "compulsory course": "business analytics foundations",
         "course_details": "this course presents fundamental knowledge and skills for applying business analytics to managerial…",
         "_deepnote_index_column": 117
        },
        {
         "compulsory course": "business analytics in marketing finance and operations",
         "course_details": "business analytics projects should strive to create substantial value to an organization by solving…",
         "_deepnote_index_column": 118
        },
        {
         "compulsory course": "business analytics lab",
         "course_details": "on successful completion of this course student should be able to solve statistical problems using …",
         "_deepnote_index_column": 119
        },
        {
         "compulsory course": "business analytics leader series",
         "course_details": "\n",
         "_deepnote_index_column": 120
        },
        {
         "compulsory course": "business analytics skills workshops",
         "course_details": "practical workshop designed to develop the students applicationrelated skills for the analytics rea…",
         "_deepnote_index_column": 121
        },
        {
         "compulsory course": "business analytics toolbox",
         "course_details": "\n",
         "_deepnote_index_column": 122
        },
        {
         "compulsory course": "business communication",
         "course_details": "this course refines students skills in business writing public speaking and interpersonal communica…",
         "_deepnote_index_column": 123
        },
        {
         "compulsory course": "business communications",
         "course_details": "\nin business communications students will review core principles of effective communication such as…",
         "_deepnote_index_column": 124
        },
        {
         "compulsory course": "business computer applications",
         "course_details": "gain familiarity with the concepts and terminology used in the development implementation and opera…",
         "_deepnote_index_column": 125
        },
        {
         "compulsory course": "business econometrics",
         "course_details": "\n",
         "_deepnote_index_column": 126
        },
        {
         "compulsory course": "business economics",
         "course_details": "\n",
         "_deepnote_index_column": 127
        },
        {
         "compulsory course": "business experimentation and causal methods",
         "course_details": "\n",
         "_deepnote_index_column": 128
        },
        {
         "compulsory course": "business forecasting",
         "course_details": "\n",
         "_deepnote_index_column": 129
        },
        {
         "compulsory course": "business fundamentals for analytics",
         "course_details": "business fundamentals for analytics is concerned with the application of economic finance and marke…",
         "_deepnote_index_column": 130
        },
        {
         "compulsory course": "business fundamentals for engineers",
         "course_details": "this comprehensive course examines core and evolving concepts in the business fundamentals of succe…",
         "_deepnote_index_column": 131
        },
        {
         "compulsory course": "business leadership and human values",
         "course_details": "this foundational course develops students capacities for understanding themselves as moral agentsi…",
         "_deepnote_index_column": 132
        },
        {
         "compulsory course": "business policies and ethics",
         "course_details": "this course is a study of the standards of business conduct morals and values as well as the role o…",
         "_deepnote_index_column": 133
        },
        {
         "compulsory course": "business research methods",
         "course_details": "\n\n\n",
         "_deepnote_index_column": 134
        },
        {
         "compulsory course": "business statistics",
         "course_details": "this course examines how statistical methods lead to understanding and describing data we use rrstu…",
         "_deepnote_index_column": 135
        },
        {
         "compulsory course": "business statistics with r",
         "course_details": "compute and interpret descriptive statistics using numerical and graphical techniques understand th…",
         "_deepnote_index_column": 136
        },
        {
         "compulsory course": "business strategy",
         "course_details": "co capture data from internet and other sources co plot data using appropriate python visualization…",
         "_deepnote_index_column": 137
        },
        {
         "compulsory course": "c programming in banking and finance",
         "course_details": "\n",
         "_deepnote_index_column": 138
        },
        {
         "compulsory course": "career competency",
         "course_details": "\n\n\n",
         "_deepnote_index_column": 139
        },
        {
         "compulsory course": "case studies",
         "course_details": "statistical analysis of a variety of statistical problems using real data emphasis on methods of ch…",
         "_deepnote_index_column": 140
        },
        {
         "compulsory course": "case study",
         "course_details": "co identify a research problem which is significant in the area of computer science co analyze the …",
         "_deepnote_index_column": 141
        },
        {
         "compulsory course": "casestudies in data science",
         "course_details": "this course will focus on an indepth exploration of multiple eg case studies of modern data science…",
         "_deepnote_index_column": 142
        },
        {
         "compulsory course": "civic technology",
         "course_details": "application of the internet and related technologies for public management topics include webbased …",
         "_deepnote_index_column": 143
        },
        {
         "compulsory course": "cloud and big data",
         "course_details": "\n",
         "_deepnote_index_column": 144
        },
        {
         "compulsory course": "cloud computing",
         "course_details": "\n",
         "_deepnote_index_column": 145
        },
        {
         "compulsory course": "coding bootcamp",
         "course_details": "\n",
         "_deepnote_index_column": 146
        },
        {
         "compulsory course": "coding for civic data applications",
         "course_details": "designed to provide students with the advanced technical skills for coding transforming and display…",
         "_deepnote_index_column": 147
        },
        {
         "compulsory course": "coding in statistical software",
         "course_details": "introduction to different statistical software packages used in empirical political research instru…",
         "_deepnote_index_column": 148
        },
        {
         "compulsory course": "cognitive analytics social skills for professional development",
         "course_details": "\n\n",
         "_deepnote_index_column": 149
        },
        {
         "compulsory course": "collecting and analyzing large data",
         "course_details": "this course aims to provide students with an introduction to data analytics in r where the emphasis…",
         "_deepnote_index_column": 150
        },
        {
         "compulsory course": "communicating for career success",
         "course_details": "the modern businessperson faces a constantly evolving environment and must be able to confront and …",
         "_deepnote_index_column": 151
        },
        {
         "compulsory course": "communicating with data",
         "course_details": "focuses on structuring the oral and visual communication of data introduces these concepts and a me…",
         "_deepnote_index_column": 152
        },
        {
         "compulsory course": "communication and storytelling workshop",
         "course_details": "this course will equip you with the strategies tactics and tools to use quantitative information to…",
         "_deepnote_index_column": 153
        },
        {
         "compulsory course": "communication core",
         "course_details": "group of courses to choose from\n",
         "_deepnote_index_column": 154
        },
        {
         "compulsory course": "communication for data science",
         "course_details": "\n",
         "_deepnote_index_column": 155
        },
        {
         "compulsory course": "communication for management",
         "course_details": "\n",
         "_deepnote_index_column": 156
        },
        {
         "compulsory course": "communication in data science and analytics",
         "course_details": "expected learning outcomes include that in the context of data science and analytics students shoul…",
         "_deepnote_index_column": 157
        },
        {
         "compulsory course": "communication skills",
         "course_details": "\n",
         "_deepnote_index_column": 158
        },
        {
         "compulsory course": "community mapping",
         "course_details": "geographic space is important to family and community wellbeing as we know community mapping introd…",
         "_deepnote_index_column": 159
        },
        {
         "compulsory course": "competitive analytics",
         "course_details": "this is a course in applying data analytics to examine competitive conditions in an industry or mar…",
         "_deepnote_index_column": 160
        },
        {
         "compulsory course": "competitive strategy",
         "course_details": "\n",
         "_deepnote_index_column": 161
        },
        {
         "compulsory course": "computation programming",
         "course_details": "group of courses to choose from\n",
         "_deepnote_index_column": 162
        },
        {
         "compulsory course": "computational introduction to statistics",
         "course_details": "\n",
         "_deepnote_index_column": 163
        },
        {
         "compulsory course": "computational linear algebra",
         "course_details": "\n",
         "_deepnote_index_column": 164
        },
        {
         "compulsory course": "computational linear algebra and optimization for data sciences",
         "course_details": "\n",
         "_deepnote_index_column": 165
        },
        {
         "compulsory course": "computational methods of optimization",
         "course_details": "\n",
         "_deepnote_index_column": 166
        },
        {
         "compulsory course": "computer networks and iot",
         "course_details": "\n",
         "_deepnote_index_column": 167
        },
        {
         "compulsory course": "computer oriented numerical methods",
         "course_details": "unit i to learn the basics of numerical python unit ii to understand the advanced methods for inter…",
         "_deepnote_index_column": 168
        },
        {
         "compulsory course": "computer oriented numerical methods lab",
         "course_details": "student can use python to solve various numeral methods using its libraries like nympy scpy matplot…",
         "_deepnote_index_column": 169
        },
        {
         "compulsory course": "computer simulation",
         "course_details": "\n",
         "_deepnote_index_column": 170
        },
        {
         "compulsory course": "computer systems",
         "course_details": "\n",
         "_deepnote_index_column": 171
        },
        {
         "compulsory course": "computer systems for data science",
         "course_details": "students are expected to have solid programming experience in python or with an equivalent programm…",
         "_deepnote_index_column": 172
        },
        {
         "compulsory course": "computer vision and robotics",
         "course_details": "group of courses to choose from\n",
         "_deepnote_index_column": 173
        },
        {
         "compulsory course": "computing",
         "course_details": "group of courses to choose from\n",
         "_deepnote_index_column": 174
        },
        {
         "compulsory course": "computing for data analytics",
         "course_details": "\n",
         "_deepnote_index_column": 175
        },
        {
         "compulsory course": "concepts for spatial thinking",
         "course_details": "the unique characteristics and importance of spatial information as they relate to the evolving sci…",
         "_deepnote_index_column": 176
        },
        {
         "compulsory course": "constitution of india",
         "course_details": "\n",
         "_deepnote_index_column": 177
        },
        {
         "compulsory course": "consulting for analytics",
         "course_details": "practical tools used by analysts and managing analysts within an organization or for an external co…",
         "_deepnote_index_column": 178
        },
        {
         "compulsory course": "consumer behaviour",
         "course_details": "\n",
         "_deepnote_index_column": 179
        },
        {
         "compulsory course": "convex optimization",
         "course_details": "\n",
         "_deepnote_index_column": 180
        },
        {
         "compulsory course": "core mba",
         "course_details": "group of courses to choose from\n",
         "_deepnote_index_column": 181
        },
        {
         "compulsory course": "corporate finance",
         "course_details": "this course is designed to introduce students to the basic yet fundamental issues of modern finance…",
         "_deepnote_index_column": 182
        },
        {
         "compulsory course": "corporate governance and ethics",
         "course_details": "\n",
         "_deepnote_index_column": 183
        },
        {
         "compulsory course": "critical thinking in data science",
         "course_details": "this course examines the wideranging impact data science has on the world and how to think critical…",
         "_deepnote_index_column": 184
        },
        {
         "compulsory course": "crm analytics",
         "course_details": "this is a credit project based course where students will analyze marketing data report their findi…",
         "_deepnote_index_column": 185
        },
        {
         "compulsory course": "customer analysis",
         "course_details": "this course focuses on the analysis of customer decisionmaking and how marketing strategy can be us…",
         "_deepnote_index_column": 186
        },
        {
         "compulsory course": "customer analytics",
         "course_details": "this course focuses on the firms interaction with its customers and how data can be used to improve…",
         "_deepnote_index_column": 187
        },
        {
         "compulsory course": "customer and social analytics",
         "course_details": "\n",
         "_deepnote_index_column": 188
        },
        {
         "compulsory course": "cyber security",
         "course_details": "\n",
         "_deepnote_index_column": 189
        },
        {
         "compulsory course": "cybersecurity privacy ethics",
         "course_details": "presentday terms philosophies technologies and strategies that go into buttressing an organizations…",
         "_deepnote_index_column": 190
        },
        {
         "compulsory course": "cyptography and network security",
         "course_details": "co understand the fundamentals of networks security security architecture threats and vulnerabiliti…",
         "_deepnote_index_column": 191
        },
        {
         "compulsory course": "data acquisition preparation and visualization",
         "course_details": "this course teaches using statistical computing software to get a better understanding of what prob…",
         "_deepnote_index_column": 192
        },
        {
         "compulsory course": "data analysis",
         "course_details": "group of courses to choose from\n",
         "_deepnote_index_column": 193
        },
        {
         "compulsory course": "data analysis and decision modeling",
         "course_details": "learn to develop indepth understanding of the data analysis and decision modeling demonstrate the k…",
         "_deepnote_index_column": 194
        },
        {
         "compulsory course": "data analysis and visualization",
         "course_details": "Data pre-processing, data representation, data reconstruction, machine learning for data processing…",
         "_deepnote_index_column": 195
        },
        {
         "compulsory course": "data analysis and visualization with r",
         "course_details": "this course provides an overview of the statistical tools most commonly used to process analyze and…",
         "_deepnote_index_column": 196
        },
        {
         "compulsory course": "data analysis for engineers and scientists",
         "course_details": "design of experiments and data collection regression correlation and prediction multivariate analys…",
         "_deepnote_index_column": 197
        },
        {
         "compulsory course": "data analytics",
         "course_details": "an introduction to data analytics concepts including the latest practices for gaining better value …",
         "_deepnote_index_column": 198
        },
        {
         "compulsory course": "data analytics driven dynamic strategy execution",
         "course_details": "advanced applications of data analytics in dynamic strategy formulation and execution analytics and…",
         "_deepnote_index_column": 199
        },
        {
         "compulsory course": "data analytics foundations and practicum",
         "course_details": "introduction to concepts and techniques in data analytics basic techniques of data science algorith…",
         "_deepnote_index_column": 200
        },
        {
         "compulsory course": "data analytics in biomedical engineering",
         "course_details": "presentation and application of advanced computationalmathematical methodologies for analysis of bi…",
         "_deepnote_index_column": 201
        },
        {
         "compulsory course": "data analytics in business",
         "course_details": "\n",
         "_deepnote_index_column": 202
        },
        {
         "compulsory course": "data analytics using python",
         "course_details": "co analyze and design strategies for solving basic programming problems co primitive data types sel…",
         "_deepnote_index_column": 203
        },
        {
         "compulsory course": "data analytics using python programming lab",
         "course_details": "co understand and summarize different file handling operations in python co design and develop clie…",
         "_deepnote_index_column": 204
        },
        {
         "compulsory course": "data and programming for analytics",
         "course_details": "\n",
         "_deepnote_index_column": 205
        },
        {
         "compulsory course": "data and society",
         "course_details": "a course on the social political and philosophical issues raised by the theory and practice of data…",
         "_deepnote_index_column": 206
        },
        {
         "compulsory course": "data and visual analytics",
         "course_details": "\n",
         "_deepnote_index_column": 207
        },
        {
         "compulsory course": "data collection and cleaning",
         "course_details": "tools and techniques required for data collection and computational procedures to automatically or …",
         "_deepnote_index_column": 208
        },
        {
         "compulsory course": "data design and representation",
         "course_details": "\n",
         "_deepnote_index_column": 209
        },
        {
         "compulsory course": "data driven decision making",
         "course_details": "dataanalysis technologies for businessdecisionmaking principles and techniques of statistical infer…",
         "_deepnote_index_column": 210
        },
        {
         "compulsory course": "data driven governance",
         "course_details": "\n",
         "_deepnote_index_column": 211
        },
        {
         "compulsory course": "data engineering",
         "course_details": "provides an introduction to computer science and programming for data science coverage includes dat…",
         "_deepnote_index_column": 212
        },
        {
         "compulsory course": "data engineering platforms",
         "course_details": "effective data engineering is an essential first step in building an analyticsdriven competitive ad…",
         "_deepnote_index_column": 213
        },
        {
         "compulsory course": "data engineering systems",
         "course_details": "data engineering systems is a course about data and how to manage and build systems divided into tw…",
         "_deepnote_index_column": 214
        },
        {
         "compulsory course": "data ethics",
         "course_details": "\n\n",
         "_deepnote_index_column": 215
        },
        {
         "compulsory course": "data for equitable justice lab",
         "course_details": "data for equitable justice lab is a noncredit research group that gives sp masters students an oppo…",
         "_deepnote_index_column": 216
        },
        {
         "compulsory course": "data logic visualization and storytelling",
         "course_details": "principles of communicating the implications of a data analysis students will cultivate the ability…",
         "_deepnote_index_column": 217
        },
        {
         "compulsory course": "data management",
         "course_details": "\nan overview of the use and leveraging of data in order to allow government and nonprofit organizat…",
         "_deepnote_index_column": 218
        },
        {
         "compulsory course": "data management and manipulation",
         "course_details": "group of courses to choose from\n",
         "_deepnote_index_column": 219
        },
        {
         "compulsory course": "data management for analytics",
         "course_details": "relational databases data warehousing and dimensional modeling practical experience with these and …",
         "_deepnote_index_column": 220
        },
        {
         "compulsory course": "data management for data science",
         "course_details": "this course introduces students to database management systems and techniques that use these system…",
         "_deepnote_index_column": 221
        },
        {
         "compulsory course": "data management in sql",
         "course_details": "\n",
         "_deepnote_index_column": 222
        },
        {
         "compulsory course": "data management sql",
         "course_details": "this course will introduce students to sql and the basic elements of data management and visualizat…",
         "_deepnote_index_column": 223
        },
        {
         "compulsory course": "data management systems",
         "course_details": "this course covers database management systems eg relation databases data architecture and security…",
         "_deepnote_index_column": 224
        },
        {
         "compulsory course": "data mining",
         "course_details": "the goal of this course is to study basic concepts and techniques of data mining the topics include…",
         "_deepnote_index_column": 225
        },
        {
         "compulsory course": "data mining and algorithms",
         "course_details": "\n",
         "_deepnote_index_column": 226
        },
        {
         "compulsory course": "data mining and learning",
         "course_details": "group of courses to choose from\n",
         "_deepnote_index_column": 227
        },
        {
         "compulsory course": "data mining and predictive analytics",
         "course_details": "in business magazines on tv and in board rooms big data and data analytics are now hot topics vast …",
         "_deepnote_index_column": 228
        },
        {
         "compulsory course": "data mining for business",
         "course_details": "machine learning statistics in data mining for business insights prediction classification trees ra…",
         "_deepnote_index_column": 229
        },
        {
         "compulsory course": "data mining for business analytics",
         "course_details": "enterprises organizations and individuals are creating collecting and using massive amount of struc…",
         "_deepnote_index_column": 230
        },
        {
         "compulsory course": "data mining for intelligence management",
         "course_details": "\n",
         "_deepnote_index_column": 231
        },
        {
         "compulsory course": "data mining machine learning",
         "course_details": "\n",
         "_deepnote_index_column": 232
        },
        {
         "compulsory course": "data mining principles",
         "course_details": "drawing on statistics of collecting and analyzing data and machine learning algorithms that learn f…",
         "_deepnote_index_column": 233
        },
        {
         "compulsory course": "data models and decisions",
         "course_details": "\n",
         "_deepnote_index_column": 234
        },
        {
         "compulsory course": "data preparation and analysis",
         "course_details": "\n",
         "_deepnote_index_column": 235
        },
        {
         "compulsory course": "data processing",
         "course_details": "quantitative data require considerable work before they are ready to be analyzed they are often mes…",
         "_deepnote_index_column": 236
        },
        {
         "compulsory course": "data processing and analytics in python",
         "course_details": "this course provides an introduction to the python programming language for the purpose of processi…",
         "_deepnote_index_column": 237
        },
        {
         "compulsory course": "data representation and modeling",
         "course_details": "an introductory course connecting students to the most recent developments in the field of data sci…",
         "_deepnote_index_column": 238
        },
        {
         "compulsory course": "data science",
         "course_details": "this class provides an introduction to data science and the basic concepts of database management t…",
         "_deepnote_index_column": 239
        },
        {
         "compulsory course": "data science algorithms",
         "course_details": "an applied and practical combination of discrete structures and computational algorithms that are r…",
         "_deepnote_index_column": 240
        },
        {
         "compulsory course": "data science and analytics",
         "course_details": "this course introduces students to several core data science concepts it teaches students how to sy…",
         "_deepnote_index_column": 241
        },
        {
         "compulsory course": "data science applications of nlp",
         "course_details": "\n",
         "_deepnote_index_column": 242
        },
        {
         "compulsory course": "data science applications of vision",
         "course_details": "\n",
         "_deepnote_index_column": 243
        },
        {
         "compulsory course": "data science at scale",
         "course_details": "fundamentals of big data informatics techniques data lifecycle the data scientist machine learning …",
         "_deepnote_index_column": 244
        },
        {
         "compulsory course": "data science colloquium",
         "course_details": "\n",
         "_deepnote_index_column": 245
        },
        {
         "compulsory course": "data science core",
         "course_details": "group of courses to choose from\n",
         "_deepnote_index_column": 246
        },
        {
         "compulsory course": "data science dialogues",
         "course_details": "a series of discussions that give students snapshots of data science projects from practitioners an…",
         "_deepnote_index_column": 247
        },
        {
         "compulsory course": "data science ethics",
         "course_details": "data science tools are not morally neutral this course is designed to help students think explicitl…",
         "_deepnote_index_column": 248
        },
        {
         "compulsory course": "data science ethics and information security",
         "course_details": "provides a review of the ethical considerations that arise from the use of data science and technol…",
         "_deepnote_index_column": 249
        }
       ],
       "rows_bottom": [
        {
         "compulsory course": "neural networks and deep learning lab",
         "course_details": "students will learn how to use neural network deep learning in data analytics\n",
         "_deepnote_index_column": 546
        },
        {
         "compulsory course": "next generation databases",
         "course_details": "explore the relationship between big data and nosql databases work with nosql databases to analyze …",
         "_deepnote_index_column": 547
        },
        {
         "compulsory course": "nosql databases in big data",
         "course_details": "nosql semistructured and unstructured databases data storage data manipulation distributed database…",
         "_deepnote_index_column": 548
        },
        {
         "compulsory course": "numerical computations lab",
         "course_details": "\n",
         "_deepnote_index_column": 549
        },
        {
         "compulsory course": "numerical linear algebra",
         "course_details": "Solution of linear systems, accuracy, stability, LU, Cholesky, QR, least squares problems, singular…",
         "_deepnote_index_column": 550
        },
        {
         "compulsory course": "numerical methods",
         "course_details": "Root finding: Functions and polynomials, zeros of a function, roots of a nonlinear equation, bracke…",
         "_deepnote_index_column": 551
        },
        {
         "compulsory course": "operating systems and virtualization",
         "course_details": "study operating system layers and kernel architectures design various techniques for process manage…",
         "_deepnote_index_column": 552
        },
        {
         "compulsory course": "operationalizing ai",
         "course_details": "deploying ai in production requires consideration of factors such as online model training scaling …",
         "_deepnote_index_column": 553
        },
        {
         "compulsory course": "operations analytics",
         "course_details": "\nthe internal operations of a firm are responsible for executing the firms business plan to deliver…",
         "_deepnote_index_column": 554
        },
        {
         "compulsory course": "operations and supply chain analytics",
         "course_details": "co to recognize on the fundamental concepts of location and layout co to understand on the implemen…",
         "_deepnote_index_column": 555
        },
        {
         "compulsory course": "operations and supply chain management",
         "course_details": "\n",
         "_deepnote_index_column": 556
        },
        {
         "compulsory course": "operations management",
         "course_details": "\nwithin a manufacturing or service organization operations provide the power necessary for orchestr…",
         "_deepnote_index_column": 557
        },
        {
         "compulsory course": "operations management business process fundamentals",
         "course_details": "this course helps students to develop an understanding of the impact of business processes on the o…",
         "_deepnote_index_column": 558
        },
        {
         "compulsory course": "operations research",
         "course_details": "\ngroup of courses to choose from\n",
         "_deepnote_index_column": 559
        },
        {
         "compulsory course": "operations research data analytics",
         "course_details": "this course focuses on business analytics problems and techniques from an operations research persp…",
         "_deepnote_index_column": 560
        },
        {
         "compulsory course": "operations supply chain management",
         "course_details": "\n",
         "_deepnote_index_column": 561
        },
        {
         "compulsory course": "optimization",
         "course_details": "group of courses to choose from\n",
         "_deepnote_index_column": 562
        },
        {
         "compulsory course": "optimization and bioinspired computing",
         "course_details": "\n",
         "_deepnote_index_column": 563
        },
        {
         "compulsory course": "optimization and quantitative analysis",
         "course_details": "to cultivate a basic understanding of optimization methodologies used in financial decision making …",
         "_deepnote_index_column": 564
        },
        {
         "compulsory course": "optimization methods",
         "course_details": "introduces the principal algorithms for linear network discrete robust nonlinear and dynamic optimi…",
         "_deepnote_index_column": 565
        },
        {
         "compulsory course": "optimization methods and applications",
         "course_details": "linear network integer and nonlinear models and their fundamental underlying analytic concepts and …",
         "_deepnote_index_column": 566
        },
        {
         "compulsory course": "optimization methods for analytics",
         "course_details": "linear programming integer programming quadratic and nonlinear programming\n",
         "_deepnote_index_column": 567
        },
        {
         "compulsory course": "optimization python",
         "course_details": "the course covers a wide variety of optimization models that can be used to solve business problems…",
         "_deepnote_index_column": 568
        },
        {
         "compulsory course": "optimization techniques",
         "course_details": "optimization - sequences and limits, derivative matrix, level sets and gradients, Taylor series; un…",
         "_deepnote_index_column": 569
        },
        {
         "compulsory course": "organizational behavior",
         "course_details": "\n",
         "_deepnote_index_column": 570
        },
        {
         "compulsory course": "organizational behaviour hrm",
         "course_details": "\n",
         "_deepnote_index_column": 571
        },
        {
         "compulsory course": "organizational issues in implementing analytics",
         "course_details": "\n",
         "_deepnote_index_column": 572
        },
        {
         "compulsory course": "pattern recognition and neural networks",
         "course_details": "\n",
         "_deepnote_index_column": 573
        },
        {
         "compulsory course": "people and organization management",
         "course_details": "this course provides a comprehensive review of the evolution of the management theory and practice …",
         "_deepnote_index_column": 574
        },
        {
         "compulsory course": "physiological control systems",
         "course_details": "application of control theory to physiological systems static analysis of closedloop systems timedo…",
         "_deepnote_index_column": 575
        },
        {
         "compulsory course": "physiological signals and data analytics",
         "course_details": "application of linear time and frequencydomain techniques adaptive filtering nonlinear dynamics and…",
         "_deepnote_index_column": 576
        },
        {
         "compulsory course": "policy analysis of issues strategy and process",
         "course_details": "policy analysis requires an understanding of social problemssocial issues and the processes by whic…",
         "_deepnote_index_column": 577
        },
        {
         "compulsory course": "policy process",
         "course_details": "group of courses to choose from\n",
         "_deepnote_index_column": 578
        },
        {
         "compulsory course": "population soc",
         "course_details": "\n",
         "_deepnote_index_column": 579
        },
        {
         "compulsory course": "portfolio management and investment analysis",
         "course_details": "in understanding the theories of portfolio selection and recent development in the field in underst…",
         "_deepnote_index_column": 580
        },
        {
         "compulsory course": "practical machine learning methods",
         "course_details": "this course prepares students with no background in machine learning or data science to use tools f…",
         "_deepnote_index_column": 581
        },
        {
         "compulsory course": "practical programming for data science",
         "course_details": "this course familiarizes students with no prior programming experience with the core concepts of pr…",
         "_deepnote_index_column": 582
        },
        {
         "compulsory course": "practical tools for sampling and weighting",
         "course_details": "this course is a statistical methods class appropriate for second year masters students and phd stu…",
         "_deepnote_index_column": 583
        },
        {
         "compulsory course": "practice problems of msbfa using prolog python perl",
         "course_details": "\n",
         "_deepnote_index_column": 584
        },
        {
         "compulsory course": "practicing machine learning",
         "course_details": "automating prediction and decisionmaking based on data and past experience students will learn how …",
         "_deepnote_index_column": 585
        },
        {
         "compulsory course": "practicum intelligent systems",
         "course_details": "a practical excursion into the building of intelligent information systems each student will develo…",
         "_deepnote_index_column": 586
        },
        {
         "compulsory course": "precision health informatics",
         "course_details": "this course is designed to provide fundamentals of current computational approaches to support and …",
         "_deepnote_index_column": 587
        },
        {
         "compulsory course": "predictive analytics",
         "course_details": "analytics for supervised and unsupervised statistical learning generalized linear models discrimina…",
         "_deepnote_index_column": 588
        },
        {
         "compulsory course": "predictive analytics and development",
         "course_details": "\n",
         "_deepnote_index_column": 589
        },
        {
         "compulsory course": "preparing for industry",
         "course_details": "\nenabling students to simplify evaluate analyze and use functions and expressions to simulate real …",
         "_deepnote_index_column": 590
        },
        {
         "compulsory course": "prescriptive analytics",
         "course_details": "\n",
         "_deepnote_index_column": 591
        },
        {
         "compulsory course": "prescriptive models and data analytics",
         "course_details": "the course will teach fundamental tools in data analytics including experimental design and analysi…",
         "_deepnote_index_column": 592
        },
        {
         "compulsory course": "presenting research results",
         "course_details": "\n",
         "_deepnote_index_column": 593
        },
        {
         "compulsory course": "price optimization and revenue management",
         "course_details": "\n",
         "_deepnote_index_column": 594
        },
        {
         "compulsory course": "pricing analytics",
         "course_details": "the course will focus on the economic and behavioral aspects of pricing and the evaluation of innov…",
         "_deepnote_index_column": 595
        },
        {
         "compulsory course": "principles and practices of data protection",
         "course_details": "\n",
         "_deepnote_index_column": 596
        },
        {
         "compulsory course": "principles of ai and machine learning",
         "course_details": "\n",
         "_deepnote_index_column": 597
        },
        {
         "compulsory course": "principles of artificial intelligence",
         "course_details": "\n",
         "_deepnote_index_column": 598
        },
        {
         "compulsory course": "principles of data science",
         "course_details": "an introduction to the data science pipeline ie the endtoend process of going from unstructured mes…",
         "_deepnote_index_column": 599
        },
        {
         "compulsory course": "principles of machine learning",
         "course_details": "a broad introduction to machine learning and statistical pattern recognition topics include supervi…",
         "_deepnote_index_column": 600
        },
        {
         "compulsory course": "principles of management",
         "course_details": "\n",
         "_deepnote_index_column": 601
        },
        {
         "compulsory course": "principles of programming for data science",
         "course_details": "programming in python for retrieving searching and analyzing data from the web learning to manipula…",
         "_deepnote_index_column": 602
        },
        {
         "compulsory course": "principles of programming simulation",
         "course_details": "students learn the foundations of effective software design and programming practice how to program…",
         "_deepnote_index_column": 603
        },
        {
         "compulsory course": "probabilistic graphical models",
         "course_details": "\n\n\n",
         "_deepnote_index_column": 604
        },
        {
         "compulsory course": "probabilistic modeling and statistical computing",
         "course_details": "probabilistic models are essential for the understanding of data that are affected by uncertainty t…",
         "_deepnote_index_column": 605
        },
        {
         "compulsory course": "probabilistic systems analysis",
         "course_details": "\n",
         "_deepnote_index_column": 606
        },
        {
         "compulsory course": "probability",
         "course_details": "group of courses to choose from\n",
         "_deepnote_index_column": 607
        },
        {
         "compulsory course": "probability and data analysis",
         "course_details": "topics include review of probability conditional probability bayes theorem random variables and dis…",
         "_deepnote_index_column": 608
        },
        {
         "compulsory course": "probability and mathematical statistics",
         "course_details": "\n",
         "_deepnote_index_column": 609
        },
        {
         "compulsory course": "probability and random processes",
         "course_details": "\n",
         "_deepnote_index_column": 610
        },
        {
         "compulsory course": "probability and statistical inference",
         "course_details": "this course covers the fundamentals of probability theory and statistical inference topics in proba…",
         "_deepnote_index_column": 611
        },
        {
         "compulsory course": "probability and statistics",
         "course_details": "the course aims to provide a solid understanding of the fundamental concepts of probability theory …",
         "_deepnote_index_column": 612
        },
        {
         "compulsory course": "probability and statistics for data science",
         "course_details": "it covers fundamental concepts in probability and statistics from a datascience perspectiveProbabil…",
         "_deepnote_index_column": 613
        },
        {
         "compulsory course": "probability for electrical and computer engineers",
         "course_details": "rigorous coverage of probability discrete and continuous random variables functions of multiple ran…",
         "_deepnote_index_column": 614
        },
        {
         "compulsory course": "probability models and inference",
         "course_details": "\n",
         "_deepnote_index_column": 615
        },
        {
         "compulsory course": "probability statistics and machine learning",
         "course_details": "an introduction to the mathematical methods of data science through a combination of computational …",
         "_deepnote_index_column": 616
        },
        {
         "compulsory course": "probability statistics for data science",
         "course_details": "this firstsemester course builds the statistical foundations for further work in data science with …",
         "_deepnote_index_column": 617
        },
        {
         "compulsory course": "probability theory",
         "course_details": "group of courses to choose from\n",
         "_deepnote_index_column": 618
        },
        {
         "compulsory course": "probability theory and distributions",
         "course_details": "develop problemsolving techniques needed to calculate probability and conditional probability formu…",
         "_deepnote_index_column": 619
        },
        {
         "compulsory course": "problem solving and computer programming in c",
         "course_details": "to introduce c as a foundation for further study of programming languages such c c python and java …",
         "_deepnote_index_column": 620
        },
        {
         "compulsory course": "professional business communication",
         "course_details": "\n\n",
         "_deepnote_index_column": 621
        },
        {
         "compulsory course": "professional development",
         "course_details": "\n",
         "_deepnote_index_column": 622
        },
        {
         "compulsory course": "professional ethics and social responsibility for sustainability",
         "course_details": "\n\n",
         "_deepnote_index_column": 623
        },
        {
         "compulsory course": "professional practices",
         "course_details": "identify and formulate the problem describe the background of the problem assess the needs of stake…",
         "_deepnote_index_column": 624
        },
        {
         "compulsory course": "professional seminar",
         "course_details": "discussion series where domain experts and business leaders present uptodate research discuss indus…",
         "_deepnote_index_column": 625
        },
        {
         "compulsory course": "programming",
         "course_details": "\n",
         "_deepnote_index_column": 626
        },
        {
         "compulsory course": "programming essentials",
         "course_details": "this courses provides essentials necessary for business analytics professional in terms of software…",
         "_deepnote_index_column": 627
        },
        {
         "compulsory course": "programming for analytics",
         "course_details": "introduction to programming for data analytics using the python programming language prepares stude…",
         "_deepnote_index_column": 628
        },
        {
         "compulsory course": "programming for data analytics",
         "course_details": "this course will provide an introduction to various programming languages useful in data analytics …",
         "_deepnote_index_column": 629
        },
        {
         "compulsory course": "programming for scientists and engineers",
         "course_details": "\n",
         "_deepnote_index_column": 630
        },
        {
         "compulsory course": "programming for spatial sciences",
         "course_details": "\n",
         "_deepnote_index_column": 631
        },
        {
         "compulsory course": "programming in r and python",
         "course_details": "\n",
         "_deepnote_index_column": 632
        },
        {
         "compulsory course": "programming languages and design",
         "course_details": "this course covers important concepts of programming languages that are critical to understanding a…",
         "_deepnote_index_column": 633
        },
        {
         "compulsory course": "programming languages and techniques",
         "course_details": "group of courses to choose from\n",
         "_deepnote_index_column": 634
        },
        {
         "compulsory course": "project management",
         "course_details": "\n",
         "_deepnote_index_column": 635
        },
        {
         "compulsory course": "public management",
         "course_details": "group of courses to choose from\n",
         "_deepnote_index_column": 636
        },
        {
         "compulsory course": "public opinion",
         "course_details": "\n",
         "_deepnote_index_column": 637
        },
        {
         "compulsory course": "public policy analytics",
         "course_details": "data scientists convert data into actionable intelligence while most private sector data scientists…",
         "_deepnote_index_column": 638
        },
        {
         "compulsory course": "public policy development and process",
         "course_details": "\n",
         "_deepnote_index_column": 639
        },
        {
         "compulsory course": "public program evaluation",
         "course_details": "\n",
         "_deepnote_index_column": 640
        },
        {
         "compulsory course": "python and data science math bootcamp",
         "course_details": "this sixweek online bootcamp is designed to help students build proficiency in the use of python fo…",
         "_deepnote_index_column": 641
        },
        {
         "compulsory course": "python and machine learning for data analysis",
         "course_details": "\n",
         "_deepnote_index_column": 642
        },
        {
         "compulsory course": "python for data analytics",
         "course_details": "\n",
         "_deepnote_index_column": 643
        },
        {
         "compulsory course": "python for geospatial technology",
         "course_details": "\n",
         "_deepnote_index_column": 644
        },
        {
         "compulsory course": "python lab",
         "course_details": "\n",
         "_deepnote_index_column": 645
        },
        {
         "compulsory course": "python programming and its applications in statistics",
         "course_details": "\n",
         "_deepnote_index_column": 646
        },
        {
         "compulsory course": "python programming lab",
         "course_details": "\n",
         "_deepnote_index_column": 647
        },
        {
         "compulsory course": "python workshop",
         "course_details": "\n",
         "_deepnote_index_column": 648
        },
        {
         "compulsory course": "pythonprogramming in banking and finance",
         "course_details": "\n",
         "_deepnote_index_column": 649
        },
        {
         "compulsory course": "qualitative methods",
         "course_details": "\n",
         "_deepnote_index_column": 650
        },
        {
         "compulsory course": "qualitative methods of investigation and market research",
         "course_details": "group of courses to choose from\n",
         "_deepnote_index_column": 651
        },
        {
         "compulsory course": "quantitative and qualitative decisionmaking",
         "course_details": "explores decision making and policy formulation in organizations includes goal setting and the plan…",
         "_deepnote_index_column": 652
        },
        {
         "compulsory course": "quantitative methods",
         "course_details": "\n",
         "_deepnote_index_column": 653
        },
        {
         "compulsory course": "quantitative methods and metrics for decision making",
         "course_details": "in todays business environment corporate executives and leading professionals must continuously ana…",
         "_deepnote_index_column": 654
        },
        {
         "compulsory course": "questionnaire design and evaluation",
         "course_details": "the stages of questionnaire design developmental interviewing question writing question evaluation …",
         "_deepnote_index_column": 655
        },
        {
         "compulsory course": "r programming for data analytics lab",
         "course_details": "co understand and summarize different operations in r co understand and summarize different file ha…",
         "_deepnote_index_column": 656
        },
        {
         "compulsory course": "r programming lab",
         "course_details": "\n",
         "_deepnote_index_column": 657
        },
        {
         "compulsory course": "random processes",
         "course_details": "\n",
         "_deepnote_index_column": 658
        },
        {
         "compulsory course": "real time operating system for embedded computing",
         "course_details": "\n",
         "_deepnote_index_column": 659
        },
        {
         "compulsory course": "real time systems",
         "course_details": "gain knowledge about schedulability analysis learn about the realtime programming environments atta…",
         "_deepnote_index_column": 660
        },
        {
         "compulsory course": "regression",
         "course_details": "group of courses to choose from\n",
         "_deepnote_index_column": 661
        },
        {
         "compulsory course": "regression analysis and predictive models",
         "course_details": "develop indepth understanding of the linear and nonlinear regression model demonstrate the knowledg…",
         "_deepnote_index_column": 662
        },
        {
         "compulsory course": "regression analysis for business",
         "course_details": "this course provides the fundamental methods of statistical analysis the art and science of extract…",
         "_deepnote_index_column": 663
        },
        {
         "compulsory course": "regression modeling strategies",
         "course_details": "\n",
         "_deepnote_index_column": 664
        },
        {
         "compulsory course": "reinforcement learning",
         "course_details": "reinforcement learning along with supervised learning and unsupervised learning is one of the three…",
         "_deepnote_index_column": 665
        },
        {
         "compulsory course": "relational database management lab",
         "course_details": "co understand appreciate and effectively explain the underlying concepts of database technologies d…",
         "_deepnote_index_column": 666
        },
        {
         "compulsory course": "remote sensing",
         "course_details": "satellite remote sensing is the science of converting raw aerial imagery in to actionable intellige…",
         "_deepnote_index_column": 667
        },
        {
         "compulsory course": "resarch methodology",
         "course_details": "\n",
         "_deepnote_index_column": 668
        },
        {
         "compulsory course": "research and evaluation design",
         "course_details": "research and evaluation design introduces social research methods in the context of social policy a…",
         "_deepnote_index_column": 669
        },
        {
         "compulsory course": "research design",
         "course_details": "\norganizations need quantitative analysis to solve complex problems and make consequential choices …",
         "_deepnote_index_column": 670
        },
        {
         "compulsory course": "research design for political analysis",
         "course_details": "introduction to empirical research techniques used in political science exploring the core question…",
         "_deepnote_index_column": 671
        },
        {
         "compulsory course": "research methodology",
         "course_details": "\n\n\n\n\n",
         "_deepnote_index_column": 672
        },
        {
         "compulsory course": "research methodology and ipr",
         "course_details": "ability to formulate research problem ability to carry out research analysis ability to follow rese…",
         "_deepnote_index_column": 673
        },
        {
         "compulsory course": "research methodology in gis",
         "course_details": "\n",
         "_deepnote_index_column": 674
        },
        {
         "compulsory course": "research methods",
         "course_details": "group of courses to choose from\n",
         "_deepnote_index_column": 675
        },
        {
         "compulsory course": "research methods and study design",
         "course_details": "expected learning outcomes include that students should be able to compose problem specifications r…",
         "_deepnote_index_column": 676
        },
        {
         "compulsory course": "research methods softs skills course",
         "course_details": "this course will develop the soft skills required for the cds studentsSeminar attendance, literatur…",
         "_deepnote_index_column": 677
        },
        {
         "compulsory course": "research tools and techniques",
         "course_details": "\n",
         "_deepnote_index_column": 678
        },
        {
         "compulsory course": "risk analysis and insurance",
         "course_details": "the risk analysis involves identification of risks and associated potential costs analysis of the c…",
         "_deepnote_index_column": 679
        },
        {
         "compulsory course": "risk analytics",
         "course_details": "\n",
         "_deepnote_index_column": 680
        },
        {
         "compulsory course": "risk management",
         "course_details": "\n",
         "_deepnote_index_column": 681
        },
        {
         "compulsory course": "rprogramming in banking and finance",
         "course_details": "\n\n",
         "_deepnote_index_column": 682
        },
        {
         "compulsory course": "scalable data systems algorithms",
         "course_details": "this course focuses on principles and algorithms for data management and analysis at scale well cov…",
         "_deepnote_index_column": 683
        },
        {
         "compulsory course": "scalable systems for deep learning",
         "course_details": "\n",
         "_deepnote_index_column": 684
        },
        {
         "compulsory course": "scientific computing",
         "course_details": "\nDefinition and sources of errors, solutions of nonlinear equations; Bisection method, Newton's met…",
         "_deepnote_index_column": 685
        },
        {
         "compulsory course": "seminar",
         "course_details": "co acquire indepth knowledge in specific area of study co develop presentation skill and communicat…",
         "_deepnote_index_column": 686
        },
        {
         "compulsory course": "signal and systems analysis",
         "course_details": "classification representation statistical analysis orthogonal expansions leastsquares estimation ha…",
         "_deepnote_index_column": 687
        },
        {
         "compulsory course": "simulation and optimization",
         "course_details": "\n",
         "_deepnote_index_column": 688
        },
        {
         "compulsory course": "simulation and strategic options",
         "course_details": "in this course we draw from economics monte carlo simulation and decision theory to build a framewo…",
         "_deepnote_index_column": 689
        },
        {
         "compulsory course": "social media analytics",
         "course_details": "\n",
         "_deepnote_index_column": 690
        },
        {
         "compulsory course": "social network analytics",
         "course_details": "learn modern network analysis methods and how to apply them to network data study the latest in the…",
         "_deepnote_index_column": 691
        },
        {
         "compulsory course": "soft computing techniques",
         "course_details": "unit i this unit will help students to understand fuzzy logics unit ii this unit will help students…",
         "_deepnote_index_column": 692
        },
        {
         "compulsory course": "soft skills",
         "course_details": "\n\n\n",
         "_deepnote_index_column": 693
        },
        {
         "compulsory course": "softcore algorithms",
         "course_details": "\n",
         "_deepnote_index_column": 694
        },
        {
         "compulsory course": "software",
         "course_details": "group of courses to choose from\n",
         "_deepnote_index_column": 695
        },
        {
         "compulsory course": "software design for data science",
         "course_details": "this course introduces students to software design and engineering practices and concepts including…",
         "_deepnote_index_column": 696
        },
        {
         "compulsory course": "software development and scientific computing",
         "course_details": "group of courses to choose from\n",
         "_deepnote_index_column": 697
        },
        {
         "compulsory course": "software engineering",
         "course_details": "this course emphasizes software engineering principles and leans more toward the theoretical founda…",
         "_deepnote_index_column": 698
        },
        {
         "compulsory course": "software engineering lab",
         "course_details": "\n",
         "_deepnote_index_column": 699
        },
        {
         "compulsory course": "software lab",
         "course_details": "\n",
         "_deepnote_index_column": 700
        },
        {
         "compulsory course": "software project management",
         "course_details": "co analyze the scope cost timing and quality of the project at all times focused on project success…",
         "_deepnote_index_column": 701
        },
        {
         "compulsory course": "sourcing data for analytics",
         "course_details": "in industry one of the main activities and challenges of implementing machine learning applications…",
         "_deepnote_index_column": 702
        },
        {
         "compulsory course": "spatial analysis",
         "course_details": "provides the knowledge and skills necessary to investigate the spatial patterns which result from s…",
         "_deepnote_index_column": 703
        },
        {
         "compulsory course": "spatial big data and storage analytics",
         "course_details": "\n",
         "_deepnote_index_column": 704
        },
        {
         "compulsory course": "spatial computing",
         "course_details": "theoretical foundations methods techniques and software systems for spatial computing including geo…",
         "_deepnote_index_column": 705
        },
        {
         "compulsory course": "spatial data base management",
         "course_details": "\n",
         "_deepnote_index_column": 706
        },
        {
         "compulsory course": "spatial modelling",
         "course_details": "\n",
         "_deepnote_index_column": 707
        },
        {
         "compulsory course": "spatial statistics and data analytics",
         "course_details": "the goal of this course is to familiarize students with a number of statistical and data mining tec…",
         "_deepnote_index_column": 708
        },
        {
         "compulsory course": "special topics in data science",
         "course_details": "this credit course offered autumn helps students practice staying on the cutting edge of the data s…",
         "_deepnote_index_column": 709
        },
        {
         "compulsory course": "sports analytics",
         "course_details": "this course focuses on tools and techniques applicable to decision making in sports the analytical …",
         "_deepnote_index_column": 710
        },
        {
         "compulsory course": "spread sheet modelling",
         "course_details": "co perform recognize and formulate business problems in using excel spreadsheets co evaluate or sol…",
         "_deepnote_index_column": 711
        },
        {
         "compulsory course": "spreadsheet and statistical programming for business",
         "course_details": "\n",
         "_deepnote_index_column": 712
        },
        {
         "compulsory course": "spreadsheet modeling",
         "course_details": "this courses focuses on the basics of spreadsheet modeling spreadsheets and simple models implement…",
         "_deepnote_index_column": 713
        },
        {
         "compulsory course": "spreadsheet modelling",
         "course_details": "\n",
         "_deepnote_index_column": 714
        },
        {
         "compulsory course": "sql basic data management",
         "course_details": "this unit course will introduce students to relational algebra sql and the basic elements of data m…",
         "_deepnote_index_column": 715
        },
        {
         "compulsory course": "sql databases for business analysts",
         "course_details": "sql relational database systems data storage data manipulation data aggregation\n",
         "_deepnote_index_column": 716
        },
        {
         "compulsory course": "sql lab",
         "course_details": "co analyzing foundational knowledge on sql co managing all concepts of sql exception handling co un…",
         "_deepnote_index_column": 717
        },
        {
         "compulsory course": "stat for data science",
         "course_details": "the course covers the methodological foundations of data science emphasizing basic concepts in stat…",
         "_deepnote_index_column": 718
        },
        {
         "compulsory course": "statistical analysis",
         "course_details": "this course provides a comprehensive and practical introduction to statistical data analysis the st…",
         "_deepnote_index_column": 719
        },
        {
         "compulsory course": "statistical analysis and modeling techniques",
         "course_details": "group of courses to choose from\n",
         "_deepnote_index_column": 720
        },
        {
         "compulsory course": "statistical analysis in education",
         "course_details": "basic regression a widely used dataanalytic procedure including multiple and curvilinear regression…",
         "_deepnote_index_column": 721
        },
        {
         "compulsory course": "statistical computing",
         "course_details": "implement statistical analysis techniques for solving practical problemsperform statistical analysi…",
         "_deepnote_index_column": 722
        },
        {
         "compulsory course": "statistical computing and data visualization",
         "course_details": "data cleaning and reshaping good vs bad graphics univariate bivariate trivariate hypervariate and t…",
         "_deepnote_index_column": 723
        },
        {
         "compulsory course": "statistical data mining",
         "course_details": "this course presents statistical models for data mining inference and prediction the focus will be …",
         "_deepnote_index_column": 724
        },
        {
         "compulsory course": "statistical decision making",
         "course_details": "co develop expertise in describing data cultivating aptitude for research design hypothesis testing…",
         "_deepnote_index_column": 725
        },
        {
         "compulsory course": "statistical foundations for analytics r",
         "course_details": "an introduction to statistics and the fundamental concepts of ml including prominent methods for su…",
         "_deepnote_index_column": 726
        },
        {
         "compulsory course": "statistical foundations for data science",
         "course_details": "Probability spaces, conditional probability, independence; Random variables, distribution functions…",
         "_deepnote_index_column": 727
        },
        {
         "compulsory course": "statistical foundations of analytics",
         "course_details": "\n",
         "_deepnote_index_column": 728
        },
        {
         "compulsory course": "statistical inference",
         "course_details": "group of courses to choose from\nunderstand the notion of a parametric model and point estimation of…",
         "_deepnote_index_column": 729
        },
        {
         "compulsory course": "statistical inference and modeling",
         "course_details": "Course covers fundamentals of statistical inference and testing, and gives an introduction to stati…",
         "_deepnote_index_column": 730
        },
        {
         "compulsory course": "statistical learning",
         "course_details": "statistical learning is concerned with algorithms that use statistical techniques to find structure…",
         "_deepnote_index_column": 731
        },
        {
         "compulsory course": "statistical learning for data science",
         "course_details": "this course focuses on advanced statistical learning methods and will build on earlier material on …",
         "_deepnote_index_column": 732
        },
        {
         "compulsory course": "statistical machine learning",
         "course_details": "students will be able to understand the various key paradigms for machine learning and pattern clas…",
         "_deepnote_index_column": 733
        },
        {
         "compulsory course": "statistical machine learning for data scientists",
         "course_details": "this course covers biasvariance tradeoff training versus test error overfitting crossvalidation sub…",
         "_deepnote_index_column": 734
        },
        {
         "compulsory course": "statistical modeling",
         "course_details": "the first course in a twoterm sequence in applied statistical methods covering topics such as regre…",
         "_deepnote_index_column": 735
        },
        {
         "compulsory course": "statistical modelling",
         "course_details": "this is the first in a two term sequence in applied statistical methods covering topics such as reg…",
         "_deepnote_index_column": 736
        },
        {
         "compulsory course": "statistical programming",
         "course_details": "this course provides students with a foundation in probability and statistics with a focus on busin…",
         "_deepnote_index_column": 737
        },
        {
         "compulsory course": "statistical reasoning and exploration",
         "course_details": "\n",
         "_deepnote_index_column": 738
        },
        {
         "compulsory course": "statistical theory",
         "course_details": "group of courses to choose from\n",
         "_deepnote_index_column": 739
        },
        {
         "compulsory course": "statisticallearning",
         "course_details": "a modern introduction to inferential methods for regression analysis and statistical learning with …",
         "_deepnote_index_column": 740
        },
        {
         "compulsory course": "statistics",
         "course_details": "group of courses to choose from\ngroup of courses to choose from\n\ngroup of courses to choose from\n",
         "_deepnote_index_column": 741
        },
        {
         "compulsory course": "statistics for analytics",
         "course_details": "foundations of statistical methodologies in business analytics statistical inference and probabilit…",
         "_deepnote_index_column": 742
        },
        {
         "compulsory course": "statistics for business analytics",
         "course_details": "\n",
         "_deepnote_index_column": 743
        },
        {
         "compulsory course": "statistics for computing and data science",
         "course_details": "probability and statistics are essential tools in data science and central to fields like bioinform…",
         "_deepnote_index_column": 744
        },
        {
         "compulsory course": "statistics for data science",
         "course_details": "\n",
         "_deepnote_index_column": 745
        },
        {
         "compulsory course": "statistics for management",
         "course_details": "\n",
         "_deepnote_index_column": 746
        },
        {
         "compulsory course": "statistics for managerial decision making",
         "course_details": "this course aims to familiarize the student with statistical theory tools and methods required for …",
         "_deepnote_index_column": 747
        },
        {
         "compulsory course": "statistics in decision making",
         "course_details": "unit i to learn the basics of numerical python unit ii to understand the advanced methods for inter…",
         "_deepnote_index_column": 748
        },
        {
         "compulsory course": "stochastic foundation probability models",
         "course_details": "introduces the foundations of probability along with the commonly used probability models binomial …",
         "_deepnote_index_column": 749
        },
        {
         "compulsory course": "stochastic methods in engineering",
         "course_details": "The basic limit theorems of probability theory and their application to maximum likelihood estimati…",
         "_deepnote_index_column": 750
        },
        {
         "compulsory course": "stochastic models",
         "course_details": "Stochastic Processes: Definition and classification of random processes; Discrete-time Markov chain…",
         "_deepnote_index_column": 751
        },
        {
         "compulsory course": "stochastic models and applications",
         "course_details": "\n",
         "_deepnote_index_column": 752
        },
        {
         "compulsory course": "stochastic processes",
         "course_details": "\n\n",
         "_deepnote_index_column": 753
        },
        {
         "compulsory course": "storytelling communications for data scientists",
         "course_details": "this course is designed to develop communication skills for data scientists working in industry and…",
         "_deepnote_index_column": 754
        },
        {
         "compulsory course": "storytelling with data",
         "course_details": "data does not have meaning without context and interpretation being able to effectively present dat…",
         "_deepnote_index_column": 755
        },
        {
         "compulsory course": "strategic management",
         "course_details": "\n\n\n",
         "_deepnote_index_column": 756
        },
        {
         "compulsory course": "strategy and analytics",
         "course_details": "this course focuses on the step after insights have been generated from data and asks the question …",
         "_deepnote_index_column": 757
        },
        {
         "compulsory course": "supervised machine learning",
         "course_details": "\n",
         "_deepnote_index_column": 758
        },
        {
         "compulsory course": "supply chain management",
         "course_details": "\n",
         "_deepnote_index_column": 759
        },
        {
         "compulsory course": "survey of data science applications",
         "course_details": "this course introduces foundational data science terminology and conventions and exposes students t…",
         "_deepnote_index_column": 760
        },
        {
         "compulsory course": "systems and technologies python",
         "course_details": "this course introduces students to the python programming language and its application in data scie…",
         "_deepnote_index_column": 761
        },
        {
         "compulsory course": "systems and technologies r",
         "course_details": "this course outfits students with the technical and practical skills required for working with mode…",
         "_deepnote_index_column": 762
        },
        {
         "compulsory course": "systems concentration",
         "course_details": "group of courses to choose from\n",
         "_deepnote_index_column": 763
        },
        {
         "compulsory course": "systems development for computational science",
         "course_details": "this is a projectbased course emphasizing designing building testing maintaining and modifying soft…",
         "_deepnote_index_column": 764
        },
        {
         "compulsory course": "text analytics",
         "course_details": "the course explores a breadth of natural language processing nlp applications with a focus on conte…",
         "_deepnote_index_column": 765
        },
        {
         "compulsory course": "text social media web analytics",
         "course_details": "\n",
         "_deepnote_index_column": 766
        },
        {
         "compulsory course": "the analytics edge data models and effective decisions",
         "course_details": "decision making under uncertainty using real data applying the most advanced optimization statistic…",
         "_deepnote_index_column": 767
        },
        {
         "compulsory course": "the logic and practice of measurement",
         "course_details": "\n",
         "_deepnote_index_column": 768
        },
        {
         "compulsory course": "theoretical approaches to multidisciplinary design projects",
         "course_details": "focuses on theories and research in communication and social sciences to bridge disciplines to prod…",
         "_deepnote_index_column": 769
        },
        {
         "compulsory course": "theoretical foundations of machine learning",
         "course_details": "co explain the basics of machine learning and applications co compare different quantification meth…",
         "_deepnote_index_column": 770
        },
        {
         "compulsory course": "theoretical machine learning",
         "course_details": "\n",
         "_deepnote_index_column": 771
        },
        {
         "compulsory course": "theory of statistics i",
         "course_details": "\n",
         "_deepnote_index_column": 772
        },
        {
         "compulsory course": "time series analysis",
         "course_details": "\n",
         "_deepnote_index_column": 773
        },
        {
         "compulsory course": "time series analysis and forecasting",
         "course_details": "time series analysis is a science as well as the art of making rational predictions based on previo…",
         "_deepnote_index_column": 774
        },
        {
         "compulsory course": "time series analytics",
         "course_details": "\n",
         "_deepnote_index_column": 775
        },
        {
         "compulsory course": "time series and forecasting",
         "course_details": "focusing on applications in this course students study time series models and computational techniq…",
         "_deepnote_index_column": 776
        },
        {
         "compulsory course": "time series forecasting",
         "course_details": "co understand the various forecasting techniques and its advantages co generate prediction equation…",
         "_deepnote_index_column": 777
        },
        {
         "compulsory course": "time series forecasting for analytics",
         "course_details": "predictive analysis and blackbox models for time series and econometric forecasting\n",
         "_deepnote_index_column": 778
        },
        {
         "compulsory course": "topics in business analytics",
         "course_details": "\n\n",
         "_deepnote_index_column": 779
        },
        {
         "compulsory course": "topics in health technology and engineering",
         "course_details": "interdisciplinary approach to impart the skills knowledge and familiarity with stages of collaborat…",
         "_deepnote_index_column": 780
        },
        {
         "compulsory course": "total survey error and data quality",
         "course_details": "these courses review the total error structure of sample survey data reviewing current research fin…",
         "_deepnote_index_column": 781
        },
        {
         "compulsory course": "unifying data science",
         "course_details": "this course is focused on how to answer questions effectively using quantitative data by the end of…",
         "_deepnote_index_column": 782
        },
        {
         "compulsory course": "unstructured data analytics",
         "course_details": "\n",
         "_deepnote_index_column": 783
        },
        {
         "compulsory course": "unsupervised and unstructured machine learning",
         "course_details": "\n",
         "_deepnote_index_column": 784
        },
        {
         "compulsory course": "utilizing data in electronic medical records",
         "course_details": "the scientific utility of ehr derived routine clinical data generated as a byproduct of care delive…",
         "_deepnote_index_column": 785
        },
        {
         "compulsory course": "visual analytics",
         "course_details": "\n",
         "_deepnote_index_column": 786
        },
        {
         "compulsory course": "visualization of complex data",
         "course_details": "this course is a practical approach to fundamentals of data visualization specifically for data sci…",
         "_deepnote_index_column": 787
        },
        {
         "compulsory course": "voting campaigns and elections",
         "course_details": "introduction to the theoretical and empirical research on political participation campaigns and ele…",
         "_deepnote_index_column": 788
        },
        {
         "compulsory course": "web analytics",
         "course_details": "\n",
         "_deepnote_index_column": 789
        },
        {
         "compulsory course": "web analytics and mining",
         "course_details": "the web analytics and mining course covers the areas of web analytics text mining web mining and pr…",
         "_deepnote_index_column": 790
        },
        {
         "compulsory course": "web analytics for business",
         "course_details": "explore web analytics text mining web mining and practical application domains the web analytics pa…",
         "_deepnote_index_column": 791
        },
        {
         "compulsory course": "web intelligence and big data",
         "course_details": "\n",
         "_deepnote_index_column": 792
        },
        {
         "compulsory course": "web technologies",
         "course_details": "advanced study of programming languages with application to the web languages for clientside and se…",
         "_deepnote_index_column": 793
        },
        {
         "compulsory course": "workforce planning and financial management",
         "course_details": "workforce planning and financial management professionals have come to rely on the power of predict…",
         "_deepnote_index_column": 794
        },
        {
         "compulsory course": "workshops",
         "course_details": "a series of workshops to gain soft skills such as interviewing negotiating and networking\n",
         "_deepnote_index_column": 795
        }
       ]
      },
      "text/plain": "                                compulsory course  \\\n0                                                   \n1    accelerated regression analysis for business   \n2        accelerated statistics for public policy   \n3              accounting and financial reporting   \n4                         accounting for managers   \n..                                            ...   \n791                    web analytics for business   \n792                 web intelligence and big data   \n793                              web technologies   \n794   workforce planning and financial management   \n795                                     workshops   \n\n                                        course_details  \n0                                               \\n\\n\\n  \n1    this course is intended for students with rece...  \n2                                                   \\n  \n3    this course emphasizes the vocabulary methods ...  \n4                                               \\n\\n\\n  \n..                                                 ...  \n791  explore web analytics text mining web mining a...  \n792                                                 \\n  \n793  advanced study of programming languages with a...  \n794  workforce planning and financial management pr...  \n795  a series of workshops to gain soft skills such...  \n\n[796 rows x 2 columns]",
      "text/html": "<div>\n<style scoped>\n    .dataframe tbody tr th:only-of-type {\n        vertical-align: middle;\n    }\n\n    .dataframe tbody tr th {\n        vertical-align: top;\n    }\n\n    .dataframe thead th {\n        text-align: right;\n    }\n</style>\n<table border=\"1\" class=\"dataframe\">\n  <thead>\n    <tr style=\"text-align: right;\">\n      <th></th>\n      <th>compulsory course</th>\n      <th>course_details</th>\n    </tr>\n  </thead>\n  <tbody>\n    <tr>\n      <th>0</th>\n      <td></td>\n      <td>\\n\\n\\n</td>\n    </tr>\n    <tr>\n      <th>1</th>\n      <td>accelerated regression analysis for business</td>\n      <td>this course is intended for students with rece...</td>\n    </tr>\n    <tr>\n      <th>2</th>\n      <td>accelerated statistics for public policy</td>\n      <td>\\n</td>\n    </tr>\n    <tr>\n      <th>3</th>\n      <td>accounting and financial reporting</td>\n      <td>this course emphasizes the vocabulary methods ...</td>\n    </tr>\n    <tr>\n      <th>4</th>\n      <td>accounting for managers</td>\n      <td>\\n\\n\\n</td>\n    </tr>\n    <tr>\n      <th>...</th>\n      <td>...</td>\n      <td>...</td>\n    </tr>\n    <tr>\n      <th>791</th>\n      <td>web analytics for business</td>\n      <td>explore web analytics text mining web mining a...</td>\n    </tr>\n    <tr>\n      <th>792</th>\n      <td>web intelligence and big data</td>\n      <td>\\n</td>\n    </tr>\n    <tr>\n      <th>793</th>\n      <td>web technologies</td>\n      <td>advanced study of programming languages with a...</td>\n    </tr>\n    <tr>\n      <th>794</th>\n      <td>workforce planning and financial management</td>\n      <td>workforce planning and financial management pr...</td>\n    </tr>\n    <tr>\n      <th>795</th>\n      <td>workshops</td>\n      <td>a series of workshops to gain soft skills such...</td>\n    </tr>\n  </tbody>\n</table>\n<p>796 rows × 2 columns</p>\n</div>"
     },
     "metadata": {}
    }
   ],
   "execution_count": null
  },
  {
   "cell_type": "code",
   "source": "lol",
   "metadata": {
    "tags": [],
    "cell_id": "00037-5596be84-1d15-41f3-9bcf-bc981d64fe90",
    "deepnote_to_be_reexecuted": false,
    "source_hash": "a097dec8",
    "execution_start": 1625808607663,
    "execution_millis": 15,
    "deepnote_cell_type": "code"
   },
   "outputs": [
    {
     "output_type": "execute_result",
     "execution_count": 42,
     "data": {
      "application/vnd.deepnote.dataframe.v2+json": {
       "row_count": 0,
       "column_count": 2,
       "columns": [
        {
         "name": "word",
         "dtype": "object",
         "stats": {
          "unique_count": 0,
          "nan_count": 0,
          "categories": []
         }
        },
        {
         "name": "labels",
         "dtype": "object",
         "stats": {
          "unique_count": 0,
          "nan_count": 0,
          "categories": []
         }
        },
        {
         "name": "_deepnote_index_column",
         "dtype": "object"
        }
       ],
       "rows_top": [],
       "rows_bottom": null
      },
      "text/plain": "Empty DataFrame\nColumns: [word, labels]\nIndex: []",
      "text/html": "<div>\n<style scoped>\n    .dataframe tbody tr th:only-of-type {\n        vertical-align: middle;\n    }\n\n    .dataframe tbody tr th {\n        vertical-align: top;\n    }\n\n    .dataframe thead th {\n        text-align: right;\n    }\n</style>\n<table border=\"1\" class=\"dataframe\">\n  <thead>\n    <tr style=\"text-align: right;\">\n      <th></th>\n      <th>word</th>\n      <th>labels</th>\n    </tr>\n  </thead>\n  <tbody>\n  </tbody>\n</table>\n</div>"
     },
     "metadata": {}
    }
   ],
   "execution_count": null
  },
  {
   "cell_type": "code",
   "source": "lol.loc[len(lol.index)] = ['blah', [1,2,3], 'h']",
   "metadata": {
    "tags": [],
    "cell_id": "00036-390a7c6b-c292-487a-ae7b-e84ea346927d",
    "deepnote_to_be_reexecuted": false,
    "source_hash": "d49f2e5c",
    "execution_start": 1625808730105,
    "execution_millis": 4,
    "deepnote_cell_type": "code"
   },
   "outputs": [],
   "execution_count": null
  },
  {
   "cell_type": "code",
   "source": "lol",
   "metadata": {
    "tags": [],
    "cell_id": "00037-95c6fbad-8d71-49b2-80e4-c3ebbe8ddf55",
    "deepnote_to_be_reexecuted": false,
    "source_hash": "a097dec8",
    "execution_start": 1625808731231,
    "execution_millis": 27,
    "deepnote_cell_type": "code"
   },
   "outputs": [
    {
     "output_type": "execute_result",
     "execution_count": 48,
     "data": {
      "application/vnd.deepnote.dataframe.v2+json": {
       "row_count": 4,
       "column_count": 3,
       "columns": [
        {
         "name": "word",
         "dtype": "object",
         "stats": {
          "unique_count": 1,
          "nan_count": 3,
          "categories": [
           {
            "name": "blah",
            "count": 1
           },
           {
            "name": "Missing",
            "count": 3
           }
          ]
         }
        },
        {
         "name": "labels",
         "dtype": "object",
         "stats": {
          "unique_count": 4,
          "nan_count": 3,
          "categories": [
           {
            "name": "[1, 2, 3]",
            "count": 1
           },
           {
            "name": "Missing",
            "count": 3
           }
          ]
         }
        },
        {
         "name": "blah",
         "dtype": "object",
         "stats": {
          "unique_count": 4,
          "nan_count": 0,
          "categories": [
           {
            "name": "1",
            "count": 1
           },
           {
            "name": "2",
            "count": 1
           },
           {
            "name": "2 others",
            "count": 2
           }
          ]
         }
        },
        {
         "name": "_deepnote_index_column",
         "dtype": "int64"
        }
       ],
       "rows_top": [
        {
         "word": "nan",
         "labels": "nan",
         "blah": "1",
         "_deepnote_index_column": 0
        },
        {
         "word": "nan",
         "labels": "nan",
         "blah": "2",
         "_deepnote_index_column": 1
        },
        {
         "word": "nan",
         "labels": "nan",
         "blah": "3",
         "_deepnote_index_column": 2
        },
        {
         "word": "blah",
         "labels": "[1, 2, 3]",
         "blah": "h",
         "_deepnote_index_column": 3
        }
       ],
       "rows_bottom": null
      },
      "text/plain": "   word     labels blah\n0   NaN        NaN    1\n1   NaN        NaN    2\n2   NaN        NaN    3\n3  blah  [1, 2, 3]    h",
      "text/html": "<div>\n<style scoped>\n    .dataframe tbody tr th:only-of-type {\n        vertical-align: middle;\n    }\n\n    .dataframe tbody tr th {\n        vertical-align: top;\n    }\n\n    .dataframe thead th {\n        text-align: right;\n    }\n</style>\n<table border=\"1\" class=\"dataframe\">\n  <thead>\n    <tr style=\"text-align: right;\">\n      <th></th>\n      <th>word</th>\n      <th>labels</th>\n      <th>blah</th>\n    </tr>\n  </thead>\n  <tbody>\n    <tr>\n      <th>0</th>\n      <td>NaN</td>\n      <td>NaN</td>\n      <td>1</td>\n    </tr>\n    <tr>\n      <th>1</th>\n      <td>NaN</td>\n      <td>NaN</td>\n      <td>2</td>\n    </tr>\n    <tr>\n      <th>2</th>\n      <td>NaN</td>\n      <td>NaN</td>\n      <td>3</td>\n    </tr>\n    <tr>\n      <th>3</th>\n      <td>blah</td>\n      <td>[1, 2, 3]</td>\n      <td>h</td>\n    </tr>\n  </tbody>\n</table>\n</div>"
     },
     "metadata": {}
    }
   ],
   "execution_count": null
  },
  {
   "cell_type": "code",
   "source": "lol.loc[lol['word'] == 'blah', 'labels'] = 4",
   "metadata": {
    "tags": [],
    "cell_id": "00038-c55b8e1a-2d4b-4f54-ade8-e16390411fb3",
    "deepnote_to_be_reexecuted": false,
    "source_hash": "4a184075",
    "execution_start": 1625808914182,
    "execution_millis": 0,
    "deepnote_cell_type": "code"
   },
   "outputs": [],
   "execution_count": null
  },
  {
   "cell_type": "code",
   "source": "lol",
   "metadata": {
    "tags": [],
    "cell_id": "00039-67eb331d-727a-4d56-884e-1e2d4cd88de8",
    "deepnote_to_be_reexecuted": false,
    "source_hash": "a097dec8",
    "execution_start": 1625808915426,
    "execution_millis": 10,
    "deepnote_cell_type": "code"
   },
   "outputs": [
    {
     "output_type": "execute_result",
     "execution_count": 54,
     "data": {
      "application/vnd.deepnote.dataframe.v2+json": {
       "row_count": 4,
       "column_count": 3,
       "columns": [
        {
         "name": "word",
         "dtype": "object",
         "stats": {
          "unique_count": 1,
          "nan_count": 3,
          "categories": [
           {
            "name": "blah",
            "count": 1
           },
           {
            "name": "Missing",
            "count": 3
           }
          ]
         }
        },
        {
         "name": "labels",
         "dtype": "object",
         "stats": {
          "unique_count": 1,
          "nan_count": 3,
          "categories": [
           {
            "name": "4.0",
            "count": 1
           },
           {
            "name": "Missing",
            "count": 3
           }
          ]
         }
        },
        {
         "name": "blah",
         "dtype": "object",
         "stats": {
          "unique_count": 4,
          "nan_count": 0,
          "categories": [
           {
            "name": "1",
            "count": 1
           },
           {
            "name": "2",
            "count": 1
           },
           {
            "name": "2 others",
            "count": 2
           }
          ]
         }
        },
        {
         "name": "_deepnote_index_column",
         "dtype": "int64"
        }
       ],
       "rows_top": [
        {
         "word": "nan",
         "labels": "nan",
         "blah": "1",
         "_deepnote_index_column": 0
        },
        {
         "word": "nan",
         "labels": "nan",
         "blah": "2",
         "_deepnote_index_column": 1
        },
        {
         "word": "nan",
         "labels": "nan",
         "blah": "3",
         "_deepnote_index_column": 2
        },
        {
         "word": "blah",
         "labels": "4",
         "blah": "h",
         "_deepnote_index_column": 3
        }
       ],
       "rows_bottom": null
      },
      "text/plain": "   word labels blah\n0   NaN    NaN    1\n1   NaN    NaN    2\n2   NaN    NaN    3\n3  blah      4    h",
      "text/html": "<div>\n<style scoped>\n    .dataframe tbody tr th:only-of-type {\n        vertical-align: middle;\n    }\n\n    .dataframe tbody tr th {\n        vertical-align: top;\n    }\n\n    .dataframe thead th {\n        text-align: right;\n    }\n</style>\n<table border=\"1\" class=\"dataframe\">\n  <thead>\n    <tr style=\"text-align: right;\">\n      <th></th>\n      <th>word</th>\n      <th>labels</th>\n      <th>blah</th>\n    </tr>\n  </thead>\n  <tbody>\n    <tr>\n      <th>0</th>\n      <td>NaN</td>\n      <td>NaN</td>\n      <td>1</td>\n    </tr>\n    <tr>\n      <th>1</th>\n      <td>NaN</td>\n      <td>NaN</td>\n      <td>2</td>\n    </tr>\n    <tr>\n      <th>2</th>\n      <td>NaN</td>\n      <td>NaN</td>\n      <td>3</td>\n    </tr>\n    <tr>\n      <th>3</th>\n      <td>blah</td>\n      <td>4</td>\n      <td>h</td>\n    </tr>\n  </tbody>\n</table>\n</div>"
     },
     "metadata": {}
    }
   ],
   "execution_count": null
  },
  {
   "cell_type": "code",
   "source": "f = \"\"\nf += \"45\"\nf += \"56\"\nprint(f)",
   "metadata": {
    "tags": [],
    "cell_id": "00040-920238d5-28a6-4786-910a-ad7a2fbb7486",
    "deepnote_to_be_reexecuted": false,
    "source_hash": "1474a23b",
    "execution_start": 1625814740284,
    "execution_millis": 13,
    "deepnote_cell_type": "code"
   },
   "outputs": [
    {
     "name": "stdout",
     "text": "4556\n",
     "output_type": "stream"
    }
   ],
   "execution_count": null
  },
  {
   "cell_type": "code",
   "source": "d = [1,3,4,5]\nd.remove(1)\nd",
   "metadata": {
    "tags": [],
    "cell_id": "00041-897e126a-4b64-4d8d-8f88-de5ffa405651",
    "deepnote_to_be_reexecuted": false,
    "source_hash": "dc945acb",
    "execution_start": 1625828311342,
    "execution_millis": 6,
    "deepnote_cell_type": "code"
   },
   "outputs": [
    {
     "output_type": "execute_result",
     "execution_count": 58,
     "data": {
      "text/plain": "[3, 4, 5]"
     },
     "metadata": {}
    }
   ],
   "execution_count": null
  },
  {
   "cell_type": "code",
   "source": "d[0]",
   "metadata": {
    "tags": [],
    "cell_id": "00042-bf587689-024e-4244-a032-4d38a022d397",
    "deepnote_to_be_reexecuted": false,
    "source_hash": "9b198e18",
    "execution_start": 1625828312983,
    "execution_millis": 11,
    "deepnote_cell_type": "code"
   },
   "outputs": [
    {
     "output_type": "execute_result",
     "execution_count": 59,
     "data": {
      "text/plain": "3"
     },
     "metadata": {}
    }
   ],
   "execution_count": null
  },
  {
   "cell_type": "code",
   "source": "# create the csv file with all words\n\ntry:\n    df = pd.read_csv(\"labelled_words.csv\")\nexcept FileNotFoundError:\n    # load all necessary files\n    data_path = \"../../data_collection/data/processed\"\n    pgm_india = pd.read_csv(os.path.join(data_path, \"india_pgms.csv\"))\n    pgm_usa = pd.read_csv(os.path.join(data_path, \"usa_pgms.csv\"))\n    curr_india = pd.read_csv(os.path.join(data_path, \"india_curr.csv\"))\n    curr_usa = pd.read_csv(os.path.join(data_path, \"usa_curr.csv\"))\n\n    # aggregate names of compulosry courses\n    compulsory_courses_india = curr_india['compulsory course'].fillna('')\n    compulsory_courses_usa = curr_usa['compulsory course'].fillna('')\n    aggregated_compulsory_courses = list(compulsory_courses_india) + list(compulsory_courses_usa)\n\n    # process course names\n    c = CourseNamesProcessor(aggregated_compulsory_courses)\n    processed_course_names = c.get_courses()\n\n    # extract unique words from course names\n    processed_course_names_as_string = \" \".join(processed_course_names)\n    unique_words_in_course_names = list(set(processed_course_names_as_string.split()))\n\n    # make dataframe\n    df = pd.DataFrame(columns = ['word', 'labels'])\n    df['word'] = unique_words_in_course_names\n    df.to_csv(\"labelled_words.csv\", index=False)",
   "metadata": {
    "tags": [],
    "cell_id": "00043-d7d0ae5b-4c2b-444f-8723-5e05706e5e80",
    "deepnote_to_be_reexecuted": false,
    "source_hash": "478108f4",
    "execution_start": 1625833634338,
    "execution_millis": 5,
    "deepnote_cell_type": "code"
   },
   "outputs": [],
   "execution_count": null
  },
  {
   "cell_type": "code",
   "source": "",
   "metadata": {
    "tags": [],
    "cell_id": "00045-61009eaa-857e-4637-a8ef-69ea2eb4f1ad",
    "deepnote_cell_type": "code"
   },
   "outputs": [],
   "execution_count": null
  },
  {
   "cell_type": "markdown",
   "source": "<a style='text-decoration:none;line-height:16px;display:flex;color:#5B5B62;padding:10px;justify-content:end;' href='https://deepnote.com?utm_source=created-in-deepnote-cell&projectId=596b9f0a-2431-4aa3-878c-95287ebfbe9a' target=\"_blank\">\n<img alt='Created in deepnote.com' style='display:inline;max-height:16px;margin:0px;margin-right:7.5px;' src='data:image/svg+xml;base64,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' > </img>\nCreated in <span style='font-weight:600;margin-left:4px;'>Deepnote</span></a>",
   "metadata": {
    "tags": [],
    "created_in_deepnote_cell": true,
    "deepnote_cell_type": "markdown"
   }
  }
 ],
 "nbformat": 4,
 "nbformat_minor": 2,
 "metadata": {
  "orig_nbformat": 2,
  "deepnote": {
   "is_reactive": false
  },
  "deepnote_notebook_id": "384791a4-a95f-4a5e-a650-5390393969d2",
  "deepnote_execution_queue": []
 }
}