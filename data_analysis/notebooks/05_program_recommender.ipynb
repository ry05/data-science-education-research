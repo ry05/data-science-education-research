{
 "cells": [
  {
   "cell_type": "markdown",
   "source": [
    "# Content-based Recommendation System for Data Programs"
   ],
   "metadata": {}
  },
  {
   "cell_type": "code",
   "execution_count": 2,
   "source": [
    "import pandas as pd\r\n",
    "import numpy as np\r\n",
    "import spacy\r\n",
    "from spacy.lang.en.stop_words import STOP_WORDS\r\n",
    "nlp = spacy.load(\"en_core_web_md\")\r\n",
    "from sklearn.feature_extraction.text import TfidfVectorizer\r\n",
    "from sklearn.metrics.pairwise import cosine_similarity\r\n",
    "\r\n",
    "import matplotlib.pyplot as plt\r\n",
    "\r\n",
    "import sys\r\n",
    "sys.path.insert(0, '../src')\r\n",
    "from text_operations import TextPreprocessor"
   ],
   "outputs": [],
   "metadata": {
    "tags": [],
    "cell_id": "00000-73974973-b591-48e9-b50a-0601702b3d8c",
    "deepnote_to_be_reexecuted": false,
    "source_hash": "4532cacb",
    "execution_start": 1627103456063,
    "execution_millis": 4028,
    "deepnote_cell_type": "code"
   }
  },
  {
   "cell_type": "markdown",
   "source": [
    "## 1. Prepare Data\r\n",
    "\r\n",
    "- Separate program descriptions and GDS scores for all 111 programs\r\n",
    "- Process program descriptions\r\n",
    "- Combine processed program descriptions and GDS scores to make the main dataset (called `dataset`)"
   ],
   "metadata": {}
  },
  {
   "cell_type": "code",
   "execution_count": 3,
   "source": [
    "df = pd.read_csv(\"../../data_collection/data/labelled/masters_data_programs_india_usa.csv\")\r\n",
    "pgm_id = df['uni_name'] + \" - \" + df['pgm_name']\r\n",
    "descr = df['descr']\r\n",
    "text = df['descr'].apply(lambda x: TextPreprocessor(x).preprocess_text() if x!='Not inferred' else x)\r\n",
    "df_gds = df[[\r\n",
    "    \"id\",\r\n",
    "    \"Data Gathering, Preparation and Exploration\",\r\n",
    "    \"Data Representation and Transformation\",\r\n",
    "    \"Computing with Data\",\r\n",
    "    \"Data Modeling\",\r\n",
    "    \"Data Visualization and Presentation\",\r\n",
    "    \"Science about Data Science\",\r\n",
    "]]\r\n",
    "\r\n",
    "df_descr = pd.DataFrame({\r\n",
    "    'id': pgm_id,\r\n",
    "    'descr': descr,\r\n",
    "    'text': text\r\n",
    "})"
   ],
   "outputs": [],
   "metadata": {
    "tags": [],
    "cell_id": "00001-88d70d21-e0c7-4292-b885-378b8526029c",
    "deepnote_to_be_reexecuted": false,
    "source_hash": "f9745f51",
    "execution_start": 1627103482925,
    "execution_millis": 82,
    "deepnote_cell_type": "code"
   }
  },
  {
   "cell_type": "markdown",
   "source": [
    "### Vecorize the program descriptions\r\n",
    "- Using TF-IDF vectorizer"
   ],
   "metadata": {}
  },
  {
   "cell_type": "code",
   "execution_count": 4,
   "source": [
    "# tfidfvectorizer\r\n",
    "tfidf = TfidfVectorizer(\r\n",
    "    stop_words=STOP_WORDS\r\n",
    ")\r\n",
    "tfidf_df_descr = tfidf.fit_transform(df_descr['text'])"
   ],
   "outputs": [
    {
     "output_type": "stream",
     "name": "stderr",
     "text": [
      "C:\\Users\\Ramshankar\\Anaconda3\\envs\\capstone_project\\lib\\site-packages\\sklearn\\feature_extraction\\text.py:388: UserWarning: Your stop_words may be inconsistent with your preprocessing. Tokenizing the stop words generated tokens ['ll', 've'] not in stop_words.\n",
      "  warnings.warn('Your stop_words may be inconsistent with '\n"
     ]
    }
   ],
   "metadata": {
    "tags": [],
    "cell_id": "00005-bd656f4f-36b6-4075-9f42-abe58acff7b8",
    "deepnote_to_be_reexecuted": false,
    "source_hash": "e53d01d6",
    "execution_start": 1627099176838,
    "execution_millis": 3,
    "deepnote_cell_type": "code"
   }
  },
  {
   "cell_type": "code",
   "execution_count": 5,
   "source": [
    "# make the main dataset\r\n",
    "prog_descr_df = pd.DataFrame(tfidf_df_descr.todense(), columns=tfidf.get_feature_names())\r\n",
    "dataset = pd.concat([df_gds, prog_descr_df], axis=1)\r\n",
    "dataset.shape"
   ],
   "outputs": [
    {
     "output_type": "execute_result",
     "data": {
      "text/plain": [
       "(111, 2490)"
      ]
     },
     "metadata": {},
     "execution_count": 5
    }
   ],
   "metadata": {
    "tags": [],
    "cell_id": "00007-37b7c4a7-e753-4206-82d8-057fc0f8ca7f",
    "deepnote_to_be_reexecuted": false,
    "source_hash": "8cc8035c",
    "execution_start": 1627099210688,
    "execution_millis": 9659,
    "deepnote_cell_type": "code"
   }
  },
  {
   "cell_type": "markdown",
   "source": [
    "## 2. Compute cosine similarities among programs"
   ],
   "metadata": {}
  },
  {
   "cell_type": "code",
   "execution_count": 6,
   "source": [
    "features = dataset.drop(['id'], axis=1)\r\n",
    "cosine_sim_programs = cosine_similarity(features)"
   ],
   "outputs": [],
   "metadata": {
    "tags": [],
    "cell_id": "00007-1f4ec149-0232-4ac1-8329-206d5cf5b7b9",
    "deepnote_to_be_reexecuted": false,
    "source_hash": "4b7ad2d0",
    "execution_start": 1627099466588,
    "execution_millis": 434,
    "deepnote_cell_type": "code"
   }
  },
  {
   "cell_type": "markdown",
   "source": [
    "## 3. Extract most similar programs"
   ],
   "metadata": {}
  },
  {
   "cell_type": "code",
   "execution_count": 7,
   "source": [
    "# helper functions\r\n",
    "# source: https://medium.com/code-heroku/building-a-movie-recommendation-engine-in-python-using-scikit-learn-c7489d7cb145\r\n",
    "def get_id_from_index(df, idx):\r\n",
    "    return df[df.index == idx]['id'].values[0]\r\n",
    "\r\n",
    "def get_index_from_id(df, pgm_id):\r\n",
    "    return df[df['id'] == pgm_id].index.values[0]\r\n",
    "\r\n",
    "def get_most_similar(pgm_name, dataset, sim_matrix, npgms=5):\r\n",
    "    pgm_index = get_index_from_id(dataset, pgm_name)\r\n",
    "    similar_pgms = list(enumerate(sim_matrix[pgm_index]))\r\n",
    "    sorted_similar_pgms = sorted(similar_pgms,key=lambda x:x[1],reverse=True)[1:]\r\n",
    "\r\n",
    "    top_n_pgms = sorted_similar_pgms[:npgms]\r\n",
    "    \r\n",
    "    return ([get_id_from_index(dataset, idx[0]) for idx in top_n_pgms]) "
   ],
   "outputs": [],
   "metadata": {
    "tags": [],
    "cell_id": "00008-9534c488-fcfd-4399-8fd2-b692615bd3e1",
    "deepnote_to_be_reexecuted": false,
    "source_hash": "865519fd",
    "execution_start": 1627099467072,
    "execution_millis": 1,
    "deepnote_cell_type": "code"
   }
  },
  {
   "cell_type": "code",
   "execution_count": 8,
   "source": [
    "pgm = \"Boston University - Master of Science in Applied Data Analytics\"\r\n",
    "get_most_similar(pgm, dataset, cosine_sim_programs, 5)"
   ],
   "outputs": [
    {
     "output_type": "execute_result",
     "data": {
      "text/plain": [
       "['Boston University - Master of Science in Applied Business Analytics',\n",
       " 'University of Southern California - Master of Science in Applied Data Science',\n",
       " 'IIIT Allahabad - M.Tech Data Science And Analytics',\n",
       " 'Georgetown University - Master of Science in Data Science and Analytics',\n",
       " 'University of Southern California - Master of Science in Analytics']"
      ]
     },
     "metadata": {},
     "execution_count": 8
    }
   ],
   "metadata": {
    "tags": [],
    "cell_id": "00009-347a96c8-4974-4329-987f-838e3da6b369",
    "deepnote_to_be_reexecuted": false,
    "source_hash": "82ccfad0",
    "execution_start": 1627099467440,
    "execution_millis": 7,
    "deepnote_cell_type": "code"
   }
  }
 ],
 "nbformat": 4,
 "nbformat_minor": 2,
 "metadata": {
  "orig_nbformat": 2,
  "deepnote": {
   "is_reactive": false
  },
  "deepnote_notebook_id": "0a9ed7ec-c53f-4549-900f-cdaefa13c32a",
  "deepnote_execution_queue": [],
  "language_info": {
   "name": "python",
   "version": "3.8.10",
   "mimetype": "text/x-python",
   "codemirror_mode": {
    "name": "ipython",
    "version": 3
   },
   "pygments_lexer": "ipython3",
   "nbconvert_exporter": "python",
   "file_extension": ".py"
  },
  "kernelspec": {
   "name": "python3",
   "display_name": "Python 3.8.10 64-bit ('capstone_project': conda)"
  },
  "interpreter": {
   "hash": "c236e00cb2504b8feadf115dc1fb937fdc1f15d4b269bc00694bd48dbccf7690"
  }
 }
}