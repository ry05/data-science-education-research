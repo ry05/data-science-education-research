{
 "cells": [
  {
   "cell_type": "code",
   "metadata": {
    "tags": [],
    "cell_id": "00000-73974973-b591-48e9-b50a-0601702b3d8c",
    "deepnote_to_be_reexecuted": false,
    "source_hash": "4532cacb",
    "execution_start": 1627103456063,
    "execution_millis": 4028,
    "deepnote_cell_type": "code"
   },
   "source": "import pandas as pd\nimport spacy\nfrom wordcloud import WordCloud\nimport matplotlib.pyplot as plt\nfrom spacy.lang.en.stop_words import STOP_WORDS\nnlp = spacy.load(\"en_core_web_md\")\n\nimport sys\nsys.path.insert(0, '../src')\nfrom text_operations import TextPreprocessor",
   "execution_count": null,
   "outputs": []
  },
  {
   "cell_type": "code",
   "metadata": {
    "tags": [],
    "cell_id": "00001-88d70d21-e0c7-4292-b885-378b8526029c",
    "deepnote_to_be_reexecuted": false,
    "source_hash": "f9745f51",
    "execution_start": 1627103482925,
    "execution_millis": 82,
    "deepnote_cell_type": "code"
   },
   "source": "df = pd.read_csv(\"../../data_collection/data/labelled/masters_data_programs_india_usa.csv\")\npgm_id = df['uni_name'] + \" - \" + df['pgm_name']\ndescr = df['descr']\ntext = df['descr'].apply(lambda x: TextPreprocessor(x).preprocess_text() if x!='Not inferred' else x)\ndf = pd.DataFrame({\n    'id': pgm_id,\n    'descr': descr,\n    'text': text\n})\ndf.head()",
   "execution_count": null,
   "outputs": [
    {
     "output_type": "execute_result",
     "execution_count": 43,
     "data": {
      "application/vnd.deepnote.dataframe.v2+json": {
       "row_count": 5,
       "column_count": 3,
       "columns": [
        {
         "name": "id",
         "dtype": "object",
         "stats": {
          "unique_count": 5,
          "nan_count": 0,
          "categories": [
           {
            "name": "Indian Institute of Science Bangalore - M.Tech. Computational and Data Science",
            "count": 1
           },
           {
            "name": "Indian Institute of Science Bangalore - M.Tech. Artificial Intelligence",
            "count": 1
           },
           {
            "name": "3 others",
            "count": 3
           }
          ]
         }
        },
        {
         "name": "descr",
         "dtype": "object",
         "stats": {
          "unique_count": 5,
          "nan_count": 0,
          "categories": [
           {
            "name": "Computational Science and Data Science are interdisciplinary areas that bring together the domain specific knowledge of science and engineering with relevant areas of computing systems and formal foundations. While computational science investigates scientific computing applications that require mathematical techniques and parallel computing, data science explores data-intensive applications that use scalable statistical and machine learning methods with Big Data and Cloud platforms. These impart foundational and scalable systems skills for computational and data sciences, with advanced courses selected by students to allow specialization on methods, platforms, and applications.",
            "count": 1
           },
           {
            "name": "  Artificial Intelligence has captured the imagination of the entire world with its potential ability to solve complex societal problems of our times: universal access to healthcare and education, efficient transportation, increased efficiency in providing e-governance services to the public, etc. Focused national efforts are underway in many countries. The Government of India has initiated widespread discussion on how India should strive to be among the top nations in the world in the AI ecosystem. The two-year M.Tech. in Artificial Intelligence aims to fill the critical needs of the industry and to fill the gap in the availability of high-end AI scientists and engineers.�The vision of the M.Tech. (AI) program is to impart rigorous training in the foundations and deep technology of Artificial Intelligence to produce graduates who can become world leaders in AI and lead India's march towards leadership in this important area. Curriculum tailored to bring students to the forefront of AI research and development.\nProgramme designed and administered by more than 30 faculty members working in leading edge topics in AI (https://ai.iisc.ac.in/).\nOne year research and development project to make our students the creators of futuristic applications of AI.\nEmphasis on publications, patents, products, and software.\nState-of-the-art computational and experimental facilities at one of the top institutions in the country.\nExcellent placement opportunities in reputed companies and industrial research labs pursuing high end, deep technology aspects of AI.",
            "count": 1
           },
           {
            "name": "3 others",
            "count": 3
           }
          ]
         }
        },
        {
         "name": "text",
         "dtype": "object",
         "stats": {
          "unique_count": 5,
          "nan_count": 0,
          "categories": [
           {
            "name": "computational science data science interdisciplinary areas bring domain specific knowledge science engineering relevant areas computing systems formal foundations computational science investigates scientific computing applications require mathematical techniques parallel computing data science explores data intensive applications use scalable statistical machine learning methods big data cloud platforms impart foundational scalable systems skills computational data sciences advanced courses selected students allow specialization methods platforms applications",
            "count": 1
           },
           {
            "name": "artificial intelligence captured imagination entire world potential ability solve complex societal problems times universal access healthcare education efficient transportation increased efficiency providing e governance services public etc focused national efforts underway countries government india initiated widespread discussion india strive nations world ai ecosystem two year m tech artificial intelligence aims fill critical needs industry fill gap availability high end ai scientists engineers the vision m tech ai program impart rigorous training foundations deep technology artificial intelligence produce graduates world leaders ai lead india s march leadership important area curriculum tailored bring students forefront ai research development programme designed administered faculty members working leading edge topics ai ai iisc ac in year research development project students creators futuristic applications ai emphasis publications patents products software state of the art computational experimental facilities institutions country excellent placement opportunities reputed companies industrial research labs pursuing high end deep technology aspects ai",
            "count": 1
           },
           {
            "name": "3 others",
            "count": 3
           }
          ]
         }
        },
        {
         "name": "_deepnote_index_column",
         "dtype": "int64"
        }
       ],
       "rows_top": [
        {
         "id": "Indian Institute of Science Bangalore - M.Tech. Computational and Data Science",
         "descr": "Computational Science and Data Science are interdisciplinary areas that bring together the domain s…",
         "text": "computational science data science interdisciplinary areas bring domain specific knowledge science …",
         "_deepnote_index_column": 0
        },
        {
         "id": "Indian Institute of Science Bangalore - M.Tech. Artificial Intelligence",
         "descr": "  Artificial Intelligence has captured the imagination of the entire world with its potential abili…",
         "text": "artificial intelligence captured imagination entire world potential ability solve complex societal …",
         "_deepnote_index_column": 1
        },
        {
         "id": "University of Hyderabad - MBA Business Analytics",
         "descr": " The School has launched a two year MBA in Business Analytics programme with an intake of 30 studen…",
         "text": "school launched year mba business analytics programme intake students academic year program spread …",
         "_deepnote_index_column": 2
        },
        {
         "id": "University of Hyderabad - M.Tech. Artificial Intelligence",
         "descr": " M.Tech Artificial Intelligence is also a four-semester course including two semesters of course wo…",
         "text": "m tech artificial intelligence four semester course including semesters course work semesters proje…",
         "_deepnote_index_column": 3
        },
        {
         "id": "IIT Guwahati - M.Tech Data Science",
         "descr": " Data Science is gaining prominence in academia and industry. Data science witnessing applications …",
         "text": "data science gaining prominence academia industry data science witnessing applications diverse rese…",
         "_deepnote_index_column": 4
        }
       ],
       "rows_bottom": null
      },
      "text/plain": "                                                  id  \\\n0  Indian Institute of Science Bangalore - M.Tech...   \n1  Indian Institute of Science Bangalore - M.Tech...   \n2   University of Hyderabad - MBA Business Analytics   \n3  University of Hyderabad - M.Tech. Artificial I...   \n4                 IIT Guwahati - M.Tech Data Science   \n\n                                               descr  \\\n0  Computational Science and Data Science are int...   \n1    Artificial Intelligence has captured the ima...   \n2   The School has launched a two year MBA in Bus...   \n3   M.Tech Artificial Intelligence is also a four...   \n4   Data Science is gaining prominence in academi...   \n\n                                                text  \n0  computational science data science interdiscip...  \n1  artificial intelligence captured imagination e...  \n2  school launched year mba business analytics pr...  \n3  m tech artificial intelligence four semester c...  \n4  data science gaining prominence academia indus...  ",
      "text/html": "<div>\n<style scoped>\n    .dataframe tbody tr th:only-of-type {\n        vertical-align: middle;\n    }\n\n    .dataframe tbody tr th {\n        vertical-align: top;\n    }\n\n    .dataframe thead th {\n        text-align: right;\n    }\n</style>\n<table border=\"1\" class=\"dataframe\">\n  <thead>\n    <tr style=\"text-align: right;\">\n      <th></th>\n      <th>id</th>\n      <th>descr</th>\n      <th>text</th>\n    </tr>\n  </thead>\n  <tbody>\n    <tr>\n      <th>0</th>\n      <td>Indian Institute of Science Bangalore - M.Tech...</td>\n      <td>Computational Science and Data Science are int...</td>\n      <td>computational science data science interdiscip...</td>\n    </tr>\n    <tr>\n      <th>1</th>\n      <td>Indian Institute of Science Bangalore - M.Tech...</td>\n      <td>Artificial Intelligence has captured the ima...</td>\n      <td>artificial intelligence captured imagination e...</td>\n    </tr>\n    <tr>\n      <th>2</th>\n      <td>University of Hyderabad - MBA Business Analytics</td>\n      <td>The School has launched a two year MBA in Bus...</td>\n      <td>school launched year mba business analytics pr...</td>\n    </tr>\n    <tr>\n      <th>3</th>\n      <td>University of Hyderabad - M.Tech. Artificial I...</td>\n      <td>M.Tech Artificial Intelligence is also a four...</td>\n      <td>m tech artificial intelligence four semester c...</td>\n    </tr>\n    <tr>\n      <th>4</th>\n      <td>IIT Guwahati - M.Tech Data Science</td>\n      <td>Data Science is gaining prominence in academi...</td>\n      <td>data science gaining prominence academia indus...</td>\n    </tr>\n  </tbody>\n</table>\n</div>"
     },
     "metadata": {}
    }
   ]
  },
  {
   "cell_type": "code",
   "metadata": {
    "tags": [],
    "cell_id": "00005-bd656f4f-36b6-4075-9f42-abe58acff7b8",
    "deepnote_to_be_reexecuted": false,
    "source_hash": "e53d01d6",
    "execution_start": 1627099176838,
    "execution_millis": 3,
    "deepnote_cell_type": "code"
   },
   "source": "df = pd.read_csv(\"../../data_collection/data/labelled/masters_data_programs_india_usa.csv\")\ntexts = df.descr.values.tolist(); texts[0]",
   "execution_count": null,
   "outputs": [
    {
     "output_type": "execute_result",
     "execution_count": 6,
     "data": {
      "text/plain": "'Computational Science and Data Science are interdisciplinary areas that bring together the domain specific knowledge of science and engineering with relevant areas of computing systems and formal foundations. While computational science investigates scientific computing applications that require mathematical techniques and parallel computing, data science explores data-intensive applications that use scalable statistical and machine learning methods with Big Data and Cloud platforms. These impart foundational and scalable systems skills for computational and data sciences, with advanced courses selected by students to allow specialization on methods, platforms, and applications.'"
     },
     "metadata": {}
    }
   ]
  },
  {
   "cell_type": "code",
   "metadata": {
    "tags": [],
    "cell_id": "00007-37b7c4a7-e753-4206-82d8-057fc0f8ca7f",
    "deepnote_to_be_reexecuted": false,
    "source_hash": "8cc8035c",
    "execution_start": 1627099210688,
    "execution_millis": 9659,
    "deepnote_cell_type": "code"
   },
   "source": "from sklearn.feature_extraction.text import TfidfVectorizer\nfrom sklearn.cluster import KMeans\nimport spacy\nfrom spacy.lang.en.stop_words import STOP_WORDS",
   "execution_count": null,
   "outputs": [
    {
     "name": "stderr",
     "text": "2021-07-24 04:00:12.908380: W tensorflow/stream_executor/platform/default/dso_loader.cc:60] Could not load dynamic library 'libcudart.so.11.0'; dlerror: libcudart.so.11.0: cannot open shared object file: No such file or directory\n2021-07-24 04:00:12.908438: I tensorflow/stream_executor/cuda/cudart_stub.cc:29] Ignore above cudart dlerror if you do not have a GPU set up on your machine.\n",
     "output_type": "stream"
    }
   ]
  },
  {
   "cell_type": "code",
   "metadata": {
    "tags": [],
    "cell_id": "00007-1f4ec149-0232-4ac1-8329-206d5cf5b7b9",
    "deepnote_to_be_reexecuted": false,
    "source_hash": "4b7ad2d0",
    "execution_start": 1627099466588,
    "execution_millis": 434,
    "deepnote_cell_type": "code"
   },
   "source": "vectorizer = TfidfVectorizer(\n    stop_words=STOP_WORDS\n)\n\nX = vectorizer.fit_transform(texts)\nmodel = KMeans(n_clusters=15, init='k-means++',\n               precompute_distances=True, random_state=2019,\n               max_iter=100, n_init=16, n_jobs=16)\n\nmodel.fit(X)",
   "execution_count": null,
   "outputs": [
    {
     "name": "stderr",
     "text": "/shared-libs/python3.7/py/lib/python3.7/site-packages/sklearn/feature_extraction/text.py:391: UserWarning: Your stop_words may be inconsistent with your preprocessing. Tokenizing the stop words generated tokens ['ll', 've'] not in stop_words.\n  'stop_words.' % sorted(inconsistent))\n/shared-libs/python3.7/py/lib/python3.7/site-packages/sklearn/cluster/_kmeans.py:788: FutureWarning: 'precompute_distances' was deprecated in version 0.23 and will be removed in 1.0 (renaming of 0.25). It has no effect\n  \". It has no effect\", FutureWarning)\n/shared-libs/python3.7/py/lib/python3.7/site-packages/sklearn/cluster/_kmeans.py:793: FutureWarning: 'n_jobs' was deprecated in version 0.23 and will be removed in 1.0 (renaming of 0.25).\n  \" removed in 1.0 (renaming of 0.25).\", FutureWarning)\n",
     "output_type": "stream"
    },
    {
     "output_type": "execute_result",
     "execution_count": 32,
     "data": {
      "text/plain": "KMeans(max_iter=100, n_clusters=15, n_init=16, n_jobs=16,\n       precompute_distances=True, random_state=2019)"
     },
     "metadata": {}
    }
   ]
  },
  {
   "cell_type": "code",
   "metadata": {
    "tags": [],
    "cell_id": "00008-9534c488-fcfd-4399-8fd2-b692615bd3e1",
    "deepnote_to_be_reexecuted": false,
    "source_hash": "865519fd",
    "execution_start": 1627099467072,
    "execution_millis": 1,
    "deepnote_cell_type": "code"
   },
   "source": "df[\"cluster\"] = model.predict(X)",
   "execution_count": null,
   "outputs": []
  },
  {
   "cell_type": "code",
   "metadata": {
    "tags": [],
    "cell_id": "00009-347a96c8-4974-4329-987f-838e3da6b369",
    "deepnote_to_be_reexecuted": false,
    "source_hash": "82ccfad0",
    "execution_start": 1627099467440,
    "execution_millis": 7,
    "deepnote_cell_type": "code"
   },
   "source": "df.cluster.value_counts()",
   "execution_count": null,
   "outputs": [
    {
     "output_type": "execute_result",
     "execution_count": 34,
     "data": {
      "text/plain": "1     25\n14    18\n13    16\n7     15\n3      9\n4      6\n12     5\n2      3\n9      3\n0      2\n5      2\n8      2\n10     2\n11     2\n6      1\nName: cluster, dtype: int64"
     },
     "metadata": {}
    }
   ]
  },
  {
   "cell_type": "code",
   "metadata": {
    "tags": [],
    "cell_id": "00010-6c57984f-f084-475e-beb7-8cc1f5840a9f",
    "deepnote_to_be_reexecuted": false,
    "source_hash": "9ec5092b",
    "execution_start": 1627099468060,
    "execution_millis": 8,
    "deepnote_cell_type": "code"
   },
   "source": "df[df.cluster == 4].sample(3).descr.values.tolist()",
   "execution_count": null,
   "outputs": [
    {
     "output_type": "execute_result",
     "execution_count": 35,
     "data": {
      "text/plain": "[\"  Artificial Intelligence has captured the imagination of the entire world with its potential ability to solve complex societal problems of our times: universal access to healthcare and education, efficient transportation, increased efficiency in providing e-governance services to the public, etc. Focused national efforts are underway in many countries. The Government of India has initiated widespread discussion on how India should strive to be among the top nations in the world in the AI ecosystem. The two-year M.Tech. in Artificial Intelligence aims to fill the critical needs of the industry and to fill the gap in the availability of high-end AI scientists and engineers.�The vision of the M.Tech. (AI) program is to impart rigorous training in the foundations and deep technology of Artificial Intelligence to produce graduates who can become world leaders in AI and lead India's march towards leadership in this important area. Curriculum tailored to bring students to the forefront of AI research and development.\\nProgramme designed and administered by more than 30 faculty members working in leading edge topics in AI (https://ai.iisc.ac.in/).\\nOne year research and development project to make our students the creators of futuristic applications of AI.\\nEmphasis on publications, patents, products, and software.\\nState-of-the-art computational and experimental facilities at one of the top institutions in the country.\\nExcellent placement opportunities in reputed companies and industrial research labs pursuing high end, deep technology aspects of AI.\",\n \"Artificial intelligence (AI) is increasingly important in the developments in all parts of business and society. The Department of Computer Science, University of Kerala has been doing active research in Machine Learning and Intelligent Systems, and AI related modules. The M. Sc. Computer Science (with specialization in Artificial Intelligence) Programme intends to provide specialist skills in artificial intelligence, opening the door to a range of careers for students. Students will develop strong theoretical and technical knowledge and skills including a thorough grounding in machine learning and specialist skills in artificial intelligence, which will provide the directly transferable skills for a career in the field of AI. AI plays a major role in shaping the future education. Artificial Intelligence (AI) is expected to have enormous impact in addressing many of the greatest societal challenges that face us today, e.g. ageing, transport, and the environment. It is expected that it will help improve the quality of life of citizens both at home and at work. In addition, it will contribute greatly to increasing industrial competitiveness across all sectors, including small and medium-sized enterprises and non-tech industries. India is developing to be a leading edge in AI and robotics. This strong expertise is also reflected in the level of investment in India from world leading companies, either in existing labs or companies, or in creating new major R&D labs. In addition, India has a exciting start-up landscape. However, these AI resources are scattered throughout India. Therefore, in order to fully exploit the potential of AI for the benefit of the society and to guarantee India's leading position in AI, it is essential to start the courses that will create an impact on the society and industry requirements. The deep investigation into state-of-the-art technologies, concepts and theories, supported by a thriving active research projects are done as part of this programme. Topics studied will include Machine Learning, AI concepts, Data Analytics and interdisciplinary areas such as block chain, Agent technology, deep learning. The students should be able to develop specialist knowledge and experience in the development of Artificial Intelligent Systems and solve and automate the projects/ case studies based on Machine Learning and AI research.\",\n '1. The purpose is to develop a work force which can step up to the challenges of the upcoming age of artificial intelligence. 2. Towards this end, the CS department feels the need to create a focused masters specialization along the theme.']"
     },
     "metadata": {}
    }
   ]
  },
  {
   "cell_type": "code",
   "metadata": {
    "tags": [],
    "cell_id": "00011-80ec0b91-ebe7-4bee-8ff0-b8d682501b54",
    "deepnote_to_be_reexecuted": false,
    "source_hash": "ed212a3f",
    "execution_start": 1627099469026,
    "execution_millis": 8,
    "deepnote_cell_type": "code"
   },
   "source": "from sklearn.linear_model import LogisticRegression\nfrom sklearn.metrics import accuracy_score, f1_score\nfrom sklearn.model_selection import cross_val_predict",
   "execution_count": null,
   "outputs": []
  },
  {
   "cell_type": "code",
   "metadata": {
    "tags": [],
    "cell_id": "00012-3a7cd0b9-3ec4-44e5-be55-4315ea8889ba",
    "deepnote_to_be_reexecuted": false,
    "source_hash": "584beda1",
    "execution_start": 1627099469579,
    "execution_millis": 3856,
    "deepnote_cell_type": "code"
   },
   "source": "lr = LogisticRegression(n_jobs=2, penalty=\"l1\",\n                        multi_class=\"ovr\", C=10.0,\n                        random_state=2019, solver=\"saga\")\n\nproba = cross_val_predict(lr, X, df.cluster, cv=10, n_jobs=8, method=\"predict_proba\")",
   "execution_count": null,
   "outputs": [
    {
     "name": "stderr",
     "text": "/shared-libs/python3.7/py/lib/python3.7/site-packages/sklearn/model_selection/_split.py:668: UserWarning: The least populated class in y has only 1 members, which is less than n_splits=10.\n  % (min_groups, self.n_splits)), UserWarning)\n/shared-libs/python3.7/py/lib/python3.7/site-packages/sklearn/linear_model/_sag.py:329: ConvergenceWarning: The max_iter was reached which means the coef_ did not converge\n  \"the coef_ did not converge\", ConvergenceWarning)\n/shared-libs/python3.7/py/lib/python3.7/site-packages/sklearn/linear_model/_sag.py:329: ConvergenceWarning: The max_iter was reached which means the coef_ did not converge\n  \"the coef_ did not converge\", ConvergenceWarning)\n/shared-libs/python3.7/py/lib/python3.7/site-packages/sklearn/linear_model/_sag.py:329: ConvergenceWarning: The max_iter was reached which means the coef_ did not converge\n  \"the coef_ did not converge\", ConvergenceWarning)\n/shared-libs/python3.7/py/lib/python3.7/site-packages/sklearn/linear_model/_sag.py:329: ConvergenceWarning: The max_iter was reached which means the coef_ did not converge\n  \"the coef_ did not converge\", ConvergenceWarning)\n/shared-libs/python3.7/py/lib/python3.7/site-packages/sklearn/linear_model/_sag.py:329: ConvergenceWarning: The max_iter was reached which means the coef_ did not converge\n  \"the coef_ did not converge\", ConvergenceWarning)\n/shared-libs/python3.7/py/lib/python3.7/site-packages/sklearn/linear_model/_sag.py:329: ConvergenceWarning: The max_iter was reached which means the coef_ did not converge\n  \"the coef_ did not converge\", ConvergenceWarning)\n/shared-libs/python3.7/py/lib/python3.7/site-packages/sklearn/linear_model/_sag.py:329: ConvergenceWarning: The max_iter was reached which means the coef_ did not converge\n  \"the coef_ did not converge\", ConvergenceWarning)\n/shared-libs/python3.7/py/lib/python3.7/site-packages/sklearn/linear_model/_sag.py:329: ConvergenceWarning: The max_iter was reached which means the coef_ did not converge\n  \"the coef_ did not converge\", ConvergenceWarning)\n/shared-libs/python3.7/py/lib/python3.7/site-packages/sklearn/linear_model/_sag.py:329: ConvergenceWarning: The max_iter was reached which means the coef_ did not converge\n  \"the coef_ did not converge\", ConvergenceWarning)\n/shared-libs/python3.7/py/lib/python3.7/site-packages/sklearn/linear_model/_sag.py:329: ConvergenceWarning: The max_iter was reached which means the coef_ did not converge\n  \"the coef_ did not converge\", ConvergenceWarning)\n/shared-libs/python3.7/py/lib/python3.7/site-packages/sklearn/linear_model/_sag.py:329: ConvergenceWarning: The max_iter was reached which means the coef_ did not converge\n  \"the coef_ did not converge\", ConvergenceWarning)\n/shared-libs/python3.7/py/lib/python3.7/site-packages/sklearn/linear_model/_sag.py:329: ConvergenceWarning: The max_iter was reached which means the coef_ did not converge\n  \"the coef_ did not converge\", ConvergenceWarning)\n/shared-libs/python3.7/py/lib/python3.7/site-packages/sklearn/linear_model/_sag.py:329: ConvergenceWarning: The max_iter was reached which means the coef_ did not converge\n  \"the coef_ did not converge\", ConvergenceWarning)\n/shared-libs/python3.7/py/lib/python3.7/site-packages/sklearn/linear_model/_sag.py:329: ConvergenceWarning: The max_iter was reached which means the coef_ did not converge\n  \"the coef_ did not converge\", ConvergenceWarning)\n/shared-libs/python3.7/py/lib/python3.7/site-packages/sklearn/linear_model/_sag.py:329: ConvergenceWarning: The max_iter was reached which means the coef_ did not converge\n  \"the coef_ did not converge\", ConvergenceWarning)\n/shared-libs/python3.7/py/lib/python3.7/site-packages/sklearn/linear_model/_sag.py:329: ConvergenceWarning: The max_iter was reached which means the coef_ did not converge\n  \"the coef_ did not converge\", ConvergenceWarning)\n/shared-libs/python3.7/py/lib/python3.7/site-packages/sklearn/linear_model/_sag.py:329: ConvergenceWarning: The max_iter was reached which means the coef_ did not converge\n  \"the coef_ did not converge\", ConvergenceWarning)\n/shared-libs/python3.7/py/lib/python3.7/site-packages/sklearn/linear_model/_sag.py:329: ConvergenceWarning: The max_iter was reached which means the coef_ did not converge\n  \"the coef_ did not converge\", ConvergenceWarning)\n/shared-libs/python3.7/py/lib/python3.7/site-packages/sklearn/linear_model/_sag.py:329: ConvergenceWarning: The max_iter was reached which means the coef_ did not converge\n  \"the coef_ did not converge\", ConvergenceWarning)\n/shared-libs/python3.7/py/lib/python3.7/site-packages/sklearn/linear_model/_sag.py:329: ConvergenceWarning: The max_iter was reached which means the coef_ did not converge\n  \"the coef_ did not converge\", ConvergenceWarning)\n/shared-libs/python3.7/py/lib/python3.7/site-packages/sklearn/linear_model/_sag.py:329: ConvergenceWarning: The max_iter was reached which means the coef_ did not converge\n  \"the coef_ did not converge\", ConvergenceWarning)\n/shared-libs/python3.7/py/lib/python3.7/site-packages/sklearn/linear_model/_sag.py:329: ConvergenceWarning: The max_iter was reached which means the coef_ did not converge\n  \"the coef_ did not converge\", ConvergenceWarning)\n/shared-libs/python3.7/py/lib/python3.7/site-packages/sklearn/linear_model/_sag.py:329: ConvergenceWarning: The max_iter was reached which means the coef_ did not converge\n  \"the coef_ did not converge\", ConvergenceWarning)\n/shared-libs/python3.7/py/lib/python3.7/site-packages/sklearn/linear_model/_sag.py:329: ConvergenceWarning: The max_iter was reached which means the coef_ did not converge\n  \"the coef_ did not converge\", ConvergenceWarning)\n/shared-libs/python3.7/py/lib/python3.7/site-packages/sklearn/linear_model/_sag.py:329: ConvergenceWarning: The max_iter was reached which means the coef_ did not converge\n  \"the coef_ did not converge\", ConvergenceWarning)\n/shared-libs/python3.7/py/lib/python3.7/site-packages/sklearn/linear_model/_sag.py:329: ConvergenceWarning: The max_iter was reached which means the coef_ did not converge\n  \"the coef_ did not converge\", ConvergenceWarning)\n/shared-libs/python3.7/py/lib/python3.7/site-packages/sklearn/linear_model/_sag.py:329: ConvergenceWarning: The max_iter was reached which means the coef_ did not converge\n  \"the coef_ did not converge\", ConvergenceWarning)\n/shared-libs/python3.7/py/lib/python3.7/site-packages/sklearn/linear_model/_sag.py:329: ConvergenceWarning: The max_iter was reached which means the coef_ did not converge\n  \"the coef_ did not converge\", ConvergenceWarning)\n/shared-libs/python3.7/py/lib/python3.7/site-packages/sklearn/linear_model/_sag.py:329: ConvergenceWarning: The max_iter was reached which means the coef_ did not converge\n  \"the coef_ did not converge\", ConvergenceWarning)\n/shared-libs/python3.7/py/lib/python3.7/site-packages/sklearn/linear_model/_sag.py:329: ConvergenceWarning: The max_iter was reached which means the coef_ did not converge\n  \"the coef_ did not converge\", ConvergenceWarning)\n/shared-libs/python3.7/py/lib/python3.7/site-packages/sklearn/linear_model/_sag.py:329: ConvergenceWarning: The max_iter was reached which means the coef_ did not converge\n  \"the coef_ did not converge\", ConvergenceWarning)\n/shared-libs/python3.7/py/lib/python3.7/site-packages/sklearn/linear_model/_sag.py:329: ConvergenceWarning: The max_iter was reached which means the coef_ did not converge\n  \"the coef_ did not converge\", ConvergenceWarning)\n/shared-libs/python3.7/py/lib/python3.7/site-packages/sklearn/linear_model/_sag.py:329: ConvergenceWarning: The max_iter was reached which means the coef_ did not converge\n  \"the coef_ did not converge\", ConvergenceWarning)\n/shared-libs/python3.7/py/lib/python3.7/site-packages/sklearn/linear_model/_sag.py:329: ConvergenceWarning: The max_iter was reached which means the coef_ did not converge\n  \"the coef_ did not converge\", ConvergenceWarning)\n/shared-libs/python3.7/py/lib/python3.7/site-packages/sklearn/linear_model/_sag.py:329: ConvergenceWarning: The max_iter was reached which means the coef_ did not converge\n  \"the coef_ did not converge\", ConvergenceWarning)\n/shared-libs/python3.7/py/lib/python3.7/site-packages/sklearn/linear_model/_sag.py:329: ConvergenceWarning: The max_iter was reached which means the coef_ did not converge\n  \"the coef_ did not converge\", ConvergenceWarning)\n/shared-libs/python3.7/py/lib/python3.7/site-packages/sklearn/linear_model/_sag.py:329: ConvergenceWarning: The max_iter was reached which means the coef_ did not converge\n  \"the coef_ did not converge\", ConvergenceWarning)\n/shared-libs/python3.7/py/lib/python3.7/site-packages/sklearn/linear_model/_sag.py:329: ConvergenceWarning: The max_iter was reached which means the coef_ did not converge\n  \"the coef_ did not converge\", ConvergenceWarning)\n/shared-libs/python3.7/py/lib/python3.7/site-packages/sklearn/linear_model/_sag.py:329: ConvergenceWarning: The max_iter was reached which means the coef_ did not converge\n  \"the coef_ did not converge\", ConvergenceWarning)\n/shared-libs/python3.7/py/lib/python3.7/site-packages/sklearn/linear_model/_sag.py:329: ConvergenceWarning: The max_iter was reached which means the coef_ did not converge\n  \"the coef_ did not converge\", ConvergenceWarning)\n/shared-libs/python3.7/py/lib/python3.7/site-packages/sklearn/linear_model/_sag.py:329: ConvergenceWarning: The max_iter was reached which means the coef_ did not converge\n  \"the coef_ did not converge\", ConvergenceWarning)\n/shared-libs/python3.7/py/lib/python3.7/site-packages/sklearn/linear_model/_sag.py:329: ConvergenceWarning: The max_iter was reached which means the coef_ did not converge\n  \"the coef_ did not converge\", ConvergenceWarning)\n/shared-libs/python3.7/py/lib/python3.7/site-packages/sklearn/linear_model/_sag.py:329: ConvergenceWarning: The max_iter was reached which means the coef_ did not converge\n  \"the coef_ did not converge\", ConvergenceWarning)\n/shared-libs/python3.7/py/lib/python3.7/site-packages/sklearn/linear_model/_sag.py:329: ConvergenceWarning: The max_iter was reached which means the coef_ did not converge\n  \"the coef_ did not converge\", ConvergenceWarning)\n/shared-libs/python3.7/py/lib/python3.7/site-packages/sklearn/linear_model/_sag.py:329: ConvergenceWarning: The max_iter was reached which means the coef_ did not converge\n  \"the coef_ did not converge\", ConvergenceWarning)\n/shared-libs/python3.7/py/lib/python3.7/site-packages/sklearn/linear_model/_sag.py:329: ConvergenceWarning: The max_iter was reached which means the coef_ did not converge\n  \"the coef_ did not converge\", ConvergenceWarning)\n/shared-libs/python3.7/py/lib/python3.7/site-packages/sklearn/linear_model/_sag.py:329: ConvergenceWarning: The max_iter was reached which means the coef_ did not converge\n  \"the coef_ did not converge\", ConvergenceWarning)\n/shared-libs/python3.7/py/lib/python3.7/site-packages/sklearn/linear_model/_sag.py:329: ConvergenceWarning: The max_iter was reached which means the coef_ did not converge\n  \"the coef_ did not converge\", ConvergenceWarning)\n/shared-libs/python3.7/py/lib/python3.7/site-packages/sklearn/linear_model/_sag.py:329: ConvergenceWarning: The max_iter was reached which means the coef_ did not converge\n  \"the coef_ did not converge\", ConvergenceWarning)\n/shared-libs/python3.7/py/lib/python3.7/site-packages/sklearn/linear_model/_sag.py:329: ConvergenceWarning: The max_iter was reached which means the coef_ did not converge\n  \"the coef_ did not converge\", ConvergenceWarning)\n/shared-libs/python3.7/py/lib/python3.7/site-packages/sklearn/linear_model/_sag.py:329: ConvergenceWarning: The max_iter was reached which means the coef_ did not converge\n  \"the coef_ did not converge\", ConvergenceWarning)\n/shared-libs/python3.7/py/lib/python3.7/site-packages/sklearn/linear_model/_sag.py:329: ConvergenceWarning: The max_iter was reached which means the coef_ did not converge\n  \"the coef_ did not converge\", ConvergenceWarning)\n/shared-libs/python3.7/py/lib/python3.7/site-packages/sklearn/linear_model/_sag.py:329: ConvergenceWarning: The max_iter was reached which means the coef_ did not converge\n  \"the coef_ did not converge\", ConvergenceWarning)\n/shared-libs/python3.7/py/lib/python3.7/site-packages/sklearn/linear_model/_sag.py:329: ConvergenceWarning: The max_iter was reached which means the coef_ did not converge\n  \"the coef_ did not converge\", ConvergenceWarning)\n/shared-libs/python3.7/py/lib/python3.7/site-packages/sklearn/linear_model/_sag.py:329: ConvergenceWarning: The max_iter was reached which means the coef_ did not converge\n  \"the coef_ did not converge\", ConvergenceWarning)\n/shared-libs/python3.7/py/lib/python3.7/site-packages/sklearn/linear_model/_sag.py:329: ConvergenceWarning: The max_iter was reached which means the coef_ did not converge\n  \"the coef_ did not converge\", ConvergenceWarning)\n/shared-libs/python3.7/py/lib/python3.7/site-packages/sklearn/linear_model/_sag.py:329: ConvergenceWarning: The max_iter was reached which means the coef_ did not converge\n  \"the coef_ did not converge\", ConvergenceWarning)\n/shared-libs/python3.7/py/lib/python3.7/site-packages/sklearn/linear_model/_sag.py:329: ConvergenceWarning: The max_iter was reached which means the coef_ did not converge\n  \"the coef_ did not converge\", ConvergenceWarning)\n/shared-libs/python3.7/py/lib/python3.7/site-packages/sklearn/linear_model/_sag.py:329: ConvergenceWarning: The max_iter was reached which means the coef_ did not converge\n  \"the coef_ did not converge\", ConvergenceWarning)\n/shared-libs/python3.7/py/lib/python3.7/site-packages/sklearn/linear_model/_sag.py:329: ConvergenceWarning: The max_iter was reached which means the coef_ did not converge\n  \"the coef_ did not converge\", ConvergenceWarning)\n/shared-libs/python3.7/py/lib/python3.7/site-packages/sklearn/linear_model/_sag.py:329: ConvergenceWarning: The max_iter was reached which means the coef_ did not converge\n  \"the coef_ did not converge\", ConvergenceWarning)\n/shared-libs/python3.7/py/lib/python3.7/site-packages/sklearn/linear_model/_sag.py:329: ConvergenceWarning: The max_iter was reached which means the coef_ did not converge\n  \"the coef_ did not converge\", ConvergenceWarning)\n/shared-libs/python3.7/py/lib/python3.7/site-packages/sklearn/linear_model/_sag.py:329: ConvergenceWarning: The max_iter was reached which means the coef_ did not converge\n  \"the coef_ did not converge\", ConvergenceWarning)\n/shared-libs/python3.7/py/lib/python3.7/site-packages/sklearn/linear_model/_sag.py:329: ConvergenceWarning: The max_iter was reached which means the coef_ did not converge\n  \"the coef_ did not converge\", ConvergenceWarning)\n/shared-libs/python3.7/py/lib/python3.7/site-packages/sklearn/linear_model/_sag.py:329: ConvergenceWarning: The max_iter was reached which means the coef_ did not converge\n  \"the coef_ did not converge\", ConvergenceWarning)\n/shared-libs/python3.7/py/lib/python3.7/site-packages/sklearn/linear_model/_sag.py:329: ConvergenceWarning: The max_iter was reached which means the coef_ did not converge\n  \"the coef_ did not converge\", ConvergenceWarning)\n/shared-libs/python3.7/py/lib/python3.7/site-packages/sklearn/linear_model/_sag.py:329: ConvergenceWarning: The max_iter was reached which means the coef_ did not converge\n  \"the coef_ did not converge\", ConvergenceWarning)\n/shared-libs/python3.7/py/lib/python3.7/site-packages/sklearn/linear_model/_sag.py:329: ConvergenceWarning: The max_iter was reached which means the coef_ did not converge\n  \"the coef_ did not converge\", ConvergenceWarning)\n/shared-libs/python3.7/py/lib/python3.7/site-packages/sklearn/linear_model/_sag.py:329: ConvergenceWarning: The max_iter was reached which means the coef_ did not converge\n  \"the coef_ did not converge\", ConvergenceWarning)\n/shared-libs/python3.7/py/lib/python3.7/site-packages/sklearn/linear_model/_sag.py:329: ConvergenceWarning: The max_iter was reached which means the coef_ did not converge\n  \"the coef_ did not converge\", ConvergenceWarning)\n/shared-libs/python3.7/py/lib/python3.7/site-packages/sklearn/linear_model/_sag.py:329: ConvergenceWarning: The max_iter was reached which means the coef_ did not converge\n  \"the coef_ did not converge\", ConvergenceWarning)\n/shared-libs/python3.7/py/lib/python3.7/site-packages/sklearn/linear_model/_sag.py:329: ConvergenceWarning: The max_iter was reached which means the coef_ did not converge\n  \"the coef_ did not converge\", ConvergenceWarning)\n/shared-libs/python3.7/py/lib/python3.7/site-packages/sklearn/linear_model/_sag.py:329: ConvergenceWarning: The max_iter was reached which means the coef_ did not converge\n  \"the coef_ did not converge\", ConvergenceWarning)\n/shared-libs/python3.7/py/lib/python3.7/site-packages/sklearn/linear_model/_sag.py:329: ConvergenceWarning: The max_iter was reached which means the coef_ did not converge\n  \"the coef_ did not converge\", ConvergenceWarning)\n",
     "output_type": "stream"
    }
   ]
  },
  {
   "cell_type": "code",
   "metadata": {
    "tags": [],
    "cell_id": "00013-db09e144-19d4-43fe-ac24-b4551a8e9d16",
    "deepnote_to_be_reexecuted": false,
    "source_hash": "6ec846c1",
    "execution_start": 1627099473478,
    "execution_millis": 1,
    "deepnote_cell_type": "code"
   },
   "source": "preds = proba.argmax(axis=1)",
   "execution_count": null,
   "outputs": []
  },
  {
   "cell_type": "code",
   "metadata": {
    "tags": [],
    "cell_id": "00014-2a835bdb-b3d7-4047-b65a-1c204a9d36dd",
    "deepnote_to_be_reexecuted": false,
    "source_hash": "e635bc76",
    "execution_start": 1627099475097,
    "execution_millis": 13,
    "deepnote_cell_type": "code"
   },
   "source": "accuracy_score(df.cluster, preds)",
   "execution_count": null,
   "outputs": [
    {
     "output_type": "execute_result",
     "execution_count": 39,
     "data": {
      "text/plain": "0.6306306306306306"
     },
     "metadata": {}
    }
   ]
  },
  {
   "cell_type": "code",
   "metadata": {
    "tags": [],
    "cell_id": "00015-c7f3e7ff-b537-4982-bf1a-9d0f54ab23cd",
    "deepnote_to_be_reexecuted": false,
    "source_hash": "4d3bc092",
    "execution_start": 1627099433116,
    "execution_millis": 220,
    "deepnote_cell_type": "code"
   },
   "source": "lr.fit(X, df.cluster);\nlr.coef_.shape",
   "execution_count": null,
   "outputs": [
    {
     "name": "stderr",
     "text": "/shared-libs/python3.7/py/lib/python3.7/site-packages/sklearn/linear_model/_sag.py:329: ConvergenceWarning: The max_iter was reached which means the coef_ did not converge\n  \"the coef_ did not converge\", ConvergenceWarning)\n/shared-libs/python3.7/py/lib/python3.7/site-packages/sklearn/linear_model/_sag.py:329: ConvergenceWarning: The max_iter was reached which means the coef_ did not converge\n  \"the coef_ did not converge\", ConvergenceWarning)\n/shared-libs/python3.7/py/lib/python3.7/site-packages/sklearn/linear_model/_sag.py:329: ConvergenceWarning: The max_iter was reached which means the coef_ did not converge\n  \"the coef_ did not converge\", ConvergenceWarning)\n/shared-libs/python3.7/py/lib/python3.7/site-packages/sklearn/linear_model/_sag.py:329: ConvergenceWarning: The max_iter was reached which means the coef_ did not converge\n  \"the coef_ did not converge\", ConvergenceWarning)\n",
     "output_type": "stream"
    },
    {
     "output_type": "execute_result",
     "execution_count": 29,
     "data": {
      "text/plain": "(5, 2502)"
     },
     "metadata": {}
    }
   ]
  },
  {
   "cell_type": "code",
   "metadata": {
    "tags": [],
    "cell_id": "00016-f2229f4a-3edc-42d1-a1e4-a8e756dead89",
    "deepnote_to_be_reexecuted": false,
    "source_hash": "4d717cfd",
    "execution_start": 1627099435436,
    "execution_millis": 4,
    "deepnote_cell_type": "code"
   },
   "source": "def get_important_words(cluster, lr, vectorizer, n=10):\n    inv_vocab = {v:k for k,v in vectorizer.vocabulary_.items()}\n    coef = lr.coef_[cluster]\n    top_n = coef.argsort()[-n:][::-1]\n    print([(inv_vocab[k], coef[k]) for k in top_n])",
   "execution_count": null,
   "outputs": []
  },
  {
   "cell_type": "code",
   "metadata": {
    "tags": [],
    "cell_id": "00017-8455beb2-afb2-4b0e-b66c-ef34698db366",
    "deepnote_to_be_reexecuted": false,
    "source_hash": "90f0eb61",
    "execution_start": 1627099436439,
    "execution_millis": 15,
    "deepnote_cell_type": "code"
   },
   "source": "for c in sorted(df.cluster.unique()):\n    print(f\"Cluster: {c}\")\n    get_important_words(cluster=c, lr=lr, vectorizer=vectorizer, n=10)\n    print(126*\"#\")",
   "execution_count": null,
   "outputs": [
    {
     "name": "stdout",
     "text": "Cluster: 0\n[('health', 9.761323449019645), ('methods', 6.0339646182494375), ('communication', 5.748201520978229), ('healthcare', 5.61735384406795), ('increasing', 5.531542209715788), ('deluge', 5.164560165420196), ('spatial', 3.6458737386694775), ('biomedical', 3.496601574249896), ('information', 3.3271256973621894), ('qualified', 3.2448514690507664)]\n##############################################################################################################################\nCluster: 1\n[('business', 15.593743799749983), ('analytics', 13.651869229110009), ('talent', 5.13511016066039), ('marketing', 4.314342902556408), ('big', 3.891360792107432), ('urban', 2.898426289049795), ('practical', 2.764544257073721), ('carry', 2.202545056747543), ('centric', 1.7651232418942497), ('storage', 1.5753822851356105)]\n##############################################################################################################################\nCluster: 2\n[('intelligence', 11.637919038627125), ('ai', 10.358175601618292), ('artificial', 8.095726689776924), ('civic', 5.007163826250897), ('department', 2.6413133258151684), ('machine', 2.631797442630303), ('opportunity', 2.3069078591708796), ('course', 2.2667323999970495), ('bfa', 2.085994039840109), ('observing', 1.5966603129620613)]\n##############################################################################################################################\nCluster: 3\n[('inferred', 5.982700757610853), ('zillow', 0.0), ('estimate', 0.0), ('evaluate', 0.0), ('ethics', 0.0), ('ethical', 0.0), ('etc', 0.0), ('estimation', 0.0), ('estimates', 0.0), ('estimated', 0.0)]\n##############################################################################################################################\nCluster: 4\n[('science', 9.491291559071767), ('field', 5.55829762472216), ('policy', 4.462698315693179), ('interdisciplinary', 4.210056818781302), ('mit', 3.9822828828951824), ('social', 3.9619055604516817), ('daan', 3.890920165049632), ('political', 3.738624383757859), ('program', 3.101268371351943), ('large', 2.985107482036539)]\n##############################################################################################################################\n",
     "output_type": "stream"
    }
   ]
  },
  {
   "cell_type": "code",
   "metadata": {
    "tags": [],
    "cell_id": "00018-2a69acae-edb9-44cf-9959-c436a37fbfe2",
    "deepnote_cell_type": "code"
   },
   "source": "",
   "execution_count": null,
   "outputs": []
  },
  {
   "cell_type": "markdown",
   "source": "<a style='text-decoration:none;line-height:16px;display:flex;color:#5B5B62;padding:10px;justify-content:end;' href='https://deepnote.com?utm_source=created-in-deepnote-cell&projectId=596b9f0a-2431-4aa3-878c-95287ebfbe9a' target=\"_blank\">\n<img alt='Created in deepnote.com' style='display:inline;max-height:16px;margin:0px;margin-right:7.5px;' src='data:image/svg+xml;base64,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' > </img>\nCreated in <span style='font-weight:600;margin-left:4px;'>Deepnote</span></a>",
   "metadata": {
    "tags": [],
    "created_in_deepnote_cell": true,
    "deepnote_cell_type": "markdown"
   }
  }
 ],
 "nbformat": 4,
 "nbformat_minor": 2,
 "metadata": {
  "orig_nbformat": 2,
  "deepnote": {
   "is_reactive": false
  },
  "deepnote_notebook_id": "0a9ed7ec-c53f-4549-900f-cdaefa13c32a",
  "deepnote_execution_queue": []
 }
}