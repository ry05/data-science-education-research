{
 "cells": [
  {
   "cell_type": "markdown",
   "source": "# Analyzing Programs",
   "metadata": {
    "cell_id": "00000-d714bd4f-082f-4c29-b0b6-6f78df9b171c",
    "deepnote_cell_type": "markdown"
   }
  },
  {
   "cell_type": "code",
   "metadata": {
    "cell_id": "00001-a03a043c-d00a-4653-85c9-ec8ebdab3515",
    "deepnote_to_be_reexecuted": false,
    "source_hash": "d83ed1ef",
    "execution_start": 1625332921358,
    "execution_millis": 19,
    "deepnote_cell_type": "code"
   },
   "source": "import os\nimport ast\nimport sys\n\nimport pandas as pd\nimport numpy as np\n\nsys.path.insert(0, \"../src\")\nimport data_manipulation as dm",
   "outputs": [],
   "execution_count": null
  },
  {
   "cell_type": "code",
   "metadata": {
    "cell_id": "00002-481df5ca-ea26-4e18-aab4-3533033d32f3",
    "deepnote_to_be_reexecuted": false,
    "source_hash": "b1235db2",
    "execution_start": 1625332923340,
    "execution_millis": 31,
    "deepnote_cell_type": "code"
   },
   "source": "data_path = \"../../data_collection/data/processed\"\n\npgm_india = pd.read_csv(os.path.join(data_path, \"india_pgms.csv\"))\npgm_usa = pd.read_csv(os.path.join(data_path, \"usa_pgms.csv\"))",
   "outputs": [],
   "execution_count": null
  },
  {
   "cell_type": "code",
   "metadata": {
    "cell_id": "00003-3c22e2e4-a1bd-43ce-84cc-79440b582ce4",
    "deepnote_to_be_reexecuted": false,
    "source_hash": "81596ceb",
    "execution_start": 1625332925406,
    "execution_millis": 137,
    "deepnote_cell_type": "code"
   },
   "source": "pgm_india.head(2)",
   "outputs": [
    {
     "output_type": "execute_result",
     "execution_count": 3,
     "data": {
      "application/vnd.deepnote.dataframe.v2+json": {
       "row_count": 2,
       "column_count": 17,
       "columns": [
        {
         "name": "uni_name",
         "dtype": "object",
         "stats": {
          "unique_count": 1,
          "nan_count": 0,
          "categories": [
           {
            "name": "Indian Institute of Science Bangalore",
            "count": 2
           }
          ]
         }
        },
        {
         "name": "pgm_name",
         "dtype": "object",
         "stats": {
          "unique_count": 2,
          "nan_count": 0,
          "categories": [
           {
            "name": "M.Tech. Computational and Data Science",
            "count": 1
           },
           {
            "name": "M.Tech. Artificial Intelligence",
            "count": 1
           }
          ]
         }
        },
        {
         "name": "dur_yrs",
         "dtype": "int64",
         "stats": {
          "unique_count": 1,
          "nan_count": 0,
          "min": "2",
          "max": "2",
          "histogram": [
           {
            "bin_start": 1.5,
            "bin_end": 1.6,
            "count": 0
           },
           {
            "bin_start": 1.6,
            "bin_end": 1.7,
            "count": 0
           },
           {
            "bin_start": 1.7,
            "bin_end": 1.8,
            "count": 0
           },
           {
            "bin_start": 1.8,
            "bin_end": 1.9,
            "count": 0
           },
           {
            "bin_start": 1.9,
            "bin_end": 2,
            "count": 0
           },
           {
            "bin_start": 2,
            "bin_end": 2.1,
            "count": 2
           },
           {
            "bin_start": 2.1,
            "bin_end": 2.2,
            "count": 0
           },
           {
            "bin_start": 2.2,
            "bin_end": 2.3,
            "count": 0
           },
           {
            "bin_start": 2.3,
            "bin_end": 2.4,
            "count": 0
           },
           {
            "bin_start": 2.4,
            "bin_end": 2.5,
            "count": 0
           }
          ]
         }
        },
        {
         "name": "type",
         "dtype": "object",
         "stats": {
          "unique_count": 1,
          "nan_count": 0,
          "categories": [
           {
            "name": "Public",
            "count": 2
           }
          ]
         }
        },
        {
         "name": "national_rank_qs",
         "dtype": "int64",
         "stats": {
          "unique_count": 1,
          "nan_count": 0,
          "min": "2",
          "max": "2",
          "histogram": [
           {
            "bin_start": 1.5,
            "bin_end": 1.6,
            "count": 0
           },
           {
            "bin_start": 1.6,
            "bin_end": 1.7,
            "count": 0
           },
           {
            "bin_start": 1.7,
            "bin_end": 1.8,
            "count": 0
           },
           {
            "bin_start": 1.8,
            "bin_end": 1.9,
            "count": 0
           },
           {
            "bin_start": 1.9,
            "bin_end": 2,
            "count": 0
           },
           {
            "bin_start": 2,
            "bin_end": 2.1,
            "count": 2
           },
           {
            "bin_start": 2.1,
            "bin_end": 2.2,
            "count": 0
           },
           {
            "bin_start": 2.2,
            "bin_end": 2.3,
            "count": 0
           },
           {
            "bin_start": 2.3,
            "bin_end": 2.4,
            "count": 0
           },
           {
            "bin_start": 2.4,
            "bin_end": 2.5,
            "count": 0
           }
          ]
         }
        },
        {
         "name": "dept_involved",
         "dtype": "object",
         "stats": {
          "unique_count": 2,
          "nan_count": 0,
          "categories": [
           {
            "name": "Department of Computational and Data Sciences",
            "count": 1
           },
           {
            "name": "Departments of Computer Science and Automation, Electrical Communication Engineering, Electrical Engineering and Electronic Systems Engineering",
            "count": 1
           }
          ]
         }
        },
        {
         "name": "location",
         "dtype": "object",
         "stats": {
          "unique_count": 1,
          "nan_count": 0,
          "categories": [
           {
            "name": "Karnataka",
            "count": 2
           }
          ]
         }
        },
        {
         "name": "url",
         "dtype": "object",
         "stats": {
          "unique_count": 2,
          "nan_count": 0,
          "categories": [
           {
            "name": "http://cds.iisc.ac.in/admissions/course-degrees/",
            "count": 1
           },
           {
            "name": "https://eecs.iisc.ac.in/mtechai/",
            "count": 1
           }
          ]
         }
        },
        {
         "name": "descr",
         "dtype": "object",
         "stats": {
          "unique_count": 2,
          "nan_count": 0,
          "categories": [
           {
            "name": "Computational Science and Data Science are interdisciplinary areas that bring together the domain specific knowledge of science and engineering with relevant areas of computing systems and formal foundations. While computational science investigates scientific computing applications that require mathematical techniques and parallel computing, data science explores data-intensive applications that use scalable statistical and machine learning methods with Big Data and Cloud platforms. These impart foundational and scalable systems skills for computational and data sciences, with advanced courses selected by students to allow specialization on methods, platforms, and applications.",
            "count": 1
           },
           {
            "name": "  Artificial Intelligence has captured the imagination of the entire world with its potential ability to solve complex societal problems of our times: universal access to healthcare and education, efficient transportation, increased efficiency in providing e-governance services to the public, etc. Focused national efforts are underway in many countries. The Government of India has initiated widespread discussion on how India should strive to be among the top nations in the world in the AI ecosystem. The two-year M.Tech. in Artificial Intelligence aims to fill the critical needs of the industry and to fill the gap in the availability of high-end AI scientists and engineers.�The vision of the M.Tech. (AI) program is to impart rigorous training in the foundations and deep technology of Artificial Intelligence to produce graduates who can become world leaders in AI and lead India's march towards leadership in this important area. Curriculum tailored to bring students to the forefront of AI research and development.\nProgramme designed and administered by more than 30 faculty members working in leading edge topics in AI (https://ai.iisc.ac.in/).\nOne year research and development project to make our students the creators of futuristic applications of AI.\nEmphasis on publications, patents, products, and software.\nState-of-the-art computational and experimental facilities at one of the top institutions in the country.\nExcellent placement opportunities in reputed companies and industrial research labs pursuing high end, deep technology aspects of AI.",
            "count": 1
           }
          ]
         }
        },
        {
         "name": "header_tag",
         "dtype": "object",
         "stats": {
          "unique_count": 2,
          "nan_count": 0,
          "categories": [
           {
            "name": "['h1', 'h2', 'h3']",
            "count": 1
           },
           {
            "name": "['h1', 'h2']",
            "count": 1
           }
          ]
         }
        },
        {
         "name": "header_names",
         "dtype": "object",
         "stats": {
          "unique_count": 2,
          "nan_count": 0,
          "categories": [
           {
            "name": "[['\\n\\t\\t\\tCourse Degree Admissions, 2021\\t\\t'], ['M.Tech. (Computational & Data Science) Admissions, 2021'], ['About the M.Tech. (CDS) Program', 'The M.Tech. (CDS) Admission Process']]",
            "count": 1
           },
           {
            "name": "[['MTech (AI) @ IISc'], ['Admissions 2021 – Application and deadline', 'Interview', 'Highlights of the programme', 'Further Details']]",
            "count": 1
           }
          ]
         }
        },
        {
         "name": "links",
         "dtype": "object",
         "stats": {
          "unique_count": 2,
          "nan_count": 0,
          "categories": [
           {
            "name": "['https://iisc.ac.in/admissions/m-tech-m-des/', 'https://admissions.iisc.ac.in/', 'http://cds.iisc.ac.in/admissions/admissions-faq/', 'http://cds.iisc.ac.in/wp-content/uploads/MTech_CDS_Brochure_final.pdf', 'http://cds.iisc.ac.in/resources/fellowships/', 'https://cds.iisc.ac.in/wp-content/uploads/MTech_Brochure-2021.pdf', 'http://www.iisc.ac.in/admissions/', 'http://cds.iisc.ac.in/academics/mtechcds/', 'https://iisc.ac.in/admissions/m-tech-m-des', 'https://cds.iisc.ac.in/wp-content/uploads/sample-he-post-online.pdf']",
            "count": 1
           },
           {
            "name": "['https://ai.iisc.ac.in', 'https://admissions-august.iisc.ac.in/web/selectugpg.aspx', 'https://www.iisc.ac.in/admissions/', 'https://oir.iisc.ac.in/index.php/m-tech-course-program-admission/', 'https://eecs.iisc.ac.in/wp-content/uploads/2021/04/instructions.pdf', 'https://eecs.iisc.ac.in/m-tech-ai-frequently-asked-questions/', 'mailto:mtechoffice.ai@iisc.ac.in', 'https://www.csa.iisc.ac.in/', 'https://ece.iisc.ac.in/', 'http://www.ee.iisc.ac.in/', 'https://dese.iisc.ac.in/', 'https://ai.iisc.ac.in/', 'https://eecs.iisc.ac.in/mtech-ai-2019-2021/', 'https://eecs.iisc.ac.in/mtech-ai-2020-2022/', 'https://eecs.iisc.ac.in/wp-content/uploads/2021/02/MTechAICurriculum18February2021.pdf', 'https://eecs.iisc.ac.in/wp-content/uploads/2020/02/AI-Poster.pdf', 'https://eecs.iisc.ac.in/wp-content/uploads/2020/02/OnePageFlyer.pdf']",
            "count": 1
           }
          ]
         }
        },
        {
         "name": "date_pub",
         "dtype": "object",
         "stats": {
          "unique_count": 1,
          "nan_count": 0,
          "categories": [
           {
            "name": "Not inferred",
            "count": 2
           }
          ]
         }
        },
        {
         "name": "date_last_mod",
         "dtype": "object",
         "stats": {
          "unique_count": 1,
          "nan_count": 0,
          "categories": [
           {
            "name": "Not inferred",
            "count": 2
           }
          ]
         }
        },
        {
         "name": "html_tags",
         "dtype": "object",
         "stats": {
          "unique_count": 2,
          "nan_count": 0,
          "categories": [
           {
            "name": "['header', 'h1', 'div', 'ul', 'li', 'span', 'strong', 'a', 'li', 'span', 'strong', 'a', 'li', 'span', 'strong', 'a', 'h2', 'p', 'strong', 'a', 'p', 'a', 'p', 'a', 'em', 'strong', 'p', 'strong', 'ul', 'li', 'a', 'li', 'span', 'a', 'li', 'span', 'ul', 'li', 'span', 'li', 'span', 'ul', 'li', 'li', 'b', 'b', 'strong', 'li', 'b', 'li', 'li', 'li', 'li', 'span', 'span', 'i', 'i', 'span', 'h3', 'p', 'p', 'a', 'h3', 'b', 'ul', 'li', 'a', 'li', 'li', 'a', 'li', 'i', 'li', 'li', 'li', 'li', 'ul', 'li', 'span', 'i', 'i', 'li', 'span', 'i', 'li', 'a', 'li', 'i', 'i', 'p', 'a', 'p', 'b', 'p', 'b', 'i', 'span']",
            "count": 1
           },
           {
            "name": "['h1', 'p', 'img', 'p', 'strong', 'a', 'p', 'h2', 'strong', 'p', 'a', 'p', 'p', 'strong', 'sup', 'p', 'strong', 'strong', 'strong', 'strong', 'a', 'p', 'strong', 'strong', 'a', 'h2', 'strong', 'p', 'strong', 'span', 'span', 'p', 'strong', 'p', 'strong', 'p', 'p', 'strong', 'a', 'p', 'span', 'img', 'p', 'strong', 'a', 'a', 'h2', 'ol', 'li', 'a', 'a', 'a', 'a', 'li', 'li', 'a', 'li', 'li', 'li', 'li', 'div', 'h2', 'p', 'a', 'p', 'a', 'p', 'a', 'a', 'a']",
            "count": 1
           }
          ]
         }
        },
        {
         "name": "html_tag_freq",
         "dtype": "object",
         "stats": {
          "unique_count": 2,
          "nan_count": 0,
          "categories": [
           {
            "name": "{'header': 1, 'h1': 1, 'div': 1, 'ul': 6, 'li': 27, 'span': 13, 'strong': 7, 'a': 13, 'h2': 1, 'p': 9, 'em': 1, 'b': 6, 'i': 9, 'h3': 2}",
            "count": 1
           },
           {
            "name": "{'h1': 1, 'p': 18, 'img': 2, 'strong': 15, 'a': 17, 'h2': 4, 'sup': 1, 'span': 3, 'ol': 1, 'li': 7, 'div': 1}",
            "count": 1
           }
          ]
         }
        },
        {
         "name": "html_emphasized_elements",
         "dtype": "object",
         "stats": {
          "unique_count": 2,
          "nan_count": 0,
          "categories": [
           {
            "name": "['the m.tech. (cds) admission process', 'download admissions brochure [pdf]', 'common offer acceptance portal (coap)', 'about the m.tech. (cds) program', 'programflyer', 'linear algebra/matrices, probability, and combinatorics', 'iisc online admissions application', 'iisc admissions website', 'course degree admissions, 2021', 'shortlist students', 'fluid/solid mechanics', '15 apr 2021', 'april 19-23, 2021', 'important dates:', '(https://coap.iitd.ac.in)', 'last updated on april 12, 2021', 'calculus and geometry', 'admissions faq', 'algorithms', 'data structures (arrays, matrices, etc.), and basic programming.', 'm.tech. (computational & data science) admissions, 2021', '2:30 pm – 4:00 pm', 'only with shortlisted candidates', 'for any queries/questions about admissions, please contact: chair.cds#iisc.ac.in (replace # with @)']",
            "count": 1
           },
           {
            "name": "['written test will be held online with remote login through a browser. more details:', 'n of india applicants:', 'date of written test: 15th april 2021', 'international applicants:', '23:59 ist on 31stmarch 2021', 'here', 'time: 9.00am to 10.30am', 'further details', 'e', 'mtech (ai) @ iisc', 'admissions 2021 – application and deadline', 'highlights of the programme', 'click here', 'if you have questions,please browse through thefaq to see if your question is already answered. if notplease send an email to', 'interview', 'indian and overseas citiz', 'due to the covid-19 pandemic, there will not be an interview for the candidates shortlisted based on the gate scores. instead, there will be an online test for m.tech. (artificial intelligence).the test will check the ability of the applicants.']",
            "count": 1
           }
          ]
         }
        },
        {
         "name": "_deepnote_index_column",
         "dtype": "int64"
        }
       ],
       "rows_top": [
        {
         "uni_name": "Indian Institute of Science Bangalore",
         "pgm_name": "M.Tech. Computational and Data Science",
         "dur_yrs": 2,
         "type": "Public",
         "national_rank_qs": 2,
         "dept_involved": "Department of Computational and Data Sciences",
         "location": "Karnataka",
         "url": "http://cds.iisc.ac.in/admissions/course-degrees/",
         "descr": "Computational Science and Data Science are interdisciplinary areas that bring together the domain s…",
         "header_tag": "['h1', 'h2', 'h3']",
         "header_names": "[['\\n\\t\\t\\tCourse Degree Admissions, 2021\\t\\t'], ['M.Tech. (Computational & Data Science) Admission…",
         "links": "['https://iisc.ac.in/admissions/m-tech-m-des/', 'https://admissions.iisc.ac.in/', 'http://cds.iisc.…",
         "date_pub": "Not inferred",
         "date_last_mod": "Not inferred",
         "html_tags": "['header', 'h1', 'div', 'ul', 'li', 'span', 'strong', 'a', 'li', 'span', 'strong', 'a', 'li', 'span…",
         "html_tag_freq": "{'header': 1, 'h1': 1, 'div': 1, 'ul': 6, 'li': 27, 'span': 13, 'strong': 7, 'a': 13, 'h2': 1, 'p':…",
         "html_emphasized_elements": "['the m.tech. (cds) admission process', 'download admissions brochure [pdf]', 'common offer accepta…",
         "_deepnote_index_column": 0
        },
        {
         "uni_name": "Indian Institute of Science Bangalore",
         "pgm_name": "M.Tech. Artificial Intelligence",
         "dur_yrs": 2,
         "type": "Public",
         "national_rank_qs": 2,
         "dept_involved": "Departments of Computer Science and Automation, Electrical Communication Engineering, Electrical En…",
         "location": "Karnataka",
         "url": "https://eecs.iisc.ac.in/mtechai/",
         "descr": "  Artificial Intelligence has captured the imagination of the entire world with its potential abili…",
         "header_tag": "['h1', 'h2']",
         "header_names": "[['MTech (AI) @ IISc'], ['Admissions 2021 – Application and deadline', 'Interview', 'Highlights of …",
         "links": "['https://ai.iisc.ac.in', 'https://admissions-august.iisc.ac.in/web/selectugpg.aspx', 'https://www.…",
         "date_pub": "Not inferred",
         "date_last_mod": "Not inferred",
         "html_tags": "['h1', 'p', 'img', 'p', 'strong', 'a', 'p', 'h2', 'strong', 'p', 'a', 'p', 'p', 'strong', 'sup', 'p…",
         "html_tag_freq": "{'h1': 1, 'p': 18, 'img': 2, 'strong': 15, 'a': 17, 'h2': 4, 'sup': 1, 'span': 3, 'ol': 1, 'li': 7,…",
         "html_emphasized_elements": "['written test will be held online with remote login through a browser. more details:', 'n of india…",
         "_deepnote_index_column": 1
        }
       ],
       "rows_bottom": null
      },
      "text/plain": "                                uni_name  \\\n0  Indian Institute of Science Bangalore   \n1  Indian Institute of Science Bangalore   \n\n                                 pgm_name  dur_yrs    type  national_rank_qs  \\\n0  M.Tech. Computational and Data Science        2  Public                 2   \n1         M.Tech. Artificial Intelligence        2  Public                 2   \n\n                                       dept_involved   location  \\\n0      Department of Computational and Data Sciences  Karnataka   \n1  Departments of Computer Science and Automation...  Karnataka   \n\n                                                url  \\\n0  http://cds.iisc.ac.in/admissions/course-degrees/   \n1                  https://eecs.iisc.ac.in/mtechai/   \n\n                                               descr          header_tag  \\\n0  Computational Science and Data Science are int...  ['h1', 'h2', 'h3']   \n1    Artificial Intelligence has captured the ima...        ['h1', 'h2']   \n\n                                        header_names  \\\n0  [['\\n\\t\\t\\tCourse Degree Admissions, 2021\\t\\t'...   \n1  [['MTech (AI) @ IISc'], ['Admissions 2021 – Ap...   \n\n                                               links      date_pub  \\\n0  ['https://iisc.ac.in/admissions/m-tech-m-des/'...  Not inferred   \n1  ['https://ai.iisc.ac.in', 'https://admissions-...  Not inferred   \n\n  date_last_mod                                          html_tags  \\\n0  Not inferred  ['header', 'h1', 'div', 'ul', 'li', 'span', 's...   \n1  Not inferred  ['h1', 'p', 'img', 'p', 'strong', 'a', 'p', 'h...   \n\n                                       html_tag_freq  \\\n0  {'header': 1, 'h1': 1, 'div': 1, 'ul': 6, 'li'...   \n1  {'h1': 1, 'p': 18, 'img': 2, 'strong': 15, 'a'...   \n\n                            html_emphasized_elements  \n0  ['the m.tech. (cds) admission process', 'downl...  \n1  ['written test will be held online with remote...  ",
      "text/html": "<div>\n<style scoped>\n    .dataframe tbody tr th:only-of-type {\n        vertical-align: middle;\n    }\n\n    .dataframe tbody tr th {\n        vertical-align: top;\n    }\n\n    .dataframe thead th {\n        text-align: right;\n    }\n</style>\n<table border=\"1\" class=\"dataframe\">\n  <thead>\n    <tr style=\"text-align: right;\">\n      <th></th>\n      <th>uni_name</th>\n      <th>pgm_name</th>\n      <th>dur_yrs</th>\n      <th>type</th>\n      <th>national_rank_qs</th>\n      <th>dept_involved</th>\n      <th>location</th>\n      <th>url</th>\n      <th>descr</th>\n      <th>header_tag</th>\n      <th>header_names</th>\n      <th>links</th>\n      <th>date_pub</th>\n      <th>date_last_mod</th>\n      <th>html_tags</th>\n      <th>html_tag_freq</th>\n      <th>html_emphasized_elements</th>\n    </tr>\n  </thead>\n  <tbody>\n    <tr>\n      <th>0</th>\n      <td>Indian Institute of Science Bangalore</td>\n      <td>M.Tech. Computational and Data Science</td>\n      <td>2</td>\n      <td>Public</td>\n      <td>2</td>\n      <td>Department of Computational and Data Sciences</td>\n      <td>Karnataka</td>\n      <td>http://cds.iisc.ac.in/admissions/course-degrees/</td>\n      <td>Computational Science and Data Science are int...</td>\n      <td>['h1', 'h2', 'h3']</td>\n      <td>[['\\n\\t\\t\\tCourse Degree Admissions, 2021\\t\\t'...</td>\n      <td>['https://iisc.ac.in/admissions/m-tech-m-des/'...</td>\n      <td>Not inferred</td>\n      <td>Not inferred</td>\n      <td>['header', 'h1', 'div', 'ul', 'li', 'span', 's...</td>\n      <td>{'header': 1, 'h1': 1, 'div': 1, 'ul': 6, 'li'...</td>\n      <td>['the m.tech. (cds) admission process', 'downl...</td>\n    </tr>\n    <tr>\n      <th>1</th>\n      <td>Indian Institute of Science Bangalore</td>\n      <td>M.Tech. Artificial Intelligence</td>\n      <td>2</td>\n      <td>Public</td>\n      <td>2</td>\n      <td>Departments of Computer Science and Automation...</td>\n      <td>Karnataka</td>\n      <td>https://eecs.iisc.ac.in/mtechai/</td>\n      <td>Artificial Intelligence has captured the ima...</td>\n      <td>['h1', 'h2']</td>\n      <td>[['MTech (AI) @ IISc'], ['Admissions 2021 – Ap...</td>\n      <td>['https://ai.iisc.ac.in', 'https://admissions-...</td>\n      <td>Not inferred</td>\n      <td>Not inferred</td>\n      <td>['h1', 'p', 'img', 'p', 'strong', 'a', 'p', 'h...</td>\n      <td>{'h1': 1, 'p': 18, 'img': 2, 'strong': 15, 'a'...</td>\n      <td>['written test will be held online with remote...</td>\n    </tr>\n  </tbody>\n</table>\n</div>"
     },
     "metadata": {}
    }
   ],
   "execution_count": null
  },
  {
   "cell_type": "markdown",
   "source": "---",
   "metadata": {
    "cell_id": "00004-6d09efac-68a1-4d6e-bea8-d15e08cc2403",
    "deepnote_cell_type": "markdown"
   }
  },
  {
   "cell_type": "markdown",
   "source": "## Replace missing values\n",
   "metadata": {
    "cell_id": "00005-ef03faaf-4104-4f5d-b49f-e6fac7c7e6aa",
    "deepnote_cell_type": "markdown"
   }
  },
  {
   "cell_type": "code",
   "metadata": {
    "cell_id": "00006-d105c62c-ec0d-479b-8c1c-7d8c99c382e6",
    "deepnote_to_be_reexecuted": false,
    "source_hash": "32bf8038",
    "execution_start": 1625332928534,
    "execution_millis": 9,
    "deepnote_cell_type": "code"
   },
   "source": "pgm_india = pgm_india.fillna('[\"Not inferred\"]')\npgm_india.header_tag = pgm_india.header_tag.apply(lambda x: ast.literal_eval(x))\npgm_india.header_names = pgm_india.header_names.apply(lambda x: ast.literal_eval(x))",
   "outputs": [],
   "execution_count": null
  },
  {
   "cell_type": "markdown",
   "source": "---",
   "metadata": {
    "cell_id": "00007-8327324a-475c-4e74-ac5a-9ba95937e002",
    "deepnote_cell_type": "markdown"
   }
  },
  {
   "cell_type": "markdown",
   "source": "## Map tags to associated texts - Create `tag_name`",
   "metadata": {
    "cell_id": "00008-1220b0e1-827b-4461-9eae-d014f8c2e282",
    "deepnote_cell_type": "markdown"
   }
  },
  {
   "cell_type": "code",
   "metadata": {
    "cell_id": "00009-d1c8ea30-4a2f-4a78-880f-f953362a1a2f",
    "deepnote_to_be_reexecuted": false,
    "source_hash": "5a151085",
    "execution_start": 1625332931169,
    "execution_millis": 20,
    "deepnote_cell_type": "code"
   },
   "source": "pgm_india[\"tag_name\"] = pgm_india.apply(lambda x: dm.header_operations(x.header_tag, x.header_names), axis=1)",
   "outputs": [],
   "execution_count": null
  },
  {
   "cell_type": "code",
   "metadata": {
    "cell_id": "00010-dacbcc62-3df4-4dfc-8e28-538f56ea2a23",
    "deepnote_to_be_reexecuted": false,
    "source_hash": "81596ceb",
    "execution_start": 1625332931857,
    "execution_millis": 206,
    "deepnote_cell_type": "code"
   },
   "source": "pgm_india.head(2)",
   "outputs": [
    {
     "output_type": "execute_result",
     "execution_count": 6,
     "data": {
      "application/vnd.deepnote.dataframe.v2+json": {
       "row_count": 2,
       "column_count": 18,
       "columns": [
        {
         "name": "uni_name",
         "dtype": "object",
         "stats": {
          "unique_count": 1,
          "nan_count": 0,
          "categories": [
           {
            "name": "Indian Institute of Science Bangalore",
            "count": 2
           }
          ]
         }
        },
        {
         "name": "pgm_name",
         "dtype": "object",
         "stats": {
          "unique_count": 2,
          "nan_count": 0,
          "categories": [
           {
            "name": "M.Tech. Computational and Data Science",
            "count": 1
           },
           {
            "name": "M.Tech. Artificial Intelligence",
            "count": 1
           }
          ]
         }
        },
        {
         "name": "dur_yrs",
         "dtype": "int64",
         "stats": {
          "unique_count": 1,
          "nan_count": 0,
          "min": "2",
          "max": "2",
          "histogram": [
           {
            "bin_start": 1.5,
            "bin_end": 1.6,
            "count": 0
           },
           {
            "bin_start": 1.6,
            "bin_end": 1.7,
            "count": 0
           },
           {
            "bin_start": 1.7,
            "bin_end": 1.8,
            "count": 0
           },
           {
            "bin_start": 1.8,
            "bin_end": 1.9,
            "count": 0
           },
           {
            "bin_start": 1.9,
            "bin_end": 2,
            "count": 0
           },
           {
            "bin_start": 2,
            "bin_end": 2.1,
            "count": 2
           },
           {
            "bin_start": 2.1,
            "bin_end": 2.2,
            "count": 0
           },
           {
            "bin_start": 2.2,
            "bin_end": 2.3,
            "count": 0
           },
           {
            "bin_start": 2.3,
            "bin_end": 2.4,
            "count": 0
           },
           {
            "bin_start": 2.4,
            "bin_end": 2.5,
            "count": 0
           }
          ]
         }
        },
        {
         "name": "type",
         "dtype": "object",
         "stats": {
          "unique_count": 1,
          "nan_count": 0,
          "categories": [
           {
            "name": "Public",
            "count": 2
           }
          ]
         }
        },
        {
         "name": "national_rank_qs",
         "dtype": "int64",
         "stats": {
          "unique_count": 1,
          "nan_count": 0,
          "min": "2",
          "max": "2",
          "histogram": [
           {
            "bin_start": 1.5,
            "bin_end": 1.6,
            "count": 0
           },
           {
            "bin_start": 1.6,
            "bin_end": 1.7,
            "count": 0
           },
           {
            "bin_start": 1.7,
            "bin_end": 1.8,
            "count": 0
           },
           {
            "bin_start": 1.8,
            "bin_end": 1.9,
            "count": 0
           },
           {
            "bin_start": 1.9,
            "bin_end": 2,
            "count": 0
           },
           {
            "bin_start": 2,
            "bin_end": 2.1,
            "count": 2
           },
           {
            "bin_start": 2.1,
            "bin_end": 2.2,
            "count": 0
           },
           {
            "bin_start": 2.2,
            "bin_end": 2.3,
            "count": 0
           },
           {
            "bin_start": 2.3,
            "bin_end": 2.4,
            "count": 0
           },
           {
            "bin_start": 2.4,
            "bin_end": 2.5,
            "count": 0
           }
          ]
         }
        },
        {
         "name": "dept_involved",
         "dtype": "object",
         "stats": {
          "unique_count": 2,
          "nan_count": 0,
          "categories": [
           {
            "name": "Department of Computational and Data Sciences",
            "count": 1
           },
           {
            "name": "Departments of Computer Science and Automation, Electrical Communication Engineering, Electrical Engineering and Electronic Systems Engineering",
            "count": 1
           }
          ]
         }
        },
        {
         "name": "location",
         "dtype": "object",
         "stats": {
          "unique_count": 1,
          "nan_count": 0,
          "categories": [
           {
            "name": "Karnataka",
            "count": 2
           }
          ]
         }
        },
        {
         "name": "url",
         "dtype": "object",
         "stats": {
          "unique_count": 2,
          "nan_count": 0,
          "categories": [
           {
            "name": "http://cds.iisc.ac.in/admissions/course-degrees/",
            "count": 1
           },
           {
            "name": "https://eecs.iisc.ac.in/mtechai/",
            "count": 1
           }
          ]
         }
        },
        {
         "name": "descr",
         "dtype": "object",
         "stats": {
          "unique_count": 2,
          "nan_count": 0,
          "categories": [
           {
            "name": "Computational Science and Data Science are interdisciplinary areas that bring together the domain specific knowledge of science and engineering with relevant areas of computing systems and formal foundations. While computational science investigates scientific computing applications that require mathematical techniques and parallel computing, data science explores data-intensive applications that use scalable statistical and machine learning methods with Big Data and Cloud platforms. These impart foundational and scalable systems skills for computational and data sciences, with advanced courses selected by students to allow specialization on methods, platforms, and applications.",
            "count": 1
           },
           {
            "name": "  Artificial Intelligence has captured the imagination of the entire world with its potential ability to solve complex societal problems of our times: universal access to healthcare and education, efficient transportation, increased efficiency in providing e-governance services to the public, etc. Focused national efforts are underway in many countries. The Government of India has initiated widespread discussion on how India should strive to be among the top nations in the world in the AI ecosystem. The two-year M.Tech. in Artificial Intelligence aims to fill the critical needs of the industry and to fill the gap in the availability of high-end AI scientists and engineers.�The vision of the M.Tech. (AI) program is to impart rigorous training in the foundations and deep technology of Artificial Intelligence to produce graduates who can become world leaders in AI and lead India's march towards leadership in this important area. Curriculum tailored to bring students to the forefront of AI research and development.\nProgramme designed and administered by more than 30 faculty members working in leading edge topics in AI (https://ai.iisc.ac.in/).\nOne year research and development project to make our students the creators of futuristic applications of AI.\nEmphasis on publications, patents, products, and software.\nState-of-the-art computational and experimental facilities at one of the top institutions in the country.\nExcellent placement opportunities in reputed companies and industrial research labs pursuing high end, deep technology aspects of AI.",
            "count": 1
           }
          ]
         }
        },
        {
         "name": "header_tag",
         "dtype": "object",
         "stats": {
          "unique_count": 2,
          "nan_count": 0,
          "categories": [
           {
            "name": "['h1', 'h2', 'h3']",
            "count": 1
           },
           {
            "name": "['h1', 'h2']",
            "count": 1
           }
          ]
         }
        },
        {
         "name": "header_names",
         "dtype": "object",
         "stats": {
          "unique_count": 2,
          "nan_count": 0,
          "categories": [
           {
            "name": "[['\\n\\t\\t\\tCourse Degree Admissions, 2021\\t\\t'], ['M.Tech. (Computational & Data Science) Admissions, 2021'], ['About the M.Tech. (CDS) Program', 'The M.Tech. (CDS) Admission Process']]",
            "count": 1
           },
           {
            "name": "[['MTech (AI) @ IISc'], ['Admissions 2021 – Application and deadline', 'Interview', 'Highlights of the programme', 'Further Details']]",
            "count": 1
           }
          ]
         }
        },
        {
         "name": "links",
         "dtype": "object",
         "stats": {
          "unique_count": 2,
          "nan_count": 0,
          "categories": [
           {
            "name": "['https://iisc.ac.in/admissions/m-tech-m-des/', 'https://admissions.iisc.ac.in/', 'http://cds.iisc.ac.in/admissions/admissions-faq/', 'http://cds.iisc.ac.in/wp-content/uploads/MTech_CDS_Brochure_final.pdf', 'http://cds.iisc.ac.in/resources/fellowships/', 'https://cds.iisc.ac.in/wp-content/uploads/MTech_Brochure-2021.pdf', 'http://www.iisc.ac.in/admissions/', 'http://cds.iisc.ac.in/academics/mtechcds/', 'https://iisc.ac.in/admissions/m-tech-m-des', 'https://cds.iisc.ac.in/wp-content/uploads/sample-he-post-online.pdf']",
            "count": 1
           },
           {
            "name": "['https://ai.iisc.ac.in', 'https://admissions-august.iisc.ac.in/web/selectugpg.aspx', 'https://www.iisc.ac.in/admissions/', 'https://oir.iisc.ac.in/index.php/m-tech-course-program-admission/', 'https://eecs.iisc.ac.in/wp-content/uploads/2021/04/instructions.pdf', 'https://eecs.iisc.ac.in/m-tech-ai-frequently-asked-questions/', 'mailto:mtechoffice.ai@iisc.ac.in', 'https://www.csa.iisc.ac.in/', 'https://ece.iisc.ac.in/', 'http://www.ee.iisc.ac.in/', 'https://dese.iisc.ac.in/', 'https://ai.iisc.ac.in/', 'https://eecs.iisc.ac.in/mtech-ai-2019-2021/', 'https://eecs.iisc.ac.in/mtech-ai-2020-2022/', 'https://eecs.iisc.ac.in/wp-content/uploads/2021/02/MTechAICurriculum18February2021.pdf', 'https://eecs.iisc.ac.in/wp-content/uploads/2020/02/AI-Poster.pdf', 'https://eecs.iisc.ac.in/wp-content/uploads/2020/02/OnePageFlyer.pdf']",
            "count": 1
           }
          ]
         }
        },
        {
         "name": "date_pub",
         "dtype": "object",
         "stats": {
          "unique_count": 1,
          "nan_count": 0,
          "categories": [
           {
            "name": "Not inferred",
            "count": 2
           }
          ]
         }
        },
        {
         "name": "date_last_mod",
         "dtype": "object",
         "stats": {
          "unique_count": 1,
          "nan_count": 0,
          "categories": [
           {
            "name": "Not inferred",
            "count": 2
           }
          ]
         }
        },
        {
         "name": "html_tags",
         "dtype": "object",
         "stats": {
          "unique_count": 2,
          "nan_count": 0,
          "categories": [
           {
            "name": "['header', 'h1', 'div', 'ul', 'li', 'span', 'strong', 'a', 'li', 'span', 'strong', 'a', 'li', 'span', 'strong', 'a', 'h2', 'p', 'strong', 'a', 'p', 'a', 'p', 'a', 'em', 'strong', 'p', 'strong', 'ul', 'li', 'a', 'li', 'span', 'a', 'li', 'span', 'ul', 'li', 'span', 'li', 'span', 'ul', 'li', 'li', 'b', 'b', 'strong', 'li', 'b', 'li', 'li', 'li', 'li', 'span', 'span', 'i', 'i', 'span', 'h3', 'p', 'p', 'a', 'h3', 'b', 'ul', 'li', 'a', 'li', 'li', 'a', 'li', 'i', 'li', 'li', 'li', 'li', 'ul', 'li', 'span', 'i', 'i', 'li', 'span', 'i', 'li', 'a', 'li', 'i', 'i', 'p', 'a', 'p', 'b', 'p', 'b', 'i', 'span']",
            "count": 1
           },
           {
            "name": "['h1', 'p', 'img', 'p', 'strong', 'a', 'p', 'h2', 'strong', 'p', 'a', 'p', 'p', 'strong', 'sup', 'p', 'strong', 'strong', 'strong', 'strong', 'a', 'p', 'strong', 'strong', 'a', 'h2', 'strong', 'p', 'strong', 'span', 'span', 'p', 'strong', 'p', 'strong', 'p', 'p', 'strong', 'a', 'p', 'span', 'img', 'p', 'strong', 'a', 'a', 'h2', 'ol', 'li', 'a', 'a', 'a', 'a', 'li', 'li', 'a', 'li', 'li', 'li', 'li', 'div', 'h2', 'p', 'a', 'p', 'a', 'p', 'a', 'a', 'a']",
            "count": 1
           }
          ]
         }
        },
        {
         "name": "html_tag_freq",
         "dtype": "object",
         "stats": {
          "unique_count": 2,
          "nan_count": 0,
          "categories": [
           {
            "name": "{'header': 1, 'h1': 1, 'div': 1, 'ul': 6, 'li': 27, 'span': 13, 'strong': 7, 'a': 13, 'h2': 1, 'p': 9, 'em': 1, 'b': 6, 'i': 9, 'h3': 2}",
            "count": 1
           },
           {
            "name": "{'h1': 1, 'p': 18, 'img': 2, 'strong': 15, 'a': 17, 'h2': 4, 'sup': 1, 'span': 3, 'ol': 1, 'li': 7, 'div': 1}",
            "count": 1
           }
          ]
         }
        },
        {
         "name": "html_emphasized_elements",
         "dtype": "object",
         "stats": {
          "unique_count": 2,
          "nan_count": 0,
          "categories": [
           {
            "name": "['the m.tech. (cds) admission process', 'download admissions brochure [pdf]', 'common offer acceptance portal (coap)', 'about the m.tech. (cds) program', 'programflyer', 'linear algebra/matrices, probability, and combinatorics', 'iisc online admissions application', 'iisc admissions website', 'course degree admissions, 2021', 'shortlist students', 'fluid/solid mechanics', '15 apr 2021', 'april 19-23, 2021', 'important dates:', '(https://coap.iitd.ac.in)', 'last updated on april 12, 2021', 'calculus and geometry', 'admissions faq', 'algorithms', 'data structures (arrays, matrices, etc.), and basic programming.', 'm.tech. (computational & data science) admissions, 2021', '2:30 pm – 4:00 pm', 'only with shortlisted candidates', 'for any queries/questions about admissions, please contact: chair.cds#iisc.ac.in (replace # with @)']",
            "count": 1
           },
           {
            "name": "['written test will be held online with remote login through a browser. more details:', 'n of india applicants:', 'date of written test: 15th april 2021', 'international applicants:', '23:59 ist on 31stmarch 2021', 'here', 'time: 9.00am to 10.30am', 'further details', 'e', 'mtech (ai) @ iisc', 'admissions 2021 – application and deadline', 'highlights of the programme', 'click here', 'if you have questions,please browse through thefaq to see if your question is already answered. if notplease send an email to', 'interview', 'indian and overseas citiz', 'due to the covid-19 pandemic, there will not be an interview for the candidates shortlisted based on the gate scores. instead, there will be an online test for m.tech. (artificial intelligence).the test will check the ability of the applicants.']",
            "count": 1
           }
          ]
         }
        },
        {
         "name": "tag_name",
         "dtype": "object",
         "stats": {
          "unique_count": 2,
          "nan_count": 0,
          "categories": [
           {
            "name": "{'h1': ['\\n\\t\\t\\tCourse Degree Admissions, 2021\\t\\t'], 'h2': ['M.Tech. (Computational & Data Science) Admissions, 2021'], 'h3': ['About the M.Tech. (CDS) Program', 'The M.Tech. (CDS) Admission Process']}",
            "count": 1
           },
           {
            "name": "{'h1': ['MTech (AI) @ IISc'], 'h2': ['Admissions 2021 – Application and deadline', 'Interview', 'Highlights of the programme', 'Further Details']}",
            "count": 1
           }
          ]
         }
        },
        {
         "name": "_deepnote_index_column",
         "dtype": "int64"
        }
       ],
       "rows_top": [
        {
         "uni_name": "Indian Institute of Science Bangalore",
         "pgm_name": "M.Tech. Computational and Data Science",
         "dur_yrs": 2,
         "type": "Public",
         "national_rank_qs": 2,
         "dept_involved": "Department of Computational and Data Sciences",
         "location": "Karnataka",
         "url": "http://cds.iisc.ac.in/admissions/course-degrees/",
         "descr": "Computational Science and Data Science are interdisciplinary areas that bring together the domain s…",
         "header_tag": "['h1', 'h2', 'h3']",
         "header_names": "[['\\n\\t\\t\\tCourse Degree Admissions, 2021\\t\\t'], ['M.Tech. (Computational & Data Science) Admission…",
         "links": "['https://iisc.ac.in/admissions/m-tech-m-des/', 'https://admissions.iisc.ac.in/', 'http://cds.iisc.…",
         "date_pub": "Not inferred",
         "date_last_mod": "Not inferred",
         "html_tags": "['header', 'h1', 'div', 'ul', 'li', 'span', 'strong', 'a', 'li', 'span', 'strong', 'a', 'li', 'span…",
         "html_tag_freq": "{'header': 1, 'h1': 1, 'div': 1, 'ul': 6, 'li': 27, 'span': 13, 'strong': 7, 'a': 13, 'h2': 1, 'p':…",
         "html_emphasized_elements": "['the m.tech. (cds) admission process', 'download admissions brochure [pdf]', 'common offer accepta…",
         "tag_name": "{'h1': ['\\n\\t\\t\\tCourse Degree Admissions, 2021\\t\\t'], 'h2': ['M.Tech. (Computational & Data Scienc…",
         "_deepnote_index_column": 0
        },
        {
         "uni_name": "Indian Institute of Science Bangalore",
         "pgm_name": "M.Tech. Artificial Intelligence",
         "dur_yrs": 2,
         "type": "Public",
         "national_rank_qs": 2,
         "dept_involved": "Departments of Computer Science and Automation, Electrical Communication Engineering, Electrical En…",
         "location": "Karnataka",
         "url": "https://eecs.iisc.ac.in/mtechai/",
         "descr": "  Artificial Intelligence has captured the imagination of the entire world with its potential abili…",
         "header_tag": "['h1', 'h2']",
         "header_names": "[['MTech (AI) @ IISc'], ['Admissions 2021 – Application and deadline', 'Interview', 'Highlights of …",
         "links": "['https://ai.iisc.ac.in', 'https://admissions-august.iisc.ac.in/web/selectugpg.aspx', 'https://www.…",
         "date_pub": "Not inferred",
         "date_last_mod": "Not inferred",
         "html_tags": "['h1', 'p', 'img', 'p', 'strong', 'a', 'p', 'h2', 'strong', 'p', 'a', 'p', 'p', 'strong', 'sup', 'p…",
         "html_tag_freq": "{'h1': 1, 'p': 18, 'img': 2, 'strong': 15, 'a': 17, 'h2': 4, 'sup': 1, 'span': 3, 'ol': 1, 'li': 7,…",
         "html_emphasized_elements": "['written test will be held online with remote login through a browser. more details:', 'n of india…",
         "tag_name": "{'h1': ['MTech (AI) @ IISc'], 'h2': ['Admissions 2021 – Application and deadline', 'Interview', 'Hi…",
         "_deepnote_index_column": 1
        }
       ],
       "rows_bottom": null
      },
      "text/plain": "                                uni_name  \\\n0  Indian Institute of Science Bangalore   \n1  Indian Institute of Science Bangalore   \n\n                                 pgm_name  dur_yrs    type  national_rank_qs  \\\n0  M.Tech. Computational and Data Science        2  Public                 2   \n1         M.Tech. Artificial Intelligence        2  Public                 2   \n\n                                       dept_involved   location  \\\n0      Department of Computational and Data Sciences  Karnataka   \n1  Departments of Computer Science and Automation...  Karnataka   \n\n                                                url  \\\n0  http://cds.iisc.ac.in/admissions/course-degrees/   \n1                  https://eecs.iisc.ac.in/mtechai/   \n\n                                               descr    header_tag  \\\n0  Computational Science and Data Science are int...  [h1, h2, h3]   \n1    Artificial Intelligence has captured the ima...      [h1, h2]   \n\n                                        header_names  \\\n0  [[\\n\\t\\t\\tCourse Degree Admissions, 2021\\t\\t],...   \n1  [[MTech (AI) @ IISc], [Admissions 2021 – Appli...   \n\n                                               links      date_pub  \\\n0  ['https://iisc.ac.in/admissions/m-tech-m-des/'...  Not inferred   \n1  ['https://ai.iisc.ac.in', 'https://admissions-...  Not inferred   \n\n  date_last_mod                                          html_tags  \\\n0  Not inferred  ['header', 'h1', 'div', 'ul', 'li', 'span', 's...   \n1  Not inferred  ['h1', 'p', 'img', 'p', 'strong', 'a', 'p', 'h...   \n\n                                       html_tag_freq  \\\n0  {'header': 1, 'h1': 1, 'div': 1, 'ul': 6, 'li'...   \n1  {'h1': 1, 'p': 18, 'img': 2, 'strong': 15, 'a'...   \n\n                            html_emphasized_elements  \\\n0  ['the m.tech. (cds) admission process', 'downl...   \n1  ['written test will be held online with remote...   \n\n                                            tag_name  \n0  {'h1': ['\n\t\t\tCourse Degree Admissions, 2021\t\t'...  \n1  {'h1': ['MTech (AI) @ IISc'], 'h2': ['Admissio...  ",
      "text/html": "<div>\n<style scoped>\n    .dataframe tbody tr th:only-of-type {\n        vertical-align: middle;\n    }\n\n    .dataframe tbody tr th {\n        vertical-align: top;\n    }\n\n    .dataframe thead th {\n        text-align: right;\n    }\n</style>\n<table border=\"1\" class=\"dataframe\">\n  <thead>\n    <tr style=\"text-align: right;\">\n      <th></th>\n      <th>uni_name</th>\n      <th>pgm_name</th>\n      <th>dur_yrs</th>\n      <th>type</th>\n      <th>national_rank_qs</th>\n      <th>dept_involved</th>\n      <th>location</th>\n      <th>url</th>\n      <th>descr</th>\n      <th>header_tag</th>\n      <th>header_names</th>\n      <th>links</th>\n      <th>date_pub</th>\n      <th>date_last_mod</th>\n      <th>html_tags</th>\n      <th>html_tag_freq</th>\n      <th>html_emphasized_elements</th>\n      <th>tag_name</th>\n    </tr>\n  </thead>\n  <tbody>\n    <tr>\n      <th>0</th>\n      <td>Indian Institute of Science Bangalore</td>\n      <td>M.Tech. Computational and Data Science</td>\n      <td>2</td>\n      <td>Public</td>\n      <td>2</td>\n      <td>Department of Computational and Data Sciences</td>\n      <td>Karnataka</td>\n      <td>http://cds.iisc.ac.in/admissions/course-degrees/</td>\n      <td>Computational Science and Data Science are int...</td>\n      <td>[h1, h2, h3]</td>\n      <td>[[\\n\\t\\t\\tCourse Degree Admissions, 2021\\t\\t],...</td>\n      <td>['https://iisc.ac.in/admissions/m-tech-m-des/'...</td>\n      <td>Not inferred</td>\n      <td>Not inferred</td>\n      <td>['header', 'h1', 'div', 'ul', 'li', 'span', 's...</td>\n      <td>{'header': 1, 'h1': 1, 'div': 1, 'ul': 6, 'li'...</td>\n      <td>['the m.tech. (cds) admission process', 'downl...</td>\n      <td>{'h1': ['\n\t\t\tCourse Degree Admissions, 2021\t\t'...</td>\n    </tr>\n    <tr>\n      <th>1</th>\n      <td>Indian Institute of Science Bangalore</td>\n      <td>M.Tech. Artificial Intelligence</td>\n      <td>2</td>\n      <td>Public</td>\n      <td>2</td>\n      <td>Departments of Computer Science and Automation...</td>\n      <td>Karnataka</td>\n      <td>https://eecs.iisc.ac.in/mtechai/</td>\n      <td>Artificial Intelligence has captured the ima...</td>\n      <td>[h1, h2]</td>\n      <td>[[MTech (AI) @ IISc], [Admissions 2021 – Appli...</td>\n      <td>['https://ai.iisc.ac.in', 'https://admissions-...</td>\n      <td>Not inferred</td>\n      <td>Not inferred</td>\n      <td>['h1', 'p', 'img', 'p', 'strong', 'a', 'p', 'h...</td>\n      <td>{'h1': 1, 'p': 18, 'img': 2, 'strong': 15, 'a'...</td>\n      <td>['written test will be held online with remote...</td>\n      <td>{'h1': ['MTech (AI) @ IISc'], 'h2': ['Admissio...</td>\n    </tr>\n  </tbody>\n</table>\n</div>"
     },
     "metadata": {}
    }
   ],
   "execution_count": null
  },
  {
   "cell_type": "markdown",
   "source": "---",
   "metadata": {
    "cell_id": "00011-2c61d1aa-eabc-4098-8649-7aeadfb6ebab",
    "deepnote_cell_type": "markdown"
   }
  },
  {
   "cell_type": "markdown",
   "source": "## Description analysis - Trial",
   "metadata": {
    "cell_id": "00012-2970995a-89c7-4c20-a426-b696dd3dc6b7",
    "deepnote_cell_type": "markdown"
   }
  },
  {
   "cell_type": "code",
   "source": "import textacy",
   "metadata": {
    "tags": [],
    "cell_id": "00013-92a5b339-3bc0-4898-b958-c6fc7b620e7d",
    "deepnote_to_be_reexecuted": false,
    "source_hash": "58d01355",
    "execution_start": 1625333040013,
    "execution_millis": 10912,
    "deepnote_cell_type": "code"
   },
   "outputs": [],
   "execution_count": null
  },
  {
   "cell_type": "code",
   "source": "from textblob import TextBlob",
   "metadata": {
    "tags": [],
    "cell_id": "00014-30acdaa5-6317-4427-9eaa-fb46ac0b4ca6",
    "deepnote_to_be_reexecuted": false,
    "source_hash": "7f766a08",
    "execution_start": 1625333405387,
    "execution_millis": 15,
    "deepnote_cell_type": "code"
   },
   "outputs": [],
   "execution_count": null
  },
  {
   "cell_type": "code",
   "source": "text = pgm_india.descr[1]\nprint(text)",
   "metadata": {
    "tags": [],
    "cell_id": "00014-d9cdf20a-7f06-4c34-9679-81af86482955",
    "deepnote_to_be_reexecuted": false,
    "source_hash": "f700e6db",
    "execution_start": 1625334043582,
    "execution_millis": 13,
    "deepnote_cell_type": "code"
   },
   "outputs": [
    {
     "name": "stdout",
     "text": "  Artificial Intelligence has captured the imagination of the entire world with its potential ability to solve complex societal problems of our times: universal access to healthcare and education, efficient transportation, increased efficiency in providing e-governance services to the public, etc. Focused national efforts are underway in many countries. The Government of India has initiated widespread discussion on how India should strive to be among the top nations in the world in the AI ecosystem. The two-year M.Tech. in Artificial Intelligence aims to fill the critical needs of the industry and to fill the gap in the availability of high-end AI scientists and engineers.�The vision of the M.Tech. (AI) program is to impart rigorous training in the foundations and deep technology of Artificial Intelligence to produce graduates who can become world leaders in AI and lead India's march towards leadership in this important area. Curriculum tailored to bring students to the forefront of AI research and development.\nProgramme designed and administered by more than 30 faculty members working in leading edge topics in AI (https://ai.iisc.ac.in/).\nOne year research and development project to make our students the creators of futuristic applications of AI.\nEmphasis on publications, patents, products, and software.\nState-of-the-art computational and experimental facilities at one of the top institutions in the country.\nExcellent placement opportunities in reputed companies and industrial research labs pursuing high end, deep technology aspects of AI.\n",
     "output_type": "stream"
    }
   ],
   "execution_count": null
  },
  {
   "cell_type": "code",
   "source": "blob = TextBlob(text)\nblob.sentiment",
   "metadata": {
    "tags": [],
    "cell_id": "00015-237120cd-b5ff-4a97-bed0-8911da2b1ae5",
    "deepnote_to_be_reexecuted": false,
    "source_hash": "eaec658f",
    "execution_start": 1625334064806,
    "execution_millis": 4,
    "deepnote_cell_type": "code"
   },
   "outputs": [
    {
     "output_type": "execute_result",
     "execution_count": 22,
     "data": {
      "text/plain": "Sentiment(polarity=0.08210526315789474, subjectivity=0.6121929824561404)"
     },
     "metadata": {}
    }
   ],
   "execution_count": null
  },
  {
   "cell_type": "markdown",
   "source": "- Preprocess the text\n- Things to analyze\n    - Word lengths and number of sentences\n    - POS tags (ratios)\n    - Program description subjectivity\n    - Existence of spelling mistakes (how to identify?)",
   "metadata": {
    "tags": [],
    "cell_id": "00018-a60dd4f8-0b5b-451e-bf62-aade3e942ab3",
    "deepnote_cell_type": "markdown"
   }
  },
  {
   "cell_type": "markdown",
   "source": "",
   "metadata": {
    "tags": [],
    "cell_id": "00018-e3ebee6c-fc5a-4a7c-9407-0a42ea868b4f",
    "deepnote_cell_type": "markdown"
   }
  },
  {
   "cell_type": "markdown",
   "source": "<a style='text-decoration:none;line-height:16px;display:flex;color:#5B5B62;padding:10px;justify-content:end;' href='https://deepnote.com?utm_source=created-in-deepnote-cell&projectId=596b9f0a-2431-4aa3-878c-95287ebfbe9a' target=\"_blank\">\n<img alt='Created in deepnote.com' style='display:inline;max-height:16px;margin:0px;margin-right:7.5px;' src='data:image/svg+xml;base64,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' > </img>\nCreated in <span style='font-weight:600;margin-left:4px;'>Deepnote</span></a>",
   "metadata": {
    "tags": [],
    "created_in_deepnote_cell": true,
    "deepnote_cell_type": "markdown"
   }
  }
 ],
 "nbformat": 4,
 "nbformat_minor": 2,
 "metadata": {
  "interpreter": {
   "hash": "c236e00cb2504b8feadf115dc1fb937fdc1f15d4b269bc00694bd48dbccf7690"
  },
  "kernelspec": {
   "display_name": "Python 3.8.10 64-bit ('capstone_project': conda)",
   "name": "python3"
  },
  "language_info": {
   "codemirror_mode": {
    "name": "ipython",
    "version": 3
   },
   "file_extension": ".py",
   "mimetype": "text/x-python",
   "name": "python",
   "nbconvert_exporter": "python",
   "pygments_lexer": "ipython3",
   "version": "3.8.10"
  },
  "orig_nbformat": 4,
  "deepnote_notebook_id": "0220f987-cfd2-4caa-9282-bf44e43544eb",
  "deepnote": {},
  "deepnote_execution_queue": []
 }
}