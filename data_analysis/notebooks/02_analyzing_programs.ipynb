{
 "cells": [
  {
   "cell_type": "markdown",
   "metadata": {},
   "source": [
    "# Analyzing Programs"
   ]
  },
  {
   "cell_type": "code",
   "execution_count": 117,
   "metadata": {},
   "outputs": [],
   "source": [
    "import os\r\n",
    "import ast\r\n",
    "import sys\r\n",
    "\r\n",
    "import pandas as pd\r\n",
    "import numpy as np\r\n",
    "\r\n",
    "sys.path.insert(0, \"../src\")\r\n",
    "import data_manipulation as dm"
   ]
  },
  {
   "cell_type": "code",
   "execution_count": 118,
   "metadata": {},
   "outputs": [],
   "source": [
    "data_path = \"../../data_collection/data/processed\"\r\n",
    "\r\n",
    "pgm_india = pd.read_csv(os.path.join(data_path, \"india_pgms.csv\"))\r\n",
    "pgm_usa = pd.read_csv(os.path.join(data_path, \"usa_pgms.csv\"))"
   ]
  },
  {
   "cell_type": "code",
   "execution_count": 119,
   "metadata": {},
   "outputs": [
    {
     "data": {
      "text/html": [
       "<div>\n",
       "<style scoped>\n",
       "    .dataframe tbody tr th:only-of-type {\n",
       "        vertical-align: middle;\n",
       "    }\n",
       "\n",
       "    .dataframe tbody tr th {\n",
       "        vertical-align: top;\n",
       "    }\n",
       "\n",
       "    .dataframe thead th {\n",
       "        text-align: right;\n",
       "    }\n",
       "</style>\n",
       "<table border=\"1\" class=\"dataframe\">\n",
       "  <thead>\n",
       "    <tr style=\"text-align: right;\">\n",
       "      <th></th>\n",
       "      <th>uni_name</th>\n",
       "      <th>pgm_name</th>\n",
       "      <th>dur_yrs</th>\n",
       "      <th>type</th>\n",
       "      <th>national_rank_qs</th>\n",
       "      <th>dept_involved</th>\n",
       "      <th>location</th>\n",
       "      <th>url</th>\n",
       "      <th>descr</th>\n",
       "      <th>header_tag</th>\n",
       "      <th>header_names</th>\n",
       "      <th>links</th>\n",
       "      <th>date_pub</th>\n",
       "      <th>date_last_mod</th>\n",
       "      <th>html_tags</th>\n",
       "      <th>html_tag_freq</th>\n",
       "      <th>html_emphasized_elements</th>\n",
       "    </tr>\n",
       "  </thead>\n",
       "  <tbody>\n",
       "    <tr>\n",
       "      <th>0</th>\n",
       "      <td>Indian Institute of Science Bangalore</td>\n",
       "      <td>M.Tech. Computational and Data Science</td>\n",
       "      <td>2</td>\n",
       "      <td>Public</td>\n",
       "      <td>2</td>\n",
       "      <td>Department of Computational and Data Sciences</td>\n",
       "      <td>Karnataka</td>\n",
       "      <td>http://cds.iisc.ac.in/admissions/course-degrees/</td>\n",
       "      <td>Computational Science and Data Science are int...</td>\n",
       "      <td>['h1', 'h2', 'h3']</td>\n",
       "      <td>[['\\n\\t\\t\\tCourse Degree Admissions, 2021\\t\\t'...</td>\n",
       "      <td>['https://iisc.ac.in/admissions/m-tech-m-des/'...</td>\n",
       "      <td>Not inferred</td>\n",
       "      <td>Not inferred</td>\n",
       "      <td>['header', 'h1', 'div', 'ul', 'li', 'span', 's...</td>\n",
       "      <td>{'header': 1, 'h1': 1, 'div': 1, 'ul': 6, 'li'...</td>\n",
       "      <td>['the m.tech. (cds) admission process', 'downl...</td>\n",
       "    </tr>\n",
       "    <tr>\n",
       "      <th>1</th>\n",
       "      <td>Indian Institute of Science Bangalore</td>\n",
       "      <td>M.Tech. Artificial Intelligence</td>\n",
       "      <td>2</td>\n",
       "      <td>Public</td>\n",
       "      <td>2</td>\n",
       "      <td>Departments of Computer Science and Automation...</td>\n",
       "      <td>Karnataka</td>\n",
       "      <td>https://eecs.iisc.ac.in/mtechai/</td>\n",
       "      <td>Artificial Intelligence has captured the ima...</td>\n",
       "      <td>['h1', 'h2']</td>\n",
       "      <td>[['MTech (AI) @ IISc'], ['Admissions 2021 – Ap...</td>\n",
       "      <td>['https://ai.iisc.ac.in', 'https://admissions-...</td>\n",
       "      <td>Not inferred</td>\n",
       "      <td>Not inferred</td>\n",
       "      <td>['h1', 'p', 'img', 'p', 'strong', 'a', 'p', 'h...</td>\n",
       "      <td>{'h1': 1, 'p': 18, 'img': 2, 'strong': 15, 'a'...</td>\n",
       "      <td>['written test will be held online with remote...</td>\n",
       "    </tr>\n",
       "  </tbody>\n",
       "</table>\n",
       "</div>"
      ],
      "text/plain": [
       "                                uni_name  \\\n",
       "0  Indian Institute of Science Bangalore   \n",
       "1  Indian Institute of Science Bangalore   \n",
       "\n",
       "                                 pgm_name  dur_yrs    type  national_rank_qs  \\\n",
       "0  M.Tech. Computational and Data Science        2  Public                 2   \n",
       "1         M.Tech. Artificial Intelligence        2  Public                 2   \n",
       "\n",
       "                                       dept_involved   location  \\\n",
       "0      Department of Computational and Data Sciences  Karnataka   \n",
       "1  Departments of Computer Science and Automation...  Karnataka   \n",
       "\n",
       "                                                url  \\\n",
       "0  http://cds.iisc.ac.in/admissions/course-degrees/   \n",
       "1                  https://eecs.iisc.ac.in/mtechai/   \n",
       "\n",
       "                                               descr          header_tag  \\\n",
       "0  Computational Science and Data Science are int...  ['h1', 'h2', 'h3']   \n",
       "1    Artificial Intelligence has captured the ima...        ['h1', 'h2']   \n",
       "\n",
       "                                        header_names  \\\n",
       "0  [['\\n\\t\\t\\tCourse Degree Admissions, 2021\\t\\t'...   \n",
       "1  [['MTech (AI) @ IISc'], ['Admissions 2021 – Ap...   \n",
       "\n",
       "                                               links      date_pub  \\\n",
       "0  ['https://iisc.ac.in/admissions/m-tech-m-des/'...  Not inferred   \n",
       "1  ['https://ai.iisc.ac.in', 'https://admissions-...  Not inferred   \n",
       "\n",
       "  date_last_mod                                          html_tags  \\\n",
       "0  Not inferred  ['header', 'h1', 'div', 'ul', 'li', 'span', 's...   \n",
       "1  Not inferred  ['h1', 'p', 'img', 'p', 'strong', 'a', 'p', 'h...   \n",
       "\n",
       "                                       html_tag_freq  \\\n",
       "0  {'header': 1, 'h1': 1, 'div': 1, 'ul': 6, 'li'...   \n",
       "1  {'h1': 1, 'p': 18, 'img': 2, 'strong': 15, 'a'...   \n",
       "\n",
       "                            html_emphasized_elements  \n",
       "0  ['the m.tech. (cds) admission process', 'downl...  \n",
       "1  ['written test will be held online with remote...  "
      ]
     },
     "execution_count": 119,
     "metadata": {},
     "output_type": "execute_result"
    }
   ],
   "source": [
    "pgm_india.head(2)"
   ]
  },
  {
   "cell_type": "markdown",
   "metadata": {},
   "source": [
    "---"
   ]
  },
  {
   "cell_type": "markdown",
   "metadata": {},
   "source": [
    "## Replace missing values\r\n"
   ]
  },
  {
   "cell_type": "code",
   "execution_count": 120,
   "metadata": {},
   "outputs": [],
   "source": [
    "pgm_india = pgm_india.fillna('[\"Not inferred\"]')\r\n",
    "pgm_india.header_tag = pgm_india.header_tag.apply(lambda x: ast.literal_eval(x))\r\n",
    "pgm_india.header_names = pgm_india.header_names.apply(lambda x: ast.literal_eval(x))"
   ]
  },
  {
   "cell_type": "markdown",
   "metadata": {},
   "source": [
    "---"
   ]
  },
  {
   "cell_type": "markdown",
   "metadata": {},
   "source": [
    "## Map tags to associated texts - Create `tag_name`"
   ]
  },
  {
   "cell_type": "code",
   "execution_count": 121,
   "metadata": {},
   "outputs": [],
   "source": [
    "pgm_india[\"tag_name\"] = pgm_india.apply(lambda x: dm.header_operations(x.header_tag, x.header_names), axis=1)"
   ]
  },
  {
   "cell_type": "code",
   "execution_count": 123,
   "metadata": {},
   "outputs": [
    {
     "data": {
      "text/html": [
       "<div>\n",
       "<style scoped>\n",
       "    .dataframe tbody tr th:only-of-type {\n",
       "        vertical-align: middle;\n",
       "    }\n",
       "\n",
       "    .dataframe tbody tr th {\n",
       "        vertical-align: top;\n",
       "    }\n",
       "\n",
       "    .dataframe thead th {\n",
       "        text-align: right;\n",
       "    }\n",
       "</style>\n",
       "<table border=\"1\" class=\"dataframe\">\n",
       "  <thead>\n",
       "    <tr style=\"text-align: right;\">\n",
       "      <th></th>\n",
       "      <th>uni_name</th>\n",
       "      <th>pgm_name</th>\n",
       "      <th>dur_yrs</th>\n",
       "      <th>type</th>\n",
       "      <th>national_rank_qs</th>\n",
       "      <th>dept_involved</th>\n",
       "      <th>location</th>\n",
       "      <th>url</th>\n",
       "      <th>descr</th>\n",
       "      <th>header_tag</th>\n",
       "      <th>header_names</th>\n",
       "      <th>links</th>\n",
       "      <th>date_pub</th>\n",
       "      <th>date_last_mod</th>\n",
       "      <th>html_tags</th>\n",
       "      <th>html_tag_freq</th>\n",
       "      <th>html_emphasized_elements</th>\n",
       "      <th>tag_name</th>\n",
       "    </tr>\n",
       "  </thead>\n",
       "  <tbody>\n",
       "    <tr>\n",
       "      <th>0</th>\n",
       "      <td>Indian Institute of Science Bangalore</td>\n",
       "      <td>M.Tech. Computational and Data Science</td>\n",
       "      <td>2</td>\n",
       "      <td>Public</td>\n",
       "      <td>2</td>\n",
       "      <td>Department of Computational and Data Sciences</td>\n",
       "      <td>Karnataka</td>\n",
       "      <td>http://cds.iisc.ac.in/admissions/course-degrees/</td>\n",
       "      <td>Computational Science and Data Science are int...</td>\n",
       "      <td>[h1, h2, h3]</td>\n",
       "      <td>[[\\n\\t\\t\\tCourse Degree Admissions, 2021\\t\\t],...</td>\n",
       "      <td>['https://iisc.ac.in/admissions/m-tech-m-des/'...</td>\n",
       "      <td>Not inferred</td>\n",
       "      <td>Not inferred</td>\n",
       "      <td>['header', 'h1', 'div', 'ul', 'li', 'span', 's...</td>\n",
       "      <td>{'header': 1, 'h1': 1, 'div': 1, 'ul': 6, 'li'...</td>\n",
       "      <td>['the m.tech. (cds) admission process', 'downl...</td>\n",
       "      <td>{'h1': ['\n",
       "\t\t\tCourse Degree Admissions, 2021\t\t'...</td>\n",
       "    </tr>\n",
       "    <tr>\n",
       "      <th>1</th>\n",
       "      <td>Indian Institute of Science Bangalore</td>\n",
       "      <td>M.Tech. Artificial Intelligence</td>\n",
       "      <td>2</td>\n",
       "      <td>Public</td>\n",
       "      <td>2</td>\n",
       "      <td>Departments of Computer Science and Automation...</td>\n",
       "      <td>Karnataka</td>\n",
       "      <td>https://eecs.iisc.ac.in/mtechai/</td>\n",
       "      <td>Artificial Intelligence has captured the ima...</td>\n",
       "      <td>[h1, h2]</td>\n",
       "      <td>[[MTech (AI) @ IISc], [Admissions 2021 – Appli...</td>\n",
       "      <td>['https://ai.iisc.ac.in', 'https://admissions-...</td>\n",
       "      <td>Not inferred</td>\n",
       "      <td>Not inferred</td>\n",
       "      <td>['h1', 'p', 'img', 'p', 'strong', 'a', 'p', 'h...</td>\n",
       "      <td>{'h1': 1, 'p': 18, 'img': 2, 'strong': 15, 'a'...</td>\n",
       "      <td>['written test will be held online with remote...</td>\n",
       "      <td>{'h1': ['MTech (AI) @ IISc'], 'h2': ['Admissio...</td>\n",
       "    </tr>\n",
       "  </tbody>\n",
       "</table>\n",
       "</div>"
      ],
      "text/plain": [
       "                                uni_name  \\\n",
       "0  Indian Institute of Science Bangalore   \n",
       "1  Indian Institute of Science Bangalore   \n",
       "\n",
       "                                 pgm_name  dur_yrs    type  national_rank_qs  \\\n",
       "0  M.Tech. Computational and Data Science        2  Public                 2   \n",
       "1         M.Tech. Artificial Intelligence        2  Public                 2   \n",
       "\n",
       "                                       dept_involved   location  \\\n",
       "0      Department of Computational and Data Sciences  Karnataka   \n",
       "1  Departments of Computer Science and Automation...  Karnataka   \n",
       "\n",
       "                                                url  \\\n",
       "0  http://cds.iisc.ac.in/admissions/course-degrees/   \n",
       "1                  https://eecs.iisc.ac.in/mtechai/   \n",
       "\n",
       "                                               descr    header_tag  \\\n",
       "0  Computational Science and Data Science are int...  [h1, h2, h3]   \n",
       "1    Artificial Intelligence has captured the ima...      [h1, h2]   \n",
       "\n",
       "                                        header_names  \\\n",
       "0  [[\\n\\t\\t\\tCourse Degree Admissions, 2021\\t\\t],...   \n",
       "1  [[MTech (AI) @ IISc], [Admissions 2021 – Appli...   \n",
       "\n",
       "                                               links      date_pub  \\\n",
       "0  ['https://iisc.ac.in/admissions/m-tech-m-des/'...  Not inferred   \n",
       "1  ['https://ai.iisc.ac.in', 'https://admissions-...  Not inferred   \n",
       "\n",
       "  date_last_mod                                          html_tags  \\\n",
       "0  Not inferred  ['header', 'h1', 'div', 'ul', 'li', 'span', 's...   \n",
       "1  Not inferred  ['h1', 'p', 'img', 'p', 'strong', 'a', 'p', 'h...   \n",
       "\n",
       "                                       html_tag_freq  \\\n",
       "0  {'header': 1, 'h1': 1, 'div': 1, 'ul': 6, 'li'...   \n",
       "1  {'h1': 1, 'p': 18, 'img': 2, 'strong': 15, 'a'...   \n",
       "\n",
       "                            html_emphasized_elements  \\\n",
       "0  ['the m.tech. (cds) admission process', 'downl...   \n",
       "1  ['written test will be held online with remote...   \n",
       "\n",
       "                                            tag_name  \n",
       "0  {'h1': ['\n",
       "\t\t\tCourse Degree Admissions, 2021\t\t'...  \n",
       "1  {'h1': ['MTech (AI) @ IISc'], 'h2': ['Admissio...  "
      ]
     },
     "execution_count": 123,
     "metadata": {},
     "output_type": "execute_result"
    }
   ],
   "source": [
    "pgm_india.head(2)"
   ]
  },
  {
   "cell_type": "markdown",
   "metadata": {},
   "source": [
    "---"
   ]
  },
  {
   "cell_type": "markdown",
   "metadata": {},
   "source": [
    "## Description analysis - Trial"
   ]
  },
  {
   "cell_type": "code",
   "execution_count": null,
   "metadata": {},
   "outputs": [],
   "source": []
  }
 ],
 "metadata": {
  "interpreter": {
   "hash": "c236e00cb2504b8feadf115dc1fb937fdc1f15d4b269bc00694bd48dbccf7690"
  },
  "kernelspec": {
   "display_name": "Python 3.8.10 64-bit ('capstone_project': conda)",
   "name": "python3"
  },
  "language_info": {
   "codemirror_mode": {
    "name": "ipython",
    "version": 3
   },
   "file_extension": ".py",
   "mimetype": "text/x-python",
   "name": "python",
   "nbconvert_exporter": "python",
   "pygments_lexer": "ipython3",
   "version": "3.8.10"
  },
  "orig_nbformat": 4
 },
 "nbformat": 4,
 "nbformat_minor": 2
}