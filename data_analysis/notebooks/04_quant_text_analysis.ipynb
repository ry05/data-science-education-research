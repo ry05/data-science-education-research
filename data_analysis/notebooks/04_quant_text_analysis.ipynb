{
 "cells": [
  {
   "cell_type": "code",
   "metadata": {
    "tags": [],
    "cell_id": "00000-6a5e0337-8638-4a7c-88b0-3218a710ce3f",
    "deepnote_to_be_reexecuted": false,
    "source_hash": "818a52c7",
    "execution_start": 1627120276950,
    "execution_millis": 1660,
    "deepnote_cell_type": "code"
   },
   "source": "from collections import Counter, defaultdict\n\nimport pandas as pd\nimport re\nimport string\nimport spacy\nimport matplotlib.pyplot as plt\nimport pytextrank\nimport seaborn as sns\nfrom wordcloud import WordCloud\nimport stylecloud\nfrom spacy.lang.en.stop_words import STOP_WORDS\nnlp = spacy.load(\"en_core_web_md\")\n\nimport sys\nsys.path.insert(0, '../src')\nfrom text_operations import TextPreprocessor, ComplexityComputer\nimport data_manipulation as dm",
   "outputs": [],
   "execution_count": null
  },
  {
   "cell_type": "code",
   "metadata": {
    "tags": [],
    "cell_id": "00001-08005baa-e1d5-4964-92ed-967570ab0402",
    "deepnote_to_be_reexecuted": false,
    "source_hash": "cd145331",
    "execution_start": 1627097983120,
    "execution_millis": 163,
    "deepnote_cell_type": "code"
   },
   "source": "df = pd.read_csv(\"../../data_collection/data/labelled/masters_data_programs_india_usa.csv\")\ndf.head(3)",
   "outputs": [
    {
     "output_type": "execute_result",
     "execution_count": 2,
     "data": {
      "application/vnd.deepnote.dataframe.v2+json": {
       "row_count": 3,
       "column_count": 31,
       "columns": [
        {
         "name": "uni_name",
         "dtype": "object",
         "stats": {
          "unique_count": 2,
          "nan_count": 0,
          "categories": [
           {
            "name": "Indian Institute of Science Bangalore",
            "count": 2
           },
           {
            "name": "University of Hyderabad",
            "count": 1
           }
          ]
         }
        },
        {
         "name": "pgm_name",
         "dtype": "object",
         "stats": {
          "unique_count": 3,
          "nan_count": 0,
          "categories": [
           {
            "name": "M.Tech. Computational and Data Science",
            "count": 1
           },
           {
            "name": "M.Tech. Artificial Intelligence",
            "count": 1
           },
           {
            "name": "MBA Business Analytics",
            "count": 1
           }
          ]
         }
        },
        {
         "name": "dur_yrs",
         "dtype": "object",
         "stats": {
          "unique_count": 1,
          "nan_count": 0,
          "categories": [
           {
            "name": "2",
            "count": 3
           }
          ]
         }
        },
        {
         "name": "type",
         "dtype": "object",
         "stats": {
          "unique_count": 1,
          "nan_count": 0,
          "categories": [
           {
            "name": "Public",
            "count": 3
           }
          ]
         }
        },
        {
         "name": "national_rank_qs",
         "dtype": "int64",
         "stats": {
          "unique_count": 2,
          "nan_count": 0,
          "min": "2",
          "max": "8",
          "histogram": [
           {
            "bin_start": 2,
            "bin_end": 2.6,
            "count": 2
           },
           {
            "bin_start": 2.6,
            "bin_end": 3.2,
            "count": 0
           },
           {
            "bin_start": 3.2,
            "bin_end": 3.8,
            "count": 0
           },
           {
            "bin_start": 3.8,
            "bin_end": 4.4,
            "count": 0
           },
           {
            "bin_start": 4.4,
            "bin_end": 5,
            "count": 0
           },
           {
            "bin_start": 5,
            "bin_end": 5.6,
            "count": 0
           },
           {
            "bin_start": 5.6,
            "bin_end": 6.2,
            "count": 0
           },
           {
            "bin_start": 6.2,
            "bin_end": 6.8,
            "count": 0
           },
           {
            "bin_start": 6.8,
            "bin_end": 7.3999999999999995,
            "count": 0
           },
           {
            "bin_start": 7.3999999999999995,
            "bin_end": 8,
            "count": 1
           }
          ]
         }
        },
        {
         "name": "dept_involved",
         "dtype": "object",
         "stats": {
          "unique_count": 3,
          "nan_count": 0,
          "categories": [
           {
            "name": "Department of Computational and Data Sciences",
            "count": 1
           },
           {
            "name": "Departments of Computer Science and Automation, Electrical Communication Engineering, Electrical Engineering and Electronic Systems Engineering",
            "count": 1
           },
           {
            "name": "School of Management Studies",
            "count": 1
           }
          ]
         }
        },
        {
         "name": "location",
         "dtype": "object",
         "stats": {
          "unique_count": 2,
          "nan_count": 0,
          "categories": [
           {
            "name": "Karnataka",
            "count": 2
           },
           {
            "name": "Telangana",
            "count": 1
           }
          ]
         }
        },
        {
         "name": "url",
         "dtype": "object",
         "stats": {
          "unique_count": 3,
          "nan_count": 0,
          "categories": [
           {
            "name": "http://cds.iisc.ac.in/admissions/course-degrees/",
            "count": 1
           },
           {
            "name": "https://eecs.iisc.ac.in/mtechai/",
            "count": 1
           },
           {
            "name": "https://smsuoh.ac.in/mba/mba-business-analytics/",
            "count": 1
           }
          ]
         }
        },
        {
         "name": "descr",
         "dtype": "object",
         "stats": {
          "unique_count": 3,
          "nan_count": 0,
          "categories": [
           {
            "name": "Computational Science and Data Science are interdisciplinary areas that bring together the domain specific knowledge of science and engineering with relevant areas of computing systems and formal foundations. While computational science investigates scientific computing applications that require mathematical techniques and parallel computing, data science explores data-intensive applications that use scalable statistical and machine learning methods with Big Data and Cloud platforms. These impart foundational and scalable systems skills for computational and data sciences, with advanced courses selected by students to allow specialization on methods, platforms, and applications.",
            "count": 1
           },
           {
            "name": "  Artificial Intelligence has captured the imagination of the entire world with its potential ability to solve complex societal problems of our times: universal access to healthcare and education, efficient transportation, increased efficiency in providing e-governance services to the public, etc. Focused national efforts are underway in many countries. The Government of India has initiated widespread discussion on how India should strive to be among the top nations in the world in the AI ecosystem. The two-year M.Tech. in Artificial Intelligence aims to fill the critical needs of the industry and to fill the gap in the availability of high-end AI scientists and engineers.�The vision of the M.Tech. (AI) program is to impart rigorous training in the foundations and deep technology of Artificial Intelligence to produce graduates who can become world leaders in AI and lead India's march towards leadership in this important area. Curriculum tailored to bring students to the forefront of AI research and development.\nProgramme designed and administered by more than 30 faculty members working in leading edge topics in AI (https://ai.iisc.ac.in/).\nOne year research and development project to make our students the creators of futuristic applications of AI.\nEmphasis on publications, patents, products, and software.\nState-of-the-art computational and experimental facilities at one of the top institutions in the country.\nExcellent placement opportunities in reputed companies and industrial research labs pursuing high end, deep technology aspects of AI.",
            "count": 1
           },
           {
            "name": " The School has launched a two year MBA in Business Analytics programme with an intake of 30 students from the academic year 2017-18. The program is spread over four semesters. The programme will be offered with the help of School of Economics, School of Computer and Information Sciences, School of Mathematics and Statistics, CR Rao Advanced Institute of Mathematics, Statistics and Computer Science and Industry. The course includes the basic foundation subjects of Management that include Management Concepts and Approaches, Finance, Marketing, Human Resource Management, Operations and Business Analytics subjects like Statistics for Business Analytics, Business Analytics for Decision Making, Machine Learning, Marketing and Retail Analytics, Big Data, Financial Analytics, Econometrics, HR Analytics, Manufacturing and Supply Chain Analytics etc. Lab sessions are also included in the course.  \nCurriculum is spread over foundation and core courses related to Management, Information Technology and Analytics in the first year and emphasis is placed on courses related to advanced Business Analytics in the second year.\nCourse curriculum developed by seeking inputs from industry professionals and academician.\nSelf-awareness and growth lab for personal effectiveness.\n8-10 weeks of summer internship to understand the working environment of the analytics industry.\nFinal project under the supervision of a Faculty guide along with an industry\n The course curriculum was developed with active collaboration/involvement of industry professionals to provide the students with state of the art knowledge and practical orientation in the field of business analytics and management. The pedagogy included case studies, presentations, role-plays, computer lab sessions etc. apart from the regular class room teaching. Besides the regular classroom teaching, the School also arranges Guest lectures on various management and analytics topics by the industry as well as academic experts in the relevant areas.  The students are required to get practical exposure by undertaking eight weeks internship in an organization during the summer intervening between the second and third semesters. These internships are intended to familiarize the students with current developments in the area of Business Analytics along with management practices, work environment and organizational culture. The students also undertake a long term research project during the final year. It is intended to their analytics skills enabling them to join organizations.  The School practices a system of continuous evaluation and feedback. Students are required to be regular for classwork and meet the requirements of attendance as per University rules. Students are continuously evaluated through internal examinations, assignments, project works, presentations, case discussions which constitute the predominant method of evaluation. ",
            "count": 1
           }
          ]
         }
        },
        {
         "name": "header_tag",
         "dtype": "object",
         "stats": {
          "unique_count": 3,
          "nan_count": 0,
          "categories": [
           {
            "name": "['h1', 'h2', 'h3']",
            "count": 1
           },
           {
            "name": "['h1', 'h2']",
            "count": 1
           },
           {
            "name": "['h2', 'h4']",
            "count": 1
           }
          ]
         }
        },
        {
         "name": "header_names",
         "dtype": "object",
         "stats": {
          "unique_count": 3,
          "nan_count": 0,
          "categories": [
           {
            "name": "[['\\n\\t\\t\\tCourse Degree Admissions, 2021\\t\\t'], ['M.Tech. (Computational & Data Science) Admissions, 2021'], ['About the M.Tech. (CDS) Program', 'The M.Tech. (CDS) Admission Process']]",
            "count": 1
           },
           {
            "name": "[['MTech (AI) @ IISc'], ['Admissions 2021 – Application and deadline', 'Interview', 'Highlights of the programme', 'Further Details']]",
            "count": 1
           },
           {
            "name": "[['MBA Business Analytics'], ['Highlights of the Programme', 'Course Curriculum and Programme Delivery', 'Guest Lectures', 'Summer Internship and Project Work', 'Continuous Evaluation', 'Placements', 'Curriculum']]",
            "count": 1
           }
          ]
         }
        },
        {
         "name": "links",
         "dtype": "object",
         "stats": {
          "unique_count": 3,
          "nan_count": 0,
          "categories": [
           {
            "name": "['https://iisc.ac.in/admissions/m-tech-m-des/', 'https://admissions.iisc.ac.in/', 'http://cds.iisc.ac.in/admissions/admissions-faq/', 'http://cds.iisc.ac.in/wp-content/uploads/MTech_CDS_Brochure_final.pdf', 'http://cds.iisc.ac.in/resources/fellowships/', 'https://cds.iisc.ac.in/wp-content/uploads/MTech_Brochure-2021.pdf', 'http://www.iisc.ac.in/admissions/', 'http://cds.iisc.ac.in/academics/mtechcds/', 'https://iisc.ac.in/admissions/m-tech-m-des', 'https://cds.iisc.ac.in/wp-content/uploads/sample-he-post-online.pdf']",
            "count": 1
           },
           {
            "name": "['https://ai.iisc.ac.in', 'https://admissions-august.iisc.ac.in/web/selectugpg.aspx', 'https://www.iisc.ac.in/admissions/', 'https://oir.iisc.ac.in/index.php/m-tech-course-program-admission/', 'https://eecs.iisc.ac.in/wp-content/uploads/2021/04/instructions.pdf', 'https://eecs.iisc.ac.in/m-tech-ai-frequently-asked-questions/', 'mailto:mtechoffice.ai@iisc.ac.in', 'https://www.csa.iisc.ac.in/', 'https://ece.iisc.ac.in/', 'http://www.ee.iisc.ac.in/', 'https://dese.iisc.ac.in/', 'https://ai.iisc.ac.in/', 'https://eecs.iisc.ac.in/mtech-ai-2019-2021/', 'https://eecs.iisc.ac.in/mtech-ai-2020-2022/', 'https://eecs.iisc.ac.in/wp-content/uploads/2021/02/MTechAICurriculum18February2021.pdf', 'https://eecs.iisc.ac.in/wp-content/uploads/2020/02/AI-Poster.pdf', 'https://eecs.iisc.ac.in/wp-content/uploads/2020/02/OnePageFlyer.pdf']",
            "count": 1
           },
           {
            "name": "no links in useful area",
            "count": 1
           }
          ]
         }
        },
        {
         "name": "date_pub",
         "dtype": "object",
         "stats": {
          "unique_count": 2,
          "nan_count": 0,
          "categories": [
           {
            "name": "Not inferred",
            "count": 2
           },
           {
            "name": "21-11-2017",
            "count": 1
           }
          ]
         }
        },
        {
         "name": "date_last_mod",
         "dtype": "object",
         "stats": {
          "unique_count": 2,
          "nan_count": 0,
          "categories": [
           {
            "name": "Not inferred",
            "count": 2
           },
           {
            "name": "28-01-2019",
            "count": 1
           }
          ]
         }
        },
        {
         "name": "html_tags",
         "dtype": "object",
         "stats": {
          "unique_count": 3,
          "nan_count": 0,
          "categories": [
           {
            "name": "['header', 'h1', 'div', 'ul', 'li', 'span', 'strong', 'a', 'li', 'span', 'strong', 'a', 'li', 'span', 'strong', 'a', 'h2', 'p', 'strong', 'a', 'p', 'a', 'p', 'a', 'em', 'strong', 'p', 'strong', 'ul', 'li', 'a', 'li', 'span', 'a', 'li', 'span', 'ul', 'li', 'span', 'li', 'span', 'ul', 'li', 'li', 'b', 'b', 'strong', 'li', 'b', 'li', 'li', 'li', 'li', 'span', 'span', 'i', 'i', 'span', 'h3', 'p', 'p', 'a', 'h3', 'b', 'ul', 'li', 'a', 'li', 'li', 'a', 'li', 'i', 'li', 'li', 'li', 'li', 'ul', 'li', 'span', 'i', 'i', 'li', 'span', 'i', 'li', 'a', 'li', 'i', 'i', 'p', 'a', 'p', 'b', 'p', 'b', 'i', 'span']",
            "count": 1
           },
           {
            "name": "['h1', 'p', 'img', 'p', 'strong', 'a', 'p', 'h2', 'strong', 'p', 'a', 'p', 'p', 'strong', 'sup', 'p', 'strong', 'strong', 'strong', 'strong', 'a', 'p', 'strong', 'strong', 'a', 'h2', 'strong', 'p', 'strong', 'span', 'span', 'p', 'strong', 'p', 'strong', 'p', 'p', 'strong', 'a', 'p', 'span', 'img', 'p', 'strong', 'a', 'a', 'h2', 'ol', 'li', 'a', 'a', 'a', 'a', 'li', 'li', 'a', 'li', 'li', 'li', 'li', 'div', 'h2', 'p', 'a', 'p', 'a', 'p', 'a', 'a', 'a']",
            "count": 1
           },
           {
            "name": "['article', 'div', 'h2', 'p', 'h4', 'ul', 'li', 'li', 'li', 'li', 'li', 'h4', 'p', 'h4', 'p', 'h4', 'p', 'h4', 'p', 'h4', 'p', 'h4', 'table', 'tbody', 'tr', 'td', 'strong', 'tr', 'td', 'td', 'strong', 'td', 'strong', 'tr', 'td', 'td', 'td', 'tr', 'td', 'td', 'td', 'tr', 'td', 'td', 'td', 'tr', 'td', 'td', 'td', 'tr', 'td', 'td', 'td', 'tr', 'td', 'td', 'td', 'tr', 'td', 'td', 'td', 'tr', 'td', 'td', 'td', 'tr', 'td', 'strong', 'tr', 'td', 'strong', 'tr', 'td', 'td', 'strong', 'td', 'strong', 'tr', 'td', 'td', 'td', 'tr', 'td', 'td', 'td', 'tr', 'td', 'td', 'td', 'tr', 'td', 'td', 'td', 'tr', 'td', 'td', 'td', 'tr', 'td', 'td', 'td', 'tr', 'td', 'td', 'tr', 'td', 'td', 'p', 'p', 'p']",
            "count": 1
           }
          ]
         }
        },
        {
         "name": "html_tag_freq",
         "dtype": "object",
         "stats": {
          "unique_count": 3,
          "nan_count": 0,
          "categories": [
           {
            "name": "{'header': 1, 'h1': 1, 'div': 1, 'ul': 6, 'li': 27, 'span': 13, 'strong': 7, 'a': 13, 'h2': 1, 'p': 9, 'em': 1, 'b': 6, 'i': 9, 'h3': 2}",
            "count": 1
           },
           {
            "name": "{'h1': 1, 'p': 18, 'img': 2, 'strong': 15, 'a': 17, 'h2': 4, 'sup': 1, 'span': 3, 'ol': 1, 'li': 7, 'div': 1}",
            "count": 1
           },
           {
            "name": "{'article': 1, 'div': 1, 'h2': 1, 'p': 9, 'h4': 7, 'ul': 1, 'li': 5, 'table': 1, 'tbody': 1, 'tr': 21, 'td': 55, 'strong': 7}",
            "count": 1
           }
          ]
         }
        },
        {
         "name": "html_emphasized_elements",
         "dtype": "object",
         "stats": {
          "unique_count": 3,
          "nan_count": 0,
          "categories": [
           {
            "name": "['the m.tech. (cds) admission process', 'download admissions brochure [pdf]', 'common offer acceptance portal (coap)', 'about the m.tech. (cds) program', 'programflyer', 'linear algebra/matrices, probability, and combinatorics', 'iisc online admissions application', 'iisc admissions website', 'course degree admissions, 2021', 'shortlist students', 'fluid/solid mechanics', '15 apr 2021', 'april 19-23, 2021', 'important dates:', '(https://coap.iitd.ac.in)', 'last updated on april 12, 2021', 'calculus and geometry', 'admissions faq', 'algorithms', 'data structures (arrays, matrices, etc.), and basic programming.', 'm.tech. (computational & data science) admissions, 2021', '2:30 pm – 4:00 pm', 'only with shortlisted candidates', 'for any queries/questions about admissions, please contact: chair.cds#iisc.ac.in (replace # with @)']",
            "count": 1
           },
           {
            "name": "['written test will be held online with remote login through a browser. more details:', 'n of india applicants:', 'date of written test: 15th april 2021', 'international applicants:', '23:59 ist on 31stmarch 2021', 'here', 'time: 9.00am to 10.30am', 'further details', 'e', 'mtech (ai) @ iisc', 'admissions 2021 – application and deadline', 'highlights of the programme', 'click here', 'if you have questions,please browse through thefaq to see if your question is already answered. if notplease send an email to', 'interview', 'indian and overseas citiz', 'due to the covid-19 pandemic, there will not be an interview for the candidates shortlisted based on the gate scores. instead, there will be an online test for m.tech. (artificial intelligence).the test will check the ability of the applicants.']",
            "count": 1
           },
           {
            "name": "['guest lectures', 'semester-4', 'continuous evaluation', 'placements', 'year 1', 'semester 2', 'summer internship', 'mba business analytics', 'semester 1', 'highlights of the programme', 'summer internship and project work', 'course curriculum and programme delivery', 'curriculum', 'semester – 3', 'year – 2']",
            "count": 1
           }
          ]
         }
        },
        {
         "name": "Data Gathering, Preparation and Exploration",
         "dtype": "float64",
         "stats": {
          "unique_count": 3,
          "nan_count": 0,
          "min": "0.0",
          "max": "0.1285714285714285",
          "histogram": [
           {
            "bin_start": 0,
            "bin_end": 0.01285714285714285,
            "count": 1
           },
           {
            "bin_start": 0.01285714285714285,
            "bin_end": 0.0257142857142857,
            "count": 0
           },
           {
            "bin_start": 0.0257142857142857,
            "bin_end": 0.03857142857142855,
            "count": 0
           },
           {
            "bin_start": 0.03857142857142855,
            "bin_end": 0.0514285714285714,
            "count": 0
           },
           {
            "bin_start": 0.0514285714285714,
            "bin_end": 0.06428571428571425,
            "count": 0
           },
           {
            "bin_start": 0.06428571428571425,
            "bin_end": 0.0771428571428571,
            "count": 0
           },
           {
            "bin_start": 0.0771428571428571,
            "bin_end": 0.08999999999999996,
            "count": 0
           },
           {
            "bin_start": 0.08999999999999996,
            "bin_end": 0.1028571428571428,
            "count": 1
           },
           {
            "bin_start": 0.1028571428571428,
            "bin_end": 0.11571428571428564,
            "count": 0
           },
           {
            "bin_start": 0.11571428571428564,
            "bin_end": 0.1285714285714285,
            "count": 1
           }
          ]
         }
        },
        {
         "name": "Data Representation and Transformation",
         "dtype": "float64",
         "stats": {
          "unique_count": 3,
          "nan_count": 0,
          "min": "0.1857142857142857",
          "max": "0.2727272727272727",
          "histogram": [
           {
            "bin_start": 0.1857142857142857,
            "bin_end": 0.1944155844155844,
            "count": 1
           },
           {
            "bin_start": 0.1944155844155844,
            "bin_end": 0.20311688311688308,
            "count": 0
           },
           {
            "bin_start": 0.20311688311688308,
            "bin_end": 0.2118181818181818,
            "count": 0
           },
           {
            "bin_start": 0.2118181818181818,
            "bin_end": 0.2205194805194805,
            "count": 0
           },
           {
            "bin_start": 0.2205194805194805,
            "bin_end": 0.2292207792207792,
            "count": 0
           },
           {
            "bin_start": 0.2292207792207792,
            "bin_end": 0.2379220779220779,
            "count": 1
           },
           {
            "bin_start": 0.2379220779220779,
            "bin_end": 0.2466233766233766,
            "count": 0
           },
           {
            "bin_start": 0.2466233766233766,
            "bin_end": 0.2553246753246753,
            "count": 0
           },
           {
            "bin_start": 0.2553246753246753,
            "bin_end": 0.264025974025974,
            "count": 0
           },
           {
            "bin_start": 0.264025974025974,
            "bin_end": 0.2727272727272727,
            "count": 1
           }
          ]
         }
        },
        {
         "name": "Computing with Data",
         "dtype": "float64",
         "stats": {
          "unique_count": 3,
          "nan_count": 0,
          "min": "0.3571428571428571",
          "max": "0.4705882352941176",
          "histogram": [
           {
            "bin_start": 0.3571428571428571,
            "bin_end": 0.36848739495798316,
            "count": 1
           },
           {
            "bin_start": 0.36848739495798316,
            "bin_end": 0.37983193277310917,
            "count": 0
           },
           {
            "bin_start": 0.37983193277310917,
            "bin_end": 0.39117647058823524,
            "count": 0
           },
           {
            "bin_start": 0.39117647058823524,
            "bin_end": 0.4025210084033613,
            "count": 0
           },
           {
            "bin_start": 0.4025210084033613,
            "bin_end": 0.41386554621848737,
            "count": 0
           },
           {
            "bin_start": 0.41386554621848737,
            "bin_end": 0.4252100840336134,
            "count": 0
           },
           {
            "bin_start": 0.4252100840336134,
            "bin_end": 0.43655462184873944,
            "count": 0
           },
           {
            "bin_start": 0.43655462184873944,
            "bin_end": 0.4478991596638655,
            "count": 0
           },
           {
            "bin_start": 0.4478991596638655,
            "bin_end": 0.4592436974789915,
            "count": 1
           },
           {
            "bin_start": 0.4592436974789915,
            "bin_end": 0.4705882352941176,
            "count": 1
           }
          ]
         }
        },
        {
         "name": "Data Modeling",
         "dtype": "float64",
         "stats": {
          "unique_count": 3,
          "nan_count": 0,
          "min": "0.0909090909090909",
          "max": "0.2941176470588235",
          "histogram": [
           {
            "bin_start": 0.0909090909090909,
            "bin_end": 0.11122994652406415,
            "count": 1
           },
           {
            "bin_start": 0.11122994652406415,
            "bin_end": 0.13155080213903741,
            "count": 0
           },
           {
            "bin_start": 0.13155080213903741,
            "bin_end": 0.15187165775401068,
            "count": 0
           },
           {
            "bin_start": 0.15187165775401068,
            "bin_end": 0.17219251336898395,
            "count": 1
           },
           {
            "bin_start": 0.17219251336898395,
            "bin_end": 0.1925133689839572,
            "count": 0
           },
           {
            "bin_start": 0.1925133689839572,
            "bin_end": 0.21283422459893045,
            "count": 0
           },
           {
            "bin_start": 0.21283422459893045,
            "bin_end": 0.2331550802139037,
            "count": 0
           },
           {
            "bin_start": 0.2331550802139037,
            "bin_end": 0.25347593582887695,
            "count": 0
           },
           {
            "bin_start": 0.25347593582887695,
            "bin_end": 0.2737967914438502,
            "count": 0
           },
           {
            "bin_start": 0.2737967914438502,
            "bin_end": 0.2941176470588235,
            "count": 1
           }
          ]
         }
        },
        {
         "name": "Data Visualization and Presentation",
         "dtype": "float64",
         "stats": {
          "unique_count": 3,
          "nan_count": 0,
          "min": "0.0",
          "max": "0.1571428571428571",
          "histogram": [
           {
            "bin_start": 0,
            "bin_end": 0.015714285714285712,
            "count": 1
           },
           {
            "bin_start": 0.015714285714285712,
            "bin_end": 0.031428571428571424,
            "count": 0
           },
           {
            "bin_start": 0.031428571428571424,
            "bin_end": 0.04714285714285714,
            "count": 0
           },
           {
            "bin_start": 0.04714285714285714,
            "bin_end": 0.06285714285714285,
            "count": 0
           },
           {
            "bin_start": 0.06285714285714285,
            "bin_end": 0.07857142857142856,
            "count": 0
           },
           {
            "bin_start": 0.07857142857142856,
            "bin_end": 0.09428571428571428,
            "count": 1
           },
           {
            "bin_start": 0.09428571428571428,
            "bin_end": 0.10999999999999999,
            "count": 0
           },
           {
            "bin_start": 0.10999999999999999,
            "bin_end": 0.1257142857142857,
            "count": 0
           },
           {
            "bin_start": 0.1257142857142857,
            "bin_end": 0.1414285714285714,
            "count": 0
           },
           {
            "bin_start": 0.1414285714285714,
            "bin_end": 0.1571428571428571,
            "count": 1
           }
          ]
         }
        },
        {
         "name": "Science about Data Science",
         "dtype": "float64",
         "stats": {
          "unique_count": 2,
          "nan_count": 0,
          "min": "0.0",
          "max": "0.0142857142857142",
          "histogram": [
           {
            "bin_start": 0,
            "bin_end": 0.0014285714285714201,
            "count": 2
           },
           {
            "bin_start": 0.0014285714285714201,
            "bin_end": 0.0028571428571428402,
            "count": 0
           },
           {
            "bin_start": 0.0028571428571428402,
            "bin_end": 0.004285714285714261,
            "count": 0
           },
           {
            "bin_start": 0.004285714285714261,
            "bin_end": 0.0057142857142856805,
            "count": 0
           },
           {
            "bin_start": 0.0057142857142856805,
            "bin_end": 0.0071428571428571,
            "count": 0
           },
           {
            "bin_start": 0.0071428571428571,
            "bin_end": 0.008571428571428522,
            "count": 0
           },
           {
            "bin_start": 0.008571428571428522,
            "bin_end": 0.009999999999999941,
            "count": 0
           },
           {
            "bin_start": 0.009999999999999941,
            "bin_end": 0.011428571428571361,
            "count": 0
           },
           {
            "bin_start": 0.011428571428571361,
            "bin_end": 0.01285714285714278,
            "count": 0
           },
           {
            "bin_start": 0.01285714285714278,
            "bin_end": 0.0142857142857142,
            "count": 1
           }
          ]
         }
        },
        {
         "name": "Not determinable",
         "dtype": "float64",
         "stats": {
          "unique_count": 1,
          "nan_count": 0,
          "min": "0.0",
          "max": "0.0",
          "histogram": [
           {
            "bin_start": -0.5,
            "bin_end": -0.4,
            "count": 0
           },
           {
            "bin_start": -0.4,
            "bin_end": -0.3,
            "count": 0
           },
           {
            "bin_start": -0.3,
            "bin_end": -0.19999999999999996,
            "count": 0
           },
           {
            "bin_start": -0.19999999999999996,
            "bin_end": -0.09999999999999998,
            "count": 0
           },
           {
            "bin_start": -0.09999999999999998,
            "bin_end": 0,
            "count": 0
           },
           {
            "bin_start": 0,
            "bin_end": 0.10000000000000009,
            "count": 3
           },
           {
            "bin_start": 0.10000000000000009,
            "bin_end": 0.20000000000000007,
            "count": 0
           },
           {
            "bin_start": 0.20000000000000007,
            "bin_end": 0.30000000000000004,
            "count": 0
           },
           {
            "bin_start": 0.30000000000000004,
            "bin_end": 0.4,
            "count": 0
           },
           {
            "bin_start": 0.4,
            "bin_end": 0.5,
            "count": 0
           }
          ]
         }
        },
        {
         "name": "country",
         "dtype": "object",
         "stats": {
          "unique_count": 1,
          "nan_count": 0,
          "categories": [
           {
            "name": "India",
            "count": 3
           }
          ]
         }
        },
        {
         "name": "gds_score",
         "dtype": "float64",
         "stats": {
          "unique_count": 3,
          "nan_count": 0,
          "min": "0.1109022981181686",
          "max": "0.1983205146429848",
          "histogram": [
           {
            "bin_start": 0.1109022981181686,
            "bin_end": 0.11964411977065022,
            "count": 1
           },
           {
            "bin_start": 0.11964411977065022,
            "bin_end": 0.12838594142313184,
            "count": 0
           },
           {
            "bin_start": 0.12838594142313184,
            "bin_end": 0.13712776307561347,
            "count": 0
           },
           {
            "bin_start": 0.13712776307561347,
            "bin_end": 0.14586958472809508,
            "count": 0
           },
           {
            "bin_start": 0.14586958472809508,
            "bin_end": 0.1546114063805767,
            "count": 0
           },
           {
            "bin_start": 0.1546114063805767,
            "bin_end": 0.16335322803305832,
            "count": 0
           },
           {
            "bin_start": 0.16335322803305832,
            "bin_end": 0.17209504968553996,
            "count": 1
           },
           {
            "bin_start": 0.17209504968553996,
            "bin_end": 0.18083687133802157,
            "count": 0
           },
           {
            "bin_start": 0.18083687133802157,
            "bin_end": 0.18957869299050317,
            "count": 0
           },
           {
            "bin_start": 0.18957869299050317,
            "bin_end": 0.1983205146429848,
            "count": 1
           }
          ]
         }
        },
        {
         "name": "band",
         "dtype": "object",
         "stats": {
          "unique_count": 2,
          "nan_count": 0,
          "categories": [
           {
            "name": "Band 3",
            "count": 2
           },
           {
            "name": "Band 2",
            "count": 1
           }
          ]
         }
        },
        {
         "name": "subject",
         "dtype": "object",
         "stats": {
          "unique_count": 3,
          "nan_count": 0,
          "categories": [
           {
            "name": "Data Science",
            "count": 1
           },
           {
            "name": "Artificial Intelligence",
            "count": 1
           },
           {
            "name": "Business Analytics",
            "count": 1
           }
          ]
         }
        },
        {
         "name": "dept",
         "dtype": "object",
         "stats": {
          "unique_count": 3,
          "nan_count": 0,
          "categories": [
           {
            "name": "Computational and Data Sciences",
            "count": 1
           },
           {
            "name": "Electrical Communication Engineering",
            "count": 1
           },
           {
            "name": "Management Studies",
            "count": 1
           }
          ]
         }
        },
        {
         "name": "dept_cat",
         "dtype": "object",
         "stats": {
          "unique_count": 3,
          "nan_count": 0,
          "categories": [
           {
            "name": "Data-related",
            "count": 1
           },
           {
            "name": "Engineering-related",
            "count": 1
           },
           {
            "name": "Management-related",
            "count": 1
           }
          ]
         }
        },
        {
         "name": "id",
         "dtype": "object",
         "stats": {
          "unique_count": 3,
          "nan_count": 0,
          "categories": [
           {
            "name": "Indian Institute of Science Bangalore - M.Tech. Computational and Data Science",
            "count": 1
           },
           {
            "name": "Indian Institute of Science Bangalore - M.Tech. Artificial Intelligence",
            "count": 1
           },
           {
            "name": "University of Hyderabad - MBA Business Analytics",
            "count": 1
           }
          ]
         }
        },
        {
         "name": "_deepnote_index_column",
         "dtype": "int64"
        }
       ],
       "rows_top": [
        {
         "uni_name": "Indian Institute of Science Bangalore",
         "pgm_name": "M.Tech. Computational and Data Science",
         "dur_yrs": "2",
         "type": "Public",
         "national_rank_qs": 2,
         "dept_involved": "Department of Computational and Data Sciences",
         "location": "Karnataka",
         "url": "http://cds.iisc.ac.in/admissions/course-degrees/",
         "descr": "Computational Science and Data Science are interdisciplinary areas that bring together the domain s…",
         "header_tag": "['h1', 'h2', 'h3']",
         "header_names": "[['\\n\\t\\t\\tCourse Degree Admissions, 2021\\t\\t'], ['M.Tech. (Computational & Data Science) Admission…",
         "links": "['https://iisc.ac.in/admissions/m-tech-m-des/', 'https://admissions.iisc.ac.in/', 'http://cds.iisc.…",
         "date_pub": "Not inferred",
         "date_last_mod": "Not inferred",
         "html_tags": "['header', 'h1', 'div', 'ul', 'li', 'span', 'strong', 'a', 'li', 'span', 'strong', 'a', 'li', 'span…",
         "html_tag_freq": "{'header': 1, 'h1': 1, 'div': 1, 'ul': 6, 'li': 27, 'span': 13, 'strong': 7, 'a': 13, 'h2': 1, 'p':…",
         "html_emphasized_elements": "['the m.tech. (cds) admission process', 'download admissions brochure [pdf]', 'common offer accepta…",
         "Data Gathering, Preparation and Exploration": 0.0909090909090909,
         "Data Representation and Transformation": 0.2727272727272727,
         "Computing with Data": 0.4545454545454545,
         "Data Modeling": 0.0909090909090909,
         "Data Visualization and Presentation": 0.0909090909090909,
         "Science about Data Science": 0,
         "Not determinable": 0,
         "country": "India",
         "gds_score": 0.1668043508427016,
         "band": "Band 3",
         "subject": "Data Science",
         "dept": "Computational and Data Sciences",
         "dept_cat": "Data-related",
         "id": "Indian Institute of Science Bangalore - M.Tech. Computational and Data Science",
         "_deepnote_index_column": 0
        },
        {
         "uni_name": "Indian Institute of Science Bangalore",
         "pgm_name": "M.Tech. Artificial Intelligence",
         "dur_yrs": "2",
         "type": "Public",
         "national_rank_qs": 2,
         "dept_involved": "Departments of Computer Science and Automation, Electrical Communication Engineering, Electrical En…",
         "location": "Karnataka",
         "url": "https://eecs.iisc.ac.in/mtechai/",
         "descr": "  Artificial Intelligence has captured the imagination of the entire world with its potential abili…",
         "header_tag": "['h1', 'h2']",
         "header_names": "[['MTech (AI) @ IISc'], ['Admissions 2021 – Application and deadline', 'Interview', 'Highlights of …",
         "links": "['https://ai.iisc.ac.in', 'https://admissions-august.iisc.ac.in/web/selectugpg.aspx', 'https://www.…",
         "date_pub": "Not inferred",
         "date_last_mod": "Not inferred",
         "html_tags": "['h1', 'p', 'img', 'p', 'strong', 'a', 'p', 'h2', 'strong', 'p', 'a', 'p', 'p', 'strong', 'sup', 'p…",
         "html_tag_freq": "{'h1': 1, 'p': 18, 'img': 2, 'strong': 15, 'a': 17, 'h2': 4, 'sup': 1, 'span': 3, 'ol': 1, 'li': 7,…",
         "html_emphasized_elements": "['written test will be held online with remote login through a browser. more details:', 'n of india…",
         "Data Gathering, Preparation and Exploration": 0,
         "Data Representation and Transformation": 0.2352941176470588,
         "Computing with Data": 0.4705882352941176,
         "Data Modeling": 0.2941176470588235,
         "Data Visualization and Presentation": 0,
         "Science about Data Science": 0,
         "Not determinable": 0,
         "country": "India",
         "gds_score": 0.1983205146429848,
         "band": "Band 3",
         "subject": "Artificial Intelligence",
         "dept": "Electrical Communication Engineering",
         "dept_cat": "Engineering-related",
         "id": "Indian Institute of Science Bangalore - M.Tech. Artificial Intelligence",
         "_deepnote_index_column": 1
        },
        {
         "uni_name": "University of Hyderabad",
         "pgm_name": "MBA Business Analytics",
         "dur_yrs": "2",
         "type": "Public",
         "national_rank_qs": 8,
         "dept_involved": "School of Management Studies",
         "location": "Telangana",
         "url": "https://smsuoh.ac.in/mba/mba-business-analytics/",
         "descr": " The School has launched a two year MBA in Business Analytics programme with an intake of 30 studen…",
         "header_tag": "['h2', 'h4']",
         "header_names": "[['MBA Business Analytics'], ['Highlights of the Programme', 'Course Curriculum and Programme Deliv…",
         "links": "no links in useful area",
         "date_pub": "21-11-2017",
         "date_last_mod": "28-01-2019",
         "html_tags": "['article', 'div', 'h2', 'p', 'h4', 'ul', 'li', 'li', 'li', 'li', 'li', 'h4', 'p', 'h4', 'p', 'h4',…",
         "html_tag_freq": "{'article': 1, 'div': 1, 'h2': 1, 'p': 9, 'h4': 7, 'ul': 1, 'li': 5, 'table': 1, 'tbody': 1, 'tr': …",
         "html_emphasized_elements": "['guest lectures', 'semester-4', 'continuous evaluation', 'placements', 'year 1', 'semester 2', 'su…",
         "Data Gathering, Preparation and Exploration": 0.1285714285714285,
         "Data Representation and Transformation": 0.1857142857142857,
         "Computing with Data": 0.3571428571428571,
         "Data Modeling": 0.1571428571428571,
         "Data Visualization and Presentation": 0.1571428571428571,
         "Science about Data Science": 0.0142857142857142,
         "Not determinable": 0,
         "country": "India",
         "gds_score": 0.1109022981181686,
         "band": "Band 2",
         "subject": "Business Analytics",
         "dept": "Management Studies",
         "dept_cat": "Management-related",
         "id": "University of Hyderabad - MBA Business Analytics",
         "_deepnote_index_column": 2
        }
       ],
       "rows_bottom": null
      },
      "text/plain": "                                uni_name  \\\n0  Indian Institute of Science Bangalore   \n1  Indian Institute of Science Bangalore   \n2                University of Hyderabad   \n\n                                 pgm_name dur_yrs    type  national_rank_qs  \\\n0  M.Tech. Computational and Data Science       2  Public                 2   \n1         M.Tech. Artificial Intelligence       2  Public                 2   \n2                  MBA Business Analytics       2  Public                 8   \n\n                                       dept_involved   location  \\\n0      Department of Computational and Data Sciences  Karnataka   \n1  Departments of Computer Science and Automation...  Karnataka   \n2                       School of Management Studies  Telangana   \n\n                                                url  \\\n0  http://cds.iisc.ac.in/admissions/course-degrees/   \n1                  https://eecs.iisc.ac.in/mtechai/   \n2  https://smsuoh.ac.in/mba/mba-business-analytics/   \n\n                                               descr          header_tag  ...  \\\n0  Computational Science and Data Science are int...  ['h1', 'h2', 'h3']  ...   \n1    Artificial Intelligence has captured the ima...        ['h1', 'h2']  ...   \n2   The School has launched a two year MBA in Bus...        ['h2', 'h4']  ...   \n\n  Data Visualization and Presentation Science about Data Science  \\\n0                            0.090909                   0.000000   \n1                            0.000000                   0.000000   \n2                            0.157143                   0.014286   \n\n  Not determinable country gds_score    band                  subject  \\\n0              0.0   India  0.166804  Band 3             Data Science   \n1              0.0   India  0.198321  Band 3  Artificial Intelligence   \n2              0.0   India  0.110902  Band 2       Business Analytics   \n\n                                   dept             dept_cat  \\\n0       Computational and Data Sciences         Data-related   \n1  Electrical Communication Engineering  Engineering-related   \n2                    Management Studies   Management-related   \n\n                                                  id  \n0  Indian Institute of Science Bangalore - M.Tech...  \n1  Indian Institute of Science Bangalore - M.Tech...  \n2   University of Hyderabad - MBA Business Analytics  \n\n[3 rows x 31 columns]",
      "text/html": "<div>\n<style scoped>\n    .dataframe tbody tr th:only-of-type {\n        vertical-align: middle;\n    }\n\n    .dataframe tbody tr th {\n        vertical-align: top;\n    }\n\n    .dataframe thead th {\n        text-align: right;\n    }\n</style>\n<table border=\"1\" class=\"dataframe\">\n  <thead>\n    <tr style=\"text-align: right;\">\n      <th></th>\n      <th>uni_name</th>\n      <th>pgm_name</th>\n      <th>dur_yrs</th>\n      <th>type</th>\n      <th>national_rank_qs</th>\n      <th>dept_involved</th>\n      <th>location</th>\n      <th>url</th>\n      <th>descr</th>\n      <th>header_tag</th>\n      <th>...</th>\n      <th>Data Visualization and Presentation</th>\n      <th>Science about Data Science</th>\n      <th>Not determinable</th>\n      <th>country</th>\n      <th>gds_score</th>\n      <th>band</th>\n      <th>subject</th>\n      <th>dept</th>\n      <th>dept_cat</th>\n      <th>id</th>\n    </tr>\n  </thead>\n  <tbody>\n    <tr>\n      <th>0</th>\n      <td>Indian Institute of Science Bangalore</td>\n      <td>M.Tech. Computational and Data Science</td>\n      <td>2</td>\n      <td>Public</td>\n      <td>2</td>\n      <td>Department of Computational and Data Sciences</td>\n      <td>Karnataka</td>\n      <td>http://cds.iisc.ac.in/admissions/course-degrees/</td>\n      <td>Computational Science and Data Science are int...</td>\n      <td>['h1', 'h2', 'h3']</td>\n      <td>...</td>\n      <td>0.090909</td>\n      <td>0.000000</td>\n      <td>0.0</td>\n      <td>India</td>\n      <td>0.166804</td>\n      <td>Band 3</td>\n      <td>Data Science</td>\n      <td>Computational and Data Sciences</td>\n      <td>Data-related</td>\n      <td>Indian Institute of Science Bangalore - M.Tech...</td>\n    </tr>\n    <tr>\n      <th>1</th>\n      <td>Indian Institute of Science Bangalore</td>\n      <td>M.Tech. Artificial Intelligence</td>\n      <td>2</td>\n      <td>Public</td>\n      <td>2</td>\n      <td>Departments of Computer Science and Automation...</td>\n      <td>Karnataka</td>\n      <td>https://eecs.iisc.ac.in/mtechai/</td>\n      <td>Artificial Intelligence has captured the ima...</td>\n      <td>['h1', 'h2']</td>\n      <td>...</td>\n      <td>0.000000</td>\n      <td>0.000000</td>\n      <td>0.0</td>\n      <td>India</td>\n      <td>0.198321</td>\n      <td>Band 3</td>\n      <td>Artificial Intelligence</td>\n      <td>Electrical Communication Engineering</td>\n      <td>Engineering-related</td>\n      <td>Indian Institute of Science Bangalore - M.Tech...</td>\n    </tr>\n    <tr>\n      <th>2</th>\n      <td>University of Hyderabad</td>\n      <td>MBA Business Analytics</td>\n      <td>2</td>\n      <td>Public</td>\n      <td>8</td>\n      <td>School of Management Studies</td>\n      <td>Telangana</td>\n      <td>https://smsuoh.ac.in/mba/mba-business-analytics/</td>\n      <td>The School has launched a two year MBA in Bus...</td>\n      <td>['h2', 'h4']</td>\n      <td>...</td>\n      <td>0.157143</td>\n      <td>0.014286</td>\n      <td>0.0</td>\n      <td>India</td>\n      <td>0.110902</td>\n      <td>Band 2</td>\n      <td>Business Analytics</td>\n      <td>Management Studies</td>\n      <td>Management-related</td>\n      <td>University of Hyderabad - MBA Business Analytics</td>\n    </tr>\n  </tbody>\n</table>\n<p>3 rows × 31 columns</p>\n</div>"
     },
     "metadata": {}
    }
   ],
   "execution_count": null
  },
  {
   "cell_type": "markdown",
   "source": "## 1. Descriptive Statistics, Compute Complexity\n> Computing complexity measures and other descriptive stats of the program descriptions",
   "metadata": {
    "tags": [],
    "cell_id": "00002-81fa44ea-53e3-493f-b0b1-4d8ea01cddf6",
    "deepnote_cell_type": "markdown"
   }
  },
  {
   "cell_type": "code",
   "source": "categorical_features = [\n    'id', 'type', 'country', 'band', 'subject', 'dept_cat'\n]\n\nquant_features = [\n    'national_rank_qs',\n]",
   "metadata": {
    "tags": [],
    "cell_id": "00003-cd596795-db9e-404a-97ae-1123e42f6862",
    "deepnote_to_be_reexecuted": false,
    "source_hash": "65c27c5",
    "execution_start": 1627098322881,
    "execution_millis": 2,
    "deepnote_cell_type": "code"
   },
   "outputs": [],
   "execution_count": null
  },
  {
   "cell_type": "code",
   "source": "textual_complexity_df = ComplexityComputer(df.loc[0, 'descr']).get_complexity_measures()\nfor idx in range(1, df.shape[0]):\n    temp = ComplexityComputer(df.loc[idx, 'descr']).get_complexity_measures()\n    textual_complexity_df = pd.concat([textual_complexity_df, temp])\n\ntextual_complexity_df = textual_complexity_df.reset_index(drop=True)\ntextual_complexity_df.head()",
   "metadata": {
    "tags": [],
    "cell_id": "00003-e8b0568f-573e-449a-8c16-8e910b1d082b",
    "deepnote_to_be_reexecuted": false,
    "source_hash": "4649c4a3",
    "execution_start": 1627097987079,
    "execution_millis": 7077,
    "deepnote_cell_type": "code"
   },
   "outputs": [
    {
     "output_type": "execute_result",
     "execution_count": 3,
     "data": {
      "application/vnd.deepnote.dataframe.v2+json": {
       "row_count": 5,
       "column_count": 17,
       "columns": [
        {
         "name": "text",
         "dtype": "object",
         "stats": {
          "unique_count": 5,
          "nan_count": 0,
          "categories": [
           {
            "name": "Computational Science and Data Science are interdisciplinary areas that bring together the domain specific knowledge of science and engineering with relevant areas of computing systems and formal foundations. While computational science investigates scientific computing applications that require mathematical techniques and parallel computing, data science explores data-intensive applications that use scalable statistical and machine learning methods with Big Data and Cloud platforms. These impart foundational and scalable systems skills for computational and data sciences, with advanced courses selected by students to allow specialization on methods, platforms, and applications.",
            "count": 1
           },
           {
            "name": "  Artificial Intelligence has captured the imagination of the entire world with its potential ability to solve complex societal problems of our times: universal access to healthcare and education, efficient transportation, increased efficiency in providing e-governance services to the public, etc. Focused national efforts are underway in many countries. The Government of India has initiated widespread discussion on how India should strive to be among the top nations in the world in the AI ecosystem. The two-year M.Tech. in Artificial Intelligence aims to fill the critical needs of the industry and to fill the gap in the availability of high-end AI scientists and engineers.�The vision of the M.Tech. (AI) program is to impart rigorous training in the foundations and deep technology of Artificial Intelligence to produce graduates who can become world leaders in AI and lead India's march towards leadership in this important area. Curriculum tailored to bring students to the forefront of AI research and development.\nProgramme designed and administered by more than 30 faculty members working in leading edge topics in AI (https://ai.iisc.ac.in/).\nOne year research and development project to make our students the creators of futuristic applications of AI.\nEmphasis on publications, patents, products, and software.\nState-of-the-art computational and experimental facilities at one of the top institutions in the country.\nExcellent placement opportunities in reputed companies and industrial research labs pursuing high end, deep technology aspects of AI.",
            "count": 1
           },
           {
            "name": "3 others",
            "count": 3
           }
          ]
         }
        },
        {
         "name": "char_cnt",
         "dtype": "int64",
         "stats": {
          "unique_count": 5,
          "nan_count": 0,
          "min": "384",
          "max": "2911",
          "histogram": [
           {
            "bin_start": 384,
            "bin_end": 636.7,
            "count": 1
           },
           {
            "bin_start": 636.7,
            "bin_end": 889.4,
            "count": 1
           },
           {
            "bin_start": 889.4,
            "bin_end": 1142.1,
            "count": 1
           },
           {
            "bin_start": 1142.1,
            "bin_end": 1394.8,
            "count": 0
           },
           {
            "bin_start": 1394.8,
            "bin_end": 1647.5,
            "count": 1
           },
           {
            "bin_start": 1647.5,
            "bin_end": 1900.1999999999998,
            "count": 0
           },
           {
            "bin_start": 1900.1999999999998,
            "bin_end": 2152.8999999999996,
            "count": 0
           },
           {
            "bin_start": 2152.8999999999996,
            "bin_end": 2405.6,
            "count": 0
           },
           {
            "bin_start": 2405.6,
            "bin_end": 2658.2999999999997,
            "count": 0
           },
           {
            "bin_start": 2658.2999999999997,
            "bin_end": 2911,
            "count": 1
           }
          ]
         }
        },
        {
         "name": "word_cnt",
         "dtype": "int64",
         "stats": {
          "unique_count": 5,
          "nan_count": 0,
          "min": "61",
          "max": "419",
          "histogram": [
           {
            "bin_start": 61,
            "bin_end": 96.8,
            "count": 2
           },
           {
            "bin_start": 96.8,
            "bin_end": 132.6,
            "count": 0
           },
           {
            "bin_start": 132.6,
            "bin_end": 168.39999999999998,
            "count": 1
           },
           {
            "bin_start": 168.39999999999998,
            "bin_end": 204.2,
            "count": 0
           },
           {
            "bin_start": 204.2,
            "bin_end": 240,
            "count": 0
           },
           {
            "bin_start": 240,
            "bin_end": 275.79999999999995,
            "count": 1
           },
           {
            "bin_start": 275.79999999999995,
            "bin_end": 311.59999999999997,
            "count": 0
           },
           {
            "bin_start": 311.59999999999997,
            "bin_end": 347.4,
            "count": 0
           },
           {
            "bin_start": 347.4,
            "bin_end": 383.2,
            "count": 0
           },
           {
            "bin_start": 383.2,
            "bin_end": 419,
            "count": 1
           }
          ]
         }
        },
        {
         "name": "sent_cnt",
         "dtype": "int64",
         "stats": {
          "unique_count": 4,
          "nan_count": 0,
          "min": "3",
          "max": "24",
          "histogram": [
           {
            "bin_start": 3,
            "bin_end": 5.1,
            "count": 2
           },
           {
            "bin_start": 5.1,
            "bin_end": 7.2,
            "count": 0
           },
           {
            "bin_start": 7.2,
            "bin_end": 9.3,
            "count": 0
           },
           {
            "bin_start": 9.3,
            "bin_end": 11.4,
            "count": 0
           },
           {
            "bin_start": 11.4,
            "bin_end": 13.5,
            "count": 1
           },
           {
            "bin_start": 13.5,
            "bin_end": 15.600000000000001,
            "count": 1
           },
           {
            "bin_start": 15.600000000000001,
            "bin_end": 17.700000000000003,
            "count": 0
           },
           {
            "bin_start": 17.700000000000003,
            "bin_end": 19.8,
            "count": 0
           },
           {
            "bin_start": 19.8,
            "bin_end": 21.900000000000002,
            "count": 0
           },
           {
            "bin_start": 21.900000000000002,
            "bin_end": 24,
            "count": 1
           }
          ]
         }
        },
        {
         "name": "digits_cnt",
         "dtype": "int64",
         "stats": {
          "unique_count": 5,
          "nan_count": 0,
          "min": "0",
          "max": "12",
          "histogram": [
           {
            "bin_start": 0,
            "bin_end": 1.2,
            "count": 1
           },
           {
            "bin_start": 1.2,
            "bin_end": 2.4,
            "count": 0
           },
           {
            "bin_start": 2.4,
            "bin_end": 3.5999999999999996,
            "count": 1
           },
           {
            "bin_start": 3.5999999999999996,
            "bin_end": 4.8,
            "count": 1
           },
           {
            "bin_start": 4.8,
            "bin_end": 6,
            "count": 1
           },
           {
            "bin_start": 6,
            "bin_end": 7.199999999999999,
            "count": 0
           },
           {
            "bin_start": 7.199999999999999,
            "bin_end": 8.4,
            "count": 0
           },
           {
            "bin_start": 8.4,
            "bin_end": 9.6,
            "count": 0
           },
           {
            "bin_start": 9.6,
            "bin_end": 10.799999999999999,
            "count": 0
           },
           {
            "bin_start": 10.799999999999999,
            "bin_end": 12,
            "count": 1
           }
          ]
         }
        },
        {
         "name": "mean_chars_per_word",
         "dtype": "float64",
         "stats": {
          "unique_count": 5,
          "nan_count": 0,
          "min": "5.278688524590164",
          "max": "6.738636363636363",
          "histogram": [
           {
            "bin_start": 5.278688524590164,
            "bin_end": 5.424683308494784,
            "count": 2
           },
           {
            "bin_start": 5.424683308494784,
            "bin_end": 5.570678092399404,
            "count": 0
           },
           {
            "bin_start": 5.570678092399404,
            "bin_end": 5.716672876304024,
            "count": 0
           },
           {
            "bin_start": 5.716672876304024,
            "bin_end": 5.862667660208643,
            "count": 2
           },
           {
            "bin_start": 5.862667660208643,
            "bin_end": 6.008662444113264,
            "count": 0
           },
           {
            "bin_start": 6.008662444113264,
            "bin_end": 6.154657228017884,
            "count": 0
           },
           {
            "bin_start": 6.154657228017884,
            "bin_end": 6.300652011922503,
            "count": 0
           },
           {
            "bin_start": 6.300652011922503,
            "bin_end": 6.446646795827124,
            "count": 0
           },
           {
            "bin_start": 6.446646795827124,
            "bin_end": 6.592641579731743,
            "count": 0
           },
           {
            "bin_start": 6.592641579731743,
            "bin_end": 6.738636363636363,
            "count": 1
           }
          ]
         }
        },
        {
         "name": "median_chars_per_word",
         "dtype": "float64",
         "stats": {
          "unique_count": 4,
          "nan_count": 0,
          "min": "4.0",
          "max": "7.0",
          "histogram": [
           {
            "bin_start": 4,
            "bin_end": 4.3,
            "count": 2
           },
           {
            "bin_start": 4.3,
            "bin_end": 4.6,
            "count": 0
           },
           {
            "bin_start": 4.6,
            "bin_end": 4.9,
            "count": 0
           },
           {
            "bin_start": 4.9,
            "bin_end": 5.2,
            "count": 1
           },
           {
            "bin_start": 5.2,
            "bin_end": 5.5,
            "count": 0
           },
           {
            "bin_start": 5.5,
            "bin_end": 5.8,
            "count": 0
           },
           {
            "bin_start": 5.8,
            "bin_end": 6.1,
            "count": 1
           },
           {
            "bin_start": 6.1,
            "bin_end": 6.4,
            "count": 0
           },
           {
            "bin_start": 6.4,
            "bin_end": 6.699999999999999,
            "count": 0
           },
           {
            "bin_start": 6.699999999999999,
            "bin_end": 7,
            "count": 1
           }
          ]
         }
        },
        {
         "name": "mean_words_per_sent",
         "dtype": "float64",
         "stats": {
          "unique_count": 5,
          "nan_count": 0,
          "min": "11.357142857142858",
          "max": "29.333333333333332",
          "histogram": [
           {
            "bin_start": 11.357142857142858,
            "bin_end": 13.154761904761905,
            "count": 1
           },
           {
            "bin_start": 13.154761904761905,
            "bin_end": 14.952380952380953,
            "count": 0
           },
           {
            "bin_start": 14.952380952380953,
            "bin_end": 16.75,
            "count": 0
           },
           {
            "bin_start": 16.75,
            "bin_end": 18.547619047619047,
            "count": 1
           },
           {
            "bin_start": 18.547619047619047,
            "bin_end": 20.345238095238095,
            "count": 2
           },
           {
            "bin_start": 20.345238095238095,
            "bin_end": 22.142857142857142,
            "count": 0
           },
           {
            "bin_start": 22.142857142857142,
            "bin_end": 23.94047619047619,
            "count": 0
           },
           {
            "bin_start": 23.94047619047619,
            "bin_end": 25.738095238095237,
            "count": 0
           },
           {
            "bin_start": 25.738095238095237,
            "bin_end": 27.535714285714285,
            "count": 0
           },
           {
            "bin_start": 27.535714285714285,
            "bin_end": 29.333333333333332,
            "count": 1
           }
          ]
         }
        },
        {
         "name": "median_words_per_sent",
         "dtype": "float64",
         "stats": {
          "unique_count": 5,
          "nan_count": 0,
          "min": "10.0",
          "max": "28.0",
          "histogram": [
           {
            "bin_start": 10,
            "bin_end": 11.8,
            "count": 1
           },
           {
            "bin_start": 11.8,
            "bin_end": 13.6,
            "count": 1
           },
           {
            "bin_start": 13.6,
            "bin_end": 15.4,
            "count": 0
           },
           {
            "bin_start": 15.4,
            "bin_end": 17.2,
            "count": 0
           },
           {
            "bin_start": 17.2,
            "bin_end": 19,
            "count": 1
           },
           {
            "bin_start": 19,
            "bin_end": 20.8,
            "count": 0
           },
           {
            "bin_start": 20.8,
            "bin_end": 22.6,
            "count": 0
           },
           {
            "bin_start": 22.6,
            "bin_end": 24.4,
            "count": 1
           },
           {
            "bin_start": 24.4,
            "bin_end": 26.2,
            "count": 0
           },
           {
            "bin_start": 26.2,
            "bin_end": 28,
            "count": 1
           }
          ]
         }
        },
        {
         "name": "common_nouns_prop",
         "dtype": "float64",
         "stats": {
          "unique_count": 5,
          "nan_count": 0,
          "min": "0.29098360655737704",
          "max": "0.3710691823899371",
          "histogram": [
           {
            "bin_start": 0.29098360655737704,
            "bin_end": 0.29899216414063307,
            "count": 2
           },
           {
            "bin_start": 0.29899216414063307,
            "bin_end": 0.30700072172388904,
            "count": 0
           },
           {
            "bin_start": 0.30700072172388904,
            "bin_end": 0.31500927930714506,
            "count": 1
           },
           {
            "bin_start": 0.31500927930714506,
            "bin_end": 0.32301783689040103,
            "count": 0
           },
           {
            "bin_start": 0.32301783689040103,
            "bin_end": 0.33102639447365706,
            "count": 0
           },
           {
            "bin_start": 0.33102639447365706,
            "bin_end": 0.33903495205691303,
            "count": 0
           },
           {
            "bin_start": 0.33903495205691303,
            "bin_end": 0.34704350964016906,
            "count": 0
           },
           {
            "bin_start": 0.34704350964016906,
            "bin_end": 0.3550520672234251,
            "count": 0
           },
           {
            "bin_start": 0.3550520672234251,
            "bin_end": 0.36306062480668105,
            "count": 0
           },
           {
            "bin_start": 0.36306062480668105,
            "bin_end": 0.3710691823899371,
            "count": 2
           }
          ]
         }
        },
        {
         "name": "proper_nouns_prop",
         "dtype": "float64",
         "stats": {
          "unique_count": 5,
          "nan_count": 0,
          "min": "0.04918032786885246",
          "max": "0.16467780429594273",
          "histogram": [
           {
            "bin_start": 0.04918032786885246,
            "bin_end": 0.06073007551156148,
            "count": 2
           },
           {
            "bin_start": 0.06073007551156148,
            "bin_end": 0.0722798231542705,
            "count": 0
           },
           {
            "bin_start": 0.0722798231542705,
            "bin_end": 0.08382957079697954,
            "count": 1
           },
           {
            "bin_start": 0.08382957079697954,
            "bin_end": 0.09537931843968857,
            "count": 1
           },
           {
            "bin_start": 0.09537931843968857,
            "bin_end": 0.10692906608239759,
            "count": 0
           },
           {
            "bin_start": 0.10692906608239759,
            "bin_end": 0.11847881372510663,
            "count": 0
           },
           {
            "bin_start": 0.11847881372510663,
            "bin_end": 0.13002856136781565,
            "count": 0
           },
           {
            "bin_start": 0.13002856136781565,
            "bin_end": 0.14157830901052468,
            "count": 0
           },
           {
            "bin_start": 0.14157830901052468,
            "bin_end": 0.1531280566532337,
            "count": 0
           },
           {
            "bin_start": 0.1531280566532337,
            "bin_end": 0.16467780429594273,
            "count": 1
           }
          ]
         }
        },
        {
         "name": "adjectives_prop",
         "dtype": "float64",
         "stats": {
          "unique_count": 5,
          "nan_count": 0,
          "min": "0.059665871121718374",
          "max": "0.17045454545454544",
          "histogram": [
           {
            "bin_start": 0.059665871121718374,
            "bin_end": 0.07074473855500107,
            "count": 1
           },
           {
            "bin_start": 0.07074473855500107,
            "bin_end": 0.08182360598828378,
            "count": 0
           },
           {
            "bin_start": 0.08182360598828378,
            "bin_end": 0.09290247342156649,
            "count": 1
           },
           {
            "bin_start": 0.09290247342156649,
            "bin_end": 0.1039813408548492,
            "count": 1
           },
           {
            "bin_start": 0.1039813408548492,
            "bin_end": 0.1150602082881319,
            "count": 1
           },
           {
            "bin_start": 0.1150602082881319,
            "bin_end": 0.1261390757214146,
            "count": 0
           },
           {
            "bin_start": 0.1261390757214146,
            "bin_end": 0.13721794315469732,
            "count": 0
           },
           {
            "bin_start": 0.13721794315469732,
            "bin_end": 0.14829681058798003,
            "count": 0
           },
           {
            "bin_start": 0.14829681058798003,
            "bin_end": 0.15937567802126273,
            "count": 0
           },
           {
            "bin_start": 0.15937567802126273,
            "bin_end": 0.17045454545454544,
            "count": 1
           }
          ]
         }
        },
        {
         "name": "verbs_prop",
         "dtype": "float64",
         "stats": {
          "unique_count": 4,
          "nan_count": 0,
          "min": "0.081145584725537",
          "max": "0.11949685534591195",
          "histogram": [
           {
            "bin_start": 0.081145584725537,
            "bin_end": 0.08498071178757449,
            "count": 1
           },
           {
            "bin_start": 0.08498071178757449,
            "bin_end": 0.08881583884961199,
            "count": 0
           },
           {
            "bin_start": 0.08881583884961199,
            "bin_end": 0.09265096591164948,
            "count": 1
           },
           {
            "bin_start": 0.09265096591164948,
            "bin_end": 0.09648609297368697,
            "count": 0
           },
           {
            "bin_start": 0.09648609297368697,
            "bin_end": 0.10032122003572447,
            "count": 2
           },
           {
            "bin_start": 0.10032122003572447,
            "bin_end": 0.10415634709776198,
            "count": 0
           },
           {
            "bin_start": 0.10415634709776198,
            "bin_end": 0.10799147415979947,
            "count": 0
           },
           {
            "bin_start": 0.10799147415979947,
            "bin_end": 0.11182660122183696,
            "count": 0
           },
           {
            "bin_start": 0.11182660122183696,
            "bin_end": 0.11566172828387446,
            "count": 0
           },
           {
            "bin_start": 0.11566172828387446,
            "bin_end": 0.11949685534591195,
            "count": 1
           }
          ]
         }
        },
        {
         "name": "numerals_prop",
         "dtype": "float64",
         "stats": {
          "unique_count": 5,
          "nan_count": 0,
          "min": "0.0",
          "max": "0.04918032786885246",
          "histogram": [
           {
            "bin_start": 0,
            "bin_end": 0.0049180327868852455,
            "count": 1
           },
           {
            "bin_start": 0.0049180327868852455,
            "bin_end": 0.009836065573770491,
            "count": 0
           },
           {
            "bin_start": 0.009836065573770491,
            "bin_end": 0.014754098360655736,
            "count": 0
           },
           {
            "bin_start": 0.014754098360655736,
            "bin_end": 0.019672131147540982,
            "count": 2
           },
           {
            "bin_start": 0.019672131147540982,
            "bin_end": 0.02459016393442623,
            "count": 0
           },
           {
            "bin_start": 0.02459016393442623,
            "bin_end": 0.029508196721311473,
            "count": 0
           },
           {
            "bin_start": 0.029508196721311473,
            "bin_end": 0.034426229508196717,
            "count": 1
           },
           {
            "bin_start": 0.034426229508196717,
            "bin_end": 0.039344262295081964,
            "count": 0
           },
           {
            "bin_start": 0.039344262295081964,
            "bin_end": 0.04426229508196721,
            "count": 0
           },
           {
            "bin_start": 0.04426229508196721,
            "bin_end": 0.04918032786885246,
            "count": 1
           }
          ]
         }
        },
        {
         "name": "flesch_kincaid",
         "dtype": "float64",
         "stats": {
          "unique_count": 5,
          "nan_count": 0,
          "min": "10.1",
          "max": "21.7",
          "histogram": [
           {
            "bin_start": 10.1,
            "bin_end": 11.26,
            "count": 1
           },
           {
            "bin_start": 11.26,
            "bin_end": 12.42,
            "count": 0
           },
           {
            "bin_start": 12.42,
            "bin_end": 13.579999999999998,
            "count": 0
           },
           {
            "bin_start": 13.579999999999998,
            "bin_end": 14.739999999999998,
            "count": 2
           },
           {
            "bin_start": 14.739999999999998,
            "bin_end": 15.899999999999999,
            "count": 0
           },
           {
            "bin_start": 15.899999999999999,
            "bin_end": 17.06,
            "count": 0
           },
           {
            "bin_start": 17.06,
            "bin_end": 18.22,
            "count": 1
           },
           {
            "bin_start": 18.22,
            "bin_end": 19.38,
            "count": 0
           },
           {
            "bin_start": 19.38,
            "bin_end": 20.54,
            "count": 0
           },
           {
            "bin_start": 20.54,
            "bin_end": 21.7,
            "count": 1
           }
          ]
         }
        },
        {
         "name": "dale_chall",
         "dtype": "float64",
         "stats": {
          "unique_count": 5,
          "nan_count": 0,
          "min": "9.24",
          "max": "11.61",
          "histogram": [
           {
            "bin_start": 9.24,
            "bin_end": 9.477,
            "count": 2
           },
           {
            "bin_start": 9.477,
            "bin_end": 9.714,
            "count": 0
           },
           {
            "bin_start": 9.714,
            "bin_end": 9.951,
            "count": 1
           },
           {
            "bin_start": 9.951,
            "bin_end": 10.188,
            "count": 0
           },
           {
            "bin_start": 10.188,
            "bin_end": 10.425,
            "count": 1
           },
           {
            "bin_start": 10.425,
            "bin_end": 10.661999999999999,
            "count": 0
           },
           {
            "bin_start": 10.661999999999999,
            "bin_end": 10.899,
            "count": 0
           },
           {
            "bin_start": 10.899,
            "bin_end": 11.136,
            "count": 0
           },
           {
            "bin_start": 11.136,
            "bin_end": 11.373,
            "count": 0
           },
           {
            "bin_start": 11.373,
            "bin_end": 11.61,
            "count": 1
           }
          ]
         }
        },
        {
         "name": "mtld",
         "dtype": "float64",
         "stats": {
          "unique_count": 5,
          "nan_count": 0,
          "min": "46.95184899845917",
          "max": "80.39710610932475",
          "histogram": [
           {
            "bin_start": 46.95184899845917,
            "bin_end": 50.29637470954573,
            "count": 1
           },
           {
            "bin_start": 50.29637470954573,
            "bin_end": 53.640900420632285,
            "count": 0
           },
           {
            "bin_start": 53.640900420632285,
            "bin_end": 56.985426131718846,
            "count": 0
           },
           {
            "bin_start": 56.985426131718846,
            "bin_end": 60.3299518428054,
            "count": 1
           },
           {
            "bin_start": 60.3299518428054,
            "bin_end": 63.67447755389196,
            "count": 0
           },
           {
            "bin_start": 63.67447755389196,
            "bin_end": 67.01900326497852,
            "count": 0
           },
           {
            "bin_start": 67.01900326497852,
            "bin_end": 70.36352897606508,
            "count": 1
           },
           {
            "bin_start": 70.36352897606508,
            "bin_end": 73.70805468715164,
            "count": 0
           },
           {
            "bin_start": 73.70805468715164,
            "bin_end": 77.05258039823819,
            "count": 0
           },
           {
            "bin_start": 77.05258039823819,
            "bin_end": 80.39710610932475,
            "count": 2
           }
          ]
         }
        },
        {
         "name": "_deepnote_index_column",
         "dtype": "int64"
        }
       ],
       "rows_top": [
        {
         "text": "Computational Science and Data Science are interdisciplinary areas that bring together the domain s…",
         "char_cnt": 687,
         "word_cnt": 88,
         "sent_cnt": 3,
         "digits_cnt": 0,
         "mean_chars_per_word": 6.738636363636363,
         "median_chars_per_word": 7,
         "mean_words_per_sent": 29.333333333333332,
         "median_words_per_sent": 28,
         "common_nouns_prop": 0.36363636363636365,
         "proper_nouns_prop": 0.07954545454545454,
         "adjectives_prop": 0.17045454545454544,
         "verbs_prop": 0.09090909090909091,
         "numerals_prop": 0,
         "flesch_kincaid": 21.7,
         "dale_chall": 11.61,
         "mtld": 46.95184899845917,
         "_deepnote_index_column": 0
        },
        {
         "text": "  Artificial Intelligence has captured the imagination of the entire world with its potential abili…",
         "char_cnt": 1566,
         "word_cnt": 244,
         "sent_cnt": 13,
         "digits_cnt": 4,
         "mean_chars_per_word": 5.368852459016393,
         "median_chars_per_word": 4,
         "mean_words_per_sent": 18.76923076923077,
         "median_words_per_sent": 18,
         "common_nouns_prop": 0.29098360655737704,
         "proper_nouns_prop": 0.0942622950819672,
         "adjectives_prop": 0.11065573770491803,
         "verbs_prop": 0.09836065573770492,
         "numerals_prop": 0.01639344262295082,
         "flesch_kincaid": 14.6,
         "dale_chall": 10.41,
         "mtld": 79.34497816593887,
         "_deepnote_index_column": 1
        },
        {
         "text": " The School has launched a two year MBA in Business Analytics programme with an intake of 30 studen…",
         "char_cnt": 2911,
         "word_cnt": 419,
         "sent_cnt": 24,
         "digits_cnt": 12,
         "mean_chars_per_word": 5.832935560859188,
         "median_chars_per_word": 6,
         "mean_words_per_sent": 17.458333333333332,
         "median_words_per_sent": 13.5,
         "common_nouns_prop": 0.29594272076372313,
         "proper_nouns_prop": 0.16467780429594273,
         "adjectives_prop": 0.059665871121718374,
         "verbs_prop": 0.081145584725537,
         "numerals_prop": 0.01909307875894988,
         "flesch_kincaid": 17.5,
         "dale_chall": 9.27,
         "mtld": 59.886626929242965,
         "_deepnote_index_column": 2
        },
        {
         "text": " M.Tech Artificial Intelligence is also a four-semester course including two semesters of course wo…",
         "char_cnt": 384,
         "word_cnt": 61,
         "sent_cnt": 3,
         "digits_cnt": 3,
         "mean_chars_per_word": 5.278688524590164,
         "median_chars_per_word": 4,
         "mean_words_per_sent": 20.333333333333332,
         "median_words_per_sent": 23,
         "common_nouns_prop": 0.3114754098360656,
         "proper_nouns_prop": 0.04918032786885246,
         "adjectives_prop": 0.09836065573770492,
         "verbs_prop": 0.09836065573770492,
         "numerals_prop": 0.04918032786885246,
         "flesch_kincaid": 14.4,
         "dale_chall": 9.76,
         "mtld": 67.28,
         "_deepnote_index_column": 3
        },
        {
         "text": " Data Science is gaining prominence in academia and industry. Data science witnessing applications …",
         "char_cnt": 1101,
         "word_cnt": 159,
         "sent_cnt": 14,
         "digits_cnt": 5,
         "mean_chars_per_word": 5.767295597484277,
         "median_chars_per_word": 5,
         "mean_words_per_sent": 11.357142857142858,
         "median_words_per_sent": 10,
         "common_nouns_prop": 0.3710691823899371,
         "proper_nouns_prop": 0.050314465408805034,
         "adjectives_prop": 0.0880503144654088,
         "verbs_prop": 0.11949685534591195,
         "numerals_prop": 0.031446540880503145,
         "flesch_kincaid": 10.1,
         "dale_chall": 9.24,
         "mtld": 80.39710610932475,
         "_deepnote_index_column": 4
        }
       ],
       "rows_bottom": null
      },
      "text/plain": "                                                text  char_cnt  word_cnt  \\\n0  Computational Science and Data Science are int...       687        88   \n1    Artificial Intelligence has captured the ima...      1566       244   \n2   The School has launched a two year MBA in Bus...      2911       419   \n3   M.Tech Artificial Intelligence is also a four...       384        61   \n4   Data Science is gaining prominence in academi...      1101       159   \n\n   sent_cnt  digits_cnt  mean_chars_per_word  median_chars_per_word  \\\n0         3           0             6.738636                    7.0   \n1        13           4             5.368852                    4.0   \n2        24          12             5.832936                    6.0   \n3         3           3             5.278689                    4.0   \n4        14           5             5.767296                    5.0   \n\n   mean_words_per_sent  median_words_per_sent  common_nouns_prop  \\\n0            29.333333                   28.0           0.363636   \n1            18.769231                   18.0           0.290984   \n2            17.458333                   13.5           0.295943   \n3            20.333333                   23.0           0.311475   \n4            11.357143                   10.0           0.371069   \n\n   proper_nouns_prop  adjectives_prop  verbs_prop  numerals_prop  \\\n0           0.079545         0.170455    0.090909       0.000000   \n1           0.094262         0.110656    0.098361       0.016393   \n2           0.164678         0.059666    0.081146       0.019093   \n3           0.049180         0.098361    0.098361       0.049180   \n4           0.050314         0.088050    0.119497       0.031447   \n\n   flesch_kincaid  dale_chall       mtld  \n0            21.7       11.61  46.951849  \n1            14.6       10.41  79.344978  \n2            17.5        9.27  59.886627  \n3            14.4        9.76  67.280000  \n4            10.1        9.24  80.397106  ",
      "text/html": "<div>\n<style scoped>\n    .dataframe tbody tr th:only-of-type {\n        vertical-align: middle;\n    }\n\n    .dataframe tbody tr th {\n        vertical-align: top;\n    }\n\n    .dataframe thead th {\n        text-align: right;\n    }\n</style>\n<table border=\"1\" class=\"dataframe\">\n  <thead>\n    <tr style=\"text-align: right;\">\n      <th></th>\n      <th>text</th>\n      <th>char_cnt</th>\n      <th>word_cnt</th>\n      <th>sent_cnt</th>\n      <th>digits_cnt</th>\n      <th>mean_chars_per_word</th>\n      <th>median_chars_per_word</th>\n      <th>mean_words_per_sent</th>\n      <th>median_words_per_sent</th>\n      <th>common_nouns_prop</th>\n      <th>proper_nouns_prop</th>\n      <th>adjectives_prop</th>\n      <th>verbs_prop</th>\n      <th>numerals_prop</th>\n      <th>flesch_kincaid</th>\n      <th>dale_chall</th>\n      <th>mtld</th>\n    </tr>\n  </thead>\n  <tbody>\n    <tr>\n      <th>0</th>\n      <td>Computational Science and Data Science are int...</td>\n      <td>687</td>\n      <td>88</td>\n      <td>3</td>\n      <td>0</td>\n      <td>6.738636</td>\n      <td>7.0</td>\n      <td>29.333333</td>\n      <td>28.0</td>\n      <td>0.363636</td>\n      <td>0.079545</td>\n      <td>0.170455</td>\n      <td>0.090909</td>\n      <td>0.000000</td>\n      <td>21.7</td>\n      <td>11.61</td>\n      <td>46.951849</td>\n    </tr>\n    <tr>\n      <th>1</th>\n      <td>Artificial Intelligence has captured the ima...</td>\n      <td>1566</td>\n      <td>244</td>\n      <td>13</td>\n      <td>4</td>\n      <td>5.368852</td>\n      <td>4.0</td>\n      <td>18.769231</td>\n      <td>18.0</td>\n      <td>0.290984</td>\n      <td>0.094262</td>\n      <td>0.110656</td>\n      <td>0.098361</td>\n      <td>0.016393</td>\n      <td>14.6</td>\n      <td>10.41</td>\n      <td>79.344978</td>\n    </tr>\n    <tr>\n      <th>2</th>\n      <td>The School has launched a two year MBA in Bus...</td>\n      <td>2911</td>\n      <td>419</td>\n      <td>24</td>\n      <td>12</td>\n      <td>5.832936</td>\n      <td>6.0</td>\n      <td>17.458333</td>\n      <td>13.5</td>\n      <td>0.295943</td>\n      <td>0.164678</td>\n      <td>0.059666</td>\n      <td>0.081146</td>\n      <td>0.019093</td>\n      <td>17.5</td>\n      <td>9.27</td>\n      <td>59.886627</td>\n    </tr>\n    <tr>\n      <th>3</th>\n      <td>M.Tech Artificial Intelligence is also a four...</td>\n      <td>384</td>\n      <td>61</td>\n      <td>3</td>\n      <td>3</td>\n      <td>5.278689</td>\n      <td>4.0</td>\n      <td>20.333333</td>\n      <td>23.0</td>\n      <td>0.311475</td>\n      <td>0.049180</td>\n      <td>0.098361</td>\n      <td>0.098361</td>\n      <td>0.049180</td>\n      <td>14.4</td>\n      <td>9.76</td>\n      <td>67.280000</td>\n    </tr>\n    <tr>\n      <th>4</th>\n      <td>Data Science is gaining prominence in academi...</td>\n      <td>1101</td>\n      <td>159</td>\n      <td>14</td>\n      <td>5</td>\n      <td>5.767296</td>\n      <td>5.0</td>\n      <td>11.357143</td>\n      <td>10.0</td>\n      <td>0.371069</td>\n      <td>0.050314</td>\n      <td>0.088050</td>\n      <td>0.119497</td>\n      <td>0.031447</td>\n      <td>10.1</td>\n      <td>9.24</td>\n      <td>80.397106</td>\n    </tr>\n  </tbody>\n</table>\n</div>"
     },
     "metadata": {}
    }
   ],
   "execution_count": null
  },
  {
   "cell_type": "code",
   "source": "# for summary stats\ntextual_complexity_df.describe()",
   "metadata": {
    "tags": [],
    "cell_id": "00004-3059537f-052e-410d-88e6-b7d890f42dbc",
    "deepnote_to_be_reexecuted": false,
    "source_hash": "305414c4",
    "execution_start": 1627098133190,
    "execution_millis": 91,
    "deepnote_cell_type": "code"
   },
   "outputs": [
    {
     "output_type": "execute_result",
     "execution_count": 6,
     "data": {
      "application/vnd.deepnote.dataframe.v2+json": {
       "row_count": 8,
       "column_count": 16,
       "columns": [
        {
         "name": "char_cnt",
         "dtype": "float64",
         "stats": {
          "unique_count": 8,
          "nan_count": 0,
          "min": "12.0",
          "max": "8052.0",
          "histogram": [
           {
            "bin_start": 12,
            "bin_end": 816,
            "count": 3
           },
           {
            "bin_start": 816,
            "bin_end": 1620,
            "count": 3
           },
           {
            "bin_start": 1620,
            "bin_end": 2424,
            "count": 1
           },
           {
            "bin_start": 2424,
            "bin_end": 3228,
            "count": 0
           },
           {
            "bin_start": 3228,
            "bin_end": 4032,
            "count": 0
           },
           {
            "bin_start": 4032,
            "bin_end": 4836,
            "count": 0
           },
           {
            "bin_start": 4836,
            "bin_end": 5640,
            "count": 0
           },
           {
            "bin_start": 5640,
            "bin_end": 6444,
            "count": 0
           },
           {
            "bin_start": 6444,
            "bin_end": 7248,
            "count": 0
           },
           {
            "bin_start": 7248,
            "bin_end": 8052,
            "count": 1
           }
          ]
         }
        },
        {
         "name": "word_cnt",
         "dtype": "float64",
         "stats": {
          "unique_count": 8,
          "nan_count": 0,
          "min": "2.0",
          "max": "1182.0",
          "histogram": [
           {
            "bin_start": 2,
            "bin_end": 120,
            "count": 3
           },
           {
            "bin_start": 120,
            "bin_end": 238,
            "count": 3
           },
           {
            "bin_start": 238,
            "bin_end": 356,
            "count": 1
           },
           {
            "bin_start": 356,
            "bin_end": 474,
            "count": 0
           },
           {
            "bin_start": 474,
            "bin_end": 592,
            "count": 0
           },
           {
            "bin_start": 592,
            "bin_end": 710,
            "count": 0
           },
           {
            "bin_start": 710,
            "bin_end": 828,
            "count": 0
           },
           {
            "bin_start": 828,
            "bin_end": 946,
            "count": 0
           },
           {
            "bin_start": 946,
            "bin_end": 1064,
            "count": 0
           },
           {
            "bin_start": 1064,
            "bin_end": 1182,
            "count": 1
           }
          ]
         }
        },
        {
         "name": "sent_cnt",
         "dtype": "float64",
         "stats": {
          "unique_count": 8,
          "nan_count": 0,
          "min": "1.0",
          "max": "111.0",
          "histogram": [
           {
            "bin_start": 1,
            "bin_end": 12,
            "count": 6
           },
           {
            "bin_start": 12,
            "bin_end": 23,
            "count": 0
           },
           {
            "bin_start": 23,
            "bin_end": 34,
            "count": 0
           },
           {
            "bin_start": 34,
            "bin_end": 45,
            "count": 0
           },
           {
            "bin_start": 45,
            "bin_end": 56,
            "count": 1
           },
           {
            "bin_start": 56,
            "bin_end": 67,
            "count": 0
           },
           {
            "bin_start": 67,
            "bin_end": 78,
            "count": 0
           },
           {
            "bin_start": 78,
            "bin_end": 89,
            "count": 0
           },
           {
            "bin_start": 89,
            "bin_end": 100,
            "count": 0
           },
           {
            "bin_start": 100,
            "bin_end": 111,
            "count": 1
           }
          ]
         }
        },
        {
         "name": "digits_cnt",
         "dtype": "float64",
         "stats": {
          "unique_count": 7,
          "nan_count": 0,
          "min": "0.0",
          "max": "111.0",
          "histogram": [
           {
            "bin_start": 0,
            "bin_end": 11.1,
            "count": 6
           },
           {
            "bin_start": 11.1,
            "bin_end": 22.2,
            "count": 0
           },
           {
            "bin_start": 22.2,
            "bin_end": 33.3,
            "count": 1
           },
           {
            "bin_start": 33.3,
            "bin_end": 44.4,
            "count": 0
           },
           {
            "bin_start": 44.4,
            "bin_end": 55.5,
            "count": 0
           },
           {
            "bin_start": 55.5,
            "bin_end": 66.6,
            "count": 0
           },
           {
            "bin_start": 66.6,
            "bin_end": 77.7,
            "count": 0
           },
           {
            "bin_start": 77.7,
            "bin_end": 88.8,
            "count": 0
           },
           {
            "bin_start": 88.8,
            "bin_end": 99.89999999999999,
            "count": 0
           },
           {
            "bin_start": 99.89999999999999,
            "bin_end": 111,
            "count": 1
           }
          ]
         }
        },
        {
         "name": "mean_chars_per_word",
         "dtype": "float64",
         "stats": {
          "unique_count": 8,
          "nan_count": 0,
          "min": "0.36026705317189617",
          "max": "111.0",
          "histogram": [
           {
            "bin_start": 0.36026705317189617,
            "bin_end": 11.424240347854706,
            "count": 7
           },
           {
            "bin_start": 11.424240347854706,
            "bin_end": 22.488213642537517,
            "count": 0
           },
           {
            "bin_start": 22.488213642537517,
            "bin_end": 33.55218693722033,
            "count": 0
           },
           {
            "bin_start": 33.55218693722033,
            "bin_end": 44.61616023190314,
            "count": 0
           },
           {
            "bin_start": 44.61616023190314,
            "bin_end": 55.68013352658595,
            "count": 0
           },
           {
            "bin_start": 55.68013352658595,
            "bin_end": 66.74410682126876,
            "count": 0
           },
           {
            "bin_start": 66.74410682126876,
            "bin_end": 77.80808011595157,
            "count": 0
           },
           {
            "bin_start": 77.80808011595157,
            "bin_end": 88.87205341063438,
            "count": 0
           },
           {
            "bin_start": 88.87205341063438,
            "bin_end": 99.93602670531719,
            "count": 0
           },
           {
            "bin_start": 99.93602670531719,
            "bin_end": 111,
            "count": 1
           }
          ]
         }
        },
        {
         "name": "median_chars_per_word",
         "dtype": "float64",
         "stats": {
          "unique_count": 8,
          "nan_count": 0,
          "min": "0.8479874521965047",
          "max": "111.0",
          "histogram": [
           {
            "bin_start": 0.8479874521965047,
            "bin_end": 11.863188706976853,
            "count": 7
           },
           {
            "bin_start": 11.863188706976853,
            "bin_end": 22.878389961757204,
            "count": 0
           },
           {
            "bin_start": 22.878389961757204,
            "bin_end": 33.89359121653755,
            "count": 0
           },
           {
            "bin_start": 33.89359121653755,
            "bin_end": 44.9087924713179,
            "count": 0
           },
           {
            "bin_start": 44.9087924713179,
            "bin_end": 55.92399372609825,
            "count": 0
           },
           {
            "bin_start": 55.92399372609825,
            "bin_end": 66.9391949808786,
            "count": 0
           },
           {
            "bin_start": 66.9391949808786,
            "bin_end": 77.95439623565895,
            "count": 0
           },
           {
            "bin_start": 77.95439623565895,
            "bin_end": 88.9695974904393,
            "count": 0
           },
           {
            "bin_start": 88.9695974904393,
            "bin_end": 99.98479874521965,
            "count": 0
           },
           {
            "bin_start": 99.98479874521965,
            "bin_end": 111,
            "count": 1
           }
          ]
         }
        },
        {
         "name": "mean_words_per_sent",
         "dtype": "float64",
         "stats": {
          "unique_count": 8,
          "nan_count": 0,
          "min": "2.0",
          "max": "124.0",
          "histogram": [
           {
            "bin_start": 2,
            "bin_end": 14.2,
            "count": 2
           },
           {
            "bin_start": 14.2,
            "bin_end": 26.4,
            "count": 2
           },
           {
            "bin_start": 26.4,
            "bin_end": 38.599999999999994,
            "count": 2
           },
           {
            "bin_start": 38.599999999999994,
            "bin_end": 50.8,
            "count": 0
           },
           {
            "bin_start": 50.8,
            "bin_end": 63,
            "count": 0
           },
           {
            "bin_start": 63,
            "bin_end": 75.19999999999999,
            "count": 0
           },
           {
            "bin_start": 75.19999999999999,
            "bin_end": 87.39999999999999,
            "count": 0
           },
           {
            "bin_start": 87.39999999999999,
            "bin_end": 99.6,
            "count": 0
           },
           {
            "bin_start": 99.6,
            "bin_end": 111.8,
            "count": 1
           },
           {
            "bin_start": 111.8,
            "bin_end": 124,
            "count": 1
           }
          ]
         }
        },
        {
         "name": "median_words_per_sent",
         "dtype": "float64",
         "stats": {
          "unique_count": 8,
          "nan_count": 0,
          "min": "2.0",
          "max": "124.0",
          "histogram": [
           {
            "bin_start": 2,
            "bin_end": 14.2,
            "count": 2
           },
           {
            "bin_start": 14.2,
            "bin_end": 26.4,
            "count": 3
           },
           {
            "bin_start": 26.4,
            "bin_end": 38.599999999999994,
            "count": 1
           },
           {
            "bin_start": 38.599999999999994,
            "bin_end": 50.8,
            "count": 0
           },
           {
            "bin_start": 50.8,
            "bin_end": 63,
            "count": 0
           },
           {
            "bin_start": 63,
            "bin_end": 75.19999999999999,
            "count": 0
           },
           {
            "bin_start": 75.19999999999999,
            "bin_end": 87.39999999999999,
            "count": 0
           },
           {
            "bin_start": 87.39999999999999,
            "bin_end": 99.6,
            "count": 0
           },
           {
            "bin_start": 99.6,
            "bin_end": 111.8,
            "count": 1
           },
           {
            "bin_start": 111.8,
            "bin_end": 124,
            "count": 1
           }
          ]
         }
        },
        {
         "name": "common_nouns_prop",
         "dtype": "float64",
         "stats": {
          "unique_count": 8,
          "nan_count": 0,
          "min": "0.0",
          "max": "111.0",
          "histogram": [
           {
            "bin_start": 0,
            "bin_end": 11.1,
            "count": 7
           },
           {
            "bin_start": 11.1,
            "bin_end": 22.2,
            "count": 0
           },
           {
            "bin_start": 22.2,
            "bin_end": 33.3,
            "count": 0
           },
           {
            "bin_start": 33.3,
            "bin_end": 44.4,
            "count": 0
           },
           {
            "bin_start": 44.4,
            "bin_end": 55.5,
            "count": 0
           },
           {
            "bin_start": 55.5,
            "bin_end": 66.6,
            "count": 0
           },
           {
            "bin_start": 66.6,
            "bin_end": 77.7,
            "count": 0
           },
           {
            "bin_start": 77.7,
            "bin_end": 88.8,
            "count": 0
           },
           {
            "bin_start": 88.8,
            "bin_end": 99.89999999999999,
            "count": 0
           },
           {
            "bin_start": 99.89999999999999,
            "bin_end": 111,
            "count": 1
           }
          ]
         }
        },
        {
         "name": "proper_nouns_prop",
         "dtype": "float64",
         "stats": {
          "unique_count": 8,
          "nan_count": 0,
          "min": "0.0",
          "max": "111.0",
          "histogram": [
           {
            "bin_start": 0,
            "bin_end": 11.1,
            "count": 7
           },
           {
            "bin_start": 11.1,
            "bin_end": 22.2,
            "count": 0
           },
           {
            "bin_start": 22.2,
            "bin_end": 33.3,
            "count": 0
           },
           {
            "bin_start": 33.3,
            "bin_end": 44.4,
            "count": 0
           },
           {
            "bin_start": 44.4,
            "bin_end": 55.5,
            "count": 0
           },
           {
            "bin_start": 55.5,
            "bin_end": 66.6,
            "count": 0
           },
           {
            "bin_start": 66.6,
            "bin_end": 77.7,
            "count": 0
           },
           {
            "bin_start": 77.7,
            "bin_end": 88.8,
            "count": 0
           },
           {
            "bin_start": 88.8,
            "bin_end": 99.89999999999999,
            "count": 0
           },
           {
            "bin_start": 99.89999999999999,
            "bin_end": 111,
            "count": 1
           }
          ]
         }
        },
        {
         "name": "adjectives_prop",
         "dtype": "float64",
         "stats": {
          "unique_count": 8,
          "nan_count": 0,
          "min": "0.0",
          "max": "111.0",
          "histogram": [
           {
            "bin_start": 0,
            "bin_end": 11.1,
            "count": 7
           },
           {
            "bin_start": 11.1,
            "bin_end": 22.2,
            "count": 0
           },
           {
            "bin_start": 22.2,
            "bin_end": 33.3,
            "count": 0
           },
           {
            "bin_start": 33.3,
            "bin_end": 44.4,
            "count": 0
           },
           {
            "bin_start": 44.4,
            "bin_end": 55.5,
            "count": 0
           },
           {
            "bin_start": 55.5,
            "bin_end": 66.6,
            "count": 0
           },
           {
            "bin_start": 66.6,
            "bin_end": 77.7,
            "count": 0
           },
           {
            "bin_start": 77.7,
            "bin_end": 88.8,
            "count": 0
           },
           {
            "bin_start": 88.8,
            "bin_end": 99.89999999999999,
            "count": 0
           },
           {
            "bin_start": 99.89999999999999,
            "bin_end": 111,
            "count": 1
           }
          ]
         }
        },
        {
         "name": "verbs_prop",
         "dtype": "float64",
         "stats": {
          "unique_count": 8,
          "nan_count": 0,
          "min": "0.04081632653061224",
          "max": "111.0",
          "histogram": [
           {
            "bin_start": 0.04081632653061224,
            "bin_end": 11.13673469387755,
            "count": 7
           },
           {
            "bin_start": 11.13673469387755,
            "bin_end": 22.23265306122449,
            "count": 0
           },
           {
            "bin_start": 22.23265306122449,
            "bin_end": 33.32857142857142,
            "count": 0
           },
           {
            "bin_start": 33.32857142857142,
            "bin_end": 44.42448979591836,
            "count": 0
           },
           {
            "bin_start": 44.42448979591836,
            "bin_end": 55.5204081632653,
            "count": 0
           },
           {
            "bin_start": 55.5204081632653,
            "bin_end": 66.61632653061224,
            "count": 0
           },
           {
            "bin_start": 66.61632653061224,
            "bin_end": 77.71224489795918,
            "count": 0
           },
           {
            "bin_start": 77.71224489795918,
            "bin_end": 88.80816326530612,
            "count": 0
           },
           {
            "bin_start": 88.80816326530612,
            "bin_end": 99.90408163265306,
            "count": 0
           },
           {
            "bin_start": 99.90408163265306,
            "bin_end": 111,
            "count": 1
           }
          ]
         }
        },
        {
         "name": "numerals_prop",
         "dtype": "float64",
         "stats": {
          "unique_count": 7,
          "nan_count": 0,
          "min": "0.0",
          "max": "111.0",
          "histogram": [
           {
            "bin_start": 0,
            "bin_end": 11.1,
            "count": 7
           },
           {
            "bin_start": 11.1,
            "bin_end": 22.2,
            "count": 0
           },
           {
            "bin_start": 22.2,
            "bin_end": 33.3,
            "count": 0
           },
           {
            "bin_start": 33.3,
            "bin_end": 44.4,
            "count": 0
           },
           {
            "bin_start": 44.4,
            "bin_end": 55.5,
            "count": 0
           },
           {
            "bin_start": 55.5,
            "bin_end": 66.6,
            "count": 0
           },
           {
            "bin_start": 66.6,
            "bin_end": 77.7,
            "count": 0
           },
           {
            "bin_start": 77.7,
            "bin_end": 88.8,
            "count": 0
           },
           {
            "bin_start": 88.8,
            "bin_end": 99.89999999999999,
            "count": 0
           },
           {
            "bin_start": 99.89999999999999,
            "bin_end": 111,
            "count": 1
           }
          ]
         }
        },
        {
         "name": "flesch_kincaid",
         "dtype": "float64",
         "stats": {
          "unique_count": 8,
          "nan_count": 0,
          "min": "2.9",
          "max": "111.0",
          "histogram": [
           {
            "bin_start": 2.9,
            "bin_end": 13.709999999999999,
            "count": 2
           },
           {
            "bin_start": 13.709999999999999,
            "bin_end": 24.519999999999996,
            "count": 4
           },
           {
            "bin_start": 24.519999999999996,
            "bin_end": 35.32999999999999,
            "count": 0
           },
           {
            "bin_start": 35.32999999999999,
            "bin_end": 46.13999999999999,
            "count": 0
           },
           {
            "bin_start": 46.13999999999999,
            "bin_end": 56.949999999999996,
            "count": 1
           },
           {
            "bin_start": 56.949999999999996,
            "bin_end": 67.75999999999999,
            "count": 0
           },
           {
            "bin_start": 67.75999999999999,
            "bin_end": 78.57,
            "count": 0
           },
           {
            "bin_start": 78.57,
            "bin_end": 89.38,
            "count": 0
           },
           {
            "bin_start": 89.38,
            "bin_end": 100.19,
            "count": 0
           },
           {
            "bin_start": 100.19,
            "bin_end": 111,
            "count": 1
           }
          ]
         }
        },
        {
         "name": "dale_chall",
         "dtype": "float64",
         "stats": {
          "unique_count": 8,
          "nan_count": 0,
          "min": "1.3645076031964787",
          "max": "111.0",
          "histogram": [
           {
            "bin_start": 1.3645076031964787,
            "bin_end": 12.328056842876832,
            "count": 6
           },
           {
            "bin_start": 12.328056842876832,
            "bin_end": 23.291606082557184,
            "count": 1
           },
           {
            "bin_start": 23.291606082557184,
            "bin_end": 34.255155322237535,
            "count": 0
           },
           {
            "bin_start": 34.255155322237535,
            "bin_end": 45.21870456191789,
            "count": 0
           },
           {
            "bin_start": 45.21870456191789,
            "bin_end": 56.18225380159824,
            "count": 0
           },
           {
            "bin_start": 56.18225380159824,
            "bin_end": 67.14580304127858,
            "count": 0
           },
           {
            "bin_start": 67.14580304127858,
            "bin_end": 78.10935228095894,
            "count": 0
           },
           {
            "bin_start": 78.10935228095894,
            "bin_end": 89.07290152063929,
            "count": 0
           },
           {
            "bin_start": 89.07290152063929,
            "bin_end": 100.03645076031964,
            "count": 0
           },
           {
            "bin_start": 100.03645076031964,
            "bin_end": 111,
            "count": 1
           }
          ]
         }
        },
        {
         "name": "mtld",
         "dtype": "float64",
         "stats": {
          "unique_count": 8,
          "nan_count": 0,
          "min": "2.0",
          "max": "161.00000000000006",
          "histogram": [
           {
            "bin_start": 2,
            "bin_end": 17.900000000000006,
            "count": 1
           },
           {
            "bin_start": 17.900000000000006,
            "bin_end": 33.80000000000001,
            "count": 1
           },
           {
            "bin_start": 33.80000000000001,
            "bin_end": 49.70000000000002,
            "count": 0
           },
           {
            "bin_start": 49.70000000000002,
            "bin_end": 65.60000000000002,
            "count": 1
           },
           {
            "bin_start": 65.60000000000002,
            "bin_end": 81.50000000000003,
            "count": 2
           },
           {
            "bin_start": 81.50000000000003,
            "bin_end": 97.40000000000003,
            "count": 1
           },
           {
            "bin_start": 97.40000000000003,
            "bin_end": 113.30000000000004,
            "count": 1
           },
           {
            "bin_start": 113.30000000000004,
            "bin_end": 129.20000000000005,
            "count": 0
           },
           {
            "bin_start": 129.20000000000005,
            "bin_end": 145.10000000000005,
            "count": 0
           },
           {
            "bin_start": 145.10000000000005,
            "bin_end": 161.00000000000006,
            "count": 1
           }
          ]
         }
        },
        {
         "name": "_deepnote_index_column",
         "dtype": "object"
        }
       ],
       "rows_top": [
        {
         "char_cnt": 111,
         "word_cnt": 111,
         "sent_cnt": 111,
         "digits_cnt": 111,
         "mean_chars_per_word": 111,
         "median_chars_per_word": 111,
         "mean_words_per_sent": 111,
         "median_words_per_sent": 111,
         "common_nouns_prop": 111,
         "proper_nouns_prop": 111,
         "adjectives_prop": 111,
         "verbs_prop": 111,
         "numerals_prop": 111,
         "flesch_kincaid": 111,
         "dale_chall": 111,
         "mtld": 111,
         "_deepnote_index_column": "count"
        },
        {
         "char_cnt": 1295.4144144144145,
         "word_cnt": 194.16216216216216,
         "sent_cnt": 8.00900900900901,
         "digits_cnt": 2.144144144144144,
         "mean_chars_per_word": 5.572909982801101,
         "median_chars_per_word": 5.09009009009009,
         "mean_words_per_sent": 26.463184699424193,
         "median_words_per_sent": 24.905405405405407,
         "common_nouns_prop": 0.31007832012135117,
         "proper_nouns_prop": 0.08340230297442154,
         "adjectives_prop": 0.08717522153836624,
         "verbs_prop": 0.1268369664241207,
         "numerals_prop": 0.00859129423781474,
         "flesch_kincaid": 20.419819819819825,
         "dale_chall": 10.734234234234236,
         "mtld": 74.76373070233475,
         "_deepnote_index_column": "mean"
        },
        {
         "char_cnt": 1025.0469653849434,
         "word_cnt": 150.83528285942435,
         "sent_cnt": 6.673550909094928,
         "digits_cnt": 3.4924512018373854,
         "mean_chars_per_word": 0.36026705317189617,
         "median_chars_per_word": 0.8479874521965047,
         "mean_words_per_sent": 13.098318623035164,
         "median_words_per_sent": 12.935418873197012,
         "common_nouns_prop": 0.07686349646505346,
         "proper_nouns_prop": 0.05678789256996264,
         "adjectives_prop": 0.03123865584271924,
         "verbs_prop": 0.06838879870853426,
         "numerals_prop": 0.011542732992296387,
         "flesch_kincaid": 8.852301393831999,
         "dale_chall": 1.3645076031964787,
         "mtld": 25.13451538728754,
         "_deepnote_index_column": "std"
        },
        {
         "char_cnt": 12,
         "word_cnt": 2,
         "sent_cnt": 1,
         "digits_cnt": 0,
         "mean_chars_per_word": 4.5852272727272725,
         "median_chars_per_word": 4,
         "mean_words_per_sent": 2,
         "median_words_per_sent": 2,
         "common_nouns_prop": 0,
         "proper_nouns_prop": 0,
         "adjectives_prop": 0,
         "verbs_prop": 0.04081632653061224,
         "numerals_prop": 0,
         "flesch_kincaid": 2.9,
         "dale_chall": 8.09,
         "mtld": 2,
         "_deepnote_index_column": "min"
        },
        {
         "char_cnt": 660.5,
         "word_cnt": 94.5,
         "sent_cnt": 4,
         "digits_cnt": 0,
         "mean_chars_per_word": 5.340986956783074,
         "median_chars_per_word": 4.5,
         "mean_words_per_sent": 20.1875,
         "median_words_per_sent": 19,
         "common_nouns_prop": 0.27951533232259007,
         "proper_nouns_prop": 0.04633273703041145,
         "adjectives_prop": 0.06894689079987901,
         "verbs_prop": 0.09556425309849967,
         "numerals_prop": 0,
         "flesch_kincaid": 15.75,
         "dale_chall": 9.774999999999999,
         "mtld": 58.91885552946438,
         "_deepnote_index_column": "25%"
        },
        {
         "char_cnt": 1141,
         "word_cnt": 175,
         "sent_cnt": 6,
         "digits_cnt": 1,
         "mean_chars_per_word": 5.564285714285714,
         "median_chars_per_word": 5,
         "mean_words_per_sent": 25.142857142857142,
         "median_words_per_sent": 23,
         "common_nouns_prop": 0.3114754098360656,
         "proper_nouns_prop": 0.07659574468085106,
         "adjectives_prop": 0.08071748878923767,
         "verbs_prop": 0.11914893617021277,
         "numerals_prop": 0.004694835680751174,
         "flesch_kincaid": 18.5,
         "dale_chall": 10.6,
         "mtld": 75.77620215897939,
         "_deepnote_index_column": "50%"
        },
        {
         "char_cnt": 1625,
         "word_cnt": 253,
         "sent_cnt": 11,
         "digits_cnt": 3,
         "mean_chars_per_word": 5.7732581883525285,
         "median_chars_per_word": 6,
         "mean_words_per_sent": 30.166666666666668,
         "median_words_per_sent": 30,
         "common_nouns_prop": 0.3553027050236153,
         "proper_nouns_prop": 0.11547377571718342,
         "adjectives_prop": 0.10403738949265161,
         "verbs_prop": 0.13648459383753503,
         "numerals_prop": 0.012906167108753315,
         "flesch_kincaid": 21.95,
         "dale_chall": 11.575,
         "mtld": 92.08514711047061,
         "_deepnote_index_column": "75%"
        },
        {
         "char_cnt": 8052,
         "word_cnt": 1182,
         "sent_cnt": 49,
         "digits_cnt": 24,
         "mean_chars_per_word": 6.738636363636363,
         "median_chars_per_word": 7,
         "mean_words_per_sent": 124,
         "median_words_per_sent": 124,
         "common_nouns_prop": 0.5357142857142857,
         "proper_nouns_prop": 0.31971153846153844,
         "adjectives_prop": 0.17857142857142858,
         "verbs_prop": 0.5,
         "numerals_prop": 0.06060606060606061,
         "flesch_kincaid": 54.2,
         "dale_chall": 15.11,
         "mtld": 161.00000000000006,
         "_deepnote_index_column": "max"
        }
       ],
       "rows_bottom": null
      },
      "text/plain": "          char_cnt     word_cnt    sent_cnt  digits_cnt  mean_chars_per_word  \\\ncount   111.000000   111.000000  111.000000  111.000000           111.000000   \nmean   1295.414414   194.162162    8.009009    2.144144             5.572910   \nstd    1025.046965   150.835283    6.673551    3.492451             0.360267   \nmin      12.000000     2.000000    1.000000    0.000000             4.585227   \n25%     660.500000    94.500000    4.000000    0.000000             5.340987   \n50%    1141.000000   175.000000    6.000000    1.000000             5.564286   \n75%    1625.000000   253.000000   11.000000    3.000000             5.773258   \nmax    8052.000000  1182.000000   49.000000   24.000000             6.738636   \n\n       median_chars_per_word  mean_words_per_sent  median_words_per_sent  \\\ncount             111.000000           111.000000             111.000000   \nmean                5.090090            26.463185              24.905405   \nstd                 0.847987            13.098319              12.935419   \nmin                 4.000000             2.000000               2.000000   \n25%                 4.500000            20.187500              19.000000   \n50%                 5.000000            25.142857              23.000000   \n75%                 6.000000            30.166667              30.000000   \nmax                 7.000000           124.000000             124.000000   \n\n       common_nouns_prop  proper_nouns_prop  adjectives_prop  verbs_prop  \\\ncount         111.000000         111.000000       111.000000  111.000000   \nmean            0.310078           0.083402         0.087175    0.126837   \nstd             0.076863           0.056788         0.031239    0.068389   \nmin             0.000000           0.000000         0.000000    0.040816   \n25%             0.279515           0.046333         0.068947    0.095564   \n50%             0.311475           0.076596         0.080717    0.119149   \n75%             0.355303           0.115474         0.104037    0.136485   \nmax             0.535714           0.319712         0.178571    0.500000   \n\n       numerals_prop  flesch_kincaid  dale_chall        mtld  \ncount     111.000000      111.000000  111.000000  111.000000  \nmean        0.008591       20.419820   10.734234   74.763731  \nstd         0.011543        8.852301    1.364508   25.134515  \nmin         0.000000        2.900000    8.090000    2.000000  \n25%         0.000000       15.750000    9.775000   58.918856  \n50%         0.004695       18.500000   10.600000   75.776202  \n75%         0.012906       21.950000   11.575000   92.085147  \nmax         0.060606       54.200000   15.110000  161.000000  ",
      "text/html": "<div>\n<style scoped>\n    .dataframe tbody tr th:only-of-type {\n        vertical-align: middle;\n    }\n\n    .dataframe tbody tr th {\n        vertical-align: top;\n    }\n\n    .dataframe thead th {\n        text-align: right;\n    }\n</style>\n<table border=\"1\" class=\"dataframe\">\n  <thead>\n    <tr style=\"text-align: right;\">\n      <th></th>\n      <th>char_cnt</th>\n      <th>word_cnt</th>\n      <th>sent_cnt</th>\n      <th>digits_cnt</th>\n      <th>mean_chars_per_word</th>\n      <th>median_chars_per_word</th>\n      <th>mean_words_per_sent</th>\n      <th>median_words_per_sent</th>\n      <th>common_nouns_prop</th>\n      <th>proper_nouns_prop</th>\n      <th>adjectives_prop</th>\n      <th>verbs_prop</th>\n      <th>numerals_prop</th>\n      <th>flesch_kincaid</th>\n      <th>dale_chall</th>\n      <th>mtld</th>\n    </tr>\n  </thead>\n  <tbody>\n    <tr>\n      <th>count</th>\n      <td>111.000000</td>\n      <td>111.000000</td>\n      <td>111.000000</td>\n      <td>111.000000</td>\n      <td>111.000000</td>\n      <td>111.000000</td>\n      <td>111.000000</td>\n      <td>111.000000</td>\n      <td>111.000000</td>\n      <td>111.000000</td>\n      <td>111.000000</td>\n      <td>111.000000</td>\n      <td>111.000000</td>\n      <td>111.000000</td>\n      <td>111.000000</td>\n      <td>111.000000</td>\n    </tr>\n    <tr>\n      <th>mean</th>\n      <td>1295.414414</td>\n      <td>194.162162</td>\n      <td>8.009009</td>\n      <td>2.144144</td>\n      <td>5.572910</td>\n      <td>5.090090</td>\n      <td>26.463185</td>\n      <td>24.905405</td>\n      <td>0.310078</td>\n      <td>0.083402</td>\n      <td>0.087175</td>\n      <td>0.126837</td>\n      <td>0.008591</td>\n      <td>20.419820</td>\n      <td>10.734234</td>\n      <td>74.763731</td>\n    </tr>\n    <tr>\n      <th>std</th>\n      <td>1025.046965</td>\n      <td>150.835283</td>\n      <td>6.673551</td>\n      <td>3.492451</td>\n      <td>0.360267</td>\n      <td>0.847987</td>\n      <td>13.098319</td>\n      <td>12.935419</td>\n      <td>0.076863</td>\n      <td>0.056788</td>\n      <td>0.031239</td>\n      <td>0.068389</td>\n      <td>0.011543</td>\n      <td>8.852301</td>\n      <td>1.364508</td>\n      <td>25.134515</td>\n    </tr>\n    <tr>\n      <th>min</th>\n      <td>12.000000</td>\n      <td>2.000000</td>\n      <td>1.000000</td>\n      <td>0.000000</td>\n      <td>4.585227</td>\n      <td>4.000000</td>\n      <td>2.000000</td>\n      <td>2.000000</td>\n      <td>0.000000</td>\n      <td>0.000000</td>\n      <td>0.000000</td>\n      <td>0.040816</td>\n      <td>0.000000</td>\n      <td>2.900000</td>\n      <td>8.090000</td>\n      <td>2.000000</td>\n    </tr>\n    <tr>\n      <th>25%</th>\n      <td>660.500000</td>\n      <td>94.500000</td>\n      <td>4.000000</td>\n      <td>0.000000</td>\n      <td>5.340987</td>\n      <td>4.500000</td>\n      <td>20.187500</td>\n      <td>19.000000</td>\n      <td>0.279515</td>\n      <td>0.046333</td>\n      <td>0.068947</td>\n      <td>0.095564</td>\n      <td>0.000000</td>\n      <td>15.750000</td>\n      <td>9.775000</td>\n      <td>58.918856</td>\n    </tr>\n    <tr>\n      <th>50%</th>\n      <td>1141.000000</td>\n      <td>175.000000</td>\n      <td>6.000000</td>\n      <td>1.000000</td>\n      <td>5.564286</td>\n      <td>5.000000</td>\n      <td>25.142857</td>\n      <td>23.000000</td>\n      <td>0.311475</td>\n      <td>0.076596</td>\n      <td>0.080717</td>\n      <td>0.119149</td>\n      <td>0.004695</td>\n      <td>18.500000</td>\n      <td>10.600000</td>\n      <td>75.776202</td>\n    </tr>\n    <tr>\n      <th>75%</th>\n      <td>1625.000000</td>\n      <td>253.000000</td>\n      <td>11.000000</td>\n      <td>3.000000</td>\n      <td>5.773258</td>\n      <td>6.000000</td>\n      <td>30.166667</td>\n      <td>30.000000</td>\n      <td>0.355303</td>\n      <td>0.115474</td>\n      <td>0.104037</td>\n      <td>0.136485</td>\n      <td>0.012906</td>\n      <td>21.950000</td>\n      <td>11.575000</td>\n      <td>92.085147</td>\n    </tr>\n    <tr>\n      <th>max</th>\n      <td>8052.000000</td>\n      <td>1182.000000</td>\n      <td>49.000000</td>\n      <td>24.000000</td>\n      <td>6.738636</td>\n      <td>7.000000</td>\n      <td>124.000000</td>\n      <td>124.000000</td>\n      <td>0.535714</td>\n      <td>0.319712</td>\n      <td>0.178571</td>\n      <td>0.500000</td>\n      <td>0.060606</td>\n      <td>54.200000</td>\n      <td>15.110000</td>\n      <td>161.000000</td>\n    </tr>\n  </tbody>\n</table>\n</div>"
     },
     "metadata": {}
    }
   ],
   "execution_count": null
  },
  {
   "cell_type": "code",
   "source": "# merge with original to form new dataframe\ndf_complexity_merged = pd.merge(df, textual_complexity_df, left_on='descr', right_on='text')\ndf_complexity_merged = df_complexity_merged.drop('text', axis=1)\ndf_complexity_merged.shape",
   "metadata": {
    "tags": [],
    "cell_id": "00005-d5f1e33d-1efb-4f0d-833f-968bc45ae4c3",
    "deepnote_to_be_reexecuted": false,
    "source_hash": "f576675",
    "execution_start": 1627107910667,
    "execution_millis": 7,
    "deepnote_cell_type": "code"
   },
   "outputs": [
    {
     "output_type": "execute_result",
     "execution_count": 132,
     "data": {
      "text/plain": "(117, 48)"
     },
     "metadata": {}
    }
   ],
   "execution_count": null
  },
  {
   "cell_type": "code",
   "source": "textual_complexity_df.columns",
   "metadata": {
    "tags": [],
    "cell_id": "00007-a5ef277b-3ba9-4d3c-b540-002fd4ac50c0",
    "deepnote_to_be_reexecuted": false,
    "source_hash": "2c907a90",
    "execution_start": 1627107193296,
    "execution_millis": 11,
    "deepnote_cell_type": "code"
   },
   "outputs": [
    {
     "output_type": "execute_result",
     "execution_count": 106,
     "data": {
      "text/plain": "Index(['text', 'char_cnt', 'word_cnt', 'sent_cnt', 'digits_cnt',\n       'mean_chars_per_word', 'median_chars_per_word', 'mean_words_per_sent',\n       'median_words_per_sent', 'common_nouns_prop', 'proper_nouns_prop',\n       'adjectives_prop', 'verbs_prop', 'numerals_prop', 'flesch_kincaid',\n       'dale_chall', 'mtld'],\n      dtype='object')"
     },
     "metadata": {}
    }
   ],
   "execution_count": null
  },
  {
   "cell_type": "code",
   "source": "sns.boxplot(data=df_complexity_merged, x='word_cnt', y='country')",
   "metadata": {
    "tags": [],
    "cell_id": "00007-d4f673f9-d6b2-41c4-b913-6e72ec0c73c3",
    "deepnote_to_be_reexecuted": false,
    "source_hash": "488c80fe",
    "execution_start": 1627107947965,
    "execution_millis": 144,
    "deepnote_cell_type": "code"
   },
   "outputs": [
    {
     "output_type": "execute_result",
     "execution_count": 134,
     "data": {
      "text/plain": "<AxesSubplot:xlabel='word_cnt', ylabel='country'>"
     },
     "metadata": {}
    },
    {
     "data": {
      "text/plain": "<Figure size 432x288 with 1 Axes>",
      "image/png": "[encoded data removed]"
     },
     "metadata": {
      "needs_background": "light",
      "image/png": {
       "width": 396,
       "height": 263
      }
     },
     "output_type": "display_data"
    }
   ],
   "execution_count": null
  },
  {
   "cell_type": "code",
   "source": "",
   "metadata": {
    "tags": [],
    "cell_id": "00009-d0c62922-a896-47d2-9871-f8763c321e75",
    "deepnote_cell_type": "code"
   },
   "outputs": [],
   "execution_count": null
  },
  {
   "cell_type": "code",
   "source": "",
   "metadata": {
    "tags": [],
    "cell_id": "00010-e0da64e4-dacf-42e0-8868-37d227ee31c4",
    "deepnote_cell_type": "code"
   },
   "outputs": [],
   "execution_count": null
  },
  {
   "cell_type": "code",
   "source": "",
   "metadata": {
    "tags": [],
    "cell_id": "00011-202549c4-e900-424e-b49f-c5faf5b4ed94",
    "deepnote_cell_type": "code"
   },
   "outputs": [],
   "execution_count": null
  },
  {
   "cell_type": "code",
   "source": "",
   "metadata": {
    "tags": [],
    "cell_id": "00012-37285018-6db7-4cd6-b5bc-2239af928b7d",
    "deepnote_cell_type": "code"
   },
   "outputs": [],
   "execution_count": null
  },
  {
   "cell_type": "code",
   "source": "",
   "metadata": {
    "tags": [],
    "cell_id": "00009-1f1d9226-77dd-4882-863c-dc3660ae7e8a",
    "deepnote_cell_type": "code"
   },
   "outputs": [],
   "execution_count": null
  },
  {
   "cell_type": "code",
   "source": "",
   "metadata": {
    "tags": [],
    "cell_id": "00010-f19e7304-ea2b-4783-a26a-306ff91bf55e",
    "deepnote_cell_type": "code"
   },
   "outputs": [],
   "execution_count": null
  },
  {
   "cell_type": "markdown",
   "source": "## 2. Keyword Extraction from Program Descriptions\n\n> TextRank algo used as frequency-based keyword etxraction would perform poorly in this context. Program descriptions will not have many words repeated.",
   "metadata": {
    "tags": [],
    "cell_id": "00007-d60388ea-7e9f-41c3-aa23-4f2a0eb714b2",
    "deepnote_cell_type": "markdown"
   }
  },
  {
   "cell_type": "code",
   "source": "# key word extraction\nif \"textrank\" not in nlp.pipe_names:\n    nlp.add_pipe(\"textrank\")\n\ndef keyword_extraction(text):\n\n    keywords = []\n\n    doc = nlp(text)\n    for phrase in doc._.phrases:\n        keywords.append(phrase.text)\n    \n    # extract top 15 or less keywords\n    keywords = [kword.lower() for kword in keywords[:15]]\n    return (\";\".join(keywords))\n\ndf['descr_keywords'] = df.descr.apply(keyword_extraction)",
   "metadata": {
    "tags": [],
    "cell_id": "00006-dda399df-3d68-434a-b5b2-e2606405f722",
    "deepnote_to_be_reexecuted": false,
    "source_hash": "82ca6293",
    "execution_start": 1627106639995,
    "execution_millis": 13239,
    "deepnote_cell_type": "code"
   },
   "outputs": [],
   "execution_count": null
  },
  {
   "cell_type": "code",
   "source": "df.descr_keywords.head(10)",
   "metadata": {
    "tags": [],
    "cell_id": "00009-55fa1c05-e39e-415b-a6b9-fa7c6a32db7a",
    "deepnote_to_be_reexecuted": false,
    "source_hash": "8e09fb9c",
    "execution_start": 1627106671156,
    "execution_millis": 7,
    "deepnote_cell_type": "code"
   },
   "outputs": [
    {
     "output_type": "execute_result",
     "execution_count": 98,
     "data": {
      "text/plain": "0    scientific computing applications;applications...\n1    ai research;ai;e-governance services;deep tech...\n2    business analytics;business analytics programm...\n3    project work;work;data mining;other emerging t...\n4    trained resources;diverse research disciplines...\n5    ai academics;iit hyderabad;ai;different facult...\n6    problem solving;ethical practices;computer eng...\n7    financial institutions;indian economics;econom...\n8    business analytics programme;business analytic...\n9    spatial data;geo-intelligence and business int...\nName: descr_keywords, dtype: object"
     },
     "metadata": {}
    }
   ],
   "execution_count": null
  },
  {
   "cell_type": "code",
   "source": "# for all programs\nkword_string = \";\".join(df.descr_keywords)\nkword_freq, unique_kwords = process_keywords(kword_string)",
   "metadata": {
    "tags": [],
    "cell_id": "00010-e794f0cd-2361-40eb-a9ca-8d12a2ba3923",
    "deepnote_to_be_reexecuted": false,
    "source_hash": "17e4302f",
    "execution_start": 1627106749686,
    "execution_millis": 1,
    "deepnote_cell_type": "code"
   },
   "outputs": [],
   "execution_count": null
  },
  {
   "cell_type": "markdown",
   "source": "## 3. Wordcloud Visualization of Keywords in Program Descriptions",
   "metadata": {
    "tags": [],
    "cell_id": "00010-d2521011-fcaf-40b6-9af5-41cd9adbf416",
    "deepnote_cell_type": "markdown"
   }
  },
  {
   "cell_type": "code",
   "source": "def process_keywords(kword_string, delim=';'):\n\n    all_kwords = kword_string.split(delim)\n    kword_freq = Counter(all_kwords)\n    unique_kwords = list(kword_freq.keys())\n\n    return kword_freq, unique_kwords\n\ndef plot_wordclouds(df, cat_col=None, cats=None, all_pgms=False):\n    \"\"\"\n    Plot wordclouds of keywords\n    \"\"\"\n\n    if not(all_pgms):\n        for cat in cats:\n            df_sub = df[df[cat_col] == cat]\n            kword_string = \";\".join(df_sub.descr_keywords)\n            kword_freq, unique_kwords = process_keywords(kword_string)\n\n            stylecloud.gen_stylecloud(\n                text = kword_freq,\n                max_words = 200,\n                icon_name = 'fas fa-graduation-cap',\n                colors = ['#cb001c', '#0071b3', '#ffc107', '#2f9171'],\n                output_name = \"wordcloud_keywords_\" + cat_col + \"_\" + cat + \".png\",\n                gradient = 'horizontal',\n                random_state=42)  \n    else:\n        kword_string = \";\".join(df.descr_keywords)\n        kword_freq, unique_kwords = process_keywords(kword_string)\n        stylecloud.gen_stylecloud(\n                text = kword_freq,\n                max_words = 200,\n                icon_name = 'fas fa-graduation-cap',\n                colors = ['#cb001c', '#0071b3', '#ffc107', '#2f9171'],\n                output_name = \"wordcloud_keywords.png\",\n                gradient = 'horizontal',\n                random_state=42)  ",
   "metadata": {
    "tags": [],
    "cell_id": "00011-b263cd81-6471-456c-8890-d7c0068c3354",
    "deepnote_to_be_reexecuted": false,
    "source_hash": "9decccf7",
    "execution_start": 1627109003353,
    "execution_millis": 4,
    "deepnote_cell_type": "code"
   },
   "outputs": [],
   "execution_count": null
  },
  {
   "cell_type": "code",
   "source": "# generate wordclouds\nplot_wordclouds(df, all_pgms=True)\nplot_wordclouds(df, 'type', ['Public', 'Private'])\nplot_wordclouds(df, 'country', ['India', 'USA'])\nplot_wordclouds(df, 'dept_cat', [\"Engineering-related\", \"Management-related\", \"Data-related\"])\nplot_wordclouds(df, 'subject', [\"Data Science\", \"Business Analytics\", \"Analytics\", \"Artificial Intelligence\"])",
   "metadata": {
    "tags": [],
    "cell_id": "00011-06818f14-b322-4ddc-941c-18083094bb3d",
    "deepnote_to_be_reexecuted": false,
    "source_hash": "5a84d5e",
    "execution_start": 1627109005323,
    "execution_millis": 32822,
    "deepnote_cell_type": "code"
   },
   "outputs": [],
   "execution_count": null
  },
  {
   "cell_type": "markdown",
   "source": "## 4. Program Webpage Element Analysis",
   "metadata": {
    "tags": [],
    "cell_id": "00022-232eeb75-8cad-4073-abe6-608f74e56cea",
    "deepnote_cell_type": "markdown"
   }
  },
  {
   "cell_type": "code",
   "source": "webpage_elements = [\n    'country', 'dept_cat', 'subject',\n    'header_tag', 'header_names', 'links',\n    'html_tags', 'html_tag_freq', 'html_emphasized_elements'\n]\ndf_web = df[webpage_elements]",
   "metadata": {
    "tags": [],
    "cell_id": "00023-b6b5bed7-eb56-41c8-bf12-85670a7dcba4",
    "deepnote_to_be_reexecuted": false,
    "source_hash": "a6500f38",
    "execution_start": 1627121136781,
    "execution_millis": 4,
    "deepnote_cell_type": "code"
   },
   "outputs": [],
   "execution_count": null
  },
  {
   "cell_type": "code",
   "source": "df_web.head(3)",
   "metadata": {
    "tags": [],
    "cell_id": "00023-e0715a03-5cc0-42f2-9f4e-ce21886f3faa",
    "deepnote_to_be_reexecuted": false,
    "source_hash": "904f4d90",
    "execution_start": 1627121138079,
    "execution_millis": 46,
    "deepnote_cell_type": "code"
   },
   "outputs": [
    {
     "output_type": "execute_result",
     "execution_count": 379,
     "data": {
      "application/vnd.deepnote.dataframe.v2+json": {
       "row_count": 3,
       "column_count": 9,
       "columns": [
        {
         "name": "country",
         "dtype": "object",
         "stats": {
          "unique_count": 1,
          "nan_count": 0,
          "categories": [
           {
            "name": "India",
            "count": 3
           }
          ]
         }
        },
        {
         "name": "dept_cat",
         "dtype": "object",
         "stats": {
          "unique_count": 3,
          "nan_count": 0,
          "categories": [
           {
            "name": "Data-related",
            "count": 1
           },
           {
            "name": "Engineering-related",
            "count": 1
           },
           {
            "name": "Management-related",
            "count": 1
           }
          ]
         }
        },
        {
         "name": "subject",
         "dtype": "object",
         "stats": {
          "unique_count": 3,
          "nan_count": 0,
          "categories": [
           {
            "name": "Data Science",
            "count": 1
           },
           {
            "name": "Artificial Intelligence",
            "count": 1
           },
           {
            "name": "Business Analytics",
            "count": 1
           }
          ]
         }
        },
        {
         "name": "header_tag",
         "dtype": "object",
         "stats": {
          "unique_count": 3,
          "nan_count": 0,
          "categories": [
           {
            "name": "['h1', 'h2', 'h3']",
            "count": 1
           },
           {
            "name": "['h1', 'h2']",
            "count": 1
           },
           {
            "name": "['h2', 'h4']",
            "count": 1
           }
          ]
         }
        },
        {
         "name": "header_names",
         "dtype": "object",
         "stats": {
          "unique_count": 3,
          "nan_count": 0,
          "categories": [
           {
            "name": "[['\\n\\t\\t\\tCourse Degree Admissions, 2021\\t\\t'], ['M.Tech. (Computational & Data Science) Admissions, 2021'], ['About the M.Tech. (CDS) Program', 'The M.Tech. (CDS) Admission Process']]",
            "count": 1
           },
           {
            "name": "[['MTech (AI) @ IISc'], ['Admissions 2021 – Application and deadline', 'Interview', 'Highlights of the programme', 'Further Details']]",
            "count": 1
           },
           {
            "name": "[['MBA Business Analytics'], ['Highlights of the Programme', 'Course Curriculum and Programme Delivery', 'Guest Lectures', 'Summer Internship and Project Work', 'Continuous Evaluation', 'Placements', 'Curriculum']]",
            "count": 1
           }
          ]
         }
        },
        {
         "name": "links",
         "dtype": "object",
         "stats": {
          "unique_count": 3,
          "nan_count": 0,
          "categories": [
           {
            "name": "['https://iisc.ac.in/admissions/m-tech-m-des/', 'https://admissions.iisc.ac.in/', 'http://cds.iisc.ac.in/admissions/admissions-faq/', 'http://cds.iisc.ac.in/wp-content/uploads/MTech_CDS_Brochure_final.pdf', 'http://cds.iisc.ac.in/resources/fellowships/', 'https://cds.iisc.ac.in/wp-content/uploads/MTech_Brochure-2021.pdf', 'http://www.iisc.ac.in/admissions/', 'http://cds.iisc.ac.in/academics/mtechcds/', 'https://iisc.ac.in/admissions/m-tech-m-des', 'https://cds.iisc.ac.in/wp-content/uploads/sample-he-post-online.pdf']",
            "count": 1
           },
           {
            "name": "['https://ai.iisc.ac.in', 'https://admissions-august.iisc.ac.in/web/selectugpg.aspx', 'https://www.iisc.ac.in/admissions/', 'https://oir.iisc.ac.in/index.php/m-tech-course-program-admission/', 'https://eecs.iisc.ac.in/wp-content/uploads/2021/04/instructions.pdf', 'https://eecs.iisc.ac.in/m-tech-ai-frequently-asked-questions/', 'mailto:mtechoffice.ai@iisc.ac.in', 'https://www.csa.iisc.ac.in/', 'https://ece.iisc.ac.in/', 'http://www.ee.iisc.ac.in/', 'https://dese.iisc.ac.in/', 'https://ai.iisc.ac.in/', 'https://eecs.iisc.ac.in/mtech-ai-2019-2021/', 'https://eecs.iisc.ac.in/mtech-ai-2020-2022/', 'https://eecs.iisc.ac.in/wp-content/uploads/2021/02/MTechAICurriculum18February2021.pdf', 'https://eecs.iisc.ac.in/wp-content/uploads/2020/02/AI-Poster.pdf', 'https://eecs.iisc.ac.in/wp-content/uploads/2020/02/OnePageFlyer.pdf']",
            "count": 1
           },
           {
            "name": "no links in useful area",
            "count": 1
           }
          ]
         }
        },
        {
         "name": "html_tags",
         "dtype": "object",
         "stats": {
          "unique_count": 3,
          "nan_count": 0,
          "categories": [
           {
            "name": "['header', 'h1', 'div', 'ul', 'li', 'span', 'strong', 'a', 'li', 'span', 'strong', 'a', 'li', 'span', 'strong', 'a', 'h2', 'p', 'strong', 'a', 'p', 'a', 'p', 'a', 'em', 'strong', 'p', 'strong', 'ul', 'li', 'a', 'li', 'span', 'a', 'li', 'span', 'ul', 'li', 'span', 'li', 'span', 'ul', 'li', 'li', 'b', 'b', 'strong', 'li', 'b', 'li', 'li', 'li', 'li', 'span', 'span', 'i', 'i', 'span', 'h3', 'p', 'p', 'a', 'h3', 'b', 'ul', 'li', 'a', 'li', 'li', 'a', 'li', 'i', 'li', 'li', 'li', 'li', 'ul', 'li', 'span', 'i', 'i', 'li', 'span', 'i', 'li', 'a', 'li', 'i', 'i', 'p', 'a', 'p', 'b', 'p', 'b', 'i', 'span']",
            "count": 1
           },
           {
            "name": "['h1', 'p', 'img', 'p', 'strong', 'a', 'p', 'h2', 'strong', 'p', 'a', 'p', 'p', 'strong', 'sup', 'p', 'strong', 'strong', 'strong', 'strong', 'a', 'p', 'strong', 'strong', 'a', 'h2', 'strong', 'p', 'strong', 'span', 'span', 'p', 'strong', 'p', 'strong', 'p', 'p', 'strong', 'a', 'p', 'span', 'img', 'p', 'strong', 'a', 'a', 'h2', 'ol', 'li', 'a', 'a', 'a', 'a', 'li', 'li', 'a', 'li', 'li', 'li', 'li', 'div', 'h2', 'p', 'a', 'p', 'a', 'p', 'a', 'a', 'a']",
            "count": 1
           },
           {
            "name": "['article', 'div', 'h2', 'p', 'h4', 'ul', 'li', 'li', 'li', 'li', 'li', 'h4', 'p', 'h4', 'p', 'h4', 'p', 'h4', 'p', 'h4', 'p', 'h4', 'table', 'tbody', 'tr', 'td', 'strong', 'tr', 'td', 'td', 'strong', 'td', 'strong', 'tr', 'td', 'td', 'td', 'tr', 'td', 'td', 'td', 'tr', 'td', 'td', 'td', 'tr', 'td', 'td', 'td', 'tr', 'td', 'td', 'td', 'tr', 'td', 'td', 'td', 'tr', 'td', 'td', 'td', 'tr', 'td', 'td', 'td', 'tr', 'td', 'strong', 'tr', 'td', 'strong', 'tr', 'td', 'td', 'strong', 'td', 'strong', 'tr', 'td', 'td', 'td', 'tr', 'td', 'td', 'td', 'tr', 'td', 'td', 'td', 'tr', 'td', 'td', 'td', 'tr', 'td', 'td', 'td', 'tr', 'td', 'td', 'td', 'tr', 'td', 'td', 'tr', 'td', 'td', 'p', 'p', 'p']",
            "count": 1
           }
          ]
         }
        },
        {
         "name": "html_tag_freq",
         "dtype": "object",
         "stats": {
          "unique_count": 3,
          "nan_count": 0,
          "categories": [
           {
            "name": "{'header': 1, 'h1': 1, 'div': 1, 'ul': 6, 'li': 27, 'span': 13, 'strong': 7, 'a': 13, 'h2': 1, 'p': 9, 'em': 1, 'b': 6, 'i': 9, 'h3': 2}",
            "count": 1
           },
           {
            "name": "{'h1': 1, 'p': 18, 'img': 2, 'strong': 15, 'a': 17, 'h2': 4, 'sup': 1, 'span': 3, 'ol': 1, 'li': 7, 'div': 1}",
            "count": 1
           },
           {
            "name": "{'article': 1, 'div': 1, 'h2': 1, 'p': 9, 'h4': 7, 'ul': 1, 'li': 5, 'table': 1, 'tbody': 1, 'tr': 21, 'td': 55, 'strong': 7}",
            "count": 1
           }
          ]
         }
        },
        {
         "name": "html_emphasized_elements",
         "dtype": "object",
         "stats": {
          "unique_count": 3,
          "nan_count": 0,
          "categories": [
           {
            "name": "['the m.tech. (cds) admission process', 'download admissions brochure [pdf]', 'common offer acceptance portal (coap)', 'about the m.tech. (cds) program', 'programflyer', 'linear algebra/matrices, probability, and combinatorics', 'iisc online admissions application', 'iisc admissions website', 'course degree admissions, 2021', 'shortlist students', 'fluid/solid mechanics', '15 apr 2021', 'april 19-23, 2021', 'important dates:', '(https://coap.iitd.ac.in)', 'last updated on april 12, 2021', 'calculus and geometry', 'admissions faq', 'algorithms', 'data structures (arrays, matrices, etc.), and basic programming.', 'm.tech. (computational & data science) admissions, 2021', '2:30 pm – 4:00 pm', 'only with shortlisted candidates', 'for any queries/questions about admissions, please contact: chair.cds#iisc.ac.in (replace # with @)']",
            "count": 1
           },
           {
            "name": "['written test will be held online with remote login through a browser. more details:', 'n of india applicants:', 'date of written test: 15th april 2021', 'international applicants:', '23:59 ist on 31stmarch 2021', 'here', 'time: 9.00am to 10.30am', 'further details', 'e', 'mtech (ai) @ iisc', 'admissions 2021 – application and deadline', 'highlights of the programme', 'click here', 'if you have questions,please browse through thefaq to see if your question is already answered. if notplease send an email to', 'interview', 'indian and overseas citiz', 'due to the covid-19 pandemic, there will not be an interview for the candidates shortlisted based on the gate scores. instead, there will be an online test for m.tech. (artificial intelligence).the test will check the ability of the applicants.']",
            "count": 1
           },
           {
            "name": "['guest lectures', 'semester-4', 'continuous evaluation', 'placements', 'year 1', 'semester 2', 'summer internship', 'mba business analytics', 'semester 1', 'highlights of the programme', 'summer internship and project work', 'course curriculum and programme delivery', 'curriculum', 'semester – 3', 'year – 2']",
            "count": 1
           }
          ]
         }
        },
        {
         "name": "_deepnote_index_column",
         "dtype": "int64"
        }
       ],
       "rows_top": [
        {
         "country": "India",
         "dept_cat": "Data-related",
         "subject": "Data Science",
         "header_tag": "['h1', 'h2', 'h3']",
         "header_names": "[['\\n\\t\\t\\tCourse Degree Admissions, 2021\\t\\t'], ['M.Tech. (Computational & Data Science) Admission…",
         "links": "['https://iisc.ac.in/admissions/m-tech-m-des/', 'https://admissions.iisc.ac.in/', 'http://cds.iisc.…",
         "html_tags": "['header', 'h1', 'div', 'ul', 'li', 'span', 'strong', 'a', 'li', 'span', 'strong', 'a', 'li', 'span…",
         "html_tag_freq": "{'header': 1, 'h1': 1, 'div': 1, 'ul': 6, 'li': 27, 'span': 13, 'strong': 7, 'a': 13, 'h2': 1, 'p':…",
         "html_emphasized_elements": "['the m.tech. (cds) admission process', 'download admissions brochure [pdf]', 'common offer accepta…",
         "_deepnote_index_column": 0
        },
        {
         "country": "India",
         "dept_cat": "Engineering-related",
         "subject": "Artificial Intelligence",
         "header_tag": "['h1', 'h2']",
         "header_names": "[['MTech (AI) @ IISc'], ['Admissions 2021 – Application and deadline', 'Interview', 'Highlights of …",
         "links": "['https://ai.iisc.ac.in', 'https://admissions-august.iisc.ac.in/web/selectugpg.aspx', 'https://www.…",
         "html_tags": "['h1', 'p', 'img', 'p', 'strong', 'a', 'p', 'h2', 'strong', 'p', 'a', 'p', 'p', 'strong', 'sup', 'p…",
         "html_tag_freq": "{'h1': 1, 'p': 18, 'img': 2, 'strong': 15, 'a': 17, 'h2': 4, 'sup': 1, 'span': 3, 'ol': 1, 'li': 7,…",
         "html_emphasized_elements": "['written test will be held online with remote login through a browser. more details:', 'n of india…",
         "_deepnote_index_column": 1
        },
        {
         "country": "India",
         "dept_cat": "Management-related",
         "subject": "Business Analytics",
         "header_tag": "['h2', 'h4']",
         "header_names": "[['MBA Business Analytics'], ['Highlights of the Programme', 'Course Curriculum and Programme Deliv…",
         "links": "no links in useful area",
         "html_tags": "['article', 'div', 'h2', 'p', 'h4', 'ul', 'li', 'li', 'li', 'li', 'li', 'h4', 'p', 'h4', 'p', 'h4',…",
         "html_tag_freq": "{'article': 1, 'div': 1, 'h2': 1, 'p': 9, 'h4': 7, 'ul': 1, 'li': 5, 'table': 1, 'tbody': 1, 'tr': …",
         "html_emphasized_elements": "['guest lectures', 'semester-4', 'continuous evaluation', 'placements', 'year 1', 'semester 2', 'su…",
         "_deepnote_index_column": 2
        }
       ],
       "rows_bottom": null
      },
      "text/plain": "  country             dept_cat                  subject          header_tag  \\\n0   India         Data-related             Data Science  ['h1', 'h2', 'h3']   \n1   India  Engineering-related  Artificial Intelligence        ['h1', 'h2']   \n2   India   Management-related       Business Analytics        ['h2', 'h4']   \n\n                                        header_names  \\\n0  [['\\n\\t\\t\\tCourse Degree Admissions, 2021\\t\\t'...   \n1  [['MTech (AI) @ IISc'], ['Admissions 2021 – Ap...   \n2  [['MBA Business Analytics'], ['Highlights of t...   \n\n                                               links  \\\n0  ['https://iisc.ac.in/admissions/m-tech-m-des/'...   \n1  ['https://ai.iisc.ac.in', 'https://admissions-...   \n2                            no links in useful area   \n\n                                           html_tags  \\\n0  ['header', 'h1', 'div', 'ul', 'li', 'span', 's...   \n1  ['h1', 'p', 'img', 'p', 'strong', 'a', 'p', 'h...   \n2  ['article', 'div', 'h2', 'p', 'h4', 'ul', 'li'...   \n\n                                       html_tag_freq  \\\n0  {'header': 1, 'h1': 1, 'div': 1, 'ul': 6, 'li'...   \n1  {'h1': 1, 'p': 18, 'img': 2, 'strong': 15, 'a'...   \n2  {'article': 1, 'div': 1, 'h2': 1, 'p': 9, 'h4'...   \n\n                            html_emphasized_elements  \n0  ['the m.tech. (cds) admission process', 'downl...  \n1  ['written test will be held online with remote...  \n2  ['guest lectures', 'semester-4', 'continuous e...  ",
      "text/html": "<div>\n<style scoped>\n    .dataframe tbody tr th:only-of-type {\n        vertical-align: middle;\n    }\n\n    .dataframe tbody tr th {\n        vertical-align: top;\n    }\n\n    .dataframe thead th {\n        text-align: right;\n    }\n</style>\n<table border=\"1\" class=\"dataframe\">\n  <thead>\n    <tr style=\"text-align: right;\">\n      <th></th>\n      <th>country</th>\n      <th>dept_cat</th>\n      <th>subject</th>\n      <th>header_tag</th>\n      <th>header_names</th>\n      <th>links</th>\n      <th>html_tags</th>\n      <th>html_tag_freq</th>\n      <th>html_emphasized_elements</th>\n    </tr>\n  </thead>\n  <tbody>\n    <tr>\n      <th>0</th>\n      <td>India</td>\n      <td>Data-related</td>\n      <td>Data Science</td>\n      <td>['h1', 'h2', 'h3']</td>\n      <td>[['\\n\\t\\t\\tCourse Degree Admissions, 2021\\t\\t'...</td>\n      <td>['https://iisc.ac.in/admissions/m-tech-m-des/'...</td>\n      <td>['header', 'h1', 'div', 'ul', 'li', 'span', 's...</td>\n      <td>{'header': 1, 'h1': 1, 'div': 1, 'ul': 6, 'li'...</td>\n      <td>['the m.tech. (cds) admission process', 'downl...</td>\n    </tr>\n    <tr>\n      <th>1</th>\n      <td>India</td>\n      <td>Engineering-related</td>\n      <td>Artificial Intelligence</td>\n      <td>['h1', 'h2']</td>\n      <td>[['MTech (AI) @ IISc'], ['Admissions 2021 – Ap...</td>\n      <td>['https://ai.iisc.ac.in', 'https://admissions-...</td>\n      <td>['h1', 'p', 'img', 'p', 'strong', 'a', 'p', 'h...</td>\n      <td>{'h1': 1, 'p': 18, 'img': 2, 'strong': 15, 'a'...</td>\n      <td>['written test will be held online with remote...</td>\n    </tr>\n    <tr>\n      <th>2</th>\n      <td>India</td>\n      <td>Management-related</td>\n      <td>Business Analytics</td>\n      <td>['h2', 'h4']</td>\n      <td>[['MBA Business Analytics'], ['Highlights of t...</td>\n      <td>no links in useful area</td>\n      <td>['article', 'div', 'h2', 'p', 'h4', 'ul', 'li'...</td>\n      <td>{'article': 1, 'div': 1, 'h2': 1, 'p': 9, 'h4'...</td>\n      <td>['guest lectures', 'semester-4', 'continuous e...</td>\n    </tr>\n  </tbody>\n</table>\n</div>"
     },
     "metadata": {}
    }
   ],
   "execution_count": null
  },
  {
   "cell_type": "code",
   "source": "def remove_unnecessary_whitespace(text):\n    text = text.replace(\"'\", \"\").replace('\"', '')\n    text = text.replace('\\\\t', '').replace('\\\\n', '').replace('[', '').replace(']', '')\n    text = re.sub(' +', ' ', text)\n    text = text.translate({ord(k): ' ' for k in string.punctuation})\n    text = text.strip()\n    return text\n\ndef get_element_text(elements, length=False):\n\n    text = elements.split(',')\n    text = [remove_unnecessary_whitespace(g).lower() for g in text]\n    text = list(set(text))\n    if length:\n        return len(text)\n    return text\n\ndef get_element_text_str(elements):\n\n    text = elements.split(',')\n    text = [remove_unnecessary_whitespace(g).lower() for g in text]\n    text = list(set(text))\n    \n    return \";\".join(text)\n\n",
   "metadata": {
    "tags": [],
    "cell_id": "00025-3a277ebd-bd7f-4d7e-bbfe-4c52730d809c",
    "deepnote_to_be_reexecuted": false,
    "source_hash": "2bd0f88b",
    "execution_start": 1627121151636,
    "execution_millis": 2,
    "deepnote_cell_type": "code"
   },
   "outputs": [],
   "execution_count": null
  },
  {
   "cell_type": "code",
   "source": "df_web['header_elements'] = df_web.header_names.apply(get_element_text_str)\ndf_web['emphasized_elements_text'] = df_web.html_emphasized_elements.apply(get_element_text_str)\ndf_web['num_emphasized_elements'] = df_web.html_emphasized_elements.apply(lambda x: get_element_text(x, True))\ndf_web['num_headers'] = df_web.header_names.apply(lambda x: get_element_text(x, True))\ndf_web['num_links'] = df_web.links.apply(lambda x: get_element_text(x, True))",
   "metadata": {
    "tags": [],
    "cell_id": "00014-f7c5c207-f59f-4c23-948f-f828745e965a",
    "deepnote_to_be_reexecuted": false,
    "source_hash": "c4a0fcc3",
    "execution_start": 1627121970573,
    "execution_millis": 144,
    "deepnote_cell_type": "code"
   },
   "outputs": [
    {
     "name": "stderr",
     "text": "/shared-libs/python3.7/py-core/lib/python3.7/site-packages/ipykernel_launcher.py:1: SettingWithCopyWarning: \nA value is trying to be set on a copy of a slice from a DataFrame.\nTry using .loc[row_indexer,col_indexer] = value instead\n\nSee the caveats in the documentation: https://pandas.pydata.org/pandas-docs/stable/user_guide/indexing.html#returning-a-view-versus-a-copy\n  \"\"\"Entry point for launching an IPython kernel.\n/shared-libs/python3.7/py-core/lib/python3.7/site-packages/ipykernel_launcher.py:2: SettingWithCopyWarning: \nA value is trying to be set on a copy of a slice from a DataFrame.\nTry using .loc[row_indexer,col_indexer] = value instead\n\nSee the caveats in the documentation: https://pandas.pydata.org/pandas-docs/stable/user_guide/indexing.html#returning-a-view-versus-a-copy\n  \n/shared-libs/python3.7/py-core/lib/python3.7/site-packages/ipykernel_launcher.py:3: SettingWithCopyWarning: \nA value is trying to be set on a copy of a slice from a DataFrame.\nTry using .loc[row_indexer,col_indexer] = value instead\n\nSee the caveats in the documentation: https://pandas.pydata.org/pandas-docs/stable/user_guide/indexing.html#returning-a-view-versus-a-copy\n  This is separate from the ipykernel package so we can avoid doing imports until\n/shared-libs/python3.7/py-core/lib/python3.7/site-packages/ipykernel_launcher.py:4: SettingWithCopyWarning: \nA value is trying to be set on a copy of a slice from a DataFrame.\nTry using .loc[row_indexer,col_indexer] = value instead\n\nSee the caveats in the documentation: https://pandas.pydata.org/pandas-docs/stable/user_guide/indexing.html#returning-a-view-versus-a-copy\n  after removing the cwd from sys.path.\n/shared-libs/python3.7/py-core/lib/python3.7/site-packages/ipykernel_launcher.py:5: SettingWithCopyWarning: \nA value is trying to be set on a copy of a slice from a DataFrame.\nTry using .loc[row_indexer,col_indexer] = value instead\n\nSee the caveats in the documentation: https://pandas.pydata.org/pandas-docs/stable/user_guide/indexing.html#returning-a-view-versus-a-copy\n  \"\"\"\n",
     "output_type": "stream"
    }
   ],
   "execution_count": null
  },
  {
   "cell_type": "code",
   "source": "df_web.head()",
   "metadata": {
    "tags": [],
    "cell_id": "00027-d0bbca18-a2ea-475e-bf5b-f595a95a63cc",
    "deepnote_to_be_reexecuted": false,
    "source_hash": "12a16bd",
    "execution_start": 1627121971257,
    "execution_millis": 14,
    "deepnote_cell_type": "code"
   },
   "outputs": [
    {
     "output_type": "execute_result",
     "execution_count": 412,
     "data": {
      "application/vnd.deepnote.dataframe.v2+json": {
       "row_count": 5,
       "column_count": 14,
       "columns": [
        {
         "name": "country",
         "dtype": "object",
         "stats": {
          "unique_count": 1,
          "nan_count": 0,
          "categories": [
           {
            "name": "India",
            "count": 5
           }
          ]
         }
        },
        {
         "name": "dept_cat",
         "dtype": "object",
         "stats": {
          "unique_count": 4,
          "nan_count": 0,
          "categories": [
           {
            "name": "Engineering-related",
            "count": 2
           },
           {
            "name": "Data-related",
            "count": 1
           },
           {
            "name": "2 others",
            "count": 2
           }
          ]
         }
        },
        {
         "name": "subject",
         "dtype": "object",
         "stats": {
          "unique_count": 3,
          "nan_count": 0,
          "categories": [
           {
            "name": "Data Science",
            "count": 2
           },
           {
            "name": "Artificial Intelligence",
            "count": 2
           },
           {
            "name": "Business Analytics",
            "count": 1
           }
          ]
         }
        },
        {
         "name": "header_tag",
         "dtype": "object",
         "stats": {
          "unique_count": 5,
          "nan_count": 0,
          "categories": [
           {
            "name": "['h1', 'h2', 'h3']",
            "count": 1
           },
           {
            "name": "['h1', 'h2']",
            "count": 1
           },
           {
            "name": "3 others",
            "count": 3
           }
          ]
         }
        },
        {
         "name": "header_names",
         "dtype": "object",
         "stats": {
          "unique_count": 5,
          "nan_count": 0,
          "categories": [
           {
            "name": "[['\\n\\t\\t\\tCourse Degree Admissions, 2021\\t\\t'], ['M.Tech. (Computational & Data Science) Admissions, 2021'], ['About the M.Tech. (CDS) Program', 'The M.Tech. (CDS) Admission Process']]",
            "count": 1
           },
           {
            "name": "[['MTech (AI) @ IISc'], ['Admissions 2021 – Application and deadline', 'Interview', 'Highlights of the programme', 'Further Details']]",
            "count": 1
           },
           {
            "name": "3 others",
            "count": 3
           }
          ]
         }
        },
        {
         "name": "links",
         "dtype": "object",
         "stats": {
          "unique_count": 5,
          "nan_count": 0,
          "categories": [
           {
            "name": "['https://iisc.ac.in/admissions/m-tech-m-des/', 'https://admissions.iisc.ac.in/', 'http://cds.iisc.ac.in/admissions/admissions-faq/', 'http://cds.iisc.ac.in/wp-content/uploads/MTech_CDS_Brochure_final.pdf', 'http://cds.iisc.ac.in/resources/fellowships/', 'https://cds.iisc.ac.in/wp-content/uploads/MTech_Brochure-2021.pdf', 'http://www.iisc.ac.in/admissions/', 'http://cds.iisc.ac.in/academics/mtechcds/', 'https://iisc.ac.in/admissions/m-tech-m-des', 'https://cds.iisc.ac.in/wp-content/uploads/sample-he-post-online.pdf']",
            "count": 1
           },
           {
            "name": "['https://ai.iisc.ac.in', 'https://admissions-august.iisc.ac.in/web/selectugpg.aspx', 'https://www.iisc.ac.in/admissions/', 'https://oir.iisc.ac.in/index.php/m-tech-course-program-admission/', 'https://eecs.iisc.ac.in/wp-content/uploads/2021/04/instructions.pdf', 'https://eecs.iisc.ac.in/m-tech-ai-frequently-asked-questions/', 'mailto:mtechoffice.ai@iisc.ac.in', 'https://www.csa.iisc.ac.in/', 'https://ece.iisc.ac.in/', 'http://www.ee.iisc.ac.in/', 'https://dese.iisc.ac.in/', 'https://ai.iisc.ac.in/', 'https://eecs.iisc.ac.in/mtech-ai-2019-2021/', 'https://eecs.iisc.ac.in/mtech-ai-2020-2022/', 'https://eecs.iisc.ac.in/wp-content/uploads/2021/02/MTechAICurriculum18February2021.pdf', 'https://eecs.iisc.ac.in/wp-content/uploads/2020/02/AI-Poster.pdf', 'https://eecs.iisc.ac.in/wp-content/uploads/2020/02/OnePageFlyer.pdf']",
            "count": 1
           },
           {
            "name": "3 others",
            "count": 3
           }
          ]
         }
        },
        {
         "name": "html_tags",
         "dtype": "object",
         "stats": {
          "unique_count": 5,
          "nan_count": 0,
          "categories": [
           {
            "name": "['header', 'h1', 'div', 'ul', 'li', 'span', 'strong', 'a', 'li', 'span', 'strong', 'a', 'li', 'span', 'strong', 'a', 'h2', 'p', 'strong', 'a', 'p', 'a', 'p', 'a', 'em', 'strong', 'p', 'strong', 'ul', 'li', 'a', 'li', 'span', 'a', 'li', 'span', 'ul', 'li', 'span', 'li', 'span', 'ul', 'li', 'li', 'b', 'b', 'strong', 'li', 'b', 'li', 'li', 'li', 'li', 'span', 'span', 'i', 'i', 'span', 'h3', 'p', 'p', 'a', 'h3', 'b', 'ul', 'li', 'a', 'li', 'li', 'a', 'li', 'i', 'li', 'li', 'li', 'li', 'ul', 'li', 'span', 'i', 'i', 'li', 'span', 'i', 'li', 'a', 'li', 'i', 'i', 'p', 'a', 'p', 'b', 'p', 'b', 'i', 'span']",
            "count": 1
           },
           {
            "name": "['h1', 'p', 'img', 'p', 'strong', 'a', 'p', 'h2', 'strong', 'p', 'a', 'p', 'p', 'strong', 'sup', 'p', 'strong', 'strong', 'strong', 'strong', 'a', 'p', 'strong', 'strong', 'a', 'h2', 'strong', 'p', 'strong', 'span', 'span', 'p', 'strong', 'p', 'strong', 'p', 'p', 'strong', 'a', 'p', 'span', 'img', 'p', 'strong', 'a', 'a', 'h2', 'ol', 'li', 'a', 'a', 'a', 'a', 'li', 'li', 'a', 'li', 'li', 'li', 'li', 'div', 'h2', 'p', 'a', 'p', 'a', 'p', 'a', 'a', 'a']",
            "count": 1
           },
           {
            "name": "3 others",
            "count": 3
           }
          ]
         }
        },
        {
         "name": "html_tag_freq",
         "dtype": "object",
         "stats": {
          "unique_count": 5,
          "nan_count": 0,
          "categories": [
           {
            "name": "{'header': 1, 'h1': 1, 'div': 1, 'ul': 6, 'li': 27, 'span': 13, 'strong': 7, 'a': 13, 'h2': 1, 'p': 9, 'em': 1, 'b': 6, 'i': 9, 'h3': 2}",
            "count": 1
           },
           {
            "name": "{'h1': 1, 'p': 18, 'img': 2, 'strong': 15, 'a': 17, 'h2': 4, 'sup': 1, 'span': 3, 'ol': 1, 'li': 7, 'div': 1}",
            "count": 1
           },
           {
            "name": "3 others",
            "count": 3
           }
          ]
         }
        },
        {
         "name": "html_emphasized_elements",
         "dtype": "object",
         "stats": {
          "unique_count": 5,
          "nan_count": 0,
          "categories": [
           {
            "name": "['the m.tech. (cds) admission process', 'download admissions brochure [pdf]', 'common offer acceptance portal (coap)', 'about the m.tech. (cds) program', 'programflyer', 'linear algebra/matrices, probability, and combinatorics', 'iisc online admissions application', 'iisc admissions website', 'course degree admissions, 2021', 'shortlist students', 'fluid/solid mechanics', '15 apr 2021', 'april 19-23, 2021', 'important dates:', '(https://coap.iitd.ac.in)', 'last updated on april 12, 2021', 'calculus and geometry', 'admissions faq', 'algorithms', 'data structures (arrays, matrices, etc.), and basic programming.', 'm.tech. (computational & data science) admissions, 2021', '2:30 pm – 4:00 pm', 'only with shortlisted candidates', 'for any queries/questions about admissions, please contact: chair.cds#iisc.ac.in (replace # with @)']",
            "count": 1
           },
           {
            "name": "['written test will be held online with remote login through a browser. more details:', 'n of india applicants:', 'date of written test: 15th april 2021', 'international applicants:', '23:59 ist on 31stmarch 2021', 'here', 'time: 9.00am to 10.30am', 'further details', 'e', 'mtech (ai) @ iisc', 'admissions 2021 – application and deadline', 'highlights of the programme', 'click here', 'if you have questions,please browse through thefaq to see if your question is already answered. if notplease send an email to', 'interview', 'indian and overseas citiz', 'due to the covid-19 pandemic, there will not be an interview for the candidates shortlisted based on the gate scores. instead, there will be an online test for m.tech. (artificial intelligence).the test will check the ability of the applicants.']",
            "count": 1
           },
           {
            "name": "3 others",
            "count": 3
           }
          ]
         }
        },
        {
         "name": "header_elements",
         "dtype": "object",
         "stats": {
          "unique_count": 5,
          "nan_count": 0,
          "categories": [
           {
            "name": "about the m tech   cds  program;2021;m tech   computational   data science  admissions;the m tech   cds  admission process;course degree admissions",
            "count": 1
           },
           {
            "name": "interview;further details;admissions 2021 – application and deadline;highlights of the programme;mtech  ai    iisc",
            "count": 1
           },
           {
            "name": "3 others",
            "count": 3
           }
          ]
         }
        },
        {
         "name": "emphasized_elements_text",
         "dtype": "object",
         "stats": {
          "unique_count": 5,
          "nan_count": 0,
          "categories": [
           {
            "name": "last updated on april 12;linear algebra matrices;m tech   computational   data science  admissions;etc;2 30 pm – 4 00 pm;iisc online admissions application;15 apr 2021;about the m tech   cds  program;april 19 23;algorithms;only with shortlisted candidates;admissions faq;matrices;common offer acceptance portal  coap;the m tech   cds  admission process;programflyer;download admissions brochure pdf;course degree admissions;shortlist students;and basic programming;for any queries questions about admissions;fluid solid mechanics;data structures  arrays;important dates;please contact  chair cds iisc ac in  replace   with;2021;calculus and geometry;iisc admissions website;probability;and combinatorics;https   coap iitd ac in",
            "count": 1
           },
           {
            "name": "n of india applicants;international applicants;e;there will not be an interview for the candidates shortlisted based on the gate scores  instead;written test will be held online with remote login through a browser  more details;mtech  ai    iisc;due to the covid 19 pandemic;indian and overseas citiz;23 59 ist on 31stmarch 2021;time  9 00am to 10 30am;please browse through thefaq to see if your question is already answered  if notplease send an email to;highlights of the programme;if you have questions;interview;further details;here;there will be an online test for m tech   artificial intelligence  the test will check the ability of the applicants;admissions 2021 – application and deadline;date of written test  15th april 2021;click here",
            "count": 1
           },
           {
            "name": "3 others",
            "count": 3
           }
          ]
         }
        },
        {
         "name": "num_emphasized_elements",
         "dtype": "int64",
         "stats": {
          "unique_count": 5,
          "nan_count": 0,
          "min": "1",
          "max": "31",
          "histogram": [
           {
            "bin_start": 1,
            "bin_end": 4,
            "count": 2
           },
           {
            "bin_start": 4,
            "bin_end": 7,
            "count": 0
           },
           {
            "bin_start": 7,
            "bin_end": 10,
            "count": 0
           },
           {
            "bin_start": 10,
            "bin_end": 13,
            "count": 0
           },
           {
            "bin_start": 13,
            "bin_end": 16,
            "count": 1
           },
           {
            "bin_start": 16,
            "bin_end": 19,
            "count": 0
           },
           {
            "bin_start": 19,
            "bin_end": 22,
            "count": 1
           },
           {
            "bin_start": 22,
            "bin_end": 25,
            "count": 0
           },
           {
            "bin_start": 25,
            "bin_end": 28,
            "count": 0
           },
           {
            "bin_start": 28,
            "bin_end": 31,
            "count": 1
           }
          ]
         }
        },
        {
         "name": "num_headers",
         "dtype": "int64",
         "stats": {
          "unique_count": 3,
          "nan_count": 0,
          "min": "1",
          "max": "8",
          "histogram": [
           {
            "bin_start": 1,
            "bin_end": 1.7,
            "count": 2
           },
           {
            "bin_start": 1.7,
            "bin_end": 2.4,
            "count": 0
           },
           {
            "bin_start": 2.4,
            "bin_end": 3.0999999999999996,
            "count": 0
           },
           {
            "bin_start": 3.0999999999999996,
            "bin_end": 3.8,
            "count": 0
           },
           {
            "bin_start": 3.8,
            "bin_end": 4.5,
            "count": 0
           },
           {
            "bin_start": 4.5,
            "bin_end": 5.199999999999999,
            "count": 2
           },
           {
            "bin_start": 5.199999999999999,
            "bin_end": 5.8999999999999995,
            "count": 0
           },
           {
            "bin_start": 5.8999999999999995,
            "bin_end": 6.6,
            "count": 0
           },
           {
            "bin_start": 6.6,
            "bin_end": 7.3,
            "count": 0
           },
           {
            "bin_start": 7.3,
            "bin_end": 8,
            "count": 1
           }
          ]
         }
        },
        {
         "name": "num_links",
         "dtype": "int64",
         "stats": {
          "unique_count": 4,
          "nan_count": 0,
          "min": "1",
          "max": "16",
          "histogram": [
           {
            "bin_start": 1,
            "bin_end": 2.5,
            "count": 2
           },
           {
            "bin_start": 2.5,
            "bin_end": 4,
            "count": 0
           },
           {
            "bin_start": 4,
            "bin_end": 5.5,
            "count": 1
           },
           {
            "bin_start": 5.5,
            "bin_end": 7,
            "count": 0
           },
           {
            "bin_start": 7,
            "bin_end": 8.5,
            "count": 0
           },
           {
            "bin_start": 8.5,
            "bin_end": 10,
            "count": 1
           },
           {
            "bin_start": 10,
            "bin_end": 11.5,
            "count": 0
           },
           {
            "bin_start": 11.5,
            "bin_end": 13,
            "count": 0
           },
           {
            "bin_start": 13,
            "bin_end": 14.5,
            "count": 0
           },
           {
            "bin_start": 14.5,
            "bin_end": 16,
            "count": 1
           }
          ]
         }
        },
        {
         "name": "_deepnote_index_column",
         "dtype": "int64"
        }
       ],
       "rows_top": [
        {
         "country": "India",
         "dept_cat": "Data-related",
         "subject": "Data Science",
         "header_tag": "['h1', 'h2', 'h3']",
         "header_names": "[['\\n\\t\\t\\tCourse Degree Admissions, 2021\\t\\t'], ['M.Tech. (Computational & Data Science) Admission…",
         "links": "['https://iisc.ac.in/admissions/m-tech-m-des/', 'https://admissions.iisc.ac.in/', 'http://cds.iisc.…",
         "html_tags": "['header', 'h1', 'div', 'ul', 'li', 'span', 'strong', 'a', 'li', 'span', 'strong', 'a', 'li', 'span…",
         "html_tag_freq": "{'header': 1, 'h1': 1, 'div': 1, 'ul': 6, 'li': 27, 'span': 13, 'strong': 7, 'a': 13, 'h2': 1, 'p':…",
         "html_emphasized_elements": "['the m.tech. (cds) admission process', 'download admissions brochure [pdf]', 'common offer accepta…",
         "header_elements": "about the m tech   cds  program;2021;m tech   computational   data science  admissions;the m tech  …",
         "emphasized_elements_text": "last updated on april 12;linear algebra matrices;m tech   computational   data science  admissions;…",
         "num_emphasized_elements": 31,
         "num_headers": 5,
         "num_links": 9,
         "_deepnote_index_column": 0
        },
        {
         "country": "India",
         "dept_cat": "Engineering-related",
         "subject": "Artificial Intelligence",
         "header_tag": "['h1', 'h2']",
         "header_names": "[['MTech (AI) @ IISc'], ['Admissions 2021 – Application and deadline', 'Interview', 'Highlights of …",
         "links": "['https://ai.iisc.ac.in', 'https://admissions-august.iisc.ac.in/web/selectugpg.aspx', 'https://www.…",
         "html_tags": "['h1', 'p', 'img', 'p', 'strong', 'a', 'p', 'h2', 'strong', 'p', 'a', 'p', 'p', 'strong', 'sup', 'p…",
         "html_tag_freq": "{'h1': 1, 'p': 18, 'img': 2, 'strong': 15, 'a': 17, 'h2': 4, 'sup': 1, 'span': 3, 'ol': 1, 'li': 7,…",
         "html_emphasized_elements": "['written test will be held online with remote login through a browser. more details:', 'n of india…",
         "header_elements": "interview;further details;admissions 2021 – application and deadline;highlights of the programme;mt…",
         "emphasized_elements_text": "n of india applicants;international applicants;e;there will not be an interview for the candidates …",
         "num_emphasized_elements": 20,
         "num_headers": 5,
         "num_links": 16,
         "_deepnote_index_column": 1
        },
        {
         "country": "India",
         "dept_cat": "Management-related",
         "subject": "Business Analytics",
         "header_tag": "['h2', 'h4']",
         "header_names": "[['MBA Business Analytics'], ['Highlights of the Programme', 'Course Curriculum and Programme Deliv…",
         "links": "no links in useful area",
         "html_tags": "['article', 'div', 'h2', 'p', 'h4', 'ul', 'li', 'li', 'li', 'li', 'li', 'h4', 'p', 'h4', 'p', 'h4',…",
         "html_tag_freq": "{'article': 1, 'div': 1, 'h2': 1, 'p': 9, 'h4': 7, 'ul': 1, 'li': 5, 'table': 1, 'tbody': 1, 'tr': …",
         "html_emphasized_elements": "['guest lectures', 'semester-4', 'continuous evaluation', 'placements', 'year 1', 'semester 2', 'su…",
         "header_elements": "placements;curriculum;continuous evaluation;highlights of the programme;course curriculum and progr…",
         "emphasized_elements_text": "semester – 3;semester 4;year – 2;placements;semester 2;curriculum;continuous evaluation;semester 1;…",
         "num_emphasized_elements": 15,
         "num_headers": 8,
         "num_links": 1,
         "_deepnote_index_column": 2
        },
        {
         "country": "India",
         "dept_cat": "Engineering-related",
         "subject": "Artificial Intelligence",
         "header_tag": "['h2']",
         "header_names": "[['Master of Technology in Artificial Intelligence']]",
         "links": "['./mtechaiold_program.php', './mtechainew_program.php', './mtechai2016_program.php', 'mtechaioptio…",
         "html_tags": "['div', 'h2', 'p', 'b', 'ul', 'li', 'a', 'li', 'a', 'li', 'a', 'li', 'a']",
         "html_tag_freq": "{'div': 1, 'h2': 1, 'p': 1, 'b': 1, 'ul': 1, 'li': 4, 'a': 4}",
         "html_emphasized_elements": "['m.tech artificial intelligence', 'master of technology in artificial intelligence']",
         "header_elements": "master of technology in artificial intelligence",
         "emphasized_elements_text": "master of technology in artificial intelligence;m tech artificial intelligence",
         "num_emphasized_elements": 2,
         "num_headers": 1,
         "num_links": 4,
         "_deepnote_index_column": 3
        },
        {
         "country": "India",
         "dept_cat": "Engineering-related, Statistics-related",
         "subject": "Data Science",
         "header_tag": "Not inferred",
         "header_names": "Not inferred",
         "links": "Not inferred",
         "html_tags": "Not inferred",
         "html_tag_freq": "Not inferred",
         "html_emphasized_elements": "Not inferred",
         "header_elements": "not inferred",
         "emphasized_elements_text": "not inferred",
         "num_emphasized_elements": 1,
         "num_headers": 1,
         "num_links": 1,
         "_deepnote_index_column": 4
        }
       ],
       "rows_bottom": null
      },
      "text/plain": "  country                                 dept_cat                  subject  \\\n0   India                             Data-related             Data Science   \n1   India                      Engineering-related  Artificial Intelligence   \n2   India                       Management-related       Business Analytics   \n3   India                      Engineering-related  Artificial Intelligence   \n4   India  Engineering-related, Statistics-related             Data Science   \n\n           header_tag                                       header_names  \\\n0  ['h1', 'h2', 'h3']  [['\\n\\t\\t\\tCourse Degree Admissions, 2021\\t\\t'...   \n1        ['h1', 'h2']  [['MTech (AI) @ IISc'], ['Admissions 2021 – Ap...   \n2        ['h2', 'h4']  [['MBA Business Analytics'], ['Highlights of t...   \n3              ['h2']  [['Master of Technology in Artificial Intellig...   \n4        Not inferred                                       Not inferred   \n\n                                               links  \\\n0  ['https://iisc.ac.in/admissions/m-tech-m-des/'...   \n1  ['https://ai.iisc.ac.in', 'https://admissions-...   \n2                            no links in useful area   \n3  ['./mtechaiold_program.php', './mtechainew_pro...   \n4                                       Not inferred   \n\n                                           html_tags  \\\n0  ['header', 'h1', 'div', 'ul', 'li', 'span', 's...   \n1  ['h1', 'p', 'img', 'p', 'strong', 'a', 'p', 'h...   \n2  ['article', 'div', 'h2', 'p', 'h4', 'ul', 'li'...   \n3  ['div', 'h2', 'p', 'b', 'ul', 'li', 'a', 'li',...   \n4                                       Not inferred   \n\n                                       html_tag_freq  \\\n0  {'header': 1, 'h1': 1, 'div': 1, 'ul': 6, 'li'...   \n1  {'h1': 1, 'p': 18, 'img': 2, 'strong': 15, 'a'...   \n2  {'article': 1, 'div': 1, 'h2': 1, 'p': 9, 'h4'...   \n3  {'div': 1, 'h2': 1, 'p': 1, 'b': 1, 'ul': 1, '...   \n4                                       Not inferred   \n\n                            html_emphasized_elements  \\\n0  ['the m.tech. (cds) admission process', 'downl...   \n1  ['written test will be held online with remote...   \n2  ['guest lectures', 'semester-4', 'continuous e...   \n3  ['m.tech artificial intelligence', 'master of ...   \n4                                       Not inferred   \n\n                                     header_elements  \\\n0  about the m tech   cds  program;2021;m tech   ...   \n1  interview;further details;admissions 2021 – ap...   \n2  placements;curriculum;continuous evaluation;hi...   \n3    master of technology in artificial intelligence   \n4                                       not inferred   \n\n                            emphasized_elements_text  num_emphasized_elements  \\\n0  last updated on april 12;linear algebra matric...                       31   \n1  n of india applicants;international applicants...                       20   \n2  semester – 3;semester 4;year – 2;placements;se...                       15   \n3  master of technology in artificial intelligenc...                        2   \n4                                       not inferred                        1   \n\n   num_headers  num_links  \n0            5          9  \n1            5         16  \n2            8          1  \n3            1          4  \n4            1          1  ",
      "text/html": "<div>\n<style scoped>\n    .dataframe tbody tr th:only-of-type {\n        vertical-align: middle;\n    }\n\n    .dataframe tbody tr th {\n        vertical-align: top;\n    }\n\n    .dataframe thead th {\n        text-align: right;\n    }\n</style>\n<table border=\"1\" class=\"dataframe\">\n  <thead>\n    <tr style=\"text-align: right;\">\n      <th></th>\n      <th>country</th>\n      <th>dept_cat</th>\n      <th>subject</th>\n      <th>header_tag</th>\n      <th>header_names</th>\n      <th>links</th>\n      <th>html_tags</th>\n      <th>html_tag_freq</th>\n      <th>html_emphasized_elements</th>\n      <th>header_elements</th>\n      <th>emphasized_elements_text</th>\n      <th>num_emphasized_elements</th>\n      <th>num_headers</th>\n      <th>num_links</th>\n    </tr>\n  </thead>\n  <tbody>\n    <tr>\n      <th>0</th>\n      <td>India</td>\n      <td>Data-related</td>\n      <td>Data Science</td>\n      <td>['h1', 'h2', 'h3']</td>\n      <td>[['\\n\\t\\t\\tCourse Degree Admissions, 2021\\t\\t'...</td>\n      <td>['https://iisc.ac.in/admissions/m-tech-m-des/'...</td>\n      <td>['header', 'h1', 'div', 'ul', 'li', 'span', 's...</td>\n      <td>{'header': 1, 'h1': 1, 'div': 1, 'ul': 6, 'li'...</td>\n      <td>['the m.tech. (cds) admission process', 'downl...</td>\n      <td>about the m tech   cds  program;2021;m tech   ...</td>\n      <td>last updated on april 12;linear algebra matric...</td>\n      <td>31</td>\n      <td>5</td>\n      <td>9</td>\n    </tr>\n    <tr>\n      <th>1</th>\n      <td>India</td>\n      <td>Engineering-related</td>\n      <td>Artificial Intelligence</td>\n      <td>['h1', 'h2']</td>\n      <td>[['MTech (AI) @ IISc'], ['Admissions 2021 – Ap...</td>\n      <td>['https://ai.iisc.ac.in', 'https://admissions-...</td>\n      <td>['h1', 'p', 'img', 'p', 'strong', 'a', 'p', 'h...</td>\n      <td>{'h1': 1, 'p': 18, 'img': 2, 'strong': 15, 'a'...</td>\n      <td>['written test will be held online with remote...</td>\n      <td>interview;further details;admissions 2021 – ap...</td>\n      <td>n of india applicants;international applicants...</td>\n      <td>20</td>\n      <td>5</td>\n      <td>16</td>\n    </tr>\n    <tr>\n      <th>2</th>\n      <td>India</td>\n      <td>Management-related</td>\n      <td>Business Analytics</td>\n      <td>['h2', 'h4']</td>\n      <td>[['MBA Business Analytics'], ['Highlights of t...</td>\n      <td>no links in useful area</td>\n      <td>['article', 'div', 'h2', 'p', 'h4', 'ul', 'li'...</td>\n      <td>{'article': 1, 'div': 1, 'h2': 1, 'p': 9, 'h4'...</td>\n      <td>['guest lectures', 'semester-4', 'continuous e...</td>\n      <td>placements;curriculum;continuous evaluation;hi...</td>\n      <td>semester – 3;semester 4;year – 2;placements;se...</td>\n      <td>15</td>\n      <td>8</td>\n      <td>1</td>\n    </tr>\n    <tr>\n      <th>3</th>\n      <td>India</td>\n      <td>Engineering-related</td>\n      <td>Artificial Intelligence</td>\n      <td>['h2']</td>\n      <td>[['Master of Technology in Artificial Intellig...</td>\n      <td>['./mtechaiold_program.php', './mtechainew_pro...</td>\n      <td>['div', 'h2', 'p', 'b', 'ul', 'li', 'a', 'li',...</td>\n      <td>{'div': 1, 'h2': 1, 'p': 1, 'b': 1, 'ul': 1, '...</td>\n      <td>['m.tech artificial intelligence', 'master of ...</td>\n      <td>master of technology in artificial intelligence</td>\n      <td>master of technology in artificial intelligenc...</td>\n      <td>2</td>\n      <td>1</td>\n      <td>4</td>\n    </tr>\n    <tr>\n      <th>4</th>\n      <td>India</td>\n      <td>Engineering-related, Statistics-related</td>\n      <td>Data Science</td>\n      <td>Not inferred</td>\n      <td>Not inferred</td>\n      <td>Not inferred</td>\n      <td>Not inferred</td>\n      <td>Not inferred</td>\n      <td>Not inferred</td>\n      <td>not inferred</td>\n      <td>not inferred</td>\n      <td>1</td>\n      <td>1</td>\n      <td>1</td>\n    </tr>\n  </tbody>\n</table>\n</div>"
     },
     "metadata": {}
    }
   ],
   "execution_count": null
  },
  {
   "cell_type": "code",
   "source": "all_tags = \";\".join(df_web[df_web.country==\"India\"].html_tags.apply(get_element_text_str)).split(';')\npd.Series(all_tags).value_counts(normalize=True).head(20)",
   "metadata": {
    "tags": [],
    "cell_id": "00027-9e471dca-3ff7-4b3d-bd7a-5240016437aa",
    "deepnote_to_be_reexecuted": false,
    "source_hash": "e4845955",
    "execution_start": 1627121974093,
    "execution_millis": 103,
    "deepnote_cell_type": "code"
   },
   "outputs": [
    {
     "output_type": "execute_result",
     "execution_count": 413,
     "data": {
      "text/plain": "p               0.062718\ndiv             0.059233\na               0.055749\nli              0.055749\nspan            0.048780\nstrong          0.048780\nul              0.045296\nh1              0.041812\nnot inferred    0.041812\nh2              0.038328\ntd              0.034843\ntable           0.034843\ntr              0.034843\ntbody           0.031359\nbr              0.031359\nh3              0.031359\nol              0.027875\nb               0.027875\nh4              0.024390\niframe          0.020906\ndtype: float64"
     },
     "metadata": {}
    }
   ],
   "execution_count": null
  },
  {
   "cell_type": "code",
   "source": "all_tags = \";\".join(df_web[df_web.country==\"USA\"].html_tags.apply(get_element_text_str)).split(';')\npd.Series(all_tags).value_counts(normalize=True).head(20)",
   "metadata": {
    "tags": [],
    "cell_id": "00027-a901ab45-bce6-4867-acdf-cfe671c25d9e",
    "deepnote_to_be_reexecuted": false,
    "source_hash": "2154f8c8",
    "execution_start": 1627121975069,
    "execution_millis": 247,
    "deepnote_cell_type": "code"
   },
   "outputs": [
    {
     "output_type": "execute_result",
     "execution_count": 414,
     "data": {
      "text/plain": "a          0.055102\ndiv        0.054422\np          0.054422\nspan       0.048299\nli         0.046939\nul         0.045578\nstrong     0.041497\nh2         0.037415\nbr         0.036735\nimg        0.036054\nh1         0.035374\nh3         0.032653\nh4         0.026531\nem         0.021769\ntr         0.017687\ntbody      0.017687\ntd         0.017687\ntable      0.017687\narticle    0.017007\nnav        0.016327\ndtype: float64"
     },
     "metadata": {}
    }
   ],
   "execution_count": null
  },
  {
   "cell_type": "code",
   "source": "emphasized_elements_text = \";\".join(df_web.emphasized_elements_text).split(';')\nemphasized_elements_text = [e.replace(\";\", \" \") for e in emphasized_elements_text]\nemphasized_elements_text = \" \".join(emphasized_elements_text).split(' ')\nemphasized_elements_text = [ele for ele in emphasized_elements_text if ele not in STOP_WORDS]",
   "metadata": {
    "tags": [],
    "cell_id": "00030-82244b22-5028-480d-b60a-ebd772c2c4fe",
    "deepnote_to_be_reexecuted": false,
    "source_hash": "9a5b70d4",
    "execution_start": 1627121977189,
    "execution_millis": 4,
    "deepnote_cell_type": "code"
   },
   "outputs": [],
   "execution_count": null
  },
  {
   "cell_type": "code",
   "source": "[e for e in emphasized_elements_text if ('admission' in e or 'apply' in e)]",
   "metadata": {
    "tags": [],
    "cell_id": "00032-ab33871f-329c-4125-a8dc-328fee297787",
    "deepnote_to_be_reexecuted": false,
    "source_hash": "2422ea7f",
    "execution_start": 1627121979985,
    "execution_millis": 10,
    "deepnote_cell_type": "code"
   },
   "outputs": [
    {
     "output_type": "execute_result",
     "execution_count": 416,
     "data": {
      "text/plain": "['admissions',\n 'admissions',\n 'admissions',\n 'admission',\n 'admissions',\n 'admissions',\n 'admissions',\n 'admissions',\n 'admissions',\n 'admission',\n 'admission',\n 'admission',\n 'admissions',\n 'admissions',\n 'admissions',\n 'apply',\n 'apply',\n 'apply',\n 'admission',\n 'admission',\n 'admission',\n 'admissionsnon',\n 'admissions',\n 'apply',\n 'admissionsnon',\n 'admissions',\n 'apply',\n 'admissions',\n 'admission',\n 'admissions',\n 'admissions',\n 'admissions',\n 'admission',\n 'onlineadmissions',\n 'admissions',\n 'admissions',\n 'apply',\n 'admissions',\n 'apply',\n 'admissions',\n 'admissions',\n 'admissions',\n 'admissions',\n 'admission',\n 'admissions',\n 'apply',\n 'apply',\n 'apply',\n 'apply',\n 'apply',\n 'apply',\n 'apply',\n 'apply',\n 'apply',\n 'apply',\n 'apply',\n 'admission',\n 'admissions',\n 'applying',\n 'admissions',\n 'apply',\n 'apply',\n 'apply',\n 'apply',\n 'admission',\n 'admission',\n 'admission',\n 'apply',\n 'admission',\n 'admissions',\n 'admissions',\n 'admissions',\n 'apply',\n 'apply',\n 'apply',\n 'apply',\n 'admissions',\n 'admissions',\n 'apply',\n 'admissions',\n 'admission',\n 'apply',\n 'admission',\n 'admissions',\n 'admissions',\n 'admission',\n 'admission',\n 'admission',\n 'admissions',\n 'admission',\n 'admission',\n 'apply',\n 'apply',\n 'admission',\n 'apply',\n 'applying',\n 'apply',\n 'admissions',\n 'apply',\n 'admissions']"
     },
     "metadata": {}
    }
   ],
   "execution_count": null
  },
  {
   "cell_type": "code",
   "source": "f = pd.Series(emphasized_elements_text)\nf",
   "metadata": {
    "tags": [],
    "cell_id": "00032-65edc06f-6e37-42c6-8664-40455a8ce681",
    "deepnote_to_be_reexecuted": false,
    "source_hash": "175e37ec",
    "execution_start": 1627121984693,
    "execution_millis": 13,
    "deepnote_cell_type": "code"
   },
   "outputs": [
    {
     "output_type": "execute_result",
     "execution_count": 417,
     "data": {
      "text/plain": "0         updated\n1           april\n2              12\n3          linear\n4         algebra\n          ...    \n9288        smith\n9289           ms\n9290    marketing\n9291    analytics\n9292       degree\nLength: 9293, dtype: object"
     },
     "metadata": {}
    }
   ],
   "execution_count": null
  },
  {
   "cell_type": "code",
   "source": "unique_emph = list(set(emphasized_elements_text))\nunique_emph = [w for w in unique_words if len(w) != 0]\n\nohe = pd.DataFrame(columns=unique_emph)\nohe.loc[len(ohe)] = 0\nfor phrase in emphasized_elements_text:\n    try:\n        ohe[phrase]  = ohe[phrase] + 1\n    except:\n        pass",
   "metadata": {
    "tags": [],
    "cell_id": "00032-d00a3c17-3cc1-4f0b-b85b-1fe2389735a0",
    "deepnote_to_be_reexecuted": false,
    "source_hash": "ef9829c0",
    "execution_start": 1627121990504,
    "execution_millis": 1105,
    "deepnote_cell_type": "code"
   },
   "outputs": [],
   "execution_count": null
  },
  {
   "cell_type": "code",
   "source": "ohe.columns",
   "metadata": {
    "tags": [],
    "cell_id": "00035-d8c1afd7-21c9-4ce7-b53e-4b8d15252f9d",
    "deepnote_to_be_reexecuted": false,
    "source_hash": "1dbc5f22",
    "execution_start": 1627121993185,
    "execution_millis": 13,
    "deepnote_cell_type": "code"
   },
   "outputs": [
    {
     "output_type": "execute_result",
     "execution_count": 419,
     "data": {
      "text/plain": "Index(['master’s in data science', 'applied business analytics faculty',\n       '100%', 'mccourt school news',\n       '\"#8 best online masters in computer information technology programs\"',\n       'explore the mit sloan campus',\n       'ids420. business model simulation. 3 or 4 hours.',\n       'total of 30 credit hours', 'wednesday', 'engr computing access fee',\n       ...\n       'alumni profiles', 'september 28', 'two (2) elective courses',\n       'student achievements', 'for more information:',\n       'rady msba career highlights', 'list of electives',\n       'ids406. business systems project. 3 or 4 hours.',\n       'software development: (3 units)', '\"data science masters program\"'],\n      dtype='object', length=1905)"
     },
     "metadata": {}
    }
   ],
   "execution_count": null
  },
  {
   "cell_type": "code",
   "source": "ohe = ohe.T",
   "metadata": {
    "tags": [],
    "cell_id": "00032-cfa2f936-ea08-4ea2-9c0c-af00c050590e",
    "deepnote_to_be_reexecuted": false,
    "source_hash": "a2afb3bc",
    "execution_start": 1627122000514,
    "execution_millis": 6,
    "deepnote_cell_type": "code"
   },
   "outputs": [],
   "execution_count": null
  },
  {
   "cell_type": "code",
   "source": "ohe.columns = ['0']\nohe.sort_values(ascending=False, by='0').head(30)",
   "metadata": {
    "tags": [],
    "cell_id": "00036-c05aa0d0-54d9-42ca-94b9-fa6a97016fda",
    "deepnote_to_be_reexecuted": false,
    "source_hash": "dc64d36c",
    "execution_start": 1627122413348,
    "execution_millis": 28,
    "deepnote_cell_type": "code"
   },
   "outputs": [
    {
     "output_type": "execute_result",
     "execution_count": 424,
     "data": {
      "application/vnd.deepnote.dataframe.v2+json": {
       "row_count": 30,
       "column_count": 1,
       "columns": [
        {
         "name": "0",
         "dtype": "object",
         "stats": {
          "unique_count": 25,
          "nan_count": 0,
          "categories": [
           {
            "name": "46",
            "count": 2
           },
           {
            "name": "38",
            "count": 2
           },
           {
            "name": "23 others",
            "count": 26
           }
          ]
         }
        },
        {
         "name": "_deepnote_index_column",
         "dtype": "object"
        }
       ],
       "rows_top": [
        {
         "0": "172",
         "_deepnote_index_column": "data"
        },
        {
         "0": "159",
         "_deepnote_index_column": "4"
        },
        {
         "0": "117",
         "_deepnote_index_column": "program"
        },
        {
         "0": "89",
         "_deepnote_index_column": "course"
        },
        {
         "0": "75",
         "_deepnote_index_column": "3"
        },
        {
         "0": "68",
         "_deepnote_index_column": "requirements"
        },
        {
         "0": "65",
         "_deepnote_index_column": "courses"
        },
        {
         "0": "55",
         "_deepnote_index_column": "degree"
        },
        {
         "0": "50",
         "_deepnote_index_column": "2"
        },
        {
         "0": "46",
         "_deepnote_index_column": "1"
        },
        {
         "0": "46",
         "_deepnote_index_column": "application"
        },
        {
         "0": "39",
         "_deepnote_index_column": "campus"
        },
        {
         "0": "38",
         "_deepnote_index_column": "admissions"
        },
        {
         "0": "38",
         "_deepnote_index_column": "2021"
        },
        {
         "0": "36",
         "_deepnote_index_column": "curriculum"
        },
        {
         "0": "34",
         "_deepnote_index_column": "apply"
        },
        {
         "0": "32",
         "_deepnote_index_column": "faculty"
        },
        {
         "0": "30",
         "_deepnote_index_column": "online"
        },
        {
         "0": "29",
         "_deepnote_index_column": "research"
        },
        {
         "0": "29",
         "_deepnote_index_column": "fees"
        },
        {
         "0": "27",
         "_deepnote_index_column": "tuition"
        },
        {
         "0": "24",
         "_deepnote_index_column": "contact"
        },
        {
         "0": "23",
         "_deepnote_index_column": "admission"
        },
        {
         "0": "23",
         "_deepnote_index_column": "gre"
        },
        {
         "0": "22",
         "_deepnote_index_column": "fall"
        },
        {
         "0": "21",
         "_deepnote_index_column": "capstone"
        },
        {
         "0": "21",
         "_deepnote_index_column": "electives"
        },
        {
         "0": "20",
         "_deepnote_index_column": "department"
        },
        {
         "0": "17",
         "_deepnote_index_column": "deadlines"
        },
        {
         "0": "16",
         "_deepnote_index_column": "statistics"
        }
       ],
       "rows_bottom": null
      },
      "text/plain": "                0\ndata          172\n4             159\nprogram       117\ncourse         89\n3              75\nrequirements   68\ncourses        65\ndegree         55\n2              50\n1              46\napplication    46\ncampus         39\nadmissions     38\n2021           38\ncurriculum     36\napply          34\nfaculty        32\nonline         30\nresearch       29\nfees           29\ntuition        27\ncontact        24\nadmission      23\ngre            23\nfall           22\ncapstone       21\nelectives      21\ndepartment     20\ndeadlines      17\nstatistics     16",
      "text/html": "<div>\n<style scoped>\n    .dataframe tbody tr th:only-of-type {\n        vertical-align: middle;\n    }\n\n    .dataframe tbody tr th {\n        vertical-align: top;\n    }\n\n    .dataframe thead th {\n        text-align: right;\n    }\n</style>\n<table border=\"1\" class=\"dataframe\">\n  <thead>\n    <tr style=\"text-align: right;\">\n      <th></th>\n      <th>0</th>\n    </tr>\n  </thead>\n  <tbody>\n    <tr>\n      <th>data</th>\n      <td>172</td>\n    </tr>\n    <tr>\n      <th>4</th>\n      <td>159</td>\n    </tr>\n    <tr>\n      <th>program</th>\n      <td>117</td>\n    </tr>\n    <tr>\n      <th>course</th>\n      <td>89</td>\n    </tr>\n    <tr>\n      <th>3</th>\n      <td>75</td>\n    </tr>\n    <tr>\n      <th>requirements</th>\n      <td>68</td>\n    </tr>\n    <tr>\n      <th>courses</th>\n      <td>65</td>\n    </tr>\n    <tr>\n      <th>degree</th>\n      <td>55</td>\n    </tr>\n    <tr>\n      <th>2</th>\n      <td>50</td>\n    </tr>\n    <tr>\n      <th>1</th>\n      <td>46</td>\n    </tr>\n    <tr>\n      <th>application</th>\n      <td>46</td>\n    </tr>\n    <tr>\n      <th>campus</th>\n      <td>39</td>\n    </tr>\n    <tr>\n      <th>admissions</th>\n      <td>38</td>\n    </tr>\n    <tr>\n      <th>2021</th>\n      <td>38</td>\n    </tr>\n    <tr>\n      <th>curriculum</th>\n      <td>36</td>\n    </tr>\n    <tr>\n      <th>apply</th>\n      <td>34</td>\n    </tr>\n    <tr>\n      <th>faculty</th>\n      <td>32</td>\n    </tr>\n    <tr>\n      <th>online</th>\n      <td>30</td>\n    </tr>\n    <tr>\n      <th>research</th>\n      <td>29</td>\n    </tr>\n    <tr>\n      <th>fees</th>\n      <td>29</td>\n    </tr>\n    <tr>\n      <th>tuition</th>\n      <td>27</td>\n    </tr>\n    <tr>\n      <th>contact</th>\n      <td>24</td>\n    </tr>\n    <tr>\n      <th>admission</th>\n      <td>23</td>\n    </tr>\n    <tr>\n      <th>gre</th>\n      <td>23</td>\n    </tr>\n    <tr>\n      <th>fall</th>\n      <td>22</td>\n    </tr>\n    <tr>\n      <th>capstone</th>\n      <td>21</td>\n    </tr>\n    <tr>\n      <th>electives</th>\n      <td>21</td>\n    </tr>\n    <tr>\n      <th>department</th>\n      <td>20</td>\n    </tr>\n    <tr>\n      <th>deadlines</th>\n      <td>17</td>\n    </tr>\n    <tr>\n      <th>statistics</th>\n      <td>16</td>\n    </tr>\n  </tbody>\n</table>\n</div>"
     },
     "metadata": {}
    }
   ],
   "execution_count": null
  },
  {
   "cell_type": "code",
   "source": "header_text = \";\".join(df_web[df_web.country==\"USA\"].emphasized_elements_text).split(';')\nheader_text = Counter([word for word in header_text if word not in STOP_WORDS])\nheader_text.most_common()",
   "metadata": {
    "tags": [],
    "cell_id": "00030-a31f1d06-3c97-4fd6-89ea-494c39704ca1",
    "deepnote_to_be_reexecuted": false,
    "source_hash": "39699ebe",
    "execution_start": 1627115883761,
    "execution_millis": 61,
    "deepnote_cell_type": "code"
   },
   "outputs": [
    {
     "output_type": "execute_result",
     "execution_count": 251,
     "data": {
      "text/plain": "[('tuition', 13),\n ('application requirements', 12),\n ('curriculum', 11),\n ('application deadlines', 11),\n ('on-campus', 11),\n ('health insurance', 11),\n ('i consent to receive periodic texts from the usc viterbi school of engineering. i can opt out at any time. standard text/data rates may apply.',\n  10),\n ('fee description', 10),\n ('**by providing my mobile phone number', 10),\n ('norman topping student aid fee', 10),\n ('den@viterbi', 10),\n ('exam proctoring', 10),\n ('resume/cv', 10),\n ('gre general test:', 10),\n ('student fees', 10),\n ('international students:', 10),\n ('4-unit course', 10),\n ('engr computing access fee', 10),\n ('course offerings', 10),\n ('english language proficiency:', 10),\n ('academic year', 10),\n ('personal statement', 10),\n ('mandatory fees (approximate)', 10),\n ('fee amount', 10),\n ('academic disciplines', 10),\n ('transcripts:', 10),\n ('please note: requirements for graduation', 10),\n ('3-unit course', 10),\n ('additional materials for international applicants', 10),\n ('register today:', 10),\n ('course availability', 10),\n ('per unit rate', 10),\n ('admissions', 8),\n ('data science', 7),\n ('track offerings', 6),\n ('and any other degree requirements are subject to change. students should consult with an academic advisor prior to registering for any classes.',\n  6),\n ('estimated cost of attendance – 32 unit program', 6),\n ('faculty', 5),\n ('master of science in business analytics', 5),\n ('program overview', 5),\n ('department profile', 5),\n ('admission requirements', 4),\n ('contact us', 4),\n ('overview', 4),\n ('program requirements', 4),\n ('letters of recommendation (optional):', 4),\n ('letters of recommendation (2 highly recommended):', 4),\n ('courses', 4),\n ('', 3),\n ('student life', 3),\n ('request information', 3),\n ('apply', 3),\n ('frequently asked questions', 3),\n ('program description', 3),\n ('electives', 3),\n ('fees', 3),\n ('about the program', 3),\n ('track offerings and any other degree requirements are subject to change. students should consult with an academic advisor prior to registering for any classes.',\n  3),\n ('required courses', 3),\n ('program pages: rfi', 3),\n ('location', 3),\n ('u.s. news & world report', 3),\n ('how to apply', 3),\n ('requirements', 3),\n ('course requirements', 3),\n ('application fee', 3),\n ('you are here', 2),\n ('financing your education', 2),\n ('our students', 2),\n ('featured faculty', 2),\n ('facebook', 2),\n ('connect with us', 2),\n ('contact', 2),\n ('computer science', 2),\n ('events', 2),\n ('statistics', 2),\n ('prerequisites', 2),\n ('core courses', 2),\n ('admissions criteria', 2),\n ('transcripts', 2),\n ('core curriculum', 2),\n ('capstone', 2),\n ('capstone project', 2),\n ('quick links', 2),\n ('degree requirements', 2),\n ('financial aid', 2),\n ('in general', 2),\n ('machine learning', 2),\n ('fall 2022', 2),\n ('den@viterbi online course offerings', 2),\n ('.', 2),\n ('waived for summer and fall 2021 applicants-see below', 2),\n ('timing', 2),\n ('quick facts', 2),\n ('class size', 2),\n ('final deadline:', 2),\n ('mccormick graduates celebrate 163rd commencement', 2),\n ('degree earned:', 2),\n ('inside our program', 2),\n ('discover our whole-brain engineering philosophy', 2),\n ('why northwestern?', 2),\n ('application deadline:', 2),\n ('gre general:', 2),\n ('personal statement:', 2),\n ('recommendations:', 2),\n ('leadership', 2),\n ('gre subject:', 2),\n ('resume:', 2),\n ('sc.m. completion requirements', 2),\n ('more information', 2),\n ('toefl/ielts:', 2),\n ('valuable resources:', 2),\n ('flexible options:', 2),\n ('engaged faculty:', 2),\n ('merit scholarships:', 2),\n ('met cs 677 data science with python', 2),\n ('sum2 2021', 2),\n ('second master’s degree option', 2),\n ('certificate-to-degree pathway', 2),\n ('track record:', 2),\n ('sum1 2021', 2),\n ('15:1 class ratio:', 2),\n ('program at a glance', 2),\n ('extensive network:', 2),\n ('met cs 555 data analysis and visualization with r', 2),\n ('active learning environment:', 2),\n ('fall 2021', 2),\n ('note:', 2),\n ('request info', 2),\n ('meet our students', 2),\n ('program learning outcomes', 2),\n ('learn more', 2),\n ('upcoming events', 2),\n ('2022', 2),\n ('finance', 2),\n ('duration', 2),\n ('admission', 2),\n ('related programs', 2),\n ('objective', 2),\n ('mailing address:', 2),\n ('admission and degree requirements', 2),\n ('administration:', 2),\n ('contact information:', 2),\n ('this program is officially registered with the new york state education department (sed).',\n  2),\n ('full/part time options', 2),\n ('in person', 2),\n ('(100 percent of courses offered in person)', 2),\n ('full time', 2),\n ('credits required', 2),\n ('track and/or certification option chosen. time-to-degree is based on calendar year(s). contact the department for details.',\n  2),\n ('time-to-degree', 2),\n ('degree', 2),\n ('online programs/courses may require students to come to campus on occasion. time-to-degree and number of credit hours may vary based on full/part time status',\n  2),\n ('instruction method', 2),\n ('learn from expert faculty', 2),\n ('apply and receive admissions benefits', 2),\n ('picture yourself in these job roles', 2),\n ('what type of student will you be?', 2),\n ('acquire valuable skills', 2),\n ('connect with your classmates', 2),\n ('which programs are you interested in?', 2),\n ('available as a plus 1 program', 2),\n ('alumni profiles', 2),\n ('boost your professional skills', 2),\n ('which part-time mba location do you prefer to attend?', 2),\n ('which working professional specialization are you most interested in?', 2),\n ('where your degree can take you', 2),\n ('october 13', 1),\n ('friday', 1),\n ('information for', 1),\n ('in applied computation', 1),\n ('main navigation', 1),\n ('tuesday', 1),\n ('wednesday', 1),\n ('\"masters in data science\"', 1),\n ('november 16', 1),\n ('october 29', 1),\n ('why stanford?', 1),\n ('after you graduate', 1),\n ('jo boaler', 1),\n ('education data science at stanford', 1),\n ('emma brunskill', 1),\n ('contact admissions', 1),\n ('what you need to know', 1),\n ('daniel mcfarland', 1),\n ('sanne smith', 1),\n ('education data science (ms)', 1),\n ('carl wieman', 1),\n ('christopher piech', 1),\n ('the program', 1),\n ('nicholas haber', 1),\n ('why you?', 1),\n ('thomas dee', 1),\n ('mathematical and statistical foundations (15 units)', 1),\n ('machine learning methods & applications (6–9 units minimum)', 1),\n ('after reading through the admissions faq', 1),\n ('experimentation elective (3 units)', 1),\n ('2020-21 academic year grade requirements:', 1),\n ('6 units)', 1),\n ('cme211* programming in c/c++ for scientists and engineers', 1),\n ('courses outside this list are subject to approval.', 1),\n ('the data science track schedule typically spans five quarters (not including summer quarter).',\n  1),\n ('stat-admissions-ms{at}lists.stanford.edu>>>', 1),\n ('alp 301', 1),\n ('notes:', 1),\n ('data science proposal forms', 1),\n ('software development and scientific computing (6 units minimum)', 1),\n ('biods 232', 1),\n ('practical component (3 units) optional', 1),\n ('minimum 6 units of elective coursework.', 1),\n ('2019-20 data science program curriculum', 1),\n ('year 2', 1),\n ('year 1', 1),\n ('software development: (3 units)', 1),\n ('scientific computing: (3', 1),\n ('electives in data science (6–9 units)', 1),\n ('m.s. in statistics: data science', 1),\n ('community voices', 1),\n ('100%', 1),\n ('optimizing my approach to the fall semester', 1),\n ('mit sloan graduate degree programs • office hours', 1),\n ('accelerate your careerin analytics', 1),\n ('post-mban career outcomes', 1),\n ('2020analytics capstone posters', 1),\n ('explore the mit sloan campus', 1),\n ('79-155k', 1),\n ('citizenship', 1),\n ('a data scientist dedicated to social change', 1),\n ('degree and major', 1),\n ('mban 2020 employment career statistics', 1),\n ('instagram', 1),\n ('alexander jacquillat', 1),\n ('see yourself here', 1),\n ('mban program deadlines – for august 2022 entry', 1),\n ('armando jesus hermosilla', 1),\n ('read recent updates from admissions', 1),\n ('90+', 1),\n ('want to give students real-world experience solving data challenges?', 1),\n ('y. karen zheng', 1),\n ('master of business analytics', 1),\n ('mban 2021', 1),\n ('mban', 1),\n ('applications must be submitted by 3:00 p.m. est:', 1),\n ('the analytics curriculum', 1),\n ('expert and approachable faculty', 1),\n ('mit student support services', 1),\n ('136k', 1),\n ('alumni', 1),\n ('sample research topics', 1),\n ('connecting across campus', 1),\n ('opportunityto conduct research with faculty', 1),\n ('soni saksham', 1),\n ('stephanie franklin', 1),\n ('register your interest', 1),\n ('alexandre jacquillat', 1),\n ('curriculum webinar series', 1),\n ('mban admission events', 1),\n ('faculty spotlight', 1),\n ('patrick jaillet', 1),\n ('my first month as an mban student', 1),\n ('view all mban onlineadmissions events', 1),\n ('what is it like to be an mban student here?', 1),\n ('inclusiveand collaborative', 1),\n ('youtube', 1),\n ('matt garbecki', 1),\n ('community', 1),\n ('video', 1),\n ('$11+k', 1),\n ('stemclassification', 1),\n ('aarushi bagga', 1),\n ('dimitris bertsimas', 1),\n ('career path', 1),\n ('88.9%', 1),\n ('dare to do it', 1),\n ('vivek f. farias', 1),\n ('*100percent of job-seeking graduates received full-time offers within six months of graduation.',\n  1),\n ('behind covid-19 vaccine development', 1),\n ('the alumni network', 1),\n ('admissions events', 1),\n ('undergraduate university', 1),\n ('one-year degree in advanced analytics', 1),\n ('rebecca schubertruegmer', 1),\n ('24k', 1),\n ('$114+k', 1),\n ('integrate + collaborate', 1),\n ('mit sloan graduate degree programs • overview', 1),\n ('#mitanalytics', 1),\n ('a growing alumni network', 1),\n ('aaron wang', 1),\n ('unique analytics capstone project model', 1),\n ('retsef levi', 1),\n ('mit sloan school of management - learn about the mban analytics capstone project',\n  1),\n ('analytics capstone', 1),\n ('a passion for math led this mban alumna to a career at google', 1),\n ('a vibrant network', 1),\n ('career resources', 1),\n ('keep exploring', 1),\n ('*students registered in an on-campus option may participate in on-campus and online courses.',\n  1),\n ('in the news', 1),\n ('jiaying claire wu gives a tedx talk on trusting artificial intelligence',\n  1),\n ('master of science in applied analytics', 1),\n ('application timeline', 1),\n ('learn more about the program in the applied analytics fact sheet.', 1),\n ('bridging people and staying involved on campus are “most rewarding”', 1),\n ('narrative', 1),\n ('protecting against ransomware: professor siddhartha dalal’s research on identifying ransomware actors in the bitcoin network',\n  1),\n ('testimonials', 1),\n ('m.s. application deadlines', 1),\n ('says alumna jiaying (claire) wu', 1),\n ('online', 1),\n ('international students should embrace what makes them different and always reach out for help',\n  1),\n ('using analytics to make a difference.', 1),\n ('sign up for updates', 1),\n ('says expert panel', 1),\n ('information sessions', 1),\n ('admissions counselor', 1),\n ('how alumna moshmi sanagavarapu transitioned her career in analytics strategy from india to the u.s.',\n  1),\n ('study with us', 1),\n ('and bioethics', 1),\n ('**students registered in the online option may participate only in online courses.',\n  1),\n ('applied analytics', 1),\n ('m.s. application requirements', 1),\n ('trust in medicine and institutions comes through a combination of data', 1),\n ('students & alumni', 1),\n ('for applied analytics student kate yi wang', 1),\n ('please note: for 2021', 1),\n ('and the fu foundation school of engineering and applied science’s department of computer science and department of industrial engineering and operations research.',\n  1),\n ('others are excited about data science as a new evolution in knowledge', 1),\n ('capstone projects', 1),\n ('where are columbia data science graduates now?*', 1),\n ('elective', 1),\n ('explore more from master of science in data science', 1),\n ('this program is jointly offered in collaboration with the graduate school of arts and sciences’ department of statistics',\n  1),\n ('engineer', 1),\n ('brianne cortese', 1),\n ('program highlights', 1),\n ('*a partial list as of fall 2019', 1),\n ('the m.s. in data science allows students to apply data science techniques to their field of interest.',\n  1),\n ('but all are interested in how data science is changing our everyday lives.',\n  1),\n ('the gre requirement cannot be waived. an applicant who has completed a graduate degree is still required to submit a valid test score.',\n  1),\n ('accumen | allstate | alvarez & marsal | amazon | american express | audible | bank of america | blackrock | bloomberg | booz allen hamilton | briskpoint | capital one | cartodb | ckm advisors | columbia university | comcast | commonwealth bank | conde nast | creditsights | deloitte | digitas | direct energy business | distributed intelligence | droice labs | early signal | ebay | euclidian technologies | facebook | fareportal | fdny | ge digital | google | groupm | guy carpenter | heritas | hsbc initiative | instadat | jet.com | kmk consulting | lazard | lord abbot & co. | mediamath | microsoft | mount sinai hospital | msci | nbcuniversal | nestle waters | next health technologies | oliver wyman | pfizer | piccone | paradigms | point 72 | pwc | resolvity | sap | saudi aramco | seatgeek | singapore bank | snap',\n  1),\n ('m.s. in data science', 1),\n ('helpful links', 1),\n ('some students are primarily concerned about data ethics', 1),\n ('violet yin', 1),\n ('the gre is optional', 1),\n ('course inventory', 1),\n ('inc. | spokeo | spotify | spreemo | swiss re | talkspace | telegeography | textnow | tremor video | tunein | uber | uncommon schools | verisk | verizon | xaxis | yelp | zs',\n  1),\n ('become a master of business analytics', 1),\n ('15 month on-campus program', 1),\n ('distinguished professor', 1),\n ('about our program', 1),\n ('james collins professor of marketing', 1),\n ('what makes a ucla anderson msba?', 1),\n ('professor of economics', 1),\n ('associate professor', 1),\n ('journal of the european economic association', 1),\n ('trailblazing faculty', 1),\n ('i want to...', 1),\n ('terminal ma/ms programs', 1),\n ('recent placements', 1),\n ('new in 2020:', 1),\n ('introduction to data science', 1),\n ('program', 1),\n ('depth area', 1),\n ('data science at penn', 1),\n ('thesis or practicum', 1),\n ('social policy/data analytics', 1),\n ('mssp & certificate', 1),\n ('social policy internships', 1),\n ('for more information:', 1),\n ('mba major advisors:', 1),\n ('*a student must petition the mba faculty advisors for approval of a non-wharton course that is not on the list above.',\n  1),\n ('penn design', 1),\n ('courses taken on a pass/fail basis cannot be counted toward the business analytics major. a maximum of 1 cu of an independent study project (isp) can count toward the business analytics major with advisor approval.',\n  1),\n ('penn engineering', 1),\n ('approved wharton coursework to count towards business analytics major:', 1),\n ('penn graduate school of education', 1),\n ('requirements for the major:', 1),\n ('penn social policy & practice', 1),\n ('**this course cannot be taken in the online format. must be taken on-campus.',\n  1),\n ('mba major in business analytics', 1),\n ('learn about musa!', 1),\n ('how the musa program runs', 1),\n ('required coursework', 1),\n ('about our mps program', 1),\n ('the mps program has three main components', 1),\n ('mps', 1),\n ('mps project', 1),\n ('the mps program has two options', 1),\n ('program duration', 1),\n ('for employers', 1),\n ('statistical analysis', 1),\n ('36 credits | 2 years', 1),\n ('master’s in data science', 1),\n ('scholarships', 1),\n ('educating the next generation of data scientists', 1),\n ('hr and data science', 1),\n ('all incoming students are required to attend a one-week intensive course onsite in nyc at the start of the program.',\n  1),\n ('program structure', 1),\n ('pearson versant english placement test (vept)', 1),\n ('industry experts in the classroom', 1),\n ('core requirements', 1),\n ('required documents', 1),\n ('students may only begin the program in the fall semester.', 1),\n ('language proficiency', 1),\n ('internship', 1),\n ('fall semester', 1),\n ('stem designation', 1),\n ('innovative curriculum', 1),\n ('data science courses that make you career-ready', 1),\n ('applied science', 1),\n ('we support your career goals', 1),\n ('at a glance', 1),\n ('learn more about the master of science in analytics', 1),\n ('data analytics for business professionals', 1),\n ('data visualization in a pandemic world', 1),\n ('of interest', 1),\n ('promoting women in data science', 1),\n ('designed for', 1),\n ('master of science in analytics', 1),\n ('msca graduate career outlook', 1),\n ('how to successfully network in the analytics industry', 1),\n ('ready to take your next step?', 1),\n ('\"a duke university masters program\"', 1),\n ('is interdisciplinary', 1),\n ('duke university master in interdisciplinary data science', 1),\n ('entry bootcamp', 1),\n ('md/meng aipi dual degree', 1),\n ('elective 2', 1),\n ('compare online and on-campus', 1),\n ('graduate student activity fee', 1),\n ('an extended two-semester machine learning/ai project', 1),\n ('pre-requisite', 1),\n ('domestic students can estimate $517 in loan fees per semester', 1),\n ('* tuition', 1),\n ('*', 1),\n ('admissions & recruiting team', 1),\n ('duke undergrads: 4+1 option', 1),\n ('also:', 1),\n ('industry-connected curriculum', 1),\n ('10 courses', 1),\n ('not eligible for va benefits or federal student aid', 1),\n ('on-campus:completed in 12 months', 1),\n ('online certificate programs', 1),\n ('no tuition is charged for course credits received for internship', 1),\n ('important note for international applicants', 1),\n ('program costs', 1),\n ('**', 1),\n ('more details', 1),\n ('curriculum schedules', 1),\n ('online—typical part-time schedule', 1),\n ('617', 1),\n ('four (4) technical ai/ml core courses', 1),\n ('12-month accelerated option', 1),\n ('pre-requisite—', 1),\n ('student health fee', 1),\n ('program length', 1),\n ('vehicle fee', 1),\n ('transportation and parking', 1),\n ('residencies for online students', 1),\n ('896', 1),\n ('these disclosures are required by the u.s. department of education', 1),\n ('md/meng aipi scholarship', 1),\n ('* students typically take 2 courses per semester. tuition', 1),\n ('business foundations for engineers', 1),\n ('industry seminar series and campus residencies', 1),\n ('campus master of engineering programs', 1),\n ('campus—typical full-time schedule', 1),\n ('1 capstone project', 1),\n ('technical track', 1),\n ('graduate student services fee', 1),\n ('or residency courses. there is a room and board fee associated with residency.',\n  1),\n ('degree tracks', 1),\n ('join our mailing list', 1),\n ('significantly more affordable', 1),\n ('audit fees', 1),\n ('elective 1', 1),\n ('total', 1),\n ('cost of living', 1),\n ('** duke may change its tuition for each academic year and this estimate is based on current academic year tuition charges.',\n  1),\n ('and estimates subject to confirmation each may.', 1),\n ('recreation fee', 1),\n ('internship courses do not incur tuition charges', 1),\n ('all students', 1),\n ('notes', 1),\n ('artificial intelligence for product innovation master of engineering', 1),\n ('2021-2022 campus tuition', 1),\n ('if securing student loans', 1),\n ('gainful employment disclosures*', 1),\n ('job placement rates', 1),\n ('ai foundations for product innovation', 1),\n ('$29', 1),\n ('transcript fee', 1),\n ('4+1 for duke undergraduates', 1),\n ('technical', 1),\n ('three to four', 1),\n ('$91', 1),\n ('internship assessment', 1),\n ('does not', 1),\n ('two (2) ai operations core courses', 1),\n ('** required unless you can show proof of comparable private insurance coverage.',\n  1),\n ('summer online python & data science math boot camp', 1),\n ('there is no charge for registration for students in duke master of engineering programs',\n  1),\n ('flexibility and options', 1),\n ('2021-2022 online tuition', 1),\n ('payment of accounts', 1),\n ('technology management track', 1),\n ('part-time online:completed in 24 months', 1),\n ('student loans', 1),\n ('tuition and financial aid', 1),\n ('two (2) management corecourses', 1),\n ('online students', 1),\n ('on-campus: completed in 16 months', 1),\n ('there is no charge for registration for students in the master of engineering program',\n  1),\n ('online master of engineering programs', 1),\n ('aipi 4+1 scholarship', 1),\n ('join our mailing list!', 1),\n ('921', 1),\n ('normal program duration', 1),\n ('technology management', 1),\n ('two (2) elective courses', 1),\n ('and estimated expenses', 1),\n ('online or on-campus', 1),\n ('domestic students can estimate $108 in loan fees per semester if securing student loans',\n  1),\n ('do not', 1),\n ('one course in statistics', 1),\n ('while classes having been offered in past semesters is often a good indication of their future availability',\n  1),\n ('department', 1),\n ('minimum grade requirements', 1),\n ('and several courses in the computer science department are restricted to graduate students in computer science and data science. however',\n  1),\n ('individual', 1),\n ('when should i start contacting faculty for the capstone experience?', 1),\n ('italics and blue font', 1),\n ('last modified 04/19/2021', 1),\n ('en.601.675', 1),\n ('computing for applied mathematics', 1),\n ('list of potential supervisors for the data science capstone experience', 1),\n ('one course in machine learning:', 1),\n ('introduction to statistics.', 1),\n ('but it is okay to nudge them if no answer was received after a few days. if the advisor is inaccessible',\n  1),\n ('it is important to make sure that the course plan over the typical three semesters of the program includes alternate options in case such a situation occurs.',\n  1),\n ('the ams department is saving some seats in data science class for data science master’s students',\n  1),\n ('it is up to the student to reach out to their advisors and ask for advice for course selection and other matters. advisors are',\n  1),\n ('this is not a guarantee', 1),\n ('en.553.762', 1),\n ('(*) students should be aware that', 1),\n ('they are unfortunately limited', 1),\n ('the best time should be during the second semester in the program', 1),\n ('offered spring semester', 1),\n ('statistical theory i', 1),\n ('academic probation', 1),\n ('responsive to emails', 1),\n ('data science master’s program', 1),\n ('retake policy:', 1),\n ('and students may be placed on a wait list (without guarantee to be ultimately able to enroll)',\n  1),\n ('for all courses', 1),\n ('core requirements - 5 courses', 1),\n ('one course in computing:', 1),\n ('should not', 1),\n ('en.553.740', 1),\n ('especially if this course is the only path to graduation. adding a student from the wait list to a course is the sole decision of the instructor. in particular',\n  1),\n ('one course in optimization:', 1),\n ('the number of enrolled students is limited by logistic considerations', 1),\n ('data science capstone experience information meeting', 1),\n ('faculty name', 1),\n ('en.553.730', 1),\n ('en.553.630', 1),\n ('with a goal to start working on the capstone at or before the beginning of the third semester. it is up to students to reach out to faculty for this purpose. note that students should not register to 553.806 until their capstone proposal has been accepted.',\n  1),\n ('additional course requirements - 4 courses', 1),\n ('academic probation:', 1),\n ('offered fall semester', 1),\n ('are all courses listed in the program available every semester?', 1),\n ('and course retake policy', 1),\n ('the first grade will remain on the academic transcript and will be included in the gpa calculation.',\n  1),\n ('if a course different from the initial one is chosen as a replacement', 1),\n ('faculty advisors', 1),\n ('you should contact ms. lisa wetzelberger for assistance.', 1),\n ('group projects', 1),\n ('such as classroom size and number of available tas. data science courses are in high demand',\n  1),\n ('program plan form', 1),\n ('but it is always possible to petition the course instructor for admission',\n  1),\n ('introduction to algorithms', 1),\n ('capstone experience - 1 course/final project', 1),\n ('what are my recourses if i am placed on a wait list?', 1),\n ('machine learning i', 1),\n ('typical timeline', 1),\n ('not necessarily. students should carefully review the recent history of the classes they are interested in by running a class search on sis. students must also be aware that',\n  1),\n ('nonlinear optimization i', 1),\n ('en.553.688', 1),\n ('en.601.633', 1),\n ('minimum grade requirements:', 1),\n ('the student’s academic advisor', 1),\n ('am i guaranteed to be able to register to any course i am interested in?',\n  1),\n ('additional requirements', 1),\n ('especially if they register several days after the opening date.', 1),\n ('en.553.761', 1),\n ('should i wait for my advisor to contact me or should i contact him or her?',\n  1),\n ('nonlinear optimization ii', 1),\n ('since changes may occur in departmental programs. it is therefore important to allow some flexibility in course planning.',\n  1),\n ('frequently asked questions (faqs)', 1),\n ('data science capstone supervisors', 1),\n ('or the master’s academic staff will not be able to provide much help in this matter. again',\n  1),\n ('business specialization', 1),\n ('business strategy', 1),\n ('stay connected', 1),\n ('main language ofstudy', 1),\n ('soft skills', 1),\n ('statistics & machine learning', 1),\n ('optimization methods', 1),\n ('optimization', 1),\n ('\"usc msbas three pillars\"', 1),\n ('programming', 1),\n ('\"skills youll gain\"', 1),\n ('webinar: ms in bme - biomedical data analytics', 1),\n ('letters of recommendation (3 required):', 1),\n ('the following materials are required to be included with your online application:',\n  1),\n ('application to this program is only available for the fall semester', 1),\n ('applicationdeadlines', 1),\n ('ms in biomedical engineering - biomedical data analytics', 1),\n ('8-11 units should be selected with the approval of a department advisor.',\n  1),\n ('three courses required from group electives - minimum of one course per group - 9-12 units.',\n  1),\n ('group 1', 1),\n ('additional electives', 1),\n ('any 500 or 600 level course in csci (including additional group electives or special topics)',\n  1),\n ('group 2- data analysis (students must take at least one course from this group)',\n  1),\n ('group 2', 1),\n ('group elective courses', 1),\n ('group 1- data systems (students must take csci 572)', 1),\n ('3 courses required - 12 units total.', 1),\n ('dsci 510', 1),\n ('and dsci 550 before taking any other classes.', 1),\n ('letters of recommendation (2 highly recommended)', 1),\n ('spotlight series', 1),\n ('all courses required - 12 units total.', 1),\n ('note for den@viterbi applicants:', 1),\n ('students with limited or no training in computer science should take dsci 549',\n  1),\n ('dsci 550 should be taken prior to or in parallel with dsci 551 and prior to taking dsci 552 and dsci 553.',\n  1),\n ('additional notes', 1),\n ('5 courses required - 20 units total.', 1),\n ('letters of recommendation (1 required)', 1),\n ('you will gain a cross-disciplinary skill set that will uniquely position you to apply communication theory and leverage big data to solve the next generation of communication challenges.',\n  1),\n (':', 1),\n ('(update as of september 30', 1),\n ('waived for summer and fall 2021 applicants-see details below', 1),\n ('2020)', 1),\n ('estimated cost of attendance – 28 unit program', 1),\n ('featured students', 1),\n ('estimated cost of attendance – 30 unit program', 1),\n ('track offerings and any other degree requirements are subject to change. for students starting the ms in analytics in the fall 2020 the new program is as follows.',\n  1),\n ('(source shown below)', 1),\n ('group electives', 1),\n ('admission decisions:', 1),\n ('data scientist at spotify', 1),\n ('immersive learning', 1),\n ('partner with our program', 1),\n ('modern applications of predictive analytics', 1),\n ('opinion: more diversity needed in ai to fight human biases', 1),\n ('comprehensive curriculum', 1),\n ('student project in collaboration with feinberg school of medicine published in the journal of pain',\n  1),\n ('learn more:', 1),\n ('scholarship priority deadline:', 1),\n ('career outcomes', 1),\n ('master of science in analytics (msia) program', 1),\n ('kelsey demottmsia ’16', 1),\n ('principal at opex analytics', 1),\n ('jeff parkermsia ’17', 1),\n ('eric lundquistmsia ’16', 1),\n ('andrew foxmsia ’14', 1),\n ('hands-on experience', 1),\n ('lead data scientist at qualtrics', 1),\n ('new textbook explores foundations', 1),\n ('senior data scientist at formation', 1),\n ('alumni talk about incorporating msai lessons at deloitte', 1),\n ('ai and its impact on the future of journalism', 1),\n ('industry access', 1),\n ('master of science in artificial intelligence (msai)', 1),\n ('faculty on the forefront', 1),\n ('artificial intelligence at northwestern: a view from computer science', 1),\n ('jaieu sheilmsai ’19', 1),\n ('\"applying ai knowledge at mcdonalds\"', 1),\n ('full-time program', 1),\n ('partner with msai', 1),\n ('priority deadline:', 1),\n ('quincia humsai ’19', 1),\n ('holistic approach', 1),\n ('integrated curriculum', 1),\n ('nico tykeskimsai ’19', 1),\n ('industrial sponsors', 1),\n ('collaborate with us', 1),\n ('finances', 1),\n ('is it possible to complete the degree part-time?', 1),\n ('is this a stem program?', 1),\n ('gre analytical writing:', 1),\n ('due to coronavirus/covid-19', 1),\n ('gre verbal:', 1),\n ('when should i apply? when will i hear back?', 1),\n ('is it possible to complete the degree online?', 1),\n ('\"i already have a masters degree. can i still apply?\"', 1),\n ('undergraduate overall gpa:', 1),\n ('typical schedule', 1),\n ('where are your graduates working?', 1),\n ('are gre scores required in 2020?', 1),\n ('what are the prerequisites? do i need an undergraduate degree in computer science? what test scores do i need?',\n  1),\n ('\"how does the masters in machine learning compare with other programs at cmu?\"',\n  1),\n ('gre quantitative:', 1),\n ('can i transfer in from another university or from another program at cmu?',\n  1),\n ('toefl:', 1),\n ('\"primary masters in machine learning\"', 1),\n ('is it possible to apply or begin the program in spring?', 1),\n ('computation', 1),\n ('all students must take the following core courses:', 1),\n ('students must take the following core courses (unless waived by the course review process):',\n  1),\n ('expertise in data science techniques', 1),\n ('expertise in data management and manipulation', 1),\n ('\"data science masters program\"', 1),\n ('principles of data science', 1),\n ('program notes', 1),\n ('data analysis', 1),\n ('see more', 1),\n ('survey statistics', 1),\n ('social and psychological science', 1),\n ('additional materials', 1),\n ('admission information', 1),\n ('social analysis and research', 1),\n ('general electives', 1),\n ('met cs 689 designing and implementing a data warehouse', 1),\n ('met cs 699 data mining', 1),\n ('prepare for critical data analytics roles', 1),\n ('\"#8 best online masters in computer information technology programs\"', 1),\n ('graduate with expertise', 1),\n ('master the tools to excel in applied data analytics', 1),\n ('explore careers in data analytics', 1),\n ('met ma 582 mathematical statistics', 1),\n ('met cs 777 big data analytics', 1),\n ('master’s in applied data analytics curriculum', 1),\n ('why bu’s applied data analytics master’s is ranked in the top 10', 1),\n ('met cs 767 machine learning', 1),\n ('advance your career with a master’s in applied data analytics', 1),\n ('met cs 566 analysis of algorithms', 1),\n ('met cs 688 web analytics and mining', 1),\n ('met cs 779 advanced database management', 1),\n ('met cs 544 foundations of analytics with r', 1),\n ('resources for current ms students', 1),\n ('manipulating data to answer urgent questions', 1),\n ('sample program', 1),\n ('people', 1),\n ('documents', 1),\n ('useful links', 1),\n ('meet our faculty', 1),\n ('language requirement:', 1),\n ('careers: next steps', 1),\n ('a well-rounded degree', 1),\n ('deadlines (rolling admission)', 1),\n ('research', 1),\n ('degree core courses', 1),\n ('competitive tuition', 1),\n ('applied business analytics faculty', 1),\n ('complementary analytics labs:', 1),\n ('elective courses', 1),\n ('master the analytics tools to excel in business', 1),\n ('tuition & financial assistance', 1),\n ('met ad 654 marketing analytics', 1),\n ('canan gunes corlu', 1),\n ('met ad 632 financial concepts', 1),\n ('roman rabinovich (met’15)', 1),\n ('accredited member of aacsb international', 1),\n ('intelligent.com', 1),\n ('richard maltzman', 1),\n ('s. news & world report', 1),\n ('view all faculty', 1),\n ('gregory page', 1),\n ('met ad 571 business analytics foundations', 1),\n ('met ad 587 interdisciplinary methods for quantitative finance', 1),\n ('bestcolleges.com', 1),\n ('william mcgue', 1),\n ('david ritt', 1),\n ('level 1', 1),\n ('met ad 605 operations management: business process fundamentals', 1),\n ('roman rabinovich', 1),\n ('met ad 688 web analytics for business', 1),\n ('john maleyeff', 1),\n ('level 2', 1),\n ('benjamin p. harris', 1),\n ('immersive experience leveraging data to drive business decisions', 1),\n ('met cs 521 information structures with python', 1),\n ('advance your career in applied business analytics', 1),\n ('#9 best master’s in business analytics of 2021', 1),\n ('met cs 669 database design and implementation for business', 1),\n ('ira cohen', 1),\n ('#1 best business analytics & intelligence programs of 2021', 1),\n ('specialization courses', 1),\n ('stem designated:', 1),\n ('met cs 579 database management', 1),\n ('access to self-paced analytics laboratories', 1),\n ('explore careers in applied business analytics', 1),\n ('met ad 715 quantitative and qualitative decision-making', 1),\n ('lecturer', 1),\n ('vladimir zlatev', 1),\n ('comprehensive financial assistance', 1),\n ('\"#6 best online masters in business programs (excluding mba)\"', 1),\n ('met ad 616 enterprise risk analytics', 1),\n ('advisory board:', 1),\n ('why bu’s applied business analytics is ranked in the top 10', 1),\n ('graduate ready to transform business using data', 1),\n ('ms in applied business analytics curriculum', 1),\n ('met ad 699 data mining for business analytics', 1),\n ('list c:', 1),\n ('delve deeper into artificial intelligence', 1),\n ('list b:', 1),\n ('list a:', 1),\n ('job growth in 2020', 1),\n ('careers', 1),\n ('2021 @ 8:00pm et', 1),\n ('bin gu', 1),\n ('meet our professors', 1),\n ('andrey fradkin', 1),\n ('increase in demand for data scientists', 1),\n ('april 12', 1),\n ('ms in business analytics', 1),\n ('admissions decisions are sent within 6-8 weeks', 1),\n ('linkedin', 1),\n ('monday', 1),\n ('tesary lin', 1),\n ('boston named top 6 hub for data science', 1),\n ('electives:', 1),\n ('capstone:', 1),\n ('fall 2021 classes start:', 1),\n ('key dates for on-campus applicants', 1),\n ('curriculum overview', 1),\n ('admissions overview', 1),\n ('fall 2021 late application deadline:', 1),\n ('image processing coursework is only offered for the on-campus program.', 1),\n ('currently', 1),\n ('master of data science program', 1),\n ('mds curriculum', 1),\n ('students must apply to either the online or on-campus program and will be explicitly admitted to one program or the other.',\n  1),\n ('core courses:', 1),\n ('specialization:', 1),\n ('fall 2021 applications due:', 1),\n ('23%', 1),\n ('the georgetown difference', 1),\n ('example courses include:', 1),\n ('who is this', 1),\n ('what is health informatics?', 1),\n ('61%', 1),\n ('why now?', 1),\n ('who should apply?', 1),\n ('it’s not a secret: careers in data science are exploding', 1),\n ('mccourt students use data to improve housing inspections in dc', 1),\n ('researching poverty and american housing with big data', 1),\n ('mark zuckerberg addresses students at georgetown event kicking off new series',\n  1),\n ('u.s. news & world report rankings', 1),\n ('deepen your impact', 1),\n ('mccourt school news', 1),\n ('a testimonial', 1),\n ('the mccourt community', 1),\n ('program director’s message', 1),\n ('master of science in data science for public policy', 1),\n ('internship and employment outcomes', 1),\n ('msba rankings news', 1),\n ('drive business value', 1),\n ('msba news and updates', 1),\n ('academic programs', 1),\n ('leverage the foster alumni network and connections to seattle’s business community',\n  1),\n ('ms business analytics program highlights', 1),\n ('gain the technical skills and business knowledge', 1),\n ('google', 1),\n ('industry-relevant curriculum', 1),\n ('january 10', 1),\n ('zillow', 1),\n ('mid-september 2021', 1),\n ('amazon', 1),\n ('diversity in data science', 1),\n ('2022 5pm (pacific)', 1),\n ('join one of the leading data science programs in the nation and accelerate your high-tech career in data science.',\n  1),\n ('institute for health metrics and evaluation', 1),\n ('seattle children’s hospital', 1),\n ('the university of washington', 1),\n ('mid-march 2022', 1),\n ('boeing', 1),\n ('admissions timelines', 1),\n ('september 28', 1),\n ('student experience', 1),\n ('microsoft', 1),\n ('sign up for email updates', 1),\n ('senior manager', 1),\n ('january 18', 1),\n ('the program is available full-time or part-time.', 1),\n ('’19', 1),\n ('charles duze', 1),\n ('t-mobile', 1),\n ('high-tech careers', 1),\n ('data scientist', 1),\n ('positions:', 1),\n ('all industries are hiring msba graduates:', 1),\n ('in the rady school msba program you will learn to:', 1),\n ('offers for 2019 graduates:', 1),\n ('offers for 2018 graduates:', 1),\n ('jobs for msba grads', 1),\n ('offers for 2020 graduates:', 1),\n ('industries:', 1),\n ('rady msba career highlights', 1),\n ('what types of jobs can i get with a master’s degree in business analytics from rady?',\n  1),\n ('careers in business analytics', 1),\n ('climate change-related natural disasters impact short-lived assets and interest rates',\n  1),\n ('machine learning major themes at second annual goizueta business analytics conference',\n  1),\n ('data', 1),\n ('msba students prove skills in fintech hackathon', 1),\n ('stand by for a career upgrade', 1),\n ('beyond the classroom', 1),\n ('averagecompensation', 1),\n ('increasein jobs', 1),\n ('the power of analytics: data-driven decision-making', 1),\n ('global city', 1),\n ('frank li 18msba', 1),\n ('and technology', 1),\n ('get ready! march 24 is emory day of giving 2021', 1),\n ('ms in business analyticsnews', 1),\n ('full-time mba announces new stem track', 1),\n ('monthsopt', 1),\n ('at the nexus ofbusiness', 1),\n ('learn the language of data', 1),\n ('chellappa and goebel are 2020 recipients of goizueta’s highest service award',\n  1),\n ('elena lopez 18msba', 1),\n ('nikhil chalakkal 18msba', 1),\n ('artificial intelligence', 1),\n ('goizueta msba program announces 100 percent placement rate for inaugural class',\n  1),\n ('emory students work with knightscope on crime prevention', 1),\n ('ms inbusiness analytics', 1),\n ('“the 50 best colleges in big cities', 1),\n ('data savvy and business smart', 1),\n ('” newsweek', 1),\n ('turn analyticsinto insights', 1),\n ('connecting to the future', 1),\n ('program pioneers anddata dynamos', 1),\n ('a dynamic', 1),\n ('business analytics alumni team takes 6th place in international data challenge',\n  1),\n ('breadcrumb', 1),\n ('msba team named regional finalists in risk management challenge', 1),\n ('uc davismasterof science in business analytics', 1),\n ('$99', 1),\n ('hands-on learning and teamwork', 1),\n ('masters of science in business analytics', 1),\n ('98%', 1),\n ('close relationships with thought leaders', 1),\n ('convenient classes', 1),\n ('one-year', 1),\n ('your community', 1),\n ('career success', 1),\n ('#4', 1),\n ('data > insights > influence', 1),\n ('build competencies', 1),\n ('$', 1),\n ('50', 1),\n ('918', 1),\n ('request more information', 1),\n ('165', 1),\n ('your competitive edge', 1),\n ('3', 1),\n ('3.4', 1),\n ('proven return on investment', 1),\n ('experiential', 1),\n ('close-knit community', 1),\n ('prime location', 1),\n ('26', 1),\n ('ma in biomedical informatics', 1),\n ('courses in the business and social science application area that is housed in the simon business school do not run on the full semester system and are offered at a different credit hour rate than of arts',\n  1),\n ('statistical methodology', 1),\n ('manufacturing/services', 1),\n ('phd in computer science', 1),\n ('other tech', 1),\n ('phd in statistics', 1),\n ('healthcare', 1),\n ('education/research', 1),\n ('sciences & engineering courses.', 1),\n ('phd program', 1),\n ('total of 30 credits are required', 1),\n ('ms program', 1),\n ('ms program outcomes', 1),\n ('large tech', 1),\n ('students will be notified in their offer letter if they are required to take this course.*',\n  1),\n ('computational methods', 1),\n ('health and biomedical sciences', 1),\n ('business and social science*', 1),\n ('\"masters program\"', 1),\n ('must complete', 1),\n ('program components', 1),\n ('phd in social and decision neuroscience', 1),\n ('the goal of the data science m.s. degree is to yieldwell-rounded data scientists who can:',\n  1),\n ('well-rounded data scientists who can:', 1),\n ('faq', 1),\n ('student resources', 1),\n ('the goal of the data science m.s. degree is to yield', 1),\n ('why an interdisciplinary master’s in analytics?', 1),\n ('networking and career placement', 1),\n ('the master of science in analytics at georgia tech', 1),\n ('master of science in analytics -- online (oms analytics)', 1),\n ('oms analytics website', 1),\n ('master of science in analytics (ms analytics) on-campus', 1),\n ...]"
     },
     "metadata": {}
    }
   ],
   "execution_count": null
  },
  {
   "cell_type": "code",
   "source": "header_text = \";\".join(df_web[df_web.country==\"India\"].emphasized_elements_text).split()\nheader_text = Counter([word for word in header_text if word not in STOP_WORDS])\nheader_text.most_common()",
   "metadata": {
    "tags": [],
    "cell_id": "00030-2e4699cc-e8e7-4c7e-82f3-c600ea915784",
    "deepnote_to_be_reexecuted": false,
    "source_hash": "69f5608e",
    "execution_start": 1627115796842,
    "execution_millis": 69,
    "deepnote_cell_type": "code"
   },
   "outputs": [
    {
     "output_type": "execute_result",
     "execution_count": 249,
     "data": {
      "text/plain": "[('data', 14),\n ('&', 11),\n ('-', 9),\n ('courses', 9),\n ('m.tech.', 8),\n ('inferred;not', 8),\n ('artificial', 7),\n ('international', 7),\n ('science', 7),\n ('admissions', 6),\n ('business', 6),\n ('online', 5),\n ('–', 5),\n ('test', 5),\n ('candidates', 5),\n ('education', 5),\n ('management', 5),\n ('nov.', 4),\n ('date', 4),\n ('center', 4),\n ('july', 4),\n ('students', 4),\n ('analytics', 4),\n ('program', 4),\n ('industry', 4),\n ('learning', 4),\n ('student', 4),\n ('requirement', 4),\n ('accounting', 4),\n ('(modular)', 4),\n ('interview', 3),\n ('@', 3),\n ('2021', 3),\n ('internship', 3),\n ('project', 3),\n ('technology', 3),\n ('following', 3),\n ('mba', 3),\n ('spatial', 3),\n ('elective', 3),\n ('list', 3),\n ('ai', 3),\n ('mtech', 3),\n ('electives', 3),\n ('areas', 3),\n ('(cse)', 3),\n ('specialization', 3),\n ('analysis', 3),\n ('dbms', 3),\n ('april', 2),\n ('(cds)', 2),\n ('shortlisted', 2),\n ('admission', 2),\n ('(artificial', 2),\n ('ability', 2),\n ('held', 2),\n ('2021;semester', 2),\n ('curriculum', 2),\n ('programme', 2),\n ('(amount', 2),\n ('process', 2),\n ('applicable', 2),\n ('centre', 2),\n ('(deemed', 2),\n ('2;mba', 2),\n ('mess', 2),\n ('fees', 2),\n ('commencement', 2),\n ('academic', 2),\n ('dates', 2),\n ('symbiosis', 2),\n ('core', 2),\n ('structure', 2),\n ('iii;semester', 2),\n ('intelligence', 2),\n ('course', 2),\n ('computer', 2),\n ('finance', 2),\n ('institute', 2),\n ('k.', 2),\n ('phase', 2),\n ('admissions.', 2),\n ('apply:', 2),\n ('4;total', 2),\n ('credits;industry', 2),\n ('partners;contact;2021all', 2),\n ('aicte', 2),\n ('amrita', 2),\n ('m.', 2),\n ('campus', 2),\n ('coimbatore', 2),\n ('eligible', 2),\n ('direct', 2),\n ('admissionsnon-gate', 2),\n ('s.', 2),\n ('teamcall', 2),\n ('now:', 2),\n ('9', 2),\n ('6', 2),\n ('experts', 2),\n ('satisfy', 2),\n ('set', 2),\n ('engineering', 2),\n ('taught', 2),\n ('advised', 2),\n ('specific', 2),\n ('regulation', 2),\n ('pg', 2),\n ('regulations', 2),\n ('know', 2),\n ('given', 2),\n ('different', 2),\n ('offered', 2),\n ('faculty', 2),\n ('code', 2),\n ('techniques', 2),\n ('resource', 2),\n ('machine', 2),\n ('lab', 2),\n ('statistics', 2),\n ('research', 2),\n ('queries/questions', 1),\n ('admissions;last', 1),\n ('updated', 1),\n ('12;about', 1),\n ('program;(https://coap.iitd.ac.in);etc.);iisc', 1),\n ('application;2:30', 1),\n ('pm', 1),\n ('4:00', 1),\n ('pm;please', 1),\n ('contact:', 1),\n ('chair.cds#iisc.ac.in', 1),\n ('(replace', 1),\n ('#', 1),\n ('@);15', 1),\n ('apr', 1),\n ('2021;april', 1),\n ('19-23;algorithms;only', 1),\n ('candidates;data', 1),\n ('structures', 1),\n ('(arrays;admissions', 1),\n ('faq;fluid/solid', 1),\n ('mechanics;matrices;programflyer;course', 1),\n ('degree', 1),\n ('admissions;download', 1),\n ('brochure', 1),\n ('pdf;shortlist', 1),\n ('students;and', 1),\n ('basic', 1),\n ('programming.;linear', 1),\n ('algebra/matrices;the', 1),\n ('process;2021;important', 1),\n ('dates:;calculus', 1),\n ('geometry;iisc', 1),\n ('website;probability;and', 1),\n ('combinatorics;common', 1),\n ('offer', 1),\n ('acceptance', 1),\n ('portal', 1),\n ('(coap);m.tech.', 1),\n ('(computational', 1),\n ('science)', 1),\n ('admissions;due', 1),\n ('covid-19', 1),\n ('pandemic;there', 1),\n ('intelligence).the', 1),\n ('check', 1),\n ('applicants.;e;there', 1),\n ('based', 1),\n ('gate', 1),\n ('scores.', 1),\n ('instead;mtech', 1),\n ('(ai)', 1),\n ('iisc;indian', 1),\n ('overseas', 1),\n ('citiz;time:', 1),\n ('9.00am', 1),\n ('10.30am;written', 1),\n ('remote', 1),\n ('login', 1),\n ('browser.', 1),\n ('details:;highlights', 1),\n ('programme;n', 1),\n ('india', 1),\n ('applicants:;if', 1),\n ('questions;interview;further', 1),\n ('details;date', 1),\n ('written', 1),\n ('test:', 1),\n ('15th', 1),\n ('2021;here;please', 1),\n ('browse', 1),\n ('thefaq', 1),\n ('question', 1),\n ('answered.', 1),\n ('notplease', 1),\n ('send', 1),\n ('email', 1),\n ('to;international', 1),\n ('applicants:;admissions', 1),\n ('application', 1),\n ('deadline;click', 1),\n ('here;23:59', 1),\n ('ist', 1),\n ('31stmarch', 1),\n ('3;year', 1),\n ('2;placements;semester', 1),\n ('2;curriculum;continuous', 1),\n ('evaluation;semester', 1),\n ('1;summer', 1),\n ('work;summer', 1),\n ('internship;highlights', 1),\n ('programme;course', 1),\n ('delivery;year', 1),\n ('1;semester-4;mba', 1),\n ('analytics;guest', 1),\n ('lectures;master', 1),\n ('intelligence;m.tech', 1),\n ('intelligence;not', 1),\n ('inferred;15;25', 1),\n ('2019;6;intake:;last', 1),\n ('payment;disclaimer:;technical', 1),\n ('comprise', 1),\n (':;mba', 1),\n ('(ba)', 1),\n ('overview;1styear', 1),\n ('rs.);2ndyear', 1),\n ('rs.);(indian', 1),\n ('students);th;reservation', 1),\n ('seats;symbiosis', 1),\n ('(scie);2ndinstallment;mba', 1),\n ('(ba);step', 1),\n ('1;admission', 1),\n ('scmhrd', 1),\n ('according', 1),\n ('batch', 1),\n ('2021-23;january', 1),\n ('09;at', 1),\n ('time', 1),\n ('admission;37;25', 1),\n ('2022;january', 1),\n ('2021.;54;20;mba;3rdinstallment;december', 1),\n ('2020;installments', 1),\n ('(indian', 1),\n ('students);total', 1),\n ('installment;02;25', 1),\n ('june', 1),\n ('2022;level', 1),\n ('1;installments', 1),\n ('(ba);level', 1),\n ('2;4;(gepi);4thinstallment;admission', 1),\n ('snap', 1),\n ('20th;25', 1),\n ('2020;1stinstallment;amount', 1),\n ('rs.;symbiosis', 1),\n ('(scie);scmhrd;contact', 1),\n ('students;150;gepi;25', 1),\n ('2021;19;25', 1),\n ('2020;step', 1),\n ('3;900;000;58;63;symbiosis', 1),\n ('university);step', 1),\n ('(idm);installments;650;450;**hostel', 1),\n ('subsequent', 1),\n ('year', 1),\n ('communicated', 1),\n ('year.;*hostel', 1),\n ('increased', 1),\n ('10%', 1),\n ('year.', 1),\n ('government', 1),\n ('taxes', 1),\n ('additional', 1),\n ('applicable.;(for', 1),\n ('open/sc/st/da/km', 1),\n ('student);snap', 1),\n ('2021-2023', 1),\n ('important', 1),\n (':;level', 1),\n ('3;installments', 1),\n ('pay', 1),\n ('date;the', 1),\n ('centralized', 1),\n ('constituent', 1),\n ('institutes', 1),\n ('university)', 1),\n ('routed', 1),\n ('(scie).;for', 1),\n ('(ba-', 1),\n ('analytics);(wat);25', 1),\n ('i;semester', 1),\n ('iii;elder', 1),\n ('research;generic', 1),\n ('courses;semester', 1),\n ('iv;m.sc.', 1),\n ('analytics;coming', 1),\n ('soon...;semester', 1),\n ('ii;programme', 1),\n ('name:', 1),\n ('m.sc(data', 1),\n ('analytics);generic', 1),\n ('group;“learning', 1),\n ('virtually', 1),\n ('universally', 1),\n ('useful.', 1),\n ('master', 1),\n ('you’ll', 1),\n ('welcomed', 1),\n ('nearly', 1),\n ('everywhere”-', 1),\n ('john', 1),\n ('elder;programme', 1),\n ('-m.sc.', 1),\n ('2021-2023;semester', 1),\n ('i;this', 1),\n ('adapt', 1),\n ('time.;appendix', 1),\n ('b-', 1),\n ('electives;semester', 1),\n ('iv;must', 1),\n ('undertake', 1),\n ('area', 1),\n ('(or', 1),\n ('allied', 1),\n ('areas;refer', 1),\n ('item', 1),\n ('14);summer', 1),\n ('semester;as', 1),\n ('new', 1),\n ('designed', 1),\n ('floated;starting', 1),\n ('session', 1),\n ('2019-20', 1),\n ('sem', 1),\n ('i;l-t-p-s-c;elective', 1),\n ('credits;semester', 1),\n ('ii;department', 1),\n ('engineering;sno;course', 1),\n ('title;department/open', 1),\n ('elective;iit', 1),\n ('ropar;mtech', 1),\n ('project:;specialization', 1),\n ('electives;mtech', 1),\n ('intelligence;*', 1),\n ('general;information', 1),\n ('m.tech', 1),\n ('intelligence;appendix', 1),\n ('a-', 1),\n ('core;**', 1),\n ('general;credits;s.no;overall', 1),\n ('program;mtechproject;specialization', 1),\n ('core;max', 1),\n ('number', 1),\n ('credits', 1),\n ('register', 1),\n ('semester', 1),\n ('=', 1),\n ('24;course', 1),\n ('no;facilities;next', 1),\n ('steps;center', 1),\n ('analytics;the', 1),\n ('managing', 1),\n ('family', 1),\n ('business;overview;business', 1),\n ('analytics;important', 1),\n ('links;qualification;programme', 1),\n ('structure;indian', 1),\n ('apply;international', 1),\n ('apply;admission', 1),\n ('process:;m.sc;center', 1),\n ('consultancy;last', 1),\n ('apply;general', 1),\n ('catagory;duration;the', 1),\n ('supply', 1),\n ('chain', 1),\n ('research;nri', 1),\n ('catagory;international', 1),\n ('studies;key', 1),\n ('deadlines;training', 1),\n ('interface;tentative', 1),\n ('date;eligibility', 1),\n ('process;center', 1),\n ('advanced', 1),\n ('accounting;m.tech.;not', 1),\n ('inferred;gate;pool-2;contact;first', 1),\n ('semester;indian', 1),\n ('information', 1),\n ('allahabad;sl.', 1),\n ('no.;dissertation/', 1),\n ('work:;final', 1),\n ('semester;tools', 1),\n ('technologies:;pool-1;continuous', 1),\n ('assessment;pool-3;highlights;admission', 1),\n ('procedure;pool-4;case', 1),\n ('studies', 1),\n ('assignments:;master', 1),\n ('analytics;second', 1),\n ('semester;what', 1),\n ('delivery', 1),\n ('methodology?;entrance', 1),\n ('test;two', 1),\n ('pools', 1),\n ('hands-on', 1),\n ('specializations;objectives', 1),\n ('program;course;credits;list', 1),\n ('electives;capstone', 1),\n ('project:;other', 1),\n ('floated', 1),\n ('inputs', 1),\n ('industries.;course', 1),\n ('curriculum;third', 1),\n ('semester;learning', 1),\n ('outcomes;10;gautham', 1),\n ('d.;final', 1),\n ('approved;first', 1),\n ('semester;+91', 1),\n ('9633913855;join', 1),\n ('tech', 1),\n ('amritapuri', 1),\n ('campus;soft', 1),\n ('core;krishna', 1),\n ('suresh;shilpa', 1),\n ('joseph;related', 1),\n ('news;gate', 1),\n ('process;akhil', 1),\n ('sreekumar;+91', 1),\n ('6282371370;elective', 1),\n ('(live-in-labs);fourth', 1),\n ('semester;mtech@amrita.edu;aiswarya', 1),\n ('p.;thrust', 1),\n ('research;bhimavarapu', 1),\n ('sumathi;poojitha', 1),\n ('p.', 1),\n ('v.;chat', 1),\n ('telegram;electives;second', 1),\n ('semester;shibu', 1),\n ('narayanan;21;placements', 1),\n ('internships;12;highlights', 1),\n ('specialisation;eligibility', 1),\n ('criteria;arun', 1),\n ('sandeep;66;about;research;+91', 1),\n ('8075876716;23;faculty;curriculum;academics;facilities', 1),\n ('infrastructure;placement;third', 1),\n ('semester;foundation', 1),\n ('courses;contact', 1),\n ('pm;ashna', 1),\n ('ann', 1),\n ('babu;internships;namitha', 1),\n ('nair;duration', 1),\n (':;not', 1),\n ('inferred;join', 1),\n ('tech.', 1),\n ('bengaluru', 1),\n ('campus;semester', 1),\n ('i;2020;final', 1),\n ('approved;semester', 1),\n ('iv;curriculum', 1),\n ('»;manju', 1),\n ('priya', 1),\n ('a.', 1),\n ('r.;+91', 1),\n ('9633913855;18;workshops;total;industry', 1),\n ('testimony;funded', 1),\n ('projects;related', 1),\n ('news;year-wise', 1),\n ('syllabus;gate', 1),\n ('process;+91', 1),\n ('6282371370;amitha', 1),\n ('v.;syllabus', 1),\n ('»;foundation', 1),\n ('core;professional', 1),\n ('electives;testimonials;mtech@amrita.edu;thrust', 1),\n ('research;chat', 1),\n ('telegram;alumni', 1),\n ('speaks;rahul', 1),\n ('venkatesh', 1),\n ('kumar;placements', 1),\n ('internships;lakshmi', 1),\n ('krishnan;12;fellowship', 1),\n ('awarded', 1),\n ('meritorious', 1),\n ('condition', 1),\n ('criteria', 1),\n ('centre.;19;list', 1),\n ('courses;eligibility', 1),\n ('criteria;dr.', 1),\n ('rajkumar', 1),\n ('elagiri', 1),\n ('ramalingam;read', 1),\n ('»;placement', 1),\n ('opportunities', 1),\n ('partners;66;about;student', 1),\n ('testimonials;nikhila', 1),\n ('haridas;student', 1),\n ('achievements;17;research;dr.', 1),\n ('anand', 1),\n ('lakshmanan;anil', 1),\n ('ramachandran;+91', 1),\n ('8075876716;subject', 1),\n ('core;curriculum;academics;facilities', 1),\n ('infrastructure;placement;shrihari', 1),\n ('rao;best', 1),\n ('projects;contact', 1),\n ('pm;sarath', 1),\n ('sasidharan;duration', 1),\n (':;internship;data', 1),\n ('coursesthe', 1),\n ('offers', 1),\n ('courses;there', 1),\n ('plans', 1),\n ('modules', 1),\n ('industry.internshipwhile', 1),\n ('degree;faculty;m.tech.', 1),\n ('engineering;specialization', 1),\n ('requirements;(students', 1),\n ('degree.);specialization', 1),\n ('engineering;the', 1),\n ('arrangements', 1),\n ('corporations', 1),\n ('host', 1),\n ('interns', 1),\n ('program.', 1),\n ('guidelines', 1),\n ('here;students', 1),\n ('encouraged', 1),\n ('gain', 1),\n ('experience.', 1),\n ('facilitate', 1),\n ('internships;focusing', 1),\n ('aspects', 1),\n ('management.', 1),\n ('choose', 1),\n ('his/her', 1),\n ('16', 1),\n ('credits.some', 1),\n ('currently', 1),\n ('below.facultywe', 1),\n ('young', 1),\n ('dynamicfaculty', 1),\n ('iiit-delhi.', 1),\n ('members', 1),\n ('-the', 1),\n ('focus', 1),\n ('areas.', 1),\n ('indata', 1),\n ('engineeringwill', 1),\n ('members.', 1),\n ('addition;data', 1),\n ('courses;internship;faculty;(students', 1),\n ('(cse-ai)', 1),\n ('degree.);core', 1),\n ('complete', 1),\n ('3', 1),\n ('courses:;specialization', 1),\n ('requirements;open', 1),\n ('electives:;m.tech.', 1),\n ('intelligence;selection', 1),\n ('process;semester', 1),\n ('4;course', 1),\n ('structure;institute;semester', 1),\n ('2;eligibility;1st', 1),\n ('year;browse', 1),\n ('course;semester', 1),\n ('1;m.tech', 1),\n ('(data', 1),\n ('science);program', 1),\n ('10684;semester', 1),\n ('3;program', 1),\n ('fee;2nd', 1),\n ('year;duration;university;campus;for', 1),\n ('ns', 1),\n ('(non', 1),\n ('sponsored)', 1),\n ('category;course', 1),\n ('structure;eligibility;2nd', 1),\n ('year;for', 1),\n ('s', 1),\n ('(sponsored)', 1),\n ('category;program', 1),\n ('101108;semester', 1),\n ('4;semester', 1),\n ('(business', 1),\n ('analytics);program', 1),\n ('fee;university;campus;institute;browse', 1),\n ('course;1st', 1),\n ('year;semester', 1),\n ('1;semester', 1),\n ('3;candidate', 1),\n ('appeared', 1),\n ('tests', 1),\n ('september', 1),\n ('2020', 1),\n ('only.;duration;selection', 1),\n ('process;15;2l;5l;dimensionality', 1),\n ('reduction', 1),\n ('like', 1),\n ('pca;lab', 1),\n ('ix;7;operations', 1),\n ('management;financial', 1),\n ('reporting', 1),\n ('/cost', 1),\n ('(ms);numerical', 1),\n ('optimization;unit', 1),\n ('ii;lab.10.;mcdc6201;database', 1),\n ('metadata', 1),\n ('access', 1),\n ('programming', 1),\n ('language;unit', 1),\n ('x;0;presentation', 1),\n ('term', 1),\n ('projects;9;time', 1),\n ('series', 1),\n ('analysis;10l;multivariate', 1),\n ('(ms);artificial', 1),\n ('intelligence;msc513/msc514;11l;10', 1),\n ('l;advanced', 1),\n ('lab;53;unit', 1),\n ('vii;lab', 1),\n ('i;2;course', 1),\n ('name;marketing', 1),\n ('analytics;multi-layer', 1),\n ('perceptron;unit', 1),\n ('i;p;9s;managerial', 1),\n ('economics', 1),\n ('(ms);stochastic', 1),\n ('processes;lab.', 1),\n ('1.;13l;msc597;lab.2.;lab.6.;unsupervised', 1),\n ('learning:', 1),\n ('clustering;52;unit', 1),\n ('iv;18;lab.5.;lab', 1),\n ('viii;marketing', 1),\n ('(ms)/', 1),\n ('human', 1),\n ('(ms);semester', 1),\n ('2;perceptron', 1),\n ('rule;lab', 1),\n ('vii;data', 1),\n ('(ms);unit', 1),\n ('vi;big', 1),\n ('(ms);lab.7.;msc523;msc506;unit', 1),\n ('iii;6', 1),\n ('l;lab', 1),\n ('iv;6l;56;msc522;financial', 1),\n ('econometrics', 1),\n ('(ms);term', 1),\n ('projects:', 1),\n ('self-conceived', 1),\n ('assigned', 1),\n ('instructor;unit', 1),\n ('xii;3;unit', 1),\n ('v;marketing', 1),\n ('management;thesis', 1),\n ('unit;create', 1),\n ('functions', 1),\n ('generate', 1),\n ('html;stochastic', 1),\n ('processes', 1),\n ('(m&c);msc504/msc505;big', 1),\n ('lab;lab.4.;unit', 1),\n ('xi;advanced', 1),\n ('dbms;lab', 1),\n ('x;brief', 1),\n ('introduction', 1),\n ('deep', 1),\n ('models;backpropagation;mcc532;some', 1),\n ('case', 1),\n ('studies;unit', 1),\n ('viii;6p;course', 1),\n ('no.;total;missing', 1),\n ('survey', 1),\n ('sampling', 1),\n ('(m&c);9p;management', 1),\n ('principles', 1),\n ('practices', 1),\n ('(ms);12p;4;corporate', 1),\n ('(ms);ica', 1),\n ('lda;c;l;fundamentals', 1),\n ('(m&c);3l;lab', 1),\n ('ii;semester', 1),\n ('1;4l;semester', 1),\n ('3;business', 1),\n ('(ms);msc512;lab.9.;msc510;fundamentals', 1),\n ('(lab)', 1),\n ('(m&c);cost', 1),\n ('(ms);application', 1),\n ('clustering', 1),\n ('analytics;msc508;msc502/msc503;12l;corporate', 1),\n ('finance;lab', 1),\n ('vi;introduction', 1),\n ('git;cognos', 1),\n ('lab;data', 1),\n ('mining;lab', 1),\n ('v;9l;business', 1),\n ('(ms);7l;semester', 1),\n ('4;unit', 1),\n ('ix;business', 1),\n ('analytics;human', 1),\n ('management;19l;advanced', 1),\n ('(m&c);business', 1),\n ('methods;1;36;information', 1),\n ('retrieval;t;financial', 1),\n ('reporting;operations', 1),\n ('(ms);mcoe6201;advanced', 1),\n ('multivariate', 1),\n ('(ms);12;data', 1),\n ('mining', 1),\n ('(ms);mcdc6206;gaussian', 1),\n ('mixture', 1),\n ('models;8l;*', 1),\n ('modified', 1),\n ('requirements.;management', 1),\n ('self', 1),\n ('behavioural', 1),\n ('analytics;lab.3.;lab.8.;mcc537;lab', 1),\n ('iii;advanced', 1),\n ('(m&c);operations', 1),\n ('(ms);business', 1),\n ('lab;business', 1),\n ('methods/', 1),\n ('(ms);not', 1),\n ('inferred;tuition', 1),\n ('fee;others;click', 1),\n ('syllabus;msc', 1),\n ('intelligence);sem', 1),\n ('iv;eligibility/qualification;sem', 1),\n ('iii;sem', 1),\n ('i;sem', 1),\n ('ii;duration', 1)]"
     },
     "metadata": {}
    }
   ],
   "execution_count": null
  },
  {
   "cell_type": "markdown",
   "source": "<a style='text-decoration:none;line-height:16px;display:flex;color:#5B5B62;padding:10px;justify-content:end;' href='https://deepnote.com?utm_source=created-in-deepnote-cell&projectId=596b9f0a-2431-4aa3-878c-95287ebfbe9a' target=\"_blank\">\n<img alt='Created in deepnote.com' style='display:inline;max-height:16px;margin:0px;margin-right:7.5px;' src='data:image/svg+xml;base64,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' > </img>\nCreated in <span style='font-weight:600;margin-left:4px;'>Deepnote</span></a>",
   "metadata": {
    "tags": [],
    "created_in_deepnote_cell": true,
    "deepnote_cell_type": "markdown"
   }
  }
 ],
 "nbformat": 4,
 "nbformat_minor": 2,
 "metadata": {
  "orig_nbformat": 2,
  "deepnote": {
   "is_reactive": false
  },
  "deepnote_notebook_id": "d3a0fa00-5f8c-4d1e-825c-190e3caf91db",
  "deepnote_execution_queue": [],
  "language_info": {
   "name": "python"
  }
 }
}