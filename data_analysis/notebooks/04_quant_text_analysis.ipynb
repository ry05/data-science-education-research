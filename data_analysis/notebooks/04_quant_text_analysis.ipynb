{
 "cells": [
  {
   "cell_type": "code",
   "metadata": {
    "tags": [],
    "cell_id": "00000-6a5e0337-8638-4a7c-88b0-3218a710ce3f",
    "deepnote_to_be_reexecuted": false,
    "source_hash": "32669fa6",
    "execution_start": 1626550271844,
    "execution_millis": 1765,
    "deepnote_cell_type": "code"
   },
   "source": "from collections import Counter, defaultdict\n\nimport pandas as pd\nimport spacy\nimport matplotlib.pyplot as plt\nimport seaborn as sns\nfrom spacy.lang.en.stop_words import STOP_WORDS\nnlp = spacy.load(\"en_core_web_md\")\n\nfrom text_operations import TextPreprocessor",
   "outputs": [],
   "execution_count": null
  },
  {
   "cell_type": "code",
   "metadata": {
    "tags": [],
    "cell_id": "00001-08005baa-e1d5-4964-92ed-967570ab0402",
    "deepnote_to_be_reexecuted": false,
    "source_hash": "fbf0696f",
    "execution_start": 1626550273616,
    "execution_millis": 156,
    "deepnote_cell_type": "code"
   },
   "source": "df = pd.read_csv(\"../../data_collection/data/labelled/academic_data_3.csv\")\ndf.head(3)",
   "outputs": [
    {
     "output_type": "execute_result",
     "execution_count": 56,
     "data": {
      "application/vnd.deepnote.dataframe.v2+json": {
       "row_count": 3,
       "column_count": 28,
       "columns": [
        {
         "name": "uni_name",
         "dtype": "object",
         "stats": {
          "unique_count": 2,
          "nan_count": 0,
          "categories": [
           {
            "name": "Indian Institute of Science Bangalore",
            "count": 2
           },
           {
            "name": "University of Hyderabad",
            "count": 1
           }
          ]
         }
        },
        {
         "name": "pgm_name",
         "dtype": "object",
         "stats": {
          "unique_count": 3,
          "nan_count": 0,
          "categories": [
           {
            "name": "M.Tech. Computational and Data Science",
            "count": 1
           },
           {
            "name": "M.Tech. Artificial Intelligence",
            "count": 1
           },
           {
            "name": "MBA Business Analytics",
            "count": 1
           }
          ]
         }
        },
        {
         "name": "dur_yrs",
         "dtype": "object",
         "stats": {
          "unique_count": 1,
          "nan_count": 0,
          "categories": [
           {
            "name": "2",
            "count": 3
           }
          ]
         }
        },
        {
         "name": "type",
         "dtype": "object",
         "stats": {
          "unique_count": 1,
          "nan_count": 0,
          "categories": [
           {
            "name": "Public",
            "count": 3
           }
          ]
         }
        },
        {
         "name": "national_rank_qs",
         "dtype": "int64",
         "stats": {
          "unique_count": 2,
          "nan_count": 0,
          "min": "2",
          "max": "8",
          "histogram": [
           {
            "bin_start": 2,
            "bin_end": 2.6,
            "count": 2
           },
           {
            "bin_start": 2.6,
            "bin_end": 3.2,
            "count": 0
           },
           {
            "bin_start": 3.2,
            "bin_end": 3.8,
            "count": 0
           },
           {
            "bin_start": 3.8,
            "bin_end": 4.4,
            "count": 0
           },
           {
            "bin_start": 4.4,
            "bin_end": 5,
            "count": 0
           },
           {
            "bin_start": 5,
            "bin_end": 5.6,
            "count": 0
           },
           {
            "bin_start": 5.6,
            "bin_end": 6.2,
            "count": 0
           },
           {
            "bin_start": 6.2,
            "bin_end": 6.8,
            "count": 0
           },
           {
            "bin_start": 6.8,
            "bin_end": 7.3999999999999995,
            "count": 0
           },
           {
            "bin_start": 7.3999999999999995,
            "bin_end": 8,
            "count": 1
           }
          ]
         }
        },
        {
         "name": "dept_involved",
         "dtype": "object",
         "stats": {
          "unique_count": 3,
          "nan_count": 0,
          "categories": [
           {
            "name": "Department of Computational and Data Sciences",
            "count": 1
           },
           {
            "name": "Departments of Computer Science and Automation, Electrical Communication Engineering, Electrical Engineering and Electronic Systems Engineering",
            "count": 1
           },
           {
            "name": "School of Management Studies",
            "count": 1
           }
          ]
         }
        },
        {
         "name": "location",
         "dtype": "object",
         "stats": {
          "unique_count": 2,
          "nan_count": 0,
          "categories": [
           {
            "name": "Karnataka",
            "count": 2
           },
           {
            "name": "Telangana",
            "count": 1
           }
          ]
         }
        },
        {
         "name": "url",
         "dtype": "object",
         "stats": {
          "unique_count": 3,
          "nan_count": 0,
          "categories": [
           {
            "name": "http://cds.iisc.ac.in/admissions/course-degrees/",
            "count": 1
           },
           {
            "name": "https://eecs.iisc.ac.in/mtechai/",
            "count": 1
           },
           {
            "name": "https://smsuoh.ac.in/mba/mba-business-analytics/",
            "count": 1
           }
          ]
         }
        },
        {
         "name": "descr",
         "dtype": "object",
         "stats": {
          "unique_count": 3,
          "nan_count": 0,
          "categories": [
           {
            "name": "Computational Science and Data Science are interdisciplinary areas that bring together the domain specific knowledge of science and engineering with relevant areas of computing systems and formal foundations. While computational science investigates scientific computing applications that require mathematical techniques and parallel computing, data science explores data-intensive applications that use scalable statistical and machine learning methods with Big Data and Cloud platforms. These impart foundational and scalable systems skills for computational and data sciences, with advanced courses selected by students to allow specialization on methods, platforms, and applications.",
            "count": 1
           },
           {
            "name": "  Artificial Intelligence has captured the imagination of the entire world with its potential ability to solve complex societal problems of our times: universal access to healthcare and education, efficient transportation, increased efficiency in providing e-governance services to the public, etc. Focused national efforts are underway in many countries. The Government of India has initiated widespread discussion on how India should strive to be among the top nations in the world in the AI ecosystem. The two-year M.Tech. in Artificial Intelligence aims to fill the critical needs of the industry and to fill the gap in the availability of high-end AI scientists and engineers.�The vision of the M.Tech. (AI) program is to impart rigorous training in the foundations and deep technology of Artificial Intelligence to produce graduates who can become world leaders in AI and lead India's march towards leadership in this important area. Curriculum tailored to bring students to the forefront of AI research and development.\nProgramme designed and administered by more than 30 faculty members working in leading edge topics in AI (https://ai.iisc.ac.in/).\nOne year research and development project to make our students the creators of futuristic applications of AI.\nEmphasis on publications, patents, products, and software.\nState-of-the-art computational and experimental facilities at one of the top institutions in the country.\nExcellent placement opportunities in reputed companies and industrial research labs pursuing high end, deep technology aspects of AI.",
            "count": 1
           },
           {
            "name": " The School has launched a two year MBA in Business Analytics programme with an intake of 30 students from the academic year 2017-18. The program is spread over four semesters. The programme will be offered with the help of School of Economics, School of Computer and Information Sciences, School of Mathematics and Statistics, CR Rao Advanced Institute of Mathematics, Statistics and Computer Science and Industry. The course includes the basic foundation subjects of Management that include Management Concepts and Approaches, Finance, Marketing, Human Resource Management, Operations and Business Analytics subjects like Statistics for Business Analytics, Business Analytics for Decision Making, Machine Learning, Marketing and Retail Analytics, Big Data, Financial Analytics, Econometrics, HR Analytics, Manufacturing and Supply Chain Analytics etc. Lab sessions are also included in the course.  \nCurriculum is spread over foundation and core courses related to Management, Information Technology and Analytics in the first year and emphasis is placed on courses related to advanced Business Analytics in the second year.\nCourse curriculum developed by seeking inputs from industry professionals and academician.\nSelf-awareness and growth lab for personal effectiveness.\n8-10 weeks of summer internship to understand the working environment of the analytics industry.\nFinal project under the supervision of a Faculty guide along with an industry\n The course curriculum was developed with active collaboration/involvement of industry professionals to provide the students with state of the art knowledge and practical orientation in the field of business analytics and management. The pedagogy included case studies, presentations, role-plays, computer lab sessions etc. apart from the regular class room teaching. Besides the regular classroom teaching, the School also arranges Guest lectures on various management and analytics topics by the industry as well as academic experts in the relevant areas.  The students are required to get practical exposure by undertaking eight weeks internship in an organization during the summer intervening between the second and third semesters. These internships are intended to familiarize the students with current developments in the area of Business Analytics along with management practices, work environment and organizational culture. The students also undertake a long term research project during the final year. It is intended to their analytics skills enabling them to join organizations.  The School practices a system of continuous evaluation and feedback. Students are required to be regular for classwork and meet the requirements of attendance as per University rules. Students are continuously evaluated through internal examinations, assignments, project works, presentations, case discussions which constitute the predominant method of evaluation. ",
            "count": 1
           }
          ]
         }
        },
        {
         "name": "header_tag",
         "dtype": "object",
         "stats": {
          "unique_count": 3,
          "nan_count": 0,
          "categories": [
           {
            "name": "['h1', 'h2', 'h3']",
            "count": 1
           },
           {
            "name": "['h1', 'h2']",
            "count": 1
           },
           {
            "name": "['h2', 'h4']",
            "count": 1
           }
          ]
         }
        },
        {
         "name": "header_names",
         "dtype": "object",
         "stats": {
          "unique_count": 3,
          "nan_count": 0,
          "categories": [
           {
            "name": "[['\\n\\t\\t\\tCourse Degree Admissions, 2021\\t\\t'], ['M.Tech. (Computational & Data Science) Admissions, 2021'], ['About the M.Tech. (CDS) Program', 'The M.Tech. (CDS) Admission Process']]",
            "count": 1
           },
           {
            "name": "[['MTech (AI) @ IISc'], ['Admissions 2021 – Application and deadline', 'Interview', 'Highlights of the programme', 'Further Details']]",
            "count": 1
           },
           {
            "name": "[['MBA Business Analytics'], ['Highlights of the Programme', 'Course Curriculum and Programme Delivery', 'Guest Lectures', 'Summer Internship and Project Work', 'Continuous Evaluation', 'Placements', 'Curriculum']]",
            "count": 1
           }
          ]
         }
        },
        {
         "name": "links",
         "dtype": "object",
         "stats": {
          "unique_count": 3,
          "nan_count": 0,
          "categories": [
           {
            "name": "['https://iisc.ac.in/admissions/m-tech-m-des/', 'https://admissions.iisc.ac.in/', 'http://cds.iisc.ac.in/admissions/admissions-faq/', 'http://cds.iisc.ac.in/wp-content/uploads/MTech_CDS_Brochure_final.pdf', 'http://cds.iisc.ac.in/resources/fellowships/', 'https://cds.iisc.ac.in/wp-content/uploads/MTech_Brochure-2021.pdf', 'http://www.iisc.ac.in/admissions/', 'http://cds.iisc.ac.in/academics/mtechcds/', 'https://iisc.ac.in/admissions/m-tech-m-des', 'https://cds.iisc.ac.in/wp-content/uploads/sample-he-post-online.pdf']",
            "count": 1
           },
           {
            "name": "['https://ai.iisc.ac.in', 'https://admissions-august.iisc.ac.in/web/selectugpg.aspx', 'https://www.iisc.ac.in/admissions/', 'https://oir.iisc.ac.in/index.php/m-tech-course-program-admission/', 'https://eecs.iisc.ac.in/wp-content/uploads/2021/04/instructions.pdf', 'https://eecs.iisc.ac.in/m-tech-ai-frequently-asked-questions/', 'mailto:mtechoffice.ai@iisc.ac.in', 'https://www.csa.iisc.ac.in/', 'https://ece.iisc.ac.in/', 'http://www.ee.iisc.ac.in/', 'https://dese.iisc.ac.in/', 'https://ai.iisc.ac.in/', 'https://eecs.iisc.ac.in/mtech-ai-2019-2021/', 'https://eecs.iisc.ac.in/mtech-ai-2020-2022/', 'https://eecs.iisc.ac.in/wp-content/uploads/2021/02/MTechAICurriculum18February2021.pdf', 'https://eecs.iisc.ac.in/wp-content/uploads/2020/02/AI-Poster.pdf', 'https://eecs.iisc.ac.in/wp-content/uploads/2020/02/OnePageFlyer.pdf']",
            "count": 1
           },
           {
            "name": "no links in useful area",
            "count": 1
           }
          ]
         }
        },
        {
         "name": "date_pub",
         "dtype": "object",
         "stats": {
          "unique_count": 2,
          "nan_count": 0,
          "categories": [
           {
            "name": "Not inferred",
            "count": 2
           },
           {
            "name": "21-11-2017",
            "count": 1
           }
          ]
         }
        },
        {
         "name": "date_last_mod",
         "dtype": "object",
         "stats": {
          "unique_count": 2,
          "nan_count": 0,
          "categories": [
           {
            "name": "Not inferred",
            "count": 2
           },
           {
            "name": "28-01-2019",
            "count": 1
           }
          ]
         }
        },
        {
         "name": "html_tags",
         "dtype": "object",
         "stats": {
          "unique_count": 3,
          "nan_count": 0,
          "categories": [
           {
            "name": "['header', 'h1', 'div', 'ul', 'li', 'span', 'strong', 'a', 'li', 'span', 'strong', 'a', 'li', 'span', 'strong', 'a', 'h2', 'p', 'strong', 'a', 'p', 'a', 'p', 'a', 'em', 'strong', 'p', 'strong', 'ul', 'li', 'a', 'li', 'span', 'a', 'li', 'span', 'ul', 'li', 'span', 'li', 'span', 'ul', 'li', 'li', 'b', 'b', 'strong', 'li', 'b', 'li', 'li', 'li', 'li', 'span', 'span', 'i', 'i', 'span', 'h3', 'p', 'p', 'a', 'h3', 'b', 'ul', 'li', 'a', 'li', 'li', 'a', 'li', 'i', 'li', 'li', 'li', 'li', 'ul', 'li', 'span', 'i', 'i', 'li', 'span', 'i', 'li', 'a', 'li', 'i', 'i', 'p', 'a', 'p', 'b', 'p', 'b', 'i', 'span']",
            "count": 1
           },
           {
            "name": "['h1', 'p', 'img', 'p', 'strong', 'a', 'p', 'h2', 'strong', 'p', 'a', 'p', 'p', 'strong', 'sup', 'p', 'strong', 'strong', 'strong', 'strong', 'a', 'p', 'strong', 'strong', 'a', 'h2', 'strong', 'p', 'strong', 'span', 'span', 'p', 'strong', 'p', 'strong', 'p', 'p', 'strong', 'a', 'p', 'span', 'img', 'p', 'strong', 'a', 'a', 'h2', 'ol', 'li', 'a', 'a', 'a', 'a', 'li', 'li', 'a', 'li', 'li', 'li', 'li', 'div', 'h2', 'p', 'a', 'p', 'a', 'p', 'a', 'a', 'a']",
            "count": 1
           },
           {
            "name": "['article', 'div', 'h2', 'p', 'h4', 'ul', 'li', 'li', 'li', 'li', 'li', 'h4', 'p', 'h4', 'p', 'h4', 'p', 'h4', 'p', 'h4', 'p', 'h4', 'table', 'tbody', 'tr', 'td', 'strong', 'tr', 'td', 'td', 'strong', 'td', 'strong', 'tr', 'td', 'td', 'td', 'tr', 'td', 'td', 'td', 'tr', 'td', 'td', 'td', 'tr', 'td', 'td', 'td', 'tr', 'td', 'td', 'td', 'tr', 'td', 'td', 'td', 'tr', 'td', 'td', 'td', 'tr', 'td', 'td', 'td', 'tr', 'td', 'strong', 'tr', 'td', 'strong', 'tr', 'td', 'td', 'strong', 'td', 'strong', 'tr', 'td', 'td', 'td', 'tr', 'td', 'td', 'td', 'tr', 'td', 'td', 'td', 'tr', 'td', 'td', 'td', 'tr', 'td', 'td', 'td', 'tr', 'td', 'td', 'td', 'tr', 'td', 'td', 'tr', 'td', 'td', 'p', 'p', 'p']",
            "count": 1
           }
          ]
         }
        },
        {
         "name": "html_tag_freq",
         "dtype": "object",
         "stats": {
          "unique_count": 3,
          "nan_count": 0,
          "categories": [
           {
            "name": "{'header': 1, 'h1': 1, 'div': 1, 'ul': 6, 'li': 27, 'span': 13, 'strong': 7, 'a': 13, 'h2': 1, 'p': 9, 'em': 1, 'b': 6, 'i': 9, 'h3': 2}",
            "count": 1
           },
           {
            "name": "{'h1': 1, 'p': 18, 'img': 2, 'strong': 15, 'a': 17, 'h2': 4, 'sup': 1, 'span': 3, 'ol': 1, 'li': 7, 'div': 1}",
            "count": 1
           },
           {
            "name": "{'article': 1, 'div': 1, 'h2': 1, 'p': 9, 'h4': 7, 'ul': 1, 'li': 5, 'table': 1, 'tbody': 1, 'tr': 21, 'td': 55, 'strong': 7}",
            "count": 1
           }
          ]
         }
        },
        {
         "name": "html_emphasized_elements",
         "dtype": "object",
         "stats": {
          "unique_count": 3,
          "nan_count": 0,
          "categories": [
           {
            "name": "['the m.tech. (cds) admission process', 'download admissions brochure [pdf]', 'common offer acceptance portal (coap)', 'about the m.tech. (cds) program', 'programflyer', 'linear algebra/matrices, probability, and combinatorics', 'iisc online admissions application', 'iisc admissions website', 'course degree admissions, 2021', 'shortlist students', 'fluid/solid mechanics', '15 apr 2021', 'april 19-23, 2021', 'important dates:', '(https://coap.iitd.ac.in)', 'last updated on april 12, 2021', 'calculus and geometry', 'admissions faq', 'algorithms', 'data structures (arrays, matrices, etc.), and basic programming.', 'm.tech. (computational & data science) admissions, 2021', '2:30 pm – 4:00 pm', 'only with shortlisted candidates', 'for any queries/questions about admissions, please contact: chair.cds#iisc.ac.in (replace # with @)']",
            "count": 1
           },
           {
            "name": "['written test will be held online with remote login through a browser. more details:', 'n of india applicants:', 'date of written test: 15th april 2021', 'international applicants:', '23:59 ist on 31stmarch 2021', 'here', 'time: 9.00am to 10.30am', 'further details', 'e', 'mtech (ai) @ iisc', 'admissions 2021 – application and deadline', 'highlights of the programme', 'click here', 'if you have questions,please browse through thefaq to see if your question is already answered. if notplease send an email to', 'interview', 'indian and overseas citiz', 'due to the covid-19 pandemic, there will not be an interview for the candidates shortlisted based on the gate scores. instead, there will be an online test for m.tech. (artificial intelligence).the test will check the ability of the applicants.']",
            "count": 1
           },
           {
            "name": "['guest lectures', 'semester-4', 'continuous evaluation', 'placements', 'year 1', 'semester 2', 'summer internship', 'mba business analytics', 'semester 1', 'highlights of the programme', 'summer internship and project work', 'course curriculum and programme delivery', 'curriculum', 'semester – 3', 'year – 2']",
            "count": 1
           }
          ]
         }
        },
        {
         "name": "Data Gathering, Preparation and Exploration",
         "dtype": "float64",
         "stats": {
          "unique_count": 3,
          "nan_count": 0,
          "min": "0.0",
          "max": "0.1285714285714285",
          "histogram": [
           {
            "bin_start": 0,
            "bin_end": 0.01285714285714285,
            "count": 1
           },
           {
            "bin_start": 0.01285714285714285,
            "bin_end": 0.0257142857142857,
            "count": 0
           },
           {
            "bin_start": 0.0257142857142857,
            "bin_end": 0.03857142857142855,
            "count": 0
           },
           {
            "bin_start": 0.03857142857142855,
            "bin_end": 0.0514285714285714,
            "count": 0
           },
           {
            "bin_start": 0.0514285714285714,
            "bin_end": 0.06428571428571425,
            "count": 0
           },
           {
            "bin_start": 0.06428571428571425,
            "bin_end": 0.0771428571428571,
            "count": 0
           },
           {
            "bin_start": 0.0771428571428571,
            "bin_end": 0.08999999999999996,
            "count": 0
           },
           {
            "bin_start": 0.08999999999999996,
            "bin_end": 0.1028571428571428,
            "count": 1
           },
           {
            "bin_start": 0.1028571428571428,
            "bin_end": 0.11571428571428564,
            "count": 0
           },
           {
            "bin_start": 0.11571428571428564,
            "bin_end": 0.1285714285714285,
            "count": 1
           }
          ]
         }
        },
        {
         "name": "Data Representation and Transformation",
         "dtype": "float64",
         "stats": {
          "unique_count": 3,
          "nan_count": 0,
          "min": "0.1857142857142857",
          "max": "0.2727272727272727",
          "histogram": [
           {
            "bin_start": 0.1857142857142857,
            "bin_end": 0.1944155844155844,
            "count": 1
           },
           {
            "bin_start": 0.1944155844155844,
            "bin_end": 0.20311688311688308,
            "count": 0
           },
           {
            "bin_start": 0.20311688311688308,
            "bin_end": 0.2118181818181818,
            "count": 0
           },
           {
            "bin_start": 0.2118181818181818,
            "bin_end": 0.2205194805194805,
            "count": 0
           },
           {
            "bin_start": 0.2205194805194805,
            "bin_end": 0.2292207792207792,
            "count": 0
           },
           {
            "bin_start": 0.2292207792207792,
            "bin_end": 0.2379220779220779,
            "count": 1
           },
           {
            "bin_start": 0.2379220779220779,
            "bin_end": 0.2466233766233766,
            "count": 0
           },
           {
            "bin_start": 0.2466233766233766,
            "bin_end": 0.2553246753246753,
            "count": 0
           },
           {
            "bin_start": 0.2553246753246753,
            "bin_end": 0.264025974025974,
            "count": 0
           },
           {
            "bin_start": 0.264025974025974,
            "bin_end": 0.2727272727272727,
            "count": 1
           }
          ]
         }
        },
        {
         "name": "Computing with Data",
         "dtype": "float64",
         "stats": {
          "unique_count": 3,
          "nan_count": 0,
          "min": "0.3571428571428571",
          "max": "0.4705882352941176",
          "histogram": [
           {
            "bin_start": 0.3571428571428571,
            "bin_end": 0.36848739495798316,
            "count": 1
           },
           {
            "bin_start": 0.36848739495798316,
            "bin_end": 0.37983193277310917,
            "count": 0
           },
           {
            "bin_start": 0.37983193277310917,
            "bin_end": 0.39117647058823524,
            "count": 0
           },
           {
            "bin_start": 0.39117647058823524,
            "bin_end": 0.4025210084033613,
            "count": 0
           },
           {
            "bin_start": 0.4025210084033613,
            "bin_end": 0.41386554621848737,
            "count": 0
           },
           {
            "bin_start": 0.41386554621848737,
            "bin_end": 0.4252100840336134,
            "count": 0
           },
           {
            "bin_start": 0.4252100840336134,
            "bin_end": 0.43655462184873944,
            "count": 0
           },
           {
            "bin_start": 0.43655462184873944,
            "bin_end": 0.4478991596638655,
            "count": 0
           },
           {
            "bin_start": 0.4478991596638655,
            "bin_end": 0.4592436974789915,
            "count": 1
           },
           {
            "bin_start": 0.4592436974789915,
            "bin_end": 0.4705882352941176,
            "count": 1
           }
          ]
         }
        },
        {
         "name": "Data Modeling",
         "dtype": "float64",
         "stats": {
          "unique_count": 3,
          "nan_count": 0,
          "min": "0.0909090909090909",
          "max": "0.2941176470588235",
          "histogram": [
           {
            "bin_start": 0.0909090909090909,
            "bin_end": 0.11122994652406415,
            "count": 1
           },
           {
            "bin_start": 0.11122994652406415,
            "bin_end": 0.13155080213903741,
            "count": 0
           },
           {
            "bin_start": 0.13155080213903741,
            "bin_end": 0.15187165775401068,
            "count": 0
           },
           {
            "bin_start": 0.15187165775401068,
            "bin_end": 0.17219251336898395,
            "count": 1
           },
           {
            "bin_start": 0.17219251336898395,
            "bin_end": 0.1925133689839572,
            "count": 0
           },
           {
            "bin_start": 0.1925133689839572,
            "bin_end": 0.21283422459893045,
            "count": 0
           },
           {
            "bin_start": 0.21283422459893045,
            "bin_end": 0.2331550802139037,
            "count": 0
           },
           {
            "bin_start": 0.2331550802139037,
            "bin_end": 0.25347593582887695,
            "count": 0
           },
           {
            "bin_start": 0.25347593582887695,
            "bin_end": 0.2737967914438502,
            "count": 0
           },
           {
            "bin_start": 0.2737967914438502,
            "bin_end": 0.2941176470588235,
            "count": 1
           }
          ]
         }
        },
        {
         "name": "Data Visualization and Presentation",
         "dtype": "float64",
         "stats": {
          "unique_count": 3,
          "nan_count": 0,
          "min": "0.0",
          "max": "0.1571428571428571",
          "histogram": [
           {
            "bin_start": 0,
            "bin_end": 0.015714285714285712,
            "count": 1
           },
           {
            "bin_start": 0.015714285714285712,
            "bin_end": 0.031428571428571424,
            "count": 0
           },
           {
            "bin_start": 0.031428571428571424,
            "bin_end": 0.04714285714285714,
            "count": 0
           },
           {
            "bin_start": 0.04714285714285714,
            "bin_end": 0.06285714285714285,
            "count": 0
           },
           {
            "bin_start": 0.06285714285714285,
            "bin_end": 0.07857142857142856,
            "count": 0
           },
           {
            "bin_start": 0.07857142857142856,
            "bin_end": 0.09428571428571428,
            "count": 1
           },
           {
            "bin_start": 0.09428571428571428,
            "bin_end": 0.10999999999999999,
            "count": 0
           },
           {
            "bin_start": 0.10999999999999999,
            "bin_end": 0.1257142857142857,
            "count": 0
           },
           {
            "bin_start": 0.1257142857142857,
            "bin_end": 0.1414285714285714,
            "count": 0
           },
           {
            "bin_start": 0.1414285714285714,
            "bin_end": 0.1571428571428571,
            "count": 1
           }
          ]
         }
        },
        {
         "name": "Science about Data Science",
         "dtype": "float64",
         "stats": {
          "unique_count": 2,
          "nan_count": 0,
          "min": "0.0",
          "max": "0.0142857142857142",
          "histogram": [
           {
            "bin_start": 0,
            "bin_end": 0.0014285714285714201,
            "count": 2
           },
           {
            "bin_start": 0.0014285714285714201,
            "bin_end": 0.0028571428571428402,
            "count": 0
           },
           {
            "bin_start": 0.0028571428571428402,
            "bin_end": 0.004285714285714261,
            "count": 0
           },
           {
            "bin_start": 0.004285714285714261,
            "bin_end": 0.0057142857142856805,
            "count": 0
           },
           {
            "bin_start": 0.0057142857142856805,
            "bin_end": 0.0071428571428571,
            "count": 0
           },
           {
            "bin_start": 0.0071428571428571,
            "bin_end": 0.008571428571428522,
            "count": 0
           },
           {
            "bin_start": 0.008571428571428522,
            "bin_end": 0.009999999999999941,
            "count": 0
           },
           {
            "bin_start": 0.009999999999999941,
            "bin_end": 0.011428571428571361,
            "count": 0
           },
           {
            "bin_start": 0.011428571428571361,
            "bin_end": 0.01285714285714278,
            "count": 0
           },
           {
            "bin_start": 0.01285714285714278,
            "bin_end": 0.0142857142857142,
            "count": 1
           }
          ]
         }
        },
        {
         "name": "Not determinable",
         "dtype": "float64",
         "stats": {
          "unique_count": 1,
          "nan_count": 0,
          "min": "0.0",
          "max": "0.0",
          "histogram": [
           {
            "bin_start": -0.5,
            "bin_end": -0.4,
            "count": 0
           },
           {
            "bin_start": -0.4,
            "bin_end": -0.3,
            "count": 0
           },
           {
            "bin_start": -0.3,
            "bin_end": -0.19999999999999996,
            "count": 0
           },
           {
            "bin_start": -0.19999999999999996,
            "bin_end": -0.09999999999999998,
            "count": 0
           },
           {
            "bin_start": -0.09999999999999998,
            "bin_end": 0,
            "count": 0
           },
           {
            "bin_start": 0,
            "bin_end": 0.10000000000000009,
            "count": 3
           },
           {
            "bin_start": 0.10000000000000009,
            "bin_end": 0.20000000000000007,
            "count": 0
           },
           {
            "bin_start": 0.20000000000000007,
            "bin_end": 0.30000000000000004,
            "count": 0
           },
           {
            "bin_start": 0.30000000000000004,
            "bin_end": 0.4,
            "count": 0
           },
           {
            "bin_start": 0.4,
            "bin_end": 0.5,
            "count": 0
           }
          ]
         }
        },
        {
         "name": "country",
         "dtype": "object",
         "stats": {
          "unique_count": 1,
          "nan_count": 0,
          "categories": [
           {
            "name": "India",
            "count": 3
           }
          ]
         }
        },
        {
         "name": "gds_mean",
         "dtype": "float64",
         "stats": {
          "unique_count": 1,
          "nan_count": 0,
          "min": "0.1666666666666666",
          "max": "0.1666666666666666",
          "histogram": [
           {
            "bin_start": -0.33333333333333337,
            "bin_end": -0.23333333333333336,
            "count": 0
           },
           {
            "bin_start": -0.23333333333333336,
            "bin_end": -0.13333333333333336,
            "count": 0
           },
           {
            "bin_start": -0.13333333333333336,
            "bin_end": -0.033333333333333326,
            "count": 0
           },
           {
            "bin_start": -0.033333333333333326,
            "bin_end": 0.06666666666666665,
            "count": 0
           },
           {
            "bin_start": 0.06666666666666665,
            "bin_end": 0.16666666666666663,
            "count": 3
           },
           {
            "bin_start": 0.16666666666666663,
            "bin_end": 0.2666666666666667,
            "count": 0
           },
           {
            "bin_start": 0.2666666666666667,
            "bin_end": 0.3666666666666667,
            "count": 0
           },
           {
            "bin_start": 0.3666666666666667,
            "bin_end": 0.4666666666666667,
            "count": 0
           },
           {
            "bin_start": 0.4666666666666667,
            "bin_end": 0.5666666666666667,
            "count": 0
           },
           {
            "bin_start": 0.5666666666666667,
            "bin_end": 0.6666666666666666,
            "count": 0
           }
          ]
         }
        },
        {
         "name": "gds_stdev",
         "dtype": "float64",
         "stats": {
          "unique_count": 3,
          "nan_count": 0,
          "min": "0.1109022981181686",
          "max": "0.1983205146429848",
          "histogram": [
           {
            "bin_start": 0.1109022981181686,
            "bin_end": 0.11964411977065022,
            "count": 1
           },
           {
            "bin_start": 0.11964411977065022,
            "bin_end": 0.12838594142313184,
            "count": 0
           },
           {
            "bin_start": 0.12838594142313184,
            "bin_end": 0.13712776307561347,
            "count": 0
           },
           {
            "bin_start": 0.13712776307561347,
            "bin_end": 0.14586958472809508,
            "count": 0
           },
           {
            "bin_start": 0.14586958472809508,
            "bin_end": 0.1546114063805767,
            "count": 0
           },
           {
            "bin_start": 0.1546114063805767,
            "bin_end": 0.16335322803305832,
            "count": 0
           },
           {
            "bin_start": 0.16335322803305832,
            "bin_end": 0.17209504968553996,
            "count": 1
           },
           {
            "bin_start": 0.17209504968553996,
            "bin_end": 0.18083687133802157,
            "count": 0
           },
           {
            "bin_start": 0.18083687133802157,
            "bin_end": 0.18957869299050317,
            "count": 0
           },
           {
            "bin_start": 0.18957869299050317,
            "bin_end": 0.1983205146429848,
            "count": 1
           }
          ]
         }
        },
        {
         "name": "band",
         "dtype": "object",
         "stats": {
          "unique_count": 2,
          "nan_count": 0,
          "categories": [
           {
            "name": "Band 3",
            "count": 2
           },
           {
            "name": "Band 2",
            "count": 1
           }
          ]
         }
        },
        {
         "name": "_deepnote_index_column",
         "dtype": "int64"
        }
       ],
       "rows_top": [
        {
         "uni_name": "Indian Institute of Science Bangalore",
         "pgm_name": "M.Tech. Computational and Data Science",
         "dur_yrs": "2",
         "type": "Public",
         "national_rank_qs": 2,
         "dept_involved": "Department of Computational and Data Sciences",
         "location": "Karnataka",
         "url": "http://cds.iisc.ac.in/admissions/course-degrees/",
         "descr": "Computational Science and Data Science are interdisciplinary areas that bring together the domain s…",
         "header_tag": "['h1', 'h2', 'h3']",
         "header_names": "[['\\n\\t\\t\\tCourse Degree Admissions, 2021\\t\\t'], ['M.Tech. (Computational & Data Science) Admission…",
         "links": "['https://iisc.ac.in/admissions/m-tech-m-des/', 'https://admissions.iisc.ac.in/', 'http://cds.iisc.…",
         "date_pub": "Not inferred",
         "date_last_mod": "Not inferred",
         "html_tags": "['header', 'h1', 'div', 'ul', 'li', 'span', 'strong', 'a', 'li', 'span', 'strong', 'a', 'li', 'span…",
         "html_tag_freq": "{'header': 1, 'h1': 1, 'div': 1, 'ul': 6, 'li': 27, 'span': 13, 'strong': 7, 'a': 13, 'h2': 1, 'p':…",
         "html_emphasized_elements": "['the m.tech. (cds) admission process', 'download admissions brochure [pdf]', 'common offer accepta…",
         "Data Gathering, Preparation and Exploration": 0.0909090909090909,
         "Data Representation and Transformation": 0.2727272727272727,
         "Computing with Data": 0.4545454545454545,
         "Data Modeling": 0.0909090909090909,
         "Data Visualization and Presentation": 0.0909090909090909,
         "Science about Data Science": 0,
         "Not determinable": 0,
         "country": "India",
         "gds_mean": 0.1666666666666666,
         "gds_stdev": 0.1668043508427016,
         "band": "Band 3",
         "_deepnote_index_column": 0
        },
        {
         "uni_name": "Indian Institute of Science Bangalore",
         "pgm_name": "M.Tech. Artificial Intelligence",
         "dur_yrs": "2",
         "type": "Public",
         "national_rank_qs": 2,
         "dept_involved": "Departments of Computer Science and Automation, Electrical Communication Engineering, Electrical En…",
         "location": "Karnataka",
         "url": "https://eecs.iisc.ac.in/mtechai/",
         "descr": "  Artificial Intelligence has captured the imagination of the entire world with its potential abili…",
         "header_tag": "['h1', 'h2']",
         "header_names": "[['MTech (AI) @ IISc'], ['Admissions 2021 – Application and deadline', 'Interview', 'Highlights of …",
         "links": "['https://ai.iisc.ac.in', 'https://admissions-august.iisc.ac.in/web/selectugpg.aspx', 'https://www.…",
         "date_pub": "Not inferred",
         "date_last_mod": "Not inferred",
         "html_tags": "['h1', 'p', 'img', 'p', 'strong', 'a', 'p', 'h2', 'strong', 'p', 'a', 'p', 'p', 'strong', 'sup', 'p…",
         "html_tag_freq": "{'h1': 1, 'p': 18, 'img': 2, 'strong': 15, 'a': 17, 'h2': 4, 'sup': 1, 'span': 3, 'ol': 1, 'li': 7,…",
         "html_emphasized_elements": "['written test will be held online with remote login through a browser. more details:', 'n of india…",
         "Data Gathering, Preparation and Exploration": 0,
         "Data Representation and Transformation": 0.2352941176470588,
         "Computing with Data": 0.4705882352941176,
         "Data Modeling": 0.2941176470588235,
         "Data Visualization and Presentation": 0,
         "Science about Data Science": 0,
         "Not determinable": 0,
         "country": "India",
         "gds_mean": 0.1666666666666666,
         "gds_stdev": 0.1983205146429848,
         "band": "Band 3",
         "_deepnote_index_column": 1
        },
        {
         "uni_name": "University of Hyderabad",
         "pgm_name": "MBA Business Analytics",
         "dur_yrs": "2",
         "type": "Public",
         "national_rank_qs": 8,
         "dept_involved": "School of Management Studies",
         "location": "Telangana",
         "url": "https://smsuoh.ac.in/mba/mba-business-analytics/",
         "descr": " The School has launched a two year MBA in Business Analytics programme with an intake of 30 studen…",
         "header_tag": "['h2', 'h4']",
         "header_names": "[['MBA Business Analytics'], ['Highlights of the Programme', 'Course Curriculum and Programme Deliv…",
         "links": "no links in useful area",
         "date_pub": "21-11-2017",
         "date_last_mod": "28-01-2019",
         "html_tags": "['article', 'div', 'h2', 'p', 'h4', 'ul', 'li', 'li', 'li', 'li', 'li', 'h4', 'p', 'h4', 'p', 'h4',…",
         "html_tag_freq": "{'article': 1, 'div': 1, 'h2': 1, 'p': 9, 'h4': 7, 'ul': 1, 'li': 5, 'table': 1, 'tbody': 1, 'tr': …",
         "html_emphasized_elements": "['guest lectures', 'semester-4', 'continuous evaluation', 'placements', 'year 1', 'semester 2', 'su…",
         "Data Gathering, Preparation and Exploration": 0.1285714285714285,
         "Data Representation and Transformation": 0.1857142857142857,
         "Computing with Data": 0.3571428571428571,
         "Data Modeling": 0.1571428571428571,
         "Data Visualization and Presentation": 0.1571428571428571,
         "Science about Data Science": 0.0142857142857142,
         "Not determinable": 0,
         "country": "India",
         "gds_mean": 0.1666666666666666,
         "gds_stdev": 0.1109022981181686,
         "band": "Band 2",
         "_deepnote_index_column": 2
        }
       ],
       "rows_bottom": null
      },
      "text/plain": "                                uni_name  \\\n0  Indian Institute of Science Bangalore   \n1  Indian Institute of Science Bangalore   \n2                University of Hyderabad   \n\n                                 pgm_name dur_yrs    type  national_rank_qs  \\\n0  M.Tech. Computational and Data Science       2  Public                 2   \n1         M.Tech. Artificial Intelligence       2  Public                 2   \n2                  MBA Business Analytics       2  Public                 8   \n\n                                       dept_involved   location  \\\n0      Department of Computational and Data Sciences  Karnataka   \n1  Departments of Computer Science and Automation...  Karnataka   \n2                       School of Management Studies  Telangana   \n\n                                                url  \\\n0  http://cds.iisc.ac.in/admissions/course-degrees/   \n1                  https://eecs.iisc.ac.in/mtechai/   \n2  https://smsuoh.ac.in/mba/mba-business-analytics/   \n\n                                               descr          header_tag  ...  \\\n0  Computational Science and Data Science are int...  ['h1', 'h2', 'h3']  ...   \n1    Artificial Intelligence has captured the ima...        ['h1', 'h2']  ...   \n2   The School has launched a two year MBA in Bus...        ['h2', 'h4']  ...   \n\n  Data Representation and Transformation Computing with Data Data Modeling  \\\n0                               0.272727            0.454545      0.090909   \n1                               0.235294            0.470588      0.294118   \n2                               0.185714            0.357143      0.157143   \n\n  Data Visualization and Presentation Science about Data Science  \\\n0                            0.090909                   0.000000   \n1                            0.000000                   0.000000   \n2                            0.157143                   0.014286   \n\n  Not determinable country  gds_mean  gds_stdev    band  \n0              0.0   India  0.166667   0.166804  Band 3  \n1              0.0   India  0.166667   0.198321  Band 3  \n2              0.0   India  0.166667   0.110902  Band 2  \n\n[3 rows x 28 columns]",
      "text/html": "<div>\n<style scoped>\n    .dataframe tbody tr th:only-of-type {\n        vertical-align: middle;\n    }\n\n    .dataframe tbody tr th {\n        vertical-align: top;\n    }\n\n    .dataframe thead th {\n        text-align: right;\n    }\n</style>\n<table border=\"1\" class=\"dataframe\">\n  <thead>\n    <tr style=\"text-align: right;\">\n      <th></th>\n      <th>uni_name</th>\n      <th>pgm_name</th>\n      <th>dur_yrs</th>\n      <th>type</th>\n      <th>national_rank_qs</th>\n      <th>dept_involved</th>\n      <th>location</th>\n      <th>url</th>\n      <th>descr</th>\n      <th>header_tag</th>\n      <th>...</th>\n      <th>Data Representation and Transformation</th>\n      <th>Computing with Data</th>\n      <th>Data Modeling</th>\n      <th>Data Visualization and Presentation</th>\n      <th>Science about Data Science</th>\n      <th>Not determinable</th>\n      <th>country</th>\n      <th>gds_mean</th>\n      <th>gds_stdev</th>\n      <th>band</th>\n    </tr>\n  </thead>\n  <tbody>\n    <tr>\n      <th>0</th>\n      <td>Indian Institute of Science Bangalore</td>\n      <td>M.Tech. Computational and Data Science</td>\n      <td>2</td>\n      <td>Public</td>\n      <td>2</td>\n      <td>Department of Computational and Data Sciences</td>\n      <td>Karnataka</td>\n      <td>http://cds.iisc.ac.in/admissions/course-degrees/</td>\n      <td>Computational Science and Data Science are int...</td>\n      <td>['h1', 'h2', 'h3']</td>\n      <td>...</td>\n      <td>0.272727</td>\n      <td>0.454545</td>\n      <td>0.090909</td>\n      <td>0.090909</td>\n      <td>0.000000</td>\n      <td>0.0</td>\n      <td>India</td>\n      <td>0.166667</td>\n      <td>0.166804</td>\n      <td>Band 3</td>\n    </tr>\n    <tr>\n      <th>1</th>\n      <td>Indian Institute of Science Bangalore</td>\n      <td>M.Tech. Artificial Intelligence</td>\n      <td>2</td>\n      <td>Public</td>\n      <td>2</td>\n      <td>Departments of Computer Science and Automation...</td>\n      <td>Karnataka</td>\n      <td>https://eecs.iisc.ac.in/mtechai/</td>\n      <td>Artificial Intelligence has captured the ima...</td>\n      <td>['h1', 'h2']</td>\n      <td>...</td>\n      <td>0.235294</td>\n      <td>0.470588</td>\n      <td>0.294118</td>\n      <td>0.000000</td>\n      <td>0.000000</td>\n      <td>0.0</td>\n      <td>India</td>\n      <td>0.166667</td>\n      <td>0.198321</td>\n      <td>Band 3</td>\n    </tr>\n    <tr>\n      <th>2</th>\n      <td>University of Hyderabad</td>\n      <td>MBA Business Analytics</td>\n      <td>2</td>\n      <td>Public</td>\n      <td>8</td>\n      <td>School of Management Studies</td>\n      <td>Telangana</td>\n      <td>https://smsuoh.ac.in/mba/mba-business-analytics/</td>\n      <td>The School has launched a two year MBA in Bus...</td>\n      <td>['h2', 'h4']</td>\n      <td>...</td>\n      <td>0.185714</td>\n      <td>0.357143</td>\n      <td>0.157143</td>\n      <td>0.157143</td>\n      <td>0.014286</td>\n      <td>0.0</td>\n      <td>India</td>\n      <td>0.166667</td>\n      <td>0.110902</td>\n      <td>Band 2</td>\n    </tr>\n  </tbody>\n</table>\n<p>3 rows × 28 columns</p>\n</div>"
     },
     "metadata": {}
    }
   ],
   "execution_count": null
  },
  {
   "cell_type": "code",
   "source": "def get_degree(x):\n    \n    x = x.replace('(STEM)', '')\n    if ' in ' in x.lower() and 'specialization' not in x.lower():\n        temp = x.split(' in ')\n    else:\n        temp = x.split()\n\n    subject = \" \".join(temp[1:])\n    return subject\n\ndef get_degree_2(x, sym):\n\n    if sym in x.lower():\n        temp = x.split(sym)\n        subject = \" \".join(temp[1:])\n        \n    else:\n        subject = x\n\n    subject = subject.replace(')', '').strip()\n    \n    return subject\n",
   "metadata": {
    "tags": [],
    "cell_id": "00002-979c2a3e-4882-493f-b794-63284f821fea",
    "deepnote_to_be_reexecuted": false,
    "source_hash": "f855e8fe",
    "execution_start": 1626550273768,
    "execution_millis": 2757885,
    "deepnote_cell_type": "code"
   },
   "outputs": [],
   "execution_count": null
  },
  {
   "cell_type": "code",
   "source": "degrees = df.pgm_name.apply(get_degree)\ndegrees = degrees.apply(lambda x: get_degree_2(x, ' in '))\ndegrees = degrees.apply(lambda x: get_degree_2(x, ' - '))\ndegrees = degrees.apply(lambda x: get_degree_2(x, ' ('))\ndegrees = degrees.apply(lambda x: get_degree_2(x, 'of Science '))\ndegrees = degrees.apply(lambda x: get_degree_2(x, 'of '))\ndegrees = list(degrees)\ndegrees = sorted(degrees, key=len)\n\ndf['subject'] = degrees",
   "metadata": {
    "tags": [],
    "cell_id": "00003-869ccd47-0bda-44f3-9292-78aa3000c50c",
    "deepnote_to_be_reexecuted": false,
    "source_hash": "7115cf99",
    "execution_start": 1626550273810,
    "execution_millis": 0,
    "deepnote_cell_type": "code"
   },
   "outputs": [],
   "execution_count": null
  },
  {
   "cell_type": "code",
   "source": "def process_subject(i):\n    alloted = False\n    sub = []\n    if 'data science' in i.lower():\n        alloted = True\n        sub.append('Data Science')\n    if 'business analytics' in i.lower():\n        alloted = True\n        sub.append('Business Analytics')\n    if ('analytics' in i.lower() or 'analysis' in i.lower()) and 'business analytics' not in i.lower():\n        alloted = True\n        sub.append('Analytics')\n    if 'machine learning' in i.lower() or ' ml ' in i.lower():\n        alloted = True\n        sub.append('Machine Learning')\n    if 'artificial intelligence' in i.lower() or ' ai ' in i.lower():\n        alloted = True\n        sub.append('Artificial Intelligence')\n    if 'statistics' in i.lower():\n        alloted = True\n        sub.append('Statistics')\n    if alloted == False:\n        sub.append('Misc')\n    return \", \".join(sub)\n\ndf['subject'] = df.subject.apply(process_subject)",
   "metadata": {
    "tags": [],
    "cell_id": "00009-48ef1318-d723-4485-87e1-02dcb9a5157c",
    "deepnote_to_be_reexecuted": false,
    "source_hash": "9330be4d",
    "execution_start": 1626550274613,
    "execution_millis": 8,
    "deepnote_cell_type": "code"
   },
   "outputs": [],
   "execution_count": null
  },
  {
   "cell_type": "code",
   "source": "df.head()",
   "metadata": {
    "tags": [],
    "cell_id": "00004-187750aa-9cae-4a16-a5f1-e12c28b1118c",
    "deepnote_to_be_reexecuted": false,
    "source_hash": "c085b6ba",
    "execution_start": 1626550278006,
    "execution_millis": 104,
    "deepnote_cell_type": "code"
   },
   "outputs": [
    {
     "output_type": "execute_result",
     "execution_count": 60,
     "data": {
      "application/vnd.deepnote.dataframe.v2+json": {
       "row_count": 5,
       "column_count": 29,
       "columns": [
        {
         "name": "uni_name",
         "dtype": "object",
         "stats": {
          "unique_count": 3,
          "nan_count": 0,
          "categories": [
           {
            "name": "Indian Institute of Science Bangalore",
            "count": 2
           },
           {
            "name": "University of Hyderabad",
            "count": 2
           },
           {
            "name": "IIT Guwahati",
            "count": 1
           }
          ]
         }
        },
        {
         "name": "pgm_name",
         "dtype": "object",
         "stats": {
          "unique_count": 4,
          "nan_count": 0,
          "categories": [
           {
            "name": "M.Tech. Artificial Intelligence",
            "count": 2
           },
           {
            "name": "M.Tech. Computational and Data Science",
            "count": 1
           },
           {
            "name": "2 others",
            "count": 2
           }
          ]
         }
        },
        {
         "name": "dur_yrs",
         "dtype": "object",
         "stats": {
          "unique_count": 1,
          "nan_count": 0,
          "categories": [
           {
            "name": "2",
            "count": 5
           }
          ]
         }
        },
        {
         "name": "type",
         "dtype": "object",
         "stats": {
          "unique_count": 1,
          "nan_count": 0,
          "categories": [
           {
            "name": "Public",
            "count": 5
           }
          ]
         }
        },
        {
         "name": "national_rank_qs",
         "dtype": "int64",
         "stats": {
          "unique_count": 3,
          "nan_count": 0,
          "min": "2",
          "max": "10",
          "histogram": [
           {
            "bin_start": 2,
            "bin_end": 2.8,
            "count": 2
           },
           {
            "bin_start": 2.8,
            "bin_end": 3.6,
            "count": 0
           },
           {
            "bin_start": 3.6,
            "bin_end": 4.4,
            "count": 0
           },
           {
            "bin_start": 4.4,
            "bin_end": 5.2,
            "count": 0
           },
           {
            "bin_start": 5.2,
            "bin_end": 6,
            "count": 0
           },
           {
            "bin_start": 6,
            "bin_end": 6.800000000000001,
            "count": 0
           },
           {
            "bin_start": 6.800000000000001,
            "bin_end": 7.6000000000000005,
            "count": 0
           },
           {
            "bin_start": 7.6000000000000005,
            "bin_end": 8.4,
            "count": 2
           },
           {
            "bin_start": 8.4,
            "bin_end": 9.2,
            "count": 0
           },
           {
            "bin_start": 9.2,
            "bin_end": 10,
            "count": 1
           }
          ]
         }
        },
        {
         "name": "dept_involved",
         "dtype": "object",
         "stats": {
          "unique_count": 5,
          "nan_count": 0,
          "categories": [
           {
            "name": "Department of Computational and Data Sciences",
            "count": 1
           },
           {
            "name": "Departments of Computer Science and Automation, Electrical Communication Engineering, Electrical Engineering and Electronic Systems Engineering",
            "count": 1
           },
           {
            "name": "3 others",
            "count": 3
           }
          ]
         }
        },
        {
         "name": "location",
         "dtype": "object",
         "stats": {
          "unique_count": 3,
          "nan_count": 0,
          "categories": [
           {
            "name": "Karnataka",
            "count": 2
           },
           {
            "name": "Telangana",
            "count": 2
           },
           {
            "name": "Assam",
            "count": 1
           }
          ]
         }
        },
        {
         "name": "url",
         "dtype": "object",
         "stats": {
          "unique_count": 5,
          "nan_count": 0,
          "categories": [
           {
            "name": "http://cds.iisc.ac.in/admissions/course-degrees/",
            "count": 1
           },
           {
            "name": "https://eecs.iisc.ac.in/mtechai/",
            "count": 1
           },
           {
            "name": "3 others",
            "count": 3
           }
          ]
         }
        },
        {
         "name": "descr",
         "dtype": "object",
         "stats": {
          "unique_count": 5,
          "nan_count": 0,
          "categories": [
           {
            "name": "Computational Science and Data Science are interdisciplinary areas that bring together the domain specific knowledge of science and engineering with relevant areas of computing systems and formal foundations. While computational science investigates scientific computing applications that require mathematical techniques and parallel computing, data science explores data-intensive applications that use scalable statistical and machine learning methods with Big Data and Cloud platforms. These impart foundational and scalable systems skills for computational and data sciences, with advanced courses selected by students to allow specialization on methods, platforms, and applications.",
            "count": 1
           },
           {
            "name": "  Artificial Intelligence has captured the imagination of the entire world with its potential ability to solve complex societal problems of our times: universal access to healthcare and education, efficient transportation, increased efficiency in providing e-governance services to the public, etc. Focused national efforts are underway in many countries. The Government of India has initiated widespread discussion on how India should strive to be among the top nations in the world in the AI ecosystem. The two-year M.Tech. in Artificial Intelligence aims to fill the critical needs of the industry and to fill the gap in the availability of high-end AI scientists and engineers.�The vision of the M.Tech. (AI) program is to impart rigorous training in the foundations and deep technology of Artificial Intelligence to produce graduates who can become world leaders in AI and lead India's march towards leadership in this important area. Curriculum tailored to bring students to the forefront of AI research and development.\nProgramme designed and administered by more than 30 faculty members working in leading edge topics in AI (https://ai.iisc.ac.in/).\nOne year research and development project to make our students the creators of futuristic applications of AI.\nEmphasis on publications, patents, products, and software.\nState-of-the-art computational and experimental facilities at one of the top institutions in the country.\nExcellent placement opportunities in reputed companies and industrial research labs pursuing high end, deep technology aspects of AI.",
            "count": 1
           },
           {
            "name": "3 others",
            "count": 3
           }
          ]
         }
        },
        {
         "name": "header_tag",
         "dtype": "object",
         "stats": {
          "unique_count": 5,
          "nan_count": 0,
          "categories": [
           {
            "name": "['h1', 'h2', 'h3']",
            "count": 1
           },
           {
            "name": "['h1', 'h2']",
            "count": 1
           },
           {
            "name": "3 others",
            "count": 3
           }
          ]
         }
        },
        {
         "name": "header_names",
         "dtype": "object",
         "stats": {
          "unique_count": 5,
          "nan_count": 0,
          "categories": [
           {
            "name": "[['\\n\\t\\t\\tCourse Degree Admissions, 2021\\t\\t'], ['M.Tech. (Computational & Data Science) Admissions, 2021'], ['About the M.Tech. (CDS) Program', 'The M.Tech. (CDS) Admission Process']]",
            "count": 1
           },
           {
            "name": "[['MTech (AI) @ IISc'], ['Admissions 2021 – Application and deadline', 'Interview', 'Highlights of the programme', 'Further Details']]",
            "count": 1
           },
           {
            "name": "3 others",
            "count": 3
           }
          ]
         }
        },
        {
         "name": "links",
         "dtype": "object",
         "stats": {
          "unique_count": 5,
          "nan_count": 0,
          "categories": [
           {
            "name": "['https://iisc.ac.in/admissions/m-tech-m-des/', 'https://admissions.iisc.ac.in/', 'http://cds.iisc.ac.in/admissions/admissions-faq/', 'http://cds.iisc.ac.in/wp-content/uploads/MTech_CDS_Brochure_final.pdf', 'http://cds.iisc.ac.in/resources/fellowships/', 'https://cds.iisc.ac.in/wp-content/uploads/MTech_Brochure-2021.pdf', 'http://www.iisc.ac.in/admissions/', 'http://cds.iisc.ac.in/academics/mtechcds/', 'https://iisc.ac.in/admissions/m-tech-m-des', 'https://cds.iisc.ac.in/wp-content/uploads/sample-he-post-online.pdf']",
            "count": 1
           },
           {
            "name": "['https://ai.iisc.ac.in', 'https://admissions-august.iisc.ac.in/web/selectugpg.aspx', 'https://www.iisc.ac.in/admissions/', 'https://oir.iisc.ac.in/index.php/m-tech-course-program-admission/', 'https://eecs.iisc.ac.in/wp-content/uploads/2021/04/instructions.pdf', 'https://eecs.iisc.ac.in/m-tech-ai-frequently-asked-questions/', 'mailto:mtechoffice.ai@iisc.ac.in', 'https://www.csa.iisc.ac.in/', 'https://ece.iisc.ac.in/', 'http://www.ee.iisc.ac.in/', 'https://dese.iisc.ac.in/', 'https://ai.iisc.ac.in/', 'https://eecs.iisc.ac.in/mtech-ai-2019-2021/', 'https://eecs.iisc.ac.in/mtech-ai-2020-2022/', 'https://eecs.iisc.ac.in/wp-content/uploads/2021/02/MTechAICurriculum18February2021.pdf', 'https://eecs.iisc.ac.in/wp-content/uploads/2020/02/AI-Poster.pdf', 'https://eecs.iisc.ac.in/wp-content/uploads/2020/02/OnePageFlyer.pdf']",
            "count": 1
           },
           {
            "name": "3 others",
            "count": 3
           }
          ]
         }
        },
        {
         "name": "date_pub",
         "dtype": "object",
         "stats": {
          "unique_count": 3,
          "nan_count": 0,
          "categories": [
           {
            "name": "Not inferred",
            "count": 3
           },
           {
            "name": "21-11-2017",
            "count": 1
           },
           {
            "name": "01-01-2018",
            "count": 1
           }
          ]
         }
        },
        {
         "name": "date_last_mod",
         "dtype": "object",
         "stats": {
          "unique_count": 3,
          "nan_count": 0,
          "categories": [
           {
            "name": "Not inferred",
            "count": 3
           },
           {
            "name": "28-01-2019",
            "count": 1
           },
           {
            "name": "01-01-2018",
            "count": 1
           }
          ]
         }
        },
        {
         "name": "html_tags",
         "dtype": "object",
         "stats": {
          "unique_count": 5,
          "nan_count": 0,
          "categories": [
           {
            "name": "['header', 'h1', 'div', 'ul', 'li', 'span', 'strong', 'a', 'li', 'span', 'strong', 'a', 'li', 'span', 'strong', 'a', 'h2', 'p', 'strong', 'a', 'p', 'a', 'p', 'a', 'em', 'strong', 'p', 'strong', 'ul', 'li', 'a', 'li', 'span', 'a', 'li', 'span', 'ul', 'li', 'span', 'li', 'span', 'ul', 'li', 'li', 'b', 'b', 'strong', 'li', 'b', 'li', 'li', 'li', 'li', 'span', 'span', 'i', 'i', 'span', 'h3', 'p', 'p', 'a', 'h3', 'b', 'ul', 'li', 'a', 'li', 'li', 'a', 'li', 'i', 'li', 'li', 'li', 'li', 'ul', 'li', 'span', 'i', 'i', 'li', 'span', 'i', 'li', 'a', 'li', 'i', 'i', 'p', 'a', 'p', 'b', 'p', 'b', 'i', 'span']",
            "count": 1
           },
           {
            "name": "['h1', 'p', 'img', 'p', 'strong', 'a', 'p', 'h2', 'strong', 'p', 'a', 'p', 'p', 'strong', 'sup', 'p', 'strong', 'strong', 'strong', 'strong', 'a', 'p', 'strong', 'strong', 'a', 'h2', 'strong', 'p', 'strong', 'span', 'span', 'p', 'strong', 'p', 'strong', 'p', 'p', 'strong', 'a', 'p', 'span', 'img', 'p', 'strong', 'a', 'a', 'h2', 'ol', 'li', 'a', 'a', 'a', 'a', 'li', 'li', 'a', 'li', 'li', 'li', 'li', 'div', 'h2', 'p', 'a', 'p', 'a', 'p', 'a', 'a', 'a']",
            "count": 1
           },
           {
            "name": "3 others",
            "count": 3
           }
          ]
         }
        },
        {
         "name": "html_tag_freq",
         "dtype": "object",
         "stats": {
          "unique_count": 5,
          "nan_count": 0,
          "categories": [
           {
            "name": "{'header': 1, 'h1': 1, 'div': 1, 'ul': 6, 'li': 27, 'span': 13, 'strong': 7, 'a': 13, 'h2': 1, 'p': 9, 'em': 1, 'b': 6, 'i': 9, 'h3': 2}",
            "count": 1
           },
           {
            "name": "{'h1': 1, 'p': 18, 'img': 2, 'strong': 15, 'a': 17, 'h2': 4, 'sup': 1, 'span': 3, 'ol': 1, 'li': 7, 'div': 1}",
            "count": 1
           },
           {
            "name": "3 others",
            "count": 3
           }
          ]
         }
        },
        {
         "name": "html_emphasized_elements",
         "dtype": "object",
         "stats": {
          "unique_count": 5,
          "nan_count": 0,
          "categories": [
           {
            "name": "['the m.tech. (cds) admission process', 'download admissions brochure [pdf]', 'common offer acceptance portal (coap)', 'about the m.tech. (cds) program', 'programflyer', 'linear algebra/matrices, probability, and combinatorics', 'iisc online admissions application', 'iisc admissions website', 'course degree admissions, 2021', 'shortlist students', 'fluid/solid mechanics', '15 apr 2021', 'april 19-23, 2021', 'important dates:', '(https://coap.iitd.ac.in)', 'last updated on april 12, 2021', 'calculus and geometry', 'admissions faq', 'algorithms', 'data structures (arrays, matrices, etc.), and basic programming.', 'm.tech. (computational & data science) admissions, 2021', '2:30 pm – 4:00 pm', 'only with shortlisted candidates', 'for any queries/questions about admissions, please contact: chair.cds#iisc.ac.in (replace # with @)']",
            "count": 1
           },
           {
            "name": "['written test will be held online with remote login through a browser. more details:', 'n of india applicants:', 'date of written test: 15th april 2021', 'international applicants:', '23:59 ist on 31stmarch 2021', 'here', 'time: 9.00am to 10.30am', 'further details', 'e', 'mtech (ai) @ iisc', 'admissions 2021 – application and deadline', 'highlights of the programme', 'click here', 'if you have questions,please browse through thefaq to see if your question is already answered. if notplease send an email to', 'interview', 'indian and overseas citiz', 'due to the covid-19 pandemic, there will not be an interview for the candidates shortlisted based on the gate scores. instead, there will be an online test for m.tech. (artificial intelligence).the test will check the ability of the applicants.']",
            "count": 1
           },
           {
            "name": "3 others",
            "count": 3
           }
          ]
         }
        },
        {
         "name": "Data Gathering, Preparation and Exploration",
         "dtype": "float64",
         "stats": {
          "unique_count": 4,
          "nan_count": 0,
          "min": "0.0",
          "max": "0.1285714285714285",
          "histogram": [
           {
            "bin_start": 0,
            "bin_end": 0.01285714285714285,
            "count": 2
           },
           {
            "bin_start": 0.01285714285714285,
            "bin_end": 0.0257142857142857,
            "count": 0
           },
           {
            "bin_start": 0.0257142857142857,
            "bin_end": 0.03857142857142855,
            "count": 1
           },
           {
            "bin_start": 0.03857142857142855,
            "bin_end": 0.0514285714285714,
            "count": 0
           },
           {
            "bin_start": 0.0514285714285714,
            "bin_end": 0.06428571428571425,
            "count": 0
           },
           {
            "bin_start": 0.06428571428571425,
            "bin_end": 0.0771428571428571,
            "count": 0
           },
           {
            "bin_start": 0.0771428571428571,
            "bin_end": 0.08999999999999996,
            "count": 0
           },
           {
            "bin_start": 0.08999999999999996,
            "bin_end": 0.1028571428571428,
            "count": 1
           },
           {
            "bin_start": 0.1028571428571428,
            "bin_end": 0.11571428571428564,
            "count": 0
           },
           {
            "bin_start": 0.11571428571428564,
            "bin_end": 0.1285714285714285,
            "count": 1
           }
          ]
         }
        },
        {
         "name": "Data Representation and Transformation",
         "dtype": "float64",
         "stats": {
          "unique_count": 5,
          "nan_count": 0,
          "min": "0.1857142857142857",
          "max": "0.2727272727272727",
          "histogram": [
           {
            "bin_start": 0.1857142857142857,
            "bin_end": 0.1944155844155844,
            "count": 1
           },
           {
            "bin_start": 0.1944155844155844,
            "bin_end": 0.20311688311688308,
            "count": 1
           },
           {
            "bin_start": 0.20311688311688308,
            "bin_end": 0.2118181818181818,
            "count": 0
           },
           {
            "bin_start": 0.2118181818181818,
            "bin_end": 0.2205194805194805,
            "count": 0
           },
           {
            "bin_start": 0.2205194805194805,
            "bin_end": 0.2292207792207792,
            "count": 0
           },
           {
            "bin_start": 0.2292207792207792,
            "bin_end": 0.2379220779220779,
            "count": 1
           },
           {
            "bin_start": 0.2379220779220779,
            "bin_end": 0.2466233766233766,
            "count": 0
           },
           {
            "bin_start": 0.2466233766233766,
            "bin_end": 0.2553246753246753,
            "count": 0
           },
           {
            "bin_start": 0.2553246753246753,
            "bin_end": 0.264025974025974,
            "count": 1
           },
           {
            "bin_start": 0.264025974025974,
            "bin_end": 0.2727272727272727,
            "count": 1
           }
          ]
         }
        },
        {
         "name": "Computing with Data",
         "dtype": "float64",
         "stats": {
          "unique_count": 5,
          "nan_count": 0,
          "min": "0.3571428571428571",
          "max": "0.7",
          "histogram": [
           {
            "bin_start": 0.3571428571428571,
            "bin_end": 0.3914285714285714,
            "count": 1
           },
           {
            "bin_start": 0.3914285714285714,
            "bin_end": 0.42571428571428566,
            "count": 1
           },
           {
            "bin_start": 0.42571428571428566,
            "bin_end": 0.45999999999999996,
            "count": 1
           },
           {
            "bin_start": 0.45999999999999996,
            "bin_end": 0.4942857142857142,
            "count": 1
           },
           {
            "bin_start": 0.4942857142857142,
            "bin_end": 0.5285714285714285,
            "count": 0
           },
           {
            "bin_start": 0.5285714285714285,
            "bin_end": 0.5628571428571428,
            "count": 0
           },
           {
            "bin_start": 0.5628571428571428,
            "bin_end": 0.5971428571428571,
            "count": 0
           },
           {
            "bin_start": 0.5971428571428571,
            "bin_end": 0.6314285714285715,
            "count": 0
           },
           {
            "bin_start": 0.6314285714285715,
            "bin_end": 0.6657142857142857,
            "count": 0
           },
           {
            "bin_start": 0.6657142857142857,
            "bin_end": 0.7,
            "count": 1
           }
          ]
         }
        },
        {
         "name": "Data Modeling",
         "dtype": "float64",
         "stats": {
          "unique_count": 5,
          "nan_count": 0,
          "min": "0.0",
          "max": "0.2941176470588235",
          "histogram": [
           {
            "bin_start": 0,
            "bin_end": 0.02941176470588235,
            "count": 1
           },
           {
            "bin_start": 0.02941176470588235,
            "bin_end": 0.0588235294117647,
            "count": 0
           },
           {
            "bin_start": 0.0588235294117647,
            "bin_end": 0.08823529411764705,
            "count": 0
           },
           {
            "bin_start": 0.08823529411764705,
            "bin_end": 0.1176470588235294,
            "count": 1
           },
           {
            "bin_start": 0.1176470588235294,
            "bin_end": 0.14705882352941174,
            "count": 0
           },
           {
            "bin_start": 0.14705882352941174,
            "bin_end": 0.1764705882352941,
            "count": 1
           },
           {
            "bin_start": 0.1764705882352941,
            "bin_end": 0.20588235294117643,
            "count": 0
           },
           {
            "bin_start": 0.20588235294117643,
            "bin_end": 0.2352941176470588,
            "count": 1
           },
           {
            "bin_start": 0.2352941176470588,
            "bin_end": 0.2647058823529411,
            "count": 0
           },
           {
            "bin_start": 0.2647058823529411,
            "bin_end": 0.2941176470588235,
            "count": 1
           }
          ]
         }
        },
        {
         "name": "Data Visualization and Presentation",
         "dtype": "float64",
         "stats": {
          "unique_count": 5,
          "nan_count": 0,
          "min": "0.0",
          "max": "0.1571428571428571",
          "histogram": [
           {
            "bin_start": 0,
            "bin_end": 0.015714285714285712,
            "count": 1
           },
           {
            "bin_start": 0.015714285714285712,
            "bin_end": 0.031428571428571424,
            "count": 0
           },
           {
            "bin_start": 0.031428571428571424,
            "bin_end": 0.04714285714285714,
            "count": 0
           },
           {
            "bin_start": 0.04714285714285714,
            "bin_end": 0.06285714285714285,
            "count": 0
           },
           {
            "bin_start": 0.06285714285714285,
            "bin_end": 0.07857142857142856,
            "count": 1
           },
           {
            "bin_start": 0.07857142857142856,
            "bin_end": 0.09428571428571428,
            "count": 1
           },
           {
            "bin_start": 0.09428571428571428,
            "bin_end": 0.10999999999999999,
            "count": 1
           },
           {
            "bin_start": 0.10999999999999999,
            "bin_end": 0.1257142857142857,
            "count": 0
           },
           {
            "bin_start": 0.1257142857142857,
            "bin_end": 0.1414285714285714,
            "count": 0
           },
           {
            "bin_start": 0.1414285714285714,
            "bin_end": 0.1571428571428571,
            "count": 1
           }
          ]
         }
        },
        {
         "name": "Science about Data Science",
         "dtype": "float64",
         "stats": {
          "unique_count": 2,
          "nan_count": 0,
          "min": "0.0",
          "max": "0.0142857142857142",
          "histogram": [
           {
            "bin_start": 0,
            "bin_end": 0.0014285714285714201,
            "count": 4
           },
           {
            "bin_start": 0.0014285714285714201,
            "bin_end": 0.0028571428571428402,
            "count": 0
           },
           {
            "bin_start": 0.0028571428571428402,
            "bin_end": 0.004285714285714261,
            "count": 0
           },
           {
            "bin_start": 0.004285714285714261,
            "bin_end": 0.0057142857142856805,
            "count": 0
           },
           {
            "bin_start": 0.0057142857142856805,
            "bin_end": 0.0071428571428571,
            "count": 0
           },
           {
            "bin_start": 0.0071428571428571,
            "bin_end": 0.008571428571428522,
            "count": 0
           },
           {
            "bin_start": 0.008571428571428522,
            "bin_end": 0.009999999999999941,
            "count": 0
           },
           {
            "bin_start": 0.009999999999999941,
            "bin_end": 0.011428571428571361,
            "count": 0
           },
           {
            "bin_start": 0.011428571428571361,
            "bin_end": 0.01285714285714278,
            "count": 0
           },
           {
            "bin_start": 0.01285714285714278,
            "bin_end": 0.0142857142857142,
            "count": 1
           }
          ]
         }
        },
        {
         "name": "Not determinable",
         "dtype": "float64",
         "stats": {
          "unique_count": 1,
          "nan_count": 0,
          "min": "0.0",
          "max": "0.0",
          "histogram": [
           {
            "bin_start": -0.5,
            "bin_end": -0.4,
            "count": 0
           },
           {
            "bin_start": -0.4,
            "bin_end": -0.3,
            "count": 0
           },
           {
            "bin_start": -0.3,
            "bin_end": -0.19999999999999996,
            "count": 0
           },
           {
            "bin_start": -0.19999999999999996,
            "bin_end": -0.09999999999999998,
            "count": 0
           },
           {
            "bin_start": -0.09999999999999998,
            "bin_end": 0,
            "count": 0
           },
           {
            "bin_start": 0,
            "bin_end": 0.10000000000000009,
            "count": 5
           },
           {
            "bin_start": 0.10000000000000009,
            "bin_end": 0.20000000000000007,
            "count": 0
           },
           {
            "bin_start": 0.20000000000000007,
            "bin_end": 0.30000000000000004,
            "count": 0
           },
           {
            "bin_start": 0.30000000000000004,
            "bin_end": 0.4,
            "count": 0
           },
           {
            "bin_start": 0.4,
            "bin_end": 0.5,
            "count": 0
           }
          ]
         }
        },
        {
         "name": "country",
         "dtype": "object",
         "stats": {
          "unique_count": 1,
          "nan_count": 0,
          "categories": [
           {
            "name": "India",
            "count": 5
           }
          ]
         }
        },
        {
         "name": "gds_mean",
         "dtype": "float64",
         "stats": {
          "unique_count": 1,
          "nan_count": 0,
          "min": "0.1666666666666666",
          "max": "0.1666666666666666",
          "histogram": [
           {
            "bin_start": -0.33333333333333337,
            "bin_end": -0.23333333333333336,
            "count": 0
           },
           {
            "bin_start": -0.23333333333333336,
            "bin_end": -0.13333333333333336,
            "count": 0
           },
           {
            "bin_start": -0.13333333333333336,
            "bin_end": -0.033333333333333326,
            "count": 0
           },
           {
            "bin_start": -0.033333333333333326,
            "bin_end": 0.06666666666666665,
            "count": 0
           },
           {
            "bin_start": 0.06666666666666665,
            "bin_end": 0.16666666666666663,
            "count": 5
           },
           {
            "bin_start": 0.16666666666666663,
            "bin_end": 0.2666666666666667,
            "count": 0
           },
           {
            "bin_start": 0.2666666666666667,
            "bin_end": 0.3666666666666667,
            "count": 0
           },
           {
            "bin_start": 0.3666666666666667,
            "bin_end": 0.4666666666666667,
            "count": 0
           },
           {
            "bin_start": 0.4666666666666667,
            "bin_end": 0.5666666666666667,
            "count": 0
           },
           {
            "bin_start": 0.5666666666666667,
            "bin_end": 0.6666666666666666,
            "count": 0
           }
          ]
         }
        },
        {
         "name": "gds_stdev",
         "dtype": "float64",
         "stats": {
          "unique_count": 5,
          "nan_count": 0,
          "min": "0.1109022981181686",
          "max": "0.2732520204255892",
          "histogram": [
           {
            "bin_start": 0.1109022981181686,
            "bin_end": 0.12713727034891065,
            "count": 1
           },
           {
            "bin_start": 0.12713727034891065,
            "bin_end": 0.14337224257965273,
            "count": 0
           },
           {
            "bin_start": 0.14337224257965273,
            "bin_end": 0.15960721481039478,
            "count": 0
           },
           {
            "bin_start": 0.15960721481039478,
            "bin_end": 0.17584218704113685,
            "count": 2
           },
           {
            "bin_start": 0.17584218704113685,
            "bin_end": 0.1920771592718789,
            "count": 0
           },
           {
            "bin_start": 0.1920771592718789,
            "bin_end": 0.20831213150262096,
            "count": 1
           },
           {
            "bin_start": 0.20831213150262096,
            "bin_end": 0.224547103733363,
            "count": 0
           },
           {
            "bin_start": 0.224547103733363,
            "bin_end": 0.24078207596410509,
            "count": 0
           },
           {
            "bin_start": 0.24078207596410509,
            "bin_end": 0.25701704819484716,
            "count": 0
           },
           {
            "bin_start": 0.25701704819484716,
            "bin_end": 0.2732520204255892,
            "count": 1
           }
          ]
         }
        },
        {
         "name": "band",
         "dtype": "object",
         "stats": {
          "unique_count": 2,
          "nan_count": 0,
          "categories": [
           {
            "name": "Band 3",
            "count": 3
           },
           {
            "name": "Band 2",
            "count": 2
           }
          ]
         }
        },
        {
         "name": "subject",
         "dtype": "object",
         "stats": {
          "unique_count": 2,
          "nan_count": 0,
          "categories": [
           {
            "name": "Analytics",
            "count": 4
           },
           {
            "name": "Data Science",
            "count": 1
           }
          ]
         }
        },
        {
         "name": "_deepnote_index_column",
         "dtype": "int64"
        }
       ],
       "rows_top": [
        {
         "uni_name": "Indian Institute of Science Bangalore",
         "pgm_name": "M.Tech. Computational and Data Science",
         "dur_yrs": "2",
         "type": "Public",
         "national_rank_qs": 2,
         "dept_involved": "Department of Computational and Data Sciences",
         "location": "Karnataka",
         "url": "http://cds.iisc.ac.in/admissions/course-degrees/",
         "descr": "Computational Science and Data Science are interdisciplinary areas that bring together the domain s…",
         "header_tag": "['h1', 'h2', 'h3']",
         "header_names": "[['\\n\\t\\t\\tCourse Degree Admissions, 2021\\t\\t'], ['M.Tech. (Computational & Data Science) Admission…",
         "links": "['https://iisc.ac.in/admissions/m-tech-m-des/', 'https://admissions.iisc.ac.in/', 'http://cds.iisc.…",
         "date_pub": "Not inferred",
         "date_last_mod": "Not inferred",
         "html_tags": "['header', 'h1', 'div', 'ul', 'li', 'span', 'strong', 'a', 'li', 'span', 'strong', 'a', 'li', 'span…",
         "html_tag_freq": "{'header': 1, 'h1': 1, 'div': 1, 'ul': 6, 'li': 27, 'span': 13, 'strong': 7, 'a': 13, 'h2': 1, 'p':…",
         "html_emphasized_elements": "['the m.tech. (cds) admission process', 'download admissions brochure [pdf]', 'common offer accepta…",
         "Data Gathering, Preparation and Exploration": 0.0909090909090909,
         "Data Representation and Transformation": 0.2727272727272727,
         "Computing with Data": 0.4545454545454545,
         "Data Modeling": 0.0909090909090909,
         "Data Visualization and Presentation": 0.0909090909090909,
         "Science about Data Science": 0,
         "Not determinable": 0,
         "country": "India",
         "gds_mean": 0.1666666666666666,
         "gds_stdev": 0.1668043508427016,
         "band": "Band 3",
         "subject": "Analytics",
         "_deepnote_index_column": 0
        },
        {
         "uni_name": "Indian Institute of Science Bangalore",
         "pgm_name": "M.Tech. Artificial Intelligence",
         "dur_yrs": "2",
         "type": "Public",
         "national_rank_qs": 2,
         "dept_involved": "Departments of Computer Science and Automation, Electrical Communication Engineering, Electrical En…",
         "location": "Karnataka",
         "url": "https://eecs.iisc.ac.in/mtechai/",
         "descr": "  Artificial Intelligence has captured the imagination of the entire world with its potential abili…",
         "header_tag": "['h1', 'h2']",
         "header_names": "[['MTech (AI) @ IISc'], ['Admissions 2021 – Application and deadline', 'Interview', 'Highlights of …",
         "links": "['https://ai.iisc.ac.in', 'https://admissions-august.iisc.ac.in/web/selectugpg.aspx', 'https://www.…",
         "date_pub": "Not inferred",
         "date_last_mod": "Not inferred",
         "html_tags": "['h1', 'p', 'img', 'p', 'strong', 'a', 'p', 'h2', 'strong', 'p', 'a', 'p', 'p', 'strong', 'sup', 'p…",
         "html_tag_freq": "{'h1': 1, 'p': 18, 'img': 2, 'strong': 15, 'a': 17, 'h2': 4, 'sup': 1, 'span': 3, 'ol': 1, 'li': 7,…",
         "html_emphasized_elements": "['written test will be held online with remote login through a browser. more details:', 'n of india…",
         "Data Gathering, Preparation and Exploration": 0,
         "Data Representation and Transformation": 0.2352941176470588,
         "Computing with Data": 0.4705882352941176,
         "Data Modeling": 0.2941176470588235,
         "Data Visualization and Presentation": 0,
         "Science about Data Science": 0,
         "Not determinable": 0,
         "country": "India",
         "gds_mean": 0.1666666666666666,
         "gds_stdev": 0.1983205146429848,
         "band": "Band 3",
         "subject": "Analytics",
         "_deepnote_index_column": 1
        },
        {
         "uni_name": "University of Hyderabad",
         "pgm_name": "MBA Business Analytics",
         "dur_yrs": "2",
         "type": "Public",
         "national_rank_qs": 8,
         "dept_involved": "School of Management Studies",
         "location": "Telangana",
         "url": "https://smsuoh.ac.in/mba/mba-business-analytics/",
         "descr": " The School has launched a two year MBA in Business Analytics programme with an intake of 30 studen…",
         "header_tag": "['h2', 'h4']",
         "header_names": "[['MBA Business Analytics'], ['Highlights of the Programme', 'Course Curriculum and Programme Deliv…",
         "links": "no links in useful area",
         "date_pub": "21-11-2017",
         "date_last_mod": "28-01-2019",
         "html_tags": "['article', 'div', 'h2', 'p', 'h4', 'ul', 'li', 'li', 'li', 'li', 'li', 'h4', 'p', 'h4', 'p', 'h4',…",
         "html_tag_freq": "{'article': 1, 'div': 1, 'h2': 1, 'p': 9, 'h4': 7, 'ul': 1, 'li': 5, 'table': 1, 'tbody': 1, 'tr': …",
         "html_emphasized_elements": "['guest lectures', 'semester-4', 'continuous evaluation', 'placements', 'year 1', 'semester 2', 'su…",
         "Data Gathering, Preparation and Exploration": 0.1285714285714285,
         "Data Representation and Transformation": 0.1857142857142857,
         "Computing with Data": 0.3571428571428571,
         "Data Modeling": 0.1571428571428571,
         "Data Visualization and Presentation": 0.1571428571428571,
         "Science about Data Science": 0.0142857142857142,
         "Not determinable": 0,
         "country": "India",
         "gds_mean": 0.1666666666666666,
         "gds_stdev": 0.1109022981181686,
         "band": "Band 2",
         "subject": "Analytics",
         "_deepnote_index_column": 2
        },
        {
         "uni_name": "University of Hyderabad",
         "pgm_name": "M.Tech. Artificial Intelligence",
         "dur_yrs": "2",
         "type": "Public",
         "national_rank_qs": 8,
         "dept_involved": "School of Computer and Information Sciences",
         "location": "Telangana",
         "url": "https://scis.uohyd.ac.in/Academic/Programmes/mtechai_program.php",
         "descr": " M.Tech Artificial Intelligence is also a four-semester course including two semesters of course wo…",
         "header_tag": "['h2']",
         "header_names": "[['Master of Technology in Artificial Intelligence']]",
         "links": "['./mtechaiold_program.php', './mtechainew_program.php', './mtechai2016_program.php', 'mtechaioptio…",
         "date_pub": "01-01-2018",
         "date_last_mod": "01-01-2018",
         "html_tags": "['div', 'h2', 'p', 'b', 'ul', 'li', 'a', 'li', 'a', 'li', 'a', 'li', 'a']",
         "html_tag_freq": "{'div': 1, 'h2': 1, 'p': 1, 'b': 1, 'ul': 1, 'li': 4, 'a': 4}",
         "html_emphasized_elements": "['m.tech artificial intelligence', 'master of technology in artificial intelligence']",
         "Data Gathering, Preparation and Exploration": 0,
         "Data Representation and Transformation": 0.2,
         "Computing with Data": 0.7,
         "Data Modeling": 0,
         "Data Visualization and Presentation": 0.1,
         "Science about Data Science": 0,
         "Not determinable": 0,
         "country": "India",
         "gds_mean": 0.1666666666666666,
         "gds_stdev": 0.2732520204255892,
         "band": "Band 3",
         "subject": "Analytics",
         "_deepnote_index_column": 3
        },
        {
         "uni_name": "IIT Guwahati",
         "pgm_name": "M.Tech Data Science",
         "dur_yrs": "2",
         "type": "Public",
         "national_rank_qs": 10,
         "dept_involved": "Departments of Computer Science and Engineering, Electronics and Electrical Engineering and Mathema…",
         "location": "Assam",
         "url": "https://www.iitg.ac.in/ds/",
         "descr": " Data Science is gaining prominence in academia and industry. Data science witnessing applications …",
         "header_tag": "Not inferred",
         "header_names": "Not inferred",
         "links": "Not inferred",
         "date_pub": "Not inferred",
         "date_last_mod": "Not inferred",
         "html_tags": "Not inferred",
         "html_tag_freq": "Not inferred",
         "html_emphasized_elements": "Not inferred",
         "Data Gathering, Preparation and Exploration": 0.032258064516129,
         "Data Representation and Transformation": 0.2580645161290322,
         "Computing with Data": 0.4193548387096774,
         "Data Modeling": 0.2258064516129032,
         "Data Visualization and Presentation": 0.064516129032258,
         "Science about Data Science": 0,
         "Not determinable": 0,
         "country": "India",
         "gds_mean": 0.1666666666666666,
         "gds_stdev": 0.1624688128774926,
         "band": "Band 2",
         "subject": "Data Science",
         "_deepnote_index_column": 4
        }
       ],
       "rows_bottom": null
      },
      "text/plain": "                                uni_name  \\\n0  Indian Institute of Science Bangalore   \n1  Indian Institute of Science Bangalore   \n2                University of Hyderabad   \n3                University of Hyderabad   \n4                           IIT Guwahati   \n\n                                 pgm_name dur_yrs    type  national_rank_qs  \\\n0  M.Tech. Computational and Data Science       2  Public                 2   \n1         M.Tech. Artificial Intelligence       2  Public                 2   \n2                  MBA Business Analytics       2  Public                 8   \n3         M.Tech. Artificial Intelligence       2  Public                 8   \n4                     M.Tech Data Science       2  Public                10   \n\n                                       dept_involved   location  \\\n0      Department of Computational and Data Sciences  Karnataka   \n1  Departments of Computer Science and Automation...  Karnataka   \n2                       School of Management Studies  Telangana   \n3        School of Computer and Information Sciences  Telangana   \n4  Departments of Computer Science and Engineerin...      Assam   \n\n                                                 url  \\\n0   http://cds.iisc.ac.in/admissions/course-degrees/   \n1                   https://eecs.iisc.ac.in/mtechai/   \n2   https://smsuoh.ac.in/mba/mba-business-analytics/   \n3  https://scis.uohyd.ac.in/Academic/Programmes/m...   \n4                         https://www.iitg.ac.in/ds/   \n\n                                               descr          header_tag  ...  \\\n0  Computational Science and Data Science are int...  ['h1', 'h2', 'h3']  ...   \n1    Artificial Intelligence has captured the ima...        ['h1', 'h2']  ...   \n2   The School has launched a two year MBA in Bus...        ['h2', 'h4']  ...   \n3   M.Tech Artificial Intelligence is also a four...              ['h2']  ...   \n4   Data Science is gaining prominence in academi...        Not inferred  ...   \n\n  Computing with Data Data Modeling Data Visualization and Presentation  \\\n0            0.454545      0.090909                            0.090909   \n1            0.470588      0.294118                            0.000000   \n2            0.357143      0.157143                            0.157143   \n3            0.700000      0.000000                            0.100000   \n4            0.419355      0.225806                            0.064516   \n\n  Science about Data Science Not determinable country  gds_mean  gds_stdev  \\\n0                   0.000000              0.0   India  0.166667   0.166804   \n1                   0.000000              0.0   India  0.166667   0.198321   \n2                   0.014286              0.0   India  0.166667   0.110902   \n3                   0.000000              0.0   India  0.166667   0.273252   \n4                   0.000000              0.0   India  0.166667   0.162469   \n\n     band       subject  \n0  Band 3     Analytics  \n1  Band 3     Analytics  \n2  Band 2     Analytics  \n3  Band 3     Analytics  \n4  Band 2  Data Science  \n\n[5 rows x 29 columns]",
      "text/html": "<div>\n<style scoped>\n    .dataframe tbody tr th:only-of-type {\n        vertical-align: middle;\n    }\n\n    .dataframe tbody tr th {\n        vertical-align: top;\n    }\n\n    .dataframe thead th {\n        text-align: right;\n    }\n</style>\n<table border=\"1\" class=\"dataframe\">\n  <thead>\n    <tr style=\"text-align: right;\">\n      <th></th>\n      <th>uni_name</th>\n      <th>pgm_name</th>\n      <th>dur_yrs</th>\n      <th>type</th>\n      <th>national_rank_qs</th>\n      <th>dept_involved</th>\n      <th>location</th>\n      <th>url</th>\n      <th>descr</th>\n      <th>header_tag</th>\n      <th>...</th>\n      <th>Computing with Data</th>\n      <th>Data Modeling</th>\n      <th>Data Visualization and Presentation</th>\n      <th>Science about Data Science</th>\n      <th>Not determinable</th>\n      <th>country</th>\n      <th>gds_mean</th>\n      <th>gds_stdev</th>\n      <th>band</th>\n      <th>subject</th>\n    </tr>\n  </thead>\n  <tbody>\n    <tr>\n      <th>0</th>\n      <td>Indian Institute of Science Bangalore</td>\n      <td>M.Tech. Computational and Data Science</td>\n      <td>2</td>\n      <td>Public</td>\n      <td>2</td>\n      <td>Department of Computational and Data Sciences</td>\n      <td>Karnataka</td>\n      <td>http://cds.iisc.ac.in/admissions/course-degrees/</td>\n      <td>Computational Science and Data Science are int...</td>\n      <td>['h1', 'h2', 'h3']</td>\n      <td>...</td>\n      <td>0.454545</td>\n      <td>0.090909</td>\n      <td>0.090909</td>\n      <td>0.000000</td>\n      <td>0.0</td>\n      <td>India</td>\n      <td>0.166667</td>\n      <td>0.166804</td>\n      <td>Band 3</td>\n      <td>Analytics</td>\n    </tr>\n    <tr>\n      <th>1</th>\n      <td>Indian Institute of Science Bangalore</td>\n      <td>M.Tech. Artificial Intelligence</td>\n      <td>2</td>\n      <td>Public</td>\n      <td>2</td>\n      <td>Departments of Computer Science and Automation...</td>\n      <td>Karnataka</td>\n      <td>https://eecs.iisc.ac.in/mtechai/</td>\n      <td>Artificial Intelligence has captured the ima...</td>\n      <td>['h1', 'h2']</td>\n      <td>...</td>\n      <td>0.470588</td>\n      <td>0.294118</td>\n      <td>0.000000</td>\n      <td>0.000000</td>\n      <td>0.0</td>\n      <td>India</td>\n      <td>0.166667</td>\n      <td>0.198321</td>\n      <td>Band 3</td>\n      <td>Analytics</td>\n    </tr>\n    <tr>\n      <th>2</th>\n      <td>University of Hyderabad</td>\n      <td>MBA Business Analytics</td>\n      <td>2</td>\n      <td>Public</td>\n      <td>8</td>\n      <td>School of Management Studies</td>\n      <td>Telangana</td>\n      <td>https://smsuoh.ac.in/mba/mba-business-analytics/</td>\n      <td>The School has launched a two year MBA in Bus...</td>\n      <td>['h2', 'h4']</td>\n      <td>...</td>\n      <td>0.357143</td>\n      <td>0.157143</td>\n      <td>0.157143</td>\n      <td>0.014286</td>\n      <td>0.0</td>\n      <td>India</td>\n      <td>0.166667</td>\n      <td>0.110902</td>\n      <td>Band 2</td>\n      <td>Analytics</td>\n    </tr>\n    <tr>\n      <th>3</th>\n      <td>University of Hyderabad</td>\n      <td>M.Tech. Artificial Intelligence</td>\n      <td>2</td>\n      <td>Public</td>\n      <td>8</td>\n      <td>School of Computer and Information Sciences</td>\n      <td>Telangana</td>\n      <td>https://scis.uohyd.ac.in/Academic/Programmes/m...</td>\n      <td>M.Tech Artificial Intelligence is also a four...</td>\n      <td>['h2']</td>\n      <td>...</td>\n      <td>0.700000</td>\n      <td>0.000000</td>\n      <td>0.100000</td>\n      <td>0.000000</td>\n      <td>0.0</td>\n      <td>India</td>\n      <td>0.166667</td>\n      <td>0.273252</td>\n      <td>Band 3</td>\n      <td>Analytics</td>\n    </tr>\n    <tr>\n      <th>4</th>\n      <td>IIT Guwahati</td>\n      <td>M.Tech Data Science</td>\n      <td>2</td>\n      <td>Public</td>\n      <td>10</td>\n      <td>Departments of Computer Science and Engineerin...</td>\n      <td>Assam</td>\n      <td>https://www.iitg.ac.in/ds/</td>\n      <td>Data Science is gaining prominence in academi...</td>\n      <td>Not inferred</td>\n      <td>...</td>\n      <td>0.419355</td>\n      <td>0.225806</td>\n      <td>0.064516</td>\n      <td>0.000000</td>\n      <td>0.0</td>\n      <td>India</td>\n      <td>0.166667</td>\n      <td>0.162469</td>\n      <td>Band 2</td>\n      <td>Data Science</td>\n    </tr>\n  </tbody>\n</table>\n<p>5 rows × 29 columns</p>\n</div>"
     },
     "metadata": {}
    }
   ],
   "execution_count": null
  },
  {
   "cell_type": "code",
   "source": "sns.countplot(data = df, y = 'subject', order = df['subject'].value_counts().index)\nplt.show()",
   "metadata": {
    "tags": [],
    "cell_id": "00005-fe49d03a-b423-4460-93ac-2a9325199001",
    "deepnote_to_be_reexecuted": false,
    "source_hash": "85530f1d",
    "execution_start": 1626550281533,
    "execution_millis": 420,
    "deepnote_cell_type": "code"
   },
   "outputs": [
    {
     "data": {
      "text/plain": "<Figure size 432x288 with 1 Axes>",
      "image/png": "[encoded data removed]"
     },
     "metadata": {
      "needs_background": "light",
      "image/png": {
       "width": 568,
       "height": 262
      }
     },
     "output_type": "display_data"
    }
   ],
   "execution_count": null
  },
  {
   "cell_type": "code",
   "source": "depts = list(df.dept_involved)\ndepts = [dept.split(\" of \")[1] if \" of \" in dept else dept for dept in depts]\ndepts = [dept.split(\",\")[1].strip() if \",\" in dept else dept for dept in depts]\n#depts = [dept.split(\"and\")[1].strip() if \"and\" in dept else dept for dept in depts]\n\ndf['dept'] = depts",
   "metadata": {
    "tags": [],
    "cell_id": "00007-87e1af90-f399-4981-977d-4997b2c2ad1f",
    "deepnote_to_be_reexecuted": false,
    "source_hash": "767caa93",
    "execution_start": 1626550283457,
    "execution_millis": 3,
    "deepnote_cell_type": "code"
   },
   "outputs": [],
   "execution_count": null
  },
  {
   "cell_type": "code",
   "source": "def process_dept(x):\n    sub = []\n    alloted = False\n    if 'management' in x.lower() or 'business' in x.lower() or 'commerce' in x.lower():\n        alloted = True\n        sub.append('Management-related')\n    if 'computer' in x.lower() or 'engineering' in x.lower() or 'info' in x.lower():\n        alloted = True\n        sub.append('Engineering-related')\n    if 'data' in x.lower() or 'artificial intelligence' in x.lower() or 'machine learning' in x.lower():\n        alloted = True\n        sub.append('Data-related')\n    if 'statistics' in x.lower() or 'math' in x.lower():\n        alloted = True\n        sub.append('Statistics-related')\n    if 'social' in x.lower() or 'socio' in x.lower() or 'public' in x.lower() or 'politics' in x.lower():\n        alloted=True\n        sub.append('Social-related')\n    if alloted == False:\n        return 'Other'\n    return \", \".join(sub)\n\ndf['dept_cat'] = df['dept'].apply(process_dept)",
   "metadata": {
    "tags": [],
    "cell_id": "00009-278e5a11-f1e8-43c2-94e5-d54af6eec942",
    "deepnote_to_be_reexecuted": false,
    "source_hash": "494e5891",
    "execution_start": 1626550486422,
    "execution_millis": 4,
    "deepnote_cell_type": "code"
   },
   "outputs": [],
   "execution_count": null
  },
  {
   "cell_type": "code",
   "source": "df.head()",
   "metadata": {
    "tags": [],
    "cell_id": "00008-d9a29973-f650-40d4-94df-8ef074c52b31",
    "deepnote_to_be_reexecuted": false,
    "source_hash": "c085b6ba",
    "execution_start": 1626550487942,
    "execution_millis": 29,
    "deepnote_cell_type": "code"
   },
   "outputs": [
    {
     "output_type": "execute_result",
     "execution_count": 70,
     "data": {
      "application/vnd.deepnote.dataframe.v2+json": {
       "row_count": 5,
       "column_count": 31,
       "columns": [
        {
         "name": "uni_name",
         "dtype": "object",
         "stats": {
          "unique_count": 3,
          "nan_count": 0,
          "categories": [
           {
            "name": "Indian Institute of Science Bangalore",
            "count": 2
           },
           {
            "name": "University of Hyderabad",
            "count": 2
           },
           {
            "name": "IIT Guwahati",
            "count": 1
           }
          ]
         }
        },
        {
         "name": "pgm_name",
         "dtype": "object",
         "stats": {
          "unique_count": 4,
          "nan_count": 0,
          "categories": [
           {
            "name": "M.Tech. Artificial Intelligence",
            "count": 2
           },
           {
            "name": "M.Tech. Computational and Data Science",
            "count": 1
           },
           {
            "name": "2 others",
            "count": 2
           }
          ]
         }
        },
        {
         "name": "dur_yrs",
         "dtype": "object",
         "stats": {
          "unique_count": 1,
          "nan_count": 0,
          "categories": [
           {
            "name": "2",
            "count": 5
           }
          ]
         }
        },
        {
         "name": "type",
         "dtype": "object",
         "stats": {
          "unique_count": 1,
          "nan_count": 0,
          "categories": [
           {
            "name": "Public",
            "count": 5
           }
          ]
         }
        },
        {
         "name": "national_rank_qs",
         "dtype": "int64",
         "stats": {
          "unique_count": 3,
          "nan_count": 0,
          "min": "2",
          "max": "10",
          "histogram": [
           {
            "bin_start": 2,
            "bin_end": 2.8,
            "count": 2
           },
           {
            "bin_start": 2.8,
            "bin_end": 3.6,
            "count": 0
           },
           {
            "bin_start": 3.6,
            "bin_end": 4.4,
            "count": 0
           },
           {
            "bin_start": 4.4,
            "bin_end": 5.2,
            "count": 0
           },
           {
            "bin_start": 5.2,
            "bin_end": 6,
            "count": 0
           },
           {
            "bin_start": 6,
            "bin_end": 6.800000000000001,
            "count": 0
           },
           {
            "bin_start": 6.800000000000001,
            "bin_end": 7.6000000000000005,
            "count": 0
           },
           {
            "bin_start": 7.6000000000000005,
            "bin_end": 8.4,
            "count": 2
           },
           {
            "bin_start": 8.4,
            "bin_end": 9.2,
            "count": 0
           },
           {
            "bin_start": 9.2,
            "bin_end": 10,
            "count": 1
           }
          ]
         }
        },
        {
         "name": "dept_involved",
         "dtype": "object",
         "stats": {
          "unique_count": 5,
          "nan_count": 0,
          "categories": [
           {
            "name": "Department of Computational and Data Sciences",
            "count": 1
           },
           {
            "name": "Departments of Computer Science and Automation, Electrical Communication Engineering, Electrical Engineering and Electronic Systems Engineering",
            "count": 1
           },
           {
            "name": "3 others",
            "count": 3
           }
          ]
         }
        },
        {
         "name": "location",
         "dtype": "object",
         "stats": {
          "unique_count": 3,
          "nan_count": 0,
          "categories": [
           {
            "name": "Karnataka",
            "count": 2
           },
           {
            "name": "Telangana",
            "count": 2
           },
           {
            "name": "Assam",
            "count": 1
           }
          ]
         }
        },
        {
         "name": "url",
         "dtype": "object",
         "stats": {
          "unique_count": 5,
          "nan_count": 0,
          "categories": [
           {
            "name": "http://cds.iisc.ac.in/admissions/course-degrees/",
            "count": 1
           },
           {
            "name": "https://eecs.iisc.ac.in/mtechai/",
            "count": 1
           },
           {
            "name": "3 others",
            "count": 3
           }
          ]
         }
        },
        {
         "name": "descr",
         "dtype": "object",
         "stats": {
          "unique_count": 5,
          "nan_count": 0,
          "categories": [
           {
            "name": "Computational Science and Data Science are interdisciplinary areas that bring together the domain specific knowledge of science and engineering with relevant areas of computing systems and formal foundations. While computational science investigates scientific computing applications that require mathematical techniques and parallel computing, data science explores data-intensive applications that use scalable statistical and machine learning methods with Big Data and Cloud platforms. These impart foundational and scalable systems skills for computational and data sciences, with advanced courses selected by students to allow specialization on methods, platforms, and applications.",
            "count": 1
           },
           {
            "name": "  Artificial Intelligence has captured the imagination of the entire world with its potential ability to solve complex societal problems of our times: universal access to healthcare and education, efficient transportation, increased efficiency in providing e-governance services to the public, etc. Focused national efforts are underway in many countries. The Government of India has initiated widespread discussion on how India should strive to be among the top nations in the world in the AI ecosystem. The two-year M.Tech. in Artificial Intelligence aims to fill the critical needs of the industry and to fill the gap in the availability of high-end AI scientists and engineers.�The vision of the M.Tech. (AI) program is to impart rigorous training in the foundations and deep technology of Artificial Intelligence to produce graduates who can become world leaders in AI and lead India's march towards leadership in this important area. Curriculum tailored to bring students to the forefront of AI research and development.\nProgramme designed and administered by more than 30 faculty members working in leading edge topics in AI (https://ai.iisc.ac.in/).\nOne year research and development project to make our students the creators of futuristic applications of AI.\nEmphasis on publications, patents, products, and software.\nState-of-the-art computational and experimental facilities at one of the top institutions in the country.\nExcellent placement opportunities in reputed companies and industrial research labs pursuing high end, deep technology aspects of AI.",
            "count": 1
           },
           {
            "name": "3 others",
            "count": 3
           }
          ]
         }
        },
        {
         "name": "header_tag",
         "dtype": "object",
         "stats": {
          "unique_count": 5,
          "nan_count": 0,
          "categories": [
           {
            "name": "['h1', 'h2', 'h3']",
            "count": 1
           },
           {
            "name": "['h1', 'h2']",
            "count": 1
           },
           {
            "name": "3 others",
            "count": 3
           }
          ]
         }
        },
        {
         "name": "header_names",
         "dtype": "object",
         "stats": {
          "unique_count": 5,
          "nan_count": 0,
          "categories": [
           {
            "name": "[['\\n\\t\\t\\tCourse Degree Admissions, 2021\\t\\t'], ['M.Tech. (Computational & Data Science) Admissions, 2021'], ['About the M.Tech. (CDS) Program', 'The M.Tech. (CDS) Admission Process']]",
            "count": 1
           },
           {
            "name": "[['MTech (AI) @ IISc'], ['Admissions 2021 – Application and deadline', 'Interview', 'Highlights of the programme', 'Further Details']]",
            "count": 1
           },
           {
            "name": "3 others",
            "count": 3
           }
          ]
         }
        },
        {
         "name": "links",
         "dtype": "object",
         "stats": {
          "unique_count": 5,
          "nan_count": 0,
          "categories": [
           {
            "name": "['https://iisc.ac.in/admissions/m-tech-m-des/', 'https://admissions.iisc.ac.in/', 'http://cds.iisc.ac.in/admissions/admissions-faq/', 'http://cds.iisc.ac.in/wp-content/uploads/MTech_CDS_Brochure_final.pdf', 'http://cds.iisc.ac.in/resources/fellowships/', 'https://cds.iisc.ac.in/wp-content/uploads/MTech_Brochure-2021.pdf', 'http://www.iisc.ac.in/admissions/', 'http://cds.iisc.ac.in/academics/mtechcds/', 'https://iisc.ac.in/admissions/m-tech-m-des', 'https://cds.iisc.ac.in/wp-content/uploads/sample-he-post-online.pdf']",
            "count": 1
           },
           {
            "name": "['https://ai.iisc.ac.in', 'https://admissions-august.iisc.ac.in/web/selectugpg.aspx', 'https://www.iisc.ac.in/admissions/', 'https://oir.iisc.ac.in/index.php/m-tech-course-program-admission/', 'https://eecs.iisc.ac.in/wp-content/uploads/2021/04/instructions.pdf', 'https://eecs.iisc.ac.in/m-tech-ai-frequently-asked-questions/', 'mailto:mtechoffice.ai@iisc.ac.in', 'https://www.csa.iisc.ac.in/', 'https://ece.iisc.ac.in/', 'http://www.ee.iisc.ac.in/', 'https://dese.iisc.ac.in/', 'https://ai.iisc.ac.in/', 'https://eecs.iisc.ac.in/mtech-ai-2019-2021/', 'https://eecs.iisc.ac.in/mtech-ai-2020-2022/', 'https://eecs.iisc.ac.in/wp-content/uploads/2021/02/MTechAICurriculum18February2021.pdf', 'https://eecs.iisc.ac.in/wp-content/uploads/2020/02/AI-Poster.pdf', 'https://eecs.iisc.ac.in/wp-content/uploads/2020/02/OnePageFlyer.pdf']",
            "count": 1
           },
           {
            "name": "3 others",
            "count": 3
           }
          ]
         }
        },
        {
         "name": "date_pub",
         "dtype": "object",
         "stats": {
          "unique_count": 3,
          "nan_count": 0,
          "categories": [
           {
            "name": "Not inferred",
            "count": 3
           },
           {
            "name": "21-11-2017",
            "count": 1
           },
           {
            "name": "01-01-2018",
            "count": 1
           }
          ]
         }
        },
        {
         "name": "date_last_mod",
         "dtype": "object",
         "stats": {
          "unique_count": 3,
          "nan_count": 0,
          "categories": [
           {
            "name": "Not inferred",
            "count": 3
           },
           {
            "name": "28-01-2019",
            "count": 1
           },
           {
            "name": "01-01-2018",
            "count": 1
           }
          ]
         }
        },
        {
         "name": "html_tags",
         "dtype": "object",
         "stats": {
          "unique_count": 5,
          "nan_count": 0,
          "categories": [
           {
            "name": "['header', 'h1', 'div', 'ul', 'li', 'span', 'strong', 'a', 'li', 'span', 'strong', 'a', 'li', 'span', 'strong', 'a', 'h2', 'p', 'strong', 'a', 'p', 'a', 'p', 'a', 'em', 'strong', 'p', 'strong', 'ul', 'li', 'a', 'li', 'span', 'a', 'li', 'span', 'ul', 'li', 'span', 'li', 'span', 'ul', 'li', 'li', 'b', 'b', 'strong', 'li', 'b', 'li', 'li', 'li', 'li', 'span', 'span', 'i', 'i', 'span', 'h3', 'p', 'p', 'a', 'h3', 'b', 'ul', 'li', 'a', 'li', 'li', 'a', 'li', 'i', 'li', 'li', 'li', 'li', 'ul', 'li', 'span', 'i', 'i', 'li', 'span', 'i', 'li', 'a', 'li', 'i', 'i', 'p', 'a', 'p', 'b', 'p', 'b', 'i', 'span']",
            "count": 1
           },
           {
            "name": "['h1', 'p', 'img', 'p', 'strong', 'a', 'p', 'h2', 'strong', 'p', 'a', 'p', 'p', 'strong', 'sup', 'p', 'strong', 'strong', 'strong', 'strong', 'a', 'p', 'strong', 'strong', 'a', 'h2', 'strong', 'p', 'strong', 'span', 'span', 'p', 'strong', 'p', 'strong', 'p', 'p', 'strong', 'a', 'p', 'span', 'img', 'p', 'strong', 'a', 'a', 'h2', 'ol', 'li', 'a', 'a', 'a', 'a', 'li', 'li', 'a', 'li', 'li', 'li', 'li', 'div', 'h2', 'p', 'a', 'p', 'a', 'p', 'a', 'a', 'a']",
            "count": 1
           },
           {
            "name": "3 others",
            "count": 3
           }
          ]
         }
        },
        {
         "name": "html_tag_freq",
         "dtype": "object",
         "stats": {
          "unique_count": 5,
          "nan_count": 0,
          "categories": [
           {
            "name": "{'header': 1, 'h1': 1, 'div': 1, 'ul': 6, 'li': 27, 'span': 13, 'strong': 7, 'a': 13, 'h2': 1, 'p': 9, 'em': 1, 'b': 6, 'i': 9, 'h3': 2}",
            "count": 1
           },
           {
            "name": "{'h1': 1, 'p': 18, 'img': 2, 'strong': 15, 'a': 17, 'h2': 4, 'sup': 1, 'span': 3, 'ol': 1, 'li': 7, 'div': 1}",
            "count": 1
           },
           {
            "name": "3 others",
            "count": 3
           }
          ]
         }
        },
        {
         "name": "html_emphasized_elements",
         "dtype": "object",
         "stats": {
          "unique_count": 5,
          "nan_count": 0,
          "categories": [
           {
            "name": "['the m.tech. (cds) admission process', 'download admissions brochure [pdf]', 'common offer acceptance portal (coap)', 'about the m.tech. (cds) program', 'programflyer', 'linear algebra/matrices, probability, and combinatorics', 'iisc online admissions application', 'iisc admissions website', 'course degree admissions, 2021', 'shortlist students', 'fluid/solid mechanics', '15 apr 2021', 'april 19-23, 2021', 'important dates:', '(https://coap.iitd.ac.in)', 'last updated on april 12, 2021', 'calculus and geometry', 'admissions faq', 'algorithms', 'data structures (arrays, matrices, etc.), and basic programming.', 'm.tech. (computational & data science) admissions, 2021', '2:30 pm – 4:00 pm', 'only with shortlisted candidates', 'for any queries/questions about admissions, please contact: chair.cds#iisc.ac.in (replace # with @)']",
            "count": 1
           },
           {
            "name": "['written test will be held online with remote login through a browser. more details:', 'n of india applicants:', 'date of written test: 15th april 2021', 'international applicants:', '23:59 ist on 31stmarch 2021', 'here', 'time: 9.00am to 10.30am', 'further details', 'e', 'mtech (ai) @ iisc', 'admissions 2021 – application and deadline', 'highlights of the programme', 'click here', 'if you have questions,please browse through thefaq to see if your question is already answered. if notplease send an email to', 'interview', 'indian and overseas citiz', 'due to the covid-19 pandemic, there will not be an interview for the candidates shortlisted based on the gate scores. instead, there will be an online test for m.tech. (artificial intelligence).the test will check the ability of the applicants.']",
            "count": 1
           },
           {
            "name": "3 others",
            "count": 3
           }
          ]
         }
        },
        {
         "name": "Data Gathering, Preparation and Exploration",
         "dtype": "float64",
         "stats": {
          "unique_count": 4,
          "nan_count": 0,
          "min": "0.0",
          "max": "0.1285714285714285",
          "histogram": [
           {
            "bin_start": 0,
            "bin_end": 0.01285714285714285,
            "count": 2
           },
           {
            "bin_start": 0.01285714285714285,
            "bin_end": 0.0257142857142857,
            "count": 0
           },
           {
            "bin_start": 0.0257142857142857,
            "bin_end": 0.03857142857142855,
            "count": 1
           },
           {
            "bin_start": 0.03857142857142855,
            "bin_end": 0.0514285714285714,
            "count": 0
           },
           {
            "bin_start": 0.0514285714285714,
            "bin_end": 0.06428571428571425,
            "count": 0
           },
           {
            "bin_start": 0.06428571428571425,
            "bin_end": 0.0771428571428571,
            "count": 0
           },
           {
            "bin_start": 0.0771428571428571,
            "bin_end": 0.08999999999999996,
            "count": 0
           },
           {
            "bin_start": 0.08999999999999996,
            "bin_end": 0.1028571428571428,
            "count": 1
           },
           {
            "bin_start": 0.1028571428571428,
            "bin_end": 0.11571428571428564,
            "count": 0
           },
           {
            "bin_start": 0.11571428571428564,
            "bin_end": 0.1285714285714285,
            "count": 1
           }
          ]
         }
        },
        {
         "name": "Data Representation and Transformation",
         "dtype": "float64",
         "stats": {
          "unique_count": 5,
          "nan_count": 0,
          "min": "0.1857142857142857",
          "max": "0.2727272727272727",
          "histogram": [
           {
            "bin_start": 0.1857142857142857,
            "bin_end": 0.1944155844155844,
            "count": 1
           },
           {
            "bin_start": 0.1944155844155844,
            "bin_end": 0.20311688311688308,
            "count": 1
           },
           {
            "bin_start": 0.20311688311688308,
            "bin_end": 0.2118181818181818,
            "count": 0
           },
           {
            "bin_start": 0.2118181818181818,
            "bin_end": 0.2205194805194805,
            "count": 0
           },
           {
            "bin_start": 0.2205194805194805,
            "bin_end": 0.2292207792207792,
            "count": 0
           },
           {
            "bin_start": 0.2292207792207792,
            "bin_end": 0.2379220779220779,
            "count": 1
           },
           {
            "bin_start": 0.2379220779220779,
            "bin_end": 0.2466233766233766,
            "count": 0
           },
           {
            "bin_start": 0.2466233766233766,
            "bin_end": 0.2553246753246753,
            "count": 0
           },
           {
            "bin_start": 0.2553246753246753,
            "bin_end": 0.264025974025974,
            "count": 1
           },
           {
            "bin_start": 0.264025974025974,
            "bin_end": 0.2727272727272727,
            "count": 1
           }
          ]
         }
        },
        {
         "name": "Computing with Data",
         "dtype": "float64",
         "stats": {
          "unique_count": 5,
          "nan_count": 0,
          "min": "0.3571428571428571",
          "max": "0.7",
          "histogram": [
           {
            "bin_start": 0.3571428571428571,
            "bin_end": 0.3914285714285714,
            "count": 1
           },
           {
            "bin_start": 0.3914285714285714,
            "bin_end": 0.42571428571428566,
            "count": 1
           },
           {
            "bin_start": 0.42571428571428566,
            "bin_end": 0.45999999999999996,
            "count": 1
           },
           {
            "bin_start": 0.45999999999999996,
            "bin_end": 0.4942857142857142,
            "count": 1
           },
           {
            "bin_start": 0.4942857142857142,
            "bin_end": 0.5285714285714285,
            "count": 0
           },
           {
            "bin_start": 0.5285714285714285,
            "bin_end": 0.5628571428571428,
            "count": 0
           },
           {
            "bin_start": 0.5628571428571428,
            "bin_end": 0.5971428571428571,
            "count": 0
           },
           {
            "bin_start": 0.5971428571428571,
            "bin_end": 0.6314285714285715,
            "count": 0
           },
           {
            "bin_start": 0.6314285714285715,
            "bin_end": 0.6657142857142857,
            "count": 0
           },
           {
            "bin_start": 0.6657142857142857,
            "bin_end": 0.7,
            "count": 1
           }
          ]
         }
        },
        {
         "name": "Data Modeling",
         "dtype": "float64",
         "stats": {
          "unique_count": 5,
          "nan_count": 0,
          "min": "0.0",
          "max": "0.2941176470588235",
          "histogram": [
           {
            "bin_start": 0,
            "bin_end": 0.02941176470588235,
            "count": 1
           },
           {
            "bin_start": 0.02941176470588235,
            "bin_end": 0.0588235294117647,
            "count": 0
           },
           {
            "bin_start": 0.0588235294117647,
            "bin_end": 0.08823529411764705,
            "count": 0
           },
           {
            "bin_start": 0.08823529411764705,
            "bin_end": 0.1176470588235294,
            "count": 1
           },
           {
            "bin_start": 0.1176470588235294,
            "bin_end": 0.14705882352941174,
            "count": 0
           },
           {
            "bin_start": 0.14705882352941174,
            "bin_end": 0.1764705882352941,
            "count": 1
           },
           {
            "bin_start": 0.1764705882352941,
            "bin_end": 0.20588235294117643,
            "count": 0
           },
           {
            "bin_start": 0.20588235294117643,
            "bin_end": 0.2352941176470588,
            "count": 1
           },
           {
            "bin_start": 0.2352941176470588,
            "bin_end": 0.2647058823529411,
            "count": 0
           },
           {
            "bin_start": 0.2647058823529411,
            "bin_end": 0.2941176470588235,
            "count": 1
           }
          ]
         }
        },
        {
         "name": "Data Visualization and Presentation",
         "dtype": "float64",
         "stats": {
          "unique_count": 5,
          "nan_count": 0,
          "min": "0.0",
          "max": "0.1571428571428571",
          "histogram": [
           {
            "bin_start": 0,
            "bin_end": 0.015714285714285712,
            "count": 1
           },
           {
            "bin_start": 0.015714285714285712,
            "bin_end": 0.031428571428571424,
            "count": 0
           },
           {
            "bin_start": 0.031428571428571424,
            "bin_end": 0.04714285714285714,
            "count": 0
           },
           {
            "bin_start": 0.04714285714285714,
            "bin_end": 0.06285714285714285,
            "count": 0
           },
           {
            "bin_start": 0.06285714285714285,
            "bin_end": 0.07857142857142856,
            "count": 1
           },
           {
            "bin_start": 0.07857142857142856,
            "bin_end": 0.09428571428571428,
            "count": 1
           },
           {
            "bin_start": 0.09428571428571428,
            "bin_end": 0.10999999999999999,
            "count": 1
           },
           {
            "bin_start": 0.10999999999999999,
            "bin_end": 0.1257142857142857,
            "count": 0
           },
           {
            "bin_start": 0.1257142857142857,
            "bin_end": 0.1414285714285714,
            "count": 0
           },
           {
            "bin_start": 0.1414285714285714,
            "bin_end": 0.1571428571428571,
            "count": 1
           }
          ]
         }
        },
        {
         "name": "Science about Data Science",
         "dtype": "float64",
         "stats": {
          "unique_count": 2,
          "nan_count": 0,
          "min": "0.0",
          "max": "0.0142857142857142",
          "histogram": [
           {
            "bin_start": 0,
            "bin_end": 0.0014285714285714201,
            "count": 4
           },
           {
            "bin_start": 0.0014285714285714201,
            "bin_end": 0.0028571428571428402,
            "count": 0
           },
           {
            "bin_start": 0.0028571428571428402,
            "bin_end": 0.004285714285714261,
            "count": 0
           },
           {
            "bin_start": 0.004285714285714261,
            "bin_end": 0.0057142857142856805,
            "count": 0
           },
           {
            "bin_start": 0.0057142857142856805,
            "bin_end": 0.0071428571428571,
            "count": 0
           },
           {
            "bin_start": 0.0071428571428571,
            "bin_end": 0.008571428571428522,
            "count": 0
           },
           {
            "bin_start": 0.008571428571428522,
            "bin_end": 0.009999999999999941,
            "count": 0
           },
           {
            "bin_start": 0.009999999999999941,
            "bin_end": 0.011428571428571361,
            "count": 0
           },
           {
            "bin_start": 0.011428571428571361,
            "bin_end": 0.01285714285714278,
            "count": 0
           },
           {
            "bin_start": 0.01285714285714278,
            "bin_end": 0.0142857142857142,
            "count": 1
           }
          ]
         }
        },
        {
         "name": "Not determinable",
         "dtype": "float64",
         "stats": {
          "unique_count": 1,
          "nan_count": 0,
          "min": "0.0",
          "max": "0.0",
          "histogram": [
           {
            "bin_start": -0.5,
            "bin_end": -0.4,
            "count": 0
           },
           {
            "bin_start": -0.4,
            "bin_end": -0.3,
            "count": 0
           },
           {
            "bin_start": -0.3,
            "bin_end": -0.19999999999999996,
            "count": 0
           },
           {
            "bin_start": -0.19999999999999996,
            "bin_end": -0.09999999999999998,
            "count": 0
           },
           {
            "bin_start": -0.09999999999999998,
            "bin_end": 0,
            "count": 0
           },
           {
            "bin_start": 0,
            "bin_end": 0.10000000000000009,
            "count": 5
           },
           {
            "bin_start": 0.10000000000000009,
            "bin_end": 0.20000000000000007,
            "count": 0
           },
           {
            "bin_start": 0.20000000000000007,
            "bin_end": 0.30000000000000004,
            "count": 0
           },
           {
            "bin_start": 0.30000000000000004,
            "bin_end": 0.4,
            "count": 0
           },
           {
            "bin_start": 0.4,
            "bin_end": 0.5,
            "count": 0
           }
          ]
         }
        },
        {
         "name": "country",
         "dtype": "object",
         "stats": {
          "unique_count": 1,
          "nan_count": 0,
          "categories": [
           {
            "name": "India",
            "count": 5
           }
          ]
         }
        },
        {
         "name": "gds_mean",
         "dtype": "float64",
         "stats": {
          "unique_count": 1,
          "nan_count": 0,
          "min": "0.1666666666666666",
          "max": "0.1666666666666666",
          "histogram": [
           {
            "bin_start": -0.33333333333333337,
            "bin_end": -0.23333333333333336,
            "count": 0
           },
           {
            "bin_start": -0.23333333333333336,
            "bin_end": -0.13333333333333336,
            "count": 0
           },
           {
            "bin_start": -0.13333333333333336,
            "bin_end": -0.033333333333333326,
            "count": 0
           },
           {
            "bin_start": -0.033333333333333326,
            "bin_end": 0.06666666666666665,
            "count": 0
           },
           {
            "bin_start": 0.06666666666666665,
            "bin_end": 0.16666666666666663,
            "count": 5
           },
           {
            "bin_start": 0.16666666666666663,
            "bin_end": 0.2666666666666667,
            "count": 0
           },
           {
            "bin_start": 0.2666666666666667,
            "bin_end": 0.3666666666666667,
            "count": 0
           },
           {
            "bin_start": 0.3666666666666667,
            "bin_end": 0.4666666666666667,
            "count": 0
           },
           {
            "bin_start": 0.4666666666666667,
            "bin_end": 0.5666666666666667,
            "count": 0
           },
           {
            "bin_start": 0.5666666666666667,
            "bin_end": 0.6666666666666666,
            "count": 0
           }
          ]
         }
        },
        {
         "name": "gds_stdev",
         "dtype": "float64",
         "stats": {
          "unique_count": 5,
          "nan_count": 0,
          "min": "0.1109022981181686",
          "max": "0.2732520204255892",
          "histogram": [
           {
            "bin_start": 0.1109022981181686,
            "bin_end": 0.12713727034891065,
            "count": 1
           },
           {
            "bin_start": 0.12713727034891065,
            "bin_end": 0.14337224257965273,
            "count": 0
           },
           {
            "bin_start": 0.14337224257965273,
            "bin_end": 0.15960721481039478,
            "count": 0
           },
           {
            "bin_start": 0.15960721481039478,
            "bin_end": 0.17584218704113685,
            "count": 2
           },
           {
            "bin_start": 0.17584218704113685,
            "bin_end": 0.1920771592718789,
            "count": 0
           },
           {
            "bin_start": 0.1920771592718789,
            "bin_end": 0.20831213150262096,
            "count": 1
           },
           {
            "bin_start": 0.20831213150262096,
            "bin_end": 0.224547103733363,
            "count": 0
           },
           {
            "bin_start": 0.224547103733363,
            "bin_end": 0.24078207596410509,
            "count": 0
           },
           {
            "bin_start": 0.24078207596410509,
            "bin_end": 0.25701704819484716,
            "count": 0
           },
           {
            "bin_start": 0.25701704819484716,
            "bin_end": 0.2732520204255892,
            "count": 1
           }
          ]
         }
        },
        {
         "name": "band",
         "dtype": "object",
         "stats": {
          "unique_count": 2,
          "nan_count": 0,
          "categories": [
           {
            "name": "Band 3",
            "count": 3
           },
           {
            "name": "Band 2",
            "count": 2
           }
          ]
         }
        },
        {
         "name": "subject",
         "dtype": "object",
         "stats": {
          "unique_count": 2,
          "nan_count": 0,
          "categories": [
           {
            "name": "Analytics",
            "count": 4
           },
           {
            "name": "Data Science",
            "count": 1
           }
          ]
         }
        },
        {
         "name": "dept",
         "dtype": "object",
         "stats": {
          "unique_count": 5,
          "nan_count": 0,
          "categories": [
           {
            "name": "Computational and Data Sciences",
            "count": 1
           },
           {
            "name": "Electrical Communication Engineering",
            "count": 1
           },
           {
            "name": "3 others",
            "count": 3
           }
          ]
         }
        },
        {
         "name": "dept_cat",
         "dtype": "object",
         "stats": {
          "unique_count": 4,
          "nan_count": 0,
          "categories": [
           {
            "name": "Engineering-related",
            "count": 2
           },
           {
            "name": "Data-related",
            "count": 1
           },
           {
            "name": "2 others",
            "count": 2
           }
          ]
         }
        },
        {
         "name": "_deepnote_index_column",
         "dtype": "int64"
        }
       ],
       "rows_top": [
        {
         "uni_name": "Indian Institute of Science Bangalore",
         "pgm_name": "M.Tech. Computational and Data Science",
         "dur_yrs": "2",
         "type": "Public",
         "national_rank_qs": 2,
         "dept_involved": "Department of Computational and Data Sciences",
         "location": "Karnataka",
         "url": "http://cds.iisc.ac.in/admissions/course-degrees/",
         "descr": "Computational Science and Data Science are interdisciplinary areas that bring together the domain s…",
         "header_tag": "['h1', 'h2', 'h3']",
         "header_names": "[['\\n\\t\\t\\tCourse Degree Admissions, 2021\\t\\t'], ['M.Tech. (Computational & Data Science) Admission…",
         "links": "['https://iisc.ac.in/admissions/m-tech-m-des/', 'https://admissions.iisc.ac.in/', 'http://cds.iisc.…",
         "date_pub": "Not inferred",
         "date_last_mod": "Not inferred",
         "html_tags": "['header', 'h1', 'div', 'ul', 'li', 'span', 'strong', 'a', 'li', 'span', 'strong', 'a', 'li', 'span…",
         "html_tag_freq": "{'header': 1, 'h1': 1, 'div': 1, 'ul': 6, 'li': 27, 'span': 13, 'strong': 7, 'a': 13, 'h2': 1, 'p':…",
         "html_emphasized_elements": "['the m.tech. (cds) admission process', 'download admissions brochure [pdf]', 'common offer accepta…",
         "Data Gathering, Preparation and Exploration": 0.0909090909090909,
         "Data Representation and Transformation": 0.2727272727272727,
         "Computing with Data": 0.4545454545454545,
         "Data Modeling": 0.0909090909090909,
         "Data Visualization and Presentation": 0.0909090909090909,
         "Science about Data Science": 0,
         "Not determinable": 0,
         "country": "India",
         "gds_mean": 0.1666666666666666,
         "gds_stdev": 0.1668043508427016,
         "band": "Band 3",
         "subject": "Analytics",
         "dept": "Computational and Data Sciences",
         "dept_cat": "Data-related",
         "_deepnote_index_column": 0
        },
        {
         "uni_name": "Indian Institute of Science Bangalore",
         "pgm_name": "M.Tech. Artificial Intelligence",
         "dur_yrs": "2",
         "type": "Public",
         "national_rank_qs": 2,
         "dept_involved": "Departments of Computer Science and Automation, Electrical Communication Engineering, Electrical En…",
         "location": "Karnataka",
         "url": "https://eecs.iisc.ac.in/mtechai/",
         "descr": "  Artificial Intelligence has captured the imagination of the entire world with its potential abili…",
         "header_tag": "['h1', 'h2']",
         "header_names": "[['MTech (AI) @ IISc'], ['Admissions 2021 – Application and deadline', 'Interview', 'Highlights of …",
         "links": "['https://ai.iisc.ac.in', 'https://admissions-august.iisc.ac.in/web/selectugpg.aspx', 'https://www.…",
         "date_pub": "Not inferred",
         "date_last_mod": "Not inferred",
         "html_tags": "['h1', 'p', 'img', 'p', 'strong', 'a', 'p', 'h2', 'strong', 'p', 'a', 'p', 'p', 'strong', 'sup', 'p…",
         "html_tag_freq": "{'h1': 1, 'p': 18, 'img': 2, 'strong': 15, 'a': 17, 'h2': 4, 'sup': 1, 'span': 3, 'ol': 1, 'li': 7,…",
         "html_emphasized_elements": "['written test will be held online with remote login through a browser. more details:', 'n of india…",
         "Data Gathering, Preparation and Exploration": 0,
         "Data Representation and Transformation": 0.2352941176470588,
         "Computing with Data": 0.4705882352941176,
         "Data Modeling": 0.2941176470588235,
         "Data Visualization and Presentation": 0,
         "Science about Data Science": 0,
         "Not determinable": 0,
         "country": "India",
         "gds_mean": 0.1666666666666666,
         "gds_stdev": 0.1983205146429848,
         "band": "Band 3",
         "subject": "Analytics",
         "dept": "Electrical Communication Engineering",
         "dept_cat": "Engineering-related",
         "_deepnote_index_column": 1
        },
        {
         "uni_name": "University of Hyderabad",
         "pgm_name": "MBA Business Analytics",
         "dur_yrs": "2",
         "type": "Public",
         "national_rank_qs": 8,
         "dept_involved": "School of Management Studies",
         "location": "Telangana",
         "url": "https://smsuoh.ac.in/mba/mba-business-analytics/",
         "descr": " The School has launched a two year MBA in Business Analytics programme with an intake of 30 studen…",
         "header_tag": "['h2', 'h4']",
         "header_names": "[['MBA Business Analytics'], ['Highlights of the Programme', 'Course Curriculum and Programme Deliv…",
         "links": "no links in useful area",
         "date_pub": "21-11-2017",
         "date_last_mod": "28-01-2019",
         "html_tags": "['article', 'div', 'h2', 'p', 'h4', 'ul', 'li', 'li', 'li', 'li', 'li', 'h4', 'p', 'h4', 'p', 'h4',…",
         "html_tag_freq": "{'article': 1, 'div': 1, 'h2': 1, 'p': 9, 'h4': 7, 'ul': 1, 'li': 5, 'table': 1, 'tbody': 1, 'tr': …",
         "html_emphasized_elements": "['guest lectures', 'semester-4', 'continuous evaluation', 'placements', 'year 1', 'semester 2', 'su…",
         "Data Gathering, Preparation and Exploration": 0.1285714285714285,
         "Data Representation and Transformation": 0.1857142857142857,
         "Computing with Data": 0.3571428571428571,
         "Data Modeling": 0.1571428571428571,
         "Data Visualization and Presentation": 0.1571428571428571,
         "Science about Data Science": 0.0142857142857142,
         "Not determinable": 0,
         "country": "India",
         "gds_mean": 0.1666666666666666,
         "gds_stdev": 0.1109022981181686,
         "band": "Band 2",
         "subject": "Analytics",
         "dept": "Management Studies",
         "dept_cat": "Management-related",
         "_deepnote_index_column": 2
        },
        {
         "uni_name": "University of Hyderabad",
         "pgm_name": "M.Tech. Artificial Intelligence",
         "dur_yrs": "2",
         "type": "Public",
         "national_rank_qs": 8,
         "dept_involved": "School of Computer and Information Sciences",
         "location": "Telangana",
         "url": "https://scis.uohyd.ac.in/Academic/Programmes/mtechai_program.php",
         "descr": " M.Tech Artificial Intelligence is also a four-semester course including two semesters of course wo…",
         "header_tag": "['h2']",
         "header_names": "[['Master of Technology in Artificial Intelligence']]",
         "links": "['./mtechaiold_program.php', './mtechainew_program.php', './mtechai2016_program.php', 'mtechaioptio…",
         "date_pub": "01-01-2018",
         "date_last_mod": "01-01-2018",
         "html_tags": "['div', 'h2', 'p', 'b', 'ul', 'li', 'a', 'li', 'a', 'li', 'a', 'li', 'a']",
         "html_tag_freq": "{'div': 1, 'h2': 1, 'p': 1, 'b': 1, 'ul': 1, 'li': 4, 'a': 4}",
         "html_emphasized_elements": "['m.tech artificial intelligence', 'master of technology in artificial intelligence']",
         "Data Gathering, Preparation and Exploration": 0,
         "Data Representation and Transformation": 0.2,
         "Computing with Data": 0.7,
         "Data Modeling": 0,
         "Data Visualization and Presentation": 0.1,
         "Science about Data Science": 0,
         "Not determinable": 0,
         "country": "India",
         "gds_mean": 0.1666666666666666,
         "gds_stdev": 0.2732520204255892,
         "band": "Band 3",
         "subject": "Analytics",
         "dept": "Computer and Information Sciences",
         "dept_cat": "Engineering-related",
         "_deepnote_index_column": 3
        },
        {
         "uni_name": "IIT Guwahati",
         "pgm_name": "M.Tech Data Science",
         "dur_yrs": "2",
         "type": "Public",
         "national_rank_qs": 10,
         "dept_involved": "Departments of Computer Science and Engineering, Electronics and Electrical Engineering and Mathema…",
         "location": "Assam",
         "url": "https://www.iitg.ac.in/ds/",
         "descr": " Data Science is gaining prominence in academia and industry. Data science witnessing applications …",
         "header_tag": "Not inferred",
         "header_names": "Not inferred",
         "links": "Not inferred",
         "date_pub": "Not inferred",
         "date_last_mod": "Not inferred",
         "html_tags": "Not inferred",
         "html_tag_freq": "Not inferred",
         "html_emphasized_elements": "Not inferred",
         "Data Gathering, Preparation and Exploration": 0.032258064516129,
         "Data Representation and Transformation": 0.2580645161290322,
         "Computing with Data": 0.4193548387096774,
         "Data Modeling": 0.2258064516129032,
         "Data Visualization and Presentation": 0.064516129032258,
         "Science about Data Science": 0,
         "Not determinable": 0,
         "country": "India",
         "gds_mean": 0.1666666666666666,
         "gds_stdev": 0.1624688128774926,
         "band": "Band 2",
         "subject": "Data Science",
         "dept": "Electronics and Electrical Engineering and Mathematics",
         "dept_cat": "Engineering-related, Statistics-related",
         "_deepnote_index_column": 4
        }
       ],
       "rows_bottom": null
      },
      "text/plain": "                                uni_name  \\\n0  Indian Institute of Science Bangalore   \n1  Indian Institute of Science Bangalore   \n2                University of Hyderabad   \n3                University of Hyderabad   \n4                           IIT Guwahati   \n\n                                 pgm_name dur_yrs    type  national_rank_qs  \\\n0  M.Tech. Computational and Data Science       2  Public                 2   \n1         M.Tech. Artificial Intelligence       2  Public                 2   \n2                  MBA Business Analytics       2  Public                 8   \n3         M.Tech. Artificial Intelligence       2  Public                 8   \n4                     M.Tech Data Science       2  Public                10   \n\n                                       dept_involved   location  \\\n0      Department of Computational and Data Sciences  Karnataka   \n1  Departments of Computer Science and Automation...  Karnataka   \n2                       School of Management Studies  Telangana   \n3        School of Computer and Information Sciences  Telangana   \n4  Departments of Computer Science and Engineerin...      Assam   \n\n                                                 url  \\\n0   http://cds.iisc.ac.in/admissions/course-degrees/   \n1                   https://eecs.iisc.ac.in/mtechai/   \n2   https://smsuoh.ac.in/mba/mba-business-analytics/   \n3  https://scis.uohyd.ac.in/Academic/Programmes/m...   \n4                         https://www.iitg.ac.in/ds/   \n\n                                               descr          header_tag  ...  \\\n0  Computational Science and Data Science are int...  ['h1', 'h2', 'h3']  ...   \n1    Artificial Intelligence has captured the ima...        ['h1', 'h2']  ...   \n2   The School has launched a two year MBA in Bus...        ['h2', 'h4']  ...   \n3   M.Tech Artificial Intelligence is also a four...              ['h2']  ...   \n4   Data Science is gaining prominence in academi...        Not inferred  ...   \n\n  Data Visualization and Presentation Science about Data Science  \\\n0                            0.090909                   0.000000   \n1                            0.000000                   0.000000   \n2                            0.157143                   0.014286   \n3                            0.100000                   0.000000   \n4                            0.064516                   0.000000   \n\n  Not determinable country  gds_mean gds_stdev    band       subject  \\\n0              0.0   India  0.166667  0.166804  Band 3     Analytics   \n1              0.0   India  0.166667  0.198321  Band 3     Analytics   \n2              0.0   India  0.166667  0.110902  Band 2     Analytics   \n3              0.0   India  0.166667  0.273252  Band 3     Analytics   \n4              0.0   India  0.166667  0.162469  Band 2  Data Science   \n\n                                                dept  \\\n0                    Computational and Data Sciences   \n1               Electrical Communication Engineering   \n2                                 Management Studies   \n3                  Computer and Information Sciences   \n4  Electronics and Electrical Engineering and Mat...   \n\n                                  dept_cat  \n0                             Data-related  \n1                      Engineering-related  \n2                       Management-related  \n3                      Engineering-related  \n4  Engineering-related, Statistics-related  \n\n[5 rows x 31 columns]",
      "text/html": "<div>\n<style scoped>\n    .dataframe tbody tr th:only-of-type {\n        vertical-align: middle;\n    }\n\n    .dataframe tbody tr th {\n        vertical-align: top;\n    }\n\n    .dataframe thead th {\n        text-align: right;\n    }\n</style>\n<table border=\"1\" class=\"dataframe\">\n  <thead>\n    <tr style=\"text-align: right;\">\n      <th></th>\n      <th>uni_name</th>\n      <th>pgm_name</th>\n      <th>dur_yrs</th>\n      <th>type</th>\n      <th>national_rank_qs</th>\n      <th>dept_involved</th>\n      <th>location</th>\n      <th>url</th>\n      <th>descr</th>\n      <th>header_tag</th>\n      <th>...</th>\n      <th>Data Visualization and Presentation</th>\n      <th>Science about Data Science</th>\n      <th>Not determinable</th>\n      <th>country</th>\n      <th>gds_mean</th>\n      <th>gds_stdev</th>\n      <th>band</th>\n      <th>subject</th>\n      <th>dept</th>\n      <th>dept_cat</th>\n    </tr>\n  </thead>\n  <tbody>\n    <tr>\n      <th>0</th>\n      <td>Indian Institute of Science Bangalore</td>\n      <td>M.Tech. Computational and Data Science</td>\n      <td>2</td>\n      <td>Public</td>\n      <td>2</td>\n      <td>Department of Computational and Data Sciences</td>\n      <td>Karnataka</td>\n      <td>http://cds.iisc.ac.in/admissions/course-degrees/</td>\n      <td>Computational Science and Data Science are int...</td>\n      <td>['h1', 'h2', 'h3']</td>\n      <td>...</td>\n      <td>0.090909</td>\n      <td>0.000000</td>\n      <td>0.0</td>\n      <td>India</td>\n      <td>0.166667</td>\n      <td>0.166804</td>\n      <td>Band 3</td>\n      <td>Analytics</td>\n      <td>Computational and Data Sciences</td>\n      <td>Data-related</td>\n    </tr>\n    <tr>\n      <th>1</th>\n      <td>Indian Institute of Science Bangalore</td>\n      <td>M.Tech. Artificial Intelligence</td>\n      <td>2</td>\n      <td>Public</td>\n      <td>2</td>\n      <td>Departments of Computer Science and Automation...</td>\n      <td>Karnataka</td>\n      <td>https://eecs.iisc.ac.in/mtechai/</td>\n      <td>Artificial Intelligence has captured the ima...</td>\n      <td>['h1', 'h2']</td>\n      <td>...</td>\n      <td>0.000000</td>\n      <td>0.000000</td>\n      <td>0.0</td>\n      <td>India</td>\n      <td>0.166667</td>\n      <td>0.198321</td>\n      <td>Band 3</td>\n      <td>Analytics</td>\n      <td>Electrical Communication Engineering</td>\n      <td>Engineering-related</td>\n    </tr>\n    <tr>\n      <th>2</th>\n      <td>University of Hyderabad</td>\n      <td>MBA Business Analytics</td>\n      <td>2</td>\n      <td>Public</td>\n      <td>8</td>\n      <td>School of Management Studies</td>\n      <td>Telangana</td>\n      <td>https://smsuoh.ac.in/mba/mba-business-analytics/</td>\n      <td>The School has launched a two year MBA in Bus...</td>\n      <td>['h2', 'h4']</td>\n      <td>...</td>\n      <td>0.157143</td>\n      <td>0.014286</td>\n      <td>0.0</td>\n      <td>India</td>\n      <td>0.166667</td>\n      <td>0.110902</td>\n      <td>Band 2</td>\n      <td>Analytics</td>\n      <td>Management Studies</td>\n      <td>Management-related</td>\n    </tr>\n    <tr>\n      <th>3</th>\n      <td>University of Hyderabad</td>\n      <td>M.Tech. Artificial Intelligence</td>\n      <td>2</td>\n      <td>Public</td>\n      <td>8</td>\n      <td>School of Computer and Information Sciences</td>\n      <td>Telangana</td>\n      <td>https://scis.uohyd.ac.in/Academic/Programmes/m...</td>\n      <td>M.Tech Artificial Intelligence is also a four...</td>\n      <td>['h2']</td>\n      <td>...</td>\n      <td>0.100000</td>\n      <td>0.000000</td>\n      <td>0.0</td>\n      <td>India</td>\n      <td>0.166667</td>\n      <td>0.273252</td>\n      <td>Band 3</td>\n      <td>Analytics</td>\n      <td>Computer and Information Sciences</td>\n      <td>Engineering-related</td>\n    </tr>\n    <tr>\n      <th>4</th>\n      <td>IIT Guwahati</td>\n      <td>M.Tech Data Science</td>\n      <td>2</td>\n      <td>Public</td>\n      <td>10</td>\n      <td>Departments of Computer Science and Engineerin...</td>\n      <td>Assam</td>\n      <td>https://www.iitg.ac.in/ds/</td>\n      <td>Data Science is gaining prominence in academi...</td>\n      <td>Not inferred</td>\n      <td>...</td>\n      <td>0.064516</td>\n      <td>0.000000</td>\n      <td>0.0</td>\n      <td>India</td>\n      <td>0.166667</td>\n      <td>0.162469</td>\n      <td>Band 2</td>\n      <td>Data Science</td>\n      <td>Electronics and Electrical Engineering and Mat...</td>\n      <td>Engineering-related, Statistics-related</td>\n    </tr>\n  </tbody>\n</table>\n<p>5 rows × 31 columns</p>\n</div>"
     },
     "metadata": {}
    }
   ],
   "execution_count": null
  },
  {
   "cell_type": "code",
   "source": "sns.countplot(y='dept_cat', data=df, order = df['dept_cat'].value_counts().index)\nplt.show()",
   "metadata": {
    "tags": [],
    "cell_id": "00008-e8989f64-e92c-4460-9184-be7ca35ab39e",
    "deepnote_to_be_reexecuted": false,
    "source_hash": "a35c5e33",
    "execution_start": 1626550488978,
    "execution_millis": 288,
    "deepnote_cell_type": "code"
   },
   "outputs": [
    {
     "data": {
      "text/plain": "<Figure size 432x288 with 1 Axes>",
      "image/png": "[encoded data removed]"
     },
     "metadata": {
      "needs_background": "light",
      "image/png": {
       "width": 581,
       "height": 262
      }
     },
     "output_type": "display_data"
    }
   ],
   "execution_count": null
  },
  {
   "cell_type": "code",
   "source": "plt.figure(figsize=(15,8))\nsns.countplot(x='country', data=df, hue='subject')\nplt.show()",
   "metadata": {
    "tags": [],
    "cell_id": "00011-440a0f34-7e0e-46c3-b4f9-c0466f3cdf98",
    "deepnote_to_be_reexecuted": false,
    "source_hash": "88ce2fd6",
    "execution_start": 1626550878267,
    "execution_millis": 481,
    "deepnote_cell_type": "code"
   },
   "outputs": [
    {
     "data": {
      "text/plain": "<Figure size 1080x576 with 1 Axes>",
      "image/png": "[encoded data removed]"
     },
     "metadata": {
      "needs_background": "light",
      "image/png": {
       "width": 885,
       "height": 480
      }
     },
     "output_type": "display_data"
    }
   ],
   "execution_count": null
  },
  {
   "cell_type": "code",
   "source": "sns.boxplot(data=df, x='gds_stdev', y='country')",
   "metadata": {
    "tags": [],
    "cell_id": "00011-fb49b25d-37e0-415c-955f-f7fd638b68f5",
    "deepnote_to_be_reexecuted": false,
    "source_hash": "d3415d90",
    "execution_start": 1626550988273,
    "execution_millis": 159,
    "deepnote_cell_type": "code"
   },
   "outputs": [
    {
     "output_type": "execute_result",
     "execution_count": 83,
     "data": {
      "text/plain": "<AxesSubplot:xlabel='gds_stdev', ylabel='country'>"
     },
     "metadata": {}
    },
    {
     "data": {
      "text/plain": "<Figure size 432x288 with 1 Axes>",
      "image/png": "[encoded data removed]"
     },
     "metadata": {
      "needs_background": "light",
      "image/png": {
       "width": 394,
       "height": 263
      }
     },
     "output_type": "display_data"
    }
   ],
   "execution_count": null
  },
  {
   "cell_type": "code",
   "source": "plt.figure(figsize=(12,8))\nsns.boxplot(data=df, x='gds_stdev', y='dept_cat', hue='country')",
   "metadata": {
    "tags": [],
    "cell_id": "00011-6e2d93a4-89a3-4701-9233-e623e017435f",
    "deepnote_to_be_reexecuted": false,
    "source_hash": "5331fa91",
    "execution_start": 1626551608005,
    "execution_millis": 693,
    "deepnote_cell_type": "code"
   },
   "outputs": [
    {
     "output_type": "execute_result",
     "execution_count": 95,
     "data": {
      "text/plain": "<AxesSubplot:xlabel='gds_stdev', ylabel='dept_cat'>"
     },
     "metadata": {}
    },
    {
     "data": {
      "text/plain": "<Figure size 864x576 with 1 Axes>",
      "image/png": "[encoded data removed]"
     },
     "metadata": {
      "needs_background": "light",
      "image/png": {
       "width": 916,
       "height": 481
      }
     },
     "output_type": "display_data"
    }
   ],
   "execution_count": null
  },
  {
   "cell_type": "code",
   "source": "plt.figure(figsize=(12,8))\nsns.boxplot(data=df, x='gds_stdev', y='country', hue='type')",
   "metadata": {
    "tags": [],
    "cell_id": "00014-315f025b-4380-4707-b0ff-a37fd1ebd36c",
    "deepnote_to_be_reexecuted": false,
    "source_hash": "976342ee",
    "execution_start": 1626551701455,
    "execution_millis": 309,
    "deepnote_cell_type": "code"
   },
   "outputs": [
    {
     "output_type": "execute_result",
     "execution_count": 97,
     "data": {
      "text/plain": "<AxesSubplot:xlabel='gds_stdev', ylabel='country'>"
     },
     "metadata": {}
    },
    {
     "data": {
      "text/plain": "<Figure size 864x576 with 1 Axes>",
      "image/png": "[encoded data removed]"
     },
     "metadata": {
      "needs_background": "light",
      "image/png": {
       "width": 729,
       "height": 481
      }
     },
     "output_type": "display_data"
    }
   ],
   "execution_count": null
  },
  {
   "cell_type": "code",
   "source": "sns.boxplot(data=df, x='gds_stdev', y='subject', hue='type') # does not necessarily make sense",
   "metadata": {
    "tags": [],
    "cell_id": "00010-dd0cfc7f-2284-420f-92e6-4770a5467e74",
    "deepnote_to_be_reexecuted": false,
    "source_hash": "8e3f81df",
    "execution_start": 1626551740555,
    "execution_millis": 844,
    "deepnote_cell_type": "code"
   },
   "outputs": [
    {
     "output_type": "execute_result",
     "execution_count": 99,
     "data": {
      "text/plain": "<AxesSubplot:xlabel='gds_stdev', ylabel='subject'>"
     },
     "metadata": {}
    },
    {
     "data": {
      "text/plain": "<Figure size 432x288 with 1 Axes>",
      "image/png": "[encoded data removed]"
     },
     "metadata": {
      "needs_background": "light",
      "image/png": {
       "width": 568,
       "height": 263
      }
     },
     "output_type": "display_data"
    }
   ],
   "execution_count": null
  },
  {
   "cell_type": "code",
   "source": "temp = df.groupby(['subject', 'dept_cat'], as_index=False).agg({'uni_name': 'count', 'gds_stdev': 'median'}).sort_values(by='gds_stdev')\ntemp[(temp.uni_name > 1) & (temp.dept_cat != 'Other') & (temp.subject != 'Misc')] # atleast 2 programs",
   "metadata": {
    "tags": [],
    "cell_id": "00015-c9ca0ff5-60d4-4cf6-9587-ad4de6beb628",
    "deepnote_to_be_reexecuted": false,
    "source_hash": "32b0c5db",
    "execution_start": 1626551517842,
    "execution_millis": 10,
    "deepnote_cell_type": "code"
   },
   "outputs": [
    {
     "output_type": "execute_result",
     "execution_count": 93,
     "data": {
      "application/vnd.deepnote.dataframe.v2+json": {
       "row_count": 16,
       "column_count": 4,
       "columns": [
        {
         "name": "subject",
         "dtype": "object",
         "stats": {
          "unique_count": 4,
          "nan_count": 0,
          "categories": [
           {
            "name": "Business Analytics",
            "count": 5
           },
           {
            "name": "Artificial Intelligence",
            "count": 4
           },
           {
            "name": "2 others",
            "count": 7
           }
          ]
         }
        },
        {
         "name": "dept_cat",
         "dtype": "object",
         "stats": {
          "unique_count": 6,
          "nan_count": 0,
          "categories": [
           {
            "name": "Data-related",
            "count": 4
           },
           {
            "name": "Management-related",
            "count": 4
           },
           {
            "name": "4 others",
            "count": 8
           }
          ]
         }
        },
        {
         "name": "uni_name",
         "dtype": "int64",
         "stats": {
          "unique_count": 7,
          "nan_count": 0,
          "min": "2",
          "max": "19",
          "histogram": [
           {
            "bin_start": 2,
            "bin_end": 3.7,
            "count": 8
           },
           {
            "bin_start": 3.7,
            "bin_end": 5.4,
            "count": 3
           },
           {
            "bin_start": 5.4,
            "bin_end": 7.1,
            "count": 3
           },
           {
            "bin_start": 7.1,
            "bin_end": 8.8,
            "count": 0
           },
           {
            "bin_start": 8.8,
            "bin_end": 10.5,
            "count": 1
           },
           {
            "bin_start": 10.5,
            "bin_end": 12.2,
            "count": 0
           },
           {
            "bin_start": 12.2,
            "bin_end": 13.9,
            "count": 0
           },
           {
            "bin_start": 13.9,
            "bin_end": 15.6,
            "count": 0
           },
           {
            "bin_start": 15.6,
            "bin_end": 17.299999999999997,
            "count": 0
           },
           {
            "bin_start": 17.299999999999997,
            "bin_end": 19,
            "count": 1
           }
          ]
         }
        },
        {
         "name": "gds_stdev",
         "dtype": "float64",
         "stats": {
          "unique_count": 16,
          "nan_count": 0,
          "min": "0.0731422876227092",
          "max": "0.16522648731537995",
          "histogram": [
           {
            "bin_start": 0.0731422876227092,
            "bin_end": 0.08235070759197628,
            "count": 1
           },
           {
            "bin_start": 0.08235070759197628,
            "bin_end": 0.09155912756124335,
            "count": 2
           },
           {
            "bin_start": 0.09155912756124335,
            "bin_end": 0.10076754753051043,
            "count": 2
           },
           {
            "bin_start": 0.10076754753051043,
            "bin_end": 0.1099759674997775,
            "count": 1
           },
           {
            "bin_start": 0.1099759674997775,
            "bin_end": 0.11918438746904458,
            "count": 1
           },
           {
            "bin_start": 0.11918438746904458,
            "bin_end": 0.12839280743831166,
            "count": 3
           },
           {
            "bin_start": 0.12839280743831166,
            "bin_end": 0.13760122740757874,
            "count": 1
           },
           {
            "bin_start": 0.13760122740757874,
            "bin_end": 0.14680964737684582,
            "count": 2
           },
           {
            "bin_start": 0.14680964737684582,
            "bin_end": 0.1560180673461129,
            "count": 1
           },
           {
            "bin_start": 0.1560180673461129,
            "bin_end": 0.16522648731537995,
            "count": 2
           }
          ]
         }
        },
        {
         "name": "_deepnote_index_column",
         "dtype": "int64"
        }
       ],
       "rows_top": [
        {
         "subject": "Business Analytics",
         "dept_cat": "Data-related",
         "uni_name": 7,
         "gds_stdev": 0.0731422876227092,
         "_deepnote_index_column": 13
        },
        {
         "subject": "Artificial Intelligence",
         "dept_cat": "Management-related",
         "uni_name": 2,
         "gds_stdev": 0.08564396758598075,
         "_deepnote_index_column": 9
        },
        {
         "subject": "Data Science",
         "dept_cat": "Management-related",
         "uni_name": 7,
         "gds_stdev": 0.0865858908463514,
         "_deepnote_index_column": 23
        },
        {
         "subject": "Analytics",
         "dept_cat": "Management-related",
         "uni_name": 10,
         "gds_stdev": 0.0932773869583528,
         "_deepnote_index_column": 3
        },
        {
         "subject": "Data Science",
         "dept_cat": "Management-related, Engineering-related",
         "uni_name": 2,
         "gds_stdev": 0.0937218176686895,
         "_deepnote_index_column": 24
        },
        {
         "subject": "Business Analytics",
         "dept_cat": "Management-related",
         "uni_name": 5,
         "gds_stdev": 0.1075389503870115,
         "_deepnote_index_column": 16
        },
        {
         "subject": "Artificial Intelligence",
         "dept_cat": "Social-related",
         "uni_name": 3,
         "gds_stdev": 0.1118033988749894,
         "_deepnote_index_column": 11
        },
        {
         "subject": "Business Analytics",
         "dept_cat": "Engineering-related",
         "uni_name": 4,
         "gds_stdev": 0.12488582732512366,
         "_deepnote_index_column": 15
        },
        {
         "subject": "Analytics",
         "dept_cat": "Data-related",
         "uni_name": 2,
         "gds_stdev": 0.12522287834963305,
         "_deepnote_index_column": 0
        },
        {
         "subject": "Business Analytics",
         "dept_cat": "Social-related",
         "uni_name": 3,
         "gds_stdev": 0.1263812574008591,
         "_deepnote_index_column": 18
        },
        {
         "subject": "Data Science",
         "dept_cat": "Engineering-related",
         "uni_name": 19,
         "gds_stdev": 0.1338425649767161,
         "_deepnote_index_column": 21
        },
        {
         "subject": "Artificial Intelligence",
         "dept_cat": "Data-related",
         "uni_name": 2,
         "gds_stdev": 0.14050012121365935,
         "_deepnote_index_column": 7
        },
        {
         "subject": "Artificial Intelligence",
         "dept_cat": "Engineering-related",
         "uni_name": 4,
         "gds_stdev": 0.14099567864886875,
         "_deepnote_index_column": 8
        },
        {
         "subject": "Analytics",
         "dept_cat": "Engineering-related",
         "uni_name": 7,
         "gds_stdev": 0.1505545305418162,
         "_deepnote_index_column": 1
        },
        {
         "subject": "Business Analytics",
         "dept_cat": "Data-related, Statistics-related",
         "uni_name": 2,
         "gds_stdev": 0.1586794406922589,
         "_deepnote_index_column": 14
        },
        {
         "subject": "Data Science",
         "dept_cat": "Data-related",
         "uni_name": 2,
         "gds_stdev": 0.16522648731537995,
         "_deepnote_index_column": 20
        }
       ],
       "rows_bottom": null
      },
      "text/plain": "                    subject                                 dept_cat  \\\n13       Business Analytics                             Data-related   \n9   Artificial Intelligence                       Management-related   \n23             Data Science                       Management-related   \n3                 Analytics                       Management-related   \n24             Data Science  Management-related, Engineering-related   \n16       Business Analytics                       Management-related   \n11  Artificial Intelligence                           Social-related   \n15       Business Analytics                      Engineering-related   \n0                 Analytics                             Data-related   \n18       Business Analytics                           Social-related   \n21             Data Science                      Engineering-related   \n7   Artificial Intelligence                             Data-related   \n8   Artificial Intelligence                      Engineering-related   \n1                 Analytics                      Engineering-related   \n14       Business Analytics         Data-related, Statistics-related   \n20             Data Science                             Data-related   \n\n    uni_name  gds_stdev  \n13         7   0.073142  \n9          2   0.085644  \n23         7   0.086586  \n3         10   0.093277  \n24         2   0.093722  \n16         5   0.107539  \n11         3   0.111803  \n15         4   0.124886  \n0          2   0.125223  \n18         3   0.126381  \n21        19   0.133843  \n7          2   0.140500  \n8          4   0.140996  \n1          7   0.150555  \n14         2   0.158679  \n20         2   0.165226  ",
      "text/html": "<div>\n<style scoped>\n    .dataframe tbody tr th:only-of-type {\n        vertical-align: middle;\n    }\n\n    .dataframe tbody tr th {\n        vertical-align: top;\n    }\n\n    .dataframe thead th {\n        text-align: right;\n    }\n</style>\n<table border=\"1\" class=\"dataframe\">\n  <thead>\n    <tr style=\"text-align: right;\">\n      <th></th>\n      <th>subject</th>\n      <th>dept_cat</th>\n      <th>uni_name</th>\n      <th>gds_stdev</th>\n    </tr>\n  </thead>\n  <tbody>\n    <tr>\n      <th>13</th>\n      <td>Business Analytics</td>\n      <td>Data-related</td>\n      <td>7</td>\n      <td>0.073142</td>\n    </tr>\n    <tr>\n      <th>9</th>\n      <td>Artificial Intelligence</td>\n      <td>Management-related</td>\n      <td>2</td>\n      <td>0.085644</td>\n    </tr>\n    <tr>\n      <th>23</th>\n      <td>Data Science</td>\n      <td>Management-related</td>\n      <td>7</td>\n      <td>0.086586</td>\n    </tr>\n    <tr>\n      <th>3</th>\n      <td>Analytics</td>\n      <td>Management-related</td>\n      <td>10</td>\n      <td>0.093277</td>\n    </tr>\n    <tr>\n      <th>24</th>\n      <td>Data Science</td>\n      <td>Management-related, Engineering-related</td>\n      <td>2</td>\n      <td>0.093722</td>\n    </tr>\n    <tr>\n      <th>16</th>\n      <td>Business Analytics</td>\n      <td>Management-related</td>\n      <td>5</td>\n      <td>0.107539</td>\n    </tr>\n    <tr>\n      <th>11</th>\n      <td>Artificial Intelligence</td>\n      <td>Social-related</td>\n      <td>3</td>\n      <td>0.111803</td>\n    </tr>\n    <tr>\n      <th>15</th>\n      <td>Business Analytics</td>\n      <td>Engineering-related</td>\n      <td>4</td>\n      <td>0.124886</td>\n    </tr>\n    <tr>\n      <th>0</th>\n      <td>Analytics</td>\n      <td>Data-related</td>\n      <td>2</td>\n      <td>0.125223</td>\n    </tr>\n    <tr>\n      <th>18</th>\n      <td>Business Analytics</td>\n      <td>Social-related</td>\n      <td>3</td>\n      <td>0.126381</td>\n    </tr>\n    <tr>\n      <th>21</th>\n      <td>Data Science</td>\n      <td>Engineering-related</td>\n      <td>19</td>\n      <td>0.133843</td>\n    </tr>\n    <tr>\n      <th>7</th>\n      <td>Artificial Intelligence</td>\n      <td>Data-related</td>\n      <td>2</td>\n      <td>0.140500</td>\n    </tr>\n    <tr>\n      <th>8</th>\n      <td>Artificial Intelligence</td>\n      <td>Engineering-related</td>\n      <td>4</td>\n      <td>0.140996</td>\n    </tr>\n    <tr>\n      <th>1</th>\n      <td>Analytics</td>\n      <td>Engineering-related</td>\n      <td>7</td>\n      <td>0.150555</td>\n    </tr>\n    <tr>\n      <th>14</th>\n      <td>Business Analytics</td>\n      <td>Data-related, Statistics-related</td>\n      <td>2</td>\n      <td>0.158679</td>\n    </tr>\n    <tr>\n      <th>20</th>\n      <td>Data Science</td>\n      <td>Data-related</td>\n      <td>2</td>\n      <td>0.165226</td>\n    </tr>\n  </tbody>\n</table>\n</div>"
     },
     "metadata": {}
    }
   ],
   "execution_count": null
  },
  {
   "cell_type": "code",
   "source": "df['year_pub'] = df.date_pub.apply(lambda x: pd.to_datetime(x).year if x != 'Not inferred' else x)\ndf['year_last_mod'] = df.date_last_mod.apply(lambda x: pd.to_datetime(x).year if x != 'Not inferred' else x)",
   "metadata": {
    "tags": [],
    "cell_id": "00016-040aaa87-ddeb-4e03-a952-46d6aeca4b4d",
    "deepnote_to_be_reexecuted": false,
    "source_hash": "d4435e78",
    "execution_start": 1626552630314,
    "execution_millis": 33,
    "deepnote_cell_type": "code"
   },
   "outputs": [],
   "execution_count": null
  },
  {
   "cell_type": "code",
   "source": "sns.boxplot(data=df, y='year_pub', x='gds_stdev')",
   "metadata": {
    "tags": [],
    "cell_id": "00018-3b8e9d1d-c78a-4756-98b2-3e14040378b1",
    "deepnote_to_be_reexecuted": false,
    "source_hash": "89312d0e",
    "execution_start": 1626553307035,
    "execution_millis": 846,
    "deepnote_cell_type": "code"
   },
   "outputs": [
    {
     "output_type": "execute_result",
     "execution_count": 146,
     "data": {
      "text/plain": "<AxesSubplot:xlabel='gds_stdev', ylabel='year_pub'>"
     },
     "metadata": {}
    },
    {
     "data": {
      "text/plain": "<Figure size 432x288 with 1 Axes>",
      "image/png": "[encoded data removed]"
     },
     "metadata": {
      "needs_background": "light",
      "image/png": {
       "width": 430,
       "height": 263
      }
     },
     "output_type": "display_data"
    }
   ],
   "execution_count": null
  },
  {
   "cell_type": "code",
   "source": "sns.countplot(data=df, y='year_pub', hue='country')",
   "metadata": {
    "tags": [],
    "cell_id": "00017-15fed786-074b-4e5f-80f6-aa73764f2f47",
    "deepnote_to_be_reexecuted": false,
    "source_hash": "2cab5ffb",
    "execution_start": 1626553082341,
    "execution_millis": 294,
    "deepnote_cell_type": "code"
   },
   "outputs": [
    {
     "output_type": "execute_result",
     "execution_count": 140,
     "data": {
      "text/plain": "<AxesSubplot:xlabel='count', ylabel='year_pub'>"
     },
     "metadata": {}
    },
    {
     "data": {
      "text/plain": "<Figure size 432x288 with 1 Axes>",
      "image/png": "[encoded data removed]"
     },
     "metadata": {
      "needs_background": "light",
      "image/png": {
       "width": 430,
       "height": 262
      }
     },
     "output_type": "display_data"
    }
   ],
   "execution_count": null
  },
  {
   "cell_type": "code",
   "source": "sns.countplot(data=df, y='year_last_mod', hue='country')",
   "metadata": {
    "tags": [],
    "cell_id": "00019-65d56c22-8230-4169-b9a3-616a5577e1fc",
    "deepnote_to_be_reexecuted": false,
    "source_hash": "a507d730",
    "execution_start": 1626553146455,
    "execution_millis": 264,
    "deepnote_cell_type": "code"
   },
   "outputs": [
    {
     "output_type": "execute_result",
     "execution_count": 141,
     "data": {
      "text/plain": "<AxesSubplot:xlabel='count', ylabel='year_last_mod'>"
     },
     "metadata": {}
    },
    {
     "data": {
      "text/plain": "<Figure size 432x288 with 1 Axes>",
      "image/png": "[encoded data removed]"
     },
     "metadata": {
      "needs_background": "light",
      "image/png": {
       "width": 430,
       "height": 262
      }
     },
     "output_type": "display_data"
    }
   ],
   "execution_count": null
  },
  {
   "cell_type": "code",
   "source": "sns.countplot(data=df, y='year_last_mod', hue='type')",
   "metadata": {
    "tags": [],
    "cell_id": "00020-7f9afe78-e88e-4cd9-904f-9273b78e4fde",
    "deepnote_to_be_reexecuted": false,
    "source_hash": "c6a5fa81",
    "execution_start": 1626553159289,
    "execution_millis": 334,
    "deepnote_cell_type": "code"
   },
   "outputs": [
    {
     "output_type": "execute_result",
     "execution_count": 142,
     "data": {
      "text/plain": "<AxesSubplot:xlabel='count', ylabel='year_last_mod'>"
     },
     "metadata": {}
    },
    {
     "data": {
      "text/plain": "<Figure size 432x288 with 1 Axes>",
      "image/png": "[encoded data removed]"
     },
     "metadata": {
      "needs_background": "light",
      "image/png": {
       "width": 430,
       "height": 262
      }
     },
     "output_type": "display_data"
    }
   ],
   "execution_count": null
  },
  {
   "cell_type": "code",
   "metadata": {
    "tags": [],
    "cell_id": "00002-2ae03e14-9f00-4a6f-b80b-baf47b4004f6",
    "deepnote_to_be_reexecuted": false,
    "source_hash": "82015a0c",
    "execution_start": 1626501243971,
    "execution_millis": 40,
    "deepnote_cell_type": "code"
   },
   "source": "test_doc = df.descr[0]\ntp = TextPreprocessor(test_doc)\nprint(tp.preprocess_text())",
   "execution_count": null,
   "outputs": [
    {
     "name": "stdout",
     "text": "computational science data science interdisciplinary areas bring domain specific knowledge science engineering relevant areas computing systems formal foundations computational science investigates scientific computing applications require mathematical techniques parallel computing data science explores dataintensive applications use scalable statistical machine learning methods big data cloud platforms impart foundational scalable systems skills computational data sciences advanced courses selected students allow specialization methods platforms applications\n",
     "output_type": "stream"
    }
   ]
  },
  {
   "cell_type": "markdown",
   "source": "def __init__(self, text):\n        self.text = text\n        self.doc = nlp(text)\n        self.sentences = re.split(r' *[\\.\\?!][\\'\"\\)\\]]*[ |\\n](?=[A-Z])', self.text)\n        self.words = []\n\n    def count_units(self):\n        self.char_cnt = len(self.text)\n        self.syll_cnt = textstat.syllable_count(self.text)\n        self.word_cnt = textstat.lexicon_count(self.text)\n        self.sent_cnt = textstat.sentence_count(self.text)\n    \n\n    def digits_cnt(self):\n        return None\n\n    def puncts_cnt(self):\n        return None\n\n    def mean_chars_per_word(self):\n        self.mean_chars_per_word = self.char_cnt\n\n    def median_chars_per_word(self):\n        return None    \n\n    def mean_words_per_sent(self):\n        return None\n\n    def median_words_per_sent(self):\n        return None \n\n    def mean_syll_per_sent(self):\n        return None\n\n    def median_syll_per_sent(self):\n        return None    \n    \n    def flesch_kincaid_readability(self):\n        self.flesch_kincaid = textstat.flesch_kincaid_grade(self.text)\n\n    def dale_chall_readability(self):\n        self.dale_chall = textstat.dale_chall_readability_score(self.text)\n\n    def lexical_diversity_mtld(self):\n        return None\n\n    def noun_cnt(self):\n        return None\n\n    def verb_cnt(self):\n        return None\n    \n    def adj_cnt(self):\n        return None",
   "metadata": {
    "tags": [],
    "cell_id": "00003-aebdda70-3d8e-4fbf-904e-5e69190edcc1",
    "deepnote_cell_type": "markdown"
   }
  },
  {
   "cell_type": "code",
   "metadata": {
    "tags": [],
    "cell_id": "00003-e4c1f780-7a60-4e40-b68a-11f7126580ba",
    "deepnote_to_be_reexecuted": false,
    "source_hash": "df223085",
    "execution_start": 1626501244006,
    "execution_millis": 5,
    "deepnote_cell_type": "code"
   },
   "source": "len(tp.preprocess_text())",
   "execution_count": null,
   "outputs": [
    {
     "output_type": "execute_result",
     "execution_count": 4,
     "data": {
      "text/plain": "565"
     },
     "metadata": {}
    }
   ]
  },
  {
   "cell_type": "code",
   "metadata": {
    "tags": [],
    "cell_id": "00004-ea5d6184-eac5-4e47-b4fa-49e8c9b697c9",
    "deepnote_to_be_reexecuted": false,
    "source_hash": "b4d1c659",
    "execution_start": 1626501244007,
    "execution_millis": 38,
    "deepnote_cell_type": "code"
   },
   "source": "doc = nlp(test_doc)\ntokens = [token for token in doc]",
   "execution_count": null,
   "outputs": []
  },
  {
   "cell_type": "code",
   "metadata": {
    "tags": [],
    "cell_id": "00006-2ef83475-014f-4657-a73b-0d4e4677adb0",
    "deepnote_to_be_reexecuted": false,
    "source_hash": "c3c1e34e",
    "execution_start": 1626501244045,
    "execution_millis": 7,
    "deepnote_cell_type": "code"
   },
   "source": "import textstat\ntextstat.lexicon_count(test_doc)",
   "execution_count": null,
   "outputs": [
    {
     "output_type": "execute_result",
     "execution_count": 6,
     "data": {
      "text/plain": "87"
     },
     "metadata": {}
    }
   ]
  },
  {
   "cell_type": "code",
   "metadata": {
    "tags": [],
    "cell_id": "00006-9c70ef4d-b188-4b42-933e-3982d5056e11",
    "deepnote_to_be_reexecuted": false,
    "source_hash": "b884e725",
    "execution_start": 1626501244046,
    "execution_millis": 6,
    "deepnote_cell_type": "code"
   },
   "source": "len(tokens)    ",
   "execution_count": null,
   "outputs": [
    {
     "output_type": "execute_result",
     "execution_count": 7,
     "data": {
      "text/plain": "96"
     },
     "metadata": {}
    }
   ]
  },
  {
   "cell_type": "code",
   "metadata": {
    "tags": [],
    "cell_id": "00007-cb5032aa-6eb4-4799-861e-e84ff406b415",
    "deepnote_to_be_reexecuted": false,
    "source_hash": "badeedab",
    "execution_start": 1626501244047,
    "execution_millis": 5,
    "deepnote_cell_type": "code"
   },
   "source": "words = [tok for tok in tokens if not(tok.is_punct or tok.is_digit)]\nlen(words)",
   "execution_count": null,
   "outputs": [
    {
     "output_type": "execute_result",
     "execution_count": 8,
     "data": {
      "text/plain": "88"
     },
     "metadata": {}
    }
   ]
  },
  {
   "cell_type": "code",
   "metadata": {
    "tags": [],
    "cell_id": "00008-424ac68b-811c-400e-a769-1d20cb6db2e7",
    "deepnote_to_be_reexecuted": false,
    "source_hash": "55cc05da",
    "execution_start": 1626501244093,
    "execution_millis": 5,
    "deepnote_cell_type": "code"
   },
   "source": "[tok for tok in tokens if (tok.is_punct or tok.is_digit)]",
   "execution_count": null,
   "outputs": [
    {
     "output_type": "execute_result",
     "execution_count": 9,
     "data": {
      "text/plain": "[., ,, -, ., ,, ,, ,, .]"
     },
     "metadata": {}
    }
   ]
  },
  {
   "cell_type": "code",
   "metadata": {
    "tags": [],
    "cell_id": "00006-c65821eb-2f69-4e26-9916-110df6d6a6d7",
    "deepnote_to_be_reexecuted": false,
    "source_hash": "820fb598",
    "execution_start": 1626501244093,
    "execution_millis": 5,
    "deepnote_cell_type": "code"
   },
   "source": "tok = tokens[0]\nprint(tok.lex)\nprint(tok.sent)\nprint(tok.text)\nprint(tok.ent_type_)\nprint(tok.lemma_)\nprint(tok.norm_)\nprint(tok.lower_)\nprint(tok.is_alpha)\nprint(tok.is_digit)\nprint(tok.is_punct)\nprint(tok.like_num)\nprint(tok.is_stop)\nprint(tok.pos_)\nprint(tok.tag_)\nprint(tok.morph)\nprint(tok.morph.get(\"Number\"))\nprint(tok.sentiment)",
   "execution_count": null,
   "outputs": [
    {
     "name": "stdout",
     "text": "<spacy.lexeme.Lexeme object at 0x7f350c1ea730>\nComputational Science and Data Science are interdisciplinary areas that bring together the domain specific knowledge of science and engineering with relevant areas of computing systems and formal foundations.\nComputational\n\nComputational\ncomputational\ncomputational\nTrue\nFalse\nFalse\nFalse\nFalse\nPROPN\nNNP\nNounType=Prop|Number=Sing\n['Sing']\n0.0\n",
     "output_type": "stream"
    }
   ]
  },
  {
   "cell_type": "code",
   "metadata": {
    "tags": [],
    "cell_id": "00007-89251fe3-f155-41bc-9cb4-a2dc27f36e22",
    "deepnote_to_be_reexecuted": false,
    "source_hash": "58b573f7",
    "execution_start": 1626501244094,
    "execution_millis": 5,
    "deepnote_cell_type": "code"
   },
   "source": "[token for token in doc if token.pos_ == \"ADV\"]",
   "execution_count": null,
   "outputs": [
    {
     "output_type": "execute_result",
     "execution_count": 11,
     "data": {
      "text/plain": "[together]"
     },
     "metadata": {}
    }
   ]
  },
  {
   "cell_type": "code",
   "metadata": {
    "tags": [],
    "cell_id": "00013-5588435e-9b66-4e96-915a-fb3112a7edef",
    "deepnote_to_be_reexecuted": false,
    "source_hash": "378f1ae1",
    "execution_start": 1626501244142,
    "execution_millis": 0,
    "deepnote_cell_type": "code"
   },
   "source": "from text_operations import ComplexityComputer",
   "execution_count": null,
   "outputs": []
  },
  {
   "cell_type": "code",
   "metadata": {
    "tags": [],
    "cell_id": "00014-6a113005-c903-4f6f-a83e-542f8214bb68",
    "deepnote_to_be_reexecuted": false,
    "source_hash": "6234a3d2",
    "execution_start": 1626501244142,
    "execution_millis": 43,
    "deepnote_cell_type": "code"
   },
   "source": "c = ComplexityComputer(test_doc)",
   "execution_count": null,
   "outputs": []
  },
  {
   "cell_type": "code",
   "metadata": {
    "tags": [],
    "cell_id": "00014-3d7ea210-ee80-47f9-9019-e581ba19e6f2",
    "deepnote_to_be_reexecuted": false,
    "source_hash": "a6d8259a",
    "execution_start": 1626501387889,
    "execution_millis": 14,
    "deepnote_cell_type": "code"
   },
   "source": "df.loc[1, 'descr']",
   "execution_count": null,
   "outputs": [
    {
     "output_type": "execute_result",
     "execution_count": 21,
     "data": {
      "text/plain": "\"  Artificial Intelligence has captured the imagination of the entire world with its potential ability to solve complex societal problems of our times: universal access to healthcare and education, efficient transportation, increased efficiency in providing e-governance services to the public, etc. Focused national efforts are underway in many countries. The Government of India has initiated widespread discussion on how India should strive to be among the top nations in the world in the AI ecosystem. The two-year M.Tech. in Artificial Intelligence aims to fill the critical needs of the industry and to fill the gap in the availability of high-end AI scientists and engineers.�The vision of the M.Tech. (AI) program is to impart rigorous training in the foundations and deep technology of Artificial Intelligence to produce graduates who can become world leaders in AI and lead India's march towards leadership in this important area. Curriculum tailored to bring students to the forefront of AI research and development.\\nProgramme designed and administered by more than 30 faculty members working in leading edge topics in AI (https://ai.iisc.ac.in/).\\nOne year research and development project to make our students the creators of futuristic applications of AI.\\nEmphasis on publications, patents, products, and software.\\nState-of-the-art computational and experimental facilities at one of the top institutions in the country.\\nExcellent placement opportunities in reputed companies and industrial research labs pursuing high end, deep technology aspects of AI.\""
     },
     "metadata": {}
    }
   ]
  },
  {
   "cell_type": "code",
   "metadata": {
    "tags": [],
    "cell_id": "00015-2a061a2c-d8aa-4bb8-82e8-0cbd3bdccc56",
    "deepnote_to_be_reexecuted": false,
    "source_hash": "109f1732",
    "execution_start": 1626501569605,
    "execution_millis": 5831,
    "deepnote_cell_type": "code"
   },
   "source": "textual_complexity_df = ComplexityComputer(df.loc[0, 'descr']).get_complexity_measures()\nfor idx in range(1, df.shape[0]):\n    temp = ComplexityComputer(df.loc[idx, 'descr']).get_complexity_measures()\n    textual_complexity_df = pd.concat([textual_complexity_df, temp])\n\ntextual_complexity_df = textual_complexity_df.reset_index(drop=True)",
   "execution_count": null,
   "outputs": []
  },
  {
   "cell_type": "code",
   "metadata": {
    "tags": [],
    "cell_id": "00016-20258904-cbea-449a-bd5e-ee50bef36678",
    "deepnote_to_be_reexecuted": false,
    "source_hash": "66eaab6",
    "execution_start": 1626502846645,
    "execution_millis": 3,
    "deepnote_cell_type": "code"
   },
   "source": "df = pd.merge(df, textual_complexity_df, left_on='descr', right_on='text')\ndf = df.drop('text', axis=1)",
   "execution_count": null,
   "outputs": []
  },
  {
   "cell_type": "code",
   "metadata": {
    "tags": [],
    "cell_id": "00017-ef30c708-d4f6-4404-928e-c7f122184b51",
    "deepnote_to_be_reexecuted": false,
    "source_hash": "f804c160",
    "execution_start": 1626502853336,
    "execution_millis": 210,
    "deepnote_cell_type": "code"
   },
   "source": "df",
   "execution_count": null,
   "outputs": [
    {
     "output_type": "execute_result",
     "execution_count": 32,
     "data": {
      "application/vnd.deepnote.dataframe.v2+json": {
       "row_count": 117,
       "column_count": 44,
       "columns": [
        {
         "name": "uni_name",
         "dtype": "object",
         "stats": {
          "unique_count": 55,
          "nan_count": 0,
          "categories": [
           {
            "name": "University of Southern California",
            "count": 11
           },
           {
            "name": "Amity University",
            "count": 6
           },
           {
            "name": "53 others",
            "count": 100
           }
          ]
         }
        },
        {
         "name": "pgm_name",
         "dtype": "object",
         "stats": {
          "unique_count": 69,
          "nan_count": 0,
          "categories": [
           {
            "name": "Master of Science in Business Analytics",
            "count": 15
           },
           {
            "name": "Master of Science in Data Science",
            "count": 12
           },
           {
            "name": "67 others",
            "count": 90
           }
          ]
         }
        },
        {
         "name": "dur_yrs",
         "dtype": "object",
         "stats": {
          "unique_count": 5,
          "nan_count": 0,
          "categories": [
           {
            "name": "2",
            "count": 36
           },
           {
            "name": "2.0",
            "count": 26
           },
           {
            "name": "3 others",
            "count": 55
           }
          ]
         }
        },
        {
         "name": "type",
         "dtype": "object",
         "stats": {
          "unique_count": 2,
          "nan_count": 0,
          "categories": [
           {
            "name": "Private",
            "count": 75
           },
           {
            "name": "Public",
            "count": 42
           }
          ]
         }
        },
        {
         "name": "national_rank_qs",
         "dtype": "int64",
         "stats": {
          "unique_count": 36,
          "nan_count": 0,
          "min": "1",
          "max": "49",
          "histogram": [
           {
            "bin_start": 1,
            "bin_end": 5.8,
            "count": 8
           },
           {
            "bin_start": 5.8,
            "bin_end": 10.6,
            "count": 10
           },
           {
            "bin_start": 10.6,
            "bin_end": 15.399999999999999,
            "count": 19
           },
           {
            "bin_start": 15.399999999999999,
            "bin_end": 20.2,
            "count": 10
           },
           {
            "bin_start": 20.2,
            "bin_end": 25,
            "count": 14
           },
           {
            "bin_start": 25,
            "bin_end": 29.799999999999997,
            "count": 10
           },
           {
            "bin_start": 29.799999999999997,
            "bin_end": 34.6,
            "count": 7
           },
           {
            "bin_start": 34.6,
            "bin_end": 39.4,
            "count": 7
           },
           {
            "bin_start": 39.4,
            "bin_end": 44.199999999999996,
            "count": 19
           },
           {
            "bin_start": 44.199999999999996,
            "bin_end": 49,
            "count": 13
           }
          ]
         }
        },
        {
         "name": "dept_involved",
         "dtype": "object",
         "stats": {
          "unique_count": 71,
          "nan_count": 0,
          "categories": [
           {
            "name": "School of Business",
            "count": 13
           },
           {
            "name": "Department of Computer Science",
            "count": 8
           },
           {
            "name": "69 others",
            "count": 96
           }
          ]
         }
        },
        {
         "name": "location",
         "dtype": "object",
         "stats": {
          "unique_count": 43,
          "nan_count": 0,
          "categories": [
           {
            "name": "Los Angeles",
            "count": 12
           },
           {
            "name": "Tamil Nadu",
            "count": 8
           },
           {
            "name": "41 others",
            "count": 97
           }
          ]
         }
        },
        {
         "name": "url",
         "dtype": "object",
         "stats": {
          "unique_count": 111,
          "nan_count": 0,
          "categories": [
           {
            "name": "https://www.amity.edu/course-details.aspx?fd=FzNymoX3dH0=&cfn=KUotC6PR9J4=",
            "count": 3
           },
           {
            "name": "https://www.amity.edu/course-details.aspx?fd=FzNymoX3dH0=&cfn=3uCNBL0py1ph7Zq4+WjP0w==&CD=3uCNBL0py1ph7Zq4+WjP0w==",
            "count": 3
           },
           {
            "name": "109 others",
            "count": 111
           }
          ]
         }
        },
        {
         "name": "descr",
         "dtype": "object",
         "stats": {
          "unique_count": 109,
          "nan_count": 0,
          "categories": [
           {
            "name": "Not inferred",
            "count": 9
           },
           {
            "name": "Computational Science and Data Science are interdisciplinary areas that bring together the domain specific knowledge of science and engineering with relevant areas of computing systems and formal foundations. While computational science investigates scientific computing applications that require mathematical techniques and parallel computing, data science explores data-intensive applications that use scalable statistical and machine learning methods with Big Data and Cloud platforms. These impart foundational and scalable systems skills for computational and data sciences, with advanced courses selected by students to allow specialization on methods, platforms, and applications.",
            "count": 1
           },
           {
            "name": "107 others",
            "count": 107
           }
          ]
         }
        },
        {
         "name": "header_tag",
         "dtype": "object",
         "stats": {
          "unique_count": 40,
          "nan_count": 0,
          "categories": [
           {
            "name": "['h1', 'h2', 'h3']",
            "count": 14
           },
           {
            "name": "Not inferred",
            "count": 14
           },
           {
            "name": "38 others",
            "count": 89
           }
          ]
         }
        },
        {
         "name": "header_names",
         "dtype": "object",
         "stats": {
          "unique_count": 98,
          "nan_count": 0,
          "categories": [
           {
            "name": "Not inferred",
            "count": 14
           },
           {
            "name": "[['Browse Course', '1st Year ', '2nd Year ', 'Eligibility', 'Selection Process'], ['M.Tech (Data Science)'], ['Program Code 10684', 'Semester 1', 'Semester 2', 'Semester 3', 'Semester 4'], ['Course Structure']]",
            "count": 3
           },
           {
            "name": "96 others",
            "count": 100
           }
          ]
         }
        },
        {
         "name": "links",
         "dtype": "object",
         "stats": {
          "unique_count": 98,
          "nan_count": 0,
          "categories": [
           {
            "name": "Not inferred",
            "count": 14
           },
           {
            "name": "['program-detail2.html', '#', 'javascript:void(0);', \"javascript:__doPostBack('ctl00$ContentPlaceHolder1$linkbtnapply','')\", '#recognitions1', '#recognitions2']",
            "count": 6
           },
           {
            "name": "96 others",
            "count": 97
           }
          ]
         }
        },
        {
         "name": "date_pub",
         "dtype": "object",
         "stats": {
          "unique_count": 59,
          "nan_count": 0,
          "categories": [
           {
            "name": "Not inferred",
            "count": 32
           },
           {
            "name": "2021-01-01",
            "count": 12
           },
           {
            "name": "57 others",
            "count": 73
           }
          ]
         }
        },
        {
         "name": "date_last_mod",
         "dtype": "object",
         "stats": {
          "unique_count": 54,
          "nan_count": 0,
          "categories": [
           {
            "name": "Not inferred",
            "count": 32
           },
           {
            "name": "2021-01-01",
            "count": 14
           },
           {
            "name": "52 others",
            "count": 71
           }
          ]
         }
        },
        {
         "name": "html_tags",
         "dtype": "object",
         "stats": {
          "unique_count": 100,
          "nan_count": 0,
          "categories": [
           {
            "name": "Not inferred",
            "count": 14
           },
           {
            "name": "['div', 'div', 'div', 'h4', 'ul', 'li', 'a', 'li', 'a', 'li', 'a', 'h1', 'section', 'div', 'div', 'h3', 'span', 'div', 'div', 'div', 'div', 'div', 'div', 'div', 'div', 'p', 'strong', 'div', 'p', 'strong', 'div', 'p', 'strong', 'div', 'div', 'p', 'strong', 'span', 'a', 'i', 'div', 'p', 'strong', 'div', 'p', 'strong', 'span', 'a', 'i', 'div', 'div', 'div', 'ul', 'li', 'span', 'strong', 'span', 'li', 'span', 'span', 'li', 'span', 'span', 'div', 'a', 'span', 'section', 'div', 'h2', 'ul', 'li', 'a', 'span', 'li', 'a', 'span', 'div', 'h4', 'span', 'div', 'div', 'div', 'h3', 'ul', 'li', 'li', 'li', 'li', 'li', 'li', 'li', 'li', 'li', 'li', 'li', 'li', 'div', 'h3', 'ul', 'li', 'li', 'li', 'li', 'li', 'li', 'li', 'li', 'li', 'li', 'li', 'li', 'h4', 'span', 'div', 'div', 'div', 'h3', 'ul', 'li', 'li', 'li', 'li', 'li', 'li', 'li', 'li', 'li', 'li', 'li', 'li', 'li', 'div', 'h3', 'ul', 'li', 'li', 'li', 'li', 'div', 'div', 'div', 'div', 'div', 'div', 'div', 'div', 'div', 'div', 'div', 'button', 'span', 'h4', 'div', 'div', 'div', 'p', 'p', 'div', 'div', 'div', 'div', 'div', 'button', 'span', 'h4', 'div', 'div', 'div', 'p']",
            "count": 3
           },
           {
            "name": "98 others",
            "count": 100
           }
          ]
         }
        },
        {
         "name": "html_tag_freq",
         "dtype": "object",
         "stats": {
          "unique_count": 100,
          "nan_count": 0,
          "categories": [
           {
            "name": "Not inferred",
            "count": 14
           },
           {
            "name": "{'div': 55, 'h4': 5, 'ul': 7, 'li': 49, 'a': 8, 'h1': 1, 'section': 2, 'h3': 5, 'span': 16, 'p': 9, 'strong': 7, 'i': 2, 'h2': 1, 'button': 2}",
            "count": 3
           },
           {
            "name": "98 others",
            "count": 100
           }
          ]
         }
        },
        {
         "name": "html_emphasized_elements",
         "dtype": "object",
         "stats": {
          "unique_count": 100,
          "nan_count": 0,
          "categories": [
           {
            "name": "Not inferred",
            "count": 14
           },
           {
            "name": "['semester 3', 'university', 'semester 2', '1st year', 'campus', 'eligibility', 'semester 1', 'selection process', 'duration', 'program fee', 'institute', 'm.tech (data science)', 'course structure', '2nd year', 'semester 4', 'program code 10684', 'browse course']",
            "count": 3
           },
           {
            "name": "98 others",
            "count": 100
           }
          ]
         }
        },
        {
         "name": "Data Gathering, Preparation and Exploration",
         "dtype": "float64",
         "stats": {
          "unique_count": 53,
          "nan_count": 0,
          "min": "0.0",
          "max": "0.24",
          "histogram": [
           {
            "bin_start": 0,
            "bin_end": 0.024,
            "count": 10
           },
           {
            "bin_start": 0.024,
            "bin_end": 0.048,
            "count": 2
           },
           {
            "bin_start": 0.048,
            "bin_end": 0.07200000000000001,
            "count": 3
           },
           {
            "bin_start": 0.07200000000000001,
            "bin_end": 0.096,
            "count": 20
           },
           {
            "bin_start": 0.096,
            "bin_end": 0.12,
            "count": 15
           },
           {
            "bin_start": 0.12,
            "bin_end": 0.14400000000000002,
            "count": 18
           },
           {
            "bin_start": 0.14400000000000002,
            "bin_end": 0.168,
            "count": 27
           },
           {
            "bin_start": 0.168,
            "bin_end": 0.192,
            "count": 17
           },
           {
            "bin_start": 0.192,
            "bin_end": 0.216,
            "count": 4
           },
           {
            "bin_start": 0.216,
            "bin_end": 0.24,
            "count": 1
           }
          ]
         }
        },
        {
         "name": "Data Representation and Transformation",
         "dtype": "float64",
         "stats": {
          "unique_count": 56,
          "nan_count": 0,
          "min": "0.0714285714285714",
          "max": "0.5",
          "histogram": [
           {
            "bin_start": 0.0714285714285714,
            "bin_end": 0.11428571428571425,
            "count": 10
           },
           {
            "bin_start": 0.11428571428571425,
            "bin_end": 0.1571428571428571,
            "count": 13
           },
           {
            "bin_start": 0.1571428571428571,
            "bin_end": 0.19999999999999996,
            "count": 54
           },
           {
            "bin_start": 0.19999999999999996,
            "bin_end": 0.24285714285714283,
            "count": 27
           },
           {
            "bin_start": 0.24285714285714283,
            "bin_end": 0.2857142857142857,
            "count": 11
           },
           {
            "bin_start": 0.2857142857142857,
            "bin_end": 0.3285714285714285,
            "count": 0
           },
           {
            "bin_start": 0.3285714285714285,
            "bin_end": 0.3714285714285714,
            "count": 1
           },
           {
            "bin_start": 0.3714285714285714,
            "bin_end": 0.41428571428571426,
            "count": 0
           },
           {
            "bin_start": 0.41428571428571426,
            "bin_end": 0.45714285714285713,
            "count": 0
           },
           {
            "bin_start": 0.45714285714285713,
            "bin_end": 0.5,
            "count": 1
           }
          ]
         }
        },
        {
         "name": "Computing with Data",
         "dtype": "float64",
         "stats": {
          "unique_count": 65,
          "nan_count": 0,
          "min": "0.2",
          "max": "0.7",
          "histogram": [
           {
            "bin_start": 0.2,
            "bin_end": 0.25,
            "count": 17
           },
           {
            "bin_start": 0.25,
            "bin_end": 0.3,
            "count": 31
           },
           {
            "bin_start": 0.3,
            "bin_end": 0.35,
            "count": 12
           },
           {
            "bin_start": 0.35,
            "bin_end": 0.4,
            "count": 16
           },
           {
            "bin_start": 0.4,
            "bin_end": 0.44999999999999996,
            "count": 21
           },
           {
            "bin_start": 0.44999999999999996,
            "bin_end": 0.5,
            "count": 10
           },
           {
            "bin_start": 0.5,
            "bin_end": 0.55,
            "count": 9
           },
           {
            "bin_start": 0.55,
            "bin_end": 0.6,
            "count": 0
           },
           {
            "bin_start": 0.6,
            "bin_end": 0.6499999999999999,
            "count": 0
           },
           {
            "bin_start": 0.6499999999999999,
            "bin_end": 0.7,
            "count": 1
           }
          ]
         }
        },
        {
         "name": "Data Modeling",
         "dtype": "float64",
         "stats": {
          "unique_count": 57,
          "nan_count": 0,
          "min": "0.0",
          "max": "0.4285714285714285",
          "histogram": [
           {
            "bin_start": 0,
            "bin_end": 0.04285714285714285,
            "count": 2
           },
           {
            "bin_start": 0.04285714285714285,
            "bin_end": 0.0857142857142857,
            "count": 1
           },
           {
            "bin_start": 0.0857142857142857,
            "bin_end": 0.12857142857142856,
            "count": 6
           },
           {
            "bin_start": 0.12857142857142856,
            "bin_end": 0.1714285714285714,
            "count": 26
           },
           {
            "bin_start": 0.1714285714285714,
            "bin_end": 0.21428571428571425,
            "count": 40
           },
           {
            "bin_start": 0.21428571428571425,
            "bin_end": 0.2571428571428571,
            "count": 25
           },
           {
            "bin_start": 0.2571428571428571,
            "bin_end": 0.29999999999999993,
            "count": 13
           },
           {
            "bin_start": 0.29999999999999993,
            "bin_end": 0.3428571428571428,
            "count": 2
           },
           {
            "bin_start": 0.3428571428571428,
            "bin_end": 0.3857142857142857,
            "count": 1
           },
           {
            "bin_start": 0.3857142857142857,
            "bin_end": 0.4285714285714285,
            "count": 1
           }
          ]
         }
        },
        {
         "name": "Data Visualization and Presentation",
         "dtype": "float64",
         "stats": {
          "unique_count": 54,
          "nan_count": 0,
          "min": "0.0",
          "max": "0.2272727272727272",
          "histogram": [
           {
            "bin_start": 0,
            "bin_end": 0.02272727272727272,
            "count": 13
           },
           {
            "bin_start": 0.02272727272727272,
            "bin_end": 0.04545454545454544,
            "count": 4
           },
           {
            "bin_start": 0.04545454545454544,
            "bin_end": 0.06818181818181816,
            "count": 6
           },
           {
            "bin_start": 0.06818181818181816,
            "bin_end": 0.09090909090909088,
            "count": 8
           },
           {
            "bin_start": 0.09090909090909088,
            "bin_end": 0.1136363636363636,
            "count": 15
           },
           {
            "bin_start": 0.1136363636363636,
            "bin_end": 0.13636363636363633,
            "count": 12
           },
           {
            "bin_start": 0.13636363636363633,
            "bin_end": 0.15909090909090906,
            "count": 22
           },
           {
            "bin_start": 0.15909090909090906,
            "bin_end": 0.18181818181818177,
            "count": 15
           },
           {
            "bin_start": 0.18181818181818177,
            "bin_end": 0.20454545454545447,
            "count": 19
           },
           {
            "bin_start": 0.20454545454545447,
            "bin_end": 0.2272727272727272,
            "count": 3
           }
          ]
         }
        },
        {
         "name": "Science about Data Science",
         "dtype": "float64",
         "stats": {
          "unique_count": 26,
          "nan_count": 0,
          "min": "0.0",
          "max": "0.125",
          "histogram": [
           {
            "bin_start": 0,
            "bin_end": 0.0125,
            "count": 75
           },
           {
            "bin_start": 0.0125,
            "bin_end": 0.025,
            "count": 3
           },
           {
            "bin_start": 0.025,
            "bin_end": 0.037500000000000006,
            "count": 12
           },
           {
            "bin_start": 0.037500000000000006,
            "bin_end": 0.05,
            "count": 14
           },
           {
            "bin_start": 0.05,
            "bin_end": 0.0625,
            "count": 3
           },
           {
            "bin_start": 0.0625,
            "bin_end": 0.07500000000000001,
            "count": 3
           },
           {
            "bin_start": 0.07500000000000001,
            "bin_end": 0.08750000000000001,
            "count": 5
           },
           {
            "bin_start": 0.08750000000000001,
            "bin_end": 0.1,
            "count": 0
           },
           {
            "bin_start": 0.1,
            "bin_end": 0.1125,
            "count": 1
           },
           {
            "bin_start": 0.1125,
            "bin_end": 0.125,
            "count": 1
           }
          ]
         }
        },
        {
         "name": "Not determinable",
         "dtype": "float64",
         "stats": {
          "unique_count": 1,
          "nan_count": 0,
          "min": "0.0",
          "max": "0.0",
          "histogram": [
           {
            "bin_start": -0.5,
            "bin_end": -0.4,
            "count": 0
           },
           {
            "bin_start": -0.4,
            "bin_end": -0.3,
            "count": 0
           },
           {
            "bin_start": -0.3,
            "bin_end": -0.19999999999999996,
            "count": 0
           },
           {
            "bin_start": -0.19999999999999996,
            "bin_end": -0.09999999999999998,
            "count": 0
           },
           {
            "bin_start": -0.09999999999999998,
            "bin_end": 0,
            "count": 0
           },
           {
            "bin_start": 0,
            "bin_end": 0.10000000000000009,
            "count": 117
           },
           {
            "bin_start": 0.10000000000000009,
            "bin_end": 0.20000000000000007,
            "count": 0
           },
           {
            "bin_start": 0.20000000000000007,
            "bin_end": 0.30000000000000004,
            "count": 0
           },
           {
            "bin_start": 0.30000000000000004,
            "bin_end": 0.4,
            "count": 0
           },
           {
            "bin_start": 0.4,
            "bin_end": 0.5,
            "count": 0
           }
          ]
         }
        },
        {
         "name": "country",
         "dtype": "object",
         "stats": {
          "unique_count": 2,
          "nan_count": 0,
          "categories": [
           {
            "name": "USA",
            "count": 81
           },
           {
            "name": "India",
            "count": 36
           }
          ]
         }
        },
        {
         "name": "gds_mean",
         "dtype": "float64",
         "stats": {
          "unique_count": 1,
          "nan_count": 0,
          "min": "0.1666666666666666",
          "max": "0.1666666666666666",
          "histogram": [
           {
            "bin_start": -0.33333333333333337,
            "bin_end": -0.23333333333333336,
            "count": 0
           },
           {
            "bin_start": -0.23333333333333336,
            "bin_end": -0.13333333333333336,
            "count": 0
           },
           {
            "bin_start": -0.13333333333333336,
            "bin_end": -0.033333333333333326,
            "count": 0
           },
           {
            "bin_start": -0.033333333333333326,
            "bin_end": 0.06666666666666665,
            "count": 0
           },
           {
            "bin_start": 0.06666666666666665,
            "bin_end": 0.16666666666666663,
            "count": 117
           },
           {
            "bin_start": 0.16666666666666663,
            "bin_end": 0.2666666666666667,
            "count": 0
           },
           {
            "bin_start": 0.2666666666666667,
            "bin_end": 0.3666666666666667,
            "count": 0
           },
           {
            "bin_start": 0.3666666666666667,
            "bin_end": 0.4666666666666667,
            "count": 0
           },
           {
            "bin_start": 0.4666666666666667,
            "bin_end": 0.5666666666666667,
            "count": 0
           },
           {
            "bin_start": 0.5666666666666667,
            "bin_end": 0.6666666666666666,
            "count": 0
           }
          ]
         }
        },
        {
         "name": "gds_stdev",
         "dtype": "float64",
         "stats": {
          "unique_count": 101,
          "nan_count": 0,
          "min": "0.0517469515921144",
          "max": "0.2732520204255892",
          "histogram": [
           {
            "bin_start": 0.0517469515921144,
            "bin_end": 0.07389745847546188,
            "count": 8
           },
           {
            "bin_start": 0.07389745847546188,
            "bin_end": 0.09604796535880936,
            "count": 38
           },
           {
            "bin_start": 0.09604796535880936,
            "bin_end": 0.11819847224215685,
            "count": 18
           },
           {
            "bin_start": 0.11819847224215685,
            "bin_end": 0.14034897912550431,
            "count": 16
           },
           {
            "bin_start": 0.14034897912550431,
            "bin_end": 0.1624994860088518,
            "count": 14
           },
           {
            "bin_start": 0.1624994860088518,
            "bin_end": 0.1846499928921993,
            "count": 13
           },
           {
            "bin_start": 0.1846499928921993,
            "bin_end": 0.20680049977554676,
            "count": 4
           },
           {
            "bin_start": 0.20680049977554676,
            "bin_end": 0.22895100665889426,
            "count": 4
           },
           {
            "bin_start": 0.22895100665889426,
            "bin_end": 0.25110151354224175,
            "count": 0
           },
           {
            "bin_start": 0.25110151354224175,
            "bin_end": 0.2732520204255892,
            "count": 2
           }
          ]
         }
        },
        {
         "name": "band",
         "dtype": "object",
         "stats": {
          "unique_count": 3,
          "nan_count": 0,
          "categories": [
           {
            "name": "Band 2",
            "count": 83
           },
           {
            "name": "Band 3",
            "count": 23
           },
           {
            "name": "Band 1",
            "count": 11
           }
          ]
         }
        },
        {
         "name": "char_cnt",
         "dtype": "int64",
         "stats": {
          "unique_count": 106,
          "nan_count": 0,
          "min": "12",
          "max": "8052",
          "histogram": [
           {
            "bin_start": 12,
            "bin_end": 816,
            "count": 47
           },
           {
            "bin_start": 816,
            "bin_end": 1620,
            "count": 41
           },
           {
            "bin_start": 1620,
            "bin_end": 2424,
            "count": 17
           },
           {
            "bin_start": 2424,
            "bin_end": 3228,
            "count": 9
           },
           {
            "bin_start": 3228,
            "bin_end": 4032,
            "count": 2
           },
           {
            "bin_start": 4032,
            "bin_end": 4836,
            "count": 0
           },
           {
            "bin_start": 4836,
            "bin_end": 5640,
            "count": 0
           },
           {
            "bin_start": 5640,
            "bin_end": 6444,
            "count": 0
           },
           {
            "bin_start": 6444,
            "bin_end": 7248,
            "count": 0
           },
           {
            "bin_start": 7248,
            "bin_end": 8052,
            "count": 1
           }
          ]
         }
        },
        {
         "name": "word_cnt",
         "dtype": "int64",
         "stats": {
          "unique_count": 92,
          "nan_count": 0,
          "min": "2",
          "max": "1182",
          "histogram": [
           {
            "bin_start": 2,
            "bin_end": 120,
            "count": 45
           },
           {
            "bin_start": 120,
            "bin_end": 238,
            "count": 41
           },
           {
            "bin_start": 238,
            "bin_end": 356,
            "count": 18
           },
           {
            "bin_start": 356,
            "bin_end": 474,
            "count": 10
           },
           {
            "bin_start": 474,
            "bin_end": 592,
            "count": 2
           },
           {
            "bin_start": 592,
            "bin_end": 710,
            "count": 0
           },
           {
            "bin_start": 710,
            "bin_end": 828,
            "count": 0
           },
           {
            "bin_start": 828,
            "bin_end": 946,
            "count": 0
           },
           {
            "bin_start": 946,
            "bin_end": 1064,
            "count": 0
           },
           {
            "bin_start": 1064,
            "bin_end": 1182,
            "count": 1
           }
          ]
         }
        },
        {
         "name": "sent_cnt",
         "dtype": "int64",
         "stats": {
          "unique_count": 21,
          "nan_count": 0,
          "min": "1",
          "max": "49",
          "histogram": [
           {
            "bin_start": 1,
            "bin_end": 5.8,
            "count": 53
           },
           {
            "bin_start": 5.8,
            "bin_end": 10.6,
            "count": 35
           },
           {
            "bin_start": 10.6,
            "bin_end": 15.399999999999999,
            "count": 18
           },
           {
            "bin_start": 15.399999999999999,
            "bin_end": 20.2,
            "count": 5
           },
           {
            "bin_start": 20.2,
            "bin_end": 25,
            "count": 4
           },
           {
            "bin_start": 25,
            "bin_end": 29.799999999999997,
            "count": 1
           },
           {
            "bin_start": 29.799999999999997,
            "bin_end": 34.6,
            "count": 0
           },
           {
            "bin_start": 34.6,
            "bin_end": 39.4,
            "count": 0
           },
           {
            "bin_start": 39.4,
            "bin_end": 44.199999999999996,
            "count": 0
           },
           {
            "bin_start": 44.199999999999996,
            "bin_end": 49,
            "count": 1
           }
          ]
         }
        },
        {
         "name": "digits_cnt",
         "dtype": "int64",
         "stats": {
          "unique_count": 13,
          "nan_count": 0,
          "min": "0",
          "max": "24",
          "histogram": [
           {
            "bin_start": 0,
            "bin_end": 2.4,
            "count": 87
           },
           {
            "bin_start": 2.4,
            "bin_end": 4.8,
            "count": 15
           },
           {
            "bin_start": 4.8,
            "bin_end": 7.199999999999999,
            "count": 8
           },
           {
            "bin_start": 7.199999999999999,
            "bin_end": 9.6,
            "count": 1
           },
           {
            "bin_start": 9.6,
            "bin_end": 12,
            "count": 2
           },
           {
            "bin_start": 12,
            "bin_end": 14.399999999999999,
            "count": 3
           },
           {
            "bin_start": 14.399999999999999,
            "bin_end": 16.8,
            "count": 0
           },
           {
            "bin_start": 16.8,
            "bin_end": 19.2,
            "count": 0
           },
           {
            "bin_start": 19.2,
            "bin_end": 21.599999999999998,
            "count": 0
           },
           {
            "bin_start": 21.599999999999998,
            "bin_end": 24,
            "count": 1
           }
          ]
         }
        },
        {
         "name": "mean_chars_per_word",
         "dtype": "float64",
         "stats": {
          "unique_count": 109,
          "nan_count": 0,
          "min": "4.5852272727272725",
          "max": "6.738636363636363",
          "histogram": [
           {
            "bin_start": 4.5852272727272725,
            "bin_end": 4.800568181818182,
            "count": 3
           },
           {
            "bin_start": 4.800568181818182,
            "bin_end": 5.015909090909091,
            "count": 1
           },
           {
            "bin_start": 5.015909090909091,
            "bin_end": 5.231249999999999,
            "count": 12
           },
           {
            "bin_start": 5.231249999999999,
            "bin_end": 5.446590909090909,
            "count": 29
           },
           {
            "bin_start": 5.446590909090909,
            "bin_end": 5.661931818181818,
            "count": 31
           },
           {
            "bin_start": 5.661931818181818,
            "bin_end": 5.877272727272727,
            "count": 23
           },
           {
            "bin_start": 5.877272727272727,
            "bin_end": 6.092613636363636,
            "count": 9
           },
           {
            "bin_start": 6.092613636363636,
            "bin_end": 6.307954545454545,
            "count": 5
           },
           {
            "bin_start": 6.307954545454545,
            "bin_end": 6.523295454545455,
            "count": 2
           },
           {
            "bin_start": 6.523295454545455,
            "bin_end": 6.738636363636363,
            "count": 2
           }
          ]
         }
        },
        {
         "name": "median_chars_per_word",
         "dtype": "float64",
         "stats": {
          "unique_count": 6,
          "nan_count": 0,
          "min": "4.0",
          "max": "7.0",
          "histogram": [
           {
            "bin_start": 4,
            "bin_end": 4.3,
            "count": 27
           },
           {
            "bin_start": 4.3,
            "bin_end": 4.6,
            "count": 4
           },
           {
            "bin_start": 4.6,
            "bin_end": 4.9,
            "count": 0
           },
           {
            "bin_start": 4.9,
            "bin_end": 5.2,
            "count": 46
           },
           {
            "bin_start": 5.2,
            "bin_end": 5.5,
            "count": 0
           },
           {
            "bin_start": 5.5,
            "bin_end": 5.8,
            "count": 10
           },
           {
            "bin_start": 5.8,
            "bin_end": 6.1,
            "count": 23
           },
           {
            "bin_start": 6.1,
            "bin_end": 6.4,
            "count": 0
           },
           {
            "bin_start": 6.4,
            "bin_end": 6.699999999999999,
            "count": 0
           },
           {
            "bin_start": 6.699999999999999,
            "bin_end": 7,
            "count": 7
           }
          ]
         }
        },
        {
         "name": "mean_words_per_sent",
         "dtype": "float64",
         "stats": {
          "unique_count": 100,
          "nan_count": 0,
          "min": "2.0",
          "max": "124.0",
          "histogram": [
           {
            "bin_start": 2,
            "bin_end": 14.2,
            "count": 15
           },
           {
            "bin_start": 14.2,
            "bin_end": 26.4,
            "count": 52
           },
           {
            "bin_start": 26.4,
            "bin_end": 38.599999999999994,
            "count": 40
           },
           {
            "bin_start": 38.599999999999994,
            "bin_end": 50.8,
            "count": 7
           },
           {
            "bin_start": 50.8,
            "bin_end": 63,
            "count": 2
           },
           {
            "bin_start": 63,
            "bin_end": 75.19999999999999,
            "count": 0
           },
           {
            "bin_start": 75.19999999999999,
            "bin_end": 87.39999999999999,
            "count": 0
           },
           {
            "bin_start": 87.39999999999999,
            "bin_end": 99.6,
            "count": 0
           },
           {
            "bin_start": 99.6,
            "bin_end": 111.8,
            "count": 0
           },
           {
            "bin_start": 111.8,
            "bin_end": 124,
            "count": 1
           }
          ]
         }
        },
        {
         "name": "median_words_per_sent",
         "dtype": "float64",
         "stats": {
          "unique_count": 52,
          "nan_count": 0,
          "min": "2.0",
          "max": "124.0",
          "histogram": [
           {
            "bin_start": 2,
            "bin_end": 14.2,
            "count": 17
           },
           {
            "bin_start": 14.2,
            "bin_end": 26.4,
            "count": 62
           },
           {
            "bin_start": 26.4,
            "bin_end": 38.599999999999994,
            "count": 31
           },
           {
            "bin_start": 38.599999999999994,
            "bin_end": 50.8,
            "count": 5
           },
           {
            "bin_start": 50.8,
            "bin_end": 63,
            "count": 1
           },
           {
            "bin_start": 63,
            "bin_end": 75.19999999999999,
            "count": 0
           },
           {
            "bin_start": 75.19999999999999,
            "bin_end": 87.39999999999999,
            "count": 0
           },
           {
            "bin_start": 87.39999999999999,
            "bin_end": 99.6,
            "count": 0
           },
           {
            "bin_start": 99.6,
            "bin_end": 111.8,
            "count": 0
           },
           {
            "bin_start": 111.8,
            "bin_end": 124,
            "count": 1
           }
          ]
         }
        },
        {
         "name": "common_nouns_cnt",
         "dtype": "int64",
         "stats": {
          "unique_count": 72,
          "nan_count": 0,
          "min": "0",
          "max": "329",
          "histogram": [
           {
            "bin_start": 0,
            "bin_end": 32.9,
            "count": 37
           },
           {
            "bin_start": 32.9,
            "bin_end": 65.8,
            "count": 38
           },
           {
            "bin_start": 65.8,
            "bin_end": 98.69999999999999,
            "count": 28
           },
           {
            "bin_start": 98.69999999999999,
            "bin_end": 131.6,
            "count": 7
           },
           {
            "bin_start": 131.6,
            "bin_end": 164.5,
            "count": 5
           },
           {
            "bin_start": 164.5,
            "bin_end": 197.39999999999998,
            "count": 1
           },
           {
            "bin_start": 197.39999999999998,
            "bin_end": 230.29999999999998,
            "count": 0
           },
           {
            "bin_start": 230.29999999999998,
            "bin_end": 263.2,
            "count": 0
           },
           {
            "bin_start": 263.2,
            "bin_end": 296.09999999999997,
            "count": 0
           },
           {
            "bin_start": 296.09999999999997,
            "bin_end": 329,
            "count": 1
           }
          ]
         }
        },
        {
         "name": "proper_nouns_cnt",
         "dtype": "int64",
         "stats": {
          "unique_count": 38,
          "nan_count": 0,
          "min": "0",
          "max": "179",
          "histogram": [
           {
            "bin_start": 0,
            "bin_end": 17.9,
            "count": 79
           },
           {
            "bin_start": 17.9,
            "bin_end": 35.8,
            "count": 28
           },
           {
            "bin_start": 35.8,
            "bin_end": 53.699999999999996,
            "count": 5
           },
           {
            "bin_start": 53.699999999999996,
            "bin_end": 71.6,
            "count": 1
           },
           {
            "bin_start": 71.6,
            "bin_end": 89.5,
            "count": 0
           },
           {
            "bin_start": 89.5,
            "bin_end": 107.39999999999999,
            "count": 0
           },
           {
            "bin_start": 107.39999999999999,
            "bin_end": 125.29999999999998,
            "count": 0
           },
           {
            "bin_start": 125.29999999999998,
            "bin_end": 143.2,
            "count": 3
           },
           {
            "bin_start": 143.2,
            "bin_end": 161.1,
            "count": 0
           },
           {
            "bin_start": 161.1,
            "bin_end": 179,
            "count": 1
           }
          ]
         }
        },
        {
         "name": "adjectives_cnt",
         "dtype": "int64",
         "stats": {
          "unique_count": 39,
          "nan_count": 0,
          "min": "0",
          "max": "108",
          "histogram": [
           {
            "bin_start": 0,
            "bin_end": 10.8,
            "count": 47
           },
           {
            "bin_start": 10.8,
            "bin_end": 21.6,
            "count": 39
           },
           {
            "bin_start": 21.6,
            "bin_end": 32.400000000000006,
            "count": 19
           },
           {
            "bin_start": 32.400000000000006,
            "bin_end": 43.2,
            "count": 5
           },
           {
            "bin_start": 43.2,
            "bin_end": 54,
            "count": 6
           },
           {
            "bin_start": 54,
            "bin_end": 64.80000000000001,
            "count": 0
           },
           {
            "bin_start": 64.80000000000001,
            "bin_end": 75.60000000000001,
            "count": 0
           },
           {
            "bin_start": 75.60000000000001,
            "bin_end": 86.4,
            "count": 0
           },
           {
            "bin_start": 86.4,
            "bin_end": 97.2,
            "count": 0
           },
           {
            "bin_start": 97.2,
            "bin_end": 108,
            "count": 1
           }
          ]
         }
        },
        {
         "name": "verbs_cnt",
         "dtype": "int64",
         "stats": {
          "unique_count": 46,
          "nan_count": 0,
          "min": "1",
          "max": "112",
          "histogram": [
           {
            "bin_start": 1,
            "bin_end": 12.1,
            "count": 41
           },
           {
            "bin_start": 12.1,
            "bin_end": 23.2,
            "count": 29
           },
           {
            "bin_start": 23.2,
            "bin_end": 34.3,
            "count": 27
           },
           {
            "bin_start": 34.3,
            "bin_end": 45.4,
            "count": 12
           },
           {
            "bin_start": 45.4,
            "bin_end": 56.5,
            "count": 6
           },
           {
            "bin_start": 56.5,
            "bin_end": 67.6,
            "count": 1
           },
           {
            "bin_start": 67.6,
            "bin_end": 78.7,
            "count": 0
           },
           {
            "bin_start": 78.7,
            "bin_end": 89.8,
            "count": 0
           },
           {
            "bin_start": 89.8,
            "bin_end": 100.89999999999999,
            "count": 0
           },
           {
            "bin_start": 100.89999999999999,
            "bin_end": 112,
            "count": 1
           }
          ]
         }
        },
        {
         "name": "numerals_cnt",
         "dtype": "int64",
         "stats": {
          "unique_count": 11,
          "nan_count": 0,
          "min": "0",
          "max": "16",
          "histogram": [
           {
            "bin_start": 0,
            "bin_end": 1.6,
            "count": 80
           },
           {
            "bin_start": 1.6,
            "bin_end": 3.2,
            "count": 17
           },
           {
            "bin_start": 3.2,
            "bin_end": 4.800000000000001,
            "count": 6
           },
           {
            "bin_start": 4.800000000000001,
            "bin_end": 6.4,
            "count": 9
           },
           {
            "bin_start": 6.4,
            "bin_end": 8,
            "count": 0
           },
           {
            "bin_start": 8,
            "bin_end": 9.600000000000001,
            "count": 3
           },
           {
            "bin_start": 9.600000000000001,
            "bin_end": 11.200000000000001,
            "count": 0
           },
           {
            "bin_start": 11.200000000000001,
            "bin_end": 12.8,
            "count": 1
           },
           {
            "bin_start": 12.8,
            "bin_end": 14.4,
            "count": 0
           },
           {
            "bin_start": 14.4,
            "bin_end": 16,
            "count": 1
           }
          ]
         }
        },
        {
         "name": "flesch_kincaid",
         "dtype": "float64",
         "stats": {
          "unique_count": 88,
          "nan_count": 0,
          "min": "2.9",
          "max": "54.2",
          "histogram": [
           {
            "bin_start": 2.9,
            "bin_end": 8.030000000000001,
            "count": 9
           },
           {
            "bin_start": 8.030000000000001,
            "bin_end": 13.160000000000002,
            "count": 8
           },
           {
            "bin_start": 13.160000000000002,
            "bin_end": 18.290000000000003,
            "count": 39
           },
           {
            "bin_start": 18.290000000000003,
            "bin_end": 23.42,
            "count": 38
           },
           {
            "bin_start": 23.42,
            "bin_end": 28.550000000000004,
            "count": 9
           },
           {
            "bin_start": 28.550000000000004,
            "bin_end": 33.68000000000001,
            "count": 6
           },
           {
            "bin_start": 33.68000000000001,
            "bin_end": 38.81,
            "count": 3
           },
           {
            "bin_start": 38.81,
            "bin_end": 43.940000000000005,
            "count": 1
           },
           {
            "bin_start": 43.940000000000005,
            "bin_end": 49.07000000000001,
            "count": 1
           },
           {
            "bin_start": 49.07000000000001,
            "bin_end": 54.2,
            "count": 3
           }
          ]
         }
        },
        {
         "name": "dale_chall",
         "dtype": "float64",
         "stats": {
          "unique_count": 99,
          "nan_count": 0,
          "min": "8.09",
          "max": "15.11",
          "histogram": [
           {
            "bin_start": 8.09,
            "bin_end": 8.792,
            "count": 7
           },
           {
            "bin_start": 8.792,
            "bin_end": 9.494,
            "count": 9
           },
           {
            "bin_start": 9.494,
            "bin_end": 10.196,
            "count": 28
           },
           {
            "bin_start": 10.196,
            "bin_end": 10.898,
            "count": 19
           },
           {
            "bin_start": 10.898,
            "bin_end": 11.6,
            "count": 20
           },
           {
            "bin_start": 11.6,
            "bin_end": 12.302,
            "count": 24
           },
           {
            "bin_start": 12.302,
            "bin_end": 13.004,
            "count": 4
           },
           {
            "bin_start": 13.004,
            "bin_end": 13.706,
            "count": 0
           },
           {
            "bin_start": 13.706,
            "bin_end": 14.408,
            "count": 3
           },
           {
            "bin_start": 14.408,
            "bin_end": 15.11,
            "count": 3
           }
          ]
         }
        },
        {
         "name": "mtld",
         "dtype": "float64",
         "stats": {
          "unique_count": 109,
          "nan_count": 0,
          "min": "2.0",
          "max": "161.00000000000006",
          "histogram": [
           {
            "bin_start": 2,
            "bin_end": 17.900000000000006,
            "count": 9
           },
           {
            "bin_start": 17.900000000000006,
            "bin_end": 33.80000000000001,
            "count": 0
           },
           {
            "bin_start": 33.80000000000001,
            "bin_end": 49.70000000000002,
            "count": 10
           },
           {
            "bin_start": 49.70000000000002,
            "bin_end": 65.60000000000002,
            "count": 27
           },
           {
            "bin_start": 65.60000000000002,
            "bin_end": 81.50000000000003,
            "count": 27
           },
           {
            "bin_start": 81.50000000000003,
            "bin_end": 97.40000000000003,
            "count": 28
           },
           {
            "bin_start": 97.40000000000003,
            "bin_end": 113.30000000000004,
            "count": 11
           },
           {
            "bin_start": 113.30000000000004,
            "bin_end": 129.20000000000005,
            "count": 3
           },
           {
            "bin_start": 129.20000000000005,
            "bin_end": 145.10000000000005,
            "count": 0
           },
           {
            "bin_start": 145.10000000000005,
            "bin_end": 161.00000000000006,
            "count": 2
           }
          ]
         }
        },
        {
         "name": "_deepnote_index_column",
         "dtype": "int64"
        }
       ],
       "rows_top": [
        {
         "uni_name": "Indian Institute of Science Bangalore",
         "pgm_name": "M.Tech. Computational and Data Science",
         "dur_yrs": "2",
         "type": "Public",
         "national_rank_qs": 2,
         "dept_involved": "Department of Computational and Data Sciences",
         "location": "Karnataka",
         "url": "http://cds.iisc.ac.in/admissions/course-degrees/",
         "descr": "Computational Science and Data Science are interdisciplinary areas that bring together the domain s…",
         "header_tag": "['h1', 'h2', 'h3']",
         "header_names": "[['\\n\\t\\t\\tCourse Degree Admissions, 2021\\t\\t'], ['M.Tech. (Computational & Data Science) Admission…",
         "links": "['https://iisc.ac.in/admissions/m-tech-m-des/', 'https://admissions.iisc.ac.in/', 'http://cds.iisc.…",
         "date_pub": "Not inferred",
         "date_last_mod": "Not inferred",
         "html_tags": "['header', 'h1', 'div', 'ul', 'li', 'span', 'strong', 'a', 'li', 'span', 'strong', 'a', 'li', 'span…",
         "html_tag_freq": "{'header': 1, 'h1': 1, 'div': 1, 'ul': 6, 'li': 27, 'span': 13, 'strong': 7, 'a': 13, 'h2': 1, 'p':…",
         "html_emphasized_elements": "['the m.tech. (cds) admission process', 'download admissions brochure [pdf]', 'common offer accepta…",
         "Data Gathering, Preparation and Exploration": 0.0909090909090909,
         "Data Representation and Transformation": 0.2727272727272727,
         "Computing with Data": 0.4545454545454545,
         "Data Modeling": 0.0909090909090909,
         "Data Visualization and Presentation": 0.0909090909090909,
         "Science about Data Science": 0,
         "Not determinable": 0,
         "country": "India",
         "gds_mean": 0.1666666666666666,
         "gds_stdev": 0.1668043508427016,
         "band": "Band 3",
         "char_cnt": 687,
         "word_cnt": 88,
         "sent_cnt": 3,
         "digits_cnt": 0,
         "mean_chars_per_word": 6.738636363636363,
         "median_chars_per_word": 7,
         "mean_words_per_sent": 29.333333333333332,
         "median_words_per_sent": 28,
         "common_nouns_cnt": 32,
         "proper_nouns_cnt": 7,
         "adjectives_cnt": 15,
         "verbs_cnt": 8,
         "numerals_cnt": 0,
         "flesch_kincaid": 21.7,
         "dale_chall": 11.61,
         "mtld": 46.95184899845917,
         "_deepnote_index_column": 0
        },
        {
         "uni_name": "Indian Institute of Science Bangalore",
         "pgm_name": "M.Tech. Artificial Intelligence",
         "dur_yrs": "2",
         "type": "Public",
         "national_rank_qs": 2,
         "dept_involved": "Departments of Computer Science and Automation, Electrical Communication Engineering, Electrical En…",
         "location": "Karnataka",
         "url": "https://eecs.iisc.ac.in/mtechai/",
         "descr": "  Artificial Intelligence has captured the imagination of the entire world with its potential abili…",
         "header_tag": "['h1', 'h2']",
         "header_names": "[['MTech (AI) @ IISc'], ['Admissions 2021 – Application and deadline', 'Interview', 'Highlights of …",
         "links": "['https://ai.iisc.ac.in', 'https://admissions-august.iisc.ac.in/web/selectugpg.aspx', 'https://www.…",
         "date_pub": "Not inferred",
         "date_last_mod": "Not inferred",
         "html_tags": "['h1', 'p', 'img', 'p', 'strong', 'a', 'p', 'h2', 'strong', 'p', 'a', 'p', 'p', 'strong', 'sup', 'p…",
         "html_tag_freq": "{'h1': 1, 'p': 18, 'img': 2, 'strong': 15, 'a': 17, 'h2': 4, 'sup': 1, 'span': 3, 'ol': 1, 'li': 7,…",
         "html_emphasized_elements": "['written test will be held online with remote login through a browser. more details:', 'n of india…",
         "Data Gathering, Preparation and Exploration": 0,
         "Data Representation and Transformation": 0.2352941176470588,
         "Computing with Data": 0.4705882352941176,
         "Data Modeling": 0.2941176470588235,
         "Data Visualization and Presentation": 0,
         "Science about Data Science": 0,
         "Not determinable": 0,
         "country": "India",
         "gds_mean": 0.1666666666666666,
         "gds_stdev": 0.1983205146429848,
         "band": "Band 3",
         "char_cnt": 1566,
         "word_cnt": 244,
         "sent_cnt": 13,
         "digits_cnt": 4,
         "mean_chars_per_word": 5.368852459016393,
         "median_chars_per_word": 4,
         "mean_words_per_sent": 18.76923076923077,
         "median_words_per_sent": 18,
         "common_nouns_cnt": 71,
         "proper_nouns_cnt": 23,
         "adjectives_cnt": 27,
         "verbs_cnt": 24,
         "numerals_cnt": 4,
         "flesch_kincaid": 14.6,
         "dale_chall": 10.41,
         "mtld": 79.34497816593887,
         "_deepnote_index_column": 1
        },
        {
         "uni_name": "University of Hyderabad",
         "pgm_name": "MBA Business Analytics",
         "dur_yrs": "2",
         "type": "Public",
         "national_rank_qs": 8,
         "dept_involved": "School of Management Studies",
         "location": "Telangana",
         "url": "https://smsuoh.ac.in/mba/mba-business-analytics/",
         "descr": " The School has launched a two year MBA in Business Analytics programme with an intake of 30 studen…",
         "header_tag": "['h2', 'h4']",
         "header_names": "[['MBA Business Analytics'], ['Highlights of the Programme', 'Course Curriculum and Programme Deliv…",
         "links": "no links in useful area",
         "date_pub": "21-11-2017",
         "date_last_mod": "28-01-2019",
         "html_tags": "['article', 'div', 'h2', 'p', 'h4', 'ul', 'li', 'li', 'li', 'li', 'li', 'h4', 'p', 'h4', 'p', 'h4',…",
         "html_tag_freq": "{'article': 1, 'div': 1, 'h2': 1, 'p': 9, 'h4': 7, 'ul': 1, 'li': 5, 'table': 1, 'tbody': 1, 'tr': …",
         "html_emphasized_elements": "['guest lectures', 'semester-4', 'continuous evaluation', 'placements', 'year 1', 'semester 2', 'su…",
         "Data Gathering, Preparation and Exploration": 0.1285714285714285,
         "Data Representation and Transformation": 0.1857142857142857,
         "Computing with Data": 0.3571428571428571,
         "Data Modeling": 0.1571428571428571,
         "Data Visualization and Presentation": 0.1571428571428571,
         "Science about Data Science": 0.0142857142857142,
         "Not determinable": 0,
         "country": "India",
         "gds_mean": 0.1666666666666666,
         "gds_stdev": 0.1109022981181686,
         "band": "Band 2",
         "char_cnt": 2911,
         "word_cnt": 419,
         "sent_cnt": 24,
         "digits_cnt": 12,
         "mean_chars_per_word": 5.832935560859188,
         "median_chars_per_word": 6,
         "mean_words_per_sent": 17.458333333333332,
         "median_words_per_sent": 13.5,
         "common_nouns_cnt": 124,
         "proper_nouns_cnt": 69,
         "adjectives_cnt": 25,
         "verbs_cnt": 34,
         "numerals_cnt": 8,
         "flesch_kincaid": 17.5,
         "dale_chall": 9.27,
         "mtld": 59.886626929242965,
         "_deepnote_index_column": 2
        },
        {
         "uni_name": "University of Hyderabad",
         "pgm_name": "M.Tech. Artificial Intelligence",
         "dur_yrs": "2",
         "type": "Public",
         "national_rank_qs": 8,
         "dept_involved": "School of Computer and Information Sciences",
         "location": "Telangana",
         "url": "https://scis.uohyd.ac.in/Academic/Programmes/mtechai_program.php",
         "descr": " M.Tech Artificial Intelligence is also a four-semester course including two semesters of course wo…",
         "header_tag": "['h2']",
         "header_names": "[['Master of Technology in Artificial Intelligence']]",
         "links": "['./mtechaiold_program.php', './mtechainew_program.php', './mtechai2016_program.php', 'mtechaioptio…",
         "date_pub": "01-01-2018",
         "date_last_mod": "01-01-2018",
         "html_tags": "['div', 'h2', 'p', 'b', 'ul', 'li', 'a', 'li', 'a', 'li', 'a', 'li', 'a']",
         "html_tag_freq": "{'div': 1, 'h2': 1, 'p': 1, 'b': 1, 'ul': 1, 'li': 4, 'a': 4}",
         "html_emphasized_elements": "['m.tech artificial intelligence', 'master of technology in artificial intelligence']",
         "Data Gathering, Preparation and Exploration": 0,
         "Data Representation and Transformation": 0.2,
         "Computing with Data": 0.7,
         "Data Modeling": 0,
         "Data Visualization and Presentation": 0.1,
         "Science about Data Science": 0,
         "Not determinable": 0,
         "country": "India",
         "gds_mean": 0.1666666666666666,
         "gds_stdev": 0.2732520204255892,
         "band": "Band 3",
         "char_cnt": 384,
         "word_cnt": 61,
         "sent_cnt": 3,
         "digits_cnt": 3,
         "mean_chars_per_word": 5.278688524590164,
         "median_chars_per_word": 4,
         "mean_words_per_sent": 20.333333333333332,
         "median_words_per_sent": 23,
         "common_nouns_cnt": 19,
         "proper_nouns_cnt": 3,
         "adjectives_cnt": 6,
         "verbs_cnt": 6,
         "numerals_cnt": 3,
         "flesch_kincaid": 14.4,
         "dale_chall": 9.76,
         "mtld": 67.28,
         "_deepnote_index_column": 3
        },
        {
         "uni_name": "IIT Guwahati",
         "pgm_name": "M.Tech Data Science",
         "dur_yrs": "2",
         "type": "Public",
         "national_rank_qs": 10,
         "dept_involved": "Departments of Computer Science and Engineering, Electronics and Electrical Engineering and Mathema…",
         "location": "Assam",
         "url": "https://www.iitg.ac.in/ds/",
         "descr": " Data Science is gaining prominence in academia and industry. Data science witnessing applications …",
         "header_tag": "Not inferred",
         "header_names": "Not inferred",
         "links": "Not inferred",
         "date_pub": "Not inferred",
         "date_last_mod": "Not inferred",
         "html_tags": "Not inferred",
         "html_tag_freq": "Not inferred",
         "html_emphasized_elements": "Not inferred",
         "Data Gathering, Preparation and Exploration": 0.032258064516129,
         "Data Representation and Transformation": 0.2580645161290322,
         "Computing with Data": 0.4193548387096774,
         "Data Modeling": 0.2258064516129032,
         "Data Visualization and Presentation": 0.064516129032258,
         "Science about Data Science": 0,
         "Not determinable": 0,
         "country": "India",
         "gds_mean": 0.1666666666666666,
         "gds_stdev": 0.1624688128774926,
         "band": "Band 2",
         "char_cnt": 1101,
         "word_cnt": 159,
         "sent_cnt": 14,
         "digits_cnt": 5,
         "mean_chars_per_word": 5.767295597484277,
         "median_chars_per_word": 5,
         "mean_words_per_sent": 11.357142857142858,
         "median_words_per_sent": 10,
         "common_nouns_cnt": 59,
         "proper_nouns_cnt": 8,
         "adjectives_cnt": 14,
         "verbs_cnt": 19,
         "numerals_cnt": 5,
         "flesch_kincaid": 10.1,
         "dale_chall": 9.24,
         "mtld": 80.39710610932475,
         "_deepnote_index_column": 4
        },
        {
         "uni_name": "IIT Hyderabad",
         "pgm_name": "M.Tech Artificial Intelligence",
         "dur_yrs": "2",
         "type": "Public",
         "national_rank_qs": 15,
         "dept_involved": "Department of Artificial Intelligence",
         "location": "Telangana",
         "url": "https://iith.ac.in/academics/assets/files/pdf/july-2021/AI-MTech Brochure 2021.pdf",
         "descr": "The Department of AI is a newly launched department at IIT Hyderabad. Considering the interdiscipli…",
         "header_tag": "Not inferred",
         "header_names": "Not inferred",
         "links": "Not inferred",
         "date_pub": "Not inferred",
         "date_last_mod": "Not inferred",
         "html_tags": "Not inferred",
         "html_tag_freq": "Not inferred",
         "html_emphasized_elements": "Not inferred",
         "Data Gathering, Preparation and Exploration": 0,
         "Data Representation and Transformation": 0.2666666666666666,
         "Computing with Data": 0.4666666666666667,
         "Data Modeling": 0.2666666666666666,
         "Data Visualization and Presentation": 0,
         "Science about Data Science": 0,
         "Not determinable": 0,
         "country": "India",
         "gds_mean": 0.1666666666666666,
         "gds_stdev": 0.196638416050035,
         "band": "Band 3",
         "char_cnt": 1741,
         "word_cnt": 271,
         "sent_cnt": 16,
         "digits_cnt": 1,
         "mean_chars_per_word": 5.354243542435424,
         "median_chars_per_word": 4,
         "mean_words_per_sent": 16.9375,
         "median_words_per_sent": 15,
         "common_nouns_cnt": 69,
         "proper_nouns_cnt": 36,
         "adjectives_cnt": 21,
         "verbs_cnt": 28,
         "numerals_cnt": 1,
         "flesch_kincaid": 14.2,
         "dale_chall": 9.09,
         "mtld": 42.251311319472755,
         "_deepnote_index_column": 5
        },
        {
         "uni_name": "Anna University",
         "pgm_name": "M.E. Computer Science and Engineering (Specialization in Big Data Analytics)",
         "dur_yrs": "2",
         "type": "Public",
         "national_rank_qs": 16,
         "dept_involved": "Faculty of Information and Communication Engineering",
         "location": "Tamil Nadu",
         "url": "http://cs.annauniv.edu/pdf/14.M.E%20Big%20Data%202019.pdf",
         "descr": "1. Prepare students to understand the foundational concepts in Computer Science and Engineering. 2.…",
         "header_tag": "Not inferred",
         "header_names": "Not inferred",
         "links": "Not inferred",
         "date_pub": "Not inferred",
         "date_last_mod": "Not inferred",
         "html_tags": "Not inferred",
         "html_tag_freq": "Not inferred",
         "html_emphasized_elements": "Not inferred",
         "Data Gathering, Preparation and Exploration": 0.074074074074074,
         "Data Representation and Transformation": 0.2222222222222222,
         "Computing with Data": 0.4814814814814814,
         "Data Modeling": 0.1481481481481481,
         "Data Visualization and Presentation": 0.037037037037037,
         "Science about Data Science": 0.037037037037037,
         "Not determinable": 0,
         "country": "India",
         "gds_mean": 0.1666666666666666,
         "gds_stdev": 0.1701286530052718,
         "band": "Band 3",
         "char_cnt": 1608,
         "word_cnt": 215,
         "sent_cnt": 24,
         "digits_cnt": 12,
         "mean_chars_per_word": 6.274418604651163,
         "median_chars_per_word": 7,
         "mean_words_per_sent": 8.958333333333334,
         "median_words_per_sent": 5.5,
         "common_nouns_cnt": 66,
         "proper_nouns_cnt": 10,
         "adjectives_cnt": 26,
         "verbs_cnt": 36,
         "numerals_cnt": 6,
         "flesch_kincaid": 16.2,
         "dale_chall": 8.4,
         "mtld": 92.29680365296804,
         "_deepnote_index_column": 6
        },
        {
         "uni_name": "Jamia Millia Islamia",
         "pgm_name": "MSc in Banking and Financial Analytics",
         "dur_yrs": "2",
         "type": "Public",
         "national_rank_qs": 21,
         "dept_involved": "Department of Economics",
         "location": "New Delhi",
         "url": "https://www.jmi.ac.in/upload/programme/fss_curriculum_eco_msc_bfa.pdf",
         "descr": "The Department of Economics is a premier Department of the Faculty of Social Sciences of Jamia Mill…",
         "header_tag": "Not inferred",
         "header_names": "Not inferred",
         "links": "Not inferred",
         "date_pub": "Not inferred",
         "date_last_mod": "Not inferred",
         "html_tags": "Not inferred",
         "html_tag_freq": "Not inferred",
         "html_emphasized_elements": "Not inferred",
         "Data Gathering, Preparation and Exploration": 0.1351351351351351,
         "Data Representation and Transformation": 0.1621621621621621,
         "Computing with Data": 0.4324324324324324,
         "Data Modeling": 0.1621621621621621,
         "Data Visualization and Presentation": 0.1081081081081081,
         "Science about Data Science": 0,
         "Not determinable": 0,
         "country": "India",
         "gds_mean": 0.1666666666666666,
         "gds_stdev": 0.1434385885413572,
         "band": "Band 2",
         "char_cnt": 3780,
         "word_cnt": 558,
         "sent_cnt": 26,
         "digits_cnt": 24,
         "mean_chars_per_word": 5.57168458781362,
         "median_chars_per_word": 5,
         "mean_words_per_sent": 21.46153846153846,
         "median_words_per_sent": 18,
         "common_nouns_cnt": 100,
         "proper_nouns_cnt": 132,
         "adjectives_cnt": 45,
         "verbs_cnt": 52,
         "numerals_cnt": 16,
         "flesch_kincaid": 19.3,
         "dale_chall": 9.1,
         "mtld": 59.74444444444444,
         "_deepnote_index_column": 7
        },
        {
         "uni_name": "Symbiois International",
         "pgm_name": "MBA Business Analytics",
         "dur_yrs": "2",
         "type": "Private",
         "national_rank_qs": 23,
         "dept_involved": "Department of Management",
         "location": "Maharashtra",
         "url": "https://www.scmhrd.edu/mba-ba-admissions",
         "descr": "MBA in Business Analytics programme aims to provide the students with conceptual and practical know…",
         "header_tag": "['h1']",
         "header_names": "[['MBA (BA) programme Overview']]",
         "links": "['#programmedetails', '#program_struct', '#orientation', '#eligibility', '#importantdates', '#feest…",
         "date_pub": "Not inferred",
         "date_last_mod": "Not inferred",
         "html_tags": "['div', 'ul', 'li', 'span', 'li', 'a', 'li', 'a', 'li', 'a', 'li', 'a', 'li', 'a', 'li', 'a', 'li',…",
         "html_tag_freq": "{'div': 68, 'ul': 11, 'li': 34, 'span': 107, 'a': 38, 'p': 235, 'table': 9, 'tbody': 9, 'tr': 55, '…",
         "html_emphasized_elements": "['(gepi)', 'step 3', '4,02,900', '25 july 2021', 'installments', '3rdinstallment', 'january 2021.',…",
         "Data Gathering, Preparation and Exploration": 0.1184210526315789,
         "Data Representation and Transformation": 0.1447368421052631,
         "Computing with Data": 0.4078947368421052,
         "Data Modeling": 0.1710526315789473,
         "Data Visualization and Presentation": 0.131578947368421,
         "Science about Data Science": 0.0263157894736842,
         "Not determinable": 0,
         "country": "India",
         "gds_mean": 0.1666666666666666,
         "gds_stdev": 0.128022101046723,
         "band": "Band 2",
         "char_cnt": 1621,
         "word_cnt": 254,
         "sent_cnt": 13,
         "digits_cnt": 0,
         "mean_chars_per_word": 5.334645669291339,
         "median_chars_per_word": 4,
         "mean_words_per_sent": 19.53846153846154,
         "median_words_per_sent": 20,
         "common_nouns_cnt": 71,
         "proper_nouns_cnt": 22,
         "adjectives_cnt": 19,
         "verbs_cnt": 31,
         "numerals_cnt": 0,
         "flesch_kincaid": 14.4,
         "dale_chall": 9.55,
         "mtld": 74.27197563098346,
         "_deepnote_index_column": 8
        },
        {
         "uni_name": "Symbiois International",
         "pgm_name": "MSc Data Science and Spatial Analytics",
         "dur_yrs": "2",
         "type": "Private",
         "national_rank_qs": 23,
         "dept_involved": "Department of Engineering",
         "location": "Maharashtra",
         "url": "https://sig.ac.in/datascience",
         "descr": "The current trends of Artificial Intelligence techniques, inclusively Machine learning and Deep lea…",
         "header_tag": "['h3', 'h4']",
         "header_names": "[[' M.Sc. DATA SCIENCE AND SPATIAL ANALYTICS'], ['Programme Structure -M.Sc. DATA SCIENCE AND SPATI…",
         "links": "['#v1', '#v2', '#v4', '#v5', '#v6', '#v7', '#v20', 'https://drive.google.com/file/d/17_Be9PEpJCKiNr…",
         "date_pub": "01-01-2019",
         "date_last_mod": "01-05-2021",
         "html_tags": "['h3', 'strong', 'ul', 'li', 'a', 'li', 'a', 'li', 'a', 'li', 'a', 'li', 'a', 'li', 'a', 'div', 'di…",
         "html_tag_freq": "{'h3': 1, 'strong': 13, 'ul': 8, 'li': 41, 'a': 8, 'div': 17, 'p': 23, 'table': 3, 'tr': 11, 'td': …",
         "html_emphasized_elements": "['“learning from data is virtually universally useful. master it and you’ll be welcomed nearly ever…",
         "Data Gathering, Preparation and Exploration": 0.1320754716981132,
         "Data Representation and Transformation": 0.1698113207547169,
         "Computing with Data": 0.3396226415094339,
         "Data Modeling": 0.1886792452830188,
         "Data Visualization and Presentation": 0.1320754716981132,
         "Science about Data Science": 0.0377358490566037,
         "Not determinable": 0,
         "country": "India",
         "gds_mean": 0.1666666666666666,
         "gds_stdev": 0.0994228031879918,
         "band": "Band 2",
         "char_cnt": 966,
         "word_cnt": 137,
         "sent_cnt": 5,
         "digits_cnt": 0,
         "mean_chars_per_word": 5.963503649635037,
         "median_chars_per_word": 6,
         "mean_words_per_sent": 27.4,
         "median_words_per_sent": 29,
         "common_nouns_cnt": 49,
         "proper_nouns_cnt": 5,
         "adjectives_cnt": 20,
         "verbs_cnt": 13,
         "numerals_cnt": 0,
         "flesch_kincaid": 18.3,
         "dale_chall": 11.41,
         "mtld": 78.59405940594058,
         "_deepnote_index_column": 9
        },
        {
         "uni_name": "IIT Ropar",
         "pgm_name": "M.Tech Artificial Intelligence",
         "dur_yrs": "2",
         "type": "Public",
         "national_rank_qs": 25,
         "dept_involved": "Department of Computer Science and Engineering",
         "location": "Punjab",
         "url": "https://www.iitrpr.ac.in/information-about-mtech-artificial-intelligence",
         "descr": "1. The purpose is to develop a work force which can step up to the challenges of the upcoming age o…",
         "header_tag": "['h1']",
         "header_names": "[['Information about M.Tech in Artificial Intelligence ']]",
         "links": "no links in useful area",
         "date_pub": "01-01-2021",
         "date_last_mod": "01-01-2021",
         "html_tags": "['h1', 'span', 'div', 'div', 'div', 'span', 'div', 'div', 'div', 'div', 'style', 'p', 'p', 'strong'…",
         "html_tag_freq": "{'h1': 1, 'span': 337, 'div': 7, 'style': 1, 'p': 309, 'strong': 56, 'table': 8, 'tbody': 8, 'tr': …",
         "html_emphasized_elements": "['summer semester', 'semester iv', 'information about m.tech in artificial intelligence', 'mtech in…",
         "Data Gathering, Preparation and Exploration": 0.125,
         "Data Representation and Transformation": 0.2083333333333333,
         "Computing with Data": 0.375,
         "Data Modeling": 0.2083333333333333,
         "Data Visualization and Presentation": 0.0833333333333333,
         "Science about Data Science": 0,
         "Not determinable": 0,
         "country": "India",
         "gds_mean": 0.1666666666666666,
         "gds_stdev": 0.1290994448735805,
         "band": "Band 2",
         "char_cnt": 239,
         "word_cnt": 40,
         "sent_cnt": 4,
         "digits_cnt": 2,
         "mean_chars_per_word": 4.775,
         "median_chars_per_word": 4,
         "mean_words_per_sent": 10,
         "median_words_per_sent": 9,
         "common_nouns_cnt": 12,
         "proper_nouns_cnt": 1,
         "adjectives_cnt": 2,
         "verbs_cnt": 5,
         "numerals_cnt": 0,
         "flesch_kincaid": 10.3,
         "dale_chall": 8.81,
         "mtld": 49.77777777777779,
         "_deepnote_index_column": 10
        }
       ],
       "rows_bottom": [
        {
         "uni_name": "University of California, Irvine",
         "pgm_name": "Master of Arts in Social Sciences - Concentration in Demographic and Social Analysis",
         "dur_yrs": "1.0",
         "type": "Public",
         "national_rank_qs": 41,
         "dept_involved": "School of Social Analysis",
         "location": "Irvine",
         "url": "https://www.demography.uci.edu/masters.php",
         "descr": "The DASA program is organized around the interdisciplinary field of demography and draws faculty an…",
         "header_tag": "['h4', 'h3']",
         "header_names": "[['M.A. Program', 'COURSES'], ['Events throughout the Year', 'Best Paper Award Winners', \"What's in…",
         "links": "['/', 'https://reg.uci.edu/fees/', 'https://www.sociology.uci.edu/grad/courses.php', 'http://www.po…",
         "date_pub": "2016-01-01",
         "date_last_mod": "2016-01-01",
         "html_tags": "['div', 'div', 'div', 'h4', 'div', 'nav', 'ul', 'li', 'li', 'a', 'div', 'div', 'p', 'p', 'p', 'stro…",
         "html_tag_freq": "{'div': 20, 'h4': 2, 'nav': 1, 'ul': 8, 'li': 37, 'a': 6, 'p': 23, 'strong': 18, 'br': 9, 'hr': 2, …",
         "html_emphasized_elements": "['requirements', 'm.a. program', 'population soc', 'best paper award winners', 'equaling their chan…",
         "Data Gathering, Preparation and Exploration": 0.0769230769230769,
         "Data Representation and Transformation": 0.0769230769230769,
         "Computing with Data": 0.4615384615384615,
         "Data Modeling": 0.2307692307692307,
         "Data Visualization and Presentation": 0.1538461538461538,
         "Science about Data Science": 0,
         "Not determinable": 0,
         "country": "USA",
         "gds_mean": 0.1666666666666666,
         "gds_stdev": 0.1643827735879447,
         "band": "Band 3",
         "char_cnt": 786,
         "word_cnt": 117,
         "sent_cnt": 6,
         "digits_cnt": 1,
         "mean_chars_per_word": 5.632478632478633,
         "median_chars_per_word": 5,
         "mean_words_per_sent": 19.5,
         "median_words_per_sent": 19,
         "common_nouns_cnt": 33,
         "proper_nouns_cnt": 13,
         "adjectives_cnt": 9,
         "verbs_cnt": 12,
         "numerals_cnt": 1,
         "flesch_kincaid": 13.1,
         "dale_chall": 10.12,
         "mtld": 65.48262885330938,
         "_deepnote_index_column": 106
        },
        {
         "uni_name": "University of Illinois at Chicago",
         "pgm_name": "Master of Science in Business Analytics",
         "dur_yrs": "Not inferred",
         "type": "Public",
         "national_rank_qs": 43,
         "dept_involved": "School of Business",
         "location": "Chicago",
         "url": "https://catalog.uic.edu/gcat/colleges-schools/business-administration/bus-anal/",
         "descr": "The MS in Business Analytics combines foundational knowledge in (1) data management and business in…",
         "header_tag": "['h1', 'h2']",
         "header_names": "[['Business Analytics'], ['Admission and Degree Requirements']]",
         "links": "['/', '/gcat/', '/gcat/colleges-schools/', '/gcat/colleges-schools/business-administration/', '#tex…",
         "date_pub": "2021-01-01",
         "date_last_mod": "2021-01-01",
         "html_tags": "['div', 'ul', 'li', 'a', 'span', 'li', 'a', 'span', 'li', 'a', 'span', 'li', 'a', 'span', 'li', 'sp…",
         "html_tag_freq": "{'div': 93, 'ul': 3, 'li': 12, 'a': 143, 'span': 12, 'h1': 1, 'script': 1, 'p': 176, 'strong': 89, …",
         "html_emphasized_elements": "['ids577.  research methodology i.  4 hours.', 'ids567.  business data visualization.  2 hours.', '…",
         "Data Gathering, Preparation and Exploration": 0.1764705882352941,
         "Data Representation and Transformation": 0.2352941176470588,
         "Computing with Data": 0.2352941176470588,
         "Data Modeling": 0.1764705882352941,
         "Data Visualization and Presentation": 0.1764705882352941,
         "Science about Data Science": 0,
         "Not determinable": 0,
         "country": "USA",
         "gds_mean": 0.1666666666666666,
         "gds_stdev": 0.0865858908463514,
         "band": "Band 2",
         "char_cnt": 1100,
         "word_cnt": 145,
         "sent_cnt": 5,
         "digits_cnt": 4,
         "mean_chars_per_word": 6.4,
         "median_chars_per_word": 7,
         "mean_words_per_sent": 29,
         "median_words_per_sent": 40,
         "common_nouns_cnt": 65,
         "proper_nouns_cnt": 3,
         "adjectives_cnt": 11,
         "verbs_cnt": 12,
         "numerals_cnt": 2,
         "flesch_kincaid": 28,
         "dale_chall": 11.26,
         "mtld": 52.77524257125532,
         "_deepnote_index_column": 107
        },
        {
         "uni_name": "University of Illinois at Chicago",
         "pgm_name": "Master of Science in Civic Analytics",
         "dur_yrs": "Not inferred",
         "type": "Public",
         "national_rank_qs": 43,
         "dept_involved": "Department of Public Administration",
         "location": "Chicago",
         "url": "https://catalog.uic.edu/gcat/colleges-schools/urban-planning-public-affairs/civic-analytics/",
         "descr": "The Department of Public Administration offers course work leading to the MS in Civic Analytics, a …",
         "header_tag": "['h1', 'h2']",
         "header_names": "[['Civic Analytics'], ['Admission and Degree Requirements']]",
         "links": "['/', '/gcat/', '/gcat/colleges-schools/', '/gcat/colleges-schools/urban-planning-public-affairs/',…",
         "date_pub": "2021-01-01",
         "date_last_mod": "2021-01-01",
         "html_tags": "['div', 'ul', 'li', 'a', 'span', 'li', 'a', 'span', 'li', 'a', 'span', 'li', 'a', 'span', 'li', 'sp…",
         "html_tag_freq": "{'div': 83, 'ul': 3, 'li': 9, 'a': 40, 'span': 12, 'h1': 1, 'script': 1, 'p': 154, 'strong': 78, 'b…",
         "html_emphasized_elements": "['pa540.  research design for public administration.  4 hours.', 'pa563.  local government manageme…",
         "Data Gathering, Preparation and Exploration": 0.1666666666666666,
         "Data Representation and Transformation": 0.1666666666666666,
         "Computing with Data": 0.375,
         "Data Modeling": 0.125,
         "Data Visualization and Presentation": 0.125,
         "Science about Data Science": 0.0416666666666666,
         "Not determinable": 0,
         "country": "USA",
         "gds_mean": 0.1666666666666666,
         "gds_stdev": 0.1118033988749894,
         "band": "Band 2",
         "char_cnt": 233,
         "word_cnt": 38,
         "sent_cnt": 1,
         "digits_cnt": 1,
         "mean_chars_per_word": 5.105263157894737,
         "median_chars_per_word": 4.5,
         "mean_words_per_sent": 38,
         "median_words_per_sent": 38,
         "common_nouns_cnt": 9,
         "proper_nouns_cnt": 6,
         "adjectives_cnt": 4,
         "verbs_cnt": 3,
         "numerals_cnt": 0,
         "flesch_kincaid": 19.3,
         "dale_chall": 10.09,
         "mtld": 50.54000000000001,
         "_deepnote_index_column": 108
        },
        {
         "uni_name": "University at Buffalo SUNY",
         "pgm_name": "Master of Science in Business Analytics",
         "dur_yrs": "1.0",
         "type": "Public",
         "national_rank_qs": 46,
         "dept_involved": "School of Management",
         "location": "Buffalo",
         "url": "http://www.buffalo.edu/grad/programs/business-analytics-ms.html",
         "descr": "With a Master of Science in business analytics from the School of Management, you'll gain a combina…",
         "header_tag": "['h1', 'h2', 'h3', 'h4']",
         "header_names": "[['Business Analytics MS'], ['School of Management'], ['Program Description'], ['Instruction Method…",
         "links": "['https://ubmgtconnect.buffalo.edu/apply/', 'http://mgt.buffalo.edu/degree-programs/master-of-scien…",
         "date_pub": "2021-02-22",
         "date_last_mod": "2021-02-22",
         "html_tags": "['div', 'div', 'div', 'div', 'h1', 'div', 'div', 'div', 'div', 'h2', 'div', 'div', 'div', 'div', 'h…",
         "html_tag_freq": "{'div': 105, 'h1': 1, 'h2': 1, 'h3': 1, 'p': 5, 'br': 8, 'a': 4, 'span': 3, 'h4': 6, 'ul': 6, 'li':…",
         "html_emphasized_elements": "['time-to-degree', 'program description', 'credits required', 'business analytics ms', 'application…",
         "Data Gathering, Preparation and Exploration": 0.1363636363636363,
         "Data Representation and Transformation": 0.2727272727272727,
         "Computing with Data": 0.2272727272727272,
         "Data Modeling": 0.1818181818181818,
         "Data Visualization and Presentation": 0.1818181818181818,
         "Science about Data Science": 0,
         "Not determinable": 0,
         "country": "USA",
         "gds_mean": 0.1666666666666666,
         "gds_stdev": 0.093890505362604,
         "band": "Band 2",
         "char_cnt": 897,
         "word_cnt": 136,
         "sent_cnt": 5,
         "digits_cnt": 0,
         "mean_chars_per_word": 5.529411764705882,
         "median_chars_per_word": 4.5,
         "mean_words_per_sent": 27.2,
         "median_words_per_sent": 30,
         "common_nouns_cnt": 44,
         "proper_nouns_cnt": 4,
         "adjectives_cnt": 10,
         "verbs_cnt": 17,
         "numerals_cnt": 0,
         "flesch_kincaid": 18.5,
         "dale_chall": 10.3,
         "mtld": 81.71010638297874,
         "_deepnote_index_column": 109
        },
        {
         "uni_name": "University at Buffalo SUNY",
         "pgm_name": "Master of Science in Data Analysis in the Social Sciences",
         "dur_yrs": "2.0",
         "type": "Public",
         "national_rank_qs": 46,
         "dept_involved": "Department of Social Sciences",
         "location": "Buffalo",
         "url": "http://www.buffalo.edu/grad/programs/data-analysis-in-the-social-sciences-ms.html",
         "descr": "Data analysis skills have become a critical component of Social Sciences research and are sought af…",
         "header_tag": "['h1', 'h2', 'h3', 'h4']",
         "header_names": "[['Data Analysis in the Social Sciences MS'], ['College of Arts and Sciences'], ['Program Descripti…",
         "links": "['https://ubgradconnect.buffalo.edu/apply/?sr=273262f1-a0b7-4960-8f17-6eabaa1e277b', 'https://arts-…",
         "date_pub": "2021-01-21",
         "date_last_mod": "2021-01-21",
         "html_tags": "['div', 'div', 'div', 'div', 'h1', 'div', 'div', 'div', 'div', 'h2', 'div', 'div', 'div', 'div', 'h…",
         "html_tag_freq": "{'div': 93, 'h1': 1, 'h2': 1, 'h3': 1, 'p': 4, 'a': 4, 'br': 7, 'span': 3, 'h4': 5, 'ul': 5, 'li': …",
         "html_emphasized_elements": "['time-to-degree', 'this program is officially registered with the new york state education departm…",
         "Data Gathering, Preparation and Exploration": 0.1111111111111111,
         "Data Representation and Transformation": 0.1111111111111111,
         "Computing with Data": 0.4444444444444444,
         "Data Modeling": 0.2222222222222222,
         "Data Visualization and Presentation": 0.1111111111111111,
         "Science about Data Science": 0,
         "Not determinable": 0,
         "country": "USA",
         "gds_mean": 0.1666666666666666,
         "gds_stdev": 0.1531560972454469,
         "band": "Band 2",
         "char_cnt": 1957,
         "word_cnt": 295,
         "sent_cnt": 12,
         "digits_cnt": 4,
         "mean_chars_per_word": 5.579661016949153,
         "median_chars_per_word": 5,
         "mean_words_per_sent": 24.583333333333332,
         "median_words_per_sent": 25,
         "common_nouns_cnt": 76,
         "proper_nouns_cnt": 52,
         "adjectives_cnt": 31,
         "verbs_cnt": 24,
         "numerals_cnt": 8,
         "flesch_kincaid": 24.3,
         "dale_chall": 10.42,
         "mtld": 108.91014214478133,
         "_deepnote_index_column": 110
        },
        {
         "uni_name": "University at Buffalo SUNY",
         "pgm_name": "Master of Professional Studies in Data Sciences and Applications",
         "dur_yrs": "2.0",
         "type": "Public",
         "national_rank_qs": 46,
         "dept_involved": "Institute for Computational and Data Sciences",
         "location": "Buffalo",
         "url": "https://www.buffalo.edu/icds/programs-and-degrees/mps.html",
         "descr": "This program was created in consultation with companies such as IBM and HP, Sentient Science, Calsp…",
         "header_tag": "['h1', 'h2', 'h3']",
         "header_names": "[[\"Master's of Professional Studies: Data Sciences and Applications\"], ['On this page:', 'About the…",
         "links": "['https://ubseasconnect.buffalo.edu/apply/', 'https://ubseasconnect.buffalo.edu/register/webinquiry…",
         "date_pub": "2021-06-29",
         "date_last_mod": "2021-06-29",
         "html_tags": "['div', 'div', 'div', 'div', 'div', 'div', 'h1', 'div', 'div', 'noscript', 'picture', 'source', 'so…",
         "html_tag_freq": "{'div': 54, 'h1': 1, 'noscript': 1, 'picture': 2, 'source': 6, 'img': 2, 'script': 3, 'p': 34, 'br'…",
         "html_emphasized_elements": "['course requirements', 'cda 531/mth 511 probability and data analysis', 'cda 542/cse 574 machine l…",
         "Data Gathering, Preparation and Exploration": 0.1538461538461538,
         "Data Representation and Transformation": 0.1923076923076923,
         "Computing with Data": 0.2692307692307692,
         "Data Modeling": 0.1923076923076923,
         "Data Visualization and Presentation": 0.1538461538461538,
         "Science about Data Science": 0.0384615384615384,
         "Not determinable": 0,
         "country": "USA",
         "gds_mean": 0.1666666666666666,
         "gds_stdev": 0.0756301600192442,
         "band": "Band 1",
         "char_cnt": 714,
         "word_cnt": 117,
         "sent_cnt": 5,
         "digits_cnt": 3,
         "mean_chars_per_word": 4.957264957264957,
         "median_chars_per_word": 4,
         "mean_words_per_sent": 23.4,
         "median_words_per_sent": 16,
         "common_nouns_cnt": 24,
         "proper_nouns_cnt": 15,
         "adjectives_cnt": 13,
         "verbs_cnt": 15,
         "numerals_cnt": 4,
         "flesch_kincaid": 25.9,
         "dale_chall": 11.14,
         "mtld": 161.00000000000006,
         "_deepnote_index_column": 111
        },
        {
         "uni_name": "Pennsylvania State University",
         "pgm_name": "Master of Science in Data Analytics",
         "dur_yrs": "2.0",
         "type": "Public",
         "national_rank_qs": 47,
         "dept_involved": "School of Graduate Professional Studies",
         "location": "University Park",
         "url": "https://bulletins.psu.edu/graduate/programs/majors/data-analytics/",
         "descr": "Penn State Great Valley offers two graduate programs that cultivate the skills to collect, classify…",
         "header_tag": "['h1', 'h2', 'h3', 'h4']",
         "header_names": "[['Data Analytics'], ['Admission Requirements', 'Degree Requirements', 'Student Aid', 'Courses', 'L…",
         "links": "['/', '/graduate/', '/graduate/programs/', '/graduate/programs/majors/', '#textcontainer', '#admiss…",
         "date_pub": "2021-01-01",
         "date_last_mod": "2021-01-01",
         "html_tags": "['div', 'div', 'nav', 'ul', 'li', 'a', 'span', 'li', 'a', 'span', 'li', 'a', 'span', 'li', 'a', 'sp…",
         "html_tag_freq": "{'div': 19, 'nav': 3, 'ul': 3, 'li': 208, 'a': 242, 'span': 21, 'h1': 1, 'button': 1, 'i': 2, 'scri…",
         "html_emphasized_elements": "['degree requirements', 'master of science (m.s.)', 'base program', 'courses', 'marketing analytics…",
         "Data Gathering, Preparation and Exploration": 0.1578947368421052,
         "Data Representation and Transformation": 0.1842105263157894,
         "Computing with Data": 0.2631578947368421,
         "Data Modeling": 0.2105263157894736,
         "Data Visualization and Presentation": 0.1578947368421052,
         "Science about Data Science": 0.0263157894736842,
         "Not determinable": 0,
         "country": "USA",
         "gds_mean": 0.1666666666666666,
         "gds_stdev": 0.0792392266009558,
         "band": "Band 2",
         "char_cnt": 1210,
         "word_cnt": 181,
         "sent_cnt": 6,
         "digits_cnt": 1,
         "mean_chars_per_word": 5.569060773480663,
         "median_chars_per_word": 6,
         "mean_words_per_sent": 30.166666666666668,
         "median_words_per_sent": 32.5,
         "common_nouns_cnt": 48,
         "proper_nouns_cnt": 33,
         "adjectives_cnt": 12,
         "verbs_cnt": 23,
         "numerals_cnt": 1,
         "flesch_kincaid": 28.2,
         "dale_chall": 11.24,
         "mtld": 63.252840909090914,
         "_deepnote_index_column": 112
        },
        {
         "uni_name": "University of Maryland, College Park",
         "pgm_name": "Master of Professional Studies in Data Science and Analytics",
         "dur_yrs": "2.0",
         "type": "Public",
         "national_rank_qs": 48,
         "dept_involved": "Office of Extended Studies",
         "location": "College Park",
         "url": "https://oes.umd.edu/professionals-post-baccalaureates/professional-graduate-programs/data-science-a…",
         "descr": "Engage in cutting-edge learning with the University of Maryland’s Graduate Programs in Data Science…",
         "header_tag": "['h1', 'h4', 'h2']",
         "header_names": "[['Graduate Programs in Data Science and Analytics'], ['General Information for All Professional Gr…",
         "links": "['/professionals-post-baccalaureates/professional-graduate-programs/registration', '/professionals-…",
         "date_pub": "2016-09-08",
         "date_last_mod": "2016-09-08",
         "html_tags": "['div', 'div', 'div', 'div', 'div', 'h1', 'div', 'nav', 'h4', 'ul', 'li', 'a', 'li', 'a', 'li', 'a'…",
         "html_tag_freq": "{'div': 28, 'h1': 1, 'nav': 1, 'h4': 1, 'ul': 2, 'li': 19, 'a': 18, 'ol': 1, 'span': 10, 'strong': …",
         "html_emphasized_elements": "['general information for all professional graduate programs', 'tuition & fees', 'plan of study - g…",
         "Data Gathering, Preparation and Exploration": 0.1290322580645161,
         "Data Representation and Transformation": 0.1612903225806451,
         "Computing with Data": 0.3225806451612903,
         "Data Modeling": 0.2580645161290322,
         "Data Visualization and Presentation": 0.1290322580645161,
         "Science about Data Science": 0,
         "Not determinable": 0,
         "country": "USA",
         "gds_mean": 0.1666666666666666,
         "gds_stdev": 0.1125185458949266,
         "band": "Band 2",
         "char_cnt": 588,
         "word_cnt": 94,
         "sent_cnt": 4,
         "digits_cnt": 0,
         "mean_chars_per_word": 5.170212765957447,
         "median_chars_per_word": 4,
         "mean_words_per_sent": 23.5,
         "median_words_per_sent": 20,
         "common_nouns_cnt": 21,
         "proper_nouns_cnt": 12,
         "adjectives_cnt": 6,
         "verbs_cnt": 17,
         "numerals_cnt": 0,
         "flesch_kincaid": 14.3,
         "dale_chall": 9.89,
         "mtld": 92.41166666666668,
         "_deepnote_index_column": 113
        },
        {
         "uni_name": "University of Maryland, College Park",
         "pgm_name": "Master of Science in Applied Political Analytics",
         "dur_yrs": "Not inferred",
         "type": "Public",
         "national_rank_qs": 48,
         "dept_involved": "Department of Government and Politics",
         "location": "College Park",
         "url": "https://gvpt.umd.edu/landingtopic/ms-applied-political-analytics",
         "descr": "The Applied Political Analytics Program (APAN) offers promising students an opportunity to earn a m…",
         "header_tag": "['h4']",
         "header_names": "[['\\xa0', 'Standalone MS and 4+1 Options']]",
         "links": "['https://gvpt.umd.edu/landingtopic/ms-applied-political-analytics', 'https://gvpt.umd.edu/graduate…",
         "date_pub": "2018-08-01",
         "date_last_mod": "2018-08-01",
         "html_tags": "['div', 'div', 'p', 'p', 'p', 'strong', 'a', 'a', 'a', 'a', 'a', 'p', 'strong', 'a', 'a', 'a', 'a',…",
         "html_tag_freq": "{'div': 10, 'p': 13, 'strong': 3, 'a': 16, 'span': 67, 'h4': 2, 'em': 2, 'sup': 2, 'img': 1}",
         "html_emphasized_elements": "['home |program information|why apan? | faculty|thinking of applying?', 'standalone ms and 4+1 opti…",
         "Data Gathering, Preparation and Exploration": 0.16,
         "Data Representation and Transformation": 0.12,
         "Computing with Data": 0.44,
         "Data Modeling": 0.16,
         "Data Visualization and Presentation": 0.08,
         "Science about Data Science": 0.04,
         "Not determinable": 0,
         "country": "USA",
         "gds_mean": 0.1666666666666666,
         "gds_stdev": 0.1417979783588844,
         "band": "Band 2",
         "char_cnt": 2616,
         "word_cnt": 402,
         "sent_cnt": 17,
         "digits_cnt": 6,
         "mean_chars_per_word": 5.373134328358209,
         "median_chars_per_word": 4,
         "mean_words_per_sent": 23.647058823529413,
         "median_words_per_sent": 24,
         "common_nouns_cnt": 114,
         "proper_nouns_cnt": 20,
         "adjectives_cnt": 44,
         "verbs_cnt": 51,
         "numerals_cnt": 6,
         "flesch_kincaid": 16.5,
         "dale_chall": 10.13,
         "mtld": 103.11400135367955,
         "_deepnote_index_column": 114
        },
        {
         "uni_name": "University of Maryland, College Park",
         "pgm_name": "Master of Science in Business Analytics",
         "dur_yrs": "1.5",
         "type": "Public",
         "national_rank_qs": 48,
         "dept_involved": "School of Business",
         "location": "College Park",
         "url": "https://www.rhsmith.umd.edu/programs/business-masters/academics/business-analytics",
         "descr": "Discover the best ways to analyze big data in today’s fast-changing, data-driven world. The Master …",
         "header_tag": "['h1', 'h2', 'h3']",
         "header_names": "[['Master of Science in Business Analytics'], ['Why Get a Smith MS Business Analytics Degree?', 'Al…",
         "links": "['https://terpengage.force.com/community/CustomLoginPage?GradApp=True', 'https://drive.google.com/f…",
         "date_pub": "Not inferred",
         "date_last_mod": "Not inferred",
         "html_tags": "['div', 'div', 'div', 'img', 'div', 'div', 'h1', 'ul', 'li', 'a', 'li', 'a', 'div', 'div', 'div', '…",
         "html_tag_freq": "{'div': 285, 'img': 21, 'h1': 1, 'ul': 4, 'li': 42, 'a': 30, 'meta': 1, 'style': 3, 'script': 10, '…",
         "html_emphasized_elements": "['which part-time mba location do you prefer to attend?', 'tunay tunca', 'connect with your classma…",
         "Data Gathering, Preparation and Exploration": 0.1538461538461538,
         "Data Representation and Transformation": 0.1794871794871795,
         "Computing with Data": 0.282051282051282,
         "Data Modeling": 0.2307692307692307,
         "Data Visualization and Presentation": 0.1538461538461538,
         "Science about Data Science": 0,
         "Not determinable": 0,
         "country": "USA",
         "gds_mean": 0.1666666666666666,
         "gds_stdev": 0.0955966763195243,
         "band": "Band 2",
         "char_cnt": 1629,
         "word_cnt": 263,
         "sent_cnt": 9,
         "digits_cnt": 0,
         "mean_chars_per_word": 5.20532319391635,
         "median_chars_per_word": 4,
         "mean_words_per_sent": 29.22222222222222,
         "median_words_per_sent": 30,
         "common_nouns_cnt": 61,
         "proper_nouns_cnt": 15,
         "adjectives_cnt": 26,
         "verbs_cnt": 46,
         "numerals_cnt": 0,
         "flesch_kincaid": 20.4,
         "dale_chall": 9.72,
         "mtld": 84.71452537296238,
         "_deepnote_index_column": 115
        },
        {
         "uni_name": "University of Maryland, College Park",
         "pgm_name": "Master of Science in Marketing Analytics",
         "dur_yrs": "1.5",
         "type": "Public",
         "national_rank_qs": 48,
         "dept_involved": "School of Business",
         "location": "College Park",
         "url": "https://www.rhsmith.umd.edu/programs/business-masters/academics/marketing-analytics",
         "descr": "Maryland Smith’s Master of Science in Marketing Analytics (MSMA) program teaches you how to interpr…",
         "header_tag": "['h1', 'h2', 'h3']",
         "header_names": "[['Master of Science in Marketing Analytics'], ['Why Get a Smith MS Marketing Analytics Degree?', '…",
         "links": "['https://terpengage.force.com/community/CustomLoginPage?GradApp=True', 'https://drive.google.com/f…",
         "date_pub": "Not inferred",
         "date_last_mod": "Not inferred",
         "html_tags": "['div', 'div', 'div', 'img', 'div', 'div', 'h1', 'ul', 'li', 'a', 'li', 'a', 'div', 'div', 'div', '…",
         "html_tag_freq": "{'div': 279, 'img': 20, 'h1': 1, 'ul': 5, 'li': 38, 'a': 30, 'meta': 1, 'style': 3, 'script': 10, '…",
         "html_emphasized_elements": "['alexander binder, msma ’20', 'which part-time mba location do you prefer to attend?', 'yihan “har…",
         "Data Gathering, Preparation and Exploration": 0.1627906976744186,
         "Data Representation and Transformation": 0.1627906976744186,
         "Computing with Data": 0.2558139534883721,
         "Data Modeling": 0.1860465116279069,
         "Data Visualization and Presentation": 0.1860465116279069,
         "Science about Data Science": 0.0465116279069767,
         "Not determinable": 0,
         "country": "USA",
         "gds_mean": 0.1666666666666666,
         "gds_stdev": 0.0680671361814424,
         "band": "Band 1",
         "char_cnt": 1229,
         "word_cnt": 187,
         "sent_cnt": 7,
         "digits_cnt": 1,
         "mean_chars_per_word": 5.5828877005347595,
         "median_chars_per_word": 5,
         "mean_words_per_sent": 26.714285714285715,
         "median_words_per_sent": 25,
         "common_nouns_cnt": 52,
         "proper_nouns_cnt": 23,
         "adjectives_cnt": 15,
         "verbs_cnt": 29,
         "numerals_cnt": 1,
         "flesch_kincaid": 22.7,
         "dale_chall": 10.86,
         "mtld": 92.64895775687143,
         "_deepnote_index_column": 116
        }
       ]
      },
      "text/plain": "                                  uni_name  \\\n0    Indian Institute of Science Bangalore   \n1    Indian Institute of Science Bangalore   \n2                  University of Hyderabad   \n3                  University of Hyderabad   \n4                             IIT Guwahati   \n..                                     ...   \n112          Pennsylvania State University   \n113   University of Maryland, College Park   \n114   University of Maryland, College Park   \n115   University of Maryland, College Park   \n116   University of Maryland, College Park   \n\n                                              pgm_name       dur_yrs    type  \\\n0               M.Tech. Computational and Data Science             2  Public   \n1                      M.Tech. Artificial Intelligence             2  Public   \n2                               MBA Business Analytics             2  Public   \n3                      M.Tech. Artificial Intelligence             2  Public   \n4                                  M.Tech Data Science             2  Public   \n..                                                 ...           ...     ...   \n112                Master of Science in Data Analytics           2.0  Public   \n113  Master of Professional Studies in Data Science...           2.0  Public   \n114   Master of Science in Applied Political Analytics  Not inferred  Public   \n115            Master of Science in Business Analytics           1.5  Public   \n116           Master of Science in Marketing Analytics           1.5  Public   \n\n     national_rank_qs                                      dept_involved  \\\n0                   2      Department of Computational and Data Sciences   \n1                   2  Departments of Computer Science and Automation...   \n2                   8                       School of Management Studies   \n3                   8        School of Computer and Information Sciences   \n4                  10  Departments of Computer Science and Engineerin...   \n..                ...                                                ...   \n112                47            School of Graduate Professional Studies   \n113                48                         Office of Extended Studies   \n114                48              Department of Government and Politics   \n115                48                                 School of Business   \n116                48                                 School of Business   \n\n            location                                                url  \\\n0          Karnataka   http://cds.iisc.ac.in/admissions/course-degrees/   \n1          Karnataka                   https://eecs.iisc.ac.in/mtechai/   \n2          Telangana   https://smsuoh.ac.in/mba/mba-business-analytics/   \n3          Telangana  https://scis.uohyd.ac.in/Academic/Programmes/m...   \n4              Assam                         https://www.iitg.ac.in/ds/   \n..               ...                                                ...   \n112  University Park  https://bulletins.psu.edu/graduate/programs/ma...   \n113     College Park  https://oes.umd.edu/professionals-post-baccala...   \n114     College Park  https://gvpt.umd.edu/landingtopic/ms-applied-p...   \n115     College Park  https://www.rhsmith.umd.edu/programs/business-...   \n116     College Park  https://www.rhsmith.umd.edu/programs/business-...   \n\n                                                 descr  \\\n0    Computational Science and Data Science are int...   \n1      Artificial Intelligence has captured the ima...   \n2     The School has launched a two year MBA in Bus...   \n3     M.Tech Artificial Intelligence is also a four...   \n4     Data Science is gaining prominence in academi...   \n..                                                 ...   \n112  Penn State Great Valley offers two graduate pr...   \n113  Engage in cutting-edge learning with the Unive...   \n114  The Applied Political Analytics Program (APAN)...   \n115  Discover the best ways to analyze big data in ...   \n116  Maryland Smith’s Master of Science in Marketin...   \n\n                   header_tag  ... mean_words_per_sent median_words_per_sent  \\\n0          ['h1', 'h2', 'h3']  ...           29.333333                  28.0   \n1                ['h1', 'h2']  ...           18.769231                  18.0   \n2                ['h2', 'h4']  ...           17.458333                  13.5   \n3                      ['h2']  ...           20.333333                  23.0   \n4                Not inferred  ...           11.357143                  10.0   \n..                        ...  ...                 ...                   ...   \n112  ['h1', 'h2', 'h3', 'h4']  ...           30.166667                  32.5   \n113        ['h1', 'h4', 'h2']  ...           23.500000                  20.0   \n114                    ['h4']  ...           23.647059                  24.0   \n115        ['h1', 'h2', 'h3']  ...           29.222222                  30.0   \n116        ['h1', 'h2', 'h3']  ...           26.714286                  25.0   \n\n    common_nouns_cnt proper_nouns_cnt adjectives_cnt verbs_cnt numerals_cnt  \\\n0                 32                7             15         8            0   \n1                 71               23             27        24            4   \n2                124               69             25        34            8   \n3                 19                3              6         6            3   \n4                 59                8             14        19            5   \n..               ...              ...            ...       ...          ...   \n112               48               33             12        23            1   \n113               21               12              6        17            0   \n114              114               20             44        51            6   \n115               61               15             26        46            0   \n116               52               23             15        29            1   \n\n     flesch_kincaid  dale_chall        mtld  \n0              21.7       11.61   46.951849  \n1              14.6       10.41   79.344978  \n2              17.5        9.27   59.886627  \n3              14.4        9.76   67.280000  \n4              10.1        9.24   80.397106  \n..              ...         ...         ...  \n112            28.2       11.24   63.252841  \n113            14.3        9.89   92.411667  \n114            16.5       10.13  103.114001  \n115            20.4        9.72   84.714525  \n116            22.7       10.86   92.648958  \n\n[117 rows x 44 columns]",
      "text/html": "<div>\n<style scoped>\n    .dataframe tbody tr th:only-of-type {\n        vertical-align: middle;\n    }\n\n    .dataframe tbody tr th {\n        vertical-align: top;\n    }\n\n    .dataframe thead th {\n        text-align: right;\n    }\n</style>\n<table border=\"1\" class=\"dataframe\">\n  <thead>\n    <tr style=\"text-align: right;\">\n      <th></th>\n      <th>uni_name</th>\n      <th>pgm_name</th>\n      <th>dur_yrs</th>\n      <th>type</th>\n      <th>national_rank_qs</th>\n      <th>dept_involved</th>\n      <th>location</th>\n      <th>url</th>\n      <th>descr</th>\n      <th>header_tag</th>\n      <th>...</th>\n      <th>mean_words_per_sent</th>\n      <th>median_words_per_sent</th>\n      <th>common_nouns_cnt</th>\n      <th>proper_nouns_cnt</th>\n      <th>adjectives_cnt</th>\n      <th>verbs_cnt</th>\n      <th>numerals_cnt</th>\n      <th>flesch_kincaid</th>\n      <th>dale_chall</th>\n      <th>mtld</th>\n    </tr>\n  </thead>\n  <tbody>\n    <tr>\n      <th>0</th>\n      <td>Indian Institute of Science Bangalore</td>\n      <td>M.Tech. Computational and Data Science</td>\n      <td>2</td>\n      <td>Public</td>\n      <td>2</td>\n      <td>Department of Computational and Data Sciences</td>\n      <td>Karnataka</td>\n      <td>http://cds.iisc.ac.in/admissions/course-degrees/</td>\n      <td>Computational Science and Data Science are int...</td>\n      <td>['h1', 'h2', 'h3']</td>\n      <td>...</td>\n      <td>29.333333</td>\n      <td>28.0</td>\n      <td>32</td>\n      <td>7</td>\n      <td>15</td>\n      <td>8</td>\n      <td>0</td>\n      <td>21.7</td>\n      <td>11.61</td>\n      <td>46.951849</td>\n    </tr>\n    <tr>\n      <th>1</th>\n      <td>Indian Institute of Science Bangalore</td>\n      <td>M.Tech. Artificial Intelligence</td>\n      <td>2</td>\n      <td>Public</td>\n      <td>2</td>\n      <td>Departments of Computer Science and Automation...</td>\n      <td>Karnataka</td>\n      <td>https://eecs.iisc.ac.in/mtechai/</td>\n      <td>Artificial Intelligence has captured the ima...</td>\n      <td>['h1', 'h2']</td>\n      <td>...</td>\n      <td>18.769231</td>\n      <td>18.0</td>\n      <td>71</td>\n      <td>23</td>\n      <td>27</td>\n      <td>24</td>\n      <td>4</td>\n      <td>14.6</td>\n      <td>10.41</td>\n      <td>79.344978</td>\n    </tr>\n    <tr>\n      <th>2</th>\n      <td>University of Hyderabad</td>\n      <td>MBA Business Analytics</td>\n      <td>2</td>\n      <td>Public</td>\n      <td>8</td>\n      <td>School of Management Studies</td>\n      <td>Telangana</td>\n      <td>https://smsuoh.ac.in/mba/mba-business-analytics/</td>\n      <td>The School has launched a two year MBA in Bus...</td>\n      <td>['h2', 'h4']</td>\n      <td>...</td>\n      <td>17.458333</td>\n      <td>13.5</td>\n      <td>124</td>\n      <td>69</td>\n      <td>25</td>\n      <td>34</td>\n      <td>8</td>\n      <td>17.5</td>\n      <td>9.27</td>\n      <td>59.886627</td>\n    </tr>\n    <tr>\n      <th>3</th>\n      <td>University of Hyderabad</td>\n      <td>M.Tech. Artificial Intelligence</td>\n      <td>2</td>\n      <td>Public</td>\n      <td>8</td>\n      <td>School of Computer and Information Sciences</td>\n      <td>Telangana</td>\n      <td>https://scis.uohyd.ac.in/Academic/Programmes/m...</td>\n      <td>M.Tech Artificial Intelligence is also a four...</td>\n      <td>['h2']</td>\n      <td>...</td>\n      <td>20.333333</td>\n      <td>23.0</td>\n      <td>19</td>\n      <td>3</td>\n      <td>6</td>\n      <td>6</td>\n      <td>3</td>\n      <td>14.4</td>\n      <td>9.76</td>\n      <td>67.280000</td>\n    </tr>\n    <tr>\n      <th>4</th>\n      <td>IIT Guwahati</td>\n      <td>M.Tech Data Science</td>\n      <td>2</td>\n      <td>Public</td>\n      <td>10</td>\n      <td>Departments of Computer Science and Engineerin...</td>\n      <td>Assam</td>\n      <td>https://www.iitg.ac.in/ds/</td>\n      <td>Data Science is gaining prominence in academi...</td>\n      <td>Not inferred</td>\n      <td>...</td>\n      <td>11.357143</td>\n      <td>10.0</td>\n      <td>59</td>\n      <td>8</td>\n      <td>14</td>\n      <td>19</td>\n      <td>5</td>\n      <td>10.1</td>\n      <td>9.24</td>\n      <td>80.397106</td>\n    </tr>\n    <tr>\n      <th>...</th>\n      <td>...</td>\n      <td>...</td>\n      <td>...</td>\n      <td>...</td>\n      <td>...</td>\n      <td>...</td>\n      <td>...</td>\n      <td>...</td>\n      <td>...</td>\n      <td>...</td>\n      <td>...</td>\n      <td>...</td>\n      <td>...</td>\n      <td>...</td>\n      <td>...</td>\n      <td>...</td>\n      <td>...</td>\n      <td>...</td>\n      <td>...</td>\n      <td>...</td>\n      <td>...</td>\n    </tr>\n    <tr>\n      <th>112</th>\n      <td>Pennsylvania State University</td>\n      <td>Master of Science in Data Analytics</td>\n      <td>2.0</td>\n      <td>Public</td>\n      <td>47</td>\n      <td>School of Graduate Professional Studies</td>\n      <td>University Park</td>\n      <td>https://bulletins.psu.edu/graduate/programs/ma...</td>\n      <td>Penn State Great Valley offers two graduate pr...</td>\n      <td>['h1', 'h2', 'h3', 'h4']</td>\n      <td>...</td>\n      <td>30.166667</td>\n      <td>32.5</td>\n      <td>48</td>\n      <td>33</td>\n      <td>12</td>\n      <td>23</td>\n      <td>1</td>\n      <td>28.2</td>\n      <td>11.24</td>\n      <td>63.252841</td>\n    </tr>\n    <tr>\n      <th>113</th>\n      <td>University of Maryland, College Park</td>\n      <td>Master of Professional Studies in Data Science...</td>\n      <td>2.0</td>\n      <td>Public</td>\n      <td>48</td>\n      <td>Office of Extended Studies</td>\n      <td>College Park</td>\n      <td>https://oes.umd.edu/professionals-post-baccala...</td>\n      <td>Engage in cutting-edge learning with the Unive...</td>\n      <td>['h1', 'h4', 'h2']</td>\n      <td>...</td>\n      <td>23.500000</td>\n      <td>20.0</td>\n      <td>21</td>\n      <td>12</td>\n      <td>6</td>\n      <td>17</td>\n      <td>0</td>\n      <td>14.3</td>\n      <td>9.89</td>\n      <td>92.411667</td>\n    </tr>\n    <tr>\n      <th>114</th>\n      <td>University of Maryland, College Park</td>\n      <td>Master of Science in Applied Political Analytics</td>\n      <td>Not inferred</td>\n      <td>Public</td>\n      <td>48</td>\n      <td>Department of Government and Politics</td>\n      <td>College Park</td>\n      <td>https://gvpt.umd.edu/landingtopic/ms-applied-p...</td>\n      <td>The Applied Political Analytics Program (APAN)...</td>\n      <td>['h4']</td>\n      <td>...</td>\n      <td>23.647059</td>\n      <td>24.0</td>\n      <td>114</td>\n      <td>20</td>\n      <td>44</td>\n      <td>51</td>\n      <td>6</td>\n      <td>16.5</td>\n      <td>10.13</td>\n      <td>103.114001</td>\n    </tr>\n    <tr>\n      <th>115</th>\n      <td>University of Maryland, College Park</td>\n      <td>Master of Science in Business Analytics</td>\n      <td>1.5</td>\n      <td>Public</td>\n      <td>48</td>\n      <td>School of Business</td>\n      <td>College Park</td>\n      <td>https://www.rhsmith.umd.edu/programs/business-...</td>\n      <td>Discover the best ways to analyze big data in ...</td>\n      <td>['h1', 'h2', 'h3']</td>\n      <td>...</td>\n      <td>29.222222</td>\n      <td>30.0</td>\n      <td>61</td>\n      <td>15</td>\n      <td>26</td>\n      <td>46</td>\n      <td>0</td>\n      <td>20.4</td>\n      <td>9.72</td>\n      <td>84.714525</td>\n    </tr>\n    <tr>\n      <th>116</th>\n      <td>University of Maryland, College Park</td>\n      <td>Master of Science in Marketing Analytics</td>\n      <td>1.5</td>\n      <td>Public</td>\n      <td>48</td>\n      <td>School of Business</td>\n      <td>College Park</td>\n      <td>https://www.rhsmith.umd.edu/programs/business-...</td>\n      <td>Maryland Smith’s Master of Science in Marketin...</td>\n      <td>['h1', 'h2', 'h3']</td>\n      <td>...</td>\n      <td>26.714286</td>\n      <td>25.0</td>\n      <td>52</td>\n      <td>23</td>\n      <td>15</td>\n      <td>29</td>\n      <td>1</td>\n      <td>22.7</td>\n      <td>10.86</td>\n      <td>92.648958</td>\n    </tr>\n  </tbody>\n</table>\n<p>117 rows × 44 columns</p>\n</div>"
     },
     "metadata": {}
    }
   ]
  },
  {
   "cell_type": "markdown",
   "source": "<a style='text-decoration:none;line-height:16px;display:flex;color:#5B5B62;padding:10px;justify-content:end;' href='https://deepnote.com?utm_source=created-in-deepnote-cell&projectId=596b9f0a-2431-4aa3-878c-95287ebfbe9a' target=\"_blank\">\n<img alt='Created in deepnote.com' style='display:inline;max-height:16px;margin:0px;margin-right:7.5px;' src='data:image/svg+xml;base64,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' > </img>\nCreated in <span style='font-weight:600;margin-left:4px;'>Deepnote</span></a>",
   "metadata": {
    "tags": [],
    "created_in_deepnote_cell": true,
    "deepnote_cell_type": "markdown"
   }
  }
 ],
 "nbformat": 4,
 "nbformat_minor": 2,
 "metadata": {
  "orig_nbformat": 2,
  "deepnote": {
   "is_reactive": false
  },
  "deepnote_notebook_id": "d3a0fa00-5f8c-4d1e-825c-190e3caf91db",
  "deepnote_execution_queue": []
 }
}