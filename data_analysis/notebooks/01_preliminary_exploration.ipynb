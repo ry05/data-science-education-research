{
 "cells": [
  {
   "cell_type": "markdown",
   "source": [
    "# Preliminary Exploration - Program and Curriculum Data\r\n",
    "> Used for describing the data"
   ],
   "metadata": {
    "cell_id": "00000-e7b137b9-b75c-4b59-968c-7b9db742745f",
    "deepnote_cell_type": "markdown"
   }
  },
  {
   "cell_type": "code",
   "execution_count": 2,
   "source": [
    "import os\r\n",
    "\r\n",
    "import pandas as pd"
   ],
   "outputs": [],
   "metadata": {
    "cell_id": "00001-df9daef6-b256-4a88-aa0f-cf48cc5c881c",
    "deepnote_to_be_reexecuted": false,
    "source_hash": "3b177b6c",
    "execution_start": 1625320296335,
    "execution_millis": 7,
    "deepnote_cell_type": "code"
   }
  },
  {
   "cell_type": "code",
   "execution_count": 3,
   "source": [
    "data_path = \"../../data_collection/data/processed\"\r\n",
    "\r\n",
    "pgm_india = pd.read_csv(os.path.join(data_path, \"india_pgms.csv\"))\r\n",
    "pgm_usa = pd.read_csv(os.path.join(data_path, \"usa_pgms.csv\"))\r\n",
    "\r\n",
    "curr_india = pd.read_csv(os.path.join(data_path, \"india_curr.csv\"))\r\n",
    "curr_usa = pd.read_csv(os.path.join(data_path, \"usa_curr.csv\"))"
   ],
   "outputs": [],
   "metadata": {
    "cell_id": "00002-5bf7d938-a052-458e-9971-fa16579b2f31",
    "deepnote_to_be_reexecuted": false,
    "source_hash": "67a7c1ae",
    "execution_start": 1625320297777,
    "execution_millis": 70,
    "deepnote_cell_type": "code"
   }
  },
  {
   "cell_type": "code",
   "execution_count": 4,
   "source": [
    "def compile_summary(df):\r\n",
    "\r\n",
    "    print(f\"Number of variables: {df.shape[1]}\")\r\n",
    "    print(f\"Number of data points: {df.shape[0]}\")\r\n",
    "\r\n",
    "    fname = []\r\n",
    "    ftype = []\r\n",
    "    fmiss = []\r\n",
    "    funiq = []\r\n",
    "    \r\n",
    "    for col in df.columns:\r\n",
    "        fname.append(col)\r\n",
    "        ftype.append(df[col].dtype)\r\n",
    "        fmiss.append(df[col].isna().sum())\r\n",
    "        funiq.append(len(df[col].unique()))\r\n",
    "\r\n",
    "    fdf = pd.DataFrame(\r\n",
    "        dict(\r\n",
    "            feature_name = fname,\r\n",
    "            feature_type = ftype,\r\n",
    "            missing_values = fmiss,\r\n",
    "            unique_values = funiq\r\n",
    "        )\r\n",
    "    )\r\n",
    "\r\n",
    "    # get rid of columns with no data\r\n",
    "    fdf = fdf[fdf.missing_values != df.shape[0]]\r\n",
    "\r\n",
    "    print(fdf)\r\n"
   ],
   "outputs": [],
   "metadata": {
    "cell_id": "00003-e23788be-f4e9-4756-a29f-247ad75fbba3",
    "deepnote_to_be_reexecuted": false,
    "source_hash": "4acb81f7",
    "execution_start": 1625320298789,
    "execution_millis": 3,
    "deepnote_cell_type": "code"
   }
  },
  {
   "cell_type": "code",
   "execution_count": 5,
   "source": [
    "compile_summary(pgm_india)"
   ],
   "outputs": [
    {
     "output_type": "stream",
     "name": "stdout",
     "text": [
      "Number of variables: 17\n",
      "Number of data points: 33\n",
      "                feature_name feature_type  missing_values  unique_values\n",
      "0                   uni_name       object               0             18\n",
      "1                   pgm_name       object               0             23\n",
      "2                    dur_yrs        int64               0              1\n",
      "3                       type       object               0              2\n",
      "4           national_rank_qs        int64               0             17\n",
      "5              dept_involved       object               0             24\n",
      "6                   location       object               0             11\n",
      "7                        url       object               0             33\n",
      "8                      descr       object               4             30\n",
      "9                 header_tag       object              12             15\n",
      "10              header_names       object              12             22\n",
      "11                     links       object              12             20\n",
      "12                  date_pub       object               0             14\n",
      "13             date_last_mod       object               0             12\n",
      "14                 html_tags       object              12             22\n",
      "15             html_tag_freq       object              12             22\n",
      "16  html_emphasized_elements       object              12             22\n"
     ]
    }
   ],
   "metadata": {
    "cell_id": "00004-438c62c9-f883-4aa4-a4b5-63d5c0e8b221",
    "deepnote_to_be_reexecuted": false,
    "source_hash": "89a71175",
    "execution_start": 1625320299926,
    "execution_millis": 31,
    "deepnote_cell_type": "code"
   }
  },
  {
   "cell_type": "markdown",
   "source": [
    "1. 18 unique Indian universities\n",
    "2. 33 unique data programs\n",
    "3. 23 unique program names\n",
    "4. 24 unique departments involved (But not a great insight as names could be different while purpose remains same)\n",
    "5. 11 unique Indian states\n",
    "6. 30 programs have program descriptions on the website\n",
    "7. 11 programs use online PDF documents to detail their program as compared to the use of a program webpage\n",
    "    - Naturally, these document descriptions are very elaborate"
   ],
   "metadata": {
    "cell_id": "00005-cdfc4c19-e331-4862-8394-fc1215163c2d",
    "deepnote_cell_type": "markdown"
   }
  },
  {
   "cell_type": "code",
   "execution_count": 6,
   "source": [
    "compile_summary(pgm_usa)"
   ],
   "outputs": [
    {
     "output_type": "stream",
     "name": "stdout",
     "text": [
      "Number of variables: 17\n",
      "Number of data points: 81\n",
      "                feature_name feature_type  missing_values  unique_values\n",
      "0                   uni_name       object               0             37\n",
      "1                   pgm_name       object               0             49\n",
      "2                    dur_yrs      float64              26              4\n",
      "3                       type       object               0              2\n",
      "4           national_rank_qs        int64               0             34\n",
      "5              dept_involved       object               0             49\n",
      "6                   location       object               0             32\n",
      "7                        url       object               0             81\n",
      "8                      descr       object               0             81\n",
      "9                 header_tag       object               0             37\n",
      "10              header_names       object               0             79\n",
      "11                     links       object               0             81\n",
      "12                  date_pub       object               0             46\n",
      "13             date_last_mod       object               0             44\n",
      "14                 html_tags       object               0             81\n",
      "15             html_tag_freq       object               0             81\n",
      "16  html_emphasized_elements       object               0             81\n"
     ]
    }
   ],
   "metadata": {
    "cell_id": "00006-c39bcf0f-d53e-44f9-b180-4096ff821cb0",
    "deepnote_to_be_reexecuted": false,
    "source_hash": "1e0a9c0f",
    "execution_start": 1625320301664,
    "execution_millis": 29,
    "deepnote_cell_type": "code"
   }
  },
  {
   "cell_type": "markdown",
   "source": [
    "1. 37 unique US universities\n",
    "2. 81 unique programs\n",
    "3. 49 unique program names\n",
    "4. 49 diff departments involved\n",
    "5. All programs choose to display most program-related information on a program webpage"
   ],
   "metadata": {
    "cell_id": "00007-56f7dda3-8d7d-48f4-891f-1ef7f8cf8c49",
    "deepnote_cell_type": "markdown"
   }
  },
  {
   "cell_type": "code",
   "execution_count": 7,
   "source": [
    "compile_summary(curr_india)"
   ],
   "outputs": [
    {
     "output_type": "stream",
     "name": "stdout",
     "text": [
      "Number of variables: 4\n",
      "Number of data points: 389\n",
      "                 feature_name feature_type  missing_values  unique_values\n",
      "0                         url       object               0             33\n",
      "1           compulsory course       object               3            313\n",
      "2  course outcome or overview       object             251            134\n",
      "3              topics covered       object             282            108\n"
     ]
    }
   ],
   "metadata": {
    "cell_id": "00008-bcf4ee9e-0c4a-4ca6-83c7-bf97ae284d1c",
    "deepnote_to_be_reexecuted": false,
    "source_hash": "63a2b206",
    "execution_start": 1625320303564,
    "execution_millis": 18,
    "deepnote_cell_type": "code"
   }
  },
  {
   "cell_type": "markdown",
   "source": [
    "1. 3 programs have no mention of compulsory courses\n",
    "2. ~250 compulsory courses have no course outcome or overview\n",
    "3. ~280 compulsory courses have no information on topics covered\n",
    "\n",
    "Fix\n",
    "1. Find how many have neither"
   ],
   "metadata": {
    "cell_id": "00009-f3e15803-bb41-49c5-b8c1-6d2eaf6ce267",
    "deepnote_cell_type": "markdown"
   }
  },
  {
   "cell_type": "code",
   "execution_count": 8,
   "source": [
    "compile_summary(curr_usa)"
   ],
   "outputs": [
    {
     "output_type": "stream",
     "name": "stdout",
     "text": [
      "Number of variables: 4\n",
      "Number of data points: 613\n",
      "                 feature_name feature_type  missing_values  unique_values\n",
      "0                         url       object               0             81\n",
      "1           compulsory course       object               0            533\n",
      "2  course outcome or overview       object             163            388\n",
      "3              topics covered       object             599             15\n"
     ]
    }
   ],
   "metadata": {
    "cell_id": "00010-ae5e0eb9-58ce-4e59-9e0b-0a375d3f3747",
    "deepnote_to_be_reexecuted": false,
    "source_hash": "8a30993c",
    "execution_start": 1625320305021,
    "execution_millis": 15,
    "deepnote_cell_type": "code"
   }
  },
  {
   "cell_type": "markdown",
   "source": [
    "1. ~160 compulsory courses have no course outcome or overview\n",
    "2. ~600 compulsory courses have no topics covered mention\n",
    "\n",
    "Fix\n",
    "1. Talk about the distinction between course outcome and topics covered\n",
    "    - Why is this more prominent in Indian programs and less pronounced in programs in the USA"
   ],
   "metadata": {
    "cell_id": "00011-fdce5fcd-b510-49d2-98e4-8564ad0b10e4",
    "deepnote_cell_type": "markdown"
   }
  },
  {
   "cell_type": "code",
   "execution_count": 9,
   "source": [
    "def summarize_curriculum(df, name=\"country\"):\r\n",
    "\r\n",
    "    print(f\"Summary of data program curriculums in {name}\")\r\n",
    "    print(f\"A. Dataset Information\")\r\n",
    "    print(f\"  Number of programs: {len(df.url.unique())}\")\r\n",
    "    print(f\"  Median number of compulsory courses per program: {df.groupby(['url'], as_index=False).agg({'compulsory course': 'count'})['compulsory course'].median()}\")\r\n",
    "    \r\n",
    "    df = df.fillna(\"Not inferred\")\r\n",
    "    print(f\"  Median number of words per course outcomes: {df['course outcome or overview'].apply(lambda x: len(x) if x != 'Not inferred' else 0).median()}\")"
   ],
   "outputs": [],
   "metadata": {
    "cell_id": "00012-e178296e-472a-48b3-856b-3189d6ab4ef8",
    "deepnote_to_be_reexecuted": false,
    "source_hash": "d7728da6",
    "execution_start": 1625320306623,
    "execution_millis": 3,
    "deepnote_cell_type": "code"
   }
  },
  {
   "cell_type": "code",
   "execution_count": 10,
   "source": [
    "summarize_curriculum(curr_india, \"India\")"
   ],
   "outputs": [
    {
     "output_type": "stream",
     "name": "stdout",
     "text": [
      "Summary of data program curriculums in India\n",
      "A. Dataset Information\n",
      "  Number of programs: 33\n",
      "  Median number of compulsory courses per program: 12.0\n",
      "  Median number of words per course outcomes: 0.0\n"
     ]
    }
   ],
   "metadata": {
    "cell_id": "00013-97023ecf-3d57-4e34-ae0a-fe0fb38c84b1",
    "deepnote_to_be_reexecuted": false,
    "source_hash": "dd3af6b3",
    "execution_start": 1625320307653,
    "execution_millis": 24,
    "deepnote_cell_type": "code"
   }
  },
  {
   "cell_type": "code",
   "execution_count": 11,
   "source": [
    "summarize_curriculum(curr_usa, \"USA\")"
   ],
   "outputs": [
    {
     "output_type": "stream",
     "name": "stdout",
     "text": [
      "Summary of data program curriculums in USA\n",
      "A. Dataset Information\n",
      "  Number of programs: 81\n",
      "  Median number of compulsory courses per program: 7.0\n",
      "  Median number of words per course outcomes: 232.0\n"
     ]
    }
   ],
   "metadata": {
    "cell_id": "00014-c4acf5bf-b35c-45f4-8e39-5d1012c199f3",
    "deepnote_to_be_reexecuted": false,
    "source_hash": "268b6b0e",
    "execution_start": 1625320308974,
    "execution_millis": 16,
    "deepnote_cell_type": "code"
   }
  }
 ],
 "nbformat": 4,
 "nbformat_minor": 2,
 "metadata": {
  "interpreter": {
   "hash": "c236e00cb2504b8feadf115dc1fb937fdc1f15d4b269bc00694bd48dbccf7690"
  },
  "kernelspec": {
   "display_name": "Python 3.8.10 64-bit ('capstone_project': conda)",
   "name": "python3"
  },
  "language_info": {
   "codemirror_mode": {
    "name": "ipython",
    "version": 3
   },
   "file_extension": ".py",
   "mimetype": "text/x-python",
   "name": "python",
   "nbconvert_exporter": "python",
   "pygments_lexer": "ipython3",
   "version": "3.8.10"
  },
  "orig_nbformat": 4,
  "deepnote_notebook_id": "70b63b1e-a002-44ad-b100-99341f986800",
  "deepnote": {},
  "deepnote_execution_queue": []
 }
}