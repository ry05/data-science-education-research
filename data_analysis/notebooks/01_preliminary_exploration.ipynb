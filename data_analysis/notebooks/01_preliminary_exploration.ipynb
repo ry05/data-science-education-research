{
 "cells": [
  {
   "cell_type": "markdown",
   "metadata": {},
   "source": [
    "# Preliminary Exploration"
   ]
  },
  {
   "cell_type": "code",
   "execution_count": 11,
   "metadata": {},
   "outputs": [],
   "source": [
    "import os\r\n",
    "\r\n",
    "import pandas as pd"
   ]
  },
  {
   "cell_type": "code",
   "execution_count": 13,
   "metadata": {},
   "outputs": [],
   "source": [
    "data_path = \"../../data_collection/data/processed\"\r\n",
    "\r\n",
    "pgm_india = pd.read_csv(os.path.join(data_path, \"india_pgms.csv\"))\r\n",
    "pgm_usa = pd.read_csv(os.path.join(data_path, \"usa_pgms.csv\"))\r\n",
    "\r\n",
    "curr_india = pd.read_csv(os.path.join(data_path, \"india_curr.csv\"))\r\n",
    "curr_usa = pd.read_csv(os.path.join(data_path, \"usa_curr.csv\"))"
   ]
  },
  {
   "cell_type": "code",
   "execution_count": 14,
   "metadata": {},
   "outputs": [],
   "source": [
    "def compile_summary(df):\r\n",
    "\r\n",
    "    print(f\"Number of variables: {df.shape[1]}\")\r\n",
    "    print(f\"Number of data points: {df.shape[0]}\")\r\n",
    "\r\n",
    "    fname = []\r\n",
    "    ftype = []\r\n",
    "    fmiss = []\r\n",
    "    funiq = []\r\n",
    "    \r\n",
    "    for col in df.columns:\r\n",
    "        fname.append(col)\r\n",
    "        ftype.append(df[col].dtype)\r\n",
    "        fmiss.append(df[col].isna().sum())\r\n",
    "        funiq.append(len(df[col].unique()))\r\n",
    "\r\n",
    "    fdf = pd.DataFrame(\r\n",
    "        dict(\r\n",
    "            feature_name = fname,\r\n",
    "            feature_type = ftype,\r\n",
    "            missing_values = fmiss,\r\n",
    "            unique_values = funiq\r\n",
    "        )\r\n",
    "    )\r\n",
    "\r\n",
    "    # get rid of columns with no data\r\n",
    "    fdf = fdf[fdf.missing_values != df.shape[0]]\r\n",
    "\r\n",
    "    print(fdf)\r\n"
   ]
  },
  {
   "cell_type": "code",
   "execution_count": 15,
   "metadata": {},
   "outputs": [
    {
     "name": "stdout",
     "output_type": "stream",
     "text": [
      "Number of variables: 17\n",
      "Number of data points: 33\n",
      "                feature_name feature_type  missing_values  unique_values\n",
      "0                   uni_name       object               0             18\n",
      "1                   pgm_name       object               0             23\n",
      "2                    dur_yrs        int64               0              1\n",
      "3                       type       object               0              2\n",
      "4           national_rank_qs        int64               0             17\n",
      "5              dept_involved       object               0             24\n",
      "6                   location       object               0             11\n",
      "7                        url       object               0             33\n",
      "8                      descr       object               4             30\n",
      "9                 header_tag       object              12             15\n",
      "10              header_names       object              12             22\n",
      "11                     links       object              12             20\n",
      "12                  date_pub       object               0             14\n",
      "13             date_last_mod       object               0             12\n",
      "14                 html_tags       object              12             22\n",
      "15             html_tag_freq       object              12             22\n",
      "16  html_emphasized_elements       object              12             22\n"
     ]
    }
   ],
   "source": [
    "compile_summary(pgm_india)"
   ]
  },
  {
   "cell_type": "markdown",
   "metadata": {},
   "source": [
    "1. 18 unique Indian universities\r\n",
    "2. 33 unique data programs\r\n",
    "3. 23 unique program names\r\n",
    "4. 24 unique departments involved (But not a great insight as names could be different while purpose remains same)\r\n",
    "5. 11 unique Indian states\r\n",
    "6. 30 programs have program descriptions on the website\r\n",
    "7. 11 programs use online PDF documents to detail their program as compared to the use of a program webpage\r\n",
    "    - Naturally, these document descriptions are very elaborate"
   ]
  },
  {
   "cell_type": "code",
   "execution_count": 16,
   "metadata": {},
   "outputs": [
    {
     "name": "stdout",
     "output_type": "stream",
     "text": [
      "Number of variables: 17\n",
      "Number of data points: 81\n",
      "                feature_name feature_type  missing_values  unique_values\n",
      "0                   uni_name       object               0             37\n",
      "1                   pgm_name       object               0             49\n",
      "2                    dur_yrs      float64              26              4\n",
      "3                       type       object               0              2\n",
      "4           national_rank_qs        int64               0             34\n",
      "5              dept_involved       object               0             49\n",
      "6                   location       object               0             32\n",
      "7                        url       object               0             81\n",
      "8                      descr       object               0             81\n",
      "9                 header_tag       object               0             37\n",
      "10              header_names       object               0             79\n",
      "11                     links       object               0             81\n",
      "12                  date_pub       object               0             46\n",
      "13             date_last_mod       object               0             44\n",
      "14                 html_tags       object               0             81\n",
      "15             html_tag_freq       object               0             81\n",
      "16  html_emphasized_elements       object               0             81\n"
     ]
    }
   ],
   "source": [
    "compile_summary(pgm_usa)"
   ]
  },
  {
   "cell_type": "markdown",
   "metadata": {},
   "source": [
    "1. 37 unique US universities\r\n",
    "2. 81 unique programs\r\n",
    "3. 49 unique program names\r\n",
    "4. 49 diff departments involved\r\n",
    "5. All programs choose to display most program-related information on a program webpage"
   ]
  },
  {
   "cell_type": "code",
   "execution_count": 17,
   "metadata": {},
   "outputs": [
    {
     "name": "stdout",
     "output_type": "stream",
     "text": [
      "Number of variables: 4\n",
      "Number of data points: 389\n",
      "                 feature_name feature_type  missing_values  unique_values\n",
      "0                         url       object               0             33\n",
      "1           compulsory course       object               3            313\n",
      "2  course outcome or overview       object             251            134\n",
      "3              topics covered       object             282            108\n"
     ]
    }
   ],
   "source": [
    "compile_summary(curr_india)"
   ]
  },
  {
   "cell_type": "markdown",
   "metadata": {},
   "source": [
    "1. 3 programs have no mention of compulsory courses\r\n",
    "2. ~250 compulsory courses have no course outcome or overview\r\n",
    "3. ~280 compulsory courses have no information on topics covered\r\n",
    "\r\n",
    "Fix\r\n",
    "1. Find how many have neither"
   ]
  },
  {
   "cell_type": "code",
   "execution_count": 18,
   "metadata": {},
   "outputs": [
    {
     "name": "stdout",
     "output_type": "stream",
     "text": [
      "Number of variables: 6\n",
      "Number of data points: 613\n",
      "                 feature_name feature_type  missing_values  unique_values\n",
      "0                         url       object               0             81\n",
      "1           compulsory course       object               0            533\n",
      "2  course outcome or overview       object             163            388\n",
      "3              topics covered       object             599             15\n"
     ]
    }
   ],
   "source": [
    "compile_summary(curr_usa)"
   ]
  },
  {
   "cell_type": "markdown",
   "metadata": {},
   "source": [
    "1. ~160 compulsory courses have no course outcome or overview\r\n",
    "2. ~600 compulsory courses have no topics covered mention\r\n",
    "\r\n",
    "Fix\r\n",
    "1. Talk about the distinction between course outcome and topics covered\r\n",
    "    - Why is this more prominent in Indian programs and less pronounced in programs in the USA"
   ]
  },
  {
   "cell_type": "code",
   "execution_count": 19,
   "metadata": {},
   "outputs": [],
   "source": [
    "def summarize_curriculum(df, name=\"country\"):\r\n",
    "\r\n",
    "    print(f\"Summary of data program curriculums in {name}\")\r\n",
    "    print(f\"A. Dataset Information\")\r\n",
    "    print(f\"  Number of programs: {len(df.url.unique())}\")\r\n",
    "    print(f\"  Median number of compulsory courses per program: {df.groupby(['url'], as_index=False).agg({'compulsory course': 'count'})['compulsory course'].median()}\")\r\n",
    "    \r\n",
    "    df = df.fillna(\"Not inferred\")\r\n",
    "    print(f\"  Median number of words per course outcomes: {df['course outcome or overview'].apply(lambda x: len(x) if x != 'Not inferred' else 0).median()}\")"
   ]
  },
  {
   "cell_type": "code",
   "execution_count": 20,
   "metadata": {},
   "outputs": [
    {
     "name": "stdout",
     "output_type": "stream",
     "text": [
      "Summary of data program curriculums in India\n",
      "A. Dataset Information\n",
      "  Number of programs: 33\n",
      "  Median number of compulsory courses per program: 12.0\n",
      "  Median number of words per course outcomes: 0.0\n"
     ]
    }
   ],
   "source": [
    "summarize_curriculum(curr_india, \"India\")"
   ]
  },
  {
   "cell_type": "code",
   "execution_count": 21,
   "metadata": {},
   "outputs": [
    {
     "name": "stdout",
     "output_type": "stream",
     "text": [
      "Summary of data program curriculums in USA\n",
      "A. Dataset Information\n",
      "  Number of programs: 81\n",
      "  Median number of compulsory courses per program: 7.0\n",
      "  Median number of words per course outcomes: 232.0\n"
     ]
    }
   ],
   "source": [
    "summarize_curriculum(curr_usa, \"USA\")"
   ]
  }
 ],
 "metadata": {
  "interpreter": {
   "hash": "c236e00cb2504b8feadf115dc1fb937fdc1f15d4b269bc00694bd48dbccf7690"
  },
  "kernelspec": {
   "display_name": "Python 3.8.10 64-bit ('capstone_project': conda)",
   "name": "python3"
  },
  "language_info": {
   "codemirror_mode": {
    "name": "ipython",
    "version": 3
   },
   "file_extension": ".py",
   "mimetype": "text/x-python",
   "name": "python",
   "nbconvert_exporter": "python",
   "pygments_lexer": "ipython3",
   "version": "3.8.10"
  },
  "orig_nbformat": 4
 },
 "nbformat": 4,
 "nbformat_minor": 2
}