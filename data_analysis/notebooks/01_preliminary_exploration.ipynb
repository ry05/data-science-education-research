{
 "cells": [
  {
   "cell_type": "markdown",
   "source": "# Preliminary Exploration",
   "metadata": {
    "cell_id": "00000-e7b137b9-b75c-4b59-968c-7b9db742745f",
    "deepnote_cell_type": "markdown"
   }
  },
  {
   "cell_type": "code",
   "metadata": {
    "cell_id": "00001-df9daef6-b256-4a88-aa0f-cf48cc5c881c",
    "deepnote_to_be_reexecuted": false,
    "source_hash": "3b177b6c",
    "execution_start": 1625320296335,
    "execution_millis": 7,
    "deepnote_cell_type": "code"
   },
   "source": "import os\n\nimport pandas as pd",
   "execution_count": null,
   "outputs": []
  },
  {
   "cell_type": "code",
   "metadata": {
    "cell_id": "00002-5bf7d938-a052-458e-9971-fa16579b2f31",
    "deepnote_to_be_reexecuted": false,
    "source_hash": "67a7c1ae",
    "execution_start": 1625320297777,
    "execution_millis": 70,
    "deepnote_cell_type": "code"
   },
   "source": "data_path = \"../../data_collection/data/processed\"\n\npgm_india = pd.read_csv(os.path.join(data_path, \"india_pgms.csv\"))\npgm_usa = pd.read_csv(os.path.join(data_path, \"usa_pgms.csv\"))\n\ncurr_india = pd.read_csv(os.path.join(data_path, \"india_curr.csv\"))\ncurr_usa = pd.read_csv(os.path.join(data_path, \"usa_curr.csv\"))",
   "execution_count": null,
   "outputs": []
  },
  {
   "cell_type": "code",
   "metadata": {
    "cell_id": "00003-e23788be-f4e9-4756-a29f-247ad75fbba3",
    "deepnote_to_be_reexecuted": false,
    "source_hash": "4acb81f7",
    "execution_start": 1625320298789,
    "execution_millis": 3,
    "deepnote_cell_type": "code"
   },
   "source": "def compile_summary(df):\n\n    print(f\"Number of variables: {df.shape[1]}\")\n    print(f\"Number of data points: {df.shape[0]}\")\n\n    fname = []\n    ftype = []\n    fmiss = []\n    funiq = []\n    \n    for col in df.columns:\n        fname.append(col)\n        ftype.append(df[col].dtype)\n        fmiss.append(df[col].isna().sum())\n        funiq.append(len(df[col].unique()))\n\n    fdf = pd.DataFrame(\n        dict(\n            feature_name = fname,\n            feature_type = ftype,\n            missing_values = fmiss,\n            unique_values = funiq\n        )\n    )\n\n    # get rid of columns with no data\n    fdf = fdf[fdf.missing_values != df.shape[0]]\n\n    print(fdf)\n",
   "execution_count": null,
   "outputs": []
  },
  {
   "cell_type": "code",
   "metadata": {
    "cell_id": "00004-438c62c9-f883-4aa4-a4b5-63d5c0e8b221",
    "deepnote_to_be_reexecuted": false,
    "source_hash": "89a71175",
    "execution_start": 1625320299926,
    "execution_millis": 31,
    "deepnote_cell_type": "code"
   },
   "source": "compile_summary(pgm_india)",
   "execution_count": null,
   "outputs": [
    {
     "name": "stdout",
     "text": "Number of variables: 17\nNumber of data points: 33\n                feature_name feature_type  missing_values  unique_values\n0                   uni_name       object               0             18\n1                   pgm_name       object               0             23\n2                    dur_yrs        int64               0              1\n3                       type       object               0              2\n4           national_rank_qs        int64               0             17\n5              dept_involved       object               0             24\n6                   location       object               0             11\n7                        url       object               0             33\n8                      descr       object               4             30\n9                 header_tag       object              12             15\n10              header_names       object              12             22\n11                     links       object              12             20\n12                  date_pub       object               0             14\n13             date_last_mod       object               0             12\n14                 html_tags       object              12             22\n15             html_tag_freq       object              12             22\n16  html_emphasized_elements       object              12             22\n",
     "output_type": "stream"
    }
   ]
  },
  {
   "cell_type": "markdown",
   "source": "1. 18 unique Indian universities\n2. 33 unique data programs\n3. 23 unique program names\n4. 24 unique departments involved (But not a great insight as names could be different while purpose remains same)\n5. 11 unique Indian states\n6. 30 programs have program descriptions on the website\n7. 11 programs use online PDF documents to detail their program as compared to the use of a program webpage\n    - Naturally, these document descriptions are very elaborate",
   "metadata": {
    "cell_id": "00005-cdfc4c19-e331-4862-8394-fc1215163c2d",
    "deepnote_cell_type": "markdown"
   }
  },
  {
   "cell_type": "code",
   "metadata": {
    "cell_id": "00006-c39bcf0f-d53e-44f9-b180-4096ff821cb0",
    "deepnote_to_be_reexecuted": false,
    "source_hash": "1e0a9c0f",
    "execution_start": 1625320301664,
    "execution_millis": 29,
    "deepnote_cell_type": "code"
   },
   "source": "compile_summary(pgm_usa)",
   "execution_count": null,
   "outputs": [
    {
     "name": "stdout",
     "text": "Number of variables: 17\nNumber of data points: 81\n                feature_name feature_type  missing_values  unique_values\n0                   uni_name       object               0             37\n1                   pgm_name       object               0             49\n2                    dur_yrs      float64              26              4\n3                       type       object               0              2\n4           national_rank_qs        int64               0             34\n5              dept_involved       object               0             49\n6                   location       object               0             32\n7                        url       object               0             81\n8                      descr       object               0             81\n9                 header_tag       object               0             37\n10              header_names       object               0             79\n11                     links       object               0             81\n12                  date_pub       object               0             46\n13             date_last_mod       object               0             44\n14                 html_tags       object               0             81\n15             html_tag_freq       object               0             81\n16  html_emphasized_elements       object               0             81\n",
     "output_type": "stream"
    }
   ]
  },
  {
   "cell_type": "markdown",
   "source": "1. 37 unique US universities\n2. 81 unique programs\n3. 49 unique program names\n4. 49 diff departments involved\n5. All programs choose to display most program-related information on a program webpage",
   "metadata": {
    "cell_id": "00007-56f7dda3-8d7d-48f4-891f-1ef7f8cf8c49",
    "deepnote_cell_type": "markdown"
   }
  },
  {
   "cell_type": "code",
   "metadata": {
    "cell_id": "00008-bcf4ee9e-0c4a-4ca6-83c7-bf97ae284d1c",
    "deepnote_to_be_reexecuted": false,
    "source_hash": "63a2b206",
    "execution_start": 1625320303564,
    "execution_millis": 18,
    "deepnote_cell_type": "code"
   },
   "source": "compile_summary(curr_india)",
   "execution_count": null,
   "outputs": [
    {
     "name": "stdout",
     "text": "Number of variables: 4\nNumber of data points: 389\n                 feature_name feature_type  missing_values  unique_values\n0                         url       object               0             33\n1           compulsory course       object               3            313\n2  course outcome or overview       object             251            134\n3              topics covered       object             282            108\n",
     "output_type": "stream"
    }
   ]
  },
  {
   "cell_type": "markdown",
   "source": "1. 3 programs have no mention of compulsory courses\n2. ~250 compulsory courses have no course outcome or overview\n3. ~280 compulsory courses have no information on topics covered\n\nFix\n1. Find how many have neither",
   "metadata": {
    "cell_id": "00009-f3e15803-bb41-49c5-b8c1-6d2eaf6ce267",
    "deepnote_cell_type": "markdown"
   }
  },
  {
   "cell_type": "code",
   "metadata": {
    "cell_id": "00010-ae5e0eb9-58ce-4e59-9e0b-0a375d3f3747",
    "deepnote_to_be_reexecuted": false,
    "source_hash": "8a30993c",
    "execution_start": 1625320305021,
    "execution_millis": 15,
    "deepnote_cell_type": "code"
   },
   "source": "compile_summary(curr_usa)",
   "execution_count": null,
   "outputs": [
    {
     "name": "stdout",
     "text": "Number of variables: 6\nNumber of data points: 613\n                 feature_name feature_type  missing_values  unique_values\n0                         url       object               0             81\n1           compulsory course       object               0            533\n2  course outcome or overview       object             163            388\n3              topics covered       object             599             15\n",
     "output_type": "stream"
    }
   ]
  },
  {
   "cell_type": "markdown",
   "source": "1. ~160 compulsory courses have no course outcome or overview\n2. ~600 compulsory courses have no topics covered mention\n\nFix\n1. Talk about the distinction between course outcome and topics covered\n    - Why is this more prominent in Indian programs and less pronounced in programs in the USA",
   "metadata": {
    "cell_id": "00011-fdce5fcd-b510-49d2-98e4-8564ad0b10e4",
    "deepnote_cell_type": "markdown"
   }
  },
  {
   "cell_type": "code",
   "metadata": {
    "cell_id": "00012-e178296e-472a-48b3-856b-3189d6ab4ef8",
    "deepnote_to_be_reexecuted": false,
    "source_hash": "d7728da6",
    "execution_start": 1625320306623,
    "execution_millis": 3,
    "deepnote_cell_type": "code"
   },
   "source": "def summarize_curriculum(df, name=\"country\"):\n\n    print(f\"Summary of data program curriculums in {name}\")\n    print(f\"A. Dataset Information\")\n    print(f\"  Number of programs: {len(df.url.unique())}\")\n    print(f\"  Median number of compulsory courses per program: {df.groupby(['url'], as_index=False).agg({'compulsory course': 'count'})['compulsory course'].median()}\")\n    \n    df = df.fillna(\"Not inferred\")\n    print(f\"  Median number of words per course outcomes: {df['course outcome or overview'].apply(lambda x: len(x) if x != 'Not inferred' else 0).median()}\")",
   "execution_count": null,
   "outputs": []
  },
  {
   "cell_type": "code",
   "metadata": {
    "cell_id": "00013-97023ecf-3d57-4e34-ae0a-fe0fb38c84b1",
    "deepnote_to_be_reexecuted": false,
    "source_hash": "dd3af6b3",
    "execution_start": 1625320307653,
    "execution_millis": 24,
    "deepnote_cell_type": "code"
   },
   "source": "summarize_curriculum(curr_india, \"India\")",
   "execution_count": null,
   "outputs": [
    {
     "name": "stdout",
     "text": "Summary of data program curriculums in India\nA. Dataset Information\n  Number of programs: 33\n  Median number of compulsory courses per program: 12.0\n  Median number of words per course outcomes: 0.0\n",
     "output_type": "stream"
    }
   ]
  },
  {
   "cell_type": "code",
   "metadata": {
    "cell_id": "00014-c4acf5bf-b35c-45f4-8e39-5d1012c199f3",
    "deepnote_to_be_reexecuted": false,
    "source_hash": "268b6b0e",
    "execution_start": 1625320308974,
    "execution_millis": 16,
    "deepnote_cell_type": "code"
   },
   "source": "summarize_curriculum(curr_usa, \"USA\")",
   "execution_count": null,
   "outputs": [
    {
     "name": "stdout",
     "text": "Summary of data program curriculums in USA\nA. Dataset Information\n  Number of programs: 81\n  Median number of compulsory courses per program: 7.0\n  Median number of words per course outcomes: 232.0\n",
     "output_type": "stream"
    }
   ]
  },
  {
   "cell_type": "markdown",
   "source": "<a style='text-decoration:none;line-height:16px;display:flex;color:#5B5B62;padding:10px;justify-content:end;' href='https://deepnote.com?utm_source=created-in-deepnote-cell&projectId=596b9f0a-2431-4aa3-878c-95287ebfbe9a' target=\"_blank\">\n<img alt='Created in deepnote.com' style='display:inline;max-height:16px;margin:0px;margin-right:7.5px;' src='data:image/svg+xml;base64,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' > </img>\nCreated in <span style='font-weight:600;margin-left:4px;'>Deepnote</span></a>",
   "metadata": {
    "tags": [],
    "created_in_deepnote_cell": true,
    "deepnote_cell_type": "markdown"
   }
  }
 ],
 "nbformat": 4,
 "nbformat_minor": 2,
 "metadata": {
  "interpreter": {
   "hash": "c236e00cb2504b8feadf115dc1fb937fdc1f15d4b269bc00694bd48dbccf7690"
  },
  "kernelspec": {
   "display_name": "Python 3.8.10 64-bit ('capstone_project': conda)",
   "name": "python3"
  },
  "language_info": {
   "codemirror_mode": {
    "name": "ipython",
    "version": 3
   },
   "file_extension": ".py",
   "mimetype": "text/x-python",
   "name": "python",
   "nbconvert_exporter": "python",
   "pygments_lexer": "ipython3",
   "version": "3.8.10"
  },
  "orig_nbformat": 4,
  "deepnote_notebook_id": "70b63b1e-a002-44ad-b100-99341f986800",
  "deepnote": {},
  "deepnote_execution_queue": []
 }
}