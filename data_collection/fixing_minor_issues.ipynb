{
 "cells": [
  {
   "cell_type": "markdown",
   "metadata": {},
   "source": [
    "# Fixing Minor Problems with the Data"
   ]
  },
  {
   "cell_type": "code",
   "execution_count": 1,
   "metadata": {},
   "outputs": [],
   "source": [
    "import os\r\n",
    "\r\n",
    "import pandas as pd"
   ]
  },
  {
   "cell_type": "code",
   "execution_count": 2,
   "metadata": {},
   "outputs": [],
   "source": [
    "data_path = \"../data_collection/data/processed\"\r\n",
    "\r\n",
    "pgm_india = pd.read_csv(os.path.join(data_path, \"india_pgms.csv\"))\r\n",
    "pgm_usa = pd.read_csv(os.path.join(data_path, \"usa_pgms.csv\"))\r\n",
    "\r\n",
    "curr_india = pd.read_excel(os.path.join(data_path, \"curriculum_india.xlsx\"))\r\n",
    "curr_usa = pd.read_excel(os.path.join(data_path, \"curriculum_usa.xlsx\"))"
   ]
  },
  {
   "cell_type": "markdown",
   "metadata": {},
   "source": [
    "## India"
   ]
  },
  {
   "cell_type": "code",
   "execution_count": 3,
   "metadata": {},
   "outputs": [
    {
     "name": "stdout",
     "output_type": "stream",
     "text": [
      "<class 'pandas.core.frame.DataFrame'>\n",
      "RangeIndex: 33 entries, 0 to 32\n",
      "Data columns (total 17 columns):\n",
      " #   Column                    Non-Null Count  Dtype \n",
      "---  ------                    --------------  ----- \n",
      " 0   uni_name                  33 non-null     object\n",
      " 1   pgm_name                  33 non-null     object\n",
      " 2   dur_yrs                   33 non-null     int64 \n",
      " 3   type                      33 non-null     object\n",
      " 4   national_rank_qs          33 non-null     int64 \n",
      " 5   dept_involved             33 non-null     object\n",
      " 6   location                  33 non-null     object\n",
      " 7   url                       33 non-null     object\n",
      " 8   descr                     29 non-null     object\n",
      " 9   header_tag                21 non-null     object\n",
      " 10  header_names              21 non-null     object\n",
      " 11  links                     21 non-null     object\n",
      " 12  date_pub                  33 non-null     object\n",
      " 13  date_last_mod             33 non-null     object\n",
      " 14  html_tags                 21 non-null     object\n",
      " 15  html_tag_freq             21 non-null     object\n",
      " 16  html_emphasized_elements  21 non-null     object\n",
      "dtypes: int64(2), object(15)\n",
      "memory usage: 4.5+ KB\n",
      "None\n",
      "<class 'pandas.core.frame.DataFrame'>\n",
      "RangeIndex: 389 entries, 0 to 388\n",
      "Data columns (total 4 columns):\n",
      " #   Column                      Non-Null Count  Dtype \n",
      "---  ------                      --------------  ----- \n",
      " 0   url                         389 non-null    object\n",
      " 1   compulsory course           386 non-null    object\n",
      " 2   course outcome or overview  138 non-null    object\n",
      " 3   topics covered              107 non-null    object\n",
      "dtypes: object(4)\n",
      "memory usage: 12.3+ KB\n",
      "None\n"
     ]
    }
   ],
   "source": [
    "print(pgm_india.info())\r\n",
    "print(curr_india.info())"
   ]
  },
  {
   "cell_type": "code",
   "execution_count": 4,
   "metadata": {},
   "outputs": [
    {
     "name": "stdout",
     "output_type": "stream",
     "text": [
      "33\n",
      "33\n"
     ]
    }
   ],
   "source": [
    "print(len(pgm_india.url.unique()))\r\n",
    "print(len(curr_india.url.unique()))"
   ]
  },
  {
   "cell_type": "code",
   "execution_count": 5,
   "metadata": {},
   "outputs": [
    {
     "data": {
      "text/plain": [
       "32"
      ]
     },
     "execution_count": 5,
     "metadata": {},
     "output_type": "execute_result"
    }
   ],
   "source": [
    "url_pgms = pgm_india.url\r\n",
    "url_curr = curr_india.url\r\n",
    "\r\n",
    "len(set(url_pgms).intersection(set(url_curr)))"
   ]
  },
  {
   "cell_type": "code",
   "execution_count": 6,
   "metadata": {},
   "outputs": [
    {
     "data": {
      "text/plain": [
       "{'https://www.amity.edu/course-details.aspx?fd=FzNymoX3dH0=&cfn=B0SvGFGgVjeUke0/xjPA4g==&CD=B0SvGFGgVjeUke0/x#aspnetForm > sectionjPA4g=='}"
      ]
     },
     "execution_count": 6,
     "metadata": {},
     "output_type": "execute_result"
    }
   ],
   "source": [
    "set(url_pgms) - set(url_curr)"
   ]
  },
  {
   "cell_type": "code",
   "execution_count": 7,
   "metadata": {},
   "outputs": [
    {
     "data": {
      "text/plain": [
       "{'https://www.amity.edu/course-details.aspx?fd=FzNymoX3dH0=&cfn=B0SvGFGgVjeUke0/xjPA4g==&CD=B0SvGFGgVjeUke0/xjPA4g=='}"
      ]
     },
     "execution_count": 7,
     "metadata": {},
     "output_type": "execute_result"
    }
   ],
   "source": [
    "set(url_curr) - set(url_pgms)"
   ]
  },
  {
   "cell_type": "markdown",
   "metadata": {},
   "source": [
    "1. Both the above links refer to the same program webpage\r\n",
    "2. Therefore, they are encoded as the same"
   ]
  },
  {
   "cell_type": "code",
   "execution_count": 8,
   "metadata": {},
   "outputs": [],
   "source": [
    "# replace the url in pgm_india\r\n",
    "\r\n",
    "pgm_india.url = pgm_india.url.replace({\r\n",
    "    'https://www.amity.edu/course-details.aspx?fd=FzNymoX3dH0=&cfn=B0SvGFGgVjeUke0/xjPA4g==&CD=B0SvGFGgVjeUke0/x#aspnetForm > sectionjPA4g==': 'https://www.amity.edu/course-details.aspx?fd=FzNymoX3dH0=&cfn=B0SvGFGgVjeUke0/xjPA4g==&CD=B0SvGFGgVjeUke0/xjPA4g=='\r\n",
    "})\r\n"
   ]
  },
  {
   "cell_type": "markdown",
   "metadata": {},
   "source": [
    "## USA"
   ]
  },
  {
   "cell_type": "code",
   "execution_count": 9,
   "metadata": {},
   "outputs": [
    {
     "name": "stdout",
     "output_type": "stream",
     "text": [
      "81\n",
      "83\n"
     ]
    }
   ],
   "source": [
    "print(len(pgm_usa.url.unique()))\r\n",
    "print(len(curr_usa.url.unique()))"
   ]
  },
  {
   "cell_type": "code",
   "execution_count": 10,
   "metadata": {},
   "outputs": [
    {
     "data": {
      "text/plain": [
       "81"
      ]
     },
     "execution_count": 10,
     "metadata": {},
     "output_type": "execute_result"
    }
   ],
   "source": [
    "url_pgms = pgm_usa.url\r\n",
    "url_curr = curr_usa.url\r\n",
    "\r\n",
    "len(set(url_pgms).intersection(set(url_curr)))"
   ]
  },
  {
   "cell_type": "code",
   "execution_count": 11,
   "metadata": {},
   "outputs": [
    {
     "data": {
      "text/plain": [
       "set()"
      ]
     },
     "execution_count": 11,
     "metadata": {},
     "output_type": "execute_result"
    }
   ],
   "source": [
    "set(url_pgms) - set(url_curr)"
   ]
  },
  {
   "cell_type": "code",
   "execution_count": 12,
   "metadata": {},
   "outputs": [
    {
     "data": {
      "text/plain": [
       "{'https://mccourt.georgetown.edu/master-of-science-in-data-science-for-public-policy/#_ga=2.261589773.1422061659.1623151628-565262736.1623151629',\n",
       " 'https://mccourt.georgetown.edu/master-of-science-in-data-science-for-public-policy/#_ga=2.261589773.1422061659.1623151628-565262736.1623151630'}"
      ]
     },
     "execution_count": 12,
     "metadata": {},
     "output_type": "execute_result"
    }
   ],
   "source": [
    "set(url_curr) - set(url_pgms)"
   ]
  },
  {
   "cell_type": "markdown",
   "metadata": {},
   "source": [
    "1. All the links are of the same program webpage\r\n",
    "2. Replace the curriculum urls with the url of the program in pgm_usa"
   ]
  },
  {
   "cell_type": "code",
   "execution_count": 13,
   "metadata": {},
   "outputs": [],
   "source": [
    "# replace the url in pgm_india\r\n",
    "\r\n",
    "curr_usa.url = curr_usa.url.replace({\r\n",
    "    'https://mccourt.georgetown.edu/master-of-science-in-data-science-for-public-policy/#_ga=2.261589773.1422061659.1623151628-565262736.1623151630': 'https://mccourt.georgetown.edu/master-of-science-in-data-science-for-public-policy/#_ga=2.261589773.1422061659.1623151628-565262736.1623151628',\r\n",
    "    'https://mccourt.georgetown.edu/master-of-science-in-data-science-for-public-policy/#_ga=2.261589773.1422061659.1623151628-565262736.1623151629': 'https://mccourt.georgetown.edu/master-of-science-in-data-science-for-public-policy/#_ga=2.261589773.1422061659.1623151628-565262736.1623151628'\r\n",
    "})\r\n"
   ]
  },
  {
   "cell_type": "code",
   "execution_count": 14,
   "metadata": {},
   "outputs": [
    {
     "data": {
      "text/plain": [
       "set()"
      ]
     },
     "execution_count": 14,
     "metadata": {},
     "output_type": "execute_result"
    }
   ],
   "source": [
    "set(url_curr) - set(url_pgms)"
   ]
  },
  {
   "cell_type": "code",
   "execution_count": 16,
   "metadata": {},
   "outputs": [],
   "source": [
    "# save files\r\n",
    "\r\n",
    "# india\r\n",
    "pgm_india.to_csv(os.path.join(data_path, \"india_pgms.csv\"), index=False)\r\n",
    "curr_india.to_csv(os.path.join(data_path, \"india_curr.csv\"), index=False)\r\n",
    "\r\n",
    "# usa\r\n",
    "pgm_usa.to_csv(os.path.join(data_path, \"usa_pgms.csv\"), index=False)\r\n",
    "curr_usa.to_csv(os.path.join(data_path, \"usa_curr.csv\"), index=False)"
   ]
  }
 ],
 "metadata": {
  "interpreter": {
   "hash": "c236e00cb2504b8feadf115dc1fb937fdc1f15d4b269bc00694bd48dbccf7690"
  },
  "kernelspec": {
   "display_name": "Python 3.8.10 64-bit ('capstone_project': conda)",
   "name": "python3"
  },
  "language_info": {
   "codemirror_mode": {
    "name": "ipython",
    "version": 3
   },
   "file_extension": ".py",
   "mimetype": "text/x-python",
   "name": "python",
   "nbconvert_exporter": "python",
   "pygments_lexer": "ipython3",
   "version": "3.8.10"
  },
  "orig_nbformat": 4
 },
 "nbformat": 4,
 "nbformat_minor": 2
}