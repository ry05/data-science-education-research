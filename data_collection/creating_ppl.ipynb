{
 "metadata": {
  "language_info": {
   "codemirror_mode": {
    "name": "ipython",
    "version": 3
   },
   "file_extension": ".py",
   "mimetype": "text/x-python",
   "name": "python",
   "nbconvert_exporter": "python",
   "pygments_lexer": "ipython3",
   "version": "3.8.10"
  },
  "orig_nbformat": 2,
  "kernelspec": {
   "name": "python3810jvsc74a57bd0c236e00cb2504b8feadf115dc1fb937fdc1f15d4b269bc00694bd48dbccf7690",
   "display_name": "Python 3.8.10 64-bit ('capstone_project': conda)"
  },
  "metadata": {
   "interpreter": {
    "hash": "c236e00cb2504b8feadf115dc1fb937fdc1f15d4b269bc00694bd48dbccf7690"
   }
  }
 },
 "nbformat": 4,
 "nbformat_minor": 2,
 "cells": [
  {
   "cell_type": "code",
   "execution_count": 86,
   "metadata": {},
   "outputs": [],
   "source": [
    "import requests\n",
    "from bs4 import BeautifulSoup\n",
    "from selenium import webdriver\n",
    "from selenium.common.exceptions import ElementClickInterceptedException\n",
    "from selenium.webdriver.support.ui import WebDriverWait       \n",
    "from selenium.webdriver.common.by import By       \n",
    "from selenium.webdriver.support import expected_conditions as EC\n",
    "import time\n",
    "import json\n",
    "import pandas as pd\n",
    "import numpy as np\n",
    "import random\n",
    "\n",
    "import warnings\n",
    "warnings.filterwarnings('ignore')"
   ]
  },
  {
   "cell_type": "code",
   "execution_count": 3,
   "metadata": {},
   "outputs": [],
   "source": [
    "# main URL\n",
    "masterstudies = \"https://www.masterstudies.com/universities/USA/\""
   ]
  },
  {
   "cell_type": "code",
   "execution_count": 219,
   "metadata": {},
   "outputs": [
    {
     "output_type": "stream",
     "name": "stdout",
     "text": [
      "Opened home webpage\n",
      "Moved into Programs tab\n",
      "Moving to next page\n"
     ]
    }
   ],
   "source": [
    "# open the URL using the selenium driver\n",
    "driver = webdriver.Chrome(\"chromedriver_win32/chromedriver.exe\")\n",
    "driver.get(masterstudies)\n",
    "time.sleep(5)\n",
    "print(\"Opened home webpage\")\n",
    "\n",
    "# need to click on \"programs\"\n",
    "programs_tab_xpath = '//*[@id=\"main\"]/div/div[5]/div/div/div[2]'\n",
    "programs_tab = driver.find_element_by_xpath(programs_tab_xpath)\n",
    "driver.execute_script(\"arguments[0].click();\", programs_tab)\n",
    "programs_tab.click()\n",
    "time.sleep(5)\n",
    "print(\"Moved into Programs tab\")\n",
    "\n",
    "# program list\n",
    "#programs_xpath = '//*[@id=\"main\"]/div/div[6]/div/div[2]/div[2]/div[2]'\n",
    "#programs = driver.find_element_by_class_name('program-listitem')\n",
    "#programs = driver.find_elements_by_class_name('program-listitem')\n",
    "\n",
    "\n",
    "titles = []\n",
    "soup = BeautifulSoup(driver.page_source, 'html.parser')\n",
    "progs = soup.find_all('div', class_ = 'program-listitem')\n",
    "title = [prog.select(\".title\")[0].text for prog in progs]\n",
    "titles += title\n",
    "next_page_btn_xpath = '//*[@id=\"main\"]/div/div[6]/div/div[3]/a/button'\n",
    "btn = driver.find_element_by_xpath(next_page_btn_xpath)\n",
    "driver.execute_script(\"arguments[0].click();\", btn)\n",
    "print(\"Moving to next page\")\n"
   ]
  },
  {
   "cell_type": "code",
   "execution_count": 223,
   "metadata": {},
   "outputs": [],
   "source": [
    "titles = []\n",
    "url = []\n",
    "school = []\n",
    "degree = []\n",
    "pace = []\n",
    "duration = []\n",
    "languages = []\n",
    "start = []\n",
    "application = []\n",
    "based = []\n",
    "price = []\n",
    "\n",
    "keywords = ['data', 'analysis', 'analytics', 'machine learning', 'ml', 'artificial intelligence']"
   ]
  },
  {
   "cell_type": "code",
   "execution_count": 220,
   "metadata": {},
   "outputs": [
    {
     "output_type": "stream",
     "name": "stdout",
     "text": [
      "1\n",
      "Moving to next page\n",
      "2\n",
      "45\n"
     ]
    }
   ],
   "source": [
    "num_pages = 3\n",
    "for page in range(1, num_pages):\n",
    "    print(page)\n",
    "    soup = BeautifulSoup(driver.page_source, 'html.parser')\n",
    "    progs = soup.find_all('div', class_ = 'program-listitem')\n",
    "    title = [prog.select(\".title\")[0].text for prog in progs]\n",
    "    titles += title\n",
    "    if page != (num_pages-1):\n",
    "        # next page\n",
    "        next_page_btn_xpath = '//*[@id=\"main\"]/div/div[6]/div/div[3]/a[2]/button'\n",
    "        btn = driver.find_element_by_xpath(next_page_btn_xpath)\n",
    "        driver.execute_script(\"arguments[0].click();\", btn)\n",
    "        #driver.implicitly_wait(10)\n",
    "        time.sleep(5)\n",
    "        print(\"Moving to next page\")\n",
    "\n",
    "print(len(titles))"
   ]
  },
  {
   "cell_type": "code",
   "execution_count": 221,
   "metadata": {},
   "outputs": [
    {
     "output_type": "execute_result",
     "data": {
      "text/plain": [
       "45"
      ]
     },
     "metadata": {},
     "execution_count": 221
    }
   ],
   "source": [
    "len(set(titles))"
   ]
  },
  {
   "cell_type": "code",
   "execution_count": 222,
   "metadata": {},
   "outputs": [
    {
     "output_type": "execute_result",
     "data": {
      "text/plain": [
       "[\"Master of Engineering in Logistics and Supply Chain Management (ZLOGb)  \\n            Read More\\n              Zaragoza Logistics Center   \\n                \\xa0+1 More\\n             \\n                The blended master's degree refers to a new option that is being developed by MIT that would allow learners to combine the MITx MicroMasters credential with one+ semester at Z\\n                ... \\n                    +\\n                      \\n                        Master\\n                       \\n                            Full-time\\n                            5\\xa0Months   \\n                            English   Jan 2022   \\n                        Jun 2021\\n                       Online & Campus Combined   \\xa0 Add to comparison\\n              Add to favorites\\n        favorite_outline \\n                Read More\\n            \",\n",
       " 'MS in Information Systems  \\n            Read More\\n              University of Maryland College Park    \\n                The Master of Science in Information Systems program will prepare you to lead in the ongoing technology revolution in one of the strongest IT regions in the world.\\n                       \\n                        MSc\\n                       \\n                            Full-time\\n                            9\\xa0-\\xa016\\xa0Months   \\n                            English   Sep 2022   \\n                        Mar 2022\\n                        Campus  \\xa0 Add to comparison\\n              Add to favorites\\n        favorite_outline \\n                Read More\\n            ',\n",
       " 'Master of Arts in Asian Studies  \\n            Read More\\n              The George Washington University - Elliott School Of International Affairs    \\n                Explore the major political, economic, and historical issues affecting Asian diplomacy, business, security, culture, and more. Focus and refine your studies with thematic or p\\n                ... \\n                    +\\n                      \\n                        MA\\n                       \\n                            Full-time\\n                            2\\xa0Years   \\n                            English      Campus  \\xa0 Add to comparison\\n              Add to favorites\\n        favorite_outline \\n                Read More\\n            ',\n",
       " \"Master of Science in Athletic Training  \\n            Read More\\n              King's College - Pennsylvania, USA    \\n                The Master of Science in Athletic Training (MSAT) is a two-year full-time program for students interested in a career as an Athletic Trainer. Students in our program will part\\n                ... \\n                    +\\n                      \\n                        MSc\\n                       \\n                            Full-time\\n                            2\\xa0Years   \\n                            English      Campus  \\xa0 Add to comparison\\n              Add to favorites\\n        favorite_outline \\n                Read More\\n            \",\n",
       " 'MS Analytics  \\n            Read More\\n              Kogod School of Business, American University    \\n                Offered by the Kogod School of Business, the Analytics (MS) program provides students with an opportunity to obtain knowledge and competencies to help organizations make decis\\n                ... \\n                    +\\n                      \\n                        MSc\\n                       \\n                            Full-time\\n                         \\n                            Part-time\\n                           1\\xa0-\\xa03\\xa0Years   \\n                            English   23 Aug 2021\\n                             Campus Online \\xa0 Add to comparison\\n              Add to favorites\\n        favorite_outline \\n                Read More\\n            ',\n",
       " 'MA School Counseling  \\n            Read More\\n              University of San Francisco - School of Education    \\n                The School Counseling program is a unique, innovative educational program for preparing counselors to address the social, emotional, and academic needs of children, adolescent\\n                ... \\n                    +\\n                      \\n                        Master\\n                       \\n                            Full-time\\n                             \\n                            English      Campus  \\xa0 Add to comparison\\n              Add to favorites\\n        favorite_outline \\n                Read More\\n            ',\n",
       " 'MS in Supply Chain Management  \\n            Read More\\n              University of Maryland College Park    \\n                The Master of Science in Supply Chain Management program will help you develop strong managerial skills and connect with supply chain executives from a cross-section of indust\\n                ... \\n                    +\\n                      \\n                        MSc\\n                       \\n                            Full-time\\n                            10\\xa0-\\xa016\\xa0Months   \\n                            English   Sep 2022   \\n                        Mar 2022\\n                        Campus  \\xa0 Add to comparison\\n              Add to favorites\\n        favorite_outline \\n                Read More\\n            ',\n",
       " 'MS in Accounting  \\n            Read More\\n              University of Maryland College Park    \\n                The Master of Science in Accounting program produces highly trained accounting professionals who are prepared for the accountability and the expanded role accounting plays in \\n                ... \\n                    +\\n                      \\n                        MSc\\n                       \\n                            Full-time\\n                         \\n                            Part-time\\n                           10\\xa0-\\xa016\\xa0Months   \\n                            English   Sep 2022   \\n                        Mar 2022\\n                        Campus  \\xa0 Add to comparison\\n              Add to favorites\\n        favorite_outline \\n                Read More\\n            ',\n",
       " 'Master of Finance  \\n            Read More\\n              University of Maryland College Park    \\n                The Master of Finance program will introduce you to some of the top minds in finance today. Our faculty are consultants to large financial institutions, multinational corporat\\n                ... \\n                    +\\n                      \\n                        Master\\n                       \\n                            Full-time\\n                            9\\xa0-\\xa020\\xa0Months   \\n                            English   Sep 2022   \\n                        Mar 2022\\n                        Campus  \\xa0 Add to comparison\\n              Add to favorites\\n        favorite_outline \\n                Read More\\n            ',\n",
       " 'MS in Marketing Analytics  \\n            Read More\\n              University of Maryland College Park    \\n                The Master of Science in Marketing Analytics program offers solid training in the necessary skill sets to meet today’s marketing challenges head-on.\\n                       \\n                        MSc\\n                       \\n                            Full-time\\n                            10\\xa0-\\xa016\\xa0Months   \\n                            English   Sep 2022   \\n                        Mar 2022\\n                        Campus  \\xa0 Add to comparison\\n              Add to favorites\\n        favorite_outline \\n                Read More\\n            ',\n",
       " 'Master of Arts in European and Eurasian Studies  \\n            Read More\\n              The George Washington University - Elliott School Of International Affairs    \\n                The Master of Arts program in European and Eurasian Studies (EES) at the Elliott School of International Affairs provides an interdisciplinary approach to analyzing the functi\\n                ... \\n                    +\\n                      \\n                        MA\\n                       \\n                            Full-time\\n                            2\\xa0Years   \\n                            English      Campus  \\xa0 Add to comparison\\n              Add to favorites\\n        favorite_outline \\n                Read More\\n            ',\n",
       " 'Master of Arts in Global Communication  \\n            Read More\\n              The George Washington University - Elliott School Of International Affairs    \\n                The Master of Arts in Global Communication has a dual emphasis on international affairs as well as communication and journalism. Pursue or advance your career in public, priva\\n                ... \\n                    +\\n                      \\n                        MA\\n                       \\n                            Full-time\\n                            2\\xa0Years   \\n                            English      Campus  \\xa0 Add to comparison\\n              Add to favorites\\n        favorite_outline \\n                Read More\\n            ',\n",
       " 'Master of Arts in International Affairs  \\n            Read More\\n              The George Washington University - Elliott School Of International Affairs    \\n                Become a seasoned leader in the global issues that matter the most. The Master of Arts in in International Affairs offers both a broad foundation for understanding pressing ec\\n                ... \\n                    +\\n                      \\n                        MA\\n                       \\n                            Full-time\\n                            2\\xa0Years   \\n                            English      Campus  \\xa0 Add to comparison\\n              Add to favorites\\n        favorite_outline \\n                Read More\\n            ',\n",
       " 'Master of Arts in International Development Studies  \\n            Read More\\n              The George Washington University - Elliott School Of International Affairs    \\n                The International Development Studies program grounds international development practitioners in the theories, policies, and skills necessary for operating at the forefront of\\n                ... \\n                    +\\n                      \\n                        MA\\n                       \\n                            Full-time\\n                            2\\xa0Years   \\n                            English      Campus  \\xa0 Add to comparison\\n              Add to favorites\\n        favorite_outline \\n                Read More\\n            ',\n",
       " 'Master of Arts in International Economic Policy  \\n            Read More\\n              The George Washington University - Elliott School Of International Affairs    \\n                The Elliott School’s Master of Arts in International Economic Policy (MIEP) is an interdisciplinary program that provides a strong foundation for understanding new challenges \\n                ... \\n                    +\\n                      \\n                        MA\\n                       \\n                            Full-time\\n                            2\\xa0Years   \\n                            English      Campus  \\xa0 Add to comparison\\n              Add to favorites\\n        favorite_outline \\n                Read More\\n            ',\n",
       " 'Master of Arts in International Science and Technology Policy',\n",
       " 'Master of Arts in Latin American and Hemispheric Studies',\n",
       " 'Master of Arts in Middle East Studies',\n",
       " 'Master of Arts in Security Policy Studies',\n",
       " 'Master of International Policy and Practice',\n",
       " 'MS Finance',\n",
       " 'MS Accounting',\n",
       " 'MS Marketing',\n",
       " 'MS Real Estate',\n",
       " 'MS Sustainability Management',\n",
       " 'MS Taxation',\n",
       " 'Master in Catholic Education Leadership',\n",
       " 'Master in Educational Technology',\n",
       " 'Master in Higher Education and Student Affairs',\n",
       " 'Master in Human Rights Education',\n",
       " 'Master in International and Multicultural Education',\n",
       " 'Master in Organization and Leadership',\n",
       " 'Master in Special Education',\n",
       " 'Master in Teaching',\n",
       " 'Masters Program in TESOL',\n",
       " 'Microbiology Master’s Degree Online',\n",
       " 'Master of Commerce & Technology',\n",
       " 'Master of Intellectual Property',\n",
       " 'Master of International Criminal Law & Justice',\n",
       " 'Master of Music in Music Education Online',\n",
       " 'Master of Music',\n",
       " 'Master of Music in Music Education (MM/ME) in Cambridge MA',\n",
       " 'Master of Science in Accounting',\n",
       " 'Master of Science in Project Management',\n",
       " 'Online MS Business Analytics']"
      ]
     },
     "metadata": {},
     "execution_count": 222
    }
   ],
   "source": [
    "titles"
   ]
  },
  {
   "cell_type": "code",
   "execution_count": 224,
   "metadata": {},
   "outputs": [],
   "source": [
    "driver.quit()"
   ]
  },
  {
   "cell_type": "code",
   "execution_count": 225,
   "metadata": {},
   "outputs": [
    {
     "output_type": "stream",
     "name": "stdout",
     "text": [
      "Opened home webpage\n",
      "Moved into Programs tab\n"
     ]
    }
   ],
   "source": [
    "# open the URL using the selenium driver\n",
    "driver = webdriver.Chrome(\"chromedriver_win32/chromedriver.exe\")\n",
    "driver.get(masterstudies)\n",
    "time.sleep(5)\n",
    "print(\"Opened home webpage\")\n",
    "\n",
    "# need to click on \"programs\"\n",
    "programs_tab_xpath = '//*[@id=\"main\"]/div/div[5]/div/div/div[2]'\n",
    "programs_tab = driver.find_element_by_xpath(programs_tab_xpath)\n",
    "driver.execute_script(\"arguments[0].click();\", programs_tab)\n",
    "programs_tab.click()\n",
    "time.sleep(5)\n",
    "print(\"Moved into Programs tab\")\n",
    "\n",
    "# first page\n",
    "programs = driver.find_elements_by_class_name('program-listitem')\n",
    "qualified_programs += programs\n",
    "next_page_btn_xpath = '//*[@id=\"main\"]/div/div[6]/div/div[3]/a/button'\n",
    "btn = driver.find_element_by_xpath(next_page_btn_xpath)\n",
    "driver.execute_script(\"arguments[0].click();\", btn)\n",
    "time.sleep(5)"
   ]
  },
  {
   "cell_type": "code",
   "execution_count": 226,
   "metadata": {},
   "outputs": [
    {
     "output_type": "stream",
     "name": "stdout",
     "text": [
      "Moving to next page\n",
      "Moving to next page\n",
      "Moving to next page\n",
      "Moving to next page\n",
      "Moving to next page\n",
      "Moving to next page\n",
      "Moving to next page\n",
      "Moving to next page\n",
      "Moving to next page\n",
      "150\n"
     ]
    }
   ],
   "source": [
    "qualified_programs = []\n",
    "\n",
    "# collect programs for the first page\n",
    "#programs = driver.find_elements_by_class_name('program-listitem')\n",
    "#qualified_programs += programs\n",
    "\n",
    "num_pages = 10 # 10\n",
    "for page in range(num_pages):\n",
    "    programs = driver.find_elements_by_class_name('program-listitem')\n",
    "    qualified_programs += programs\n",
    "    if page != (num_pages-1):\n",
    "        next_page_btn_xpath = '//*[@id=\"main\"]/div/div[6]/div/div[3]/a[2]/button'\n",
    "        btn = driver.find_element_by_xpath(next_page_btn_xpath)\n",
    "        driver.execute_script(\"arguments[0].click();\", btn)\n",
    "        time.sleep(5)\n",
    "        print(\"Moving to next page\") \n",
    "\n",
    "print(len(qualified_programs))\n"
   ]
  },
  {
   "cell_type": "code",
   "execution_count": 227,
   "metadata": {},
   "outputs": [
    {
     "output_type": "execute_result",
     "data": {
      "text/plain": [
       "15"
      ]
     },
     "metadata": {},
     "execution_count": 227
    }
   ],
   "source": [
    "len(set(qualified_programs))"
   ]
  },
  {
   "cell_type": "code",
   "execution_count": 195,
   "metadata": {},
   "outputs": [],
   "source": [
    "driver.quit()"
   ]
  },
  {
   "cell_type": "code",
   "execution_count": 132,
   "metadata": {},
   "outputs": [
    {
     "output_type": "execute_result",
     "data": {
      "text/plain": [
       "'M.S. in Accounting'"
      ]
     },
     "metadata": {},
     "execution_count": 132
    }
   ],
   "source": [
    "qualified_programs[0].find_element_by_class_name('title').text"
   ]
  },
  {
   "cell_type": "code",
   "execution_count": 102,
   "metadata": {},
   "outputs": [
    {
     "output_type": "execute_result",
     "data": {
      "text/plain": [
       "Empty DataFrame\n",
       "Columns: [title, url, school, degree, duration]\n",
       "Index: []"
      ],
      "text/html": "<div>\n<style scoped>\n    .dataframe tbody tr th:only-of-type {\n        vertical-align: middle;\n    }\n\n    .dataframe tbody tr th {\n        vertical-align: top;\n    }\n\n    .dataframe thead th {\n        text-align: right;\n    }\n</style>\n<table border=\"1\" class=\"dataframe\">\n  <thead>\n    <tr style=\"text-align: right;\">\n      <th></th>\n      <th>title</th>\n      <th>url</th>\n      <th>school</th>\n      <th>degree</th>\n      <th>duration</th>\n    </tr>\n  </thead>\n  <tbody>\n  </tbody>\n</table>\n</div>"
     },
     "metadata": {},
     "execution_count": 102
    }
   ],
   "source": [
    "title = []\n",
    "url = []\n",
    "school = []\n",
    "degree = []\n",
    "pace = []\n",
    "duration = []\n",
    "languages = []\n",
    "start = []\n",
    "application = []\n",
    "based = []\n",
    "price = []\n",
    "\n",
    "keywords = ['data', 'analysis', 'analytics', 'machine learning', 'ml', 'artificial intelligence']\n",
    "\n",
    "for idx in range(15):\n",
    "    if any (word in qualified_programs[idx].find_element_by_class_name('title').text.lower() for word in keywords):\n",
    "        title.append(qualified_programs[idx].find_element_by_class_name('title').text)\n",
    "        url.append(qualified_programs[idx].find_element_by_class_name('title').find_element_by_tag_name('a').get_attribute('href'))\n",
    "        school.append(qualified_programs[idx].find_element_by_class_name('school').text)\n",
    "        degree.append(qualified_programs[idx].find_element_by_class_name('degree').text)\n",
    "        try:\n",
    "            duration.append(qualified_programs[idx].find_element_by_class_name('duration').text)\n",
    "        except:\n",
    "            duration.append(np.nan)\n",
    "    else:\n",
    "        pass\n",
    "\n",
    "df = pd.DataFrame(\n",
    "    dict(\n",
    "        title = title,\n",
    "        url = url,\n",
    "        school = school,\n",
    "        degree = degree,\n",
    "        duration = duration\n",
    "    )\n",
    ")\n",
    "df"
   ]
  },
  {
   "cell_type": "code",
   "execution_count": 10,
   "metadata": {},
   "outputs": [],
   "source": [
    "programs_js = 'document.querySelector(\"#main > div > div.border-bottom > div > div > div.cell.small-6.text-center.active\").click()'\n",
    "driver.execute_script(programs_js)"
   ]
  },
  {
   "cell_type": "code",
   "execution_count": 85,
   "metadata": {},
   "outputs": [],
   "source": [
    "driver.quit()"
   ]
  },
  {
   "cell_type": "code",
   "execution_count": 17,
   "metadata": {},
   "outputs": [],
   "source": [
    "programs_xpath = '//*[@id=\"main\"]/div/div[5]/div/div/div[2]'\n",
    "programs_tab = driver.find_element_by_xpath(programs_xpath)\n",
    "programs_tab.click()"
   ]
  },
  {
   "cell_type": "code",
   "execution_count": null,
   "metadata": {},
   "outputs": [],
   "source": []
  }
 ]
}