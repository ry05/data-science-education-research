{
 "metadata": {
  "language_info": {
   "codemirror_mode": {
    "name": "ipython",
    "version": 3
   },
   "file_extension": ".py",
   "mimetype": "text/x-python",
   "name": "python",
   "nbconvert_exporter": "python",
   "pygments_lexer": "ipython3",
   "version": "3.8.10"
  },
  "orig_nbformat": 2,
  "kernelspec": {
   "name": "python3810jvsc74a57bd0c236e00cb2504b8feadf115dc1fb937fdc1f15d4b269bc00694bd48dbccf7690",
   "display_name": "Python 3.8.10 64-bit ('capstone_project': conda)"
  }
 },
 "nbformat": 4,
 "nbformat_minor": 2,
 "cells": [
  {
   "cell_type": "code",
   "execution_count": 2,
   "metadata": {},
   "outputs": [],
   "source": [
    "import requests\n",
    "from bs4 import BeautifulSoup\n",
    "from selenium import webdriver\n",
    "import time\n",
    "import json\n",
    "import pandas as pd\n",
    "import numpy as np\n",
    "import random\n",
    "\n",
    "import warnings\n",
    "warnings.filterwarnings('ignore')"
   ]
  },
  {
   "source": [
    "## Specialization: Data science and big data"
   ],
   "cell_type": "markdown",
   "metadata": {}
  },
  {
   "cell_type": "code",
   "execution_count": 3,
   "metadata": {},
   "outputs": [],
   "source": [
    "URL = 'https://www.mastersportal.com/search/#q=ci-82|di-282|lv-master|dur-[360,360],[540,540],[720,720],[721,-1]|de-fulltime|mh-face2face,blended|tc-EUR'\n",
    "\n",
    "# lots of filters possible"
   ]
  },
  {
   "source": [
    "https://www.mastersindatascience.org/\n",
    "\n",
    "Try this link too!"
   ],
   "cell_type": "markdown",
   "metadata": {}
  },
  {
   "cell_type": "code",
   "execution_count": 99,
   "metadata": {},
   "outputs": [
    {
     "output_type": "stream",
     "name": "stdout",
     "text": [
      "Opened home webpage\n"
     ]
    }
   ],
   "source": [
    "# open the URL using the selenium driver\n",
    "driver = webdriver.Chrome(\"chromedriver_win32/chromedriver.exe\")\n",
    "driver.get(URL)\n",
    "time.sleep(5)\n",
    "print(\"Opened home webpage\")"
   ]
  },
  {
   "cell_type": "code",
   "execution_count": 100,
   "metadata": {},
   "outputs": [
    {
     "output_type": "stream",
     "name": "stdout",
     "text": [
      "Printing page 1\n",
      "Process complete\n",
      "Moving to next page\n",
      "Printing page 2\n",
      "Process complete\n",
      "Moving to next page\n",
      "Printing page 3\n",
      "Process complete\n",
      "Moving to next page\n",
      "Printing page 4\n",
      "Process complete\n",
      "Moving to next page\n",
      "Printing page 5\n",
      "Process complete\n",
      "Moving to next page\n",
      "Printing page 6\n",
      "Process complete\n",
      "Moving to next page\n",
      "Printing page 7\n",
      "Process complete\n",
      "Moving to next page\n",
      "Printing page 8\n",
      "Process complete\n",
      "Moving to next page\n",
      "Printing page 9\n",
      "Process complete\n",
      "Moving to next page\n",
      "Printing page 10\n",
      "Process complete\n",
      "Moving to next page\n",
      "Printing page 11\n",
      "Process complete\n",
      "Moving to next page\n",
      "Printing page 12\n",
      "Process complete\n",
      "Moving to next page\n",
      "Printing page 13\n",
      "Process complete\n",
      "Moving to next page\n",
      "Printing page 14\n",
      "Process complete\n",
      "Moving to next page\n",
      "Printing page 15\n",
      "Process complete\n",
      "Moving to next page\n",
      "Printing page 16\n",
      "Process complete\n",
      "Moving to next page\n",
      "Moving to next page\n",
      "Printing page 18\n",
      "Process complete\n",
      "Moving to next page\n"
     ]
    }
   ],
   "source": [
    "programs = []\n",
    "num_pages = 18\n",
    "for page in range(1, num_pages+1):\n",
    "\n",
    "    soup = BeautifulSoup(driver.page_source, 'html.parser')\n",
    "    progs = soup.find_all('section', class_='InformationContainer')\n",
    "\n",
    "    program = [prog for prog in progs]\n",
    "    programs += program\n",
    "\n",
    "    if page != (num_pages-1):\n",
    "        # next page\n",
    "        print(f'Printing page {page}')\n",
    "        # click on next button\n",
    "        next_btn_xpath = '//*[@id=\"ResultsPagination\"]/div/nav/ul/li[10]/button'\n",
    "        btn = driver.find_element_by_xpath(next_btn_xpath)\n",
    "        driver.execute_script(\"arguments[0].click();\", btn)\n",
    "        time.sleep(5)\n",
    "        print('Process complete')\n",
    "    print(\"Moving to next page\")"
   ]
  },
  {
   "cell_type": "code",
   "execution_count": 101,
   "metadata": {},
   "outputs": [
    {
     "output_type": "execute_result",
     "data": {
      "text/plain": [
       "180"
      ]
     },
     "metadata": {},
     "execution_count": 101
    }
   ],
   "source": [
    "len(programs)"
   ]
  },
  {
   "cell_type": "code",
   "execution_count": 102,
   "metadata": {},
   "outputs": [],
   "source": [
    "# raw\n",
    "title = [program.h3.text for program in programs]\n",
    "loc = [program.select('.LocationFact') for program in programs]\n",
    "price_dur = [program.select('.KeyFact') for program in programs]\n",
    "labels = [program.select('.ExtraFacts')[0].text for program in programs]\n",
    "\n",
    "# processed\n",
    "title = [t.strip() for t in title]\n",
    "label = [l.strip() for l in labels]\n",
    "degree = [l.split()[0] for l in labels]\n",
    "school = [l[0].text.strip() for l in loc]\n",
    "location = [l[1].text.strip() for l in loc]\n",
    "price = [p[0].text.strip() for p in price_dur]\n",
    "duration = [p[1].text.strip() for p in price_dur]"
   ]
  },
  {
   "cell_type": "code",
   "execution_count": 104,
   "metadata": {},
   "outputs": [],
   "source": [
    "temp_df = pd.DataFrame(\n",
    "    dict(\n",
    "        title = title,\n",
    "        degree = degree,\n",
    "        school = school,\n",
    "        location = location,\n",
    "        price = price,\n",
    "        duration = duration,\n",
    "        label = label\n",
    "    )\n",
    ")"
   ]
  },
  {
   "cell_type": "code",
   "execution_count": 108,
   "metadata": {},
   "outputs": [
    {
     "output_type": "execute_result",
     "data": {
      "text/plain": [
       "                                                 title degree  \\\n",
       "0                                            Analytics  M.Sc.   \n",
       "1                        Masters in Business Analytics  M.Sc.   \n",
       "2                                     Computer Science  M.Sc.   \n",
       "3                      Computer Science - Data Science  M.Sc.   \n",
       "4                  Customer Intelligence and Analytics  M.Sc.   \n",
       "..                                                 ...    ...   \n",
       "175                                       Data Science  M.Sc.   \n",
       "176              Data Analytics and Business Computing  M.Sc.   \n",
       "177  Data Science and Analytics with Emphasis in Hu...  M.Sc.   \n",
       "178                         Computational Data Science  M.Sc.   \n",
       "179  Data Science and Analytics with Emphasis in Hi...  M.Sc.   \n",
       "\n",
       "                                                school  \\\n",
       "0    Kogod School of Business, American University ...   \n",
       "1                   Hult International Business School   \n",
       "2                     University of Missouri–St. Louis   \n",
       "3                   Contemporary Technology University   \n",
       "4                                      Pace University   \n",
       "..                                                 ...   \n",
       "175                       George Washington University   \n",
       "176                                New York University   \n",
       "177                  University of Missouri - Columbia   \n",
       "178                                  Temple University   \n",
       "179                  University of Missouri - Columbia   \n",
       "\n",
       "                                              location               price  \\\n",
       "0    Washington, D. C., Washington, D.C., United St...  1,481 EUR / credit   \n",
       "1             San Francisco, California, United States   38,827 EUR / year   \n",
       "2                 Saint Louis, Missouri, United States   18,226 EUR / year   \n",
       "3                                               Online    4,904 EUR / year   \n",
       "4               New York City, New York, United States  1,099 EUR / credit   \n",
       "..                                                 ...                 ...   \n",
       "175  Washington, D. C., Washington, D.C., United St...  1,492 EUR / credit   \n",
       "176                                 Multiple locations   49,378 EUR / year   \n",
       "177                  Columbia, Missouri, United States   19,873 EUR / year   \n",
       "178          Philadelphia, Pennsylvania, United States  1,238 EUR / credit   \n",
       "179                  Columbia, Missouri, United States   19,873 EUR / year   \n",
       "\n",
       "     duration                                       label  \n",
       "0      1 year                   M.Sc. Full-time Part-time  \n",
       "1      1 year                   M.Sc. Full-time Part-time  \n",
       "2    1½ years                             M.Sc. Full-time  \n",
       "3      1 year  M.Sc. Full-time Part-time Blended Learning  \n",
       "4      1 year                             M.Sc. Full-time  \n",
       "..        ...                                         ...  \n",
       "175    1 year                             M.Sc. Full-time  \n",
       "176    1 year                             M.Sc. Full-time  \n",
       "177    1 year            M.Sc. Full-time Blended Learning  \n",
       "178    1 year                   M.Sc. Full-time Part-time  \n",
       "179    1 year            M.Sc. Full-time Blended Learning  \n",
       "\n",
       "[180 rows x 7 columns]"
      ],
      "text/html": "<div>\n<style scoped>\n    .dataframe tbody tr th:only-of-type {\n        vertical-align: middle;\n    }\n\n    .dataframe tbody tr th {\n        vertical-align: top;\n    }\n\n    .dataframe thead th {\n        text-align: right;\n    }\n</style>\n<table border=\"1\" class=\"dataframe\">\n  <thead>\n    <tr style=\"text-align: right;\">\n      <th></th>\n      <th>title</th>\n      <th>degree</th>\n      <th>school</th>\n      <th>location</th>\n      <th>price</th>\n      <th>duration</th>\n      <th>label</th>\n    </tr>\n  </thead>\n  <tbody>\n    <tr>\n      <th>0</th>\n      <td>Analytics</td>\n      <td>M.Sc.</td>\n      <td>Kogod School of Business, American University ...</td>\n      <td>Washington, D. C., Washington, D.C., United St...</td>\n      <td>1,481 EUR / credit</td>\n      <td>1 year</td>\n      <td>M.Sc. Full-time Part-time</td>\n    </tr>\n    <tr>\n      <th>1</th>\n      <td>Masters in Business Analytics</td>\n      <td>M.Sc.</td>\n      <td>Hult International Business School</td>\n      <td>San Francisco, California, United States</td>\n      <td>38,827 EUR / year</td>\n      <td>1 year</td>\n      <td>M.Sc. Full-time Part-time</td>\n    </tr>\n    <tr>\n      <th>2</th>\n      <td>Computer Science</td>\n      <td>M.Sc.</td>\n      <td>University of Missouri–St. Louis</td>\n      <td>Saint Louis, Missouri, United States</td>\n      <td>18,226 EUR / year</td>\n      <td>1½ years</td>\n      <td>M.Sc. Full-time</td>\n    </tr>\n    <tr>\n      <th>3</th>\n      <td>Computer Science - Data Science</td>\n      <td>M.Sc.</td>\n      <td>Contemporary Technology University</td>\n      <td>Online</td>\n      <td>4,904 EUR / year</td>\n      <td>1 year</td>\n      <td>M.Sc. Full-time Part-time Blended Learning</td>\n    </tr>\n    <tr>\n      <th>4</th>\n      <td>Customer Intelligence and Analytics</td>\n      <td>M.Sc.</td>\n      <td>Pace University</td>\n      <td>New York City, New York, United States</td>\n      <td>1,099 EUR / credit</td>\n      <td>1 year</td>\n      <td>M.Sc. Full-time</td>\n    </tr>\n    <tr>\n      <th>...</th>\n      <td>...</td>\n      <td>...</td>\n      <td>...</td>\n      <td>...</td>\n      <td>...</td>\n      <td>...</td>\n      <td>...</td>\n    </tr>\n    <tr>\n      <th>175</th>\n      <td>Data Science</td>\n      <td>M.Sc.</td>\n      <td>George Washington University</td>\n      <td>Washington, D. C., Washington, D.C., United St...</td>\n      <td>1,492 EUR / credit</td>\n      <td>1 year</td>\n      <td>M.Sc. Full-time</td>\n    </tr>\n    <tr>\n      <th>176</th>\n      <td>Data Analytics and Business Computing</td>\n      <td>M.Sc.</td>\n      <td>New York University</td>\n      <td>Multiple locations</td>\n      <td>49,378 EUR / year</td>\n      <td>1 year</td>\n      <td>M.Sc. Full-time</td>\n    </tr>\n    <tr>\n      <th>177</th>\n      <td>Data Science and Analytics with Emphasis in Hu...</td>\n      <td>M.Sc.</td>\n      <td>University of Missouri - Columbia</td>\n      <td>Columbia, Missouri, United States</td>\n      <td>19,873 EUR / year</td>\n      <td>1 year</td>\n      <td>M.Sc. Full-time Blended Learning</td>\n    </tr>\n    <tr>\n      <th>178</th>\n      <td>Computational Data Science</td>\n      <td>M.Sc.</td>\n      <td>Temple University</td>\n      <td>Philadelphia, Pennsylvania, United States</td>\n      <td>1,238 EUR / credit</td>\n      <td>1 year</td>\n      <td>M.Sc. Full-time Part-time</td>\n    </tr>\n    <tr>\n      <th>179</th>\n      <td>Data Science and Analytics with Emphasis in Hi...</td>\n      <td>M.Sc.</td>\n      <td>University of Missouri - Columbia</td>\n      <td>Columbia, Missouri, United States</td>\n      <td>19,873 EUR / year</td>\n      <td>1 year</td>\n      <td>M.Sc. Full-time Blended Learning</td>\n    </tr>\n  </tbody>\n</table>\n<p>180 rows × 7 columns</p>\n</div>"
     },
     "metadata": {},
     "execution_count": 108
    }
   ],
   "source": [
    "temp_df"
   ]
  },
  {
   "cell_type": "code",
   "execution_count": 109,
   "metadata": {},
   "outputs": [],
   "source": [
    "driver.quit()"
   ]
  },
  {
   "source": [
    "## Specialization: Artitifical Intelligence"
   ],
   "cell_type": "markdown",
   "metadata": {}
  },
  {
   "cell_type": "code",
   "execution_count": 110,
   "metadata": {},
   "outputs": [],
   "source": [
    "URL = 'https://www.mastersportal.com/search/#q=ci-82|de-fulltime|di-330|dur-[360,360],[540,540],[720,720],[721,-1]|lv-master|mh-face2face,blended|tc-EUR'"
   ]
  },
  {
   "cell_type": "code",
   "execution_count": 111,
   "metadata": {},
   "outputs": [
    {
     "output_type": "stream",
     "name": "stdout",
     "text": [
      "Opened home webpage\n"
     ]
    }
   ],
   "source": [
    "# open the URL using the selenium driver\n",
    "driver = webdriver.Chrome(\"chromedriver_win32/chromedriver.exe\")\n",
    "driver.get(URL)\n",
    "time.sleep(5)\n",
    "print(\"Opened home webpage\")"
   ]
  },
  {
   "cell_type": "code",
   "execution_count": 112,
   "metadata": {},
   "outputs": [
    {
     "output_type": "stream",
     "name": "stdout",
     "text": [
      "Printing page 1\n",
      "Process complete\n",
      "Moving to next page\n",
      "Printing page 2\n",
      "Process complete\n",
      "Moving to next page\n",
      "Printing page 3\n",
      "Process complete\n",
      "Moving to next page\n",
      "Printing page 4\n",
      "Process complete\n",
      "Moving to next page\n",
      "Printing page 5\n",
      "Process complete\n",
      "Moving to next page\n",
      "Printing page 6\n",
      "Process complete\n",
      "Moving to next page\n",
      "Printing page 7\n",
      "Process complete\n",
      "Moving to next page\n",
      "Printing page 8\n",
      "Process complete\n",
      "Moving to next page\n",
      "Printing page 9\n",
      "Process complete\n",
      "Moving to next page\n",
      "Printing page 10\n",
      "Process complete\n",
      "Moving to next page\n",
      "Printing page 11\n",
      "Process complete\n",
      "Moving to next page\n",
      "Printing page 12\n",
      "Process complete\n",
      "Moving to next page\n",
      "Printing page 13\n",
      "Process complete\n",
      "Moving to next page\n",
      "Moving to next page\n",
      "Printing page 15\n",
      "Process complete\n",
      "Moving to next page\n"
     ]
    }
   ],
   "source": [
    "programs = []\n",
    "num_pages = 15\n",
    "for page in range(1, num_pages+1):\n",
    "\n",
    "    soup = BeautifulSoup(driver.page_source, 'html.parser')\n",
    "    progs = soup.find_all('section', class_='InformationContainer')\n",
    "\n",
    "    program = [prog for prog in progs]\n",
    "    programs += program\n",
    "\n",
    "    if page != (num_pages-1):\n",
    "        # next page\n",
    "        print(f'Printing page {page}')\n",
    "        # click on next button\n",
    "        next_btn_xpath = '//*[@id=\"ResultsPagination\"]/div/nav/ul/li[10]/button'\n",
    "        btn = driver.find_element_by_xpath(next_btn_xpath)\n",
    "        driver.execute_script(\"arguments[0].click();\", btn)\n",
    "        time.sleep(5)\n",
    "        print('Process complete')\n",
    "    print(\"Moving to next page\")"
   ]
  },
  {
   "cell_type": "code",
   "execution_count": 113,
   "metadata": {},
   "outputs": [
    {
     "output_type": "execute_result",
     "data": {
      "text/plain": [
       "150"
      ]
     },
     "metadata": {},
     "execution_count": 113
    }
   ],
   "source": [
    "len(programs)"
   ]
  },
  {
   "cell_type": "code",
   "execution_count": 115,
   "metadata": {},
   "outputs": [],
   "source": [
    "# raw\n",
    "title = [program.h3.text for program in programs]\n",
    "loc = [program.select('.LocationFact') for program in programs]\n",
    "price_dur = [program.select('.KeyFact') for program in programs]\n",
    "labels = [program.select('.ExtraFacts')[0].text for program in programs]\n",
    "\n",
    "# processed\n",
    "title = [t.strip() for t in title]\n",
    "label = [l.strip() for l in labels]\n",
    "degree = [l.split()[0] for l in labels]\n",
    "school = [l[0].text.strip() for l in loc]\n",
    "location = [l[1].text.strip() for l in loc]\n",
    "price = [p[0].text.strip() for p in price_dur]\n",
    "duration = [p[1].text.strip() for p in price_dur]"
   ]
  },
  {
   "cell_type": "code",
   "execution_count": 116,
   "metadata": {},
   "outputs": [
    {
     "output_type": "execute_result",
     "data": {
      "text/plain": [
       "                                        title     degree  \\\n",
       "0  Computer Science - AI and Machine Learning      M.Sc.   \n",
       "1                       Robotics and Autonomy      M.Sc.   \n",
       "2                Applied Machine Intelligence  Full-time   \n",
       "3                  Human Resources Management      M.Sc.   \n",
       "4     Computer Science - Software Development      M.Sc.   \n",
       "\n",
       "                                     school  \\\n",
       "0        Contemporary Technology University   \n",
       "1  Drexel University College of Engineering   \n",
       "2                   Northeastern University   \n",
       "3                   Northeastern University   \n",
       "4                            Marist College   \n",
       "\n",
       "                                    location               price  duration  \\\n",
       "0                                     Online    4,904 EUR / year    1 year   \n",
       "1  Philadelphia, Pennsylvania, United States  1,097 EUR / credit   2 years   \n",
       "2       Boston, Massachusetts, United States   16,593 EUR / year   2 years   \n",
       "3       Boston, Massachusetts, United States   18,527 EUR / year  1½ years   \n",
       "4      Poughkeepsie, New York, United States    695 EUR / credit    1 year   \n",
       "\n",
       "                                        label  \n",
       "0  M.Sc. Full-time Part-time Blended Learning  \n",
       "1                             M.Sc. Full-time  \n",
       "2                  Full-time Part-time Online  \n",
       "3            M.Sc. Full-time Part-time Online  \n",
       "4  M.Sc. Full-time Part-time Blended Learning  "
      ],
      "text/html": "<div>\n<style scoped>\n    .dataframe tbody tr th:only-of-type {\n        vertical-align: middle;\n    }\n\n    .dataframe tbody tr th {\n        vertical-align: top;\n    }\n\n    .dataframe thead th {\n        text-align: right;\n    }\n</style>\n<table border=\"1\" class=\"dataframe\">\n  <thead>\n    <tr style=\"text-align: right;\">\n      <th></th>\n      <th>title</th>\n      <th>degree</th>\n      <th>school</th>\n      <th>location</th>\n      <th>price</th>\n      <th>duration</th>\n      <th>label</th>\n    </tr>\n  </thead>\n  <tbody>\n    <tr>\n      <th>0</th>\n      <td>Computer Science - AI and Machine Learning</td>\n      <td>M.Sc.</td>\n      <td>Contemporary Technology University</td>\n      <td>Online</td>\n      <td>4,904 EUR / year</td>\n      <td>1 year</td>\n      <td>M.Sc. Full-time Part-time Blended Learning</td>\n    </tr>\n    <tr>\n      <th>1</th>\n      <td>Robotics and Autonomy</td>\n      <td>M.Sc.</td>\n      <td>Drexel University College of Engineering</td>\n      <td>Philadelphia, Pennsylvania, United States</td>\n      <td>1,097 EUR / credit</td>\n      <td>2 years</td>\n      <td>M.Sc. Full-time</td>\n    </tr>\n    <tr>\n      <th>2</th>\n      <td>Applied Machine Intelligence</td>\n      <td>Full-time</td>\n      <td>Northeastern University</td>\n      <td>Boston, Massachusetts, United States</td>\n      <td>16,593 EUR / year</td>\n      <td>2 years</td>\n      <td>Full-time Part-time Online</td>\n    </tr>\n    <tr>\n      <th>3</th>\n      <td>Human Resources Management</td>\n      <td>M.Sc.</td>\n      <td>Northeastern University</td>\n      <td>Boston, Massachusetts, United States</td>\n      <td>18,527 EUR / year</td>\n      <td>1½ years</td>\n      <td>M.Sc. Full-time Part-time Online</td>\n    </tr>\n    <tr>\n      <th>4</th>\n      <td>Computer Science - Software Development</td>\n      <td>M.Sc.</td>\n      <td>Marist College</td>\n      <td>Poughkeepsie, New York, United States</td>\n      <td>695 EUR / credit</td>\n      <td>1 year</td>\n      <td>M.Sc. Full-time Part-time Blended Learning</td>\n    </tr>\n  </tbody>\n</table>\n</div>"
     },
     "metadata": {},
     "execution_count": 116
    }
   ],
   "source": [
    "temp_df2 = pd.DataFrame(\n",
    "    dict(\n",
    "        title = title,\n",
    "        degree = degree,\n",
    "        school = school,\n",
    "        location = location,\n",
    "        price = price,\n",
    "        duration = duration,\n",
    "        label = label\n",
    "    )\n",
    ")\n",
    "\n",
    "temp_df2.head()"
   ]
  },
  {
   "cell_type": "code",
   "execution_count": 118,
   "metadata": {},
   "outputs": [],
   "source": [
    "driver.quit()"
   ]
  },
  {
   "source": [
    "## Specialization: Machine learning"
   ],
   "cell_type": "markdown",
   "metadata": {}
  },
  {
   "cell_type": "code",
   "execution_count": 117,
   "metadata": {},
   "outputs": [],
   "source": [
    "URL = 'https://www.mastersportal.com/search/#q=ci-82|de-fulltime|di-331|dur-[360,360],[540,540],[720,720],[721,-1]|lv-master|mh-face2face,blended|tc-EUR'\n"
   ]
  },
  {
   "cell_type": "code",
   "execution_count": 121,
   "metadata": {},
   "outputs": [
    {
     "output_type": "stream",
     "name": "stdout",
     "text": [
      "Opened home webpage\n"
     ]
    }
   ],
   "source": [
    "# open the URL using the selenium driver\n",
    "driver = webdriver.Chrome(\"chromedriver_win32/chromedriver.exe\")\n",
    "driver.get(URL)\n",
    "time.sleep(5)\n",
    "print(\"Opened home webpage\")"
   ]
  },
  {
   "cell_type": "code",
   "execution_count": 122,
   "metadata": {},
   "outputs": [
    {
     "output_type": "stream",
     "name": "stdout",
     "text": [
      "Printing page 1\n",
      "Process complete\n",
      "Moving to next page\n",
      "Printing page 2\n",
      "Process complete\n",
      "Moving to next page\n",
      "Printing page 3\n",
      "Process complete\n",
      "Moving to next page\n",
      "Printing page 4\n",
      "Process complete\n",
      "Moving to next page\n",
      "Printing page 5\n",
      "Process complete\n",
      "Moving to next page\n",
      "Printing page 6\n",
      "Process complete\n",
      "Moving to next page\n",
      "Printing page 7\n",
      "Process complete\n",
      "Moving to next page\n",
      "Printing page 8\n",
      "Process complete\n",
      "Moving to next page\n",
      "Printing page 9\n",
      "Process complete\n",
      "Moving to next page\n",
      "Printing page 10\n",
      "Process complete\n",
      "Moving to next page\n",
      "Printing page 11\n",
      "Process complete\n",
      "Moving to next page\n",
      "Printing page 12\n",
      "Process complete\n",
      "Moving to next page\n",
      "Moving to next page\n",
      "Printing page 14\n",
      "Process complete\n",
      "Moving to next page\n"
     ]
    }
   ],
   "source": [
    "programs = []\n",
    "num_pages = 14\n",
    "for page in range(1, num_pages+1):\n",
    "\n",
    "    soup = BeautifulSoup(driver.page_source, 'html.parser')\n",
    "    progs = soup.find_all('section', class_='InformationContainer')\n",
    "\n",
    "    program = [prog for prog in progs]\n",
    "    programs += program\n",
    "\n",
    "    if page != (num_pages-1):\n",
    "        # next page\n",
    "        print(f'Printing page {page}')\n",
    "        # click on next button\n",
    "        next_btn_xpath = '//*[@id=\"ResultsPagination\"]/div/nav/ul/li[10]/button'\n",
    "        btn = driver.find_element_by_xpath(next_btn_xpath)\n",
    "        driver.execute_script(\"arguments[0].click();\", btn)\n",
    "        time.sleep(5)\n",
    "        print('Process complete')\n",
    "    print(\"Moving to next page\")"
   ]
  },
  {
   "cell_type": "code",
   "execution_count": 123,
   "metadata": {},
   "outputs": [
    {
     "output_type": "execute_result",
     "data": {
      "text/plain": [
       "140"
      ]
     },
     "metadata": {},
     "execution_count": 123
    }
   ],
   "source": [
    "len(programs)"
   ]
  },
  {
   "cell_type": "code",
   "execution_count": 124,
   "metadata": {},
   "outputs": [],
   "source": [
    "# raw\n",
    "title = [program.h3.text for program in programs]\n",
    "loc = [program.select('.LocationFact') for program in programs]\n",
    "price_dur = [program.select('.KeyFact') for program in programs]\n",
    "labels = [program.select('.ExtraFacts')[0].text for program in programs]\n",
    "\n",
    "# processed\n",
    "title = [t.strip() for t in title]\n",
    "label = [l.strip() for l in labels]\n",
    "degree = [l.split()[0] for l in labels]\n",
    "school = [l[0].text.strip() for l in loc]\n",
    "location = [l[1].text.strip() for l in loc]\n",
    "price = [p[0].text.strip() for p in price_dur]\n",
    "duration = [p[1].text.strip() for p in price_dur]"
   ]
  },
  {
   "cell_type": "code",
   "execution_count": 125,
   "metadata": {},
   "outputs": [
    {
     "output_type": "execute_result",
     "data": {
      "text/plain": [
       "                                               title     degree  \\\n",
       "0         Computer Science - AI and Machine Learning      M.Sc.   \n",
       "1         Two Year Master of Business Administration     M.B.A.   \n",
       "2                       Applied Machine Intelligence  Full-time   \n",
       "3                                       Data Science  Full-time   \n",
       "4  Chemical Engineering (Modeling, Simulation and...     M.Eng.   \n",
       "\n",
       "                                              school  \\\n",
       "0                 Contemporary Technology University   \n",
       "1                                     Babson College   \n",
       "2                            Northeastern University   \n",
       "3     University of Maryland Baltimore County (UMBC)   \n",
       "4  University at Buffalo SUNY - School of Enginee...   \n",
       "\n",
       "                                       location              price duration  \\\n",
       "0                                        Online   4,904 EUR / year   1 year   \n",
       "1                            Multiple locations  46,826 EUR / year  2 years   \n",
       "2          Boston, Massachusetts, United States  16,593 EUR / year  2 years   \n",
       "3  Baltimore Highlands, Maryland, United States   925 EUR / credit   1 year   \n",
       "4              Buffalo, New York, United States  18,882 EUR / year   1 year   \n",
       "\n",
       "                                        label  \n",
       "0  M.Sc. Full-time Part-time Blended Learning  \n",
       "1                            M.B.A. Full-time  \n",
       "2                  Full-time Part-time Online  \n",
       "3                                   Full-time  \n",
       "4                  M.Eng. Full-time Part-time  "
      ],
      "text/html": "<div>\n<style scoped>\n    .dataframe tbody tr th:only-of-type {\n        vertical-align: middle;\n    }\n\n    .dataframe tbody tr th {\n        vertical-align: top;\n    }\n\n    .dataframe thead th {\n        text-align: right;\n    }\n</style>\n<table border=\"1\" class=\"dataframe\">\n  <thead>\n    <tr style=\"text-align: right;\">\n      <th></th>\n      <th>title</th>\n      <th>degree</th>\n      <th>school</th>\n      <th>location</th>\n      <th>price</th>\n      <th>duration</th>\n      <th>label</th>\n    </tr>\n  </thead>\n  <tbody>\n    <tr>\n      <th>0</th>\n      <td>Computer Science - AI and Machine Learning</td>\n      <td>M.Sc.</td>\n      <td>Contemporary Technology University</td>\n      <td>Online</td>\n      <td>4,904 EUR / year</td>\n      <td>1 year</td>\n      <td>M.Sc. Full-time Part-time Blended Learning</td>\n    </tr>\n    <tr>\n      <th>1</th>\n      <td>Two Year Master of Business Administration</td>\n      <td>M.B.A.</td>\n      <td>Babson College</td>\n      <td>Multiple locations</td>\n      <td>46,826 EUR / year</td>\n      <td>2 years</td>\n      <td>M.B.A. Full-time</td>\n    </tr>\n    <tr>\n      <th>2</th>\n      <td>Applied Machine Intelligence</td>\n      <td>Full-time</td>\n      <td>Northeastern University</td>\n      <td>Boston, Massachusetts, United States</td>\n      <td>16,593 EUR / year</td>\n      <td>2 years</td>\n      <td>Full-time Part-time Online</td>\n    </tr>\n    <tr>\n      <th>3</th>\n      <td>Data Science</td>\n      <td>Full-time</td>\n      <td>University of Maryland Baltimore County (UMBC)</td>\n      <td>Baltimore Highlands, Maryland, United States</td>\n      <td>925 EUR / credit</td>\n      <td>1 year</td>\n      <td>Full-time</td>\n    </tr>\n    <tr>\n      <th>4</th>\n      <td>Chemical Engineering (Modeling, Simulation and...</td>\n      <td>M.Eng.</td>\n      <td>University at Buffalo SUNY - School of Enginee...</td>\n      <td>Buffalo, New York, United States</td>\n      <td>18,882 EUR / year</td>\n      <td>1 year</td>\n      <td>M.Eng. Full-time Part-time</td>\n    </tr>\n  </tbody>\n</table>\n</div>"
     },
     "metadata": {},
     "execution_count": 125
    }
   ],
   "source": [
    "temp_df3 = pd.DataFrame(\n",
    "    dict(\n",
    "        title = title,\n",
    "        degree = degree,\n",
    "        school = school,\n",
    "        location = location,\n",
    "        price = price,\n",
    "        duration = duration,\n",
    "        label = label\n",
    "    )\n",
    ")\n",
    "\n",
    "temp_df3.head()"
   ]
  },
  {
   "cell_type": "code",
   "execution_count": 126,
   "metadata": {},
   "outputs": [],
   "source": [
    "driver.quit()"
   ]
  },
  {
   "source": [
    "## Combine data"
   ],
   "cell_type": "markdown",
   "metadata": {}
  },
  {
   "cell_type": "code",
   "execution_count": 129,
   "metadata": {},
   "outputs": [
    {
     "output_type": "execute_result",
     "data": {
      "text/plain": [
       "                                 title degree  \\\n",
       "0                            Analytics  M.Sc.   \n",
       "1        Masters in Business Analytics  M.Sc.   \n",
       "2                     Computer Science  M.Sc.   \n",
       "3      Computer Science - Data Science  M.Sc.   \n",
       "4  Customer Intelligence and Analytics  M.Sc.   \n",
       "\n",
       "                                              school  \\\n",
       "0  Kogod School of Business, American University ...   \n",
       "1                 Hult International Business School   \n",
       "2                   University of Missouri–St. Louis   \n",
       "3                 Contemporary Technology University   \n",
       "4                                    Pace University   \n",
       "\n",
       "                                            location               price  \\\n",
       "0  Washington, D. C., Washington, D.C., United St...  1,481 EUR / credit   \n",
       "1           San Francisco, California, United States   38,827 EUR / year   \n",
       "2               Saint Louis, Missouri, United States   18,226 EUR / year   \n",
       "3                                             Online    4,904 EUR / year   \n",
       "4             New York City, New York, United States  1,099 EUR / credit   \n",
       "\n",
       "   duration                                       label  \n",
       "0    1 year                   M.Sc. Full-time Part-time  \n",
       "1    1 year                   M.Sc. Full-time Part-time  \n",
       "2  1½ years                             M.Sc. Full-time  \n",
       "3    1 year  M.Sc. Full-time Part-time Blended Learning  \n",
       "4    1 year                             M.Sc. Full-time  "
      ],
      "text/html": "<div>\n<style scoped>\n    .dataframe tbody tr th:only-of-type {\n        vertical-align: middle;\n    }\n\n    .dataframe tbody tr th {\n        vertical-align: top;\n    }\n\n    .dataframe thead th {\n        text-align: right;\n    }\n</style>\n<table border=\"1\" class=\"dataframe\">\n  <thead>\n    <tr style=\"text-align: right;\">\n      <th></th>\n      <th>title</th>\n      <th>degree</th>\n      <th>school</th>\n      <th>location</th>\n      <th>price</th>\n      <th>duration</th>\n      <th>label</th>\n    </tr>\n  </thead>\n  <tbody>\n    <tr>\n      <th>0</th>\n      <td>Analytics</td>\n      <td>M.Sc.</td>\n      <td>Kogod School of Business, American University ...</td>\n      <td>Washington, D. C., Washington, D.C., United St...</td>\n      <td>1,481 EUR / credit</td>\n      <td>1 year</td>\n      <td>M.Sc. Full-time Part-time</td>\n    </tr>\n    <tr>\n      <th>1</th>\n      <td>Masters in Business Analytics</td>\n      <td>M.Sc.</td>\n      <td>Hult International Business School</td>\n      <td>San Francisco, California, United States</td>\n      <td>38,827 EUR / year</td>\n      <td>1 year</td>\n      <td>M.Sc. Full-time Part-time</td>\n    </tr>\n    <tr>\n      <th>2</th>\n      <td>Computer Science</td>\n      <td>M.Sc.</td>\n      <td>University of Missouri–St. Louis</td>\n      <td>Saint Louis, Missouri, United States</td>\n      <td>18,226 EUR / year</td>\n      <td>1½ years</td>\n      <td>M.Sc. Full-time</td>\n    </tr>\n    <tr>\n      <th>3</th>\n      <td>Computer Science - Data Science</td>\n      <td>M.Sc.</td>\n      <td>Contemporary Technology University</td>\n      <td>Online</td>\n      <td>4,904 EUR / year</td>\n      <td>1 year</td>\n      <td>M.Sc. Full-time Part-time Blended Learning</td>\n    </tr>\n    <tr>\n      <th>4</th>\n      <td>Customer Intelligence and Analytics</td>\n      <td>M.Sc.</td>\n      <td>Pace University</td>\n      <td>New York City, New York, United States</td>\n      <td>1,099 EUR / credit</td>\n      <td>1 year</td>\n      <td>M.Sc. Full-time</td>\n    </tr>\n  </tbody>\n</table>\n</div>"
     },
     "metadata": {},
     "execution_count": 129
    }
   ],
   "source": [
    "combined = pd.concat([temp_df, temp_df2, temp_df3])\n",
    "combined.head()"
   ]
  },
  {
   "cell_type": "code",
   "execution_count": 130,
   "metadata": {},
   "outputs": [],
   "source": [
    "combined.to_csv('data/studyportalsmasters_usa_raw_jun2_2021.csv', index=False)"
   ]
  }
 ]
}