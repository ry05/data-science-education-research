{
 "metadata": {
  "language_info": {
   "codemirror_mode": {
    "name": "ipython",
    "version": 3
   },
   "file_extension": ".py",
   "mimetype": "text/x-python",
   "name": "python",
   "nbconvert_exporter": "python",
   "pygments_lexer": "ipython3",
   "version": "3.8.10"
  },
  "orig_nbformat": 2,
  "kernelspec": {
   "name": "python3810jvsc74a57bd0c236e00cb2504b8feadf115dc1fb937fdc1f15d4b269bc00694bd48dbccf7690",
   "display_name": "Python 3.8.10 64-bit ('capstone_project': conda)"
  }
 },
 "nbformat": 4,
 "nbformat_minor": 2,
 "cells": [
  {
   "cell_type": "code",
   "execution_count": 1,
   "metadata": {},
   "outputs": [],
   "source": [
    "import pandas as pd"
   ]
  },
  {
   "cell_type": "code",
   "execution_count": 37,
   "metadata": {},
   "outputs": [],
   "source": [
    "data = pd.read_csv('data/studyportalsmasters_usa_raw_jun2_2021.csv')"
   ]
  },
  {
   "cell_type": "code",
   "execution_count": 38,
   "metadata": {},
   "outputs": [],
   "source": [
    "data = data.drop_duplicates()"
   ]
  },
  {
   "cell_type": "code",
   "execution_count": 39,
   "metadata": {},
   "outputs": [
    {
     "output_type": "execute_result",
     "data": {
      "text/plain": [
       "                                 title degree  \\\n",
       "0                            Analytics  M.Sc.   \n",
       "1        Masters in Business Analytics  M.Sc.   \n",
       "2                     Computer Science  M.Sc.   \n",
       "3      Computer Science - Data Science  M.Sc.   \n",
       "4  Customer Intelligence and Analytics  M.Sc.   \n",
       "\n",
       "                                              school  \\\n",
       "0  Kogod School of Business, American University ...   \n",
       "1                 Hult International Business School   \n",
       "2                   University of Missouri–St. Louis   \n",
       "3                 Contemporary Technology University   \n",
       "4                                    Pace University   \n",
       "\n",
       "                                            location               price  \\\n",
       "0  Washington, D. C., Washington, D.C., United St...  1,481 EUR / credit   \n",
       "1           San Francisco, California, United States   38,827 EUR / year   \n",
       "2               Saint Louis, Missouri, United States   18,226 EUR / year   \n",
       "3                                             Online    4,904 EUR / year   \n",
       "4             New York City, New York, United States  1,099 EUR / credit   \n",
       "\n",
       "   duration                                       label  \n",
       "0    1 year                   M.Sc. Full-time Part-time  \n",
       "1    1 year                   M.Sc. Full-time Part-time  \n",
       "2  1½ years                             M.Sc. Full-time  \n",
       "3    1 year  M.Sc. Full-time Part-time Blended Learning  \n",
       "4    1 year                             M.Sc. Full-time  "
      ],
      "text/html": "<div>\n<style scoped>\n    .dataframe tbody tr th:only-of-type {\n        vertical-align: middle;\n    }\n\n    .dataframe tbody tr th {\n        vertical-align: top;\n    }\n\n    .dataframe thead th {\n        text-align: right;\n    }\n</style>\n<table border=\"1\" class=\"dataframe\">\n  <thead>\n    <tr style=\"text-align: right;\">\n      <th></th>\n      <th>title</th>\n      <th>degree</th>\n      <th>school</th>\n      <th>location</th>\n      <th>price</th>\n      <th>duration</th>\n      <th>label</th>\n    </tr>\n  </thead>\n  <tbody>\n    <tr>\n      <th>0</th>\n      <td>Analytics</td>\n      <td>M.Sc.</td>\n      <td>Kogod School of Business, American University ...</td>\n      <td>Washington, D. C., Washington, D.C., United St...</td>\n      <td>1,481 EUR / credit</td>\n      <td>1 year</td>\n      <td>M.Sc. Full-time Part-time</td>\n    </tr>\n    <tr>\n      <th>1</th>\n      <td>Masters in Business Analytics</td>\n      <td>M.Sc.</td>\n      <td>Hult International Business School</td>\n      <td>San Francisco, California, United States</td>\n      <td>38,827 EUR / year</td>\n      <td>1 year</td>\n      <td>M.Sc. Full-time Part-time</td>\n    </tr>\n    <tr>\n      <th>2</th>\n      <td>Computer Science</td>\n      <td>M.Sc.</td>\n      <td>University of Missouri–St. Louis</td>\n      <td>Saint Louis, Missouri, United States</td>\n      <td>18,226 EUR / year</td>\n      <td>1½ years</td>\n      <td>M.Sc. Full-time</td>\n    </tr>\n    <tr>\n      <th>3</th>\n      <td>Computer Science - Data Science</td>\n      <td>M.Sc.</td>\n      <td>Contemporary Technology University</td>\n      <td>Online</td>\n      <td>4,904 EUR / year</td>\n      <td>1 year</td>\n      <td>M.Sc. Full-time Part-time Blended Learning</td>\n    </tr>\n    <tr>\n      <th>4</th>\n      <td>Customer Intelligence and Analytics</td>\n      <td>M.Sc.</td>\n      <td>Pace University</td>\n      <td>New York City, New York, United States</td>\n      <td>1,099 EUR / credit</td>\n      <td>1 year</td>\n      <td>M.Sc. Full-time</td>\n    </tr>\n  </tbody>\n</table>\n</div>"
     },
     "metadata": {},
     "execution_count": 39
    }
   ],
   "source": [
    "data.head()"
   ]
  },
  {
   "cell_type": "code",
   "execution_count": 40,
   "metadata": {},
   "outputs": [],
   "source": [
    "KEYWORDS = ['data', 'analysis', 'analytics', 'machine learning', 'ml', 'artificial intelligence', 'intelligence', 'statistics']"
   ]
  },
  {
   "cell_type": "code",
   "execution_count": 41,
   "metadata": {},
   "outputs": [],
   "source": [
    "def keyword_present(x):\n",
    "\n",
    "    if (any(word in x.lower() for word in KEYWORDS)):\n",
    "        return 1\n",
    "    return 0\n",
    "\n",
    "data['keyword_present'] = data['title'].apply(keyword_present)"
   ]
  },
  {
   "cell_type": "code",
   "execution_count": 50,
   "metadata": {},
   "outputs": [],
   "source": [
    "qualified = data[data['keyword_present'] == 1]\n",
    "qualified = qualified[qualified['location'] != 'Online']"
   ]
  },
  {
   "cell_type": "code",
   "execution_count": 51,
   "metadata": {},
   "outputs": [],
   "source": [
    "qualified = qualified.drop(['label', 'keyword_present'], axis=1)"
   ]
  },
  {
   "cell_type": "code",
   "execution_count": 52,
   "metadata": {},
   "outputs": [],
   "source": [
    "qualified = qualified.fillna('missing')"
   ]
  },
  {
   "cell_type": "code",
   "execution_count": 53,
   "metadata": {},
   "outputs": [
    {
     "output_type": "execute_result",
     "data": {
      "text/plain": [
       "(173, 6)"
      ]
     },
     "metadata": {},
     "execution_count": 53
    }
   ],
   "source": [
    "qualified.shape"
   ]
  },
  {
   "cell_type": "code",
   "execution_count": 54,
   "metadata": {},
   "outputs": [
    {
     "output_type": "execute_result",
     "data": {
      "text/plain": [
       "                                 title     degree  \\\n",
       "0                            Analytics      M.Sc.   \n",
       "1        Masters in Business Analytics      M.Sc.   \n",
       "4  Customer Intelligence and Analytics      M.Sc.   \n",
       "5                         Data Science  Full-time   \n",
       "6                         Data Science      M.Sc.   \n",
       "\n",
       "                                              school  \\\n",
       "0  Kogod School of Business, American University ...   \n",
       "1                 Hult International Business School   \n",
       "4                                    Pace University   \n",
       "5     University of Maryland Baltimore County (UMBC)   \n",
       "6                      South Dakota State University   \n",
       "\n",
       "                                            location               price  \\\n",
       "0  Washington, D. C., Washington, D.C., United St...  1,481 EUR / credit   \n",
       "1           San Francisco, California, United States   38,827 EUR / year   \n",
       "4             New York City, New York, United States  1,099 EUR / credit   \n",
       "5       Baltimore Highlands, Maryland, United States    925 EUR / credit   \n",
       "6             Brookings, South Dakota, United States    530 EUR / credit   \n",
       "\n",
       "  duration  \n",
       "0   1 year  \n",
       "1   1 year  \n",
       "4   1 year  \n",
       "5   1 year  \n",
       "6  2 years  "
      ],
      "text/html": "<div>\n<style scoped>\n    .dataframe tbody tr th:only-of-type {\n        vertical-align: middle;\n    }\n\n    .dataframe tbody tr th {\n        vertical-align: top;\n    }\n\n    .dataframe thead th {\n        text-align: right;\n    }\n</style>\n<table border=\"1\" class=\"dataframe\">\n  <thead>\n    <tr style=\"text-align: right;\">\n      <th></th>\n      <th>title</th>\n      <th>degree</th>\n      <th>school</th>\n      <th>location</th>\n      <th>price</th>\n      <th>duration</th>\n    </tr>\n  </thead>\n  <tbody>\n    <tr>\n      <th>0</th>\n      <td>Analytics</td>\n      <td>M.Sc.</td>\n      <td>Kogod School of Business, American University ...</td>\n      <td>Washington, D. C., Washington, D.C., United St...</td>\n      <td>1,481 EUR / credit</td>\n      <td>1 year</td>\n    </tr>\n    <tr>\n      <th>1</th>\n      <td>Masters in Business Analytics</td>\n      <td>M.Sc.</td>\n      <td>Hult International Business School</td>\n      <td>San Francisco, California, United States</td>\n      <td>38,827 EUR / year</td>\n      <td>1 year</td>\n    </tr>\n    <tr>\n      <th>4</th>\n      <td>Customer Intelligence and Analytics</td>\n      <td>M.Sc.</td>\n      <td>Pace University</td>\n      <td>New York City, New York, United States</td>\n      <td>1,099 EUR / credit</td>\n      <td>1 year</td>\n    </tr>\n    <tr>\n      <th>5</th>\n      <td>Data Science</td>\n      <td>Full-time</td>\n      <td>University of Maryland Baltimore County (UMBC)</td>\n      <td>Baltimore Highlands, Maryland, United States</td>\n      <td>925 EUR / credit</td>\n      <td>1 year</td>\n    </tr>\n    <tr>\n      <th>6</th>\n      <td>Data Science</td>\n      <td>M.Sc.</td>\n      <td>South Dakota State University</td>\n      <td>Brookings, South Dakota, United States</td>\n      <td>530 EUR / credit</td>\n      <td>2 years</td>\n    </tr>\n  </tbody>\n</table>\n</div>"
     },
     "metadata": {},
     "execution_count": 54
    }
   ],
   "source": [
    "qualified.head()"
   ]
  },
  {
   "cell_type": "code",
   "execution_count": 56,
   "metadata": {},
   "outputs": [],
   "source": [
    "qualified.to_csv('data/studyportalsmasters_usa_filtered_jun2_2021.csv', index=False)"
   ]
  }
 ]
}