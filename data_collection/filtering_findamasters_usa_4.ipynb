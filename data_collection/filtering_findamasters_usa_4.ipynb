{
 "metadata": {
  "language_info": {
   "codemirror_mode": {
    "name": "ipython",
    "version": 3
   },
   "file_extension": ".py",
   "mimetype": "text/x-python",
   "name": "python",
   "nbconvert_exporter": "python",
   "pygments_lexer": "ipython3",
   "version": "3.8.10"
  },
  "orig_nbformat": 2,
  "kernelspec": {
   "name": "python3810jvsc74a57bd0c236e00cb2504b8feadf115dc1fb937fdc1f15d4b269bc00694bd48dbccf7690",
   "display_name": "Python 3.8.10 64-bit ('capstone_project': conda)"
  }
 },
 "nbformat": 4,
 "nbformat_minor": 2,
 "cells": [
  {
   "cell_type": "code",
   "execution_count": 1,
   "metadata": {},
   "outputs": [],
   "source": [
    "import pandas as pd\n",
    "import numpy as np\n",
    "import re"
   ]
  },
  {
   "cell_type": "code",
   "execution_count": 3,
   "metadata": {},
   "outputs": [
    {
     "output_type": "execute_result",
     "data": {
      "text/plain": [
       "                             title                     institute  \\\n",
       "0  Data Analytics Engineering (MS)       George Mason University   \n",
       "1               MS in Data Science  George Washington University   \n",
       "2  MS in Data Analytics and Policy      Johns Hopkins University   \n",
       "3             Data Analytics (MSc)  George Washington University   \n",
       "4               MS in Data Science   University of San Francisco   \n",
       "\n",
       "                                   department  \\\n",
       "0                         Graduate Programmes   \n",
       "1      Columbian College of Arts and Sciences   \n",
       "2                  Advanced Academic Programs   \n",
       "3  School of Engineering and Applied Sciences   \n",
       "4                College of Arts and Sciences   \n",
       "\n",
       "                                               label  \n",
       "0                         Online,Part Time,Full Time  \n",
       "1   Institution Profile,On Campus,Part Time,Full ...  \n",
       "2                         Online,Part Time,Full Time  \n",
       "3   Institution Profile,On Campus,Part Time,Full ...  \n",
       "4                       Video(s),On Campus,Full Time  "
      ],
      "text/html": "<div>\n<style scoped>\n    .dataframe tbody tr th:only-of-type {\n        vertical-align: middle;\n    }\n\n    .dataframe tbody tr th {\n        vertical-align: top;\n    }\n\n    .dataframe thead th {\n        text-align: right;\n    }\n</style>\n<table border=\"1\" class=\"dataframe\">\n  <thead>\n    <tr style=\"text-align: right;\">\n      <th></th>\n      <th>title</th>\n      <th>institute</th>\n      <th>department</th>\n      <th>label</th>\n    </tr>\n  </thead>\n  <tbody>\n    <tr>\n      <th>0</th>\n      <td>Data Analytics Engineering (MS)</td>\n      <td>George Mason University</td>\n      <td>Graduate Programmes</td>\n      <td>Online,Part Time,Full Time</td>\n    </tr>\n    <tr>\n      <th>1</th>\n      <td>MS in Data Science</td>\n      <td>George Washington University</td>\n      <td>Columbian College of Arts and Sciences</td>\n      <td>Institution Profile,On Campus,Part Time,Full ...</td>\n    </tr>\n    <tr>\n      <th>2</th>\n      <td>MS in Data Analytics and Policy</td>\n      <td>Johns Hopkins University</td>\n      <td>Advanced Academic Programs</td>\n      <td>Online,Part Time,Full Time</td>\n    </tr>\n    <tr>\n      <th>3</th>\n      <td>Data Analytics (MSc)</td>\n      <td>George Washington University</td>\n      <td>School of Engineering and Applied Sciences</td>\n      <td>Institution Profile,On Campus,Part Time,Full ...</td>\n    </tr>\n    <tr>\n      <th>4</th>\n      <td>MS in Data Science</td>\n      <td>University of San Francisco</td>\n      <td>College of Arts and Sciences</td>\n      <td>Video(s),On Campus,Full Time</td>\n    </tr>\n  </tbody>\n</table>\n</div>"
     },
     "metadata": {},
     "execution_count": 3
    }
   ],
   "source": [
    "data = pd.read_csv(\"data/findamasters_usa_raw_jun1_2021.csv\")\n",
    "data.head()"
   ]
  },
  {
   "cell_type": "code",
   "execution_count": 5,
   "metadata": {},
   "outputs": [
    {
     "output_type": "stream",
     "name": "stdout",
     "text": [
      "<class 'pandas.core.frame.DataFrame'>\nRangeIndex: 77 entries, 0 to 76\nData columns (total 4 columns):\n #   Column      Non-Null Count  Dtype \n---  ------      --------------  ----- \n 0   title       77 non-null     object\n 1   institute   77 non-null     object\n 2   department  77 non-null     object\n 3   label       77 non-null     object\ndtypes: object(4)\nmemory usage: 2.5+ KB\n"
     ]
    }
   ],
   "source": [
    "data.info()"
   ]
  },
  {
   "cell_type": "code",
   "execution_count": 4,
   "metadata": {},
   "outputs": [],
   "source": [
    "KEYWORDS = ['data', 'analysis', 'analytics', 'machine learning', 'ml', 'artificial intelligence', 'intelligence', 'statistics']"
   ]
  },
  {
   "cell_type": "code",
   "execution_count": 7,
   "metadata": {},
   "outputs": [],
   "source": [
    "def keyword_present(x):\n",
    "\n",
    "    if (any(word in x.lower() for word in KEYWORDS)):\n",
    "        return 1\n",
    "    return 0\n",
    "\n",
    "def fulltime(x):\n",
    "\n",
    "    if 'full time' in x.lower():\n",
    "        return 1\n",
    "    return 0\n",
    "\n",
    "def campus(x):\n",
    "\n",
    "    if 'campus' in x.lower():\n",
    "        return 1\n",
    "    return 0\n",
    "\n",
    "data['keyword_present'] = data['title'].apply(keyword_present)\n",
    "data['fulltime_available'] = data['label'].apply(fulltime)\n",
    "data['campus_available'] = data['label'].apply(campus)"
   ]
  },
  {
   "cell_type": "code",
   "execution_count": 8,
   "metadata": {},
   "outputs": [
    {
     "output_type": "execute_result",
     "data": {
      "text/plain": [
       "                             title                     institute  \\\n",
       "0  Data Analytics Engineering (MS)       George Mason University   \n",
       "1               MS in Data Science  George Washington University   \n",
       "2  MS in Data Analytics and Policy      Johns Hopkins University   \n",
       "3             Data Analytics (MSc)  George Washington University   \n",
       "4               MS in Data Science   University of San Francisco   \n",
       "\n",
       "                                   department  \\\n",
       "0                         Graduate Programmes   \n",
       "1      Columbian College of Arts and Sciences   \n",
       "2                  Advanced Academic Programs   \n",
       "3  School of Engineering and Applied Sciences   \n",
       "4                College of Arts and Sciences   \n",
       "\n",
       "                                               label  keyword_present  \\\n",
       "0                         Online,Part Time,Full Time                1   \n",
       "1   Institution Profile,On Campus,Part Time,Full ...                1   \n",
       "2                         Online,Part Time,Full Time                1   \n",
       "3   Institution Profile,On Campus,Part Time,Full ...                1   \n",
       "4                       Video(s),On Campus,Full Time                1   \n",
       "\n",
       "   fulltime_available  campus_available  \n",
       "0                   1                 0  \n",
       "1                   1                 1  \n",
       "2                   1                 0  \n",
       "3                   1                 1  \n",
       "4                   1                 1  "
      ],
      "text/html": "<div>\n<style scoped>\n    .dataframe tbody tr th:only-of-type {\n        vertical-align: middle;\n    }\n\n    .dataframe tbody tr th {\n        vertical-align: top;\n    }\n\n    .dataframe thead th {\n        text-align: right;\n    }\n</style>\n<table border=\"1\" class=\"dataframe\">\n  <thead>\n    <tr style=\"text-align: right;\">\n      <th></th>\n      <th>title</th>\n      <th>institute</th>\n      <th>department</th>\n      <th>label</th>\n      <th>keyword_present</th>\n      <th>fulltime_available</th>\n      <th>campus_available</th>\n    </tr>\n  </thead>\n  <tbody>\n    <tr>\n      <th>0</th>\n      <td>Data Analytics Engineering (MS)</td>\n      <td>George Mason University</td>\n      <td>Graduate Programmes</td>\n      <td>Online,Part Time,Full Time</td>\n      <td>1</td>\n      <td>1</td>\n      <td>0</td>\n    </tr>\n    <tr>\n      <th>1</th>\n      <td>MS in Data Science</td>\n      <td>George Washington University</td>\n      <td>Columbian College of Arts and Sciences</td>\n      <td>Institution Profile,On Campus,Part Time,Full ...</td>\n      <td>1</td>\n      <td>1</td>\n      <td>1</td>\n    </tr>\n    <tr>\n      <th>2</th>\n      <td>MS in Data Analytics and Policy</td>\n      <td>Johns Hopkins University</td>\n      <td>Advanced Academic Programs</td>\n      <td>Online,Part Time,Full Time</td>\n      <td>1</td>\n      <td>1</td>\n      <td>0</td>\n    </tr>\n    <tr>\n      <th>3</th>\n      <td>Data Analytics (MSc)</td>\n      <td>George Washington University</td>\n      <td>School of Engineering and Applied Sciences</td>\n      <td>Institution Profile,On Campus,Part Time,Full ...</td>\n      <td>1</td>\n      <td>1</td>\n      <td>1</td>\n    </tr>\n    <tr>\n      <th>4</th>\n      <td>MS in Data Science</td>\n      <td>University of San Francisco</td>\n      <td>College of Arts and Sciences</td>\n      <td>Video(s),On Campus,Full Time</td>\n      <td>1</td>\n      <td>1</td>\n      <td>1</td>\n    </tr>\n  </tbody>\n</table>\n</div>"
     },
     "metadata": {},
     "execution_count": 8
    }
   ],
   "source": [
    "data.head()"
   ]
  },
  {
   "cell_type": "code",
   "execution_count": 9,
   "metadata": {},
   "outputs": [],
   "source": [
    "qualified = data[(data.keyword_present == 1) & (data.fulltime_available == 1) & (data.campus_available == 1)].reset_index(drop=True)"
   ]
  },
  {
   "cell_type": "code",
   "execution_count": 12,
   "metadata": {},
   "outputs": [
    {
     "output_type": "execute_result",
     "data": {
      "text/plain": [
       "                                     title  \\\n",
       "0                       MS in Data Science   \n",
       "1                     Data Analytics (MSc)   \n",
       "2                       MS in Data Science   \n",
       "3  Master of Science in Business Analytics   \n",
       "4                          Data Science MS   \n",
       "\n",
       "                               institute  \\\n",
       "0           George Washington University   \n",
       "1           George Washington University   \n",
       "2            University of San Francisco   \n",
       "3                  Georgetown University   \n",
       "4  Rochester Institute of Technology USA   \n",
       "\n",
       "                                   department  \\\n",
       "0      Columbian College of Arts and Sciences   \n",
       "1  School of Engineering and Applied Sciences   \n",
       "2                College of Arts and Sciences   \n",
       "3                        Professional Studies   \n",
       "4                            Masters Programs   \n",
       "\n",
       "                                               label  keyword_present  \\\n",
       "0   Institution Profile,On Campus,Part Time,Full ...                1   \n",
       "1   Institution Profile,On Campus,Part Time,Full ...                1   \n",
       "2                       Video(s),On Campus,Full Time                1   \n",
       "3               Online,On Campus,Part Time,Full Time                1   \n",
       "4   Institution Profile,Video(s),Student Profile(...                1   \n",
       "\n",
       "   fulltime_available  campus_available  \n",
       "0                   1                 1  \n",
       "1                   1                 1  \n",
       "2                   1                 1  \n",
       "3                   1                 1  \n",
       "4                   1                 1  "
      ],
      "text/html": "<div>\n<style scoped>\n    .dataframe tbody tr th:only-of-type {\n        vertical-align: middle;\n    }\n\n    .dataframe tbody tr th {\n        vertical-align: top;\n    }\n\n    .dataframe thead th {\n        text-align: right;\n    }\n</style>\n<table border=\"1\" class=\"dataframe\">\n  <thead>\n    <tr style=\"text-align: right;\">\n      <th></th>\n      <th>title</th>\n      <th>institute</th>\n      <th>department</th>\n      <th>label</th>\n      <th>keyword_present</th>\n      <th>fulltime_available</th>\n      <th>campus_available</th>\n    </tr>\n  </thead>\n  <tbody>\n    <tr>\n      <th>0</th>\n      <td>MS in Data Science</td>\n      <td>George Washington University</td>\n      <td>Columbian College of Arts and Sciences</td>\n      <td>Institution Profile,On Campus,Part Time,Full ...</td>\n      <td>1</td>\n      <td>1</td>\n      <td>1</td>\n    </tr>\n    <tr>\n      <th>1</th>\n      <td>Data Analytics (MSc)</td>\n      <td>George Washington University</td>\n      <td>School of Engineering and Applied Sciences</td>\n      <td>Institution Profile,On Campus,Part Time,Full ...</td>\n      <td>1</td>\n      <td>1</td>\n      <td>1</td>\n    </tr>\n    <tr>\n      <th>2</th>\n      <td>MS in Data Science</td>\n      <td>University of San Francisco</td>\n      <td>College of Arts and Sciences</td>\n      <td>Video(s),On Campus,Full Time</td>\n      <td>1</td>\n      <td>1</td>\n      <td>1</td>\n    </tr>\n    <tr>\n      <th>3</th>\n      <td>Master of Science in Business Analytics</td>\n      <td>Georgetown University</td>\n      <td>Professional Studies</td>\n      <td>Online,On Campus,Part Time,Full Time</td>\n      <td>1</td>\n      <td>1</td>\n      <td>1</td>\n    </tr>\n    <tr>\n      <th>4</th>\n      <td>Data Science MS</td>\n      <td>Rochester Institute of Technology USA</td>\n      <td>Masters Programs</td>\n      <td>Institution Profile,Video(s),Student Profile(...</td>\n      <td>1</td>\n      <td>1</td>\n      <td>1</td>\n    </tr>\n  </tbody>\n</table>\n</div>"
     },
     "metadata": {},
     "execution_count": 12
    }
   ],
   "source": [
    "qualified.head()"
   ]
  },
  {
   "cell_type": "code",
   "execution_count": 13,
   "metadata": {},
   "outputs": [],
   "source": [
    "# drop the columns that were created only for filtering purposes\n",
    "qualified = qualified.drop(['keyword_present', 'fulltime_available', 'campus_available', 'label'], axis=1)"
   ]
  },
  {
   "cell_type": "code",
   "execution_count": 16,
   "metadata": {},
   "outputs": [],
   "source": [
    "qualified = qualified.drop_duplicates()"
   ]
  },
  {
   "cell_type": "code",
   "execution_count": 17,
   "metadata": {},
   "outputs": [
    {
     "output_type": "execute_result",
     "data": {
      "text/plain": [
       "                                     title  \\\n",
       "0                       MS in Data Science   \n",
       "1                     Data Analytics (MSc)   \n",
       "2                       MS in Data Science   \n",
       "3  Master of Science in Business Analytics   \n",
       "4                          Data Science MS   \n",
       "\n",
       "                               institute  \\\n",
       "0           George Washington University   \n",
       "1           George Washington University   \n",
       "2            University of San Francisco   \n",
       "3                  Georgetown University   \n",
       "4  Rochester Institute of Technology USA   \n",
       "\n",
       "                                   department  \n",
       "0      Columbian College of Arts and Sciences  \n",
       "1  School of Engineering and Applied Sciences  \n",
       "2                College of Arts and Sciences  \n",
       "3                        Professional Studies  \n",
       "4                            Masters Programs  "
      ],
      "text/html": "<div>\n<style scoped>\n    .dataframe tbody tr th:only-of-type {\n        vertical-align: middle;\n    }\n\n    .dataframe tbody tr th {\n        vertical-align: top;\n    }\n\n    .dataframe thead th {\n        text-align: right;\n    }\n</style>\n<table border=\"1\" class=\"dataframe\">\n  <thead>\n    <tr style=\"text-align: right;\">\n      <th></th>\n      <th>title</th>\n      <th>institute</th>\n      <th>department</th>\n    </tr>\n  </thead>\n  <tbody>\n    <tr>\n      <th>0</th>\n      <td>MS in Data Science</td>\n      <td>George Washington University</td>\n      <td>Columbian College of Arts and Sciences</td>\n    </tr>\n    <tr>\n      <th>1</th>\n      <td>Data Analytics (MSc)</td>\n      <td>George Washington University</td>\n      <td>School of Engineering and Applied Sciences</td>\n    </tr>\n    <tr>\n      <th>2</th>\n      <td>MS in Data Science</td>\n      <td>University of San Francisco</td>\n      <td>College of Arts and Sciences</td>\n    </tr>\n    <tr>\n      <th>3</th>\n      <td>Master of Science in Business Analytics</td>\n      <td>Georgetown University</td>\n      <td>Professional Studies</td>\n    </tr>\n    <tr>\n      <th>4</th>\n      <td>Data Science MS</td>\n      <td>Rochester Institute of Technology USA</td>\n      <td>Masters Programs</td>\n    </tr>\n  </tbody>\n</table>\n</div>"
     },
     "metadata": {},
     "execution_count": 17
    }
   ],
   "source": [
    "qualified.head()"
   ]
  },
  {
   "cell_type": "code",
   "execution_count": 18,
   "metadata": {},
   "outputs": [],
   "source": [
    "qualified.to_csv('data/findamasters_usa_filtered_jun1_2021.csv', index=False)"
   ]
  }
 ]
}