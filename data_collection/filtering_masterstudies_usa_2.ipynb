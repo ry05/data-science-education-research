{
 "metadata": {
  "language_info": {
   "codemirror_mode": {
    "name": "ipython",
    "version": 3
   },
   "file_extension": ".py",
   "mimetype": "text/x-python",
   "name": "python",
   "nbconvert_exporter": "python",
   "pygments_lexer": "ipython3",
   "version": "3.8.10"
  },
  "orig_nbformat": 2,
  "kernelspec": {
   "name": "python3810jvsc74a57bd0c236e00cb2504b8feadf115dc1fb937fdc1f15d4b269bc00694bd48dbccf7690",
   "display_name": "Python 3.8.10 64-bit ('capstone_project': conda)"
  }
 },
 "nbformat": 4,
 "nbformat_minor": 2,
 "cells": [
  {
   "cell_type": "code",
   "execution_count": 53,
   "metadata": {},
   "outputs": [],
   "source": [
    "import pandas as pd\n",
    "import numpy as np\n",
    "import re"
   ]
  },
  {
   "cell_type": "code",
   "execution_count": 77,
   "metadata": {},
   "outputs": [
    {
     "output_type": "execute_result",
     "data": {
      "text/plain": [
       "                                               title  \\\n",
       "0  Master of Engineering in Logistics and Supply ...   \n",
       "1                          MS in Information Systems   \n",
       "2                    Master of Arts in Asian Studies   \n",
       "3             Master of Science in Athletic Training   \n",
       "4                                       MS Analytics   \n",
       "\n",
       "                                                 url  \\\n",
       "0  https://www.masterstudies.com/Master-of-Engine...   \n",
       "1  https://www.masterstudies.com/MS-in-Informatio...   \n",
       "2  https://www.masterstudies.com/Master-of-Arts-i...   \n",
       "3  https://www.masterstudies.com/Master-of-Scienc...   \n",
       "4  https://www.masterstudies.com/MS-Analytics/USA...   \n",
       "\n",
       "                                              school  degree  \\\n",
       "0                          Zaragoza Logistics Center  Master   \n",
       "1                University of Maryland College Park     MSc   \n",
       "2  The George Washington University - Elliott Sch...      MA   \n",
       "3                 King's College - Pennsylvania, USA     MSc   \n",
       "4      Kogod School of Business, American University     MSc   \n",
       "\n",
       "                                                pace    duration languages  \\\n",
       "0                                          Full-time     5Months   English   \n",
       "1                                          Full-time  9-16Months   English   \n",
       "2                                          Full-time      2Years   English   \n",
       "3                                          Full-time      2Years   English   \n",
       "4  Full-time                                     ...    1-3Years   English   \n",
       "\n",
       "                      based  price  \n",
       "0  Online & Campus Combined    NaN  \n",
       "1                    Campus    NaN  \n",
       "2                    Campus    NaN  \n",
       "3                    Campus    NaN  \n",
       "4             Campus Online    NaN  "
      ],
      "text/html": "<div>\n<style scoped>\n    .dataframe tbody tr th:only-of-type {\n        vertical-align: middle;\n    }\n\n    .dataframe tbody tr th {\n        vertical-align: top;\n    }\n\n    .dataframe thead th {\n        text-align: right;\n    }\n</style>\n<table border=\"1\" class=\"dataframe\">\n  <thead>\n    <tr style=\"text-align: right;\">\n      <th></th>\n      <th>title</th>\n      <th>url</th>\n      <th>school</th>\n      <th>degree</th>\n      <th>pace</th>\n      <th>duration</th>\n      <th>languages</th>\n      <th>based</th>\n      <th>price</th>\n    </tr>\n  </thead>\n  <tbody>\n    <tr>\n      <th>0</th>\n      <td>Master of Engineering in Logistics and Supply ...</td>\n      <td>https://www.masterstudies.com/Master-of-Engine...</td>\n      <td>Zaragoza Logistics Center</td>\n      <td>Master</td>\n      <td>Full-time</td>\n      <td>5Months</td>\n      <td>English</td>\n      <td>Online &amp; Campus Combined</td>\n      <td>NaN</td>\n    </tr>\n    <tr>\n      <th>1</th>\n      <td>MS in Information Systems</td>\n      <td>https://www.masterstudies.com/MS-in-Informatio...</td>\n      <td>University of Maryland College Park</td>\n      <td>MSc</td>\n      <td>Full-time</td>\n      <td>9-16Months</td>\n      <td>English</td>\n      <td>Campus</td>\n      <td>NaN</td>\n    </tr>\n    <tr>\n      <th>2</th>\n      <td>Master of Arts in Asian Studies</td>\n      <td>https://www.masterstudies.com/Master-of-Arts-i...</td>\n      <td>The George Washington University - Elliott Sch...</td>\n      <td>MA</td>\n      <td>Full-time</td>\n      <td>2Years</td>\n      <td>English</td>\n      <td>Campus</td>\n      <td>NaN</td>\n    </tr>\n    <tr>\n      <th>3</th>\n      <td>Master of Science in Athletic Training</td>\n      <td>https://www.masterstudies.com/Master-of-Scienc...</td>\n      <td>King's College - Pennsylvania, USA</td>\n      <td>MSc</td>\n      <td>Full-time</td>\n      <td>2Years</td>\n      <td>English</td>\n      <td>Campus</td>\n      <td>NaN</td>\n    </tr>\n    <tr>\n      <th>4</th>\n      <td>MS Analytics</td>\n      <td>https://www.masterstudies.com/MS-Analytics/USA...</td>\n      <td>Kogod School of Business, American University</td>\n      <td>MSc</td>\n      <td>Full-time                                     ...</td>\n      <td>1-3Years</td>\n      <td>English</td>\n      <td>Campus Online</td>\n      <td>NaN</td>\n    </tr>\n  </tbody>\n</table>\n</div>"
     },
     "metadata": {},
     "execution_count": 77
    }
   ],
   "source": [
    "data = pd.read_csv(\"data/masterstudies_usa_raw_jun1_2021.csv\")\n",
    "data.head()"
   ]
  },
  {
   "cell_type": "code",
   "execution_count": 78,
   "metadata": {},
   "outputs": [],
   "source": [
    "data = data.fillna(\"missing\")"
   ]
  },
  {
   "cell_type": "code",
   "execution_count": 79,
   "metadata": {},
   "outputs": [],
   "source": [
    "KEYWORDS = ['data', 'analysis', 'analytics', 'machine learning', 'ml', 'artificial intelligence', 'intelligence', 'statistics']"
   ]
  },
  {
   "cell_type": "code",
   "execution_count": 80,
   "metadata": {},
   "outputs": [],
   "source": [
    "def keyword_present(x):\n",
    "\n",
    "    if (any(word in x.lower() for word in KEYWORDS)):\n",
    "        return 1\n",
    "    return 0\n",
    "\n",
    "def fulltime(x):\n",
    "\n",
    "    if 'full-time' in x.lower():\n",
    "        return 1\n",
    "    return 0\n",
    "\n",
    "def campus(x):\n",
    "\n",
    "    if 'campus' in x.lower():\n",
    "        return 1\n",
    "    return 0\n",
    "\n",
    "data['keyword_present'] = data['title'].apply(keyword_present)\n",
    "data['fulltime_available'] = data['pace'].apply(fulltime)\n",
    "data['campus_available'] = data['based'].apply(campus)\n",
    "            "
   ]
  },
  {
   "cell_type": "code",
   "execution_count": 81,
   "metadata": {},
   "outputs": [
    {
     "output_type": "execute_result",
     "data": {
      "text/plain": [
       "                                               title  \\\n",
       "0  Master of Engineering in Logistics and Supply ...   \n",
       "1                          MS in Information Systems   \n",
       "2                    Master of Arts in Asian Studies   \n",
       "3             Master of Science in Athletic Training   \n",
       "4                                       MS Analytics   \n",
       "\n",
       "                                                 url  \\\n",
       "0  https://www.masterstudies.com/Master-of-Engine...   \n",
       "1  https://www.masterstudies.com/MS-in-Informatio...   \n",
       "2  https://www.masterstudies.com/Master-of-Arts-i...   \n",
       "3  https://www.masterstudies.com/Master-of-Scienc...   \n",
       "4  https://www.masterstudies.com/MS-Analytics/USA...   \n",
       "\n",
       "                                              school  degree  \\\n",
       "0                          Zaragoza Logistics Center  Master   \n",
       "1                University of Maryland College Park     MSc   \n",
       "2  The George Washington University - Elliott Sch...      MA   \n",
       "3                 King's College - Pennsylvania, USA     MSc   \n",
       "4      Kogod School of Business, American University     MSc   \n",
       "\n",
       "                                                pace    duration languages  \\\n",
       "0                                          Full-time     5Months   English   \n",
       "1                                          Full-time  9-16Months   English   \n",
       "2                                          Full-time      2Years   English   \n",
       "3                                          Full-time      2Years   English   \n",
       "4  Full-time                                     ...    1-3Years   English   \n",
       "\n",
       "                      based    price  keyword_present  fulltime_available  \\\n",
       "0  Online & Campus Combined  missing                0                   1   \n",
       "1                    Campus  missing                0                   1   \n",
       "2                    Campus  missing                0                   1   \n",
       "3                    Campus  missing                0                   1   \n",
       "4             Campus Online  missing                1                   1   \n",
       "\n",
       "   campus_available  \n",
       "0                 1  \n",
       "1                 1  \n",
       "2                 1  \n",
       "3                 1  \n",
       "4                 1  "
      ],
      "text/html": "<div>\n<style scoped>\n    .dataframe tbody tr th:only-of-type {\n        vertical-align: middle;\n    }\n\n    .dataframe tbody tr th {\n        vertical-align: top;\n    }\n\n    .dataframe thead th {\n        text-align: right;\n    }\n</style>\n<table border=\"1\" class=\"dataframe\">\n  <thead>\n    <tr style=\"text-align: right;\">\n      <th></th>\n      <th>title</th>\n      <th>url</th>\n      <th>school</th>\n      <th>degree</th>\n      <th>pace</th>\n      <th>duration</th>\n      <th>languages</th>\n      <th>based</th>\n      <th>price</th>\n      <th>keyword_present</th>\n      <th>fulltime_available</th>\n      <th>campus_available</th>\n    </tr>\n  </thead>\n  <tbody>\n    <tr>\n      <th>0</th>\n      <td>Master of Engineering in Logistics and Supply ...</td>\n      <td>https://www.masterstudies.com/Master-of-Engine...</td>\n      <td>Zaragoza Logistics Center</td>\n      <td>Master</td>\n      <td>Full-time</td>\n      <td>5Months</td>\n      <td>English</td>\n      <td>Online &amp; Campus Combined</td>\n      <td>missing</td>\n      <td>0</td>\n      <td>1</td>\n      <td>1</td>\n    </tr>\n    <tr>\n      <th>1</th>\n      <td>MS in Information Systems</td>\n      <td>https://www.masterstudies.com/MS-in-Informatio...</td>\n      <td>University of Maryland College Park</td>\n      <td>MSc</td>\n      <td>Full-time</td>\n      <td>9-16Months</td>\n      <td>English</td>\n      <td>Campus</td>\n      <td>missing</td>\n      <td>0</td>\n      <td>1</td>\n      <td>1</td>\n    </tr>\n    <tr>\n      <th>2</th>\n      <td>Master of Arts in Asian Studies</td>\n      <td>https://www.masterstudies.com/Master-of-Arts-i...</td>\n      <td>The George Washington University - Elliott Sch...</td>\n      <td>MA</td>\n      <td>Full-time</td>\n      <td>2Years</td>\n      <td>English</td>\n      <td>Campus</td>\n      <td>missing</td>\n      <td>0</td>\n      <td>1</td>\n      <td>1</td>\n    </tr>\n    <tr>\n      <th>3</th>\n      <td>Master of Science in Athletic Training</td>\n      <td>https://www.masterstudies.com/Master-of-Scienc...</td>\n      <td>King's College - Pennsylvania, USA</td>\n      <td>MSc</td>\n      <td>Full-time</td>\n      <td>2Years</td>\n      <td>English</td>\n      <td>Campus</td>\n      <td>missing</td>\n      <td>0</td>\n      <td>1</td>\n      <td>1</td>\n    </tr>\n    <tr>\n      <th>4</th>\n      <td>MS Analytics</td>\n      <td>https://www.masterstudies.com/MS-Analytics/USA...</td>\n      <td>Kogod School of Business, American University</td>\n      <td>MSc</td>\n      <td>Full-time                                     ...</td>\n      <td>1-3Years</td>\n      <td>English</td>\n      <td>Campus Online</td>\n      <td>missing</td>\n      <td>1</td>\n      <td>1</td>\n      <td>1</td>\n    </tr>\n  </tbody>\n</table>\n</div>"
     },
     "metadata": {},
     "execution_count": 81
    }
   ],
   "source": [
    "data.head()"
   ]
  },
  {
   "cell_type": "code",
   "execution_count": 82,
   "metadata": {},
   "outputs": [
    {
     "output_type": "execute_result",
     "data": {
      "text/plain": [
       "0    4219\n",
       "1     227\n",
       "Name: keyword_present, dtype: int64"
      ]
     },
     "metadata": {},
     "execution_count": 82
    }
   ],
   "source": [
    "data.keyword_present.value_counts()"
   ]
  },
  {
   "cell_type": "code",
   "execution_count": 83,
   "metadata": {},
   "outputs": [],
   "source": [
    "qualified = data[(data.keyword_present == 1) & (data.fulltime_available == 1) & (data.campus_available == 1)].reset_index(drop=True)"
   ]
  },
  {
   "cell_type": "code",
   "execution_count": 84,
   "metadata": {},
   "outputs": [
    {
     "output_type": "execute_result",
     "data": {
      "text/plain": [
       "(87, 12)"
      ]
     },
     "metadata": {},
     "execution_count": 84
    }
   ],
   "source": [
    "qualified.shape"
   ]
  },
  {
   "cell_type": "code",
   "execution_count": 85,
   "metadata": {},
   "outputs": [
    {
     "output_type": "execute_result",
     "data": {
      "text/plain": [
       "                                         title  \\\n",
       "0                                 MS Analytics   \n",
       "1                    MS in Marketing Analytics   \n",
       "2    Master in Applied Artificial Intelligence   \n",
       "3  Master in Business Intelligence & Analytics   \n",
       "4                       Master in Data Science   \n",
       "\n",
       "                                                 url  \\\n",
       "0  https://www.masterstudies.com/MS-Analytics/USA...   \n",
       "1  https://www.masterstudies.com/MS-in-Marketing-...   \n",
       "2  https://www.masterstudies.com//Master-in-Appli...   \n",
       "3  https://www.masterstudies.com/Master-in-Busine...   \n",
       "4  https://www.masterstudies.com/Master-in-Data-S...   \n",
       "\n",
       "                                              school  degree  \\\n",
       "0      Kogod School of Business, American University     MSc   \n",
       "1                University of Maryland College Park     MSc   \n",
       "2  Stevens Institute of Technology - Graduate Stu...  Master   \n",
       "3  Stevens Institute of Technology - Graduate Stu...  Master   \n",
       "4  Stevens Institute of Technology - Graduate Stu...  Master   \n",
       "\n",
       "                                                pace     duration languages  \\\n",
       "0  Full-time                                     ...     1-3Years   English   \n",
       "1                                          Full-time  10-16Months   English   \n",
       "2  Full-time                                     ...       2Years   English   \n",
       "3  Full-time                                     ...       2Years   missing   \n",
       "4  Full-time                                     ...       2Years   English   \n",
       "\n",
       "           based    price  keyword_present  fulltime_available  \\\n",
       "0  Campus Online  missing                1                   1   \n",
       "1         Campus  missing                1                   1   \n",
       "2  Campus Online  missing                1                   1   \n",
       "3  Campus Online  missing                1                   1   \n",
       "4         Campus  missing                1                   1   \n",
       "\n",
       "   campus_available  \n",
       "0                 1  \n",
       "1                 1  \n",
       "2                 1  \n",
       "3                 1  \n",
       "4                 1  "
      ],
      "text/html": "<div>\n<style scoped>\n    .dataframe tbody tr th:only-of-type {\n        vertical-align: middle;\n    }\n\n    .dataframe tbody tr th {\n        vertical-align: top;\n    }\n\n    .dataframe thead th {\n        text-align: right;\n    }\n</style>\n<table border=\"1\" class=\"dataframe\">\n  <thead>\n    <tr style=\"text-align: right;\">\n      <th></th>\n      <th>title</th>\n      <th>url</th>\n      <th>school</th>\n      <th>degree</th>\n      <th>pace</th>\n      <th>duration</th>\n      <th>languages</th>\n      <th>based</th>\n      <th>price</th>\n      <th>keyword_present</th>\n      <th>fulltime_available</th>\n      <th>campus_available</th>\n    </tr>\n  </thead>\n  <tbody>\n    <tr>\n      <th>0</th>\n      <td>MS Analytics</td>\n      <td>https://www.masterstudies.com/MS-Analytics/USA...</td>\n      <td>Kogod School of Business, American University</td>\n      <td>MSc</td>\n      <td>Full-time                                     ...</td>\n      <td>1-3Years</td>\n      <td>English</td>\n      <td>Campus Online</td>\n      <td>missing</td>\n      <td>1</td>\n      <td>1</td>\n      <td>1</td>\n    </tr>\n    <tr>\n      <th>1</th>\n      <td>MS in Marketing Analytics</td>\n      <td>https://www.masterstudies.com/MS-in-Marketing-...</td>\n      <td>University of Maryland College Park</td>\n      <td>MSc</td>\n      <td>Full-time</td>\n      <td>10-16Months</td>\n      <td>English</td>\n      <td>Campus</td>\n      <td>missing</td>\n      <td>1</td>\n      <td>1</td>\n      <td>1</td>\n    </tr>\n    <tr>\n      <th>2</th>\n      <td>Master in Applied Artificial Intelligence</td>\n      <td>https://www.masterstudies.com//Master-in-Appli...</td>\n      <td>Stevens Institute of Technology - Graduate Stu...</td>\n      <td>Master</td>\n      <td>Full-time                                     ...</td>\n      <td>2Years</td>\n      <td>English</td>\n      <td>Campus Online</td>\n      <td>missing</td>\n      <td>1</td>\n      <td>1</td>\n      <td>1</td>\n    </tr>\n    <tr>\n      <th>3</th>\n      <td>Master in Business Intelligence &amp; Analytics</td>\n      <td>https://www.masterstudies.com/Master-in-Busine...</td>\n      <td>Stevens Institute of Technology - Graduate Stu...</td>\n      <td>Master</td>\n      <td>Full-time                                     ...</td>\n      <td>2Years</td>\n      <td>missing</td>\n      <td>Campus Online</td>\n      <td>missing</td>\n      <td>1</td>\n      <td>1</td>\n      <td>1</td>\n    </tr>\n    <tr>\n      <th>4</th>\n      <td>Master in Data Science</td>\n      <td>https://www.masterstudies.com/Master-in-Data-S...</td>\n      <td>Stevens Institute of Technology - Graduate Stu...</td>\n      <td>Master</td>\n      <td>Full-time                                     ...</td>\n      <td>2Years</td>\n      <td>English</td>\n      <td>Campus</td>\n      <td>missing</td>\n      <td>1</td>\n      <td>1</td>\n      <td>1</td>\n    </tr>\n  </tbody>\n</table>\n</div>"
     },
     "metadata": {},
     "execution_count": 85
    }
   ],
   "source": [
    "qualified.head()"
   ]
  },
  {
   "cell_type": "code",
   "execution_count": 86,
   "metadata": {},
   "outputs": [
    {
     "output_type": "execute_result",
     "data": {
      "text/plain": [
       "'Full-time                                                     Part-time'"
      ]
     },
     "metadata": {},
     "execution_count": 86
    }
   ],
   "source": [
    "qualified.pace[4]"
   ]
  },
  {
   "cell_type": "code",
   "execution_count": 87,
   "metadata": {},
   "outputs": [
    {
     "output_type": "execute_result",
     "data": {
      "text/plain": [
       "2Years          30\n",
       "1Years          11\n",
       "missing          5\n",
       "1-2Years         5\n",
       "12-24Months      3\n",
       "3Semesters       3\n",
       "18Months         2\n",
       "2-3Years         2\n",
       "2-3Semesters     2\n",
       "4Semesters       2\n",
       "3-4Semesters     2\n",
       "18-21Months      1\n",
       "16-24Months      1\n",
       "18-22Months      1\n",
       "10Months         1\n",
       "10-16Months      1\n",
       "3-6Semesters     1\n",
       "9Months          1\n",
       "10-24Months      1\n",
       "9-16Months       1\n",
       "36Hours          1\n",
       "1-3Years         1\n",
       "16Months         1\n",
       "2-5Years         1\n",
       "4-5Semesters     1\n",
       "9-12Months       1\n",
       "5Semesters       1\n",
       "4-8Semesters     1\n",
       "18-48Years       1\n",
       "15Months         1\n",
       "16-36Months      1\n",
       "Name: duration, dtype: int64"
      ]
     },
     "metadata": {},
     "execution_count": 87
    }
   ],
   "source": [
    "qualified.duration.value_counts()"
   ]
  },
  {
   "cell_type": "code",
   "execution_count": 88,
   "metadata": {},
   "outputs": [],
   "source": [
    "def rough_duration(x):\n",
    "\n",
    "    try:\n",
    "        range = re.findall(r'\\d+', x)\n",
    "        range = [int(r) for r in range]\n",
    "        point = sum(range) / len(range)\n",
    "    except:\n",
    "        pass\n",
    "\n",
    "    if 'years' in x.lower():\n",
    "        point = point * 12\n",
    "    elif 'month' in x.lower():\n",
    "        point = point\n",
    "    elif 'semester' in x.lower():\n",
    "        point = ((point * 15) / 4) # 1 semester is 15 weeks in USA\n",
    "    else:\n",
    "        point = -1\n",
    "    \n",
    "    return point\n",
    "\n",
    "qualified['point_duration'] = qualified.duration.apply(rough_duration)"
   ]
  },
  {
   "cell_type": "code",
   "execution_count": 89,
   "metadata": {},
   "outputs": [
    {
     "output_type": "execute_result",
     "data": {
      "text/plain": [
       "        duration  point_duration\n",
       "0       1-3Years          24.000\n",
       "1    10-16Months          13.000\n",
       "2         2Years          24.000\n",
       "6     3Semesters          11.250\n",
       "9         1Years          12.000\n",
       "17    9-16Months          12.500\n",
       "19    4Semesters          15.000\n",
       "20      18Months          18.000\n",
       "21   18-21Months          19.500\n",
       "22      2-5Years          42.000\n",
       "23   16-36Months          26.000\n",
       "24  3-4Semesters          13.125\n",
       "30      16Months          16.000\n",
       "32   12-24Months          18.000\n",
       "33      1-2Years          18.000\n",
       "36      2-3Years          30.000\n",
       "39   16-24Months          20.000\n",
       "40  2-3Semesters           9.375\n",
       "41  4-8Semesters          22.500\n",
       "49  3-6Semesters          16.875\n",
       "54       9Months           9.000\n",
       "57  4-5Semesters          16.875\n",
       "60    5Semesters          18.750\n",
       "63    18-48Years         396.000\n",
       "65      10Months          10.000\n",
       "70       missing          -1.000\n",
       "72   18-22Months          20.000\n",
       "77      15Months          15.000\n",
       "78   10-24Months          17.000\n",
       "79    9-12Months          10.500\n",
       "83       36Hours          -1.000"
      ],
      "text/html": "<div>\n<style scoped>\n    .dataframe tbody tr th:only-of-type {\n        vertical-align: middle;\n    }\n\n    .dataframe tbody tr th {\n        vertical-align: top;\n    }\n\n    .dataframe thead th {\n        text-align: right;\n    }\n</style>\n<table border=\"1\" class=\"dataframe\">\n  <thead>\n    <tr style=\"text-align: right;\">\n      <th></th>\n      <th>duration</th>\n      <th>point_duration</th>\n    </tr>\n  </thead>\n  <tbody>\n    <tr>\n      <th>0</th>\n      <td>1-3Years</td>\n      <td>24.000</td>\n    </tr>\n    <tr>\n      <th>1</th>\n      <td>10-16Months</td>\n      <td>13.000</td>\n    </tr>\n    <tr>\n      <th>2</th>\n      <td>2Years</td>\n      <td>24.000</td>\n    </tr>\n    <tr>\n      <th>6</th>\n      <td>3Semesters</td>\n      <td>11.250</td>\n    </tr>\n    <tr>\n      <th>9</th>\n      <td>1Years</td>\n      <td>12.000</td>\n    </tr>\n    <tr>\n      <th>17</th>\n      <td>9-16Months</td>\n      <td>12.500</td>\n    </tr>\n    <tr>\n      <th>19</th>\n      <td>4Semesters</td>\n      <td>15.000</td>\n    </tr>\n    <tr>\n      <th>20</th>\n      <td>18Months</td>\n      <td>18.000</td>\n    </tr>\n    <tr>\n      <th>21</th>\n      <td>18-21Months</td>\n      <td>19.500</td>\n    </tr>\n    <tr>\n      <th>22</th>\n      <td>2-5Years</td>\n      <td>42.000</td>\n    </tr>\n    <tr>\n      <th>23</th>\n      <td>16-36Months</td>\n      <td>26.000</td>\n    </tr>\n    <tr>\n      <th>24</th>\n      <td>3-4Semesters</td>\n      <td>13.125</td>\n    </tr>\n    <tr>\n      <th>30</th>\n      <td>16Months</td>\n      <td>16.000</td>\n    </tr>\n    <tr>\n      <th>32</th>\n      <td>12-24Months</td>\n      <td>18.000</td>\n    </tr>\n    <tr>\n      <th>33</th>\n      <td>1-2Years</td>\n      <td>18.000</td>\n    </tr>\n    <tr>\n      <th>36</th>\n      <td>2-3Years</td>\n      <td>30.000</td>\n    </tr>\n    <tr>\n      <th>39</th>\n      <td>16-24Months</td>\n      <td>20.000</td>\n    </tr>\n    <tr>\n      <th>40</th>\n      <td>2-3Semesters</td>\n      <td>9.375</td>\n    </tr>\n    <tr>\n      <th>41</th>\n      <td>4-8Semesters</td>\n      <td>22.500</td>\n    </tr>\n    <tr>\n      <th>49</th>\n      <td>3-6Semesters</td>\n      <td>16.875</td>\n    </tr>\n    <tr>\n      <th>54</th>\n      <td>9Months</td>\n      <td>9.000</td>\n    </tr>\n    <tr>\n      <th>57</th>\n      <td>4-5Semesters</td>\n      <td>16.875</td>\n    </tr>\n    <tr>\n      <th>60</th>\n      <td>5Semesters</td>\n      <td>18.750</td>\n    </tr>\n    <tr>\n      <th>63</th>\n      <td>18-48Years</td>\n      <td>396.000</td>\n    </tr>\n    <tr>\n      <th>65</th>\n      <td>10Months</td>\n      <td>10.000</td>\n    </tr>\n    <tr>\n      <th>70</th>\n      <td>missing</td>\n      <td>-1.000</td>\n    </tr>\n    <tr>\n      <th>72</th>\n      <td>18-22Months</td>\n      <td>20.000</td>\n    </tr>\n    <tr>\n      <th>77</th>\n      <td>15Months</td>\n      <td>15.000</td>\n    </tr>\n    <tr>\n      <th>78</th>\n      <td>10-24Months</td>\n      <td>17.000</td>\n    </tr>\n    <tr>\n      <th>79</th>\n      <td>9-12Months</td>\n      <td>10.500</td>\n    </tr>\n    <tr>\n      <th>83</th>\n      <td>36Hours</td>\n      <td>-1.000</td>\n    </tr>\n  </tbody>\n</table>\n</div>"
     },
     "metadata": {},
     "execution_count": 89
    }
   ],
   "source": [
    "# to check if its okay\n",
    "qualified[['duration', 'point_duration']].drop_duplicates()"
   ]
  },
  {
   "cell_type": "code",
   "execution_count": 90,
   "metadata": {},
   "outputs": [
    {
     "output_type": "stream",
     "name": "stdout",
     "text": [
      "<class 'pandas.core.frame.DataFrame'>\nRangeIndex: 87 entries, 0 to 86\nData columns (total 13 columns):\n #   Column              Non-Null Count  Dtype  \n---  ------              --------------  -----  \n 0   title               87 non-null     object \n 1   url                 87 non-null     object \n 2   school              87 non-null     object \n 3   degree              87 non-null     object \n 4   pace                87 non-null     object \n 5   duration            87 non-null     object \n 6   languages           87 non-null     object \n 7   based               87 non-null     object \n 8   price               87 non-null     object \n 9   keyword_present     87 non-null     int64  \n 10  fulltime_available  87 non-null     int64  \n 11  campus_available    87 non-null     int64  \n 12  point_duration      87 non-null     float64\ndtypes: float64(1), int64(3), object(9)\nmemory usage: 9.0+ KB\n"
     ]
    }
   ],
   "source": [
    "qualified.info()"
   ]
  },
  {
   "cell_type": "code",
   "execution_count": 91,
   "metadata": {},
   "outputs": [],
   "source": [
    "# drop price as it has no data\n",
    "qualified = qualified.drop(['price'], axis=1)"
   ]
  },
  {
   "cell_type": "code",
   "execution_count": 92,
   "metadata": {},
   "outputs": [],
   "source": [
    "# filter out courses under 12 months\n",
    "qualified = qualified[qualified.point_duration >= 12]"
   ]
  },
  {
   "cell_type": "code",
   "execution_count": 93,
   "metadata": {},
   "outputs": [],
   "source": [
    "# only consider languages delivered in english\n",
    "qualified = qualified[qualified.languages == 'English']"
   ]
  },
  {
   "cell_type": "code",
   "execution_count": 94,
   "metadata": {},
   "outputs": [],
   "source": [
    "# drop the columns that were created only for filtering purposes\n",
    "qualified = qualified.drop(['keyword_present', 'fulltime_available', 'campus_available', 'languages'], axis=1)"
   ]
  },
  {
   "cell_type": "code",
   "execution_count": 99,
   "metadata": {},
   "outputs": [],
   "source": [
    "# drop duplicates\n",
    "qualified = qualified.drop_duplicates()"
   ]
  },
  {
   "cell_type": "code",
   "execution_count": 100,
   "metadata": {},
   "outputs": [
    {
     "output_type": "execute_result",
     "data": {
      "text/plain": [
       "(66, 8)"
      ]
     },
     "metadata": {},
     "execution_count": 100
    }
   ],
   "source": [
    "qualified.shape"
   ]
  },
  {
   "cell_type": "code",
   "execution_count": 113,
   "metadata": {},
   "outputs": [
    {
     "output_type": "execute_result",
     "data": {
      "text/plain": [
       "                                       title  \\\n",
       "0                               MS Analytics   \n",
       "1                  MS in Marketing Analytics   \n",
       "2  Master in Applied Artificial Intelligence   \n",
       "4                     Master in Data Science   \n",
       "5                 Master in Machine Learning   \n",
       "\n",
       "                                                 url  \\\n",
       "0  https://www.masterstudies.com/MS-Analytics/USA...   \n",
       "1  https://www.masterstudies.com/MS-in-Marketing-...   \n",
       "2  https://www.masterstudies.com//Master-in-Appli...   \n",
       "4  https://www.masterstudies.com/Master-in-Data-S...   \n",
       "5  https://www.masterstudies.com/Master-in-Machin...   \n",
       "\n",
       "                                              school  degree  \\\n",
       "0      Kogod School of Business, American University     MSc   \n",
       "1                University of Maryland College Park     MSc   \n",
       "2  Stevens Institute of Technology - Graduate Stu...  Master   \n",
       "4  Stevens Institute of Technology - Graduate Stu...  Master   \n",
       "5  Stevens Institute of Technology - Graduate Stu...  Master   \n",
       "\n",
       "                                                pace     duration  \\\n",
       "0  Full-time                                     ...     1-3Years   \n",
       "1                                          Full-time  10-16Months   \n",
       "2  Full-time                                     ...       2Years   \n",
       "4  Full-time                                     ...       2Years   \n",
       "5  Full-time                                     ...       2Years   \n",
       "\n",
       "           based  point_duration  \n",
       "0  Campus Online            24.0  \n",
       "1         Campus            13.0  \n",
       "2  Campus Online            24.0  \n",
       "4         Campus            24.0  \n",
       "5  Campus Online            24.0  "
      ],
      "text/html": "<div>\n<style scoped>\n    .dataframe tbody tr th:only-of-type {\n        vertical-align: middle;\n    }\n\n    .dataframe tbody tr th {\n        vertical-align: top;\n    }\n\n    .dataframe thead th {\n        text-align: right;\n    }\n</style>\n<table border=\"1\" class=\"dataframe\">\n  <thead>\n    <tr style=\"text-align: right;\">\n      <th></th>\n      <th>title</th>\n      <th>url</th>\n      <th>school</th>\n      <th>degree</th>\n      <th>pace</th>\n      <th>duration</th>\n      <th>based</th>\n      <th>point_duration</th>\n    </tr>\n  </thead>\n  <tbody>\n    <tr>\n      <th>0</th>\n      <td>MS Analytics</td>\n      <td>https://www.masterstudies.com/MS-Analytics/USA...</td>\n      <td>Kogod School of Business, American University</td>\n      <td>MSc</td>\n      <td>Full-time                                     ...</td>\n      <td>1-3Years</td>\n      <td>Campus Online</td>\n      <td>24.0</td>\n    </tr>\n    <tr>\n      <th>1</th>\n      <td>MS in Marketing Analytics</td>\n      <td>https://www.masterstudies.com/MS-in-Marketing-...</td>\n      <td>University of Maryland College Park</td>\n      <td>MSc</td>\n      <td>Full-time</td>\n      <td>10-16Months</td>\n      <td>Campus</td>\n      <td>13.0</td>\n    </tr>\n    <tr>\n      <th>2</th>\n      <td>Master in Applied Artificial Intelligence</td>\n      <td>https://www.masterstudies.com//Master-in-Appli...</td>\n      <td>Stevens Institute of Technology - Graduate Stu...</td>\n      <td>Master</td>\n      <td>Full-time                                     ...</td>\n      <td>2Years</td>\n      <td>Campus Online</td>\n      <td>24.0</td>\n    </tr>\n    <tr>\n      <th>4</th>\n      <td>Master in Data Science</td>\n      <td>https://www.masterstudies.com/Master-in-Data-S...</td>\n      <td>Stevens Institute of Technology - Graduate Stu...</td>\n      <td>Master</td>\n      <td>Full-time                                     ...</td>\n      <td>2Years</td>\n      <td>Campus</td>\n      <td>24.0</td>\n    </tr>\n    <tr>\n      <th>5</th>\n      <td>Master in Machine Learning</td>\n      <td>https://www.masterstudies.com/Master-in-Machin...</td>\n      <td>Stevens Institute of Technology - Graduate Stu...</td>\n      <td>Master</td>\n      <td>Full-time                                     ...</td>\n      <td>2Years</td>\n      <td>Campus Online</td>\n      <td>24.0</td>\n    </tr>\n  </tbody>\n</table>\n</div>"
     },
     "metadata": {},
     "execution_count": 113
    }
   ],
   "source": [
    "qualified.head()"
   ]
  },
  {
   "cell_type": "code",
   "execution_count": 114,
   "metadata": {},
   "outputs": [],
   "source": [
    "qualified.to_csv('data/masterstudies_usa_filtered_jun1_2021.csv', index=False)"
   ]
  }
 ]
}