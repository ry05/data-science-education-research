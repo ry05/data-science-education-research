{
 "cells": [
  {
   "cell_type": "code",
   "execution_count": 1,
   "metadata": {},
   "outputs": [],
   "source": [
    "from scraper import Program\r\n",
    "\r\n",
    "import pandas as pd\r\n",
    "import requests\r\n",
    "from bs4 import BeautifulSoup"
   ]
  },
  {
   "cell_type": "code",
   "execution_count": 13,
   "metadata": {},
   "outputs": [],
   "source": [
    "# initialize variables to store the data\r\n",
    "\r\n",
    "# pgm_descr = pd.DataFrame(columns=['url', 'header', 'content'])\r\n",
    "pgm_other = pd.DataFrame(columns=['url', 'header_tag', 'header_names', 'links_useful_area', 'date_published', 'date_last_modified'])"
   ]
  },
  {
   "cell_type": "code",
   "execution_count": 14,
   "metadata": {},
   "outputs": [
    {
     "data": {
      "text/html": [
       "<div>\n",
       "<style scoped>\n",
       "    .dataframe tbody tr th:only-of-type {\n",
       "        vertical-align: middle;\n",
       "    }\n",
       "\n",
       "    .dataframe tbody tr th {\n",
       "        vertical-align: top;\n",
       "    }\n",
       "\n",
       "    .dataframe thead th {\n",
       "        text-align: right;\n",
       "    }\n",
       "</style>\n",
       "<table border=\"1\" class=\"dataframe\">\n",
       "  <thead>\n",
       "    <tr style=\"text-align: right;\">\n",
       "      <th></th>\n",
       "      <th>URL</th>\n",
       "      <th>Useful area</th>\n",
       "    </tr>\n",
       "  </thead>\n",
       "  <tbody>\n",
       "    <tr>\n",
       "      <th>0</th>\n",
       "      <td>http://cds.iisc.ac.in/admissions/course-degrees/</td>\n",
       "      <td>#page-70</td>\n",
       "    </tr>\n",
       "    <tr>\n",
       "      <th>1</th>\n",
       "      <td>https://eecs.iisc.ac.in/mtechai/</td>\n",
       "      <td>#common &gt; div &gt; div &gt; div.col-md-9</td>\n",
       "    </tr>\n",
       "    <tr>\n",
       "      <th>2</th>\n",
       "      <td>https://smsuoh.ac.in/mba/mba-business-analytics/</td>\n",
       "      <td>#blog</td>\n",
       "    </tr>\n",
       "    <tr>\n",
       "      <th>3</th>\n",
       "      <td>https://scis.uohyd.ac.in/Academic/Programmes/m...</td>\n",
       "      <td>#main-content</td>\n",
       "    </tr>\n",
       "    <tr>\n",
       "      <th>4</th>\n",
       "      <td>https://www.iitg.ac.in/ds/</td>\n",
       "      <td>body &gt; main</td>\n",
       "    </tr>\n",
       "  </tbody>\n",
       "</table>\n",
       "</div>"
      ],
      "text/plain": [
       "                                                 URL  \\\n",
       "0   http://cds.iisc.ac.in/admissions/course-degrees/   \n",
       "1                   https://eecs.iisc.ac.in/mtechai/   \n",
       "2   https://smsuoh.ac.in/mba/mba-business-analytics/   \n",
       "3  https://scis.uohyd.ac.in/Academic/Programmes/m...   \n",
       "4                         https://www.iitg.ac.in/ds/   \n",
       "\n",
       "                          Useful area  \n",
       "0                            #page-70  \n",
       "1  #common > div > div > div.col-md-9  \n",
       "2                               #blog  \n",
       "3                       #main-content  \n",
       "4                         body > main  "
      ]
     },
     "execution_count": 14,
     "metadata": {},
     "output_type": "execute_result"
    }
   ],
   "source": [
    "# load the PPL\r\n",
    "ppl = pd.read_excel(\"../data/PPL/PPL_India.xlsx\")\r\n",
    "ppl_sub = ppl[['URL', 'Useful area']]\r\n",
    "ppl_sub.head()"
   ]
  },
  {
   "cell_type": "code",
   "execution_count": 15,
   "metadata": {},
   "outputs": [
    {
     "name": "stdout",
     "output_type": "stream",
     "text": [
      "Data entry in row 4 needs to be checked\n",
      "5 PDF document/brochure. No web structure extracted\n",
      "6 PDF document/brochure. No web structure extracted\n",
      "7 PDF document/brochure. No web structure extracted\n",
      "15 PDF document/brochure. No web structure extracted\n",
      "16 PDF document/brochure. No web structure extracted\n",
      "17 PDF document/brochure. No web structure extracted\n",
      "18 PDF document/brochure. No web structure extracted\n",
      "19 PDF document/brochure. No web structure extracted\n",
      "20 PDF document/brochure. No web structure extracted\n",
      "403\n",
      "Not a successful response\n",
      "Data entry in row 23 needs to be checked\n",
      "31 PDF document/brochure. No web structure extracted\n"
     ]
    },
    {
     "name": "stderr",
     "output_type": "stream",
     "text": [
      "Some characters could not be decoded, and were replaced with REPLACEMENT CHARACTER.\n"
     ]
    }
   ],
   "source": [
    "# change the url, useful_area_path and static variables\r\n",
    "\r\n",
    "problem_rows = []\r\n",
    "\r\n",
    "for row in range(ppl_sub.shape[0]):\r\n",
    "\r\n",
    "    url = ppl_sub['URL'][row]\r\n",
    "    uap = ppl_sub['Useful area'][row]\r\n",
    "\r\n",
    "    if '.pdf' in url:\r\n",
    "        print(f\"{row} PDF document/brochure. No web structure extracted\")\r\n",
    "        problem_rows.append(row)\r\n",
    "        continue\r\n",
    "\r\n",
    "    try:\r\n",
    "        p = Program(\r\n",
    "            url=url,\r\n",
    "            driver_path='../chromedriver_win32/chromedriver.exe',\r\n",
    "            useful_area_path=uap,\r\n",
    "            static=True\r\n",
    "        )\r\n",
    "\r\n",
    "        ex_df = p.extract_df(content=False)\r\n",
    "        # concatenate\r\n",
    "        pgm_other = pd.concat([pgm_other, ex_df])\r\n",
    "\r\n",
    "    except:\r\n",
    "        print(f'Data entry in row {row} needs to be checked')\r\n",
    "        problem_rows.append(row)\r\n",
    "        continue"
   ]
  },
  {
   "cell_type": "code",
   "execution_count": 16,
   "metadata": {},
   "outputs": [
    {
     "data": {
      "text/plain": [
       "URL            https://www.amrita.edu/program/m-tech-artifici...\n",
       "Useful area                                 body > div.container\n",
       "Name: 23, dtype: object"
      ]
     },
     "execution_count": 16,
     "metadata": {},
     "output_type": "execute_result"
    }
   ],
   "source": [
    "ppl_sub.iloc[23]"
   ]
  },
  {
   "cell_type": "code",
   "execution_count": 17,
   "metadata": {},
   "outputs": [],
   "source": [
    "ppl_sub_fix = ppl_sub.iloc[problem_rows]\r\n",
    "ppl_sub_fix.columns = ['url', 'useful_area']"
   ]
  },
  {
   "cell_type": "code",
   "execution_count": 18,
   "metadata": {},
   "outputs": [
    {
     "name": "stdout",
     "output_type": "stream",
     "text": [
      "<class 'pandas.core.frame.DataFrame'>\n",
      "Int64Index: 12 entries, 4 to 31\n",
      "Data columns (total 2 columns):\n",
      " #   Column       Non-Null Count  Dtype \n",
      "---  ------       --------------  ----- \n",
      " 0   url          12 non-null     object\n",
      " 1   useful_area  2 non-null      object\n",
      "dtypes: object(2)\n",
      "memory usage: 288.0+ bytes\n"
     ]
    }
   ],
   "source": [
    "ppl_sub_fix.info()"
   ]
  },
  {
   "cell_type": "code",
   "execution_count": 19,
   "metadata": {},
   "outputs": [],
   "source": [
    "\r\n",
    "pgm_other = pgm_other.append(ppl_sub_fix[['url']]).reset_index(drop=True)"
   ]
  },
  {
   "cell_type": "code",
   "execution_count": 20,
   "metadata": {},
   "outputs": [],
   "source": [
    "# fix missing dates\r\n",
    "pgm_other['date_published'] = pgm_other['date_published'].fillna('Not inferred')\r\n",
    "pgm_other['date_last_modified'] = pgm_other['date_last_modified'].fillna('Not inferred')"
   ]
  },
  {
   "cell_type": "code",
   "execution_count": 21,
   "metadata": {},
   "outputs": [
    {
     "name": "stdout",
     "output_type": "stream",
     "text": [
      "<class 'pandas.core.frame.DataFrame'>\n",
      "RangeIndex: 33 entries, 0 to 32\n",
      "Data columns (total 9 columns):\n",
      " #   Column              Non-Null Count  Dtype \n",
      "---  ------              --------------  ----- \n",
      " 0   url                 33 non-null     object\n",
      " 1   header_tag          21 non-null     object\n",
      " 2   header_names        21 non-null     object\n",
      " 3   links_useful_area   21 non-null     object\n",
      " 4   date_published      33 non-null     object\n",
      " 5   date_last_modified  33 non-null     object\n",
      " 6   tags                21 non-null     object\n",
      " 7   tag_freq            21 non-null     object\n",
      " 8   emphasized          21 non-null     object\n",
      "dtypes: object(9)\n",
      "memory usage: 2.4+ KB\n"
     ]
    }
   ],
   "source": [
    "pgm_other.info()"
   ]
  },
  {
   "cell_type": "code",
   "execution_count": 22,
   "metadata": {},
   "outputs": [],
   "source": [
    "# save the intermediate forms of files\r\n",
    "pgm_other.to_csv('../data/intermediate/program_other_data_india.csv', index=False)"
   ]
  }
 ],
 "metadata": {
  "interpreter": {
   "hash": "c236e00cb2504b8feadf115dc1fb937fdc1f15d4b269bc00694bd48dbccf7690"
  },
  "kernelspec": {
   "display_name": "Python 3.8.10 64-bit ('capstone_project': conda)",
   "name": "python3"
  },
  "language_info": {
   "codemirror_mode": {
    "name": "ipython",
    "version": 3
   },
   "file_extension": ".py",
   "mimetype": "text/x-python",
   "name": "python",
   "nbconvert_exporter": "python",
   "pygments_lexer": "ipython3",
   "version": "3.8.10"
  },
  "orig_nbformat": 4
 },
 "nbformat": 4,
 "nbformat_minor": 2
}