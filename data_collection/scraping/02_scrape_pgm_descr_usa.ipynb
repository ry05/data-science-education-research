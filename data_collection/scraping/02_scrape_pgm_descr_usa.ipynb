{
 "cells": [
  {
   "cell_type": "markdown",
   "source": [
    "# Scraping Programs to Create the `Description of Program` variable - USA"
   ],
   "metadata": {}
  },
  {
   "cell_type": "code",
   "execution_count": 1,
   "source": [
    "from scraper import Program\r\n",
    "\r\n",
    "import pandas as pd\r\n",
    "import requests\r\n",
    "from bs4 import BeautifulSoup"
   ],
   "outputs": [],
   "metadata": {}
  },
  {
   "cell_type": "code",
   "execution_count": 2,
   "source": [
    "# initialize variables to store the data\r\n",
    "\r\n",
    "# pgm_descr = pd.DataFrame(columns=['url', 'header', 'content'])\r\n",
    "pgm_other = pd.DataFrame(columns=['url', 'header_tag', 'header_names', 'links_useful_area', 'date_published', 'date_last_modified'])"
   ],
   "outputs": [],
   "metadata": {}
  },
  {
   "cell_type": "code",
   "execution_count": 3,
   "source": [
    "# load the PPL\n",
    "ppl = pd.read_excel(\"../data/PPL/PPL_USA.xlsx\")\n",
    "ppl_sub = ppl[['URL', 'Useful area']]\n",
    "ppl_sub.head()"
   ],
   "outputs": [
    {
     "output_type": "execute_result",
     "data": {
      "text/plain": [
       "                                                 URL  \\\n",
       "0  https://www.seas.harvard.edu/applied-computati...   \n",
       "1  https://ed.stanford.edu/academics/masters/ed-d...   \n",
       "2  https://statistics.stanford.edu/academic-progr...   \n",
       "3  https://mitsloan.mit.edu/master-of-business-an...   \n",
       "4  https://sps.columbia.edu/academics/masters/app...   \n",
       "\n",
       "                                   Useful area  \n",
       "0             #node-11181 > div.grid-container  \n",
       "1                             #content-wrapper  \n",
       "2                             #content-wrapper  \n",
       "3                                #main-content  \n",
       "4  #block-columbia-sps-content > article > div  "
      ],
      "text/html": [
       "<div>\n",
       "<style scoped>\n",
       "    .dataframe tbody tr th:only-of-type {\n",
       "        vertical-align: middle;\n",
       "    }\n",
       "\n",
       "    .dataframe tbody tr th {\n",
       "        vertical-align: top;\n",
       "    }\n",
       "\n",
       "    .dataframe thead th {\n",
       "        text-align: right;\n",
       "    }\n",
       "</style>\n",
       "<table border=\"1\" class=\"dataframe\">\n",
       "  <thead>\n",
       "    <tr style=\"text-align: right;\">\n",
       "      <th></th>\n",
       "      <th>URL</th>\n",
       "      <th>Useful area</th>\n",
       "    </tr>\n",
       "  </thead>\n",
       "  <tbody>\n",
       "    <tr>\n",
       "      <th>0</th>\n",
       "      <td>https://www.seas.harvard.edu/applied-computati...</td>\n",
       "      <td>#node-11181 &gt; div.grid-container</td>\n",
       "    </tr>\n",
       "    <tr>\n",
       "      <th>1</th>\n",
       "      <td>https://ed.stanford.edu/academics/masters/ed-d...</td>\n",
       "      <td>#content-wrapper</td>\n",
       "    </tr>\n",
       "    <tr>\n",
       "      <th>2</th>\n",
       "      <td>https://statistics.stanford.edu/academic-progr...</td>\n",
       "      <td>#content-wrapper</td>\n",
       "    </tr>\n",
       "    <tr>\n",
       "      <th>3</th>\n",
       "      <td>https://mitsloan.mit.edu/master-of-business-an...</td>\n",
       "      <td>#main-content</td>\n",
       "    </tr>\n",
       "    <tr>\n",
       "      <th>4</th>\n",
       "      <td>https://sps.columbia.edu/academics/masters/app...</td>\n",
       "      <td>#block-columbia-sps-content &gt; article &gt; div</td>\n",
       "    </tr>\n",
       "  </tbody>\n",
       "</table>\n",
       "</div>"
      ]
     },
     "metadata": {},
     "execution_count": 3
    }
   ],
   "metadata": {}
  },
  {
   "cell_type": "code",
   "execution_count": 4,
   "source": [
    "# load the data till where it was last updated\n",
    "#pgm_descr = pd.read_csv('../data/intermediate/program_description_usa.csv')\n",
    "#pgm_other = pd.read_csv('../data/intermediate/program_other_data_usa.csv')"
   ],
   "outputs": [],
   "metadata": {}
  },
  {
   "cell_type": "code",
   "execution_count": 5,
   "source": [
    "# change the url, useful_area_path and static variables\n",
    "\n",
    "problem_rows = []\n",
    "\n",
    "for row in range(ppl_sub.shape[0]):\n",
    "\n",
    "    url = ppl_sub['URL'][row]\n",
    "    uap = ppl_sub['Useful area'][row]\n",
    "\n",
    "    try:\n",
    "        p = Program(\n",
    "            url=url,\n",
    "            driver_path='../chromedriver_win32/chromedriver.exe',\n",
    "            useful_area_path=uap,\n",
    "            static=True\n",
    "        )\n",
    "\n",
    "        ex_df = p.extract_df(content=False)\n",
    "        # concatenate\n",
    "        pgm_other = pd.concat([pgm_other, ex_df])\n",
    "\n",
    "    except:\n",
    "        print(f'Data entry in row {row} needs to be checked')\n",
    "        problem_rows.append(row)\n",
    "        continue"
   ],
   "outputs": [
    {
     "output_type": "stream",
     "name": "stdout",
     "text": [
      "Data entry in row 15 needs to be checked\n"
     ]
    }
   ],
   "metadata": {}
  },
  {
   "cell_type": "code",
   "execution_count": 6,
   "source": [
    "# fixing the issue with row 15 and adding it in\n",
    "\n",
    "response = requests.get(\n",
    "   'https://professional.uchicago.edu/find-your-fit/masters/master-science-analytics',\n",
    "    headers = {'User-agent': 'DSE Scraper'},\n",
    "    timeout=(10,10),\n",
    "    verify=False\n",
    ")\n",
    "\n",
    "soup = BeautifulSoup(response.content, 'html.parser')\n",
    "soup_refined = soup.find_all(class_ = 'region-content')[0]\n",
    "\n",
    "p = Program(\n",
    "    url='https://professional.uchicago.edu/find-your-fit/masters/master-science-analytics',\n",
    "    driver_path='../chromedriver_win32/chromedriver.exe',\n",
    "    useful_area_path='#mm-0 > div.responsive-menu-page-wrapper > section > div.region.region-content',\n",
    "    static=True\n",
    ")\n",
    "\n",
    "t = p.extract_df(content=False, pass_parse=soup_refined)\n",
    "pgm_other = pd.concat([pgm_other, t])"
   ],
   "outputs": [],
   "metadata": {}
  },
  {
   "cell_type": "code",
   "execution_count": 7,
   "source": [
    "pgm_other = pgm_other.reset_index(drop=True)\n",
    "pgm_other.head()"
   ],
   "outputs": [
    {
     "output_type": "execute_result",
     "data": {
      "text/plain": [
       "                                                 url            header_tag  \\\n",
       "0  https://www.seas.harvard.edu/applied-computati...              [h1, h2]   \n",
       "1  https://ed.stanford.edu/academics/masters/ed-d...      [h2, h1, h3, h4]   \n",
       "2  https://statistics.stanford.edu/academic-progr...          [h1, h3, h4]   \n",
       "3  https://mitsloan.mit.edu/master-of-business-an...  [h1, h2, h5, h3, h4]   \n",
       "4  https://sps.columbia.edu/academics/masters/app...          [h1, h2, h3]   \n",
       "\n",
       "                                        header_names  \\\n",
       "0  [[Master's in Data Science\\n], [Main navigatio...   \n",
       "1  [[You are here, Education data science at Stan...   \n",
       "2  [[ M.S. in Statistics: Data Science ], [2019-2...   \n",
       "3  [[Master of Business Analytics], [Curriculum, ...   \n",
       "4  [[Applied Analytics], [Using analytics to make...   \n",
       "\n",
       "                                   links_useful_area date_published  \\\n",
       "0  [/computer-science, https://statistics.fas.har...     2021-01-01   \n",
       "1  [/, /academics/masters/data-science/program, /...     2020-06-05   \n",
       "2  [https://statistics.stanford.edu/academics/ms-...     2019-01-01   \n",
       "3  [https://www.facebook.com/MITSloanAdmissions/,...     2019-12-20   \n",
       "4  [https://apply.sps.columbia.edu/apply/, /acade...     2021-05-21   \n",
       "\n",
       "  date_last_modified                                               tags  \\\n",
       "0         2021-01-01  [div, div, h1, span, div, div, div, p, span, a...   \n",
       "1         2021-01-14  [div, h2, ul, li, div, a, i, span, li, div, di...   \n",
       "2         2020-01-01  [div, h1, div, div, div, div, article, span, d...   \n",
       "3         2019-12-20  [div, div, div, div, div, div, section, figure...   \n",
       "4         2021-05-21  [div, div, section, div, article, span, pictur...   \n",
       "\n",
       "                                            tag_freq  \\\n",
       "0  {'div': 7, 'h1': 1, 'span': 2, 'p': 11, 'a': 3...   \n",
       "1  {'div': 210, 'h2': 4, 'ul': 1, 'li': 2, 'a': 2...   \n",
       "2  {'div': 11, 'h1': 1, 'article': 1, 'span': 2, ...   \n",
       "3  {'div': 246, 'section': 16, 'figure': 43, 'spa...   \n",
       "4  {'div': 81, 'section': 1, 'article': 8, 'span'...   \n",
       "\n",
       "                                          emphasized  \n",
       "0  [wednesday, october 13, master's in data scien...  \n",
       "1  [education data science (ms), carl wieman, tho...  \n",
       "2  [practical component (3 units) optional, minim...  \n",
       "3  [master of business analytics, patrick jaillet...  \n",
       "4  [m.s. application requirements, featured facul...  "
      ],
      "text/html": [
       "<div>\n",
       "<style scoped>\n",
       "    .dataframe tbody tr th:only-of-type {\n",
       "        vertical-align: middle;\n",
       "    }\n",
       "\n",
       "    .dataframe tbody tr th {\n",
       "        vertical-align: top;\n",
       "    }\n",
       "\n",
       "    .dataframe thead th {\n",
       "        text-align: right;\n",
       "    }\n",
       "</style>\n",
       "<table border=\"1\" class=\"dataframe\">\n",
       "  <thead>\n",
       "    <tr style=\"text-align: right;\">\n",
       "      <th></th>\n",
       "      <th>url</th>\n",
       "      <th>header_tag</th>\n",
       "      <th>header_names</th>\n",
       "      <th>links_useful_area</th>\n",
       "      <th>date_published</th>\n",
       "      <th>date_last_modified</th>\n",
       "      <th>tags</th>\n",
       "      <th>tag_freq</th>\n",
       "      <th>emphasized</th>\n",
       "    </tr>\n",
       "  </thead>\n",
       "  <tbody>\n",
       "    <tr>\n",
       "      <th>0</th>\n",
       "      <td>https://www.seas.harvard.edu/applied-computati...</td>\n",
       "      <td>[h1, h2]</td>\n",
       "      <td>[[Master's in Data Science\\n], [Main navigatio...</td>\n",
       "      <td>[/computer-science, https://statistics.fas.har...</td>\n",
       "      <td>2021-01-01</td>\n",
       "      <td>2021-01-01</td>\n",
       "      <td>[div, div, h1, span, div, div, div, p, span, a...</td>\n",
       "      <td>{'div': 7, 'h1': 1, 'span': 2, 'p': 11, 'a': 3...</td>\n",
       "      <td>[wednesday, october 13, master's in data scien...</td>\n",
       "    </tr>\n",
       "    <tr>\n",
       "      <th>1</th>\n",
       "      <td>https://ed.stanford.edu/academics/masters/ed-d...</td>\n",
       "      <td>[h2, h1, h3, h4]</td>\n",
       "      <td>[[You are here, Education data science at Stan...</td>\n",
       "      <td>[/, /academics/masters/data-science/program, /...</td>\n",
       "      <td>2020-06-05</td>\n",
       "      <td>2021-01-14</td>\n",
       "      <td>[div, h2, ul, li, div, a, i, span, li, div, di...</td>\n",
       "      <td>{'div': 210, 'h2': 4, 'ul': 1, 'li': 2, 'a': 2...</td>\n",
       "      <td>[education data science (ms), carl wieman, tho...</td>\n",
       "    </tr>\n",
       "    <tr>\n",
       "      <th>2</th>\n",
       "      <td>https://statistics.stanford.edu/academic-progr...</td>\n",
       "      <td>[h1, h3, h4]</td>\n",
       "      <td>[[ M.S. in Statistics: Data Science ], [2019-2...</td>\n",
       "      <td>[https://statistics.stanford.edu/academics/ms-...</td>\n",
       "      <td>2019-01-01</td>\n",
       "      <td>2020-01-01</td>\n",
       "      <td>[div, h1, div, div, div, div, article, span, d...</td>\n",
       "      <td>{'div': 11, 'h1': 1, 'article': 1, 'span': 2, ...</td>\n",
       "      <td>[practical component (3 units) optional, minim...</td>\n",
       "    </tr>\n",
       "    <tr>\n",
       "      <th>3</th>\n",
       "      <td>https://mitsloan.mit.edu/master-of-business-an...</td>\n",
       "      <td>[h1, h2, h5, h3, h4]</td>\n",
       "      <td>[[Master of Business Analytics], [Curriculum, ...</td>\n",
       "      <td>[https://www.facebook.com/MITSloanAdmissions/,...</td>\n",
       "      <td>2019-12-20</td>\n",
       "      <td>2019-12-20</td>\n",
       "      <td>[div, div, div, div, div, div, section, figure...</td>\n",
       "      <td>{'div': 246, 'section': 16, 'figure': 43, 'spa...</td>\n",
       "      <td>[master of business analytics, patrick jaillet...</td>\n",
       "    </tr>\n",
       "    <tr>\n",
       "      <th>4</th>\n",
       "      <td>https://sps.columbia.edu/academics/masters/app...</td>\n",
       "      <td>[h1, h2, h3]</td>\n",
       "      <td>[[Applied Analytics], [Using analytics to make...</td>\n",
       "      <td>[https://apply.sps.columbia.edu/apply/, /acade...</td>\n",
       "      <td>2021-05-21</td>\n",
       "      <td>2021-05-21</td>\n",
       "      <td>[div, div, section, div, article, span, pictur...</td>\n",
       "      <td>{'div': 81, 'section': 1, 'article': 8, 'span'...</td>\n",
       "      <td>[m.s. application requirements, featured facul...</td>\n",
       "    </tr>\n",
       "  </tbody>\n",
       "</table>\n",
       "</div>"
      ]
     },
     "metadata": {},
     "execution_count": 7
    }
   ],
   "metadata": {}
  },
  {
   "cell_type": "code",
   "execution_count": 8,
   "source": [
    "pgm_other.info()"
   ],
   "outputs": [
    {
     "output_type": "stream",
     "name": "stdout",
     "text": [
      "<class 'pandas.core.frame.DataFrame'>\n",
      "RangeIndex: 81 entries, 0 to 80\n",
      "Data columns (total 9 columns):\n",
      " #   Column              Non-Null Count  Dtype \n",
      "---  ------              --------------  ----- \n",
      " 0   url                 81 non-null     object\n",
      " 1   header_tag          81 non-null     object\n",
      " 2   header_names        81 non-null     object\n",
      " 3   links_useful_area   81 non-null     object\n",
      " 4   date_published      77 non-null     object\n",
      " 5   date_last_modified  77 non-null     object\n",
      " 6   tags                81 non-null     object\n",
      " 7   tag_freq            81 non-null     object\n",
      " 8   emphasized          81 non-null     object\n",
      "dtypes: object(9)\n",
      "memory usage: 5.8+ KB\n"
     ]
    }
   ],
   "metadata": {}
  },
  {
   "cell_type": "code",
   "execution_count": 9,
   "source": [
    "# fix missing dates\n",
    "pgm_other = pgm_other.fillna('Not inferred')"
   ],
   "outputs": [],
   "metadata": {}
  },
  {
   "cell_type": "code",
   "execution_count": 11,
   "source": [
    "# save the intermediate forms of files\n",
    "#pgm_descr.to_csv('../data/intermediate/program_description_usa.csv', index=False)\n",
    "pgm_other.to_csv('../data/intermediate/program_other_data_usa.csv', index=False)"
   ],
   "outputs": [],
   "metadata": {}
  }
 ],
 "metadata": {
  "interpreter": {
   "hash": "c236e00cb2504b8feadf115dc1fb937fdc1f15d4b269bc00694bd48dbccf7690"
  },
  "kernelspec": {
   "display_name": "Python 3.8.10 64-bit ('capstone_project': conda)",
   "name": "python3"
  },
  "language_info": {
   "name": "python",
   "version": ""
  },
  "orig_nbformat": 2
 },
 "nbformat": 4,
 "nbformat_minor": 2
}