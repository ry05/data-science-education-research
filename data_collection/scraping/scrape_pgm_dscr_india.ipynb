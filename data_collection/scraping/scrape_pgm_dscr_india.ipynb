{
 "cells": [
  {
   "cell_type": "markdown",
   "metadata": {},
   "source": [
    "# Scraping Programs to Create the `Description of Program` variable - India"
   ]
  },
  {
   "cell_type": "code",
   "execution_count": 1,
   "metadata": {},
   "outputs": [],
   "source": [
    "from scraper import Program\n",
    "\n",
    "import pandas as pd"
   ]
  },
  {
   "cell_type": "code",
   "execution_count": 2,
   "metadata": {},
   "outputs": [],
   "source": [
    "# initialize variables to store the data\n",
    "\n",
    "#pgm_descr = pd.DataFrame(columns=['url', 'header', 'content'])\n",
    "#pgm_other = pd.DataFrame(columns=['url', 'header_tag', 'header_names', 'links_in_useful_area', 'date_published', 'date_last_modified'])"
   ]
  },
  {
   "cell_type": "code",
   "execution_count": 2,
   "metadata": {},
   "outputs": [],
   "source": [
    "# load the data till where it was last updated\n",
    "pgm_descr = pd.read_csv('../data/intermediate/program_description.csv')\n",
    "pgm_other = pd.read_csv('../data/intermediate/program_other_data.csv')"
   ]
  },
  {
   "cell_type": "code",
   "execution_count": 45,
   "metadata": {},
   "outputs": [],
   "source": [
    "# change the url, useful_area_path and static variables\n",
    "\n",
    "p = Program(\n",
    "    url='https://www.amrita.edu/program/m-tech-computational-engineering-networking',\n",
    "    driver_path='../chromedriver_win32/chromedriver.exe',\n",
    "    useful_area_path='#block-system-main > div > div > div > div.field.field-name-body.field-type-text-with-summary.field-label-hidden > div > div > div.row.row-margin-bottom',\n",
    "    static=True\n",
    ")"
   ]
  },
  {
   "cell_type": "code",
   "execution_count": 46,
   "metadata": {},
   "outputs": [],
   "source": [
    "ex_df = p.extract_df()\n",
    "pgm_descr = pd.concat([pgm_descr, ex_df])"
   ]
  },
  {
   "cell_type": "code",
   "execution_count": 47,
   "metadata": {},
   "outputs": [
    {
     "data": {
      "text/html": [
       "<div>\n",
       "<style scoped>\n",
       "    .dataframe tbody tr th:only-of-type {\n",
       "        vertical-align: middle;\n",
       "    }\n",
       "\n",
       "    .dataframe tbody tr th {\n",
       "        vertical-align: top;\n",
       "    }\n",
       "\n",
       "    .dataframe thead th {\n",
       "        text-align: right;\n",
       "    }\n",
       "</style>\n",
       "<table border=\"1\" class=\"dataframe\">\n",
       "  <thead>\n",
       "    <tr style=\"text-align: right;\">\n",
       "      <th></th>\n",
       "      <th>url</th>\n",
       "      <th>header</th>\n",
       "      <th>content</th>\n",
       "    </tr>\n",
       "  </thead>\n",
       "  <tbody>\n",
       "    <tr>\n",
       "      <th>11</th>\n",
       "      <td>https://www.amrita.edu/program/m-tech-computat...</td>\n",
       "      <td>Placements &amp; Internships</td>\n",
       "      <td></td>\n",
       "    </tr>\n",
       "    <tr>\n",
       "      <th>12</th>\n",
       "      <td>https://www.amrita.edu/program/m-tech-computat...</td>\n",
       "      <td>Industry Partners</td>\n",
       "      <td>Center has long term collaboration with vario...</td>\n",
       "    </tr>\n",
       "    <tr>\n",
       "      <th>13</th>\n",
       "      <td>https://www.amrita.edu/program/m-tech-computat...</td>\n",
       "      <td>Student Testimonials</td>\n",
       "      <td>\\n \\n \\n \\n \\n \\n\"I am an alumni of CEN; I c...</td>\n",
       "    </tr>\n",
       "    <tr>\n",
       "      <th>14</th>\n",
       "      <td>https://www.amrita.edu/program/m-tech-computat...</td>\n",
       "      <td>Join Amrita M. Tech. Data Science @ Coimbatore...</td>\n",
       "      <td>If you wish to know more about the course ple...</td>\n",
       "    </tr>\n",
       "    <tr>\n",
       "      <th>15</th>\n",
       "      <td>https://www.amrita.edu/program/m-tech-computat...</td>\n",
       "      <td>Contact</td>\n",
       "      <td>+91 8075876716  +91 9633913855  +91 62823713...</td>\n",
       "    </tr>\n",
       "  </tbody>\n",
       "</table>\n",
       "</div>"
      ],
      "text/plain": [
       "                                                  url  \\\n",
       "11  https://www.amrita.edu/program/m-tech-computat...   \n",
       "12  https://www.amrita.edu/program/m-tech-computat...   \n",
       "13  https://www.amrita.edu/program/m-tech-computat...   \n",
       "14  https://www.amrita.edu/program/m-tech-computat...   \n",
       "15  https://www.amrita.edu/program/m-tech-computat...   \n",
       "\n",
       "                                               header  \\\n",
       "11                           Placements & Internships   \n",
       "12                                  Industry Partners   \n",
       "13                               Student Testimonials   \n",
       "14  Join Amrita M. Tech. Data Science @ Coimbatore...   \n",
       "15                                            Contact   \n",
       "\n",
       "                                              content  \n",
       "11                                                     \n",
       "12   Center has long term collaboration with vario...  \n",
       "13    \\n \\n \\n \\n \\n \\n\"I am an alumni of CEN; I c...  \n",
       "14   If you wish to know more about the course ple...  \n",
       "15    +91 8075876716  +91 9633913855  +91 62823713...  "
      ]
     },
     "execution_count": 47,
     "metadata": {},
     "output_type": "execute_result"
    }
   ],
   "source": [
    "pgm_descr.tail(5)"
   ]
  },
  {
   "cell_type": "code",
   "execution_count": 48,
   "metadata": {},
   "outputs": [
    {
     "data": {
      "text/plain": [
       "defaultdict(list,\n",
       "            {'h3': ['Fellowship is awarded to meritorious students on the condition that they satisfy the criteria set by the centre.',\n",
       "              'Placements & Internships',\n",
       "              'Industry Partners'],\n",
       "             'h2': ['Workshops @ CEN',\n",
       "              'Student Achievements',\n",
       "              'Eligibility Criteria',\n",
       "              'Thrust Areas in Research',\n",
       "              'Funded Projects in CEN',\n",
       "              'Best Student Projects',\n",
       "              'Facilities & Infrastructure',\n",
       "              'Curriculum',\n",
       "              'List of Courses',\n",
       "              'Placement Opportunities & Industry Partners',\n",
       "              'Student Testimonials',\n",
       "              'Join Amrita M. Tech. Data Science @ Coimbatore Campus',\n",
       "              'Contact']})"
      ]
     },
     "execution_count": 48,
     "metadata": {},
     "output_type": "execute_result"
    }
   ],
   "source": [
    "p.headers_dict"
   ]
  },
  {
   "cell_type": "code",
   "execution_count": 49,
   "metadata": {},
   "outputs": [],
   "source": [
    "# make the \"other important data\"\n",
    "\n",
    "links = '; '.join(list(p.get_links()))\n",
    "dates = p.get_date()\n",
    "\n",
    "d1 = dict(\n",
    "        url = p.url,\n",
    "        header_tag = list(p.headers_dict.keys()),\n",
    "        header_names = list(p.headers_dict.values()),\n",
    "        links_in_useful_area = links,\n",
    "        date_published = dates[0],\n",
    "        date_last_modified = dates[1]\n",
    ")\n",
    "\n",
    "d1 = pd.DataFrame.from_dict(d1, orient='index').transpose()\n",
    "pgm_other = pd.concat([pgm_other, d1])\n"
   ]
  },
  {
   "cell_type": "code",
   "execution_count": 50,
   "metadata": {},
   "outputs": [
    {
     "data": {
      "text/html": [
       "<div>\n",
       "<style scoped>\n",
       "    .dataframe tbody tr th:only-of-type {\n",
       "        vertical-align: middle;\n",
       "    }\n",
       "\n",
       "    .dataframe tbody tr th {\n",
       "        vertical-align: top;\n",
       "    }\n",
       "\n",
       "    .dataframe thead th {\n",
       "        text-align: right;\n",
       "    }\n",
       "</style>\n",
       "<table border=\"1\" class=\"dataframe\">\n",
       "  <thead>\n",
       "    <tr style=\"text-align: right;\">\n",
       "      <th></th>\n",
       "      <th>url</th>\n",
       "      <th>header_tag</th>\n",
       "      <th>header_names</th>\n",
       "      <th>links_in_useful_area</th>\n",
       "      <th>date_published</th>\n",
       "      <th>date_last_modified</th>\n",
       "    </tr>\n",
       "  </thead>\n",
       "  <tbody>\n",
       "    <tr>\n",
       "      <th>0</th>\n",
       "      <td>https://sig.ac.in/datascience</td>\n",
       "      <td>[h3, h4]</td>\n",
       "      <td>[[ M.Sc. DATA SCIENCE AND SPATIAL ANALYTICS], ...</td>\n",
       "      <td>#v1; #v2; #v4; #v5; #v6; #v7; #v20; https://dr...</td>\n",
       "      <td>2019-01-01</td>\n",
       "      <td>2021-05-01</td>\n",
       "    </tr>\n",
       "    <tr>\n",
       "      <th>0</th>\n",
       "      <td>https://dsa.iiita.ac.in/</td>\n",
       "      <td>[h1, h2, h3]</td>\n",
       "      <td>[[Master of Technology in Data Science and Ana...</td>\n",
       "      <td>#about; #admission; #apply; #course; #contact;...</td>\n",
       "      <td>2020-10-01</td>\n",
       "      <td>2020-12-01</td>\n",
       "    </tr>\n",
       "    <tr>\n",
       "      <th>0</th>\n",
       "      <td>https://www.amrita.edu/program/m-tech-artifici...</td>\n",
       "      <td>[h3, h2]</td>\n",
       "      <td>[[Highlights of the Specialisation], [Eligibil...</td>\n",
       "      <td>#about; #academics; #research; #facilities; #c...</td>\n",
       "      <td>2021-05-19</td>\n",
       "      <td>2021-05-19</td>\n",
       "    </tr>\n",
       "    <tr>\n",
       "      <th>0</th>\n",
       "      <td>https://www.amrita.edu/program/m-tech-artifici...</td>\n",
       "      <td>[h2, h3, h5]</td>\n",
       "      <td>[[Academics, Curriculum, Electives, Eligibilit...</td>\n",
       "      <td>https://aoap.amrita.edu/mtech/index/; #carouse...</td>\n",
       "      <td>2021-05-19</td>\n",
       "      <td>2021-05-19</td>\n",
       "    </tr>\n",
       "    <tr>\n",
       "      <th>0</th>\n",
       "      <td>https://www.amrita.edu/program/m-tech-computat...</td>\n",
       "      <td>[h3, h2]</td>\n",
       "      <td>[[Fellowship is awarded to meritorious student...</td>\n",
       "      <td>#about; #academics; #research; #facilities; #c...</td>\n",
       "      <td>2020-04-24</td>\n",
       "      <td>2020-04-24</td>\n",
       "    </tr>\n",
       "  </tbody>\n",
       "</table>\n",
       "</div>"
      ],
      "text/plain": [
       "                                                 url    header_tag  \\\n",
       "0                      https://sig.ac.in/datascience      [h3, h4]   \n",
       "0                           https://dsa.iiita.ac.in/  [h1, h2, h3]   \n",
       "0  https://www.amrita.edu/program/m-tech-artifici...      [h3, h2]   \n",
       "0  https://www.amrita.edu/program/m-tech-artifici...  [h2, h3, h5]   \n",
       "0  https://www.amrita.edu/program/m-tech-computat...      [h3, h2]   \n",
       "\n",
       "                                        header_names  \\\n",
       "0  [[ M.Sc. DATA SCIENCE AND SPATIAL ANALYTICS], ...   \n",
       "0  [[Master of Technology in Data Science and Ana...   \n",
       "0  [[Highlights of the Specialisation], [Eligibil...   \n",
       "0  [[Academics, Curriculum, Electives, Eligibilit...   \n",
       "0  [[Fellowship is awarded to meritorious student...   \n",
       "\n",
       "                                links_in_useful_area date_published  \\\n",
       "0  #v1; #v2; #v4; #v5; #v6; #v7; #v20; https://dr...     2019-01-01   \n",
       "0  #about; #admission; #apply; #course; #contact;...     2020-10-01   \n",
       "0  #about; #academics; #research; #facilities; #c...     2021-05-19   \n",
       "0  https://aoap.amrita.edu/mtech/index/; #carouse...     2021-05-19   \n",
       "0  #about; #academics; #research; #facilities; #c...     2020-04-24   \n",
       "\n",
       "  date_last_modified  \n",
       "0         2021-05-01  \n",
       "0         2020-12-01  \n",
       "0         2021-05-19  \n",
       "0         2021-05-19  \n",
       "0         2020-04-24  "
      ]
     },
     "execution_count": 50,
     "metadata": {},
     "output_type": "execute_result"
    }
   ],
   "source": [
    "pgm_other.tail()"
   ]
  },
  {
   "cell_type": "code",
   "execution_count": 51,
   "metadata": {},
   "outputs": [],
   "source": [
    "# save the intermediate forms of files\n",
    "pgm_descr.to_csv('../data/intermediate/program_description.csv', index=False)\n",
    "pgm_other.to_csv('../data/intermediate/program_other_data.csv', index=False)"
   ]
  },
  {
   "cell_type": "code",
   "execution_count": null,
   "metadata": {},
   "outputs": [],
   "source": []
  }
 ],
 "metadata": {
  "interpreter": {
   "hash": "c236e00cb2504b8feadf115dc1fb937fdc1f15d4b269bc00694bd48dbccf7690"
  },
  "kernelspec": {
   "display_name": "Python 3.8.10 64-bit ('capstone_project': conda)",
   "name": "python3"
  },
  "language_info": {
   "name": "python",
   "version": ""
  },
  "orig_nbformat": 2
 },
 "nbformat": 4,
 "nbformat_minor": 2
}