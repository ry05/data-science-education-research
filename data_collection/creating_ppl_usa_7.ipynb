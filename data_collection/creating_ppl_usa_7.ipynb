{
 "metadata": {
  "language_info": {
   "codemirror_mode": {
    "name": "ipython",
    "version": 3
   },
   "file_extension": ".py",
   "mimetype": "text/x-python",
   "name": "python",
   "nbconvert_exporter": "python",
   "pygments_lexer": "ipython3",
   "version": "3.8.10"
  },
  "orig_nbformat": 2,
  "kernelspec": {
   "name": "python3810jvsc74a57bd0c236e00cb2504b8feadf115dc1fb937fdc1f15d4b269bc00694bd48dbccf7690",
   "display_name": "Python 3.8.10 64-bit ('capstone_project': conda)"
  }
 },
 "nbformat": 4,
 "nbformat_minor": 2,
 "cells": [
  {
   "cell_type": "code",
   "execution_count": 1,
   "metadata": {},
   "outputs": [],
   "source": [
    "import pandas as pd"
   ]
  },
  {
   "cell_type": "code",
   "execution_count": 2,
   "metadata": {},
   "outputs": [],
   "source": [
    "ms = pd.read_csv('data/masterstudies_usa_filtered_jun1_2021.csv')\n",
    "fam = pd.read_csv('data/findamasters_usa_filtered_jun1_2021.csv')\n",
    "spm = pd.read_csv('data/studyportalsmasters_usa_filtered_jun2_2021.csv')"
   ]
  },
  {
   "cell_type": "code",
   "execution_count": 7,
   "metadata": {},
   "outputs": [],
   "source": [
    "datasets = [ms, fam, spm]"
   ]
  },
  {
   "cell_type": "code",
   "execution_count": 4,
   "metadata": {},
   "outputs": [
    {
     "output_type": "execute_result",
     "data": {
      "text/plain": [
       "                       title  \\\n",
       "0               MS Analytics   \n",
       "1  MS in Marketing Analytics   \n",
       "\n",
       "                                                 url  \\\n",
       "0  https://www.masterstudies.com/MS-Analytics/USA...   \n",
       "1  https://www.masterstudies.com/MS-in-Marketing-...   \n",
       "\n",
       "                                          school degree  \\\n",
       "0  Kogod School of Business, American University    MSc   \n",
       "1            University of Maryland College Park    MSc   \n",
       "\n",
       "                                                pace     duration  \\\n",
       "0  Full-time                                     ...     1-3Years   \n",
       "1                                          Full-time  10-16Months   \n",
       "\n",
       "           based  point_duration  \n",
       "0  Campus Online            24.0  \n",
       "1         Campus            13.0  "
      ],
      "text/html": "<div>\n<style scoped>\n    .dataframe tbody tr th:only-of-type {\n        vertical-align: middle;\n    }\n\n    .dataframe tbody tr th {\n        vertical-align: top;\n    }\n\n    .dataframe thead th {\n        text-align: right;\n    }\n</style>\n<table border=\"1\" class=\"dataframe\">\n  <thead>\n    <tr style=\"text-align: right;\">\n      <th></th>\n      <th>title</th>\n      <th>url</th>\n      <th>school</th>\n      <th>degree</th>\n      <th>pace</th>\n      <th>duration</th>\n      <th>based</th>\n      <th>point_duration</th>\n    </tr>\n  </thead>\n  <tbody>\n    <tr>\n      <th>0</th>\n      <td>MS Analytics</td>\n      <td>https://www.masterstudies.com/MS-Analytics/USA...</td>\n      <td>Kogod School of Business, American University</td>\n      <td>MSc</td>\n      <td>Full-time                                     ...</td>\n      <td>1-3Years</td>\n      <td>Campus Online</td>\n      <td>24.0</td>\n    </tr>\n    <tr>\n      <th>1</th>\n      <td>MS in Marketing Analytics</td>\n      <td>https://www.masterstudies.com/MS-in-Marketing-...</td>\n      <td>University of Maryland College Park</td>\n      <td>MSc</td>\n      <td>Full-time</td>\n      <td>10-16Months</td>\n      <td>Campus</td>\n      <td>13.0</td>\n    </tr>\n  </tbody>\n</table>\n</div>"
     },
     "metadata": {},
     "execution_count": 4
    }
   ],
   "source": [
    "ms.head(2)"
   ]
  },
  {
   "cell_type": "code",
   "execution_count": 5,
   "metadata": {},
   "outputs": [
    {
     "output_type": "execute_result",
     "data": {
      "text/plain": [
       "                  title                     institute  \\\n",
       "0    MS in Data Science  George Washington University   \n",
       "1  Data Analytics (MSc)  George Washington University   \n",
       "\n",
       "                                   department  \n",
       "0      Columbian College of Arts and Sciences  \n",
       "1  School of Engineering and Applied Sciences  "
      ],
      "text/html": "<div>\n<style scoped>\n    .dataframe tbody tr th:only-of-type {\n        vertical-align: middle;\n    }\n\n    .dataframe tbody tr th {\n        vertical-align: top;\n    }\n\n    .dataframe thead th {\n        text-align: right;\n    }\n</style>\n<table border=\"1\" class=\"dataframe\">\n  <thead>\n    <tr style=\"text-align: right;\">\n      <th></th>\n      <th>title</th>\n      <th>institute</th>\n      <th>department</th>\n    </tr>\n  </thead>\n  <tbody>\n    <tr>\n      <th>0</th>\n      <td>MS in Data Science</td>\n      <td>George Washington University</td>\n      <td>Columbian College of Arts and Sciences</td>\n    </tr>\n    <tr>\n      <th>1</th>\n      <td>Data Analytics (MSc)</td>\n      <td>George Washington University</td>\n      <td>School of Engineering and Applied Sciences</td>\n    </tr>\n  </tbody>\n</table>\n</div>"
     },
     "metadata": {},
     "execution_count": 5
    }
   ],
   "source": [
    "fam.head(2)"
   ]
  },
  {
   "cell_type": "code",
   "execution_count": 6,
   "metadata": {},
   "outputs": [
    {
     "output_type": "execute_result",
     "data": {
      "text/plain": [
       "                           title degree  \\\n",
       "0                      Analytics  M.Sc.   \n",
       "1  Masters in Business Analytics  M.Sc.   \n",
       "\n",
       "                                              school  \\\n",
       "0  Kogod School of Business, American University ...   \n",
       "1                 Hult International Business School   \n",
       "\n",
       "                                            location               price  \\\n",
       "0  Washington, D. C., Washington, D.C., United St...  1,481 EUR / credit   \n",
       "1           San Francisco, California, United States   38,827 EUR / year   \n",
       "\n",
       "  duration  \n",
       "0   1 year  \n",
       "1   1 year  "
      ],
      "text/html": "<div>\n<style scoped>\n    .dataframe tbody tr th:only-of-type {\n        vertical-align: middle;\n    }\n\n    .dataframe tbody tr th {\n        vertical-align: top;\n    }\n\n    .dataframe thead th {\n        text-align: right;\n    }\n</style>\n<table border=\"1\" class=\"dataframe\">\n  <thead>\n    <tr style=\"text-align: right;\">\n      <th></th>\n      <th>title</th>\n      <th>degree</th>\n      <th>school</th>\n      <th>location</th>\n      <th>price</th>\n      <th>duration</th>\n    </tr>\n  </thead>\n  <tbody>\n    <tr>\n      <th>0</th>\n      <td>Analytics</td>\n      <td>M.Sc.</td>\n      <td>Kogod School of Business, American University ...</td>\n      <td>Washington, D. C., Washington, D.C., United St...</td>\n      <td>1,481 EUR / credit</td>\n      <td>1 year</td>\n    </tr>\n    <tr>\n      <th>1</th>\n      <td>Masters in Business Analytics</td>\n      <td>M.Sc.</td>\n      <td>Hult International Business School</td>\n      <td>San Francisco, California, United States</td>\n      <td>38,827 EUR / year</td>\n      <td>1 year</td>\n    </tr>\n  </tbody>\n</table>\n</div>"
     },
     "metadata": {},
     "execution_count": 6
    }
   ],
   "source": [
    "spm.head(2)"
   ]
  },
  {
   "cell_type": "code",
   "execution_count": 8,
   "metadata": {},
   "outputs": [
    {
     "output_type": "stream",
     "name": "stdout",
     "text": [
      "(66, 8)\n(15, 3)\n(173, 6)\n"
     ]
    }
   ],
   "source": [
    "for d in datasets:\n",
    "    print(d.shape)"
   ]
  },
  {
   "source": [
    "## Combine datasets"
   ],
   "cell_type": "markdown",
   "metadata": {}
  },
  {
   "cell_type": "code",
   "execution_count": 13,
   "metadata": {},
   "outputs": [
    {
     "output_type": "stream",
     "name": "stdout",
     "text": [
      "<class 'pandas.core.frame.DataFrame'>\nRangeIndex: 15 entries, 0 to 14\nData columns (total 3 columns):\n #   Column      Non-Null Count  Dtype \n---  ------      --------------  ----- \n 0   title       15 non-null     object\n 1   institute   15 non-null     object\n 2   department  15 non-null     object\ndtypes: object(3)\nmemory usage: 488.0+ bytes\n"
     ]
    }
   ],
   "source": [
    "fam.info()"
   ]
  },
  {
   "cell_type": "code",
   "execution_count": 14,
   "metadata": {},
   "outputs": [
    {
     "output_type": "stream",
     "name": "stdout",
     "text": [
      "<class 'pandas.core.frame.DataFrame'>\nRangeIndex: 66 entries, 0 to 65\nData columns (total 8 columns):\n #   Column          Non-Null Count  Dtype  \n---  ------          --------------  -----  \n 0   title           66 non-null     object \n 1   url             66 non-null     object \n 2   school          66 non-null     object \n 3   degree          66 non-null     object \n 4   pace            66 non-null     object \n 5   duration        66 non-null     object \n 6   based           66 non-null     object \n 7   point_duration  66 non-null     float64\ndtypes: float64(1), object(7)\nmemory usage: 4.2+ KB\n"
     ]
    }
   ],
   "source": [
    "ms.info()"
   ]
  },
  {
   "cell_type": "code",
   "execution_count": 15,
   "metadata": {},
   "outputs": [
    {
     "output_type": "stream",
     "name": "stdout",
     "text": [
      "<class 'pandas.core.frame.DataFrame'>\nRangeIndex: 173 entries, 0 to 172\nData columns (total 6 columns):\n #   Column    Non-Null Count  Dtype \n---  ------    --------------  ----- \n 0   title     173 non-null    object\n 1   degree    173 non-null    object\n 2   school    173 non-null    object\n 3   location  173 non-null    object\n 4   price     173 non-null    object\n 5   duration  173 non-null    object\ndtypes: object(6)\nmemory usage: 8.2+ KB\n"
     ]
    }
   ],
   "source": [
    "spm.info()"
   ]
  },
  {
   "cell_type": "code",
   "execution_count": 19,
   "metadata": {},
   "outputs": [],
   "source": [
    "ms = ms.rename(columns={\n",
    "    'school': 'institution'\n",
    "})\n",
    "fam = fam.rename(columns={\n",
    "    'institute': 'institution'\n",
    "})\n",
    "spm = spm.rename(columns={\n",
    "    'school': 'institution'\n",
    "})\n"
   ]
  },
  {
   "cell_type": "code",
   "execution_count": 20,
   "metadata": {},
   "outputs": [
    {
     "output_type": "execute_result",
     "data": {
      "text/plain": [
       "                       title  \\\n",
       "0               MS Analytics   \n",
       "1  MS in Marketing Analytics   \n",
       "\n",
       "                                                 url  \\\n",
       "0  https://www.masterstudies.com/MS-Analytics/USA...   \n",
       "1  https://www.masterstudies.com/MS-in-Marketing-...   \n",
       "\n",
       "                                     institution degree  \\\n",
       "0  Kogod School of Business, American University    MSc   \n",
       "1            University of Maryland College Park    MSc   \n",
       "\n",
       "                                                pace     duration  \\\n",
       "0  Full-time                                     ...     1-3Years   \n",
       "1                                          Full-time  10-16Months   \n",
       "\n",
       "           based  point_duration  \n",
       "0  Campus Online            24.0  \n",
       "1         Campus            13.0  "
      ],
      "text/html": "<div>\n<style scoped>\n    .dataframe tbody tr th:only-of-type {\n        vertical-align: middle;\n    }\n\n    .dataframe tbody tr th {\n        vertical-align: top;\n    }\n\n    .dataframe thead th {\n        text-align: right;\n    }\n</style>\n<table border=\"1\" class=\"dataframe\">\n  <thead>\n    <tr style=\"text-align: right;\">\n      <th></th>\n      <th>title</th>\n      <th>url</th>\n      <th>institution</th>\n      <th>degree</th>\n      <th>pace</th>\n      <th>duration</th>\n      <th>based</th>\n      <th>point_duration</th>\n    </tr>\n  </thead>\n  <tbody>\n    <tr>\n      <th>0</th>\n      <td>MS Analytics</td>\n      <td>https://www.masterstudies.com/MS-Analytics/USA...</td>\n      <td>Kogod School of Business, American University</td>\n      <td>MSc</td>\n      <td>Full-time                                     ...</td>\n      <td>1-3Years</td>\n      <td>Campus Online</td>\n      <td>24.0</td>\n    </tr>\n    <tr>\n      <th>1</th>\n      <td>MS in Marketing Analytics</td>\n      <td>https://www.masterstudies.com/MS-in-Marketing-...</td>\n      <td>University of Maryland College Park</td>\n      <td>MSc</td>\n      <td>Full-time</td>\n      <td>10-16Months</td>\n      <td>Campus</td>\n      <td>13.0</td>\n    </tr>\n  </tbody>\n</table>\n</div>"
     },
     "metadata": {},
     "execution_count": 20
    }
   ],
   "source": [
    "ms.head(2)"
   ]
  },
  {
   "cell_type": "code",
   "execution_count": 21,
   "metadata": {},
   "outputs": [
    {
     "output_type": "execute_result",
     "data": {
      "text/plain": [
       "                  title                   institution  \\\n",
       "0    MS in Data Science  George Washington University   \n",
       "1  Data Analytics (MSc)  George Washington University   \n",
       "\n",
       "                                   department  \n",
       "0      Columbian College of Arts and Sciences  \n",
       "1  School of Engineering and Applied Sciences  "
      ],
      "text/html": "<div>\n<style scoped>\n    .dataframe tbody tr th:only-of-type {\n        vertical-align: middle;\n    }\n\n    .dataframe tbody tr th {\n        vertical-align: top;\n    }\n\n    .dataframe thead th {\n        text-align: right;\n    }\n</style>\n<table border=\"1\" class=\"dataframe\">\n  <thead>\n    <tr style=\"text-align: right;\">\n      <th></th>\n      <th>title</th>\n      <th>institution</th>\n      <th>department</th>\n    </tr>\n  </thead>\n  <tbody>\n    <tr>\n      <th>0</th>\n      <td>MS in Data Science</td>\n      <td>George Washington University</td>\n      <td>Columbian College of Arts and Sciences</td>\n    </tr>\n    <tr>\n      <th>1</th>\n      <td>Data Analytics (MSc)</td>\n      <td>George Washington University</td>\n      <td>School of Engineering and Applied Sciences</td>\n    </tr>\n  </tbody>\n</table>\n</div>"
     },
     "metadata": {},
     "execution_count": 21
    }
   ],
   "source": [
    "fam.head(2)"
   ]
  },
  {
   "cell_type": "code",
   "execution_count": 24,
   "metadata": {},
   "outputs": [],
   "source": [
    "temp = ms.merge(right=fam, on=['institution', 'title'])"
   ]
  },
  {
   "cell_type": "code",
   "execution_count": 35,
   "metadata": {},
   "outputs": [
    {
     "output_type": "execute_result",
     "data": {
      "text/plain": [
       "{'Arizona State University',\n",
       " 'Drew University',\n",
       " \"Saint Peter's University\",\n",
       " 'San Diego State University',\n",
       " 'Texas State University',\n",
       " 'Yeshiva University'}"
      ]
     },
     "metadata": {},
     "execution_count": 35
    }
   ],
   "source": [
    "set((list(ms.institution))).intersection(set(list(spm.institution)))"
   ]
  },
  {
   "cell_type": "code",
   "execution_count": 33,
   "metadata": {},
   "outputs": [
    {
     "output_type": "execute_result",
     "data": {
      "text/plain": [
       "array(['Kogod School of Business, American University',\n",
       "       'University of Maryland College Park',\n",
       "       'Stevens Institute of Technology - Graduate Studies',\n",
       "       'University of Memphis',\n",
       "       'Gies College of Business at the University of Illinois Urbana-Champaign',\n",
       "       'University of San Francisco - College of Arts & Sciences',\n",
       "       'Babson College', 'The University of Findlay',\n",
       "       'Hawaii Pacific University', \"Saint Peter's University\",\n",
       "       'Tufts University - Graduate School of Arts and Sciences',\n",
       "       'Georgetown University - Graduate School of Arts & Sciences',\n",
       "       'Rochester Institute of Technology (RIT)',\n",
       "       'University of North Dakota College of Engineering and Mines',\n",
       "       'Case Western Reserve University, Weatherhead School of Management',\n",
       "       'San Diego State University',\n",
       "       'Nova Southeastern University, College of Computing and Engineering',\n",
       "       'North Dakota State University', 'Drew University',\n",
       "       'College of Charleston', 'Northern Arizona University',\n",
       "       'University of North Texas College of Engineering',\n",
       "       'New Jersey City University',\n",
       "       'University of Pittsburgh School of Education',\n",
       "       'Mercyhurst University', 'Embry-Riddle Aeronautical University',\n",
       "       'Syracuse University - College of Arts and Sciences',\n",
       "       'Syracuse University - iSchool',\n",
       "       'NYU Steinhardt School of Culture, Education and Human Development',\n",
       "       'The University of Texas at Dallas',\n",
       "       'Rice University | Wiess School of Natural Sciences',\n",
       "       'Bentley University - McCallum Graduate School of Business',\n",
       "       'Golden Gate University', 'Texas State University',\n",
       "       'University of Indianapolis, School of Business',\n",
       "       'Clarkson University Graduate School',\n",
       "       'University of Illinois at Chicago College of Urban Planning and Public Affairs',\n",
       "       'University of New Haven',\n",
       "       'University of Delaware, Alfred Lerner College of Business & Economics',\n",
       "       'New York Institute of Technology (NYIT)',\n",
       "       'Long Island University, Post Campus', 'Arizona State University',\n",
       "       'Yeshiva University',\n",
       "       'University of San Francisco - School of Management',\n",
       "       'Towson University - College of Business & Economics',\n",
       "       'Leavey School of Business', 'University Bocconi',\n",
       "       'University of South Florida', 'McGovern Education Group',\n",
       "       'Gordon College'], dtype=object)"
      ]
     },
     "metadata": {},
     "execution_count": 33
    }
   ],
   "source": [
    "ms.institution.unique()"
   ]
  },
  {
   "cell_type": "code",
   "execution_count": 30,
   "metadata": {},
   "outputs": [
    {
     "output_type": "execute_result",
     "data": {
      "text/plain": [
       "array(['George Washington University', 'University of San Francisco',\n",
       "       'Georgetown University', 'Rochester Institute of Technology USA',\n",
       "       'The New School', 'Keck Graduate Institute',\n",
       "       'New York Institute of Technology',\n",
       "       'University of Colorado Boulder', 'Johns Hopkins University',\n",
       "       'Simmons University'], dtype=object)"
      ]
     },
     "metadata": {},
     "execution_count": 30
    }
   ],
   "source": [
    "fam.institution.unique()"
   ]
  },
  {
   "cell_type": "code",
   "execution_count": 34,
   "metadata": {},
   "outputs": [
    {
     "output_type": "execute_result",
     "data": {
      "text/plain": [
       "array(['Kogod School of Business, American University Washington DC',\n",
       "       'Hult International Business School', 'Pace University',\n",
       "       'University of Maryland Baltimore County (UMBC)',\n",
       "       'South Dakota State University',\n",
       "       'University of Michigan - Dearborn', 'University of Arizona',\n",
       "       'University at Buffalo SUNY - School of Engineering and Applied Sciences',\n",
       "       'The University of Texas at Arlington', 'Arizona State University',\n",
       "       'Stanford University', 'Davenport University',\n",
       "       'Georgetown University', 'University of Missouri - Columbia',\n",
       "       'University of Southern California', 'Florida State University',\n",
       "       'University of Chicago', 'University of Central Florida',\n",
       "       'Chapman University', 'University of Massachusetts Lowell',\n",
       "       'University of Central Oklahoma', 'University of Texas at Dallas',\n",
       "       'Carnegie Mellon University', 'University of Findlay',\n",
       "       'University of Delaware', 'Grand Valley State University',\n",
       "       'University of Minnesota', 'Northeastern University',\n",
       "       'The University of Texas at San Antonio',\n",
       "       'The University of Vermont', 'Fordham University',\n",
       "       \"St. John's University\", 'California State University Fullerton',\n",
       "       'University of the Pacific', 'University of California, Berkeley',\n",
       "       'Michigan Technological University',\n",
       "       'University of California, San Diego',\n",
       "       'Massachusetts Institute of Technology (MIT)',\n",
       "       'University of Rochester', 'Tufts University',\n",
       "       'Clemson University', 'Drew University', 'Columbia University',\n",
       "       'Robert Morris University', 'Temple University',\n",
       "       'University of North Dakota', \"Saint Peter's University\",\n",
       "       'University of Central Missouri',\n",
       "       'Icahn School of Medicine at Mount Sinai',\n",
       "       'George Washington University',\n",
       "       'The University of Alabama at Birmingham', 'Shepherd University',\n",
       "       'University of Saint Thomas Saint Paul',\n",
       "       'University of Massachusetts Dartmouth',\n",
       "       'Montclair State University', 'Yeshiva University',\n",
       "       'Radford University', 'American University Washington DC',\n",
       "       'The City University of New York',\n",
       "       'Illinois Institute of Technology', 'Johnson & Wales University',\n",
       "       'Colorado School of Mines', 'Georgia Institute of Technology',\n",
       "       'University of Maryland', 'University of Pennsylvania',\n",
       "       'Rowan University', 'California Lutheran University',\n",
       "       'Stockton University', 'Boston University',\n",
       "       'The University of Tennessee at Chattanooga',\n",
       "       'Wittenberg University', 'University of Kentucky',\n",
       "       'Indiana University Bloomington', 'University of Michigan',\n",
       "       'Pennsylvania State University', 'Georgia State University',\n",
       "       'Fairfield University', 'Claremont Graduate University (CGU)',\n",
       "       'San Diego State University', 'Yale University',\n",
       "       'Worcester Polytechnic Institute', 'George Mason University',\n",
       "       'Duke University', 'Catholic University of America',\n",
       "       'Rutgers University', 'Dakota State University',\n",
       "       'Florida International University', 'New York University',\n",
       "       'Alliant International University', 'BAU', 'University of Denver',\n",
       "       'University of Dallas', 'Bentley University',\n",
       "       'Texas Tech University', 'University of San Francisco',\n",
       "       'Central Connecticut State University',\n",
       "       'New Jersey Institute of Technology',\n",
       "       'University of Illinois Springfield', 'Clarkson University',\n",
       "       'Utah State University', 'MIT Sloan School of Management',\n",
       "       'DePaul University', 'Rochester Institute of Technology',\n",
       "       'Colorado State University', 'San Francisco State University',\n",
       "       'Lipscomb University', 'Harvard University',\n",
       "       'Indiana University - Purdue University Indianapolis',\n",
       "       'University of Houston Downtown', 'Pratt Institute',\n",
       "       \"Saint Mary's University of Minnesota\",\n",
       "       'Wentworth Institute of Technology',\n",
       "       'Stevens Institute of Technology', 'College of William & Mary',\n",
       "       'Politecnico di Torino', 'University of Cincinnati',\n",
       "       'University of Georgia', 'Texas State University',\n",
       "       'Drexel University College of Engineering',\n",
       "       'Johns Hopkins University', 'Fitchburg State University',\n",
       "       'University of Wisconsin Madison',\n",
       "       'University of California, Los Angeles (UCLA)',\n",
       "       'Hamline University', 'University of New Hampshire',\n",
       "       'Rockhurst University', 'University of Illinois at Chicago',\n",
       "       'Manhattan College'], dtype=object)"
      ]
     },
     "metadata": {},
     "execution_count": 34
    }
   ],
   "source": [
    "spm.institution.unique()"
   ]
  },
  {
   "cell_type": "code",
   "execution_count": 36,
   "metadata": {},
   "outputs": [
    {
     "output_type": "execute_result",
     "data": {
      "text/plain": [
       "                                 title     degree  \\\n",
       "0                            Analytics      M.Sc.   \n",
       "1        Masters in Business Analytics      M.Sc.   \n",
       "2  Customer Intelligence and Analytics      M.Sc.   \n",
       "3                         Data Science  Full-time   \n",
       "4                         Data Science      M.Sc.   \n",
       "\n",
       "                                         institution  \\\n",
       "0  Kogod School of Business, American University ...   \n",
       "1                 Hult International Business School   \n",
       "2                                    Pace University   \n",
       "3     University of Maryland Baltimore County (UMBC)   \n",
       "4                      South Dakota State University   \n",
       "\n",
       "                                            location               price  \\\n",
       "0  Washington, D. C., Washington, D.C., United St...  1,481 EUR / credit   \n",
       "1           San Francisco, California, United States   38,827 EUR / year   \n",
       "2             New York City, New York, United States  1,099 EUR / credit   \n",
       "3       Baltimore Highlands, Maryland, United States    925 EUR / credit   \n",
       "4             Brookings, South Dakota, United States    530 EUR / credit   \n",
       "\n",
       "  duration  \n",
       "0   1 year  \n",
       "1   1 year  \n",
       "2   1 year  \n",
       "3   1 year  \n",
       "4  2 years  "
      ],
      "text/html": "<div>\n<style scoped>\n    .dataframe tbody tr th:only-of-type {\n        vertical-align: middle;\n    }\n\n    .dataframe tbody tr th {\n        vertical-align: top;\n    }\n\n    .dataframe thead th {\n        text-align: right;\n    }\n</style>\n<table border=\"1\" class=\"dataframe\">\n  <thead>\n    <tr style=\"text-align: right;\">\n      <th></th>\n      <th>title</th>\n      <th>degree</th>\n      <th>institution</th>\n      <th>location</th>\n      <th>price</th>\n      <th>duration</th>\n    </tr>\n  </thead>\n  <tbody>\n    <tr>\n      <th>0</th>\n      <td>Analytics</td>\n      <td>M.Sc.</td>\n      <td>Kogod School of Business, American University ...</td>\n      <td>Washington, D. C., Washington, D.C., United St...</td>\n      <td>1,481 EUR / credit</td>\n      <td>1 year</td>\n    </tr>\n    <tr>\n      <th>1</th>\n      <td>Masters in Business Analytics</td>\n      <td>M.Sc.</td>\n      <td>Hult International Business School</td>\n      <td>San Francisco, California, United States</td>\n      <td>38,827 EUR / year</td>\n      <td>1 year</td>\n    </tr>\n    <tr>\n      <th>2</th>\n      <td>Customer Intelligence and Analytics</td>\n      <td>M.Sc.</td>\n      <td>Pace University</td>\n      <td>New York City, New York, United States</td>\n      <td>1,099 EUR / credit</td>\n      <td>1 year</td>\n    </tr>\n    <tr>\n      <th>3</th>\n      <td>Data Science</td>\n      <td>Full-time</td>\n      <td>University of Maryland Baltimore County (UMBC)</td>\n      <td>Baltimore Highlands, Maryland, United States</td>\n      <td>925 EUR / credit</td>\n      <td>1 year</td>\n    </tr>\n    <tr>\n      <th>4</th>\n      <td>Data Science</td>\n      <td>M.Sc.</td>\n      <td>South Dakota State University</td>\n      <td>Brookings, South Dakota, United States</td>\n      <td>530 EUR / credit</td>\n      <td>2 years</td>\n    </tr>\n  </tbody>\n</table>\n</div>"
     },
     "metadata": {},
     "execution_count": 36
    }
   ],
   "source": [
    "spm.head()"
   ]
  },
  {
   "cell_type": "code",
   "execution_count": 45,
   "metadata": {},
   "outputs": [
    {
     "output_type": "stream",
     "name": "stdout",
     "text": [
      "Data Analytics and Visualization\nData Analysis and Visualization\nData Analytics and Visualization\nArtificial Intelligence, Computer Vision, and Control\n"
     ]
    }
   ],
   "source": [
    "for t in list(spm.title):\n",
    "    if 'vis' in t.lower():\n",
    "        print(t)"
   ]
  }
 ]
}